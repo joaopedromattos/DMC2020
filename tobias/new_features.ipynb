{
 "cells": [
  {
   "cell_type": "code",
   "execution_count": 2,
   "metadata": {},
   "outputs": [],
   "source": [
    "import matplotlib.pyplot as plt\n",
    "import numpy as np\n",
    "import pandas as pd"
   ]
  },
  {
   "cell_type": "code",
   "execution_count": 3,
   "metadata": {},
   "outputs": [],
   "source": [
    "infos = pd.read_csv('../../data/infos.csv', sep = '|')"
   ]
  },
  {
   "cell_type": "code",
   "execution_count": 4,
   "metadata": {},
   "outputs": [],
   "source": [
    "items = pd.read_csv('../../data/items.csv', sep = '|')"
   ]
  },
  {
   "cell_type": "code",
   "execution_count": 5,
   "metadata": {},
   "outputs": [],
   "source": [
    "orders = pd.read_csv('../../data/orders.csv', sep = '|', parse_dates=['time'])"
   ]
  },
  {
   "cell_type": "markdown",
   "metadata": {},
   "source": [
    "## - Creating the structure"
   ]
  },
  {
   "cell_type": "code",
   "execution_count": 6,
   "metadata": {},
   "outputs": [],
   "source": [
    "df = orders.copy()"
   ]
  },
  {
   "cell_type": "code",
   "execution_count": 7,
   "metadata": {},
   "outputs": [],
   "source": [
    "df['weekpair'] = (df.time.dt.dayofyear + 1) // 14 - 13"
   ]
  },
  {
   "cell_type": "code",
   "execution_count": 8,
   "metadata": {},
   "outputs": [],
   "source": [
    "npairs = df.weekpair.nunique()"
   ]
  },
  {
   "cell_type": "code",
   "execution_count": 9,
   "metadata": {},
   "outputs": [
    {
     "name": "stdout",
     "output_type": "stream",
     "text": [
      "total number of items: 10463\n",
      "expected number of instances: 136019\n"
     ]
    }
   ],
   "source": [
    "n_items = items['itemID'].nunique()\n",
    "print('total number of items:', n_items)\n",
    "print('expected number of instances:', n_items * npairs)"
   ]
  },
  {
   "cell_type": "code",
   "execution_count": 10,
   "metadata": {},
   "outputs": [],
   "source": [
    "mi = pd.MultiIndex.from_product([range(-npairs, 0), items['itemID']], names=['weekpair', 'itemID'])\n",
    "data_temp = pd.DataFrame(index = mi)"
   ]
  },
  {
   "cell_type": "code",
   "execution_count": 11,
   "metadata": {},
   "outputs": [],
   "source": [
    "data_temp = data_temp.join(df.groupby(['weekpair', 'itemID'])[['order']].sum(), how = 'left')"
   ]
  },
  {
   "cell_type": "code",
   "execution_count": 12,
   "metadata": {},
   "outputs": [],
   "source": [
    "data_temp.fillna(0, inplace = True)"
   ]
  },
  {
   "cell_type": "code",
   "execution_count": 13,
   "metadata": {},
   "outputs": [
    {
     "data": {
      "text/plain": [
       "order    13\n",
       "dtype: int64"
      ]
     },
     "execution_count": 13,
     "metadata": {},
     "output_type": "execute_result"
    }
   ],
   "source": [
    "data_temp.groupby('itemID').count().min()"
   ]
  },
  {
   "cell_type": "code",
   "execution_count": 14,
   "metadata": {},
   "outputs": [],
   "source": [
    "# data_temp"
   ]
  },
  {
   "cell_type": "markdown",
   "metadata": {},
   "source": [
    "## - Creating features"
   ]
  },
  {
   "cell_type": "code",
   "execution_count": 544,
   "metadata": {},
   "outputs": [],
   "source": [
    "data = data_temp.reset_index()"
   ]
  },
  {
   "cell_type": "code",
   "execution_count": 545,
   "metadata": {},
   "outputs": [
    {
     "data": {
      "text/html": [
       "<div>\n",
       "<style scoped>\n",
       "    .dataframe tbody tr th:only-of-type {\n",
       "        vertical-align: middle;\n",
       "    }\n",
       "\n",
       "    .dataframe tbody tr th {\n",
       "        vertical-align: top;\n",
       "    }\n",
       "\n",
       "    .dataframe thead th {\n",
       "        text-align: right;\n",
       "    }\n",
       "</style>\n",
       "<table border=\"1\" class=\"dataframe\">\n",
       "  <thead>\n",
       "    <tr style=\"text-align: right;\">\n",
       "      <th></th>\n",
       "      <th>itemID</th>\n",
       "      <th>brand</th>\n",
       "      <th>manufacturer</th>\n",
       "      <th>customerRating</th>\n",
       "      <th>category1</th>\n",
       "      <th>category2</th>\n",
       "      <th>category3</th>\n",
       "      <th>recommendedRetailPrice</th>\n",
       "    </tr>\n",
       "  </thead>\n",
       "  <tbody>\n",
       "    <tr>\n",
       "      <th>0</th>\n",
       "      <td>1</td>\n",
       "      <td>0</td>\n",
       "      <td>1</td>\n",
       "      <td>4.38</td>\n",
       "      <td>1</td>\n",
       "      <td>1</td>\n",
       "      <td>1</td>\n",
       "      <td>8.84</td>\n",
       "    </tr>\n",
       "    <tr>\n",
       "      <th>1</th>\n",
       "      <td>2</td>\n",
       "      <td>0</td>\n",
       "      <td>2</td>\n",
       "      <td>3.00</td>\n",
       "      <td>1</td>\n",
       "      <td>2</td>\n",
       "      <td>1</td>\n",
       "      <td>16.92</td>\n",
       "    </tr>\n",
       "  </tbody>\n",
       "</table>\n",
       "</div>"
      ],
      "text/plain": [
       "   itemID  brand  manufacturer  customerRating  category1  category2  \\\n",
       "0       1      0             1            4.38          1          1   \n",
       "1       2      0             2            3.00          1          2   \n",
       "\n",
       "   category3  recommendedRetailPrice  \n",
       "0          1                    8.84  \n",
       "1          1                   16.92  "
      ]
     },
     "execution_count": 545,
     "metadata": {},
     "output_type": "execute_result"
    }
   ],
   "source": [
    "items.head(2)"
   ]
  },
  {
   "cell_type": "code",
   "execution_count": 546,
   "metadata": {},
   "outputs": [],
   "source": [
    "# data = pd.merge(data, items[['itemID', 'manufacturer', 'category1', 'category2', 'category3']], on = 'itemID')\n",
    "data = pd.merge(data, items, on = 'itemID')"
   ]
  },
  {
   "cell_type": "code",
   "execution_count": null,
   "metadata": {},
   "outputs": [],
   "source": []
  },
  {
   "cell_type": "code",
   "execution_count": 547,
   "metadata": {},
   "outputs": [],
   "source": [
    "# features = [\n",
    "#     ('itemID', 'item'),\n",
    "#     ('manufacturer', 'manuf'),\n",
    "#     ('category1', 'cat1'),\n",
    "#     ('category2', 'cat2'),\n",
    "#     ('category3', 'cat3')\n",
    "# ]\n",
    "# for f, n in features:\n",
    "#     if f not in data.columns:\n",
    "#         print('ops', f)"
   ]
  },
  {
   "cell_type": "code",
   "execution_count": 548,
   "metadata": {},
   "outputs": [],
   "source": [
    "# features = [('itemID', 'item')]"
   ]
  },
  {
   "cell_type": "code",
   "execution_count": 549,
   "metadata": {},
   "outputs": [],
   "source": [
    "# # f, name = ('manufacturer', 'manuf')\n",
    "# for f, name in features:\n",
    "#     print(f)\n",
    "#     temp = data.groupby([f, 'weekpair'])[['order']].sum()\n",
    "#     shifted = temp.groupby(f)[['order']].shift(1)\n",
    "#     new_feature_block = pd.DataFrame()\n",
    "#     for n in range(3):\n",
    "#         rolled = shifted.groupby(f, as_index = False)['order'].rolling(2 ** n).mean()\n",
    "#         new_feature_block['%s_%d' % (name, 2 ** n)] = rolled.reset_index(0, drop = True) # rolling has a weird index behavior...\n",
    "#     data = pd.merge(data, new_feature_block.reset_index(), on = [f, 'weekpair'])"
   ]
  },
  {
   "cell_type": "code",
   "execution_count": 550,
   "metadata": {},
   "outputs": [],
   "source": [
    "def gbagg(data, group_cols, targeted_cols, out_names, function, as_index = False):\n",
    "  \n",
    "    X = data.values\n",
    "    col = {c : i for i, c in enumerate(data.columns)}\n",
    "\n",
    "    # values that are going to calculated\n",
    "    new_feat = []\n",
    "    \n",
    "    # numbers of the columns\n",
    "    gcols = [col[c] for c in group_cols]\n",
    "    tcols = [col[c] for c in targeted_cols]\n",
    "    \n",
    "    interval = None\n",
    "    a = None\n",
    "    i = 0\n",
    "    while i < len(X):\n",
    "        a = X[i, gcols]\n",
    "\n",
    "        # find the whole interval of this group\n",
    "        j = i\n",
    "        while j < len(X):\n",
    "            if (X[j, gcols] != a).any():\n",
    "                break\n",
    "            j += 1\n",
    "        interval = X[i:j, tcols]\n",
    "\n",
    "        # apply function on interval, save in new feature\n",
    "        output = function(interval)\n",
    "        new_feat.append(output)\n",
    "\n",
    "        # go to next group\n",
    "        i = j\n",
    "    \n",
    "    idx = data.groupby(group_cols).size().index # this is actually fast...\n",
    "    out_df = pd.DataFrame(new_feat, columns = out_names, index = idx)\n",
    "        \n",
    "    if not as_index:\n",
    "        out_df.reset_index(inplace = True)\n",
    "        \n",
    "    return out_df"
   ]
  },
  {
   "cell_type": "code",
   "execution_count": 551,
   "metadata": {},
   "outputs": [],
   "source": [
    "def gbtransf(data, group_cols, targeted_cols, out_names, function, params = dict()):\n",
    "  \n",
    "    X = data.values\n",
    "    col = {c : i for i, c in enumerate(data.columns)}\n",
    "\n",
    "    # values that are going to calculated\n",
    "    new_feat = np.zeros((len(data), len(out_names)))\n",
    "    \n",
    "    # numbers of the columns\n",
    "    gcols = [col[c] for c in group_cols]\n",
    "    tcols = [col[c] for c in targeted_cols]\n",
    "    \n",
    "    interval = None\n",
    "    a = None\n",
    "    i = 0\n",
    "    while i < len(X):\n",
    "        a = X[i, gcols]\n",
    "\n",
    "        # find the whole interval of this group\n",
    "        j = i\n",
    "        while j < len(X):\n",
    "            if (X[j, gcols] != a).any():\n",
    "                break\n",
    "            j += 1\n",
    "        interval = X[i:j, tcols]\n",
    "\n",
    "        # apply function on interval, save in new feature\n",
    "        output = function(interval, **params)\n",
    "        new_feat[i:j] = output\n",
    "\n",
    "        # go to next group\n",
    "        i = j\n",
    "    \n",
    "    out_df = pd.DataFrame(new_feat, columns = out_names, index = data.index)\n",
    "        \n",
    "    return out_df"
   ]
  },
  {
   "cell_type": "code",
   "execution_count": 552,
   "metadata": {},
   "outputs": [],
   "source": [
    "def shift_and_2n_window(x, ws):\n",
    "#     out = pd.DataFrame(x)\n",
    "#     out = out.shift()\n",
    "#     out = out.rolling(2 ** n).mean()\n",
    "\n",
    "    shifted = np.zeros_like(x) # output\n",
    "    shifted[1:] = x[:-1] # shift\n",
    "    out = np.zeros_like(x, dtype = float)\n",
    "    \n",
    "    # rolling mean\n",
    "    total = shifted[:ws].sum()\n",
    "    out[ws - 1] = total / ws\n",
    "    for i in range(ws, len(out)):\n",
    "        total = total - shifted[i - ws] + shifted[i]\n",
    "        out[i] = total / ws\n",
    "    out[:ws] = np.NaN # maybe ws -1 should be NaN as well for receiving one NaN value when ws > 1\n",
    "    # out[0] = np.NaN # this is always NaN for a shift of 1\n",
    "    return out"
   ]
  },
  {
   "cell_type": "code",
   "execution_count": 553,
   "metadata": {},
   "outputs": [],
   "source": [
    "data.sort_values(['itemID', 'weekpair'], inplace = True)"
   ]
  },
  {
   "cell_type": "code",
   "execution_count": 554,
   "metadata": {},
   "outputs": [],
   "source": [
    "# gbtransf(data, ['itemID', 'weekpair'], ['order'], ['out'], lambda x : np.ones_like(x))"
   ]
  },
  {
   "cell_type": "code",
   "execution_count": 555,
   "metadata": {},
   "outputs": [
    {
     "data": {
      "text/plain": [
       "array([nan, nan, 1.5, 2.5, 3.5, 4.5])"
      ]
     },
     "execution_count": 555,
     "metadata": {},
     "output_type": "execute_result"
    }
   ],
   "source": [
    "shift_and_2n_window(np.array([1 , 2, 3, 4, 5, 6]), 2 ** 1)"
   ]
  },
  {
   "cell_type": "code",
   "execution_count": 556,
   "metadata": {},
   "outputs": [],
   "source": [
    "features = [('itemID', 'item')]"
   ]
  },
  {
   "cell_type": "code",
   "execution_count": 557,
   "metadata": {
    "scrolled": true
   },
   "outputs": [
    {
     "name": "stdout",
     "output_type": "stream",
     "text": [
      "itemID\n"
     ]
    }
   ],
   "source": [
    "for f, name in features:\n",
    "    print(f)\n",
    "    new_feature_block = pd.DataFrame()\n",
    "    for n in range(3):\n",
    "        new_f = gbtransf(data, ['itemID'], ['order'], ['out'], shift_and_2n_window, {'ws' : 2 ** n})\n",
    "        new_feature_block['%s_%d' % (name, 2 ** n)] = new_f['out']\n",
    "#     data = pd.merge(data, new_feature_block.reset_index(), on = [f, 'weekpair'])\n",
    "    data = pd.concat([data, new_feature_block], axis =  1)"
   ]
  },
  {
   "cell_type": "code",
   "execution_count": 558,
   "metadata": {},
   "outputs": [
    {
     "data": {
      "text/plain": [
       "weekpair                  136019\n",
       "itemID                    136019\n",
       "order                     136019\n",
       "brand                     136019\n",
       "manufacturer              136019\n",
       "customerRating            136019\n",
       "category1                 136019\n",
       "category2                 136019\n",
       "category3                 136019\n",
       "recommendedRetailPrice    136019\n",
       "item_1                    125556\n",
       "item_2                    115093\n",
       "item_4                     94167\n",
       "dtype: int64"
      ]
     },
     "execution_count": 558,
     "metadata": {},
     "output_type": "execute_result"
    }
   ],
   "source": [
    "data.count() # the larger the window, more NaN are expected"
   ]
  },
  {
   "cell_type": "code",
   "execution_count": 559,
   "metadata": {},
   "outputs": [],
   "source": [
    "def dist2firstvalue(x):\n",
    "    out = np.zeros_like(x, dtype = float)\n",
    "    first = np.NaN\n",
    "    for i in range(len(x)):\n",
    "        out[i] = first\n",
    "        if x[i] != 0:\n",
    "            first = i\n",
    "            break\n",
    "    if i == len(x) - 1:\n",
    "        return out\n",
    "    for j in range(int(first), len(x)):\n",
    "        out[j] = j - first\n",
    "        \n",
    "    return out"
   ]
  },
  {
   "cell_type": "code",
   "execution_count": 560,
   "metadata": {},
   "outputs": [
    {
     "data": {
      "text/plain": [
       "(array([nan, nan, nan, nan]), array([nan, nan,  0.,  1.,  2.,  3.]))"
      ]
     },
     "execution_count": 560,
     "metadata": {},
     "output_type": "execute_result"
    }
   ],
   "source": [
    "dist2firstvalue(np.array([0 , 0, 0, 0])), dist2firstvalue(np.array([0 , 0, 3, 0, 5, 6]))"
   ]
  },
  {
   "cell_type": "code",
   "execution_count": 561,
   "metadata": {},
   "outputs": [],
   "source": [
    "def dist2firstvalueLeak(x):\n",
    "    out = np.zeros_like(x, dtype = float)\n",
    "    for i in range(len(x)):\n",
    "        if x[i] != 0:\n",
    "            out[i] = 1\n",
    "            break\n",
    "#         else:\n",
    "#             out[i] = -9999\n",
    "        \n",
    "    return out"
   ]
  },
  {
   "cell_type": "code",
   "execution_count": 562,
   "metadata": {},
   "outputs": [
    {
     "data": {
      "text/plain": [
       "array([0., 0., 1., 0., 0., 0.])"
      ]
     },
     "execution_count": 562,
     "metadata": {},
     "output_type": "execute_result"
    }
   ],
   "source": [
    "dist2firstvalueLeak(np.array([0 , 0, 3, 0, 5, 6]))\n",
    "# dist2firstvalue(np.array([0 , 0, 0, 0]))"
   ]
  },
  {
   "cell_type": "code",
   "execution_count": 563,
   "metadata": {},
   "outputs": [],
   "source": [
    "# def dist2lastpeak(x):\n",
    "#     out = np.zeros_like(x, dtype = float)\n",
    "#     peak = np.NaN\n",
    "#     peak_val = 0\n",
    "#     for i in range(0, len(x)):\n",
    "#         out[i] = i - peak\n",
    "#         if x[i] > peak_val:\n",
    "#             peak = i\n",
    "#             peak_val = x[i]\n",
    "        \n",
    "#     return out"
   ]
  },
  {
   "cell_type": "code",
   "execution_count": 564,
   "metadata": {},
   "outputs": [],
   "source": [
    "# dist2lastpeak(np.array([0 , 0, 3, 0, 5, 6]))"
   ]
  },
  {
   "cell_type": "code",
   "execution_count": 565,
   "metadata": {},
   "outputs": [],
   "source": [
    "data.sort_values(['itemID', 'weekpair'], inplace = True)"
   ]
  },
  {
   "cell_type": "code",
   "execution_count": 566,
   "metadata": {},
   "outputs": [],
   "source": [
    "data['dist2firstvalueLeak'] = gbtransf(data, ['itemID'], ['order'], ['out'], dist2firstvalueLeak)['out']\n",
    "# data['dist2lastpeak'] = gbtransf(data, ['itemID'], ['order'], ['out'], dist2lastpeak)['out']"
   ]
  },
  {
   "cell_type": "code",
   "execution_count": 567,
   "metadata": {},
   "outputs": [
    {
     "data": {
      "text/plain": [
       "{-13: 1431.0,\n",
       " -12: 729.0,\n",
       " -11: 371.0,\n",
       " -10: 533.0,\n",
       " -9: 785.0,\n",
       " -8: 909.0,\n",
       " -7: 716.0,\n",
       " -6: 661.0,\n",
       " -5: 785.0,\n",
       " -4: 671.0,\n",
       " -3: 794.0,\n",
       " -2: 727.0,\n",
       " -1: 728.0}"
      ]
     },
     "execution_count": 567,
     "metadata": {},
     "output_type": "execute_result"
    }
   ],
   "source": [
    "data.groupby(\"weekpair\")[\"dist2firstvalueLeak\"].sum().to_dict()"
   ]
  },
  {
   "cell_type": "code",
   "execution_count": 614,
   "metadata": {
    "scrolled": true
   },
   "outputs": [],
   "source": [
    "# del data[\"leak_cat3\"]"
   ]
  },
  {
   "cell_type": "code",
   "execution_count": 569,
   "metadata": {},
   "outputs": [],
   "source": [
    "the_cat = \"manufacturer\""
   ]
  },
  {
   "cell_type": "code",
   "execution_count": 570,
   "metadata": {},
   "outputs": [],
   "source": [
    "sla = data.groupby([\"weekpair\", the_cat])[\"dist2firstvalueLeak\"].sum().reset_index()"
   ]
  },
  {
   "cell_type": "code",
   "execution_count": 571,
   "metadata": {},
   "outputs": [],
   "source": [
    "sla = sla.rename(columns={\"dist2firstvalueLeak\" : \"leak_cat3\"})"
   ]
  },
  {
   "cell_type": "code",
   "execution_count": 572,
   "metadata": {},
   "outputs": [],
   "source": [
    "# acho que mudou nada... opa, mudou sim\n",
    "data = pd.merge(data, sla, on = [\"weekpair\", the_cat])"
   ]
  },
  {
   "cell_type": "code",
   "execution_count": 615,
   "metadata": {},
   "outputs": [],
   "source": [
    "# the_cat = \"brand\""
   ]
  },
  {
   "cell_type": "code",
   "execution_count": 616,
   "metadata": {},
   "outputs": [],
   "source": [
    "# sla = data.groupby([\"weekpair\", the_cat])[\"dist2firstvalueLeak\"].sum().reset_index()"
   ]
  },
  {
   "cell_type": "code",
   "execution_count": 617,
   "metadata": {},
   "outputs": [],
   "source": [
    "# sla = sla.rename(columns={\"dist2firstvalueLeak\" : \"leak_cat4\"})"
   ]
  },
  {
   "cell_type": "code",
   "execution_count": 674,
   "metadata": {},
   "outputs": [],
   "source": [
    "# del data[\"leak_cat4\"]"
   ]
  },
  {
   "cell_type": "code",
   "execution_count": 618,
   "metadata": {},
   "outputs": [],
   "source": [
    "# acho que mudou nada... opa, mudou sim\n",
    "data = pd.merge(data, sla, on = [\"weekpair\", the_cat])"
   ]
  },
  {
   "cell_type": "code",
   "execution_count": 619,
   "metadata": {},
   "outputs": [],
   "source": [
    "data[\"total_new\"] = data[\"weekpair\"].map(data.groupby(\"weekpair\")[\"dist2firstvalueLeak\"].sum().to_dict())"
   ]
  },
  {
   "cell_type": "code",
   "execution_count": 574,
   "metadata": {},
   "outputs": [],
   "source": [
    "data.fillna(0, inplace=True)"
   ]
  },
  {
   "cell_type": "code",
   "execution_count": 575,
   "metadata": {},
   "outputs": [
    {
     "data": {
      "text/html": [
       "<div>\n",
       "<style scoped>\n",
       "    .dataframe tbody tr th:only-of-type {\n",
       "        vertical-align: middle;\n",
       "    }\n",
       "\n",
       "    .dataframe tbody tr th {\n",
       "        vertical-align: top;\n",
       "    }\n",
       "\n",
       "    .dataframe thead th {\n",
       "        text-align: right;\n",
       "    }\n",
       "</style>\n",
       "<table border=\"1\" class=\"dataframe\">\n",
       "  <thead>\n",
       "    <tr style=\"text-align: right;\">\n",
       "      <th></th>\n",
       "      <th>weekpair</th>\n",
       "      <th>itemID</th>\n",
       "      <th>order</th>\n",
       "      <th>brand</th>\n",
       "      <th>manufacturer</th>\n",
       "      <th>customerRating</th>\n",
       "      <th>category1</th>\n",
       "      <th>category2</th>\n",
       "      <th>category3</th>\n",
       "      <th>recommendedRetailPrice</th>\n",
       "      <th>item_1</th>\n",
       "      <th>item_2</th>\n",
       "      <th>item_4</th>\n",
       "      <th>dist2firstvalueLeak</th>\n",
       "      <th>leak_cat3</th>\n",
       "      <th>total_new</th>\n",
       "    </tr>\n",
       "  </thead>\n",
       "  <tbody>\n",
       "    <tr>\n",
       "      <th>0</th>\n",
       "      <td>-13</td>\n",
       "      <td>1</td>\n",
       "      <td>0.0</td>\n",
       "      <td>0</td>\n",
       "      <td>1</td>\n",
       "      <td>4.38</td>\n",
       "      <td>1</td>\n",
       "      <td>1</td>\n",
       "      <td>1</td>\n",
       "      <td>8.84</td>\n",
       "      <td>0.0</td>\n",
       "      <td>0.0</td>\n",
       "      <td>0.00</td>\n",
       "      <td>0.0</td>\n",
       "      <td>5.0</td>\n",
       "      <td>1431.0</td>\n",
       "    </tr>\n",
       "    <tr>\n",
       "      <th>40</th>\n",
       "      <td>-12</td>\n",
       "      <td>1</td>\n",
       "      <td>2.0</td>\n",
       "      <td>0</td>\n",
       "      <td>1</td>\n",
       "      <td>4.38</td>\n",
       "      <td>1</td>\n",
       "      <td>1</td>\n",
       "      <td>1</td>\n",
       "      <td>8.84</td>\n",
       "      <td>0.0</td>\n",
       "      <td>0.0</td>\n",
       "      <td>0.00</td>\n",
       "      <td>1.0</td>\n",
       "      <td>4.0</td>\n",
       "      <td>729.0</td>\n",
       "    </tr>\n",
       "    <tr>\n",
       "      <th>80</th>\n",
       "      <td>-11</td>\n",
       "      <td>1</td>\n",
       "      <td>313.0</td>\n",
       "      <td>0</td>\n",
       "      <td>1</td>\n",
       "      <td>4.38</td>\n",
       "      <td>1</td>\n",
       "      <td>1</td>\n",
       "      <td>1</td>\n",
       "      <td>8.84</td>\n",
       "      <td>2.0</td>\n",
       "      <td>1.0</td>\n",
       "      <td>0.00</td>\n",
       "      <td>0.0</td>\n",
       "      <td>6.0</td>\n",
       "      <td>371.0</td>\n",
       "    </tr>\n",
       "    <tr>\n",
       "      <th>120</th>\n",
       "      <td>-10</td>\n",
       "      <td>1</td>\n",
       "      <td>35.0</td>\n",
       "      <td>0</td>\n",
       "      <td>1</td>\n",
       "      <td>4.38</td>\n",
       "      <td>1</td>\n",
       "      <td>1</td>\n",
       "      <td>1</td>\n",
       "      <td>8.84</td>\n",
       "      <td>313.0</td>\n",
       "      <td>157.5</td>\n",
       "      <td>0.00</td>\n",
       "      <td>0.0</td>\n",
       "      <td>3.0</td>\n",
       "      <td>533.0</td>\n",
       "    </tr>\n",
       "    <tr>\n",
       "      <th>160</th>\n",
       "      <td>-9</td>\n",
       "      <td>1</td>\n",
       "      <td>3.0</td>\n",
       "      <td>0</td>\n",
       "      <td>1</td>\n",
       "      <td>4.38</td>\n",
       "      <td>1</td>\n",
       "      <td>1</td>\n",
       "      <td>1</td>\n",
       "      <td>8.84</td>\n",
       "      <td>35.0</td>\n",
       "      <td>174.0</td>\n",
       "      <td>87.50</td>\n",
       "      <td>0.0</td>\n",
       "      <td>0.0</td>\n",
       "      <td>785.0</td>\n",
       "    </tr>\n",
       "    <tr>\n",
       "      <th>200</th>\n",
       "      <td>-8</td>\n",
       "      <td>1</td>\n",
       "      <td>1.0</td>\n",
       "      <td>0</td>\n",
       "      <td>1</td>\n",
       "      <td>4.38</td>\n",
       "      <td>1</td>\n",
       "      <td>1</td>\n",
       "      <td>1</td>\n",
       "      <td>8.84</td>\n",
       "      <td>3.0</td>\n",
       "      <td>19.0</td>\n",
       "      <td>88.25</td>\n",
       "      <td>0.0</td>\n",
       "      <td>1.0</td>\n",
       "      <td>909.0</td>\n",
       "    </tr>\n",
       "    <tr>\n",
       "      <th>240</th>\n",
       "      <td>-7</td>\n",
       "      <td>1</td>\n",
       "      <td>1.0</td>\n",
       "      <td>0</td>\n",
       "      <td>1</td>\n",
       "      <td>4.38</td>\n",
       "      <td>1</td>\n",
       "      <td>1</td>\n",
       "      <td>1</td>\n",
       "      <td>8.84</td>\n",
       "      <td>1.0</td>\n",
       "      <td>2.0</td>\n",
       "      <td>88.00</td>\n",
       "      <td>0.0</td>\n",
       "      <td>0.0</td>\n",
       "      <td>716.0</td>\n",
       "    </tr>\n",
       "    <tr>\n",
       "      <th>280</th>\n",
       "      <td>-6</td>\n",
       "      <td>1</td>\n",
       "      <td>2.0</td>\n",
       "      <td>0</td>\n",
       "      <td>1</td>\n",
       "      <td>4.38</td>\n",
       "      <td>1</td>\n",
       "      <td>1</td>\n",
       "      <td>1</td>\n",
       "      <td>8.84</td>\n",
       "      <td>1.0</td>\n",
       "      <td>1.0</td>\n",
       "      <td>10.00</td>\n",
       "      <td>0.0</td>\n",
       "      <td>1.0</td>\n",
       "      <td>661.0</td>\n",
       "    </tr>\n",
       "    <tr>\n",
       "      <th>320</th>\n",
       "      <td>-5</td>\n",
       "      <td>1</td>\n",
       "      <td>299.0</td>\n",
       "      <td>0</td>\n",
       "      <td>1</td>\n",
       "      <td>4.38</td>\n",
       "      <td>1</td>\n",
       "      <td>1</td>\n",
       "      <td>1</td>\n",
       "      <td>8.84</td>\n",
       "      <td>2.0</td>\n",
       "      <td>1.5</td>\n",
       "      <td>1.75</td>\n",
       "      <td>0.0</td>\n",
       "      <td>12.0</td>\n",
       "      <td>785.0</td>\n",
       "    </tr>\n",
       "    <tr>\n",
       "      <th>360</th>\n",
       "      <td>-4</td>\n",
       "      <td>1</td>\n",
       "      <td>3.0</td>\n",
       "      <td>0</td>\n",
       "      <td>1</td>\n",
       "      <td>4.38</td>\n",
       "      <td>1</td>\n",
       "      <td>1</td>\n",
       "      <td>1</td>\n",
       "      <td>8.84</td>\n",
       "      <td>299.0</td>\n",
       "      <td>150.5</td>\n",
       "      <td>75.75</td>\n",
       "      <td>0.0</td>\n",
       "      <td>1.0</td>\n",
       "      <td>671.0</td>\n",
       "    </tr>\n",
       "    <tr>\n",
       "      <th>400</th>\n",
       "      <td>-3</td>\n",
       "      <td>1</td>\n",
       "      <td>31.0</td>\n",
       "      <td>0</td>\n",
       "      <td>1</td>\n",
       "      <td>4.38</td>\n",
       "      <td>1</td>\n",
       "      <td>1</td>\n",
       "      <td>1</td>\n",
       "      <td>8.84</td>\n",
       "      <td>3.0</td>\n",
       "      <td>151.0</td>\n",
       "      <td>76.25</td>\n",
       "      <td>0.0</td>\n",
       "      <td>0.0</td>\n",
       "      <td>794.0</td>\n",
       "    </tr>\n",
       "    <tr>\n",
       "      <th>440</th>\n",
       "      <td>-2</td>\n",
       "      <td>1</td>\n",
       "      <td>0.0</td>\n",
       "      <td>0</td>\n",
       "      <td>1</td>\n",
       "      <td>4.38</td>\n",
       "      <td>1</td>\n",
       "      <td>1</td>\n",
       "      <td>1</td>\n",
       "      <td>8.84</td>\n",
       "      <td>31.0</td>\n",
       "      <td>17.0</td>\n",
       "      <td>83.75</td>\n",
       "      <td>0.0</td>\n",
       "      <td>6.0</td>\n",
       "      <td>727.0</td>\n",
       "    </tr>\n",
       "    <tr>\n",
       "      <th>480</th>\n",
       "      <td>-1</td>\n",
       "      <td>1</td>\n",
       "      <td>3.0</td>\n",
       "      <td>0</td>\n",
       "      <td>1</td>\n",
       "      <td>4.38</td>\n",
       "      <td>1</td>\n",
       "      <td>1</td>\n",
       "      <td>1</td>\n",
       "      <td>8.84</td>\n",
       "      <td>0.0</td>\n",
       "      <td>15.5</td>\n",
       "      <td>83.25</td>\n",
       "      <td>0.0</td>\n",
       "      <td>1.0</td>\n",
       "      <td>728.0</td>\n",
       "    </tr>\n",
       "  </tbody>\n",
       "</table>\n",
       "</div>"
      ],
      "text/plain": [
       "     weekpair  itemID  order  brand  manufacturer  customerRating  category1  \\\n",
       "0         -13       1    0.0      0             1            4.38          1   \n",
       "40        -12       1    2.0      0             1            4.38          1   \n",
       "80        -11       1  313.0      0             1            4.38          1   \n",
       "120       -10       1   35.0      0             1            4.38          1   \n",
       "160        -9       1    3.0      0             1            4.38          1   \n",
       "200        -8       1    1.0      0             1            4.38          1   \n",
       "240        -7       1    1.0      0             1            4.38          1   \n",
       "280        -6       1    2.0      0             1            4.38          1   \n",
       "320        -5       1  299.0      0             1            4.38          1   \n",
       "360        -4       1    3.0      0             1            4.38          1   \n",
       "400        -3       1   31.0      0             1            4.38          1   \n",
       "440        -2       1    0.0      0             1            4.38          1   \n",
       "480        -1       1    3.0      0             1            4.38          1   \n",
       "\n",
       "     category2  category3  recommendedRetailPrice  item_1  item_2  item_4  \\\n",
       "0            1          1                    8.84     0.0     0.0    0.00   \n",
       "40           1          1                    8.84     0.0     0.0    0.00   \n",
       "80           1          1                    8.84     2.0     1.0    0.00   \n",
       "120          1          1                    8.84   313.0   157.5    0.00   \n",
       "160          1          1                    8.84    35.0   174.0   87.50   \n",
       "200          1          1                    8.84     3.0    19.0   88.25   \n",
       "240          1          1                    8.84     1.0     2.0   88.00   \n",
       "280          1          1                    8.84     1.0     1.0   10.00   \n",
       "320          1          1                    8.84     2.0     1.5    1.75   \n",
       "360          1          1                    8.84   299.0   150.5   75.75   \n",
       "400          1          1                    8.84     3.0   151.0   76.25   \n",
       "440          1          1                    8.84    31.0    17.0   83.75   \n",
       "480          1          1                    8.84     0.0    15.5   83.25   \n",
       "\n",
       "     dist2firstvalueLeak  leak_cat3  total_new  \n",
       "0                    0.0        5.0     1431.0  \n",
       "40                   1.0        4.0      729.0  \n",
       "80                   0.0        6.0      371.0  \n",
       "120                  0.0        3.0      533.0  \n",
       "160                  0.0        0.0      785.0  \n",
       "200                  0.0        1.0      909.0  \n",
       "240                  0.0        0.0      716.0  \n",
       "280                  0.0        1.0      661.0  \n",
       "320                  0.0       12.0      785.0  \n",
       "360                  0.0        1.0      671.0  \n",
       "400                  0.0        0.0      794.0  \n",
       "440                  0.0        6.0      727.0  \n",
       "480                  0.0        1.0      728.0  "
      ]
     },
     "execution_count": 575,
     "metadata": {},
     "output_type": "execute_result"
    }
   ],
   "source": [
    "# checking if we got what we wanted\n",
    "data.query('itemID == 1')"
   ]
  },
  {
   "cell_type": "code",
   "execution_count": null,
   "metadata": {},
   "outputs": [],
   "source": []
  },
  {
   "cell_type": "code",
   "execution_count": 355,
   "metadata": {},
   "outputs": [],
   "source": [
    "# data['weekswithtrans'] = data.groupby('itemID')['order'].apply(lambda x : (x > 0).cumsum()) / (data['weekpair'] + 14)"
   ]
  },
  {
   "cell_type": "code",
   "execution_count": 356,
   "metadata": {},
   "outputs": [],
   "source": [
    "counts = data.groupby('itemID')['order'].apply(lambda x : (x > 0).sum())"
   ]
  },
  {
   "cell_type": "code",
   "execution_count": 357,
   "metadata": {},
   "outputs": [
    {
     "data": {
      "image/png": "[encoded data removed]",
      "text/plain": [
       "<Figure size 432x288 with 1 Axes>"
      ]
     },
     "metadata": {
      "needs_background": "light"
     },
     "output_type": "display_data"
    }
   ],
   "source": [
    "plt.hist(counts, bins = range(17))\n",
    "plt.ylabel('quantidade de itens')\n",
    "plt.xlabel('semanas com transação')\n",
    "plt.show()"
   ]
  },
  {
   "cell_type": "code",
   "execution_count": 358,
   "metadata": {},
   "outputs": [],
   "source": [
    "# f = 'itemID'\n",
    "# temp = data.groupby([f, 'week'])[['order']].sum()\n",
    "# shifted = temp.groupby(f)[['order']].shift(1)\n",
    "# data['feature'] = (shifted.fillna(0) > 0).groupby(f)[['order']].cumsum().values"
   ]
  },
  {
   "cell_type": "code",
   "execution_count": 359,
   "metadata": {},
   "outputs": [
    {
     "data": {
      "text/html": [
       "<div>\n",
       "<style scoped>\n",
       "    .dataframe tbody tr th:only-of-type {\n",
       "        vertical-align: middle;\n",
       "    }\n",
       "\n",
       "    .dataframe tbody tr th {\n",
       "        vertical-align: top;\n",
       "    }\n",
       "\n",
       "    .dataframe thead th {\n",
       "        text-align: right;\n",
       "    }\n",
       "</style>\n",
       "<table border=\"1\" class=\"dataframe\">\n",
       "  <thead>\n",
       "    <tr style=\"text-align: right;\">\n",
       "      <th></th>\n",
       "      <th>weekpair</th>\n",
       "      <th>itemID</th>\n",
       "      <th>order</th>\n",
       "      <th>brand</th>\n",
       "      <th>manufacturer</th>\n",
       "      <th>customerRating</th>\n",
       "      <th>category1</th>\n",
       "      <th>category2</th>\n",
       "      <th>category3</th>\n",
       "      <th>recommendedRetailPrice</th>\n",
       "      <th>item_1</th>\n",
       "      <th>item_2</th>\n",
       "      <th>item_4</th>\n",
       "      <th>dist2firstvalueLeak</th>\n",
       "      <th>total_new</th>\n",
       "    </tr>\n",
       "  </thead>\n",
       "  <tbody>\n",
       "    <tr>\n",
       "      <th>0</th>\n",
       "      <td>-13</td>\n",
       "      <td>1</td>\n",
       "      <td>0.0</td>\n",
       "      <td>0</td>\n",
       "      <td>1</td>\n",
       "      <td>4.38</td>\n",
       "      <td>1</td>\n",
       "      <td>1</td>\n",
       "      <td>1</td>\n",
       "      <td>8.84</td>\n",
       "      <td>0.0</td>\n",
       "      <td>0.0</td>\n",
       "      <td>0.0</td>\n",
       "      <td>0.0</td>\n",
       "      <td>1431.0</td>\n",
       "    </tr>\n",
       "    <tr>\n",
       "      <th>1</th>\n",
       "      <td>-12</td>\n",
       "      <td>1</td>\n",
       "      <td>2.0</td>\n",
       "      <td>0</td>\n",
       "      <td>1</td>\n",
       "      <td>4.38</td>\n",
       "      <td>1</td>\n",
       "      <td>1</td>\n",
       "      <td>1</td>\n",
       "      <td>8.84</td>\n",
       "      <td>0.0</td>\n",
       "      <td>0.0</td>\n",
       "      <td>0.0</td>\n",
       "      <td>1.0</td>\n",
       "      <td>729.0</td>\n",
       "    </tr>\n",
       "    <tr>\n",
       "      <th>2</th>\n",
       "      <td>-11</td>\n",
       "      <td>1</td>\n",
       "      <td>313.0</td>\n",
       "      <td>0</td>\n",
       "      <td>1</td>\n",
       "      <td>4.38</td>\n",
       "      <td>1</td>\n",
       "      <td>1</td>\n",
       "      <td>1</td>\n",
       "      <td>8.84</td>\n",
       "      <td>2.0</td>\n",
       "      <td>1.0</td>\n",
       "      <td>0.0</td>\n",
       "      <td>0.0</td>\n",
       "      <td>371.0</td>\n",
       "    </tr>\n",
       "    <tr>\n",
       "      <th>3</th>\n",
       "      <td>-10</td>\n",
       "      <td>1</td>\n",
       "      <td>35.0</td>\n",
       "      <td>0</td>\n",
       "      <td>1</td>\n",
       "      <td>4.38</td>\n",
       "      <td>1</td>\n",
       "      <td>1</td>\n",
       "      <td>1</td>\n",
       "      <td>8.84</td>\n",
       "      <td>313.0</td>\n",
       "      <td>157.5</td>\n",
       "      <td>0.0</td>\n",
       "      <td>0.0</td>\n",
       "      <td>533.0</td>\n",
       "    </tr>\n",
       "    <tr>\n",
       "      <th>4</th>\n",
       "      <td>-9</td>\n",
       "      <td>1</td>\n",
       "      <td>3.0</td>\n",
       "      <td>0</td>\n",
       "      <td>1</td>\n",
       "      <td>4.38</td>\n",
       "      <td>1</td>\n",
       "      <td>1</td>\n",
       "      <td>1</td>\n",
       "      <td>8.84</td>\n",
       "      <td>35.0</td>\n",
       "      <td>174.0</td>\n",
       "      <td>87.5</td>\n",
       "      <td>0.0</td>\n",
       "      <td>785.0</td>\n",
       "    </tr>\n",
       "  </tbody>\n",
       "</table>\n",
       "</div>"
      ],
      "text/plain": [
       "   weekpair  itemID  order  brand  manufacturer  customerRating  category1  \\\n",
       "0       -13       1    0.0      0             1            4.38          1   \n",
       "1       -12       1    2.0      0             1            4.38          1   \n",
       "2       -11       1  313.0      0             1            4.38          1   \n",
       "3       -10       1   35.0      0             1            4.38          1   \n",
       "4        -9       1    3.0      0             1            4.38          1   \n",
       "\n",
       "   category2  category3  recommendedRetailPrice  item_1  item_2  item_4  \\\n",
       "0          1          1                    8.84     0.0     0.0     0.0   \n",
       "1          1          1                    8.84     0.0     0.0     0.0   \n",
       "2          1          1                    8.84     2.0     1.0     0.0   \n",
       "3          1          1                    8.84   313.0   157.5     0.0   \n",
       "4          1          1                    8.84    35.0   174.0    87.5   \n",
       "\n",
       "   dist2firstvalueLeak  total_new  \n",
       "0                  0.0     1431.0  \n",
       "1                  1.0      729.0  \n",
       "2                  0.0      371.0  \n",
       "3                  0.0      533.0  \n",
       "4                  0.0      785.0  "
      ]
     },
     "execution_count": 359,
     "metadata": {},
     "output_type": "execute_result"
    }
   ],
   "source": [
    "data.head()"
   ]
  },
  {
   "cell_type": "markdown",
   "metadata": {},
   "source": [
    "##  - Split Data"
   ]
  },
  {
   "cell_type": "code",
   "execution_count": 675,
   "metadata": {},
   "outputs": [],
   "source": [
    "filtered_data = data\n",
    "# filtered_data = data.query(\"dist2firstvalueLeak != -9999\")"
   ]
  },
  {
   "cell_type": "code",
   "execution_count": 676,
   "metadata": {},
   "outputs": [
    {
     "data": {
      "text/plain": [
       "(136019, 136019)"
      ]
     },
     "execution_count": 676,
     "metadata": {},
     "output_type": "execute_result"
    }
   ],
   "source": [
    "len(data), len(filtered_data)"
   ]
  },
  {
   "cell_type": "code",
   "execution_count": 677,
   "metadata": {},
   "outputs": [],
   "source": [
    "sub_week = -1\n",
    "train = filtered_data.query('-13 <= weekpair <= (@sub_week - 2)').reset_index(drop = True)\n",
    "full_train = filtered_data.query('-13 <= weekpair <= (@sub_week - 1)').reset_index(drop = True)\n",
    "val = filtered_data.query('weekpair == (@sub_week - 1)').reset_index(drop = True)\n",
    "sub = filtered_data.query('weekpair == (@sub_week)').reset_index(drop = True)"
   ]
  },
  {
   "cell_type": "code",
   "execution_count": 678,
   "metadata": {},
   "outputs": [
    {
     "data": {
      "text/plain": [
       "(115093, 10463, 10463)"
      ]
     },
     "execution_count": 678,
     "metadata": {},
     "output_type": "execute_result"
    }
   ],
   "source": [
    "len(train), len(val), len(sub)"
   ]
  },
  {
   "cell_type": "code",
   "execution_count": 679,
   "metadata": {},
   "outputs": [],
   "source": [
    "weights = infos.set_index('itemID')['simulationPrice'].to_dict()"
   ]
  },
  {
   "cell_type": "code",
   "execution_count": 680,
   "metadata": {},
   "outputs": [
    {
     "data": {
      "text/plain": [
       "Index(['weekpair', 'itemID', 'order', 'brand', 'manufacturer',\n",
       "       'customerRating', 'category1', 'category2', 'category3',\n",
       "       'recommendedRetailPrice', 'item_1', 'item_2', 'item_4',\n",
       "       'dist2firstvalueLeak', 'leak_cat3', 'total_new'],\n",
       "      dtype='object')"
      ]
     },
     "execution_count": 680,
     "metadata": {},
     "output_type": "execute_result"
    }
   ],
   "source": [
    "train.columns"
   ]
  },
  {
   "cell_type": "code",
   "execution_count": 681,
   "metadata": {},
   "outputs": [],
   "source": [
    "y_train = train.pop('order').values\n",
    "y_full_train = full_train.pop('order').values\n",
    "y_val = val.pop('order').values\n",
    "y_sub = sub.pop('order').values\n",
    "\n",
    "X_train = train.values\n",
    "X_full_train = full_train.values\n",
    "X_val = val.values\n",
    "X_sub = sub.values\n",
    "\n",
    "w_train = train['itemID'].map(weights)\n",
    "w_full_train = full_train['itemID'].map(weights)\n",
    "w_val = val['itemID'].map(weights)\n",
    "w_sub = sub['itemID'].map(weights)"
   ]
  },
  {
   "cell_type": "markdown",
   "metadata": {},
   "source": [
    "<hr>"
   ]
  },
  {
   "cell_type": "markdown",
   "metadata": {},
   "source": [
    "## - Min Expected Error"
   ]
  },
  {
   "cell_type": "code",
   "execution_count": 682,
   "metadata": {},
   "outputs": [],
   "source": [
    "def evaluate(prediction, target, simulationPrice):\n",
    "    return np.sum((prediction - np.maximum(prediction - target, 0) * 1.6)  * simulationPrice)"
   ]
  },
  {
   "cell_type": "code",
   "execution_count": 683,
   "metadata": {},
   "outputs": [],
   "source": [
    "# max expected rmse\n",
    "from sklearn.metrics import mean_squared_error as mse\n",
    "# pred = data.loc[1:12].groupby('itemID')['order'].mean().sort_index()\n",
    "# target_week = data.loc[13:, 'order'].reset_index(level = 0, drop = True).sort_index()\n",
    "# mse(target_week, pred) ** .5"
   ]
  },
  {
   "cell_type": "markdown",
   "metadata": {},
   "source": [
    "<hr>"
   ]
  },
  {
   "cell_type": "markdown",
   "metadata": {},
   "source": [
    "## - XGBoost"
   ]
  },
  {
   "cell_type": "code",
   "execution_count": 684,
   "metadata": {},
   "outputs": [],
   "source": [
    "import xgboost as xgb"
   ]
  },
  {
   "cell_type": "code",
   "execution_count": 685,
   "metadata": {},
   "outputs": [
    {
     "data": {
      "text/plain": [
       "'1.1.0'"
      ]
     },
     "execution_count": 685,
     "metadata": {},
     "output_type": "execute_result"
    }
   ],
   "source": [
    "xgb.__version__"
   ]
  },
  {
   "cell_type": "code",
   "execution_count": 686,
   "metadata": {},
   "outputs": [],
   "source": [
    "# custom objective\n",
    "\n",
    "def gradient(prediction, dtrain):\n",
    "    y = dtrain.get_label()\n",
    "#     prediction.astype(int)\n",
    "#     prediction = np.minimum(prediction.astype(int), 1)\n",
    "    return -2 * (prediction - np.maximum(prediction - y, 0) * 1.6) * (1 - (prediction > y) * 1.6)\n",
    "\n",
    "def hessian(prediction, dtrain):\n",
    "    y = dtrain.get_label()\n",
    "#     prediction.prediction(int)\n",
    "#     prediction = np.minimum(prediction.astype(int), 1)\n",
    "    return -2 * (1 - (prediction > y) * 1.6) ** 2\n",
    "\n",
    "def objective(prediction, dtrain):\n",
    "    w = dtrain.get_weight()\n",
    "    grad = gradient(prediction, dtrain) * w\n",
    "    hess = hessian(prediction, dtrain) * w\n",
    "    return grad, hess"
   ]
  },
  {
   "cell_type": "code",
   "execution_count": 687,
   "metadata": {},
   "outputs": [],
   "source": [
    "# custom feval\n",
    "\n",
    "def feval(prediction, dtrain):\n",
    "    prediction = prediction.astype(int)\n",
    "#     predt = np.minimum(predt.astype(int), 1)\n",
    "    target = dtrain.get_label()\n",
    "    simulationPrice = dtrain.get_weight()\n",
    "    return 'feval', np.sum((prediction - np.maximum(prediction - target, 0) * 1.6)  * simulationPrice)"
   ]
  },
  {
   "cell_type": "code",
   "execution_count": 719,
   "metadata": {
    "scrolled": true
   },
   "outputs": [
    {
     "name": "stdout",
     "output_type": "stream",
     "text": [
      "[0]\ttrain-feval:125829.12803\tval-feval:21798.33789\n",
      "Multiple eval metrics have been passed: 'val-feval' will be used for early stopping.\n",
      "\n",
      "Will train until val-feval hasn't improved in 10 rounds.\n",
      "[1]\ttrain-feval:279189.66806\tval-feval:41590.18178\n",
      "[2]\ttrain-feval:523142.49004\tval-feval:74258.15971\n",
      "[3]\ttrain-feval:693348.87615\tval-feval:95675.84961\n",
      "[4]\ttrain-feval:866579.35839\tval-feval:119568.28749\n",
      "[5]\ttrain-feval:996019.67846\tval-feval:127710.61536\n",
      "[6]\ttrain-feval:1179617.77477\tval-feval:139976.43535\n",
      "[7]\ttrain-feval:1334007.80466\tval-feval:162975.22733\n",
      "[8]\ttrain-feval:1516163.20255\tval-feval:169158.02720\n",
      "[9]\ttrain-feval:1680224.18073\tval-feval:183420.64923\n",
      "[10]\ttrain-feval:1890445.33480\tval-feval:192457.14521\n",
      "[11]\ttrain-feval:2043886.16508\tval-feval:202168.89528\n",
      "[12]\ttrain-feval:2287546.00505\tval-feval:210605.63531\n",
      "[13]\ttrain-feval:2417396.49312\tval-feval:216702.64332\n",
      "[14]\ttrain-feval:2554299.19530\tval-feval:226595.98532\n",
      "[15]\ttrain-feval:2685738.75746\tval-feval:242769.90339\n",
      "[16]\ttrain-feval:2831390.99141\tval-feval:261125.35742\n",
      "[17]\ttrain-feval:2952148.30759\tval-feval:268818.94338\n",
      "[18]\ttrain-feval:3228585.78284\tval-feval:281065.47746\n",
      "[19]\ttrain-feval:3362424.86897\tval-feval:288298.59149\n",
      "[20]\ttrain-feval:3486159.90723\tval-feval:299731.70751\n",
      "[21]\ttrain-feval:3597519.20728\tval-feval:309091.35351\n",
      "[22]\ttrain-feval:3814300.64940\tval-feval:314832.84743\n",
      "[23]\ttrain-feval:3911750.54743\tval-feval:322139.12745\n",
      "[24]\ttrain-feval:4031348.01121\tval-feval:331195.43343\n",
      "[25]\ttrain-feval:4175406.45725\tval-feval:340217.59150\n",
      "[26]\ttrain-feval:4293546.19920\tval-feval:347806.80552\n",
      "[27]\ttrain-feval:4402945.46099\tval-feval:355834.77751\n",
      "[28]\ttrain-feval:4499666.76108\tval-feval:359765.50949\n",
      "[29]\ttrain-feval:4598629.24315\tval-feval:365740.33546\n",
      "[30]\ttrain-feval:4727327.38297\tval-feval:376399.63755\n",
      "[31]\ttrain-feval:4829321.86298\tval-feval:384591.07155\n",
      "[32]\ttrain-feval:4942883.49112\tval-feval:391187.68949\n",
      "[33]\ttrain-feval:5075109.16921\tval-feval:395986.28547\n",
      "[34]\ttrain-feval:5179016.59506\tval-feval:396255.65347\n",
      "[35]\ttrain-feval:5288940.36925\tval-feval:407187.54152\n",
      "[36]\ttrain-feval:5391143.24542\tval-feval:411824.37149\n",
      "[37]\ttrain-feval:5489827.41342\tval-feval:412372.93745\n",
      "[38]\ttrain-feval:5578163.18142\tval-feval:419480.84752\n",
      "[39]\ttrain-feval:5684748.92951\tval-feval:425396.81351\n",
      "[40]\ttrain-feval:5779873.71158\tval-feval:432410.86557\n",
      "[41]\ttrain-feval:5884779.35746\tval-feval:438851.40959\n",
      "[42]\ttrain-feval:6002237.67978\tval-feval:445867.69159\n",
      "[43]\ttrain-feval:6094009.88383\tval-feval:451876.55762\n",
      "[44]\ttrain-feval:6186809.80372\tval-feval:454367.42965\n",
      "[45]\ttrain-feval:6336214.85388\tval-feval:461575.79577\n",
      "[46]\ttrain-feval:6425908.91592\tval-feval:466503.42576\n",
      "[47]\ttrain-feval:6503327.82016\tval-feval:472397.36571\n",
      "[48]\ttrain-feval:6609108.46788\tval-feval:479458.33367\n",
      "[49]\ttrain-feval:6733070.43181\tval-feval:484059.43168\n",
      "[50]\ttrain-feval:6819344.59988\tval-feval:488839.54970\n",
      "[51]\ttrain-feval:6899629.99397\tval-feval:491294.37973\n",
      "[52]\ttrain-feval:6993521.62005\tval-feval:500888.51375\n",
      "[53]\ttrain-feval:7082481.34421\tval-feval:508531.01970\n",
      "[54]\ttrain-feval:7160665.99208\tval-feval:513397.34565\n",
      "[55]\ttrain-feval:7241690.59821\tval-feval:515897.54171\n",
      "[56]\ttrain-feval:7328212.64805\tval-feval:521172.58381\n",
      "[57]\ttrain-feval:7484184.88150\tval-feval:525927.84383\n",
      "[58]\ttrain-feval:7598217.38143\tval-feval:529078.61383\n",
      "[59]\ttrain-feval:7694845.16333\tval-feval:533883.10984\n",
      "[60]\ttrain-feval:7772498.53752\tval-feval:537254.26581\n",
      "[61]\ttrain-feval:7850686.98153\tval-feval:538346.85978\n",
      "[62]\ttrain-feval:7968312.29762\tval-feval:543626.14981\n",
      "[63]\ttrain-feval:8051298.36754\tval-feval:546916.23180\n",
      "[64]\ttrain-feval:8139321.86738\tval-feval:547938.80575\n",
      "[65]\ttrain-feval:8208960.06145\tval-feval:553182.83975\n",
      "[66]\ttrain-feval:8282925.86149\tval-feval:554701.24577\n",
      "[67]\ttrain-feval:8368433.34539\tval-feval:556530.03378\n",
      "[68]\ttrain-feval:8465283.49714\tval-feval:556612.99591\n",
      "[69]\ttrain-feval:8544123.82306\tval-feval:562569.44793\n",
      "[70]\ttrain-feval:8614611.61322\tval-feval:566306.81594\n",
      "[71]\ttrain-feval:8688159.18738\tval-feval:569435.64394\n",
      "[72]\ttrain-feval:8767713.82319\tval-feval:570998.49198\n",
      "[73]\ttrain-feval:8849222.55934\tval-feval:572519.58199\n",
      "[74]\ttrain-feval:8930215.37919\tval-feval:579897.73411\n",
      "[75]\ttrain-feval:9038360.62947\tval-feval:577615.56610\n",
      "[76]\ttrain-feval:9110039.38966\tval-feval:578563.07614\n",
      "[77]\ttrain-feval:9202725.50785\tval-feval:576909.20601\n",
      "[78]\ttrain-feval:9270256.82775\tval-feval:580109.11006\n",
      "[79]\ttrain-feval:9344560.77161\tval-feval:580759.18606\n",
      "[80]\ttrain-feval:9455539.04433\tval-feval:587553.65620\n",
      "[81]\ttrain-feval:9570415.15422\tval-feval:590785.14025\n",
      "[82]\ttrain-feval:9639126.79825\tval-feval:591331.53218\n",
      "[83]\ttrain-feval:9723985.52225\tval-feval:593445.65221\n",
      "[84]\ttrain-feval:9796768.15421\tval-feval:593192.88424\n",
      "[85]\ttrain-feval:9892209.24193\tval-feval:598998.91810\n",
      "[86]\ttrain-feval:9962599.69390\tval-feval:599421.90213\n",
      "[87]\ttrain-feval:10055021.49403\tval-feval:601341.34219\n",
      "[88]\ttrain-feval:10144510.98622\tval-feval:601813.66818\n",
      "[89]\ttrain-feval:10214586.28239\tval-feval:606788.29821\n",
      "[90]\ttrain-feval:10278901.51049\tval-feval:606612.96625\n",
      "[91]\ttrain-feval:10372540.62456\tval-feval:609090.60222\n",
      "[92]\ttrain-feval:10461539.94048\tval-feval:607304.30225\n",
      "[93]\ttrain-feval:10516837.10439\tval-feval:609056.55226\n",
      "[94]\ttrain-feval:10590921.52866\tval-feval:613137.02834\n",
      "[95]\ttrain-feval:10658524.41864\tval-feval:614197.86035\n",
      "[96]\ttrain-feval:10720055.91845\tval-feval:613518.62832\n",
      "[97]\ttrain-feval:10779904.68252\tval-feval:613272.51632\n",
      "[98]\ttrain-feval:10852541.08276\tval-feval:614203.99637\n",
      "[99]\ttrain-feval:10945151.78600\tval-feval:614274.30840\n",
      "[100]\ttrain-feval:11003792.81773\tval-feval:612558.33037\n",
      "[101]\ttrain-feval:11120131.47364\tval-feval:614473.43844\n",
      "[102]\ttrain-feval:11170253.25593\tval-feval:616792.43244\n",
      "[103]\ttrain-feval:11238256.99162\tval-feval:618695.83646\n",
      "[104]\ttrain-feval:11296504.64173\tval-feval:619248.34244\n",
      "[105]\ttrain-feval:11374446.75358\tval-feval:623817.75252\n",
      "[106]\ttrain-feval:11438749.03974\tval-feval:623962.46052\n",
      "[107]\ttrain-feval:11503172.71746\tval-feval:625481.76854\n",
      "[108]\ttrain-feval:11563497.96975\tval-feval:623976.91051\n",
      "[109]\ttrain-feval:11547670.60077\tval-feval:598584.41068\n",
      "[110]\ttrain-feval:11607492.55879\tval-feval:600010.43267\n",
      "[111]\ttrain-feval:11677705.03295\tval-feval:600760.96668\n",
      "[112]\ttrain-feval:11729628.02095\tval-feval:600173.51864\n",
      "[113]\ttrain-feval:11782482.21093\tval-feval:603519.05273\n",
      "[114]\ttrain-feval:11847537.17905\tval-feval:603104.62469\n",
      "[115]\ttrain-feval:11940267.25918\tval-feval:607180.28073\n",
      "[116]\ttrain-feval:12024693.70312\tval-feval:610234.07474\n",
      "[117]\ttrain-feval:12081657.55687\tval-feval:606063.97679\n",
      "Stopping. Best iteration:\n",
      "[107]\ttrain-feval:11503172.71746\tval-feval:625481.76854\n",
      "\n"
     ]
    }
   ],
   "source": [
    "missing = 0\n",
    "dtrain = xgb.DMatrix(X_train, y_train, w_train, missing = missing)\n",
    "dfulltrain = xgb.DMatrix(X_full_train, y_full_train, w_full_train, missing = missing)\n",
    "dval = xgb.DMatrix(X_val, y_val, w_val, missing = missing)\n",
    "dsub = xgb.DMatrix(X_sub, y_sub, w_sub, missing = missing)\n",
    "# specify parameters via map\n",
    "param = {\n",
    "    'max_depth':10,\n",
    "    'eta':0.005,\n",
    "    'objective':'reg:squarederror',\n",
    "    'disable_default_eval_metric': 1,\n",
    "    \"min_child_weight\" : 3,\n",
    "    \n",
    "#     'tree_method' : 'gpu_hist',\n",
    "}\n",
    "num_round = 400\n",
    "bst = xgb.train(param, dtrain,\n",
    "                num_round,\n",
    "                early_stopping_rounds = 10,\n",
    "                evals = [(dtrain, 'train'), (dval, 'val')],\n",
    "#                 obj = objective,\n",
    "                feval = feval,\n",
    "                maximize = True,\n",
    "                )"
   ]
  },
  {
   "cell_type": "code",
   "execution_count": 714,
   "metadata": {},
   "outputs": [
    {
     "data": {
      "text/plain": [
       "601267.9679999999"
      ]
     },
     "execution_count": 714,
     "metadata": {},
     "output_type": "execute_result"
    }
   ],
   "source": [
    "prediction = bst.predict(dsub, ntree_limit=bst.best_ntree_limit).astype(int)\n",
    "evaluate(prediction, y_sub, w_sub)"
   ]
  },
  {
   "cell_type": "code",
   "execution_count": 715,
   "metadata": {},
   "outputs": [],
   "source": [
    "# retrain!"
   ]
  },
  {
   "cell_type": "code",
   "execution_count": 716,
   "metadata": {},
   "outputs": [
    {
     "data": {
      "text/plain": [
       "108"
      ]
     },
     "execution_count": 716,
     "metadata": {},
     "output_type": "execute_result"
    }
   ],
   "source": [
    "bst_sub = xgb.train(param, dfulltrain,\n",
    "    num_boost_round = bst.best_ntree_limit,\n",
    "    #                 obj = objective,\n",
    "    feval = feval, maximize = True,\n",
    "    evals = [(dfulltrain, 'ftrain')],\n",
    "    verbose_eval = False,\n",
    ")\n",
    "bst_sub.best_ntree_limit"
   ]
  },
  {
   "cell_type": "code",
   "execution_count": 717,
   "metadata": {},
   "outputs": [
    {
     "data": {
      "text/plain": [
       "670062.6059999999"
      ]
     },
     "execution_count": 717,
     "metadata": {},
     "output_type": "execute_result"
    }
   ],
   "source": [
    "prediction = bst_sub.predict(dsub, ntree_limit=bst_sub.best_ntree_limit).astype(int)\n",
    "evaluate(prediction, y_sub, w_sub)"
   ]
  },
  {
   "cell_type": "code",
   "execution_count": 410,
   "metadata": {},
   "outputs": [],
   "source": [
    "# some other things below"
   ]
  },
  {
   "cell_type": "code",
   "execution_count": 411,
   "metadata": {},
   "outputs": [
    {
     "data": {
      "text/plain": [
       "7683293.24"
      ]
     },
     "execution_count": 411,
     "metadata": {},
     "output_type": "execute_result"
    }
   ],
   "source": [
    "# max possible score\n",
    "evaluate(y_sub, y_sub, w_sub)"
   ]
  },
  {
   "cell_type": "code",
   "execution_count": 412,
   "metadata": {},
   "outputs": [
    {
     "data": {
      "text/plain": [
       "-3425880.0980000007"
      ]
     },
     "execution_count": 412,
     "metadata": {},
     "output_type": "execute_result"
    }
   ],
   "source": [
    "# using previous weekpair\n",
    "evaluate(y_val, y_sub, w_sub)"
   ]
  },
  {
   "cell_type": "code",
   "execution_count": 413,
   "metadata": {},
   "outputs": [],
   "source": [
    "submission = items[['itemID']].copy()\n",
    "submission['demandPrediction'] = bst.predict(dsub, ntree_limit=bst.best_ntree_limit).astype(int)\n",
    "submission.to_csv('../../submissions/sub_inclass_03.csv', sep = '|', index=False)\n",
    "# submission.head()"
   ]
  },
  {
   "cell_type": "markdown",
   "metadata": {},
   "source": [
    "<hr>"
   ]
  },
  {
   "cell_type": "markdown",
   "metadata": {},
   "source": [
    "## - LGBM"
   ]
  },
  {
   "cell_type": "code",
   "execution_count": 643,
   "metadata": {},
   "outputs": [],
   "source": [
    "def feval_lgbm(prediction, dtrain):\n",
    "    prediction = prediction.astype(int)\n",
    "    target = dtrain.get_label()\n",
    "    simulationPrice = dtrain.get_weight()\n",
    "    return 'feval', np.sum((prediction - np.maximum(prediction - target, 0) * 1.6)  * simulationPrice), True"
   ]
  },
  {
   "cell_type": "code",
   "execution_count": 644,
   "metadata": {},
   "outputs": [
    {
     "name": "stdout",
     "output_type": "stream",
     "text": [
      "Training until validation scores don't improve for 5 rounds\n",
      "[5]\ttrain's l1: 4.61106\ttrain's feval: 1.13799e+06\tval's l1: 6.12455\tval's feval: 54985\n",
      "[10]\ttrain's l1: 4.5428\ttrain's feval: 2.14648e+06\tval's l1: 6.07186\tval's feval: 120882\n",
      "[15]\ttrain's l1: 4.52136\ttrain's feval: 2.54342e+06\tval's l1: 6.02974\tval's feval: 186641\n",
      "[20]\ttrain's l1: 4.60183\ttrain's feval: 1.73941e+06\tval's l1: 6.01208\tval's feval: 223652\n",
      "[25]\ttrain's l1: 4.77383\ttrain's feval: -703877\tval's l1: 6.00425\tval's feval: 244921\n",
      "[30]\ttrain's l1: 4.91938\ttrain's feval: -2.44577e+06\tval's l1: 6.00897\tval's feval: 256205\n",
      "[35]\ttrain's l1: 4.8319\ttrain's feval: -1.27484e+06\tval's l1: 5.9877\tval's feval: 273471\n",
      "Early stopping, best iteration is:\n",
      "[34]\ttrain's l1: 4.84571\ttrain's feval: -1.40621e+06\tval's l1: 5.98657\tval's feval: 276571\n"
     ]
    }
   ],
   "source": [
    "import lightgbm as lgb\n",
    "\n",
    "params = {\n",
    "          \"objective\" : 'regression_l1',\n",
    "#           \"metric\" :\"rmse\",\n",
    "          \"learning_rate\" : 0.05,\n",
    "          'verbosity': 2,\n",
    "#           'max_depth': 6,\n",
    "#           'num_leaves': 15,\n",
    "          \"min_data_in_leaf\":1500\n",
    "         }\n",
    "# https://lightgbm.readthedocs.io/en/latest/Parameters.html\n",
    "\n",
    "\n",
    "ds_params = {\n",
    "#     'categorical_feature' : [8, 9, 10],\n",
    "}\n",
    "lgbtrain = lgb.Dataset(X_train, label = y_train, weight=w_train, **ds_params)\n",
    "lgbfulltrain = lgb.Dataset(X_full_train, label = y_full_train, weight=w_full_train, **ds_params)\n",
    "lgbvalid = lgb.Dataset(X_val, label = y_val, weight=w_val, **ds_params)\n",
    "lgbsubmis = lgb.Dataset(X_sub, label = y_sub, weight=w_sub, **ds_params)\n",
    "\n",
    "num_round = 1000\n",
    "lgb_model = lgb.train(params,\n",
    "                  lgbtrain,\n",
    "                  num_round,\n",
    "                  valid_sets = [lgbtrain, lgbvalid],\n",
    "                  valid_names = ['train', 'val'],\n",
    "                  verbose_eval=5,\n",
    "                  early_stopping_rounds=5,\n",
    "                  feval = feval_lgbm,\n",
    "#                   fobj = objective,\n",
    "                 )"
   ]
  },
  {
   "cell_type": "code",
   "execution_count": 645,
   "metadata": {},
   "outputs": [
    {
     "data": {
      "text/plain": [
       "348172.368"
      ]
     },
     "execution_count": 645,
     "metadata": {},
     "output_type": "execute_result"
    }
   ],
   "source": [
    "prediction = lgb_model.predict(X_sub, num_iteration=lgb_model.best_iteration).astype(int)\n",
    "evaluate(prediction, y_sub, w_sub)"
   ]
  },
  {
   "cell_type": "code",
   "execution_count": 646,
   "metadata": {},
   "outputs": [],
   "source": [
    "# retrain!"
   ]
  },
  {
   "cell_type": "code",
   "execution_count": 647,
   "metadata": {},
   "outputs": [
    {
     "name": "stdout",
     "output_type": "stream",
     "text": [
      "[5]\ttrain's l1: 4.73405\ttrain's feval: 1.18954e+06\n",
      "[10]\ttrain's l1: 4.66981\ttrain's feval: 2.33127e+06\n",
      "[15]\ttrain's l1: 4.62713\ttrain's feval: 3.06989e+06\n",
      "[20]\ttrain's l1: 4.58673\ttrain's feval: 3.73909e+06\n",
      "[25]\ttrain's l1: 4.56596\ttrain's feval: 4.30633e+06\n",
      "[30]\ttrain's l1: 4.54644\ttrain's feval: 4.59851e+06\n"
     ]
    }
   ],
   "source": [
    "lgb_model_sub = lgb.train(params,\n",
    "                  lgbfulltrain,\n",
    "                  lgb_model.best_iteration,\n",
    "                  valid_sets = [lgbfulltrain],\n",
    "                  valid_names = ['train'],\n",
    "                  verbose_eval=5,\n",
    "                  early_stopping_rounds=None,\n",
    "                 feval = feval_lgbm,\n",
    "#                   fobj = objective,\n",
    "                 )"
   ]
  },
  {
   "cell_type": "code",
   "execution_count": 648,
   "metadata": {},
   "outputs": [
    {
     "data": {
      "text/plain": [
       "377472.03800000006"
      ]
     },
     "execution_count": 648,
     "metadata": {},
     "output_type": "execute_result"
    }
   ],
   "source": [
    "prediction = lgb_model_sub.predict(X_sub, num_iteration=80).astype(int)\n",
    "evaluate(prediction, y_sub, w_sub)"
   ]
  },
  {
   "cell_type": "markdown",
   "metadata": {},
   "source": [
    "<hr>"
   ]
  },
  {
   "cell_type": "markdown",
   "metadata": {},
   "source": [
    "## - CatBoost"
   ]
  },
  {
   "cell_type": "code",
   "execution_count": 720,
   "metadata": {},
   "outputs": [],
   "source": [
    "from catboost import CatBoost, CatBoostRegressor, Pool"
   ]
  },
  {
   "cell_type": "code",
   "execution_count": 740,
   "metadata": {},
   "outputs": [],
   "source": [
    "smthing =0"
   ]
  },
  {
   "cell_type": "code",
   "execution_count": 763,
   "metadata": {},
   "outputs": [],
   "source": [
    "class feval_cat(object):\n",
    "    def get_final_error(self, error, weight):\n",
    "        # return error / (weight + 1e-38)\n",
    "        return error\n",
    "\n",
    "    def is_max_optimal(self):\n",
    "        return True\n",
    "\n",
    "    def evaluate(self, approxes, target, simulationPrice):\n",
    "#         global smthing\n",
    "#         smthing = [approxes, target, simulationPrice]\n",
    "        prediction = np.array(approxes[0]).astype(int)\n",
    "        target = np.array(target).astype(int)\n",
    "        simulationPrice = np.array(simulationPrice)\n",
    "        score = np.sum((prediction - np.maximum(prediction - target, 0) * 1.6)  * simulationPrice)\n",
    "#         print('score', score)\n",
    "#         print(approxes, type(target), type(simulationPrice))\n",
    "        return score, 0"
   ]
  },
  {
   "cell_type": "code",
   "execution_count": 764,
   "metadata": {
    "scrolled": true
   },
   "outputs": [
    {
     "name": "stdout",
     "output_type": "stream",
     "text": [
      "0:\tlearn: 1979087.2634320\ttest: 1979087.2634320\ttest1: 92926.9761388\tbest: 92926.9761388 (0)\ttotal: 138ms\tremaining: 2m 17s\n",
      "1:\tlearn: 3195453.8695315\ttest: 3195453.8695315\ttest1: 155602.1303953\tbest: 155602.1303953 (1)\ttotal: 271ms\tremaining: 2m 15s\n",
      "2:\tlearn: 3213730.9495292\ttest: 3213730.9495292\ttest1: 158326.6723949\tbest: 158326.6723949 (2)\ttotal: 409ms\tremaining: 2m 16s\n",
      "3:\tlearn: 3213730.9495292\ttest: 3213730.9495292\ttest1: 158326.6723949\tbest: 158326.6723949 (2)\ttotal: 544ms\tremaining: 2m 15s\n",
      "4:\tlearn: 3250134.1495295\ttest: 3250134.1495295\ttest1: 165300.7323810\tbest: 165300.7323810 (4)\ttotal: 684ms\tremaining: 2m 16s\n",
      "5:\tlearn: 3250134.1495295\ttest: 3250134.1495295\ttest1: 165300.7323810\tbest: 165300.7323810 (4)\ttotal: 826ms\tremaining: 2m 16s\n",
      "6:\tlearn: 3278740.3315796\ttest: 3278740.3315796\ttest1: 168688.2623658\tbest: 168688.2623658 (6)\ttotal: 963ms\tremaining: 2m 16s\n",
      "7:\tlearn: 3297785.6356540\ttest: 3297785.6356540\ttest1: 173042.0723898\tbest: 173042.0723898 (7)\ttotal: 1.1s\tremaining: 2m 17s\n",
      "8:\tlearn: 3322244.3276707\ttest: 3322244.3276707\ttest1: 177587.3483448\tbest: 177587.3483448 (8)\ttotal: 1.24s\tremaining: 2m 16s\n",
      "9:\tlearn: 3322244.3276707\ttest: 3322244.3276707\ttest1: 177587.3483448\tbest: 177587.3483448 (8)\ttotal: 1.38s\tremaining: 2m 16s\n",
      "10:\tlearn: 3324388.8276527\ttest: 3324388.8276527\ttest1: 177618.3083439\tbest: 177618.3083439 (10)\ttotal: 1.51s\tremaining: 2m 15s\n",
      "11:\tlearn: 3341345.7037204\ttest: 3341345.7037204\ttest1: 181212.4423418\tbest: 181212.4423418 (11)\ttotal: 1.65s\tremaining: 2m 16s\n",
      "12:\tlearn: 3341345.7037204\ttest: 3341345.7037204\ttest1: 181212.4423418\tbest: 181212.4423418 (11)\ttotal: 1.8s\tremaining: 2m 16s\n",
      "13:\tlearn: 4097944.4628243\ttest: 4097944.4628243\ttest1: 266289.3684145\tbest: 266289.3684145 (13)\ttotal: 1.94s\tremaining: 2m 16s\n",
      "14:\tlearn: 4114606.7207883\ttest: 4114606.7207883\ttest1: 269640.1004330\tbest: 269640.1004330 (14)\ttotal: 2.08s\tremaining: 2m 16s\n",
      "15:\tlearn: 4137260.1868101\ttest: 4137260.1868101\ttest1: 273656.8684541\tbest: 273656.8684541 (15)\ttotal: 2.23s\tremaining: 2m 17s\n",
      "16:\tlearn: 4143702.1348007\ttest: 4143702.1348007\ttest1: 274097.3024567\tbest: 274097.3024567 (16)\ttotal: 2.37s\tremaining: 2m 16s\n",
      "17:\tlearn: 4143702.1348007\ttest: 4143702.1348007\ttest1: 274097.3024567\tbest: 274097.3024567 (16)\ttotal: 2.51s\tremaining: 2m 16s\n",
      "18:\tlearn: 4151157.2728336\ttest: 4151157.2728336\ttest1: 274993.0984652\tbest: 274993.0984652 (18)\ttotal: 2.66s\tremaining: 2m 17s\n",
      "19:\tlearn: 4172340.4868139\ttest: 4172340.4868139\ttest1: 277885.6304800\tbest: 277885.6304800 (19)\ttotal: 2.8s\tremaining: 2m 17s\n",
      "20:\tlearn: 4175582.7387939\ttest: 4175582.7387939\ttest1: 278150.3384833\tbest: 278150.3384833 (20)\ttotal: 2.93s\tremaining: 2m 16s\n",
      "21:\tlearn: 4182833.3448184\ttest: 4182833.3448184\ttest1: 278710.9224773\tbest: 278710.9224773 (21)\ttotal: 3.07s\tremaining: 2m 16s\n",
      "22:\tlearn: 4192597.9028544\ttest: 4192597.9028544\ttest1: 280103.9244687\tbest: 280103.9244687 (22)\ttotal: 3.22s\tremaining: 2m 16s\n",
      "23:\tlearn: 4193522.0508501\ttest: 4193522.0508501\ttest1: 280103.9244687\tbest: 280103.9244687 (22)\ttotal: 3.36s\tremaining: 2m 16s\n",
      "24:\tlearn: 4215725.9187868\ttest: 4215725.9187868\ttest1: 284488.3124668\tbest: 284488.3124668 (24)\ttotal: 3.5s\tremaining: 2m 16s\n",
      "25:\tlearn: 4215729.4227871\ttest: 4215729.4227871\ttest1: 284609.3344700\tbest: 284609.3344700 (25)\ttotal: 3.64s\tremaining: 2m 16s\n",
      "26:\tlearn: 4232561.1507824\ttest: 4232561.1507824\ttest1: 285875.7884717\tbest: 285875.7884717 (26)\ttotal: 3.78s\tremaining: 2m 16s\n",
      "27:\tlearn: 4258243.9788238\ttest: 4258243.9788238\ttest1: 290131.9784546\tbest: 290131.9784546 (27)\ttotal: 3.92s\tremaining: 2m 16s\n",
      "28:\tlearn: 4270186.3588927\ttest: 4270186.3588927\ttest1: 291805.0704686\tbest: 291805.0704686 (28)\ttotal: 4.07s\tremaining: 2m 16s\n",
      "29:\tlearn: 4270249.8648907\ttest: 4270249.8648907\ttest1: 291805.0704686\tbest: 291805.0704686 (28)\ttotal: 4.21s\tremaining: 2m 16s\n",
      "30:\tlearn: 4302568.9027860\ttest: 4302568.9027860\ttest1: 293430.8624722\tbest: 293430.8624722 (30)\ttotal: 4.34s\tremaining: 2m 15s\n",
      "31:\tlearn: 4302568.9027860\ttest: 4302568.9027860\ttest1: 293430.8624722\tbest: 293430.8624722 (30)\ttotal: 4.48s\tremaining: 2m 15s\n",
      "32:\tlearn: 4306937.1887958\ttest: 4306937.1887958\ttest1: 293467.7684708\tbest: 293467.7684708 (32)\ttotal: 4.63s\tremaining: 2m 15s\n",
      "33:\tlearn: 4308498.3087934\ttest: 4308498.3087934\ttest1: 293575.1264709\tbest: 293575.1264709 (33)\ttotal: 4.77s\tremaining: 2m 15s\n",
      "34:\tlearn: 4308498.3087934\ttest: 4308498.3087934\ttest1: 293575.1264709\tbest: 293575.1264709 (33)\ttotal: 4.91s\tremaining: 2m 15s\n",
      "35:\tlearn: 4318126.2208282\ttest: 4318126.2208282\ttest1: 294923.8684754\tbest: 294923.8684754 (35)\ttotal: 5.05s\tremaining: 2m 15s\n",
      "36:\tlearn: 4327485.1128446\ttest: 4327485.1128446\ttest1: 296123.4744715\tbest: 296123.4744715 (36)\ttotal: 5.2s\tremaining: 2m 15s\n",
      "37:\tlearn: 4337563.4208437\ttest: 4337563.4208437\ttest1: 296779.0384586\tbest: 296779.0384586 (37)\ttotal: 5.33s\tremaining: 2m 14s\n",
      "38:\tlearn: 4338596.7568479\ttest: 4338596.7568479\ttest1: 296834.7644606\tbest: 296834.7644606 (38)\ttotal: 5.47s\tremaining: 2m 14s\n",
      "39:\tlearn: 4841809.2962946\ttest: 4841809.2962946\ttest1: 377103.2152298\tbest: 377103.2152298 (39)\ttotal: 5.61s\tremaining: 2m 14s\n",
      "40:\tlearn: 4848854.3183655\ttest: 4848854.3183655\ttest1: 379121.2832243\tbest: 379121.2832243 (40)\ttotal: 5.76s\tremaining: 2m 14s\n",
      "41:\tlearn: 5508131.7908318\ttest: 5508131.7908318\ttest1: 533012.7474834\tbest: 533012.7474834 (41)\ttotal: 5.9s\tremaining: 2m 14s\n",
      "42:\tlearn: 5510766.9508182\ttest: 5510766.9508182\ttest1: 533260.2194836\tbest: 533260.2194836 (42)\ttotal: 6.05s\tremaining: 2m 14s\n",
      "43:\tlearn: 5520353.0488074\ttest: 5520353.0488074\ttest1: 533773.0534998\tbest: 533773.0534998 (43)\ttotal: 6.2s\tremaining: 2m 14s\n",
      "44:\tlearn: 5530382.7889063\ttest: 5530382.7889063\ttest1: 534949.9215003\tbest: 534949.9215003 (44)\ttotal: 6.34s\tremaining: 2m 14s\n",
      "45:\tlearn: 5536673.7968794\ttest: 5536673.7968794\ttest1: 536806.1095645\tbest: 536806.1095645 (45)\ttotal: 6.49s\tremaining: 2m 14s\n",
      "46:\tlearn: 5536673.7968794\ttest: 5536673.7968794\ttest1: 536806.1095645\tbest: 536806.1095645 (45)\ttotal: 6.63s\tremaining: 2m 14s\n",
      "47:\tlearn: 5545275.4088755\ttest: 5545275.4088755\ttest1: 538514.3015295\tbest: 538514.3015295 (47)\ttotal: 6.77s\tremaining: 2m 14s\n",
      "48:\tlearn: 5949278.1072133\ttest: 5949278.1072133\ttest1: 571783.7235512\tbest: 571783.7235512 (48)\ttotal: 6.92s\tremaining: 2m 14s\n",
      "49:\tlearn: 5950206.7992087\ttest: 5950206.7992087\ttest1: 571877.3035467\tbest: 571877.3035467 (49)\ttotal: 7.05s\tremaining: 2m 14s\n",
      "50:\tlearn: 5951778.1072251\ttest: 5951778.1072251\ttest1: 571877.3035467\tbest: 571877.3035467 (49)\ttotal: 7.19s\tremaining: 2m 13s\n",
      "51:\tlearn: 5951790.1812821\ttest: 5951790.1812821\ttest1: 572559.7475453\tbest: 572559.7475453 (51)\ttotal: 7.32s\tremaining: 2m 13s\n",
      "52:\tlearn: 5951822.4172853\ttest: 5951822.4172853\ttest1: 572559.7475453\tbest: 572559.7475453 (51)\ttotal: 7.45s\tremaining: 2m 13s\n",
      "53:\tlearn: 5957407.0511498\ttest: 5957407.0511498\ttest1: 574905.2635213\tbest: 574905.2635213 (53)\ttotal: 7.58s\tremaining: 2m 12s\n",
      "54:\tlearn: 5960352.0471645\ttest: 5960352.0471645\ttest1: 575236.7195224\tbest: 575236.7195224 (54)\ttotal: 7.73s\tremaining: 2m 12s\n",
      "55:\tlearn: 5963212.0351373\ttest: 5963212.0351373\ttest1: 575091.9935250\tbest: 575236.7195224 (54)\ttotal: 7.87s\tremaining: 2m 12s\n",
      "56:\tlearn: 5964455.1491469\ttest: 5964455.1491469\ttest1: 575251.4935293\tbest: 575251.4935293 (56)\ttotal: 8.01s\tremaining: 2m 12s\n",
      "57:\tlearn: 5985875.4014295\ttest: 5985875.4014295\ttest1: 594220.3215771\tbest: 594220.3215771 (57)\ttotal: 8.15s\tremaining: 2m 12s\n",
      "58:\tlearn: 5995831.8894158\ttest: 5995831.8894158\ttest1: 594337.6275737\tbest: 594337.6275737 (58)\ttotal: 8.29s\tremaining: 2m 12s\n",
      "59:\tlearn: 5995835.7694160\ttest: 5995835.7694160\ttest1: 594337.6275737\tbest: 594337.6275737 (58)\ttotal: 8.43s\tremaining: 2m 12s\n",
      "60:\tlearn: 5998975.8394470\ttest: 5998975.8394470\ttest1: 594490.3995717\tbest: 594490.3995717 (60)\ttotal: 8.57s\tremaining: 2m 11s\n",
      "61:\tlearn: 6007486.2854340\ttest: 6007486.2854340\ttest1: 595600.1995686\tbest: 595600.1995686 (61)\ttotal: 8.71s\tremaining: 2m 11s\n",
      "62:\tlearn: 6014422.3734329\ttest: 6014422.3734329\ttest1: 600234.6695279\tbest: 600234.6695279 (62)\ttotal: 8.85s\tremaining: 2m 11s\n",
      "63:\tlearn: 6022988.6035252\ttest: 6022988.6035252\ttest1: 600250.4155271\tbest: 600250.4155271 (63)\ttotal: 8.98s\tremaining: 2m 11s\n",
      "64:\tlearn: 6009355.7653670\ttest: 6009355.7653670\ttest1: 644866.1375443\tbest: 644866.1375443 (64)\ttotal: 9.12s\tremaining: 2m 11s\n",
      "65:\tlearn: 6467205.4170492\ttest: 6467205.4170492\ttest1: 679445.8976300\tbest: 679445.8976300 (65)\ttotal: 9.25s\tremaining: 2m 10s\n"
     ]
    },
    {
     "name": "stdout",
     "output_type": "stream",
     "text": [
      "66:\tlearn: 6478957.9570244\ttest: 6478957.9570244\ttest1: 679445.8976300\tbest: 679445.8976300 (65)\ttotal: 9.38s\tremaining: 2m 10s\n",
      "67:\tlearn: 6485460.4590666\ttest: 6485460.4590666\ttest1: 665187.3816719\tbest: 679445.8976300 (65)\ttotal: 9.52s\tremaining: 2m 10s\n",
      "68:\tlearn: 6485460.4590666\ttest: 6485460.4590666\ttest1: 665187.3816719\tbest: 679445.8976300 (65)\ttotal: 9.65s\tremaining: 2m 10s\n",
      "69:\tlearn: 6487604.1850773\ttest: 6487604.1850773\ttest1: 665375.0176787\tbest: 679445.8976300 (65)\ttotal: 9.79s\tremaining: 2m 10s\n",
      "70:\tlearn: 6489083.2430999\ttest: 6489083.2430999\ttest1: 665059.6656795\tbest: 679445.8976300 (65)\ttotal: 9.93s\tremaining: 2m 9s\n",
      "Stopped by overfitting detector  (5 iterations wait)\n",
      "\n",
      "bestTest = 679445.8976\n",
      "bestIteration = 65\n",
      "\n",
      "Shrink model to first 66 iterations.\n"
     ]
    }
   ],
   "source": [
    "ds_params = {\n",
    "#     'cat_features' : [8, 9, 10],\n",
    "}\n",
    "train_pool = Pool(X_train, label = y_train, weight = w_train, **ds_params)\n",
    "trainfull_pool = Pool(X_full_train, label = y_full_train, weight = w_full_train, **ds_params)\n",
    "val_pool = Pool(X_val, label = y_val, weight = w_sub, **ds_params)\n",
    "sub_pool = Pool(X_sub, label = y_sub, weight = w_sub, **ds_params)\n",
    "\n",
    "\n",
    "model = CatBoostRegressor(\n",
    "#     iterations = 2,\n",
    "#     depth=6, \n",
    "    learning_rate=0.1, \n",
    "    loss_function='MAE',\n",
    "    early_stopping_rounds=5,\n",
    "    eval_metric = feval_cat(),\n",
    "    thread_count=-1,\n",
    ")\n",
    "\n",
    "model.fit(\n",
    "    train_pool,\n",
    "    eval_set=[train_pool, val_pool],\n",
    "#     logging_level='Verbose',  # you can uncomment this for text output\n",
    "\n",
    ");\n"
   ]
  },
  {
   "cell_type": "code",
   "execution_count": 766,
   "metadata": {},
   "outputs": [
    {
     "data": {
      "text/plain": [
       "568792.4679999999"
      ]
     },
     "execution_count": 766,
     "metadata": {},
     "output_type": "execute_result"
    }
   ],
   "source": [
    "prediction = model.predict(X_sub, ntree_end = model.best_iteration_).astype(int)\n",
    "evaluate(prediction, y_sub, w_sub)"
   ]
  },
  {
   "cell_type": "code",
   "execution_count": 489,
   "metadata": {},
   "outputs": [],
   "source": [
    "# retrain!"
   ]
  },
  {
   "cell_type": "code",
   "execution_count": 768,
   "metadata": {},
   "outputs": [
    {
     "data": {
      "text/plain": [
       "65"
      ]
     },
     "execution_count": 768,
     "metadata": {},
     "output_type": "execute_result"
    }
   ],
   "source": [
    "model.best_iteration_"
   ]
  },
  {
   "cell_type": "code",
   "execution_count": 769,
   "metadata": {
    "scrolled": true
   },
   "outputs": [
    {
     "name": "stdout",
     "output_type": "stream",
     "text": [
      "0:\tlearn: 14805.8360105\ttest: 14805.8360105\tbest: 14805.8360105 (0)\ttotal: 158ms\tremaining: 10.1s\n",
      "1:\tlearn: 1462141.3754040\ttest: 1462141.3754040\tbest: 1462141.3754040 (1)\ttotal: 305ms\tremaining: 9.6s\n",
      "2:\tlearn: 1464686.3073757\ttest: 1464686.3073757\tbest: 1464686.3073757 (2)\ttotal: 451ms\tremaining: 9.32s\n",
      "3:\tlearn: 1719411.1277850\ttest: 1719411.1277850\tbest: 1719411.1277850 (3)\ttotal: 591ms\tremaining: 9.01s\n",
      "4:\tlearn: 1722307.4997865\ttest: 1722307.4997865\tbest: 1722307.4997865 (4)\ttotal: 732ms\tremaining: 8.79s\n",
      "5:\tlearn: 2159269.7076404\ttest: 2159269.7076404\tbest: 2159269.7076404 (5)\ttotal: 870ms\tremaining: 8.55s\n",
      "6:\tlearn: 2163791.2436592\ttest: 2163791.2436592\tbest: 2163791.2436592 (6)\ttotal: 1.01s\tremaining: 8.34s\n",
      "7:\tlearn: 2165036.8556546\ttest: 2165036.8556546\tbest: 2165036.8556546 (7)\ttotal: 1.14s\tremaining: 8.13s\n",
      "8:\tlearn: 2166743.9376538\ttest: 2166743.9376538\tbest: 2166743.9376538 (8)\ttotal: 1.28s\tremaining: 7.98s\n",
      "9:\tlearn: 2166743.9376538\ttest: 2166743.9376538\tbest: 2166743.9376538 (8)\ttotal: 1.42s\tremaining: 7.82s\n",
      "10:\tlearn: 2167929.2776397\ttest: 2167929.2776397\tbest: 2167929.2776397 (10)\ttotal: 1.57s\tremaining: 7.7s\n",
      "11:\tlearn: 2170121.4176304\ttest: 2170121.4176304\tbest: 2170121.4176304 (11)\ttotal: 1.7s\tremaining: 7.51s\n",
      "12:\tlearn: 2170121.4176304\ttest: 2170121.4176304\tbest: 2170121.4176304 (11)\ttotal: 1.84s\tremaining: 7.36s\n",
      "13:\tlearn: 2597879.6674109\ttest: 2597879.6674109\tbest: 2597879.6674109 (13)\ttotal: 1.98s\tremaining: 7.2s\n",
      "14:\tlearn: 3293085.8832894\ttest: 3293085.8832894\tbest: 3293085.8832894 (14)\ttotal: 2.11s\tremaining: 7.05s\n",
      "15:\tlearn: 3300686.6652970\ttest: 3300686.6652970\tbest: 3300686.6652970 (15)\ttotal: 2.25s\tremaining: 6.88s\n",
      "16:\tlearn: 3304064.1172882\ttest: 3304064.1172882\tbest: 3304064.1172882 (16)\ttotal: 2.38s\tremaining: 6.74s\n",
      "17:\tlearn: 3304152.7492879\ttest: 3304152.7492879\tbest: 3304152.7492879 (17)\ttotal: 2.52s\tremaining: 6.57s\n",
      "18:\tlearn: 3309747.4172830\ttest: 3309747.4172830\tbest: 3309747.4172830 (18)\ttotal: 2.65s\tremaining: 6.41s\n",
      "19:\tlearn: 3319493.6072706\ttest: 3319493.6072706\tbest: 3319493.6072706 (19)\ttotal: 2.77s\tremaining: 6.24s\n",
      "20:\tlearn: 3325418.8612557\ttest: 3325418.8612557\tbest: 3325418.8612557 (20)\ttotal: 2.9s\tremaining: 6.09s\n",
      "21:\tlearn: 3333921.6312792\ttest: 3333921.6312792\tbest: 3333921.6312792 (21)\ttotal: 3.04s\tremaining: 5.93s\n",
      "22:\tlearn: 3339408.4672904\ttest: 3339408.4672904\tbest: 3339408.4672904 (22)\ttotal: 3.17s\tremaining: 5.79s\n",
      "23:\tlearn: 3339649.5552908\ttest: 3339649.5552908\tbest: 3339649.5552908 (23)\ttotal: 3.31s\tremaining: 5.65s\n",
      "24:\tlearn: 3801036.4822995\ttest: 3801036.4822995\tbest: 3801036.4822995 (24)\ttotal: 3.44s\tremaining: 5.5s\n",
      "25:\tlearn: 3801640.1422969\ttest: 3801640.1422969\tbest: 3801640.1422969 (25)\ttotal: 3.58s\tremaining: 5.36s\n",
      "26:\tlearn: 3813720.5543375\ttest: 3813720.5543375\tbest: 3813720.5543375 (26)\ttotal: 3.71s\tremaining: 5.22s\n",
      "27:\tlearn: 3823129.5443761\ttest: 3823129.5443761\tbest: 3823129.5443761 (27)\ttotal: 3.85s\tremaining: 5.09s\n",
      "28:\tlearn: 3831654.6023636\ttest: 3831654.6023636\tbest: 3831654.6023636 (28)\ttotal: 3.98s\tremaining: 4.94s\n",
      "29:\tlearn: 3831654.6023636\ttest: 3831654.6023636\tbest: 3831654.6023636 (28)\ttotal: 4.11s\tremaining: 4.8s\n",
      "30:\tlearn: 3845529.7744113\ttest: 3845529.7744113\tbest: 3845529.7744113 (30)\ttotal: 4.26s\tremaining: 4.67s\n",
      "31:\tlearn: 3845529.7744113\ttest: 3845529.7744113\tbest: 3845529.7744113 (30)\ttotal: 4.41s\tremaining: 4.55s\n",
      "32:\tlearn: 3852515.7024185\ttest: 3852515.7024185\tbest: 3852515.7024185 (32)\ttotal: 4.56s\tremaining: 4.42s\n",
      "33:\tlearn: 3862215.4823685\ttest: 3862215.4823685\tbest: 3862215.4823685 (33)\ttotal: 4.7s\tremaining: 4.29s\n",
      "34:\tlearn: 3862215.4823685\ttest: 3862215.4823685\tbest: 3862215.4823685 (33)\ttotal: 4.84s\tremaining: 4.15s\n",
      "35:\tlearn: 3872956.8804154\ttest: 3872956.8804154\tbest: 3872956.8804154 (35)\ttotal: 4.98s\tremaining: 4.01s\n",
      "36:\tlearn: 3881581.9764051\ttest: 3881581.9764051\tbest: 3881581.9764051 (36)\ttotal: 5.12s\tremaining: 3.87s\n",
      "37:\tlearn: 3889699.9864469\ttest: 3889699.9864469\tbest: 3889699.9864469 (37)\ttotal: 5.25s\tremaining: 3.73s\n",
      "38:\tlearn: 3891348.2384573\ttest: 3891348.2384573\tbest: 3891348.2384573 (38)\ttotal: 5.39s\tremaining: 3.59s\n",
      "39:\tlearn: 3897574.3644570\ttest: 3897574.3644570\tbest: 3897574.3644570 (39)\ttotal: 5.52s\tremaining: 3.45s\n",
      "40:\tlearn: 4344724.3456875\ttest: 4344724.3456875\tbest: 4344724.3456875 (40)\ttotal: 5.67s\tremaining: 3.32s\n",
      "41:\tlearn: 4352090.6337147\ttest: 4352090.6337147\tbest: 4352090.6337147 (41)\ttotal: 5.8s\tremaining: 3.18s\n",
      "42:\tlearn: 4357578.2057421\ttest: 4357578.2057421\tbest: 4357578.2057421 (42)\ttotal: 5.93s\tremaining: 3.03s\n",
      "43:\tlearn: 4370146.1537059\ttest: 4370146.1537059\tbest: 4370146.1537059 (43)\ttotal: 6.05s\tremaining: 2.89s\n",
      "44:\tlearn: 4377397.5977104\ttest: 4377397.5977104\tbest: 4377397.5977104 (44)\ttotal: 6.18s\tremaining: 2.75s\n",
      "45:\tlearn: 4645024.4283870\ttest: 4645024.4283870\tbest: 4645024.4283870 (45)\ttotal: 6.31s\tremaining: 2.61s\n",
      "46:\tlearn: 4649274.3304178\ttest: 4649274.3304178\tbest: 4649274.3304178 (46)\ttotal: 6.45s\tremaining: 2.47s\n",
      "47:\tlearn: 4962892.7947665\ttest: 4962892.7947665\tbest: 4962892.7947665 (47)\ttotal: 6.59s\tremaining: 2.33s\n",
      "48:\tlearn: 4971005.6408061\ttest: 4971005.6408061\tbest: 4971005.6408061 (48)\ttotal: 6.72s\tremaining: 2.19s\n",
      "49:\tlearn: 4971100.2648100\ttest: 4971100.2648100\tbest: 4971100.2648100 (49)\ttotal: 6.85s\tremaining: 2.06s\n",
      "50:\tlearn: 4977672.5828392\ttest: 4977672.5828392\tbest: 4977672.5828392 (50)\ttotal: 6.98s\tremaining: 1.92s\n",
      "51:\tlearn: 4980984.8688377\ttest: 4980984.8688377\tbest: 4980984.8688377 (51)\ttotal: 7.11s\tremaining: 1.78s\n",
      "52:\tlearn: 4985237.2088375\ttest: 4985237.2088375\tbest: 4985237.2088375 (52)\ttotal: 7.24s\tremaining: 1.64s\n",
      "53:\tlearn: 4990993.6648086\ttest: 4990993.6648086\tbest: 4990993.6648086 (53)\ttotal: 7.37s\tremaining: 1.5s\n",
      "54:\tlearn: 4998017.4327927\ttest: 4998017.4327927\tbest: 4998017.4327927 (54)\ttotal: 7.51s\tremaining: 1.36s\n",
      "55:\tlearn: 5004905.4167996\ttest: 5004905.4167996\tbest: 5004905.4167996 (55)\ttotal: 7.64s\tremaining: 1.23s\n",
      "56:\tlearn: 5004905.4167996\ttest: 5004905.4167996\tbest: 5004905.4167996 (55)\ttotal: 7.77s\tremaining: 1.09s\n",
      "57:\tlearn: 5206944.6250369\ttest: 5206944.6250369\tbest: 5206944.6250369 (57)\ttotal: 7.9s\tremaining: 953ms\n",
      "58:\tlearn: 5213585.2450683\ttest: 5213585.2450683\tbest: 5213585.2450683 (58)\ttotal: 8.03s\tremaining: 817ms\n",
      "59:\tlearn: 5219105.7750726\ttest: 5219105.7750726\tbest: 5219105.7750726 (59)\ttotal: 8.17s\tremaining: 681ms\n",
      "60:\tlearn: 5231300.3611009\ttest: 5231300.3611009\tbest: 5231300.3611009 (60)\ttotal: 8.3s\tremaining: 544ms\n",
      "61:\tlearn: 5237679.9431329\ttest: 5237679.9431329\tbest: 5237679.9431329 (61)\ttotal: 8.43s\tremaining: 408ms\n",
      "62:\tlearn: 5240252.0291401\ttest: 5240252.0291401\tbest: 5240252.0291401 (62)\ttotal: 8.56s\tremaining: 272ms\n",
      "63:\tlearn: 5245853.5591371\ttest: 5245853.5591371\tbest: 5245853.5591371 (63)\ttotal: 8.69s\tremaining: 136ms\n",
      "64:\tlearn: 5245853.5591371\ttest: 5245853.5591371\tbest: 5245853.5591371 (63)\ttotal: 8.83s\tremaining: 0us\n",
      "\n",
      "bestTest = 5245853.559\n",
      "bestIteration = 63\n",
      "\n",
      "Shrink model to first 64 iterations.\n"
     ]
    }
   ],
   "source": [
    "cat_sub = CatBoostRegressor(\n",
    "    iterations = model.best_iteration_,\n",
    "#     depth=6, \n",
    "#     learning_rate=0.1, \n",
    "    loss_function='MAE',\n",
    "    early_stopping_rounds=5,\n",
    "    eval_metric = feval_cat(),\n",
    "    thread_count=-1,\n",
    ")\n",
    "cat_sub.fit(\n",
    "    trainfull_pool,\n",
    "    eval_set=[trainfull_pool],\n",
    "#     logging_level='Verbose',  # you can uncomment this for text output\n",
    "\n",
    ");"
   ]
  },
  {
   "cell_type": "code",
   "execution_count": 770,
   "metadata": {},
   "outputs": [
    {
     "data": {
      "text/plain": [
       "405870.502"
      ]
     },
     "execution_count": 770,
     "metadata": {},
     "output_type": "execute_result"
    }
   ],
   "source": [
    "prediction = cat_sub.predict(X_sub, ntree_end = cat_sub.best_iteration_).astype(int)\n",
    "evaluate(prediction, y_sub, w_sub)"
   ]
  },
  {
   "cell_type": "markdown",
   "metadata": {},
   "source": [
    "<hr>"
   ]
  },
  {
   "cell_type": "markdown",
   "metadata": {},
   "source": [
    "## - Ensemble"
   ]
  },
  {
   "cell_type": "code",
   "execution_count": 184,
   "metadata": {},
   "outputs": [
    {
     "data": {
      "text/plain": [
       "905239.624"
      ]
     },
     "execution_count": 184,
     "metadata": {},
     "output_type": "execute_result"
    }
   ],
   "source": [
    "cat_w = 0\n",
    "lgb_w = 1\n",
    "xgb_w = 1\n",
    "ensemble = model.predict(X_sub, ntree_end = model.best_iteration_) * cat_w\n",
    "ensemble += lgb_model.predict(X_sub, num_iteration=lgb_model.best_iteration) * lgb_w\n",
    "ensemble += bst.predict(dsub, ntree_limit=bst.best_ntree_limit) * xgb_w\n",
    "ensemble = ensemble / (cat_w + lgb_w + xgb_w)\n",
    "evaluate(ensemble.astype(int), y_sub, w_sub)"
   ]
  },
  {
   "cell_type": "markdown",
   "metadata": {},
   "source": [
    "<hr>"
   ]
  },
  {
   "cell_type": "markdown",
   "metadata": {},
   "source": [
    "## - Linear Regression"
   ]
  },
  {
   "cell_type": "code",
   "execution_count": 270,
   "metadata": {},
   "outputs": [],
   "source": [
    "from sklearn.linear_model import LinearRegression\n",
    "# from sklearn.metrics import "
   ]
  },
  {
   "cell_type": "code",
   "execution_count": 271,
   "metadata": {},
   "outputs": [],
   "source": [
    "lr = LinearRegression()"
   ]
  },
  {
   "cell_type": "code",
   "execution_count": 272,
   "metadata": {},
   "outputs": [
    {
     "data": {
      "text/plain": [
       "LinearRegression(copy_X=True, fit_intercept=True, n_jobs=None, normalize=False)"
      ]
     },
     "execution_count": 272,
     "metadata": {},
     "output_type": "execute_result"
    }
   ],
   "source": [
    "lr.fit(X_train, y_train, w_train)"
   ]
  },
  {
   "cell_type": "code",
   "execution_count": 273,
   "metadata": {},
   "outputs": [
    {
     "name": "stdout",
     "output_type": "stream",
     "text": [
      "train -21058674.042366117\n",
      "test -2602271.639547858\n",
      "sub -2761693.8996196142\n"
     ]
    }
   ],
   "source": [
    "print('train', evaluate(lr.predict(X_train), y_train, w_train))\n",
    "print('test', evaluate(lr.predict(X_test), y_test, w_test))\n",
    "print('sub', evaluate(lr.predict(X_sub), y_sub, w_sub))"
   ]
  },
  {
   "cell_type": "markdown",
   "metadata": {},
   "source": [
    "<hr>"
   ]
  },
  {
   "cell_type": "code",
   "execution_count": null,
   "metadata": {},
   "outputs": [],
   "source": [
    "# fazer feature que pega o percentil de quando o item deu de dinheiro dentro de uma categoria\n",
    "# fazer features que pega dist de atual até o pico mais alto\n",
    "# dist do maior pico pro segundo\n",
    "# min(dist(terceiro, primeiro), dist(terceiro, segundo))"
   ]
  }
 ],
 "metadata": {
  "kernelspec": {
   "display_name": "Python 3",
   "language": "python",
   "name": "python3"
  },
  "language_info": {
   "codemirror_mode": {
    "name": "ipython",
    "version": 3
   },
   "file_extension": ".py",
   "mimetype": "text/x-python",
   "name": "python",
   "nbconvert_exporter": "python",
   "pygments_lexer": "ipython3",
   "version": "3.7.7"
  }
 },
 "nbformat": 4,
 "nbformat_minor": 4
}
