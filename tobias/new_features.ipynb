{
 "cells": [
  {
   "cell_type": "code",
   "execution_count": 2,
   "metadata": {},
   "outputs": [],
   "source": [
    "import matplotlib.pyplot as plt\n",
    "import numpy as np\n",
    "import pandas as pd"
   ]
  },
  {
   "cell_type": "code",
   "execution_count": 3,
   "metadata": {},
   "outputs": [],
   "source": [
    "infos = pd.read_csv('../../data/infos.csv', sep = '|')"
   ]
  },
  {
   "cell_type": "code",
   "execution_count": 4,
   "metadata": {},
   "outputs": [],
   "source": [
    "items = pd.read_csv('../../data/items.csv', sep = '|')"
   ]
  },
  {
   "cell_type": "code",
   "execution_count": 5,
   "metadata": {},
   "outputs": [],
   "source": [
    "orders = pd.read_csv('../../data/orders.csv', sep = '|', parse_dates=['time'])"
   ]
  },
  {
   "cell_type": "markdown",
   "metadata": {},
   "source": [
    "## - Creating the structure"
   ]
  },
  {
   "cell_type": "code",
   "execution_count": 6,
   "metadata": {},
   "outputs": [],
   "source": [
    "df = orders.copy()"
   ]
  },
  {
   "cell_type": "code",
   "execution_count": 7,
   "metadata": {},
   "outputs": [],
   "source": [
    "df['weekpair'] = (df.time.dt.dayofyear + 1) // 14 - 13"
   ]
  },
  {
   "cell_type": "code",
   "execution_count": 8,
   "metadata": {},
   "outputs": [],
   "source": [
    "npairs = df.weekpair.nunique()"
   ]
  },
  {
   "cell_type": "code",
   "execution_count": 9,
   "metadata": {},
   "outputs": [
    {
     "name": "stdout",
     "output_type": "stream",
     "text": [
      "total number of items: 10463\n",
      "expected number of instances: 136019\n"
     ]
    }
   ],
   "source": [
    "n_items = items['itemID'].nunique()\n",
    "print('total number of items:', n_items)\n",
    "print('expected number of instances:', n_items * npairs)"
   ]
  },
  {
   "cell_type": "code",
   "execution_count": 10,
   "metadata": {},
   "outputs": [],
   "source": [
    "mi = pd.MultiIndex.from_product([range(-npairs, 0), items['itemID']], names=['weekpair', 'itemID'])\n",
    "data_temp = pd.DataFrame(index = mi)"
   ]
  },
  {
   "cell_type": "code",
   "execution_count": 11,
   "metadata": {},
   "outputs": [],
   "source": [
    "data_temp = data_temp.join(df.groupby(['weekpair', 'itemID'])[['order']].sum(), how = 'left')"
   ]
  },
  {
   "cell_type": "code",
   "execution_count": 12,
   "metadata": {},
   "outputs": [],
   "source": [
    "data_temp.fillna(0, inplace = True)"
   ]
  },
  {
   "cell_type": "code",
   "execution_count": 13,
   "metadata": {},
   "outputs": [
    {
     "data": {
      "text/plain": [
       "order    13\n",
       "dtype: int64"
      ]
     },
     "execution_count": 13,
     "metadata": {},
     "output_type": "execute_result"
    }
   ],
   "source": [
    "data_temp.groupby('itemID').count().min()"
   ]
  },
  {
   "cell_type": "code",
   "execution_count": 14,
   "metadata": {},
   "outputs": [],
   "source": [
    "# data_temp"
   ]
  },
  {
   "cell_type": "markdown",
   "metadata": {},
   "source": [
    "## - Creating features"
   ]
  },
  {
   "cell_type": "code",
   "execution_count": 15,
   "metadata": {},
   "outputs": [],
   "source": [
    "data = data_temp.reset_index()"
   ]
  },
  {
   "cell_type": "code",
   "execution_count": 16,
   "metadata": {},
   "outputs": [
    {
     "data": {
      "text/html": [
       "<div>\n",
       "<style scoped>\n",
       "    .dataframe tbody tr th:only-of-type {\n",
       "        vertical-align: middle;\n",
       "    }\n",
       "\n",
       "    .dataframe tbody tr th {\n",
       "        vertical-align: top;\n",
       "    }\n",
       "\n",
       "    .dataframe thead th {\n",
       "        text-align: right;\n",
       "    }\n",
       "</style>\n",
       "<table border=\"1\" class=\"dataframe\">\n",
       "  <thead>\n",
       "    <tr style=\"text-align: right;\">\n",
       "      <th></th>\n",
       "      <th>itemID</th>\n",
       "      <th>brand</th>\n",
       "      <th>manufacturer</th>\n",
       "      <th>customerRating</th>\n",
       "      <th>category1</th>\n",
       "      <th>category2</th>\n",
       "      <th>category3</th>\n",
       "      <th>recommendedRetailPrice</th>\n",
       "    </tr>\n",
       "  </thead>\n",
       "  <tbody>\n",
       "    <tr>\n",
       "      <th>0</th>\n",
       "      <td>1</td>\n",
       "      <td>0</td>\n",
       "      <td>1</td>\n",
       "      <td>4.38</td>\n",
       "      <td>1</td>\n",
       "      <td>1</td>\n",
       "      <td>1</td>\n",
       "      <td>8.84</td>\n",
       "    </tr>\n",
       "    <tr>\n",
       "      <th>1</th>\n",
       "      <td>2</td>\n",
       "      <td>0</td>\n",
       "      <td>2</td>\n",
       "      <td>3.00</td>\n",
       "      <td>1</td>\n",
       "      <td>2</td>\n",
       "      <td>1</td>\n",
       "      <td>16.92</td>\n",
       "    </tr>\n",
       "  </tbody>\n",
       "</table>\n",
       "</div>"
      ],
      "text/plain": [
       "   itemID  brand  manufacturer  customerRating  category1  category2  \\\n",
       "0       1      0             1            4.38          1          1   \n",
       "1       2      0             2            3.00          1          2   \n",
       "\n",
       "   category3  recommendedRetailPrice  \n",
       "0          1                    8.84  \n",
       "1          1                   16.92  "
      ]
     },
     "execution_count": 16,
     "metadata": {},
     "output_type": "execute_result"
    }
   ],
   "source": [
    "items.head(2)"
   ]
  },
  {
   "cell_type": "code",
   "execution_count": 17,
   "metadata": {},
   "outputs": [],
   "source": [
    "# data = pd.merge(data, items[['itemID', 'manufacturer', 'category1', 'category2', 'category3']], on = 'itemID')\n",
    "data = pd.merge(data, items, on = 'itemID')"
   ]
  },
  {
   "cell_type": "code",
   "execution_count": null,
   "metadata": {},
   "outputs": [],
   "source": []
  },
  {
   "cell_type": "code",
   "execution_count": 21,
   "metadata": {},
   "outputs": [],
   "source": [
    "# features = [\n",
    "#     ('itemID', 'item'),\n",
    "#     ('manufacturer', 'manuf'),\n",
    "#     ('category1', 'cat1'),\n",
    "#     ('category2', 'cat2'),\n",
    "#     ('category3', 'cat3')\n",
    "# ]\n",
    "# for f, n in features:\n",
    "#     if f not in data.columns:\n",
    "#         print('ops', f)"
   ]
  },
  {
   "cell_type": "code",
   "execution_count": 22,
   "metadata": {},
   "outputs": [],
   "source": [
    "# features = [('itemID', 'item')]"
   ]
  },
  {
   "cell_type": "code",
   "execution_count": 23,
   "metadata": {},
   "outputs": [],
   "source": [
    "# # f, name = ('manufacturer', 'manuf')\n",
    "# for f, name in features:\n",
    "#     print(f)\n",
    "#     temp = data.groupby([f, 'weekpair'])[['order']].sum()\n",
    "#     shifted = temp.groupby(f)[['order']].shift(1)\n",
    "#     new_feature_block = pd.DataFrame()\n",
    "#     for n in range(3):\n",
    "#         rolled = shifted.groupby(f, as_index = False)['order'].rolling(2 ** n).mean()\n",
    "#         new_feature_block['%s_%d' % (name, 2 ** n)] = rolled.reset_index(0, drop = True) # rolling has a weird index behavior...\n",
    "#     data = pd.merge(data, new_feature_block.reset_index(), on = [f, 'weekpair'])"
   ]
  },
  {
   "cell_type": "code",
   "execution_count": 18,
   "metadata": {},
   "outputs": [],
   "source": [
    "def gbagg(data, group_cols, targeted_cols, out_names, function, as_index = False):\n",
    "  \n",
    "    X = data.values\n",
    "    col = {c : i for i, c in enumerate(data.columns)}\n",
    "\n",
    "    # values that are going to calculated\n",
    "    new_feat = []\n",
    "    \n",
    "    # numbers of the columns\n",
    "    gcols = [col[c] for c in group_cols]\n",
    "    tcols = [col[c] for c in targeted_cols]\n",
    "    \n",
    "    interval = None\n",
    "    a = None\n",
    "    i = 0\n",
    "    while i < len(X):\n",
    "        a = X[i, gcols]\n",
    "\n",
    "        # find the whole interval of this group\n",
    "        j = i\n",
    "        while j < len(X):\n",
    "            if (X[j, gcols] != a).any():\n",
    "                break\n",
    "            j += 1\n",
    "        interval = X[i:j, tcols]\n",
    "\n",
    "        # apply function on interval, save in new feature\n",
    "        output = function(interval)\n",
    "        new_feat.append(output)\n",
    "\n",
    "        # go to next group\n",
    "        i = j\n",
    "    \n",
    "    idx = data.groupby(group_cols).size().index # this is actually fast...\n",
    "    out_df = pd.DataFrame(new_feat, columns = out_names, index = idx)\n",
    "        \n",
    "    if not as_index:\n",
    "        out_df.reset_index(inplace = True)\n",
    "        \n",
    "    return out_df"
   ]
  },
  {
   "cell_type": "code",
   "execution_count": 19,
   "metadata": {},
   "outputs": [],
   "source": [
    "def gbtransf(data, group_cols, targeted_cols, out_names, function, params = dict()):\n",
    "  \n",
    "    X = data.values\n",
    "    col = {c : i for i, c in enumerate(data.columns)}\n",
    "\n",
    "    # values that are going to calculated\n",
    "    new_feat = np.zeros((len(data), len(out_names)))\n",
    "    \n",
    "    # numbers of the columns\n",
    "    gcols = [col[c] for c in group_cols]\n",
    "    tcols = [col[c] for c in targeted_cols]\n",
    "    \n",
    "    interval = None\n",
    "    a = None\n",
    "    i = 0\n",
    "    while i < len(X):\n",
    "        a = X[i, gcols]\n",
    "\n",
    "        # find the whole interval of this group\n",
    "        j = i\n",
    "        while j < len(X):\n",
    "            if (X[j, gcols] != a).any():\n",
    "                break\n",
    "            j += 1\n",
    "        interval = X[i:j, tcols]\n",
    "\n",
    "        # apply function on interval, save in new feature\n",
    "        output = function(interval, **params)\n",
    "        new_feat[i:j] = output\n",
    "\n",
    "        # go to next group\n",
    "        i = j\n",
    "    \n",
    "    out_df = pd.DataFrame(new_feat, columns = out_names, index = data.index)\n",
    "        \n",
    "    return out_df"
   ]
  },
  {
   "cell_type": "code",
   "execution_count": 20,
   "metadata": {},
   "outputs": [],
   "source": [
    "def shift_and_2n_window(x, ws):\n",
    "#     out = pd.DataFrame(x)\n",
    "#     out = out.shift()\n",
    "#     out = out.rolling(2 ** n).mean()\n",
    "\n",
    "    shifted = np.zeros_like(x) # output\n",
    "    shifted[1:] = x[:-1] # shift\n",
    "    out = np.zeros_like(x, dtype = float)\n",
    "    \n",
    "    # rolling mean\n",
    "    total = shifted[:ws].sum()\n",
    "    out[ws - 1] = total / ws\n",
    "    for i in range(ws, len(out)):\n",
    "        total = total - shifted[i - ws] + shifted[i]\n",
    "        out[i] = total / ws\n",
    "    out[:ws] = np.NaN # maybe ws -1 should be NaN as well for receiving one NaN value when ws > 1\n",
    "    # out[0] = np.NaN # this is always NaN for a shift of 1\n",
    "    return out"
   ]
  },
  {
   "cell_type": "code",
   "execution_count": 21,
   "metadata": {},
   "outputs": [],
   "source": [
    "data.sort_values(['itemID', 'weekpair'], inplace = True)"
   ]
  },
  {
   "cell_type": "code",
   "execution_count": 22,
   "metadata": {},
   "outputs": [],
   "source": [
    "# gbtransf(data, ['itemID', 'weekpair'], ['order'], ['out'], lambda x : np.ones_like(x))"
   ]
  },
  {
   "cell_type": "code",
   "execution_count": 23,
   "metadata": {},
   "outputs": [
    {
     "data": {
      "text/plain": [
       "array([nan, nan, 1.5, 2.5, 3.5, 4.5])"
      ]
     },
     "execution_count": 23,
     "metadata": {},
     "output_type": "execute_result"
    }
   ],
   "source": [
    "shift_and_2n_window(np.array([1 , 2, 3, 4, 5, 6]), 2 ** 1)"
   ]
  },
  {
   "cell_type": "code",
   "execution_count": 24,
   "metadata": {},
   "outputs": [],
   "source": [
    "features = [('itemID', 'item')]"
   ]
  },
  {
   "cell_type": "code",
   "execution_count": 25,
   "metadata": {
    "scrolled": true
   },
   "outputs": [
    {
     "name": "stdout",
     "output_type": "stream",
     "text": [
      "itemID\n"
     ]
    }
   ],
   "source": [
    "for f, name in features:\n",
    "    print(f)\n",
    "    new_feature_block = pd.DataFrame()\n",
    "    for n in range(3):\n",
    "        new_f = gbtransf(data, ['itemID'], ['order'], ['out'], shift_and_2n_window, {'ws' : 2 ** n})\n",
    "        new_feature_block['%s_%d' % (name, 2 ** n)] = new_f['out']\n",
    "#     data = pd.merge(data, new_feature_block.reset_index(), on = [f, 'weekpair'])\n",
    "    data = pd.concat([data, new_feature_block], axis =  1)"
   ]
  },
  {
   "cell_type": "code",
   "execution_count": 26,
   "metadata": {},
   "outputs": [
    {
     "data": {
      "text/plain": [
       "weekpair                  136019\n",
       "itemID                    136019\n",
       "order                     136019\n",
       "brand                     136019\n",
       "manufacturer              136019\n",
       "customerRating            136019\n",
       "category1                 136019\n",
       "category2                 136019\n",
       "category3                 136019\n",
       "recommendedRetailPrice    136019\n",
       "item_1                    125556\n",
       "item_2                    115093\n",
       "item_4                     94167\n",
       "dtype: int64"
      ]
     },
     "execution_count": 26,
     "metadata": {},
     "output_type": "execute_result"
    }
   ],
   "source": [
    "data.count() # the larger the window, more NaN are expected"
   ]
  },
  {
   "cell_type": "code",
   "execution_count": 27,
   "metadata": {},
   "outputs": [],
   "source": [
    "def dist2firstvalue(x):\n",
    "    out = np.zeros_like(x, dtype = float)\n",
    "    first = np.NaN\n",
    "    for i in range(len(x)):\n",
    "        out[i] = first\n",
    "        if x[i] != 0:\n",
    "            first = i\n",
    "            break\n",
    "    if i == len(x) - 1:\n",
    "        return out\n",
    "    for j in range(int(first), len(x)):\n",
    "        out[j] = j - first\n",
    "        \n",
    "    return out"
   ]
  },
  {
   "cell_type": "code",
   "execution_count": 29,
   "metadata": {},
   "outputs": [
    {
     "data": {
      "text/plain": [
       "(array([nan, nan, nan, nan]), array([nan, nan,  0.,  1.,  2.,  3.]))"
      ]
     },
     "execution_count": 29,
     "metadata": {},
     "output_type": "execute_result"
    }
   ],
   "source": [
    "dist2firstvalue(np.array([0 , 0, 0, 0])), dist2firstvalue(np.array([0 , 0, 3, 0, 5, 6]))"
   ]
  },
  {
   "cell_type": "code",
   "execution_count": 101,
   "metadata": {},
   "outputs": [],
   "source": [
    "def dist2firstvalueLeak(x):\n",
    "    out = np.zeros_like(x, dtype = float)\n",
    "    for i in range(len(x)):\n",
    "        if x[i] != 0:\n",
    "            out[i] = 1\n",
    "            break\n",
    "        \n",
    "    return out"
   ]
  },
  {
   "cell_type": "code",
   "execution_count": 102,
   "metadata": {},
   "outputs": [
    {
     "data": {
      "text/plain": [
       "array([0., 0., 1., 0., 0., 0.])"
      ]
     },
     "execution_count": 102,
     "metadata": {},
     "output_type": "execute_result"
    }
   ],
   "source": [
    "dist2firstvalueLeak(np.array([0 , 0, 3, 0, 5, 6]))\n",
    "# dist2firstvalue(np.array([0 , 0, 0, 0]))"
   ]
  },
  {
   "cell_type": "code",
   "execution_count": 33,
   "metadata": {},
   "outputs": [],
   "source": [
    "# def dist2lastpeak(x):\n",
    "#     out = np.zeros_like(x, dtype = float)\n",
    "#     peak = np.NaN\n",
    "#     peak_val = 0\n",
    "#     for i in range(0, len(x)):\n",
    "#         out[i] = i - peak\n",
    "#         if x[i] > peak_val:\n",
    "#             peak = i\n",
    "#             peak_val = x[i]\n",
    "        \n",
    "#     return out"
   ]
  },
  {
   "cell_type": "code",
   "execution_count": 103,
   "metadata": {},
   "outputs": [],
   "source": [
    "# dist2lastpeak(np.array([0 , 0, 3, 0, 5, 6]))"
   ]
  },
  {
   "cell_type": "code",
   "execution_count": 104,
   "metadata": {},
   "outputs": [],
   "source": [
    "data.sort_values(['itemID', 'weekpair'], inplace = True)"
   ]
  },
  {
   "cell_type": "code",
   "execution_count": 105,
   "metadata": {},
   "outputs": [],
   "source": [
    "data['dist2firstvalueLeak'] = gbtransf(data, ['itemID'], ['order'], ['out'], dist2firstvalueLeak)['out']\n",
    "# data['dist2lastpeak'] = gbtransf(data, ['itemID'], ['order'], ['out'], dist2lastpeak)['out']"
   ]
  },
  {
   "cell_type": "code",
   "execution_count": 106,
   "metadata": {},
   "outputs": [],
   "source": [
    "data.fillna(0, inplace=True)"
   ]
  },
  {
   "cell_type": "code",
   "execution_count": 107,
   "metadata": {},
   "outputs": [
    {
     "data": {
      "text/html": [
       "<div>\n",
       "<style scoped>\n",
       "    .dataframe tbody tr th:only-of-type {\n",
       "        vertical-align: middle;\n",
       "    }\n",
       "\n",
       "    .dataframe tbody tr th {\n",
       "        vertical-align: top;\n",
       "    }\n",
       "\n",
       "    .dataframe thead th {\n",
       "        text-align: right;\n",
       "    }\n",
       "</style>\n",
       "<table border=\"1\" class=\"dataframe\">\n",
       "  <thead>\n",
       "    <tr style=\"text-align: right;\">\n",
       "      <th></th>\n",
       "      <th>weekpair</th>\n",
       "      <th>itemID</th>\n",
       "      <th>order</th>\n",
       "      <th>brand</th>\n",
       "      <th>manufacturer</th>\n",
       "      <th>customerRating</th>\n",
       "      <th>category1</th>\n",
       "      <th>category2</th>\n",
       "      <th>category3</th>\n",
       "      <th>recommendedRetailPrice</th>\n",
       "      <th>item_1</th>\n",
       "      <th>item_2</th>\n",
       "      <th>item_4</th>\n",
       "      <th>dist2firstvalueLeak</th>\n",
       "    </tr>\n",
       "  </thead>\n",
       "  <tbody>\n",
       "    <tr>\n",
       "      <th>0</th>\n",
       "      <td>-13</td>\n",
       "      <td>1</td>\n",
       "      <td>0.0</td>\n",
       "      <td>0</td>\n",
       "      <td>1</td>\n",
       "      <td>4.38</td>\n",
       "      <td>1</td>\n",
       "      <td>1</td>\n",
       "      <td>1</td>\n",
       "      <td>8.84</td>\n",
       "      <td>0.0</td>\n",
       "      <td>0.0</td>\n",
       "      <td>0.00</td>\n",
       "      <td>0.0</td>\n",
       "    </tr>\n",
       "    <tr>\n",
       "      <th>1</th>\n",
       "      <td>-12</td>\n",
       "      <td>1</td>\n",
       "      <td>2.0</td>\n",
       "      <td>0</td>\n",
       "      <td>1</td>\n",
       "      <td>4.38</td>\n",
       "      <td>1</td>\n",
       "      <td>1</td>\n",
       "      <td>1</td>\n",
       "      <td>8.84</td>\n",
       "      <td>0.0</td>\n",
       "      <td>0.0</td>\n",
       "      <td>0.00</td>\n",
       "      <td>1.0</td>\n",
       "    </tr>\n",
       "    <tr>\n",
       "      <th>2</th>\n",
       "      <td>-11</td>\n",
       "      <td>1</td>\n",
       "      <td>313.0</td>\n",
       "      <td>0</td>\n",
       "      <td>1</td>\n",
       "      <td>4.38</td>\n",
       "      <td>1</td>\n",
       "      <td>1</td>\n",
       "      <td>1</td>\n",
       "      <td>8.84</td>\n",
       "      <td>2.0</td>\n",
       "      <td>1.0</td>\n",
       "      <td>0.00</td>\n",
       "      <td>0.0</td>\n",
       "    </tr>\n",
       "    <tr>\n",
       "      <th>3</th>\n",
       "      <td>-10</td>\n",
       "      <td>1</td>\n",
       "      <td>35.0</td>\n",
       "      <td>0</td>\n",
       "      <td>1</td>\n",
       "      <td>4.38</td>\n",
       "      <td>1</td>\n",
       "      <td>1</td>\n",
       "      <td>1</td>\n",
       "      <td>8.84</td>\n",
       "      <td>313.0</td>\n",
       "      <td>157.5</td>\n",
       "      <td>0.00</td>\n",
       "      <td>0.0</td>\n",
       "    </tr>\n",
       "    <tr>\n",
       "      <th>4</th>\n",
       "      <td>-9</td>\n",
       "      <td>1</td>\n",
       "      <td>3.0</td>\n",
       "      <td>0</td>\n",
       "      <td>1</td>\n",
       "      <td>4.38</td>\n",
       "      <td>1</td>\n",
       "      <td>1</td>\n",
       "      <td>1</td>\n",
       "      <td>8.84</td>\n",
       "      <td>35.0</td>\n",
       "      <td>174.0</td>\n",
       "      <td>87.50</td>\n",
       "      <td>0.0</td>\n",
       "    </tr>\n",
       "    <tr>\n",
       "      <th>5</th>\n",
       "      <td>-8</td>\n",
       "      <td>1</td>\n",
       "      <td>1.0</td>\n",
       "      <td>0</td>\n",
       "      <td>1</td>\n",
       "      <td>4.38</td>\n",
       "      <td>1</td>\n",
       "      <td>1</td>\n",
       "      <td>1</td>\n",
       "      <td>8.84</td>\n",
       "      <td>3.0</td>\n",
       "      <td>19.0</td>\n",
       "      <td>88.25</td>\n",
       "      <td>0.0</td>\n",
       "    </tr>\n",
       "    <tr>\n",
       "      <th>6</th>\n",
       "      <td>-7</td>\n",
       "      <td>1</td>\n",
       "      <td>1.0</td>\n",
       "      <td>0</td>\n",
       "      <td>1</td>\n",
       "      <td>4.38</td>\n",
       "      <td>1</td>\n",
       "      <td>1</td>\n",
       "      <td>1</td>\n",
       "      <td>8.84</td>\n",
       "      <td>1.0</td>\n",
       "      <td>2.0</td>\n",
       "      <td>88.00</td>\n",
       "      <td>0.0</td>\n",
       "    </tr>\n",
       "    <tr>\n",
       "      <th>7</th>\n",
       "      <td>-6</td>\n",
       "      <td>1</td>\n",
       "      <td>2.0</td>\n",
       "      <td>0</td>\n",
       "      <td>1</td>\n",
       "      <td>4.38</td>\n",
       "      <td>1</td>\n",
       "      <td>1</td>\n",
       "      <td>1</td>\n",
       "      <td>8.84</td>\n",
       "      <td>1.0</td>\n",
       "      <td>1.0</td>\n",
       "      <td>10.00</td>\n",
       "      <td>0.0</td>\n",
       "    </tr>\n",
       "    <tr>\n",
       "      <th>8</th>\n",
       "      <td>-5</td>\n",
       "      <td>1</td>\n",
       "      <td>299.0</td>\n",
       "      <td>0</td>\n",
       "      <td>1</td>\n",
       "      <td>4.38</td>\n",
       "      <td>1</td>\n",
       "      <td>1</td>\n",
       "      <td>1</td>\n",
       "      <td>8.84</td>\n",
       "      <td>2.0</td>\n",
       "      <td>1.5</td>\n",
       "      <td>1.75</td>\n",
       "      <td>0.0</td>\n",
       "    </tr>\n",
       "    <tr>\n",
       "      <th>9</th>\n",
       "      <td>-4</td>\n",
       "      <td>1</td>\n",
       "      <td>3.0</td>\n",
       "      <td>0</td>\n",
       "      <td>1</td>\n",
       "      <td>4.38</td>\n",
       "      <td>1</td>\n",
       "      <td>1</td>\n",
       "      <td>1</td>\n",
       "      <td>8.84</td>\n",
       "      <td>299.0</td>\n",
       "      <td>150.5</td>\n",
       "      <td>75.75</td>\n",
       "      <td>0.0</td>\n",
       "    </tr>\n",
       "    <tr>\n",
       "      <th>10</th>\n",
       "      <td>-3</td>\n",
       "      <td>1</td>\n",
       "      <td>31.0</td>\n",
       "      <td>0</td>\n",
       "      <td>1</td>\n",
       "      <td>4.38</td>\n",
       "      <td>1</td>\n",
       "      <td>1</td>\n",
       "      <td>1</td>\n",
       "      <td>8.84</td>\n",
       "      <td>3.0</td>\n",
       "      <td>151.0</td>\n",
       "      <td>76.25</td>\n",
       "      <td>0.0</td>\n",
       "    </tr>\n",
       "    <tr>\n",
       "      <th>11</th>\n",
       "      <td>-2</td>\n",
       "      <td>1</td>\n",
       "      <td>0.0</td>\n",
       "      <td>0</td>\n",
       "      <td>1</td>\n",
       "      <td>4.38</td>\n",
       "      <td>1</td>\n",
       "      <td>1</td>\n",
       "      <td>1</td>\n",
       "      <td>8.84</td>\n",
       "      <td>31.0</td>\n",
       "      <td>17.0</td>\n",
       "      <td>83.75</td>\n",
       "      <td>0.0</td>\n",
       "    </tr>\n",
       "    <tr>\n",
       "      <th>12</th>\n",
       "      <td>-1</td>\n",
       "      <td>1</td>\n",
       "      <td>3.0</td>\n",
       "      <td>0</td>\n",
       "      <td>1</td>\n",
       "      <td>4.38</td>\n",
       "      <td>1</td>\n",
       "      <td>1</td>\n",
       "      <td>1</td>\n",
       "      <td>8.84</td>\n",
       "      <td>0.0</td>\n",
       "      <td>15.5</td>\n",
       "      <td>83.25</td>\n",
       "      <td>0.0</td>\n",
       "    </tr>\n",
       "  </tbody>\n",
       "</table>\n",
       "</div>"
      ],
      "text/plain": [
       "    weekpair  itemID  order  brand  manufacturer  customerRating  category1  \\\n",
       "0        -13       1    0.0      0             1            4.38          1   \n",
       "1        -12       1    2.0      0             1            4.38          1   \n",
       "2        -11       1  313.0      0             1            4.38          1   \n",
       "3        -10       1   35.0      0             1            4.38          1   \n",
       "4         -9       1    3.0      0             1            4.38          1   \n",
       "5         -8       1    1.0      0             1            4.38          1   \n",
       "6         -7       1    1.0      0             1            4.38          1   \n",
       "7         -6       1    2.0      0             1            4.38          1   \n",
       "8         -5       1  299.0      0             1            4.38          1   \n",
       "9         -4       1    3.0      0             1            4.38          1   \n",
       "10        -3       1   31.0      0             1            4.38          1   \n",
       "11        -2       1    0.0      0             1            4.38          1   \n",
       "12        -1       1    3.0      0             1            4.38          1   \n",
       "\n",
       "    category2  category3  recommendedRetailPrice  item_1  item_2  item_4  \\\n",
       "0           1          1                    8.84     0.0     0.0    0.00   \n",
       "1           1          1                    8.84     0.0     0.0    0.00   \n",
       "2           1          1                    8.84     2.0     1.0    0.00   \n",
       "3           1          1                    8.84   313.0   157.5    0.00   \n",
       "4           1          1                    8.84    35.0   174.0   87.50   \n",
       "5           1          1                    8.84     3.0    19.0   88.25   \n",
       "6           1          1                    8.84     1.0     2.0   88.00   \n",
       "7           1          1                    8.84     1.0     1.0   10.00   \n",
       "8           1          1                    8.84     2.0     1.5    1.75   \n",
       "9           1          1                    8.84   299.0   150.5   75.75   \n",
       "10          1          1                    8.84     3.0   151.0   76.25   \n",
       "11          1          1                    8.84    31.0    17.0   83.75   \n",
       "12          1          1                    8.84     0.0    15.5   83.25   \n",
       "\n",
       "    dist2firstvalueLeak  \n",
       "0                   0.0  \n",
       "1                   1.0  \n",
       "2                   0.0  \n",
       "3                   0.0  \n",
       "4                   0.0  \n",
       "5                   0.0  \n",
       "6                   0.0  \n",
       "7                   0.0  \n",
       "8                   0.0  \n",
       "9                   0.0  \n",
       "10                  0.0  \n",
       "11                  0.0  \n",
       "12                  0.0  "
      ]
     },
     "execution_count": 107,
     "metadata": {},
     "output_type": "execute_result"
    }
   ],
   "source": [
    "# checking if we got what we wanted\n",
    "data.query('itemID == 1')"
   ]
  },
  {
   "cell_type": "code",
   "execution_count": null,
   "metadata": {},
   "outputs": [],
   "source": []
  },
  {
   "cell_type": "code",
   "execution_count": 108,
   "metadata": {},
   "outputs": [],
   "source": [
    "# data['weekswithtrans'] = data.groupby('itemID')['order'].apply(lambda x : (x > 0).cumsum()) / (data['weekpair'] + 14)"
   ]
  },
  {
   "cell_type": "code",
   "execution_count": 109,
   "metadata": {},
   "outputs": [],
   "source": [
    "counts = data.groupby('itemID')['order'].apply(lambda x : (x > 0).sum())"
   ]
  },
  {
   "cell_type": "code",
   "execution_count": 110,
   "metadata": {},
   "outputs": [
    {
     "data": {
      "image/png": "[encoded data removed]",
      "text/plain": [
       "<Figure size 432x288 with 1 Axes>"
      ]
     },
     "metadata": {
      "needs_background": "light"
     },
     "output_type": "display_data"
    }
   ],
   "source": [
    "plt.hist(counts, bins = range(17))\n",
    "plt.ylabel('quantidade de itens')\n",
    "plt.xlabel('semanas com transação')\n",
    "plt.show()"
   ]
  },
  {
   "cell_type": "code",
   "execution_count": 111,
   "metadata": {},
   "outputs": [],
   "source": [
    "# f = 'itemID'\n",
    "# temp = data.groupby([f, 'week'])[['order']].sum()\n",
    "# shifted = temp.groupby(f)[['order']].shift(1)\n",
    "# data['feature'] = (shifted.fillna(0) > 0).groupby(f)[['order']].cumsum().values"
   ]
  },
  {
   "cell_type": "code",
   "execution_count": 112,
   "metadata": {},
   "outputs": [
    {
     "data": {
      "text/html": [
       "<div>\n",
       "<style scoped>\n",
       "    .dataframe tbody tr th:only-of-type {\n",
       "        vertical-align: middle;\n",
       "    }\n",
       "\n",
       "    .dataframe tbody tr th {\n",
       "        vertical-align: top;\n",
       "    }\n",
       "\n",
       "    .dataframe thead th {\n",
       "        text-align: right;\n",
       "    }\n",
       "</style>\n",
       "<table border=\"1\" class=\"dataframe\">\n",
       "  <thead>\n",
       "    <tr style=\"text-align: right;\">\n",
       "      <th></th>\n",
       "      <th>weekpair</th>\n",
       "      <th>itemID</th>\n",
       "      <th>order</th>\n",
       "      <th>brand</th>\n",
       "      <th>manufacturer</th>\n",
       "      <th>customerRating</th>\n",
       "      <th>category1</th>\n",
       "      <th>category2</th>\n",
       "      <th>category3</th>\n",
       "      <th>recommendedRetailPrice</th>\n",
       "      <th>item_1</th>\n",
       "      <th>item_2</th>\n",
       "      <th>item_4</th>\n",
       "      <th>dist2firstvalueLeak</th>\n",
       "    </tr>\n",
       "  </thead>\n",
       "  <tbody>\n",
       "    <tr>\n",
       "      <th>0</th>\n",
       "      <td>-13</td>\n",
       "      <td>1</td>\n",
       "      <td>0.0</td>\n",
       "      <td>0</td>\n",
       "      <td>1</td>\n",
       "      <td>4.38</td>\n",
       "      <td>1</td>\n",
       "      <td>1</td>\n",
       "      <td>1</td>\n",
       "      <td>8.84</td>\n",
       "      <td>0.0</td>\n",
       "      <td>0.0</td>\n",
       "      <td>0.0</td>\n",
       "      <td>0.0</td>\n",
       "    </tr>\n",
       "    <tr>\n",
       "      <th>1</th>\n",
       "      <td>-12</td>\n",
       "      <td>1</td>\n",
       "      <td>2.0</td>\n",
       "      <td>0</td>\n",
       "      <td>1</td>\n",
       "      <td>4.38</td>\n",
       "      <td>1</td>\n",
       "      <td>1</td>\n",
       "      <td>1</td>\n",
       "      <td>8.84</td>\n",
       "      <td>0.0</td>\n",
       "      <td>0.0</td>\n",
       "      <td>0.0</td>\n",
       "      <td>1.0</td>\n",
       "    </tr>\n",
       "    <tr>\n",
       "      <th>2</th>\n",
       "      <td>-11</td>\n",
       "      <td>1</td>\n",
       "      <td>313.0</td>\n",
       "      <td>0</td>\n",
       "      <td>1</td>\n",
       "      <td>4.38</td>\n",
       "      <td>1</td>\n",
       "      <td>1</td>\n",
       "      <td>1</td>\n",
       "      <td>8.84</td>\n",
       "      <td>2.0</td>\n",
       "      <td>1.0</td>\n",
       "      <td>0.0</td>\n",
       "      <td>0.0</td>\n",
       "    </tr>\n",
       "    <tr>\n",
       "      <th>3</th>\n",
       "      <td>-10</td>\n",
       "      <td>1</td>\n",
       "      <td>35.0</td>\n",
       "      <td>0</td>\n",
       "      <td>1</td>\n",
       "      <td>4.38</td>\n",
       "      <td>1</td>\n",
       "      <td>1</td>\n",
       "      <td>1</td>\n",
       "      <td>8.84</td>\n",
       "      <td>313.0</td>\n",
       "      <td>157.5</td>\n",
       "      <td>0.0</td>\n",
       "      <td>0.0</td>\n",
       "    </tr>\n",
       "    <tr>\n",
       "      <th>4</th>\n",
       "      <td>-9</td>\n",
       "      <td>1</td>\n",
       "      <td>3.0</td>\n",
       "      <td>0</td>\n",
       "      <td>1</td>\n",
       "      <td>4.38</td>\n",
       "      <td>1</td>\n",
       "      <td>1</td>\n",
       "      <td>1</td>\n",
       "      <td>8.84</td>\n",
       "      <td>35.0</td>\n",
       "      <td>174.0</td>\n",
       "      <td>87.5</td>\n",
       "      <td>0.0</td>\n",
       "    </tr>\n",
       "  </tbody>\n",
       "</table>\n",
       "</div>"
      ],
      "text/plain": [
       "   weekpair  itemID  order  brand  manufacturer  customerRating  category1  \\\n",
       "0       -13       1    0.0      0             1            4.38          1   \n",
       "1       -12       1    2.0      0             1            4.38          1   \n",
       "2       -11       1  313.0      0             1            4.38          1   \n",
       "3       -10       1   35.0      0             1            4.38          1   \n",
       "4        -9       1    3.0      0             1            4.38          1   \n",
       "\n",
       "   category2  category3  recommendedRetailPrice  item_1  item_2  item_4  \\\n",
       "0          1          1                    8.84     0.0     0.0     0.0   \n",
       "1          1          1                    8.84     0.0     0.0     0.0   \n",
       "2          1          1                    8.84     2.0     1.0     0.0   \n",
       "3          1          1                    8.84   313.0   157.5     0.0   \n",
       "4          1          1                    8.84    35.0   174.0    87.5   \n",
       "\n",
       "   dist2firstvalueLeak  \n",
       "0                  0.0  \n",
       "1                  1.0  \n",
       "2                  0.0  \n",
       "3                  0.0  \n",
       "4                  0.0  "
      ]
     },
     "execution_count": 112,
     "metadata": {},
     "output_type": "execute_result"
    }
   ],
   "source": [
    "data.head()"
   ]
  },
  {
   "cell_type": "markdown",
   "metadata": {},
   "source": [
    "##  - Split Data"
   ]
  },
  {
   "cell_type": "code",
   "execution_count": 113,
   "metadata": {},
   "outputs": [],
   "source": [
    "filtered_data = data"
   ]
  },
  {
   "cell_type": "code",
   "execution_count": 142,
   "metadata": {},
   "outputs": [],
   "source": [
    "sub_week = -1\n",
    "train = filtered_data.query('-13 <= weekpair <= (@sub_week - 2)').reset_index(drop = True)\n",
    "full_train = filtered_data.query('-13 <= weekpair <= (@sub_week - 1)').reset_index(drop = True)\n",
    "val = filtered_data.query('weekpair == (@sub_week - 1)').reset_index(drop = True)\n",
    "sub = filtered_data.query('weekpair == (@sub_week)').reset_index(drop = True)"
   ]
  },
  {
   "cell_type": "code",
   "execution_count": 143,
   "metadata": {},
   "outputs": [
    {
     "data": {
      "text/plain": [
       "(115093, 10463, 10463)"
      ]
     },
     "execution_count": 143,
     "metadata": {},
     "output_type": "execute_result"
    }
   ],
   "source": [
    "len(train), len(val), len(sub)"
   ]
  },
  {
   "cell_type": "code",
   "execution_count": 144,
   "metadata": {},
   "outputs": [],
   "source": [
    "weights = infos.set_index('itemID')['simulationPrice'].to_dict()"
   ]
  },
  {
   "cell_type": "code",
   "execution_count": 145,
   "metadata": {},
   "outputs": [
    {
     "data": {
      "text/plain": [
       "Index(['weekpair', 'itemID', 'order', 'brand', 'manufacturer',\n",
       "       'customerRating', 'category1', 'category2', 'category3',\n",
       "       'recommendedRetailPrice', 'item_1', 'item_2', 'item_4',\n",
       "       'dist2firstvalueLeak'],\n",
       "      dtype='object')"
      ]
     },
     "execution_count": 145,
     "metadata": {},
     "output_type": "execute_result"
    }
   ],
   "source": [
    "train.columns"
   ]
  },
  {
   "cell_type": "code",
   "execution_count": 146,
   "metadata": {},
   "outputs": [],
   "source": [
    "y_train = train.pop('order').values\n",
    "y_full_train = full_train.pop('order').values\n",
    "y_val = val.pop('order').values\n",
    "y_sub = sub.pop('order').values\n",
    "\n",
    "X_train = train.values\n",
    "X_full_train = full_train.values\n",
    "X_val = val.values\n",
    "X_sub = sub.values\n",
    "\n",
    "w_train = train['itemID'].map(weights)\n",
    "w_full_train = full_train['itemID'].map(weights)\n",
    "w_val = val['itemID'].map(weights)\n",
    "w_sub = sub['itemID'].map(weights)"
   ]
  },
  {
   "cell_type": "markdown",
   "metadata": {},
   "source": [
    "<hr>"
   ]
  },
  {
   "cell_type": "markdown",
   "metadata": {},
   "source": [
    "## - Min Expected Error"
   ]
  },
  {
   "cell_type": "code",
   "execution_count": 147,
   "metadata": {},
   "outputs": [],
   "source": [
    "def evaluate(prediction, target, simulationPrice):\n",
    "    return np.sum((prediction - np.maximum(prediction - target, 0) * 1.6)  * simulationPrice)"
   ]
  },
  {
   "cell_type": "code",
   "execution_count": 148,
   "metadata": {},
   "outputs": [],
   "source": [
    "# max expected rmse\n",
    "from sklearn.metrics import mean_squared_error as mse\n",
    "# pred = data.loc[1:12].groupby('itemID')['order'].mean().sort_index()\n",
    "# target_week = data.loc[13:, 'order'].reset_index(level = 0, drop = True).sort_index()\n",
    "# mse(target_week, pred) ** .5"
   ]
  },
  {
   "cell_type": "markdown",
   "metadata": {},
   "source": [
    "<hr>"
   ]
  },
  {
   "cell_type": "markdown",
   "metadata": {},
   "source": [
    "## - XGBoost"
   ]
  },
  {
   "cell_type": "code",
   "execution_count": 149,
   "metadata": {},
   "outputs": [],
   "source": [
    "import xgboost as xgb"
   ]
  },
  {
   "cell_type": "code",
   "execution_count": 150,
   "metadata": {},
   "outputs": [
    {
     "data": {
      "text/plain": [
       "'1.1.0'"
      ]
     },
     "execution_count": 150,
     "metadata": {},
     "output_type": "execute_result"
    }
   ],
   "source": [
    "xgb.__version__"
   ]
  },
  {
   "cell_type": "code",
   "execution_count": 151,
   "metadata": {},
   "outputs": [],
   "source": [
    "# custom objective\n",
    "\n",
    "def gradient(prediction, dtrain):\n",
    "    y = dtrain.get_label()\n",
    "#     prediction.astype(int)\n",
    "#     prediction = np.minimum(prediction.astype(int), 1)\n",
    "    return -2 * (prediction - np.maximum(prediction - y, 0) * 1.6) * (1 - (prediction > y) * 1.6)\n",
    "\n",
    "def hessian(prediction, dtrain):\n",
    "    y = dtrain.get_label()\n",
    "#     prediction.prediction(int)\n",
    "#     prediction = np.minimum(prediction.astype(int), 1)\n",
    "    return -2 * (1 - (prediction > y) * 1.6) ** 2\n",
    "\n",
    "def objective(prediction, dtrain):\n",
    "    w = dtrain.get_weight()\n",
    "    grad = gradient(prediction, dtrain) * w\n",
    "    hess = hessian(prediction, dtrain) * w\n",
    "    return grad, hess"
   ]
  },
  {
   "cell_type": "code",
   "execution_count": 152,
   "metadata": {},
   "outputs": [],
   "source": [
    "# custom feval\n",
    "\n",
    "def feval(prediction, dtrain):\n",
    "    prediction = prediction.astype(int)\n",
    "#     predt = np.minimum(predt.astype(int), 1)\n",
    "    target = dtrain.get_label()\n",
    "    simulationPrice = dtrain.get_weight()\n",
    "    return 'feval', np.sum((prediction - np.maximum(prediction - target, 0) * 1.6)  * simulationPrice)"
   ]
  },
  {
   "cell_type": "code",
   "execution_count": 153,
   "metadata": {
    "scrolled": true
   },
   "outputs": [
    {
     "name": "stdout",
     "output_type": "stream",
     "text": [
      "[0]\ttrain-feval:130578.61800\tval-feval:14003.92400\n",
      "Multiple eval metrics have been passed: 'val-feval' will be used for early stopping.\n",
      "\n",
      "Will train until val-feval hasn't improved in 30 rounds.\n",
      "[1]\ttrain-feval:298002.28792\tval-feval:26863.46196\n",
      "[2]\ttrain-feval:485408.61184\tval-feval:49234.78198\n",
      "[3]\ttrain-feval:703376.84990\tval-feval:73677.97397\n",
      "[4]\ttrain-feval:852346.02610\tval-feval:86166.47597\n",
      "[5]\ttrain-feval:1003731.56225\tval-feval:98456.19796\n",
      "[6]\ttrain-feval:1168661.57212\tval-feval:109510.11994\n",
      "[7]\ttrain-feval:1288984.89422\tval-feval:119135.06194\n",
      "[8]\ttrain-feval:1475870.45026\tval-feval:133675.51398\n",
      "[9]\ttrain-feval:1630356.33795\tval-feval:144401.26998\n",
      "[10]\ttrain-feval:1873078.75636\tval-feval:162218.07602\n",
      "[11]\ttrain-feval:2026791.19454\tval-feval:174309.81995\n",
      "[12]\ttrain-feval:2242418.42458\tval-feval:185354.05402\n",
      "[13]\ttrain-feval:2400483.42239\tval-feval:198551.44400\n",
      "[14]\ttrain-feval:2494699.16843\tval-feval:202349.12603\n",
      "[15]\ttrain-feval:2622870.29448\tval-feval:212185.32409\n",
      "[16]\ttrain-feval:2758298.98659\tval-feval:220823.14815\n",
      "[17]\ttrain-feval:2891907.03878\tval-feval:234456.20008\n",
      "[18]\ttrain-feval:3019862.59280\tval-feval:248250.06010\n",
      "[19]\ttrain-feval:3130547.92858\tval-feval:257125.63612\n",
      "[20]\ttrain-feval:3231828.87861\tval-feval:263809.25805\n",
      "[21]\ttrain-feval:3414067.26832\tval-feval:274627.68815\n",
      "[22]\ttrain-feval:3572701.28490\tval-feval:284641.19010\n",
      "[23]\ttrain-feval:3680562.62888\tval-feval:291427.89210\n",
      "[24]\ttrain-feval:3842543.72251\tval-feval:309009.82606\n",
      "[25]\ttrain-feval:3952448.57861\tval-feval:316990.21407\n",
      "[26]\ttrain-feval:4059864.14692\tval-feval:321700.64207\n",
      "[27]\ttrain-feval:4189385.90270\tval-feval:326756.49007\n",
      "[28]\ttrain-feval:4280691.96278\tval-feval:332390.62414\n",
      "[29]\ttrain-feval:4404782.40255\tval-feval:343785.60016\n",
      "[30]\ttrain-feval:4586954.65297\tval-feval:348527.99615\n",
      "[31]\ttrain-feval:4669261.80897\tval-feval:349075.97018\n",
      "[32]\ttrain-feval:4781754.16119\tval-feval:357273.89620\n",
      "[33]\ttrain-feval:4872900.86909\tval-feval:360339.37021\n",
      "[34]\ttrain-feval:4959654.04712\tval-feval:363400.67022\n",
      "[35]\ttrain-feval:5040322.05924\tval-feval:372687.25029\n",
      "[36]\ttrain-feval:5129677.55719\tval-feval:378846.57427\n",
      "[37]\ttrain-feval:5223582.26539\tval-feval:381482.41825\n",
      "[38]\ttrain-feval:5425210.99568\tval-feval:391551.86435\n",
      "[39]\ttrain-feval:5499008.78573\tval-feval:394969.39629\n",
      "[40]\ttrain-feval:5594273.10979\tval-feval:395944.29836\n",
      "[41]\ttrain-feval:5680133.90982\tval-feval:400757.95839\n",
      "[42]\ttrain-feval:5765152.51556\tval-feval:407938.96836\n",
      "[43]\ttrain-feval:5835844.46361\tval-feval:410836.56635\n",
      "[44]\ttrain-feval:5925708.17546\tval-feval:417151.76841\n",
      "[45]\ttrain-feval:5992361.44949\tval-feval:418502.11040\n",
      "[46]\ttrain-feval:6071500.32752\tval-feval:420817.15042\n",
      "[47]\ttrain-feval:6150171.83768\tval-feval:425035.22640\n",
      "[48]\ttrain-feval:6255607.39947\tval-feval:433313.01841\n",
      "[49]\ttrain-feval:6336635.53756\tval-feval:434325.95843\n",
      "[50]\ttrain-feval:6413961.15547\tval-feval:440118.52441\n",
      "[51]\ttrain-feval:6543657.25159\tval-feval:441303.95041\n",
      "[52]\ttrain-feval:6627139.00160\tval-feval:443563.33839\n",
      "[53]\ttrain-feval:6692083.86981\tval-feval:448626.71638\n",
      "[54]\ttrain-feval:6789825.92387\tval-feval:451267.91037\n",
      "[55]\ttrain-feval:6886744.93798\tval-feval:456204.83840\n",
      "[56]\ttrain-feval:6970846.33401\tval-feval:460807.20236\n",
      "[57]\ttrain-feval:7051846.98814\tval-feval:465835.79634\n",
      "[58]\ttrain-feval:7109081.74797\tval-feval:469128.92238\n",
      "[59]\ttrain-feval:7185517.61006\tval-feval:476998.86843\n",
      "[60]\ttrain-feval:7264310.64201\tval-feval:475756.86244\n",
      "[61]\ttrain-feval:7351459.26610\tval-feval:475104.80444\n",
      "[62]\ttrain-feval:7420933.99809\tval-feval:476697.14641\n",
      "[63]\ttrain-feval:7512236.02622\tval-feval:481446.72050\n",
      "[64]\ttrain-feval:7571404.97628\tval-feval:481340.72851\n",
      "[65]\ttrain-feval:7643213.31830\tval-feval:488066.40247\n",
      "[66]\ttrain-feval:7712860.53423\tval-feval:497052.30448\n",
      "[67]\ttrain-feval:7783432.33018\tval-feval:498795.39647\n",
      "[68]\ttrain-feval:7881192.34212\tval-feval:497539.36840\n",
      "[69]\ttrain-feval:7963697.54602\tval-feval:501811.22445\n",
      "[70]\ttrain-feval:8062003.30418\tval-feval:506662.96645\n",
      "[71]\ttrain-feval:8136112.87604\tval-feval:508028.64243\n",
      "[72]\ttrain-feval:8176181.79582\tval-feval:507649.41845\n",
      "[73]\ttrain-feval:8245024.57800\tval-feval:512058.09043\n",
      "[74]\ttrain-feval:8346724.70409\tval-feval:512940.46639\n",
      "[75]\ttrain-feval:8432239.54428\tval-feval:512331.00044\n",
      "[76]\ttrain-feval:8554888.69019\tval-feval:515742.90242\n",
      "[77]\ttrain-feval:8638972.20201\tval-feval:520384.31045\n",
      "[78]\ttrain-feval:8733196.60432\tval-feval:522039.85639\n",
      "[79]\ttrain-feval:8783093.55022\tval-feval:521317.82638\n",
      "[80]\ttrain-feval:8907413.04098\tval-feval:526902.52043\n",
      "[81]\ttrain-feval:8967936.81717\tval-feval:532302.36848\n",
      "[82]\ttrain-feval:9051202.57722\tval-feval:535041.74847\n",
      "[83]\ttrain-feval:9118383.31708\tval-feval:535193.51450\n",
      "[84]\ttrain-feval:9172897.64102\tval-feval:543098.32249\n",
      "[85]\ttrain-feval:9239234.54303\tval-feval:542574.90048\n",
      "[86]\ttrain-feval:9316141.98142\tval-feval:544441.82649\n",
      "[87]\ttrain-feval:9388103.65134\tval-feval:542703.06251\n",
      "[88]\ttrain-feval:9461028.98710\tval-feval:542650.85453\n",
      "[89]\ttrain-feval:9524477.72540\tval-feval:551054.74059\n",
      "[90]\ttrain-feval:9588393.33145\tval-feval:551876.63458\n",
      "[91]\ttrain-feval:9645109.75553\tval-feval:550686.32056\n",
      "[92]\ttrain-feval:9705273.52574\tval-feval:552312.26854\n",
      "[93]\ttrain-feval:9775989.98926\tval-feval:551759.44653\n",
      "[94]\ttrain-feval:9844294.19354\tval-feval:556052.40256\n",
      "[95]\ttrain-feval:9917492.42336\tval-feval:557082.52255\n",
      "[96]\ttrain-feval:9972304.86944\tval-feval:557981.27455\n",
      "[97]\ttrain-feval:10028970.93936\tval-feval:560461.53847\n",
      "[98]\ttrain-feval:10087686.29301\tval-feval:564677.60453\n",
      "[99]\ttrain-feval:10153644.03518\tval-feval:565544.69852\n",
      "[100]\ttrain-feval:10206196.20734\tval-feval:566781.09850\n",
      "[101]\ttrain-feval:10302282.74962\tval-feval:568443.14250\n",
      "[102]\ttrain-feval:10370445.40385\tval-feval:568431.84443\n",
      "[103]\ttrain-feval:10417659.27633\tval-feval:570875.87045\n",
      "[104]\ttrain-feval:10473435.94840\tval-feval:575543.54848\n",
      "[105]\ttrain-feval:10524966.01447\tval-feval:577583.62843\n",
      "[106]\ttrain-feval:10623343.50820\tval-feval:568571.85836\n",
      "[107]\ttrain-feval:10690589.69433\tval-feval:570808.73644\n",
      "[108]\ttrain-feval:10737702.59639\tval-feval:570559.18838\n",
      "[109]\ttrain-feval:10808571.77860\tval-feval:570886.02434\n",
      "[110]\ttrain-feval:10864114.48855\tval-feval:574179.85832\n",
      "[111]\ttrain-feval:10925230.19445\tval-feval:572368.66035\n",
      "[112]\ttrain-feval:10979891.73655\tval-feval:572914.08837\n",
      "[113]\ttrain-feval:11023751.00658\tval-feval:574884.44832\n",
      "[114]\ttrain-feval:11087860.71461\tval-feval:577101.51430\n",
      "[115]\ttrain-feval:11142872.63263\tval-feval:577942.74230\n",
      "[116]\ttrain-feval:11191912.33871\tval-feval:577362.88828\n",
      "[117]\ttrain-feval:11249012.06481\tval-feval:581551.52233\n",
      "[118]\ttrain-feval:11297218.43892\tval-feval:581618.78627\n",
      "[119]\ttrain-feval:11343317.43110\tval-feval:580911.63025\n",
      "[120]\ttrain-feval:11392531.32906\tval-feval:581132.73822\n",
      "[121]\ttrain-feval:11435667.52307\tval-feval:580905.97024\n",
      "[122]\ttrain-feval:11499769.64731\tval-feval:580131.55823\n",
      "[123]\ttrain-feval:11561311.58335\tval-feval:579822.05826\n",
      "[124]\ttrain-feval:11605360.27747\tval-feval:578148.98625\n",
      "[125]\ttrain-feval:11676001.44157\tval-feval:580963.03223\n",
      "[126]\ttrain-feval:11716048.74211\tval-feval:545311.51025\n",
      "[127]\ttrain-feval:11773041.07401\tval-feval:547677.91028\n",
      "[128]\ttrain-feval:11821354.06620\tval-feval:548716.27626\n",
      "[129]\ttrain-feval:11872276.32636\tval-feval:549352.66823\n",
      "[130]\ttrain-feval:11955405.17398\tval-feval:552115.41022\n",
      "[131]\ttrain-feval:11986160.78953\tval-feval:546859.01213\n",
      "[132]\ttrain-feval:12041697.70560\tval-feval:547058.35415\n",
      "[133]\ttrain-feval:12094324.87769\tval-feval:547475.68815\n",
      "[134]\ttrain-feval:12143621.05557\tval-feval:547934.53618\n",
      "[135]\ttrain-feval:12189784.04169\tval-feval:547208.27816\n",
      "[136]\ttrain-feval:12240453.14157\tval-feval:547266.14817\n",
      "[137]\ttrain-feval:12264249.23554\tval-feval:549318.89017\n",
      "[138]\ttrain-feval:12346207.04015\tval-feval:553135.77615\n",
      "[139]\ttrain-feval:12380704.17396\tval-feval:556088.63816\n",
      "[140]\ttrain-feval:12421744.83000\tval-feval:550573.66795\n",
      "[141]\ttrain-feval:12459304.38594\tval-feval:553838.09982\n",
      "[142]\ttrain-feval:12492516.74004\tval-feval:542694.69573\n",
      "[143]\ttrain-feval:12556464.92967\tval-feval:543479.51574\n",
      "[144]\ttrain-feval:12612736.63779\tval-feval:545055.25171\n",
      "[145]\ttrain-feval:12656394.21801\tval-feval:544976.03172\n",
      "[146]\ttrain-feval:12709865.48995\tval-feval:545944.93175\n",
      "[147]\ttrain-feval:12757476.03202\tval-feval:545408.29973\n"
     ]
    },
    {
     "name": "stdout",
     "output_type": "stream",
     "text": [
      "[148]\ttrain-feval:12803178.05199\tval-feval:546165.85769\n",
      "Stopping. Best iteration:\n",
      "[118]\ttrain-feval:11297218.43892\tval-feval:581618.78627\n",
      "\n"
     ]
    }
   ],
   "source": [
    "dtrain = xgb.DMatrix(X_train, y_train, w_train, missing = -999)\n",
    "dfulltrain = xgb.DMatrix(X_full_train, y_full_train, w_full_train, missing = -999)\n",
    "dval = xgb.DMatrix(X_val, y_val, w_val, missing = -999)\n",
    "dsub = xgb.DMatrix(X_sub, y_sub, w_sub, missing = -999)\n",
    "# specify parameters via map\n",
    "param = {\n",
    "    'max_depth':10,\n",
    "    'eta':0.005,\n",
    "    'objective':'reg:squarederror',\n",
    "    'disable_default_eval_metric': 1,\n",
    "#     'tree_method' : 'gpu_hist',\n",
    "}\n",
    "num_round = 200\n",
    "bst = xgb.train(param, dtrain,\n",
    "                num_round,\n",
    "                early_stopping_rounds = 30,\n",
    "                evals = [(dtrain, 'train'), (dval, 'val')],\n",
    "#                 obj = objective,\n",
    "                feval = feval,\n",
    "                maximize = True,\n",
    "                )"
   ]
  },
  {
   "cell_type": "code",
   "execution_count": 154,
   "metadata": {},
   "outputs": [
    {
     "data": {
      "text/plain": [
       "631571.2659999998"
      ]
     },
     "execution_count": 154,
     "metadata": {},
     "output_type": "execute_result"
    }
   ],
   "source": [
    "prediction = bst.predict(dsub, ntree_limit=bst.best_ntree_limit).astype(int)\n",
    "evaluate(prediction, y_sub, w_sub)"
   ]
  },
  {
   "cell_type": "code",
   "execution_count": 155,
   "metadata": {},
   "outputs": [],
   "source": [
    "# retrain!"
   ]
  },
  {
   "cell_type": "code",
   "execution_count": 156,
   "metadata": {},
   "outputs": [],
   "source": [
    "bst_sub = xgb.train(param, dfulltrain,\n",
    "    num_boost_round = bst.best_ntree_limit, early_stopping_rounds = 5,\n",
    "    #                 obj = objective,\n",
    "    feval = feval, maximize = True,\n",
    "    evals = [(dfulltrain, 'ftrain')],\n",
    "    verbose_eval = False,\n",
    ")"
   ]
  },
  {
   "cell_type": "code",
   "execution_count": 157,
   "metadata": {},
   "outputs": [
    {
     "data": {
      "text/plain": [
       "524715.0119999999"
      ]
     },
     "execution_count": 157,
     "metadata": {},
     "output_type": "execute_result"
    }
   ],
   "source": [
    "prediction = bst_sub.predict(dsub, ntree_limit=bst_sub.best_ntree_limit).astype(int)\n",
    "evaluate(prediction, y_sub, w_sub)"
   ]
  },
  {
   "cell_type": "code",
   "execution_count": 91,
   "metadata": {},
   "outputs": [],
   "source": [
    "# some other things below"
   ]
  },
  {
   "cell_type": "code",
   "execution_count": 92,
   "metadata": {},
   "outputs": [
    {
     "data": {
      "text/plain": [
       "7683293.24"
      ]
     },
     "execution_count": 92,
     "metadata": {},
     "output_type": "execute_result"
    }
   ],
   "source": [
    "# max possible score\n",
    "evaluate(y_sub, y_sub, w_sub)"
   ]
  },
  {
   "cell_type": "code",
   "execution_count": 541,
   "metadata": {},
   "outputs": [
    {
     "data": {
      "text/plain": [
       "-3425880.0980000007"
      ]
     },
     "execution_count": 541,
     "metadata": {},
     "output_type": "execute_result"
    }
   ],
   "source": [
    "# using previous weekpair\n",
    "evaluate(y_val, y_sub, w_sub)"
   ]
  },
  {
   "cell_type": "code",
   "execution_count": 325,
   "metadata": {},
   "outputs": [],
   "source": [
    "submission = items[['itemID']].copy()\n",
    "submission['demandPrediction'] = bst.predict(dsub, ntree_limit=bst.best_ntree_limit).astype(int)\n",
    "submission.to_csv('../../submissions/sub_inclass_03.csv', sep = '|', index=False)\n",
    "# submission.head()"
   ]
  },
  {
   "cell_type": "markdown",
   "metadata": {},
   "source": [
    "<hr>"
   ]
  },
  {
   "cell_type": "markdown",
   "metadata": {},
   "source": [
    "## - LGBM"
   ]
  },
  {
   "cell_type": "code",
   "execution_count": 159,
   "metadata": {},
   "outputs": [],
   "source": [
    "def feval_lgbm(prediction, dtrain):\n",
    "    prediction = prediction.astype(int)\n",
    "    target = dtrain.get_label()\n",
    "    simulationPrice = dtrain.get_weight()\n",
    "    return 'feval', np.sum((prediction - np.maximum(prediction - target, 0) * 1.6)  * simulationPrice), True"
   ]
  },
  {
   "cell_type": "code",
   "execution_count": 172,
   "metadata": {},
   "outputs": [
    {
     "name": "stdout",
     "output_type": "stream",
     "text": [
      "Training until validation scores don't improve for 5 rounds\n",
      "[5]\ttrain's l1: 4.60933\ttrain's feval: 1.1929e+06\tval's l1: 6.12105\tval's feval: 54562.4\n",
      "[10]\ttrain's l1: 4.4976\ttrain's feval: 3.0359e+06\tval's l1: 6.01632\tval's feval: 204104\n",
      "[15]\ttrain's l1: 4.45259\ttrain's feval: 3.72497e+06\tval's l1: 5.97382\tval's feval: 269831\n",
      "[20]\ttrain's l1: 4.42003\ttrain's feval: 4.33319e+06\tval's l1: 5.9382\tval's feval: 311477\n",
      "[25]\ttrain's l1: 4.39785\ttrain's feval: 4.75345e+06\tval's l1: 5.92327\tval's feval: 348151\n",
      "[30]\ttrain's l1: 4.38512\ttrain's feval: 5.0382e+06\tval's l1: 5.90955\tval's feval: 360971\n",
      "[35]\ttrain's l1: 4.37291\ttrain's feval: 5.3883e+06\tval's l1: 5.89516\tval's feval: 395389\n",
      "[40]\ttrain's l1: 4.36097\ttrain's feval: 5.62592e+06\tval's l1: 5.8834\tval's feval: 411406\n",
      "[45]\ttrain's l1: 4.35725\ttrain's feval: 5.68121e+06\tval's l1: 5.87762\tval's feval: 420400\n",
      "[50]\ttrain's l1: 4.35453\ttrain's feval: 5.74903e+06\tval's l1: 5.87281\tval's feval: 428064\n",
      "[55]\ttrain's l1: 4.34992\ttrain's feval: 5.84219e+06\tval's l1: 5.86478\tval's feval: 436495\n",
      "[60]\ttrain's l1: 4.33887\ttrain's feval: 6.0857e+06\tval's l1: 5.85171\tval's feval: 457685\n",
      "[65]\ttrain's l1: 4.32919\ttrain's feval: 6.31291e+06\tval's l1: 5.84114\tval's feval: 482545\n",
      "[70]\ttrain's l1: 4.31716\ttrain's feval: 6.56442e+06\tval's l1: 5.82588\tval's feval: 512411\n",
      "[75]\ttrain's l1: 4.29378\ttrain's feval: 6.9989e+06\tval's l1: 5.78873\tval's feval: 584417\n",
      "[80]\ttrain's l1: 4.27251\ttrain's feval: 7.39727e+06\tval's l1: 5.75728\tval's feval: 650702\n",
      "[85]\ttrain's l1: 4.2585\ttrain's feval: 7.65525e+06\tval's l1: 5.74835\tval's feval: 689070\n",
      "[90]\ttrain's l1: 4.23744\ttrain's feval: 8.03691e+06\tval's l1: 5.70859\tval's feval: 749412\n",
      "[95]\ttrain's l1: 4.22181\ttrain's feval: 8.34499e+06\tval's l1: 5.67718\tval's feval: 798877\n",
      "[100]\ttrain's l1: 4.21701\ttrain's feval: 8.43869e+06\tval's l1: 5.66901\tval's feval: 813990\n",
      "Early stopping, best iteration is:\n",
      "[96]\ttrain's l1: 4.21756\ttrain's feval: 8.43397e+06\tval's l1: 5.66819\tval's feval: 813920\n"
     ]
    }
   ],
   "source": [
    "import lightgbm as lgb\n",
    "\n",
    "params = {\n",
    "          \"objective\" : 'regression_l1',\n",
    "#           \"metric\" :\"rmse\",\n",
    "          \"learning_rate\" : 0.05,\n",
    "          'verbosity': 2,\n",
    "#           'max_depth': 6,\n",
    "#           'num_leaves': 15,\n",
    "          \"min_data_in_leaf\":1500\n",
    "         }\n",
    "# https://lightgbm.readthedocs.io/en/latest/Parameters.html\n",
    "\n",
    "\n",
    "ds_params = {\n",
    "#     'categorical_feature' : [8, 9, 10],\n",
    "}\n",
    "lgbtrain = lgb.Dataset(X_train, label = y_train, weight=w_train, **ds_params)\n",
    "lgbfulltrain = lgb.Dataset(X_full_train, label = y_full_train, weight=w_full_train, **ds_params)\n",
    "lgbvalid = lgb.Dataset(X_val, label = y_val, weight=w_val, **ds_params)\n",
    "lgbsubmis = lgb.Dataset(X_sub, label = y_sub, weight=w_sub, **ds_params)\n",
    "\n",
    "num_round = 1000\n",
    "lgb_model = lgb.train(params,\n",
    "                  lgbtrain,\n",
    "                  num_round,\n",
    "                  valid_sets = [lgbtrain, lgbvalid],\n",
    "                  valid_names = ['train', 'val'],\n",
    "                  verbose_eval=5,\n",
    "                  early_stopping_rounds=5,\n",
    "                  feval = feval_lgbm,\n",
    "#                   fobj = objective,\n",
    "                 )"
   ]
  },
  {
   "cell_type": "code",
   "execution_count": 173,
   "metadata": {},
   "outputs": [
    {
     "data": {
      "text/plain": [
       "852638.408"
      ]
     },
     "execution_count": 173,
     "metadata": {},
     "output_type": "execute_result"
    }
   ],
   "source": [
    "prediction = lgb_model.predict(X_sub, num_iteration=lgb_model.best_iteration).astype(int)\n",
    "evaluate(prediction, y_sub, w_sub)"
   ]
  },
  {
   "cell_type": "code",
   "execution_count": 174,
   "metadata": {},
   "outputs": [],
   "source": [
    "# retrain!"
   ]
  },
  {
   "cell_type": "code",
   "execution_count": 175,
   "metadata": {},
   "outputs": [
    {
     "name": "stdout",
     "output_type": "stream",
     "text": [
      "Training until validation scores don't improve for 5 rounds\n",
      "[5]\ttrain's l1: 4.72377\ttrain's feval: 1.45205e+06\n",
      "[10]\ttrain's l1: 4.63331\ttrain's feval: 3.06341e+06\n",
      "[15]\ttrain's l1: 4.59507\ttrain's feval: 3.6609e+06\n",
      "[20]\ttrain's l1: 4.61191\ttrain's feval: 3.53721e+06\n",
      "[25]\ttrain's l1: 4.66227\ttrain's feval: 3.50389e+06\n",
      "[30]\ttrain's l1: 4.69321\ttrain's feval: 3.04971e+06\n",
      "[35]\ttrain's l1: 4.70075\ttrain's feval: 3.02904e+06\n",
      "[40]\ttrain's l1: 4.71441\ttrain's feval: 3.00331e+06\n",
      "[45]\ttrain's l1: 4.72791\ttrain's feval: 3.04155e+06\n",
      "[50]\ttrain's l1: 4.74702\ttrain's feval: 2.6162e+06\n",
      "[55]\ttrain's l1: 4.75423\ttrain's feval: 2.84078e+06\n",
      "[60]\ttrain's l1: 4.76259\ttrain's feval: 2.50595e+06\n",
      "[65]\ttrain's l1: 4.76465\ttrain's feval: 2.64505e+06\n",
      "[70]\ttrain's l1: 4.76247\ttrain's feval: 2.89819e+06\n",
      "[75]\ttrain's l1: 4.75908\ttrain's feval: 2.88661e+06\n",
      "[80]\ttrain's l1: 4.76195\ttrain's feval: 2.723e+06\n",
      "[85]\ttrain's l1: 4.76428\ttrain's feval: 2.75881e+06\n",
      "[90]\ttrain's l1: 4.76211\ttrain's feval: 2.86185e+06\n",
      "[95]\ttrain's l1: 4.76229\ttrain's feval: 2.9295e+06\n",
      "Did not meet early stopping. Best iteration is:\n",
      "[17]\ttrain's l1: 4.58075\ttrain's feval: 3.98244e+06\n"
     ]
    }
   ],
   "source": [
    "lgb_model_sub = lgb.train(params,\n",
    "                  lgbfulltrain,\n",
    "                  lgb_model.best_iteration,\n",
    "                  valid_sets = [lgbfulltrain],\n",
    "                  valid_names = ['train'],\n",
    "                  verbose_eval=5,\n",
    "                  early_stopping_rounds=5,\n",
    "                 feval = feval_lgbm,\n",
    "#                   fobj = objective,\n",
    "                 )"
   ]
  },
  {
   "cell_type": "code",
   "execution_count": 176,
   "metadata": {},
   "outputs": [
    {
     "data": {
      "text/plain": [
       "362890.07999999996"
      ]
     },
     "execution_count": 176,
     "metadata": {},
     "output_type": "execute_result"
    }
   ],
   "source": [
    "prediction = lgb_model_sub.predict(X_sub, num_iteration=lgb_model_sub.best_iteration).astype(int)\n",
    "evaluate(prediction, y_sub, w_sub)"
   ]
  },
  {
   "cell_type": "markdown",
   "metadata": {},
   "source": [
    "<hr>"
   ]
  },
  {
   "cell_type": "markdown",
   "metadata": {},
   "source": [
    "## - CatBoost"
   ]
  },
  {
   "cell_type": "code",
   "execution_count": 177,
   "metadata": {},
   "outputs": [],
   "source": [
    "from catboost import CatBoost, CatBoostRegressor, Pool"
   ]
  },
  {
   "cell_type": "code",
   "execution_count": 178,
   "metadata": {},
   "outputs": [],
   "source": [
    "class feval_cat(object):\n",
    "    def get_final_error(self, error, weight):\n",
    "        # return error / (weight + 1e-38)\n",
    "        return error\n",
    "\n",
    "    def is_max_optimal(self):\n",
    "        return True\n",
    "\n",
    "    def evaluate(self, approxes, target, simulationPrice):\n",
    "        prediction = np.array(approxes[0]).astype(int)\n",
    "        target = np.array(target[0]).astype(int)\n",
    "        simulationPrice = np.array(simulationPrice[0])\n",
    "        score = np.sum((prediction - np.maximum(prediction - target, 0) * 1.6)  * simulationPrice)\n",
    "#         print('score', score)\n",
    "#         print(type(prediction), type(target), type(simulationPrice))\n",
    "        return np.sum((prediction - np.maximum(prediction - target, 0) * 1.6)  * simulationPrice), 0"
   ]
  },
  {
   "cell_type": "code",
   "execution_count": 182,
   "metadata": {},
   "outputs": [
    {
     "name": "stdout",
     "output_type": "stream",
     "text": [
      "0:\tlearn: -87609.0617051\ttest: -87609.0617051\ttest1: -11810.8622299\tbest: -11810.8622299 (0)\ttotal: 72.2ms\tremaining: 1m 12s\n",
      "1:\tlearn: -132434.3605775\ttest: -132434.3605775\ttest1: -15214.7942961\tbest: -11810.8622299 (0)\ttotal: 136ms\tremaining: 1m 7s\n",
      "2:\tlearn: -132434.3605775\ttest: -132434.3605775\ttest1: -15214.7942961\tbest: -11810.8622299 (0)\ttotal: 200ms\tremaining: 1m 6s\n",
      "3:\tlearn: -132434.3605775\ttest: -132434.3605775\ttest1: -15214.7942961\tbest: -11810.8622299 (0)\ttotal: 263ms\tremaining: 1m 5s\n",
      "4:\tlearn: -132434.3605775\ttest: -132434.3605775\ttest1: -15214.7942961\tbest: -11810.8622299 (0)\ttotal: 330ms\tremaining: 1m 5s\n",
      "5:\tlearn: -201362.9559191\ttest: -201362.9559191\ttest1: -22718.2624422\tbest: -11810.8622299 (0)\ttotal: 394ms\tremaining: 1m 5s\n",
      "Stopped by overfitting detector  (5 iterations wait)\n",
      "\n",
      "bestTest = -11810.86223\n",
      "bestIteration = 0\n",
      "\n",
      "Shrink model to first 1 iterations.\n"
     ]
    }
   ],
   "source": [
    "ds_params = {\n",
    "#     'cat_features' : [8, 9, 10],\n",
    "}\n",
    "train_pool = Pool(X_train, label = y_train, weight = w_train, **ds_params)\n",
    "trainfull_pool = Pool(X_full_train, label = y_full_train, weight = w_full_train, **ds_params)\n",
    "val_pool = Pool(X_val, label = y_val, weight = w_sub, **ds_params)\n",
    "sub_pool = Pool(X_sub, label = y_sub, weight = w_sub, **ds_params)\n",
    "\n",
    "\n",
    "model = CatBoostRegressor(\n",
    "#     iterations = 2,\n",
    "#     depth=6, \n",
    "    learning_rate=0.1, \n",
    "    loss_function='MAE',\n",
    "    early_stopping_rounds=5,\n",
    "    eval_metric = feval_cat(),\n",
    "    thread_count=-1,\n",
    ")\n",
    "\n",
    "model.fit(\n",
    "    train_pool,\n",
    "    eval_set=[train_pool, val_pool],\n",
    "#     logging_level='Verbose',  # you can uncomment this for text output\n",
    "\n",
    ");\n"
   ]
  },
  {
   "cell_type": "code",
   "execution_count": 183,
   "metadata": {},
   "outputs": [
    {
     "data": {
      "text/plain": [
       "279277.73799999995"
      ]
     },
     "execution_count": 183,
     "metadata": {},
     "output_type": "execute_result"
    }
   ],
   "source": [
    "prediction = model.predict(X_sub, ntree_end = model.best_iteration_).astype(int)\n",
    "evaluate(prediction, y_sub, w_sub)"
   ]
  },
  {
   "cell_type": "code",
   "execution_count": 489,
   "metadata": {},
   "outputs": [],
   "source": [
    "# retrain!"
   ]
  },
  {
   "cell_type": "code",
   "execution_count": 490,
   "metadata": {},
   "outputs": [
    {
     "name": "stdout",
     "output_type": "stream",
     "text": [
      "0:\tlearn: 0.0000000\ttest: 0.0000000\tbest: 0.0000000 (0)\ttotal: 79.2ms\tremaining: 1m 19s\n",
      "1:\tlearn: 0.0000000\ttest: 0.0000000\tbest: 0.0000000 (0)\ttotal: 148ms\tremaining: 1m 13s\n",
      "2:\tlearn: 0.0000000\ttest: 0.0000000\tbest: 0.0000000 (0)\ttotal: 215ms\tremaining: 1m 11s\n",
      "3:\tlearn: 0.0000000\ttest: 0.0000000\tbest: 0.0000000 (0)\ttotal: 281ms\tremaining: 1m 10s\n",
      "4:\tlearn: 0.0000000\ttest: 0.0000000\tbest: 0.0000000 (0)\ttotal: 352ms\tremaining: 1m 10s\n",
      "5:\tlearn: -298.4100058\ttest: -298.4100058\tbest: 0.0000000 (0)\ttotal: 422ms\tremaining: 1m 9s\n",
      "Stopped by overfitting detector  (5 iterations wait)\n",
      "\n",
      "bestTest = 0\n",
      "bestIteration = 0\n",
      "\n",
      "Shrink model to first 1 iterations.\n"
     ]
    }
   ],
   "source": [
    "cat_sub = CatBoostRegressor(\n",
    "#     iterations = 2,\n",
    "#     depth=6, \n",
    "#     learning_rate=0.1, \n",
    "    loss_function='MAE',\n",
    "    early_stopping_rounds=5,\n",
    "    eval_metric = feval_cat(),\n",
    "    thread_count=-1,\n",
    ")\n",
    "cat_sub.fit(\n",
    "    trainfull_pool,\n",
    "    eval_set=[trainfull_pool],\n",
    "#     logging_level='Verbose',  # you can uncomment this for text output\n",
    "\n",
    ");"
   ]
  },
  {
   "cell_type": "code",
   "execution_count": 491,
   "metadata": {},
   "outputs": [
    {
     "data": {
      "text/plain": [
       "0.0"
      ]
     },
     "execution_count": 491,
     "metadata": {},
     "output_type": "execute_result"
    }
   ],
   "source": [
    "prediction = cat_sub.predict(X_sub, ntree_end = cat_sub.best_iteration_).astype(int)\n",
    "evaluate(prediction, y_sub, w_sub)"
   ]
  },
  {
   "cell_type": "markdown",
   "metadata": {},
   "source": [
    "<hr>"
   ]
  },
  {
   "cell_type": "markdown",
   "metadata": {},
   "source": [
    "## - Ensemble"
   ]
  },
  {
   "cell_type": "code",
   "execution_count": 184,
   "metadata": {},
   "outputs": [
    {
     "data": {
      "text/plain": [
       "905239.624"
      ]
     },
     "execution_count": 184,
     "metadata": {},
     "output_type": "execute_result"
    }
   ],
   "source": [
    "cat_w = 0\n",
    "lgb_w = 1\n",
    "xgb_w = 1\n",
    "ensemble = model.predict(X_sub, ntree_end = model.best_iteration_) * cat_w\n",
    "ensemble += lgb_model.predict(X_sub, num_iteration=lgb_model.best_iteration) * lgb_w\n",
    "ensemble += bst.predict(dsub, ntree_limit=bst.best_ntree_limit) * xgb_w\n",
    "ensemble = ensemble / (cat_w + lgb_w + xgb_w)\n",
    "evaluate(ensemble.astype(int), y_sub, w_sub)"
   ]
  },
  {
   "cell_type": "markdown",
   "metadata": {},
   "source": [
    "<hr>"
   ]
  },
  {
   "cell_type": "markdown",
   "metadata": {},
   "source": [
    "## - Linear Regression"
   ]
  },
  {
   "cell_type": "code",
   "execution_count": 270,
   "metadata": {},
   "outputs": [],
   "source": [
    "from sklearn.linear_model import LinearRegression\n",
    "# from sklearn.metrics import "
   ]
  },
  {
   "cell_type": "code",
   "execution_count": 271,
   "metadata": {},
   "outputs": [],
   "source": [
    "lr = LinearRegression()"
   ]
  },
  {
   "cell_type": "code",
   "execution_count": 272,
   "metadata": {},
   "outputs": [
    {
     "data": {
      "text/plain": [
       "LinearRegression(copy_X=True, fit_intercept=True, n_jobs=None, normalize=False)"
      ]
     },
     "execution_count": 272,
     "metadata": {},
     "output_type": "execute_result"
    }
   ],
   "source": [
    "lr.fit(X_train, y_train, w_train)"
   ]
  },
  {
   "cell_type": "code",
   "execution_count": 273,
   "metadata": {},
   "outputs": [
    {
     "name": "stdout",
     "output_type": "stream",
     "text": [
      "train -21058674.042366117\n",
      "test -2602271.639547858\n",
      "sub -2761693.8996196142\n"
     ]
    }
   ],
   "source": [
    "print('train', evaluate(lr.predict(X_train), y_train, w_train))\n",
    "print('test', evaluate(lr.predict(X_test), y_test, w_test))\n",
    "print('sub', evaluate(lr.predict(X_sub), y_sub, w_sub))"
   ]
  },
  {
   "cell_type": "markdown",
   "metadata": {},
   "source": [
    "<hr>"
   ]
  },
  {
   "cell_type": "code",
   "execution_count": null,
   "metadata": {},
   "outputs": [],
   "source": [
    "# fazer feature que pega o percentil de quando o item deu de dinheiro dentro de uma categoria\n",
    "# fazer features que pega dist de atual até o pico mais alto\n",
    "# dist do maior pico pro segundo\n",
    "# min(dist(terceiro, primeiro), dist(terceiro, segundo))"
   ]
  }
 ],
 "metadata": {
  "kernelspec": {
   "display_name": "Python 3",
   "language": "python",
   "name": "python3"
  },
  "language_info": {
   "codemirror_mode": {
    "name": "ipython",
    "version": 3
   },
   "file_extension": ".py",
   "mimetype": "text/x-python",
   "name": "python",
   "nbconvert_exporter": "python",
   "pygments_lexer": "ipython3",
   "version": "3.7.7"
  }
 },
 "nbformat": 4,
 "nbformat_minor": 4
}
