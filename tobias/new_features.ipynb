{
 "cells": [
  {
   "cell_type": "code",
   "execution_count": 1,
   "metadata": {},
   "outputs": [],
   "source": [
    "import matplotlib.pyplot as plt\n",
    "import numpy as np\n",
    "import pandas as pd"
   ]
  },
  {
   "cell_type": "code",
   "execution_count": 2,
   "metadata": {},
   "outputs": [],
   "source": [
    "infos = pd.read_csv('../../data/infos.csv', sep = '|')"
   ]
  },
  {
   "cell_type": "code",
   "execution_count": 3,
   "metadata": {},
   "outputs": [],
   "source": [
    "items = pd.read_csv('../../data/items.csv', sep = '|')"
   ]
  },
  {
   "cell_type": "code",
   "execution_count": 4,
   "metadata": {},
   "outputs": [],
   "source": [
    "orders = pd.read_csv('../../data/orders.csv', sep = '|', parse_dates=['time'])"
   ]
  },
  {
   "cell_type": "markdown",
   "metadata": {},
   "source": [
    "## - Creating the structure"
   ]
  },
  {
   "cell_type": "code",
   "execution_count": 5,
   "metadata": {},
   "outputs": [],
   "source": [
    "df = orders.copy()"
   ]
  },
  {
   "cell_type": "code",
   "execution_count": 6,
   "metadata": {},
   "outputs": [],
   "source": [
    "df['weekpair'] = (df.time.dt.dayofyear + 1) // 14 - 13"
   ]
  },
  {
   "cell_type": "code",
   "execution_count": 7,
   "metadata": {},
   "outputs": [],
   "source": [
    "npairs = df.weekpair.nunique()"
   ]
  },
  {
   "cell_type": "code",
   "execution_count": 8,
   "metadata": {},
   "outputs": [
    {
     "name": "stdout",
     "output_type": "stream",
     "text": [
      "total number of items: 10463\n",
      "expected number of instances: 136019\n"
     ]
    }
   ],
   "source": [
    "n_items = items['itemID'].nunique()\n",
    "print('total number of items:', n_items)\n",
    "print('expected number of instances:', n_items * npairs)"
   ]
  },
  {
   "cell_type": "code",
   "execution_count": 9,
   "metadata": {},
   "outputs": [],
   "source": [
    "mi = pd.MultiIndex.from_product([range(-npairs, 0), items['itemID']], names=['weekpair', 'itemID'])\n",
    "data_temp = pd.DataFrame(index = mi)"
   ]
  },
  {
   "cell_type": "code",
   "execution_count": 10,
   "metadata": {},
   "outputs": [],
   "source": [
    "data_temp = data_temp.join(df.groupby(['weekpair', 'itemID'])[['order']].sum(), how = 'left')"
   ]
  },
  {
   "cell_type": "code",
   "execution_count": 11,
   "metadata": {},
   "outputs": [],
   "source": [
    "data_temp.fillna(0, inplace = True)"
   ]
  },
  {
   "cell_type": "code",
   "execution_count": 12,
   "metadata": {},
   "outputs": [
    {
     "data": {
      "text/plain": [
       "order    13\n",
       "dtype: int64"
      ]
     },
     "execution_count": 12,
     "metadata": {},
     "output_type": "execute_result"
    }
   ],
   "source": [
    "data_temp.groupby('itemID').count().min()"
   ]
  },
  {
   "cell_type": "code",
   "execution_count": 13,
   "metadata": {},
   "outputs": [],
   "source": [
    "# data_temp"
   ]
  },
  {
   "cell_type": "markdown",
   "metadata": {},
   "source": [
    "## - Creating features"
   ]
  },
  {
   "cell_type": "code",
   "execution_count": null,
   "metadata": {},
   "outputs": [],
   "source": []
  },
  {
   "cell_type": "code",
   "execution_count": 14,
   "metadata": {},
   "outputs": [
    {
     "data": {
      "text/html": [
       "<div>\n",
       "<style scoped>\n",
       "    .dataframe tbody tr th:only-of-type {\n",
       "        vertical-align: middle;\n",
       "    }\n",
       "\n",
       "    .dataframe tbody tr th {\n",
       "        vertical-align: top;\n",
       "    }\n",
       "\n",
       "    .dataframe thead th {\n",
       "        text-align: right;\n",
       "    }\n",
       "</style>\n",
       "<table border=\"1\" class=\"dataframe\">\n",
       "  <thead>\n",
       "    <tr style=\"text-align: right;\">\n",
       "      <th></th>\n",
       "      <th>itemID</th>\n",
       "      <th>brand</th>\n",
       "      <th>manufacturer</th>\n",
       "      <th>customerRating</th>\n",
       "      <th>category1</th>\n",
       "      <th>category2</th>\n",
       "      <th>category3</th>\n",
       "      <th>recommendedRetailPrice</th>\n",
       "    </tr>\n",
       "  </thead>\n",
       "  <tbody>\n",
       "    <tr>\n",
       "      <th>0</th>\n",
       "      <td>1</td>\n",
       "      <td>0</td>\n",
       "      <td>1</td>\n",
       "      <td>4.38</td>\n",
       "      <td>1</td>\n",
       "      <td>1</td>\n",
       "      <td>1</td>\n",
       "      <td>8.84</td>\n",
       "    </tr>\n",
       "    <tr>\n",
       "      <th>1</th>\n",
       "      <td>2</td>\n",
       "      <td>0</td>\n",
       "      <td>2</td>\n",
       "      <td>3.00</td>\n",
       "      <td>1</td>\n",
       "      <td>2</td>\n",
       "      <td>1</td>\n",
       "      <td>16.92</td>\n",
       "    </tr>\n",
       "  </tbody>\n",
       "</table>\n",
       "</div>"
      ],
      "text/plain": [
       "   itemID  brand  manufacturer  customerRating  category1  category2  \\\n",
       "0       1      0             1            4.38          1          1   \n",
       "1       2      0             2            3.00          1          2   \n",
       "\n",
       "   category3  recommendedRetailPrice  \n",
       "0          1                    8.84  \n",
       "1          1                   16.92  "
      ]
     },
     "execution_count": 14,
     "metadata": {},
     "output_type": "execute_result"
    }
   ],
   "source": [
    "items.head(2)"
   ]
  },
  {
   "cell_type": "code",
   "execution_count": 15,
   "metadata": {},
   "outputs": [],
   "source": [
    "# features = [\n",
    "#     ('itemID', 'item'),\n",
    "#     ('manufacturer', 'manuf'),\n",
    "#     ('category1', 'cat1'),\n",
    "#     ('category2', 'cat2'),\n",
    "#     ('category3', 'cat3')\n",
    "# ]\n",
    "# for f, n in features:\n",
    "#     if f not in data.columns:\n",
    "#         print('ops', f)"
   ]
  },
  {
   "cell_type": "code",
   "execution_count": 16,
   "metadata": {},
   "outputs": [],
   "source": [
    "# features = [('itemID', 'item')]"
   ]
  },
  {
   "cell_type": "code",
   "execution_count": 17,
   "metadata": {},
   "outputs": [],
   "source": [
    "# # f, name = ('manufacturer', 'manuf')\n",
    "# for f, name in features:\n",
    "#     print(f)\n",
    "#     temp = data.groupby([f, 'weekpair'])[['order']].sum()\n",
    "#     shifted = temp.groupby(f)[['order']].shift(1)\n",
    "#     new_feature_block = pd.DataFrame()\n",
    "#     for n in range(3):\n",
    "#         rolled = shifted.groupby(f, as_index = False)['order'].rolling(2 ** n).mean()\n",
    "#         new_feature_block['%s_%d' % (name, 2 ** n)] = rolled.reset_index(0, drop = True) # rolling has a weird index behavior...\n",
    "#     data = pd.merge(data, new_feature_block.reset_index(), on = [f, 'weekpair'])"
   ]
  },
  {
   "cell_type": "code",
   "execution_count": 18,
   "metadata": {},
   "outputs": [],
   "source": [
    "def gbagg(data, group_cols, targeted_cols, out_names, function, as_index = False):\n",
    "  \n",
    "    X = data.values\n",
    "    col = {c : i for i, c in enumerate(data.columns)}\n",
    "\n",
    "    # values that are going to calculated\n",
    "    new_feat = []\n",
    "    \n",
    "    # numbers of the columns\n",
    "    gcols = [col[c] for c in group_cols]\n",
    "    tcols = [col[c] for c in targeted_cols]\n",
    "    \n",
    "    interval = None\n",
    "    a = None\n",
    "    i = 0\n",
    "    while i < len(X):\n",
    "        a = X[i, gcols]\n",
    "\n",
    "        # find the whole interval of this group\n",
    "        j = i\n",
    "        while j < len(X):\n",
    "            if (X[j, gcols] != a).any():\n",
    "                break\n",
    "            j += 1\n",
    "        interval = X[i:j, tcols]\n",
    "\n",
    "        # apply function on interval, save in new feature\n",
    "        output = function(interval)\n",
    "        new_feat.append(output)\n",
    "\n",
    "        # go to next group\n",
    "        i = j\n",
    "    \n",
    "    idx = data.groupby(group_cols).size().index # this is actually fast...\n",
    "    out_df = pd.DataFrame(new_feat, columns = out_names, index = idx)\n",
    "        \n",
    "    if not as_index:\n",
    "        out_df.reset_index(inplace = True)\n",
    "        \n",
    "    return out_df"
   ]
  },
  {
   "cell_type": "code",
   "execution_count": 19,
   "metadata": {},
   "outputs": [],
   "source": [
    "def gbtransf(data, group_cols, targeted_cols, out_names, function, params = dict()):\n",
    "  \n",
    "    X = data.values\n",
    "    col = {c : i for i, c in enumerate(data.columns)}\n",
    "\n",
    "    # values that are going to calculated\n",
    "    new_feat = np.zeros((len(data), len(out_names)))\n",
    "    \n",
    "    # numbers of the columns\n",
    "    gcols = [col[c] for c in group_cols]\n",
    "    tcols = [col[c] for c in targeted_cols]\n",
    "    \n",
    "    interval = None\n",
    "    a = None\n",
    "    i = 0\n",
    "    while i < len(X):\n",
    "        a = X[i, gcols]\n",
    "\n",
    "        # find the whole interval of this group\n",
    "        j = i\n",
    "        while j < len(X):\n",
    "            if (X[j, gcols] != a).any():\n",
    "                break\n",
    "            j += 1\n",
    "        interval = X[i:j, tcols]\n",
    "\n",
    "        # apply function on interval, save in new feature\n",
    "        output = function(interval, **params)\n",
    "        new_feat[i:j] = output\n",
    "\n",
    "        # go to next group\n",
    "        i = j\n",
    "    \n",
    "    out_df = pd.DataFrame(new_feat, columns = out_names, index = data.index)\n",
    "        \n",
    "    return out_df"
   ]
  },
  {
   "cell_type": "code",
   "execution_count": 20,
   "metadata": {},
   "outputs": [],
   "source": [
    "def shift_and_2n_window(x, ws):\n",
    "#     out = pd.DataFrame(x)\n",
    "#     out = out.shift()\n",
    "#     out = out.rolling(2 ** n).mean()\n",
    "\n",
    "    shifted = np.zeros_like(x) # output\n",
    "    shifted[1:] = x[:-1] # shift\n",
    "    out = np.zeros_like(x, dtype = float)\n",
    "    \n",
    "    # rolling mean\n",
    "    total = shifted[:ws].sum()\n",
    "    out[ws - 1] = total / ws\n",
    "    for i in range(ws, len(out)):\n",
    "        total = total - shifted[i - ws] + shifted[i]\n",
    "        out[i] = total / ws\n",
    "    out[:ws] = np.NaN # maybe ws -1 should be NaN as well for receiving one NaN value when ws > 1\n",
    "    # out[0] = np.NaN # this is always NaN for a shift of 1\n",
    "    return out"
   ]
  },
  {
   "cell_type": "code",
   "execution_count": 21,
   "metadata": {},
   "outputs": [],
   "source": [
    "data = data_temp.reset_index()\n",
    "data = pd.merge(data, items, on = 'itemID')"
   ]
  },
  {
   "cell_type": "code",
   "execution_count": 22,
   "metadata": {},
   "outputs": [],
   "source": [
    "data.sort_values(['itemID', 'weekpair'], inplace = True)"
   ]
  },
  {
   "cell_type": "code",
   "execution_count": 23,
   "metadata": {},
   "outputs": [],
   "source": [
    "# gbtransf(data, ['itemID', 'weekpair'], ['order'], ['out'], lambda x : np.ones_like(x))"
   ]
  },
  {
   "cell_type": "code",
   "execution_count": 24,
   "metadata": {},
   "outputs": [
    {
     "data": {
      "text/plain": [
       "array([nan, nan, 1.5, 2.5, 3.5, 4.5])"
      ]
     },
     "execution_count": 24,
     "metadata": {},
     "output_type": "execute_result"
    }
   ],
   "source": [
    "shift_and_2n_window(np.array([1 , 2, 3, 4, 5, 6]), 2 ** 1)"
   ]
  },
  {
   "cell_type": "code",
   "execution_count": 25,
   "metadata": {},
   "outputs": [],
   "source": [
    "features = [('itemID', 'item')]"
   ]
  },
  {
   "cell_type": "code",
   "execution_count": 26,
   "metadata": {
    "scrolled": true
   },
   "outputs": [
    {
     "name": "stdout",
     "output_type": "stream",
     "text": [
      "itemID\n"
     ]
    }
   ],
   "source": [
    "for f, name in features:\n",
    "    print(f)\n",
    "    new_feature_block = pd.DataFrame()\n",
    "    for n in range(3):\n",
    "        new_f = gbtransf(data, ['itemID'], ['order'], ['out'], shift_and_2n_window, {'ws' : 2 ** n})\n",
    "        new_feature_block['%s_%d' % (name, 2 ** n)] = new_f['out']\n",
    "#     data = pd.merge(data, new_feature_block.reset_index(), on = [f, 'weekpair'])\n",
    "    data = pd.concat([data, new_feature_block], axis =  1)"
   ]
  },
  {
   "cell_type": "code",
   "execution_count": 27,
   "metadata": {},
   "outputs": [
    {
     "data": {
      "text/plain": [
       "weekpair                  136019\n",
       "itemID                    136019\n",
       "order                     136019\n",
       "brand                     136019\n",
       "manufacturer              136019\n",
       "customerRating            136019\n",
       "category1                 136019\n",
       "category2                 136019\n",
       "category3                 136019\n",
       "recommendedRetailPrice    136019\n",
       "item_1                    125556\n",
       "item_2                    115093\n",
       "item_4                     94167\n",
       "dtype: int64"
      ]
     },
     "execution_count": 27,
     "metadata": {},
     "output_type": "execute_result"
    }
   ],
   "source": [
    "data.count() # the larger the window, more NaN are expected"
   ]
  },
  {
   "cell_type": "code",
   "execution_count": 28,
   "metadata": {},
   "outputs": [],
   "source": [
    "def dist2firstvalue(x):\n",
    "    out = np.zeros_like(x, dtype = float)\n",
    "    first = np.NaN\n",
    "    for i in range(len(x)):\n",
    "        out[i] = first\n",
    "        if x[i] != 0:\n",
    "            first = i\n",
    "            break\n",
    "    if i == len(x) - 1:\n",
    "        return out\n",
    "    for j in range(int(first), len(x)):\n",
    "        out[j] = j - first\n",
    "        \n",
    "    return out"
   ]
  },
  {
   "cell_type": "code",
   "execution_count": 29,
   "metadata": {},
   "outputs": [
    {
     "data": {
      "text/plain": [
       "(array([nan, nan, nan, nan]), array([nan, nan,  0.,  1.,  2.,  3.]))"
      ]
     },
     "execution_count": 29,
     "metadata": {},
     "output_type": "execute_result"
    }
   ],
   "source": [
    "dist2firstvalue(np.array([0 , 0, 0, 0])), dist2firstvalue(np.array([0 , 0, 3, 0, 5, 6]))"
   ]
  },
  {
   "cell_type": "code",
   "execution_count": 30,
   "metadata": {},
   "outputs": [],
   "source": [
    "def dist2firstvalueLeak(x):\n",
    "    out = np.zeros_like(x, dtype = float)\n",
    "    for i in range(len(x)):\n",
    "        if x[i] != 0:\n",
    "            out[i] = 1\n",
    "            break\n",
    "#         else:\n",
    "#             out[i] = -9999\n",
    "        \n",
    "    return out\n",
    "\n",
    "# def dist2firstvalueLeakAdding(x):\n",
    "#     out = np.zeros_like(x, dtype = float)\n",
    "#     d = 1\n",
    "#     for i in range(len(x)):\n",
    "#         if x[i] != 0:\n",
    "#             out[i] = d\n",
    "#             break\n",
    "#     d += 1\n",
    "#     for j in range(i + 1, len(x)):\n",
    "#         out[j] = d\n",
    "#         d += 1\n",
    "#     return out"
   ]
  },
  {
   "cell_type": "code",
   "execution_count": 31,
   "metadata": {},
   "outputs": [
    {
     "data": {
      "text/plain": [
       "array([0., 0., 1., 0., 0., 0.])"
      ]
     },
     "execution_count": 31,
     "metadata": {},
     "output_type": "execute_result"
    }
   ],
   "source": [
    "dist2firstvalueLeak(np.array([0 , 0, 3, 0, 5, 6]))\n",
    "# dist2firstvalue(np.array([0 , 0, 0, 0]))"
   ]
  },
  {
   "cell_type": "code",
   "execution_count": 32,
   "metadata": {},
   "outputs": [],
   "source": [
    "# def dist2lastpeak(x):\n",
    "#     out = np.zeros_like(x, dtype = float)\n",
    "#     peak = np.NaN\n",
    "#     peak_val = 0\n",
    "#     for i in range(0, len(x)):\n",
    "#         out[i] = i - peak\n",
    "#         if x[i] > peak_val:\n",
    "#             peak = i\n",
    "#             peak_val = x[i]\n",
    "        \n",
    "#     return out"
   ]
  },
  {
   "cell_type": "code",
   "execution_count": 33,
   "metadata": {},
   "outputs": [],
   "source": [
    "# dist2lastpeak(np.array([0 , 0, 3, 0, 5, 6]))"
   ]
  },
  {
   "cell_type": "code",
   "execution_count": 34,
   "metadata": {},
   "outputs": [],
   "source": [
    "data.sort_values(['itemID', 'weekpair'], inplace = True)"
   ]
  },
  {
   "cell_type": "code",
   "execution_count": 35,
   "metadata": {},
   "outputs": [],
   "source": [
    "data['dist2firstvalueLeak'] = gbtransf(data, ['itemID'], ['order'], ['out'], dist2firstvalueLeak)['out']\n",
    "# data['dist2lastpeak'] = gbtransf(data, ['itemID'], ['order'], ['out'], dist2lastpeak)['out']"
   ]
  },
  {
   "cell_type": "code",
   "execution_count": 36,
   "metadata": {},
   "outputs": [
    {
     "data": {
      "text/plain": [
       "{-13: 1431.0,\n",
       " -12: 729.0,\n",
       " -11: 371.0,\n",
       " -10: 533.0,\n",
       " -9: 785.0,\n",
       " -8: 909.0,\n",
       " -7: 716.0,\n",
       " -6: 661.0,\n",
       " -5: 785.0,\n",
       " -4: 671.0,\n",
       " -3: 794.0,\n",
       " -2: 727.0,\n",
       " -1: 728.0}"
      ]
     },
     "execution_count": 36,
     "metadata": {},
     "output_type": "execute_result"
    }
   ],
   "source": [
    "data.groupby(\"weekpair\")[\"dist2firstvalueLeak\"].sum().to_dict()"
   ]
  },
  {
   "cell_type": "code",
   "execution_count": 37,
   "metadata": {
    "scrolled": true
   },
   "outputs": [],
   "source": [
    "# del data[\"leak_cat3\"]"
   ]
  },
  {
   "cell_type": "code",
   "execution_count": 38,
   "metadata": {},
   "outputs": [],
   "source": [
    "the_cat = \"manufacturer\""
   ]
  },
  {
   "cell_type": "code",
   "execution_count": 39,
   "metadata": {},
   "outputs": [],
   "source": [
    "sla = data.groupby([\"weekpair\", the_cat])[\"dist2firstvalueLeak\"].sum().reset_index()"
   ]
  },
  {
   "cell_type": "code",
   "execution_count": 40,
   "metadata": {},
   "outputs": [],
   "source": [
    "sla = sla.rename(columns={\"dist2firstvalueLeak\" : \"leak_cat3\"})"
   ]
  },
  {
   "cell_type": "code",
   "execution_count": 41,
   "metadata": {},
   "outputs": [],
   "source": [
    "# acho que mudou nada... opa, mudou sim\n",
    "data = pd.merge(data, sla, on = [\"weekpair\", the_cat])"
   ]
  },
  {
   "cell_type": "code",
   "execution_count": 42,
   "metadata": {},
   "outputs": [],
   "source": [
    "# the_cat = \"brand\""
   ]
  },
  {
   "cell_type": "code",
   "execution_count": 43,
   "metadata": {},
   "outputs": [],
   "source": [
    "# sla = data.groupby([\"weekpair\", the_cat])[\"dist2firstvalueLeak\"].sum().reset_index()"
   ]
  },
  {
   "cell_type": "code",
   "execution_count": 44,
   "metadata": {},
   "outputs": [],
   "source": [
    "# sla = sla.rename(columns={\"dist2firstvalueLeak\" : \"leak_cat4\"})"
   ]
  },
  {
   "cell_type": "code",
   "execution_count": 45,
   "metadata": {},
   "outputs": [],
   "source": [
    "# del data[\"leak_cat4\"]"
   ]
  },
  {
   "cell_type": "code",
   "execution_count": 46,
   "metadata": {},
   "outputs": [],
   "source": [
    "# acho que mudou nada... opa, mudou sim\n",
    "# data = pd.merge(data, sla, on = [\"weekpair\", the_cat])"
   ]
  },
  {
   "cell_type": "code",
   "execution_count": 47,
   "metadata": {},
   "outputs": [],
   "source": [
    "data[\"total_new\"] = data[\"weekpair\"].map(data.groupby(\"weekpair\")[\"dist2firstvalueLeak\"].sum().to_dict())"
   ]
  },
  {
   "cell_type": "code",
   "execution_count": 48,
   "metadata": {},
   "outputs": [],
   "source": [
    "data.fillna(0, inplace=True)"
   ]
  },
  {
   "cell_type": "code",
   "execution_count": 49,
   "metadata": {},
   "outputs": [
    {
     "data": {
      "text/html": [
       "<div>\n",
       "<style scoped>\n",
       "    .dataframe tbody tr th:only-of-type {\n",
       "        vertical-align: middle;\n",
       "    }\n",
       "\n",
       "    .dataframe tbody tr th {\n",
       "        vertical-align: top;\n",
       "    }\n",
       "\n",
       "    .dataframe thead th {\n",
       "        text-align: right;\n",
       "    }\n",
       "</style>\n",
       "<table border=\"1\" class=\"dataframe\">\n",
       "  <thead>\n",
       "    <tr style=\"text-align: right;\">\n",
       "      <th></th>\n",
       "      <th>weekpair</th>\n",
       "      <th>itemID</th>\n",
       "      <th>order</th>\n",
       "      <th>brand</th>\n",
       "      <th>manufacturer</th>\n",
       "      <th>customerRating</th>\n",
       "      <th>category1</th>\n",
       "      <th>category2</th>\n",
       "      <th>category3</th>\n",
       "      <th>recommendedRetailPrice</th>\n",
       "      <th>item_1</th>\n",
       "      <th>item_2</th>\n",
       "      <th>item_4</th>\n",
       "      <th>dist2firstvalueLeak</th>\n",
       "      <th>leak_cat3</th>\n",
       "      <th>total_new</th>\n",
       "    </tr>\n",
       "  </thead>\n",
       "  <tbody>\n",
       "    <tr>\n",
       "      <th>0</th>\n",
       "      <td>-13</td>\n",
       "      <td>1</td>\n",
       "      <td>0.0</td>\n",
       "      <td>0</td>\n",
       "      <td>1</td>\n",
       "      <td>4.38</td>\n",
       "      <td>1</td>\n",
       "      <td>1</td>\n",
       "      <td>1</td>\n",
       "      <td>8.84</td>\n",
       "      <td>0.0</td>\n",
       "      <td>0.0</td>\n",
       "      <td>0.00</td>\n",
       "      <td>0.0</td>\n",
       "      <td>5.0</td>\n",
       "      <td>1431.0</td>\n",
       "    </tr>\n",
       "    <tr>\n",
       "      <th>40</th>\n",
       "      <td>-12</td>\n",
       "      <td>1</td>\n",
       "      <td>2.0</td>\n",
       "      <td>0</td>\n",
       "      <td>1</td>\n",
       "      <td>4.38</td>\n",
       "      <td>1</td>\n",
       "      <td>1</td>\n",
       "      <td>1</td>\n",
       "      <td>8.84</td>\n",
       "      <td>0.0</td>\n",
       "      <td>0.0</td>\n",
       "      <td>0.00</td>\n",
       "      <td>1.0</td>\n",
       "      <td>4.0</td>\n",
       "      <td>729.0</td>\n",
       "    </tr>\n",
       "    <tr>\n",
       "      <th>80</th>\n",
       "      <td>-11</td>\n",
       "      <td>1</td>\n",
       "      <td>313.0</td>\n",
       "      <td>0</td>\n",
       "      <td>1</td>\n",
       "      <td>4.38</td>\n",
       "      <td>1</td>\n",
       "      <td>1</td>\n",
       "      <td>1</td>\n",
       "      <td>8.84</td>\n",
       "      <td>2.0</td>\n",
       "      <td>1.0</td>\n",
       "      <td>0.00</td>\n",
       "      <td>0.0</td>\n",
       "      <td>6.0</td>\n",
       "      <td>371.0</td>\n",
       "    </tr>\n",
       "    <tr>\n",
       "      <th>120</th>\n",
       "      <td>-10</td>\n",
       "      <td>1</td>\n",
       "      <td>35.0</td>\n",
       "      <td>0</td>\n",
       "      <td>1</td>\n",
       "      <td>4.38</td>\n",
       "      <td>1</td>\n",
       "      <td>1</td>\n",
       "      <td>1</td>\n",
       "      <td>8.84</td>\n",
       "      <td>313.0</td>\n",
       "      <td>157.5</td>\n",
       "      <td>0.00</td>\n",
       "      <td>0.0</td>\n",
       "      <td>3.0</td>\n",
       "      <td>533.0</td>\n",
       "    </tr>\n",
       "    <tr>\n",
       "      <th>160</th>\n",
       "      <td>-9</td>\n",
       "      <td>1</td>\n",
       "      <td>3.0</td>\n",
       "      <td>0</td>\n",
       "      <td>1</td>\n",
       "      <td>4.38</td>\n",
       "      <td>1</td>\n",
       "      <td>1</td>\n",
       "      <td>1</td>\n",
       "      <td>8.84</td>\n",
       "      <td>35.0</td>\n",
       "      <td>174.0</td>\n",
       "      <td>87.50</td>\n",
       "      <td>0.0</td>\n",
       "      <td>0.0</td>\n",
       "      <td>785.0</td>\n",
       "    </tr>\n",
       "    <tr>\n",
       "      <th>200</th>\n",
       "      <td>-8</td>\n",
       "      <td>1</td>\n",
       "      <td>1.0</td>\n",
       "      <td>0</td>\n",
       "      <td>1</td>\n",
       "      <td>4.38</td>\n",
       "      <td>1</td>\n",
       "      <td>1</td>\n",
       "      <td>1</td>\n",
       "      <td>8.84</td>\n",
       "      <td>3.0</td>\n",
       "      <td>19.0</td>\n",
       "      <td>88.25</td>\n",
       "      <td>0.0</td>\n",
       "      <td>1.0</td>\n",
       "      <td>909.0</td>\n",
       "    </tr>\n",
       "    <tr>\n",
       "      <th>240</th>\n",
       "      <td>-7</td>\n",
       "      <td>1</td>\n",
       "      <td>1.0</td>\n",
       "      <td>0</td>\n",
       "      <td>1</td>\n",
       "      <td>4.38</td>\n",
       "      <td>1</td>\n",
       "      <td>1</td>\n",
       "      <td>1</td>\n",
       "      <td>8.84</td>\n",
       "      <td>1.0</td>\n",
       "      <td>2.0</td>\n",
       "      <td>88.00</td>\n",
       "      <td>0.0</td>\n",
       "      <td>0.0</td>\n",
       "      <td>716.0</td>\n",
       "    </tr>\n",
       "    <tr>\n",
       "      <th>280</th>\n",
       "      <td>-6</td>\n",
       "      <td>1</td>\n",
       "      <td>2.0</td>\n",
       "      <td>0</td>\n",
       "      <td>1</td>\n",
       "      <td>4.38</td>\n",
       "      <td>1</td>\n",
       "      <td>1</td>\n",
       "      <td>1</td>\n",
       "      <td>8.84</td>\n",
       "      <td>1.0</td>\n",
       "      <td>1.0</td>\n",
       "      <td>10.00</td>\n",
       "      <td>0.0</td>\n",
       "      <td>1.0</td>\n",
       "      <td>661.0</td>\n",
       "    </tr>\n",
       "    <tr>\n",
       "      <th>320</th>\n",
       "      <td>-5</td>\n",
       "      <td>1</td>\n",
       "      <td>299.0</td>\n",
       "      <td>0</td>\n",
       "      <td>1</td>\n",
       "      <td>4.38</td>\n",
       "      <td>1</td>\n",
       "      <td>1</td>\n",
       "      <td>1</td>\n",
       "      <td>8.84</td>\n",
       "      <td>2.0</td>\n",
       "      <td>1.5</td>\n",
       "      <td>1.75</td>\n",
       "      <td>0.0</td>\n",
       "      <td>12.0</td>\n",
       "      <td>785.0</td>\n",
       "    </tr>\n",
       "    <tr>\n",
       "      <th>360</th>\n",
       "      <td>-4</td>\n",
       "      <td>1</td>\n",
       "      <td>3.0</td>\n",
       "      <td>0</td>\n",
       "      <td>1</td>\n",
       "      <td>4.38</td>\n",
       "      <td>1</td>\n",
       "      <td>1</td>\n",
       "      <td>1</td>\n",
       "      <td>8.84</td>\n",
       "      <td>299.0</td>\n",
       "      <td>150.5</td>\n",
       "      <td>75.75</td>\n",
       "      <td>0.0</td>\n",
       "      <td>1.0</td>\n",
       "      <td>671.0</td>\n",
       "    </tr>\n",
       "    <tr>\n",
       "      <th>400</th>\n",
       "      <td>-3</td>\n",
       "      <td>1</td>\n",
       "      <td>31.0</td>\n",
       "      <td>0</td>\n",
       "      <td>1</td>\n",
       "      <td>4.38</td>\n",
       "      <td>1</td>\n",
       "      <td>1</td>\n",
       "      <td>1</td>\n",
       "      <td>8.84</td>\n",
       "      <td>3.0</td>\n",
       "      <td>151.0</td>\n",
       "      <td>76.25</td>\n",
       "      <td>0.0</td>\n",
       "      <td>0.0</td>\n",
       "      <td>794.0</td>\n",
       "    </tr>\n",
       "    <tr>\n",
       "      <th>440</th>\n",
       "      <td>-2</td>\n",
       "      <td>1</td>\n",
       "      <td>0.0</td>\n",
       "      <td>0</td>\n",
       "      <td>1</td>\n",
       "      <td>4.38</td>\n",
       "      <td>1</td>\n",
       "      <td>1</td>\n",
       "      <td>1</td>\n",
       "      <td>8.84</td>\n",
       "      <td>31.0</td>\n",
       "      <td>17.0</td>\n",
       "      <td>83.75</td>\n",
       "      <td>0.0</td>\n",
       "      <td>6.0</td>\n",
       "      <td>727.0</td>\n",
       "    </tr>\n",
       "    <tr>\n",
       "      <th>480</th>\n",
       "      <td>-1</td>\n",
       "      <td>1</td>\n",
       "      <td>3.0</td>\n",
       "      <td>0</td>\n",
       "      <td>1</td>\n",
       "      <td>4.38</td>\n",
       "      <td>1</td>\n",
       "      <td>1</td>\n",
       "      <td>1</td>\n",
       "      <td>8.84</td>\n",
       "      <td>0.0</td>\n",
       "      <td>15.5</td>\n",
       "      <td>83.25</td>\n",
       "      <td>0.0</td>\n",
       "      <td>1.0</td>\n",
       "      <td>728.0</td>\n",
       "    </tr>\n",
       "  </tbody>\n",
       "</table>\n",
       "</div>"
      ],
      "text/plain": [
       "     weekpair  itemID  order  brand  manufacturer  customerRating  category1  \\\n",
       "0         -13       1    0.0      0             1            4.38          1   \n",
       "40        -12       1    2.0      0             1            4.38          1   \n",
       "80        -11       1  313.0      0             1            4.38          1   \n",
       "120       -10       1   35.0      0             1            4.38          1   \n",
       "160        -9       1    3.0      0             1            4.38          1   \n",
       "200        -8       1    1.0      0             1            4.38          1   \n",
       "240        -7       1    1.0      0             1            4.38          1   \n",
       "280        -6       1    2.0      0             1            4.38          1   \n",
       "320        -5       1  299.0      0             1            4.38          1   \n",
       "360        -4       1    3.0      0             1            4.38          1   \n",
       "400        -3       1   31.0      0             1            4.38          1   \n",
       "440        -2       1    0.0      0             1            4.38          1   \n",
       "480        -1       1    3.0      0             1            4.38          1   \n",
       "\n",
       "     category2  category3  recommendedRetailPrice  item_1  item_2  item_4  \\\n",
       "0            1          1                    8.84     0.0     0.0    0.00   \n",
       "40           1          1                    8.84     0.0     0.0    0.00   \n",
       "80           1          1                    8.84     2.0     1.0    0.00   \n",
       "120          1          1                    8.84   313.0   157.5    0.00   \n",
       "160          1          1                    8.84    35.0   174.0   87.50   \n",
       "200          1          1                    8.84     3.0    19.0   88.25   \n",
       "240          1          1                    8.84     1.0     2.0   88.00   \n",
       "280          1          1                    8.84     1.0     1.0   10.00   \n",
       "320          1          1                    8.84     2.0     1.5    1.75   \n",
       "360          1          1                    8.84   299.0   150.5   75.75   \n",
       "400          1          1                    8.84     3.0   151.0   76.25   \n",
       "440          1          1                    8.84    31.0    17.0   83.75   \n",
       "480          1          1                    8.84     0.0    15.5   83.25   \n",
       "\n",
       "     dist2firstvalueLeak  leak_cat3  total_new  \n",
       "0                    0.0        5.0     1431.0  \n",
       "40                   1.0        4.0      729.0  \n",
       "80                   0.0        6.0      371.0  \n",
       "120                  0.0        3.0      533.0  \n",
       "160                  0.0        0.0      785.0  \n",
       "200                  0.0        1.0      909.0  \n",
       "240                  0.0        0.0      716.0  \n",
       "280                  0.0        1.0      661.0  \n",
       "320                  0.0       12.0      785.0  \n",
       "360                  0.0        1.0      671.0  \n",
       "400                  0.0        0.0      794.0  \n",
       "440                  0.0        6.0      727.0  \n",
       "480                  0.0        1.0      728.0  "
      ]
     },
     "execution_count": 49,
     "metadata": {},
     "output_type": "execute_result"
    }
   ],
   "source": [
    "# checking if we got what we wanted\n",
    "data.query('itemID == 1')"
   ]
  },
  {
   "cell_type": "code",
   "execution_count": 149,
   "metadata": {},
   "outputs": [],
   "source": [
    "# data[\"ratio_manufnew\"] = data[\"total_new\"] * data[\"leak_cat3\"]\n",
    "# del data[\"ratio_manufnew\"]"
   ]
  },
  {
   "cell_type": "code",
   "execution_count": 129,
   "metadata": {},
   "outputs": [],
   "source": [
    "# data['weekswithtrans'] = data.groupby('itemID')['order'].apply(lambda x : (x > 0).cumsum()) / (data['weekpair'] + 14)"
   ]
  },
  {
   "cell_type": "code",
   "execution_count": 130,
   "metadata": {},
   "outputs": [
    {
     "data": {
      "text/html": [
       "<div>\n",
       "<style scoped>\n",
       "    .dataframe tbody tr th:only-of-type {\n",
       "        vertical-align: middle;\n",
       "    }\n",
       "\n",
       "    .dataframe tbody tr th {\n",
       "        vertical-align: top;\n",
       "    }\n",
       "\n",
       "    .dataframe thead th {\n",
       "        text-align: right;\n",
       "    }\n",
       "</style>\n",
       "<table border=\"1\" class=\"dataframe\">\n",
       "  <thead>\n",
       "    <tr style=\"text-align: right;\">\n",
       "      <th></th>\n",
       "      <th>weekpair</th>\n",
       "      <th>itemID</th>\n",
       "      <th>order</th>\n",
       "      <th>brand</th>\n",
       "      <th>manufacturer</th>\n",
       "      <th>customerRating</th>\n",
       "      <th>category1</th>\n",
       "      <th>category2</th>\n",
       "      <th>category3</th>\n",
       "      <th>recommendedRetailPrice</th>\n",
       "      <th>item_1</th>\n",
       "      <th>item_2</th>\n",
       "      <th>item_4</th>\n",
       "      <th>dist2firstvalueLeak</th>\n",
       "      <th>leak_cat3</th>\n",
       "      <th>total_new</th>\n",
       "      <th>ratio_manufnew</th>\n",
       "    </tr>\n",
       "  </thead>\n",
       "  <tbody>\n",
       "    <tr>\n",
       "      <th>0</th>\n",
       "      <td>-13</td>\n",
       "      <td>1</td>\n",
       "      <td>0.0</td>\n",
       "      <td>0</td>\n",
       "      <td>1</td>\n",
       "      <td>4.38</td>\n",
       "      <td>1</td>\n",
       "      <td>1</td>\n",
       "      <td>1</td>\n",
       "      <td>8.84</td>\n",
       "      <td>0.0</td>\n",
       "      <td>0.0</td>\n",
       "      <td>0.0</td>\n",
       "      <td>0.0</td>\n",
       "      <td>5.0</td>\n",
       "      <td>1431.0</td>\n",
       "      <td>7155.0</td>\n",
       "    </tr>\n",
       "    <tr>\n",
       "      <th>1</th>\n",
       "      <td>-13</td>\n",
       "      <td>31</td>\n",
       "      <td>0.0</td>\n",
       "      <td>0</td>\n",
       "      <td>1</td>\n",
       "      <td>5.00</td>\n",
       "      <td>1</td>\n",
       "      <td>1</td>\n",
       "      <td>1</td>\n",
       "      <td>18.87</td>\n",
       "      <td>0.0</td>\n",
       "      <td>0.0</td>\n",
       "      <td>0.0</td>\n",
       "      <td>0.0</td>\n",
       "      <td>5.0</td>\n",
       "      <td>1431.0</td>\n",
       "      <td>7155.0</td>\n",
       "    </tr>\n",
       "    <tr>\n",
       "      <th>2</th>\n",
       "      <td>-13</td>\n",
       "      <td>32</td>\n",
       "      <td>1.0</td>\n",
       "      <td>0</td>\n",
       "      <td>1</td>\n",
       "      <td>4.60</td>\n",
       "      <td>1</td>\n",
       "      <td>1</td>\n",
       "      <td>1</td>\n",
       "      <td>26.49</td>\n",
       "      <td>0.0</td>\n",
       "      <td>0.0</td>\n",
       "      <td>0.0</td>\n",
       "      <td>1.0</td>\n",
       "      <td>5.0</td>\n",
       "      <td>1431.0</td>\n",
       "      <td>7155.0</td>\n",
       "    </tr>\n",
       "    <tr>\n",
       "      <th>3</th>\n",
       "      <td>-13</td>\n",
       "      <td>37</td>\n",
       "      <td>1.0</td>\n",
       "      <td>0</td>\n",
       "      <td>1</td>\n",
       "      <td>5.00</td>\n",
       "      <td>1</td>\n",
       "      <td>1</td>\n",
       "      <td>1</td>\n",
       "      <td>17.10</td>\n",
       "      <td>0.0</td>\n",
       "      <td>0.0</td>\n",
       "      <td>0.0</td>\n",
       "      <td>1.0</td>\n",
       "      <td>5.0</td>\n",
       "      <td>1431.0</td>\n",
       "      <td>7155.0</td>\n",
       "    </tr>\n",
       "    <tr>\n",
       "      <th>4</th>\n",
       "      <td>-13</td>\n",
       "      <td>108</td>\n",
       "      <td>0.0</td>\n",
       "      <td>0</td>\n",
       "      <td>1</td>\n",
       "      <td>5.00</td>\n",
       "      <td>1</td>\n",
       "      <td>1</td>\n",
       "      <td>1</td>\n",
       "      <td>13.35</td>\n",
       "      <td>0.0</td>\n",
       "      <td>0.0</td>\n",
       "      <td>0.0</td>\n",
       "      <td>0.0</td>\n",
       "      <td>5.0</td>\n",
       "      <td>1431.0</td>\n",
       "      <td>7155.0</td>\n",
       "    </tr>\n",
       "  </tbody>\n",
       "</table>\n",
       "</div>"
      ],
      "text/plain": [
       "   weekpair  itemID  order  brand  manufacturer  customerRating  category1  \\\n",
       "0       -13       1    0.0      0             1            4.38          1   \n",
       "1       -13      31    0.0      0             1            5.00          1   \n",
       "2       -13      32    1.0      0             1            4.60          1   \n",
       "3       -13      37    1.0      0             1            5.00          1   \n",
       "4       -13     108    0.0      0             1            5.00          1   \n",
       "\n",
       "   category2  category3  recommendedRetailPrice  item_1  item_2  item_4  \\\n",
       "0          1          1                    8.84     0.0     0.0     0.0   \n",
       "1          1          1                   18.87     0.0     0.0     0.0   \n",
       "2          1          1                   26.49     0.0     0.0     0.0   \n",
       "3          1          1                   17.10     0.0     0.0     0.0   \n",
       "4          1          1                   13.35     0.0     0.0     0.0   \n",
       "\n",
       "   dist2firstvalueLeak  leak_cat3  total_new  ratio_manufnew  \n",
       "0                  0.0        5.0     1431.0          7155.0  \n",
       "1                  0.0        5.0     1431.0          7155.0  \n",
       "2                  1.0        5.0     1431.0          7155.0  \n",
       "3                  1.0        5.0     1431.0          7155.0  \n",
       "4                  0.0        5.0     1431.0          7155.0  "
      ]
     },
     "execution_count": 130,
     "metadata": {},
     "output_type": "execute_result"
    }
   ],
   "source": [
    "data.head()"
   ]
  },
  {
   "cell_type": "markdown",
   "metadata": {},
   "source": [
    "##  - Split Data"
   ]
  },
  {
   "cell_type": "code",
   "execution_count": 131,
   "metadata": {},
   "outputs": [],
   "source": [
    "weights = infos.set_index('itemID')['simulationPrice'].to_dict()"
   ]
  },
  {
   "cell_type": "code",
   "execution_count": 132,
   "metadata": {},
   "outputs": [],
   "source": [
    "# filtered_data = data\n",
    "filtered_data = data.query(\"dist2firstvalueLeak == 1\")"
   ]
  },
  {
   "cell_type": "code",
   "execution_count": 133,
   "metadata": {},
   "outputs": [
    {
     "data": {
      "text/plain": [
       "(136019, 9840)"
      ]
     },
     "execution_count": 133,
     "metadata": {},
     "output_type": "execute_result"
    }
   ],
   "source": [
    "len(data), len(filtered_data)"
   ]
  },
  {
   "cell_type": "code",
   "execution_count": 134,
   "metadata": {},
   "outputs": [],
   "source": [
    "# filtered_data.pop(\"itemID\");"
   ]
  },
  {
   "cell_type": "code",
   "execution_count": 135,
   "metadata": {},
   "outputs": [],
   "source": [
    "sub_week = -1\n",
    "train = filtered_data.query('-13 <= weekpair <= (@sub_week - 2)').reset_index(drop = True)\n",
    "full_train = filtered_data.query('-13 <= weekpair <= (@sub_week - 1)').reset_index(drop = True)\n",
    "val = filtered_data.query('weekpair == (@sub_week - 1)').reset_index(drop = True)\n",
    "sub = filtered_data.query('weekpair == (@sub_week)').reset_index(drop = True)"
   ]
  },
  {
   "cell_type": "code",
   "execution_count": 136,
   "metadata": {},
   "outputs": [
    {
     "data": {
      "text/plain": [
       "(8385, 727, 728)"
      ]
     },
     "execution_count": 136,
     "metadata": {},
     "output_type": "execute_result"
    }
   ],
   "source": [
    "len(train), len(val), len(sub)"
   ]
  },
  {
   "cell_type": "code",
   "execution_count": 137,
   "metadata": {},
   "outputs": [],
   "source": [
    "y_train = train.pop('order').values\n",
    "y_full_train = full_train.pop('order').values\n",
    "y_val = val.pop('order').values\n",
    "y_sub = sub.pop('order').values\n",
    "\n",
    "w_train = train['itemID'].map(weights)\n",
    "w_full_train = full_train['itemID'].map(weights)\n",
    "w_val = val['itemID'].map(weights)\n",
    "w_sub = sub['itemID'].map(weights)\n",
    "\n",
    "train.pop(\"itemID\")\n",
    "full_train.pop(\"itemID\")\n",
    "val.pop(\"itemID\")\n",
    "sub.pop(\"itemID\")\n",
    "\n",
    "X_train = train.values\n",
    "X_full_train = full_train.values\n",
    "X_val = val.values\n",
    "X_sub = sub.values"
   ]
  },
  {
   "cell_type": "markdown",
   "metadata": {},
   "source": [
    "<hr>"
   ]
  },
  {
   "cell_type": "markdown",
   "metadata": {},
   "source": [
    "## - Min Expected Error"
   ]
  },
  {
   "cell_type": "code",
   "execution_count": 138,
   "metadata": {},
   "outputs": [],
   "source": [
    "def evaluate(prediction, target, simulationPrice):\n",
    "    return np.sum((prediction - np.maximum(prediction - target, 0) * 1.6)  * simulationPrice)"
   ]
  },
  {
   "cell_type": "code",
   "execution_count": 139,
   "metadata": {},
   "outputs": [],
   "source": [
    "# max expected rmse\n",
    "from sklearn.metrics import mean_squared_error as mse\n",
    "# pred = data.loc[1:12].groupby('itemID')['order'].mean().sort_index()\n",
    "# target_week = data.loc[13:, 'order'].reset_index(level = 0, drop = True).sort_index()\n",
    "# mse(target_week, pred) ** .5"
   ]
  },
  {
   "cell_type": "markdown",
   "metadata": {},
   "source": [
    "<hr>"
   ]
  },
  {
   "cell_type": "markdown",
   "metadata": {},
   "source": [
    "## - XGBoost"
   ]
  },
  {
   "cell_type": "code",
   "execution_count": 140,
   "metadata": {},
   "outputs": [],
   "source": [
    "import xgboost as xgb"
   ]
  },
  {
   "cell_type": "code",
   "execution_count": 141,
   "metadata": {},
   "outputs": [
    {
     "data": {
      "text/plain": [
       "'1.1.0'"
      ]
     },
     "execution_count": 141,
     "metadata": {},
     "output_type": "execute_result"
    }
   ],
   "source": [
    "xgb.__version__"
   ]
  },
  {
   "cell_type": "code",
   "execution_count": 142,
   "metadata": {},
   "outputs": [],
   "source": [
    "# custom objective\n",
    "\n",
    "def gradient(prediction, dtrain):\n",
    "    y = dtrain.get_label()\n",
    "#     prediction.astype(int)\n",
    "#     prediction = np.minimum(prediction.astype(int), 1)\n",
    "    return -2 * (prediction - np.maximum(prediction - y, 0) * 1.6) * (1 - (prediction > y) * 1.6)\n",
    "\n",
    "def hessian(prediction, dtrain):\n",
    "    y = dtrain.get_label()\n",
    "#     prediction.prediction(int)\n",
    "#     prediction = np.minimum(prediction.astype(int), 1)\n",
    "    return -2 * (1 - (prediction > y) * 1.6) ** 2\n",
    "\n",
    "def objective(prediction, dtrain):\n",
    "    w = dtrain.get_weight()\n",
    "    grad = gradient(prediction, dtrain) * w\n",
    "    hess = hessian(prediction, dtrain) * w\n",
    "    return grad, hess"
   ]
  },
  {
   "cell_type": "code",
   "execution_count": 143,
   "metadata": {},
   "outputs": [],
   "source": [
    "# custom feval\n",
    "\n",
    "def feval(prediction, dtrain):\n",
    "    prediction = prediction.astype(int)\n",
    "#     predt = np.minimum(predt.astype(int), 1)\n",
    "    target = dtrain.get_label()\n",
    "    simulationPrice = dtrain.get_weight()\n",
    "    return 'feval', np.sum((prediction - np.maximum(prediction - target, 0) * 1.6)  * simulationPrice)"
   ]
  },
  {
   "cell_type": "code",
   "execution_count": 144,
   "metadata": {
    "scrolled": true
   },
   "outputs": [
    {
     "name": "stdout",
     "output_type": "stream",
     "text": [
      "[0]\ttrain-feval:91572.82407\tval-feval:8531.81202\n",
      "Multiple eval metrics have been passed: 'val-feval' will be used for early stopping.\n",
      "\n",
      "Will train until val-feval hasn't improved in 10 rounds.\n",
      "[1]\ttrain-feval:195226.73011\tval-feval:19974.63800\n",
      "[2]\ttrain-feval:316920.81419\tval-feval:29532.66597\n",
      "[3]\ttrain-feval:477422.33241\tval-feval:46215.08813\n",
      "[4]\ttrain-feval:614109.99046\tval-feval:57763.99018\n",
      "[5]\ttrain-feval:728896.92043\tval-feval:70012.67217\n",
      "[6]\ttrain-feval:829170.09453\tval-feval:78524.64016\n",
      "[7]\ttrain-feval:944546.55248\tval-feval:85650.86618\n",
      "[8]\ttrain-feval:1069160.46626\tval-feval:95780.13214\n",
      "[9]\ttrain-feval:1166530.55427\tval-feval:103388.23017\n",
      "[10]\ttrain-feval:1366051.88463\tval-feval:113782.84822\n",
      "[11]\ttrain-feval:1492297.38474\tval-feval:125062.38232\n",
      "[12]\ttrain-feval:1584669.13461\tval-feval:132059.51832\n",
      "[13]\ttrain-feval:1682149.91050\tval-feval:138272.27432\n",
      "[14]\ttrain-feval:1855173.10066\tval-feval:144305.30032\n",
      "[15]\ttrain-feval:1949675.19681\tval-feval:154995.16833\n",
      "[16]\ttrain-feval:2152746.90059\tval-feval:163929.26434\n",
      "[17]\ttrain-feval:2307893.09060\tval-feval:177994.57638\n",
      "[18]\ttrain-feval:2407154.76473\tval-feval:187444.73847\n",
      "[19]\ttrain-feval:2528861.00671\tval-feval:192792.62246\n",
      "[20]\ttrain-feval:2627565.67509\tval-feval:200132.74851\n",
      "[21]\ttrain-feval:2748579.33085\tval-feval:207242.83652\n",
      "[22]\ttrain-feval:2838671.35080\tval-feval:218660.92653\n",
      "[23]\ttrain-feval:2961453.62929\tval-feval:224097.05452\n",
      "[24]\ttrain-feval:3057992.34731\tval-feval:230679.24453\n",
      "[25]\ttrain-feval:3209482.02116\tval-feval:239392.38254\n",
      "[26]\ttrain-feval:3330042.65734\tval-feval:245426.04855\n",
      "[27]\ttrain-feval:3414087.33916\tval-feval:254469.74864\n",
      "[28]\ttrain-feval:3518314.42735\tval-feval:259414.53063\n",
      "[29]\ttrain-feval:3612147.14729\tval-feval:266299.95659\n",
      "[30]\ttrain-feval:3720771.00761\tval-feval:272096.99659\n",
      "[31]\ttrain-feval:3798587.95164\tval-feval:278098.84259\n",
      "[32]\ttrain-feval:3892575.38766\tval-feval:283014.23659\n",
      "[33]\ttrain-feval:4003453.90590\tval-feval:287676.64259\n",
      "[34]\ttrain-feval:4077607.46215\tval-feval:292814.98660\n",
      "[35]\ttrain-feval:4175186.22228\tval-feval:302607.93067\n",
      "[36]\ttrain-feval:4302111.19448\tval-feval:309322.37667\n",
      "[37]\ttrain-feval:4398159.59457\tval-feval:314844.66265\n",
      "[38]\ttrain-feval:4481410.49261\tval-feval:319593.71266\n",
      "[39]\ttrain-feval:4579621.61070\tval-feval:323731.26866\n",
      "[40]\ttrain-feval:4663629.99703\tval-feval:330299.65863\n",
      "[41]\ttrain-feval:4752236.84513\tval-feval:334453.18662\n",
      "[42]\ttrain-feval:4826161.14913\tval-feval:339021.36465\n",
      "[43]\ttrain-feval:4897401.02327\tval-feval:347018.30471\n",
      "[44]\ttrain-feval:5022131.62525\tval-feval:356854.89081\n",
      "[45]\ttrain-feval:5105352.38734\tval-feval:361095.27479\n",
      "[46]\ttrain-feval:5180293.65145\tval-feval:367096.45681\n",
      "[47]\ttrain-feval:5279502.03351\tval-feval:373101.70481\n",
      "[48]\ttrain-feval:5355543.16535\tval-feval:377576.23081\n",
      "[49]\ttrain-feval:5437198.98543\tval-feval:380747.40681\n",
      "[50]\ttrain-feval:5509711.88740\tval-feval:385247.51884\n",
      "[51]\ttrain-feval:5590477.01149\tval-feval:390108.09686\n",
      "[52]\ttrain-feval:5680983.87360\tval-feval:396556.53087\n",
      "[53]\ttrain-feval:5764438.44352\tval-feval:404106.50689\n",
      "[54]\ttrain-feval:5856608.16746\tval-feval:409926.78688\n",
      "[55]\ttrain-feval:5969479.84747\tval-feval:413512.54688\n",
      "[56]\ttrain-feval:6077483.38954\tval-feval:422391.17689\n",
      "[57]\ttrain-feval:6158530.18958\tval-feval:426140.73488\n",
      "[58]\ttrain-feval:6262987.17948\tval-feval:432299.25693\n",
      "[59]\ttrain-feval:6346510.99559\tval-feval:438315.78694\n",
      "[60]\ttrain-feval:6425349.30168\tval-feval:442721.86295\n",
      "[61]\ttrain-feval:6516274.64214\tval-feval:447975.61499\n",
      "[62]\ttrain-feval:6592939.19034\tval-feval:454612.82305\n",
      "[63]\ttrain-feval:6703360.58623\tval-feval:459475.54506\n",
      "[64]\ttrain-feval:6796809.54219\tval-feval:466042.73702\n",
      "[65]\ttrain-feval:6869989.91412\tval-feval:470075.78903\n",
      "[66]\ttrain-feval:6938168.58622\tval-feval:475154.58305\n",
      "[67]\ttrain-feval:7029785.23626\tval-feval:481819.27508\n",
      "[68]\ttrain-feval:7110510.46645\tval-feval:486812.61303\n",
      "[69]\ttrain-feval:7190493.14022\tval-feval:489320.48105\n",
      "[70]\ttrain-feval:7273500.74635\tval-feval:495183.50910\n",
      "[71]\ttrain-feval:7359583.16033\tval-feval:500098.16512\n",
      "[72]\ttrain-feval:7445495.89032\tval-feval:504983.10914\n",
      "[73]\ttrain-feval:7534019.34645\tval-feval:507503.30514\n",
      "[74]\ttrain-feval:7605408.96664\tval-feval:514305.50515\n",
      "[75]\ttrain-feval:7686225.59870\tval-feval:519317.49913\n",
      "[76]\ttrain-feval:7758285.87074\tval-feval:526248.26521\n",
      "[77]\ttrain-feval:7825246.52266\tval-feval:530490.21923\n",
      "[78]\ttrain-feval:7904017.13881\tval-feval:533719.88729\n",
      "[79]\ttrain-feval:7973912.74480\tval-feval:539663.85726\n",
      "[80]\ttrain-feval:8083936.73194\tval-feval:544397.38131\n",
      "[81]\ttrain-feval:8161473.45803\tval-feval:548080.43332\n",
      "[82]\ttrain-feval:8229048.29008\tval-feval:552440.50733\n",
      "[83]\ttrain-feval:8325560.44237\tval-feval:558650.41339\n",
      "[84]\ttrain-feval:8388346.40846\tval-feval:562633.74141\n",
      "[85]\ttrain-feval:8465905.58043\tval-feval:567435.51945\n",
      "[86]\ttrain-feval:8563397.41815\tval-feval:574339.93740\n",
      "[87]\ttrain-feval:8623191.96819\tval-feval:579013.35142\n",
      "[88]\ttrain-feval:8689408.01243\tval-feval:583186.49541\n",
      "[89]\ttrain-feval:8755561.13646\tval-feval:586811.38748\n",
      "[90]\ttrain-feval:8834822.49836\tval-feval:594984.96349\n",
      "[91]\ttrain-feval:8912624.63641\tval-feval:599231.26948\n",
      "[92]\ttrain-feval:8977289.65261\tval-feval:602085.16148\n",
      "[93]\ttrain-feval:9038937.33260\tval-feval:606096.82948\n",
      "[94]\ttrain-feval:9100268.98285\tval-feval:612334.80144\n",
      "[95]\ttrain-feval:9170594.12093\tval-feval:615573.11752\n",
      "[96]\ttrain-feval:9220673.27094\tval-feval:619683.33949\n",
      "[97]\ttrain-feval:9290670.15914\tval-feval:621816.71149\n",
      "[98]\ttrain-feval:9352958.59513\tval-feval:625209.19749\n",
      "[99]\ttrain-feval:9428727.23099\tval-feval:628325.02149\n",
      "[100]\ttrain-feval:9484537.92893\tval-feval:632224.32149\n",
      "[101]\ttrain-feval:9550473.94508\tval-feval:635542.07348\n",
      "[102]\ttrain-feval:9612846.88131\tval-feval:641536.59351\n",
      "[103]\ttrain-feval:9674957.02724\tval-feval:645778.54953\n",
      "[104]\ttrain-feval:9730821.85909\tval-feval:647876.80350\n",
      "[105]\ttrain-feval:9788179.98511\tval-feval:651249.76549\n",
      "[106]\ttrain-feval:9869715.69121\tval-feval:654100.40950\n",
      "[107]\ttrain-feval:9932243.62120\tval-feval:657501.70748\n",
      "[108]\ttrain-feval:10031340.82713\tval-feval:661547.89347\n",
      "[109]\ttrain-feval:10101050.51700\tval-feval:665190.73347\n",
      "[110]\ttrain-feval:10155833.83909\tval-feval:669947.14953\n",
      "[111]\ttrain-feval:10223114.61920\tval-feval:673279.96159\n",
      "[112]\ttrain-feval:10288201.06304\tval-feval:678710.66557\n",
      "[113]\ttrain-feval:10352221.17512\tval-feval:679981.11157\n",
      "[114]\ttrain-feval:10401723.58910\tval-feval:682969.66756\n",
      "[115]\ttrain-feval:10457875.46319\tval-feval:686715.39355\n",
      "[116]\ttrain-feval:10527600.46104\tval-feval:689033.68354\n",
      "[117]\ttrain-feval:10585674.00930\tval-feval:693055.44552\n",
      "[118]\ttrain-feval:10639043.06535\tval-feval:696468.08953\n",
      "[119]\ttrain-feval:10697743.32940\tval-feval:698518.50550\n",
      "[120]\ttrain-feval:10771227.96971\tval-feval:700688.84349\n",
      "[121]\ttrain-feval:10839694.95983\tval-feval:706973.80152\n",
      "[122]\ttrain-feval:10909630.71756\tval-feval:708961.21151\n",
      "[123]\ttrain-feval:10973726.08956\tval-feval:711908.29149\n",
      "[124]\ttrain-feval:11031945.93175\tval-feval:714269.06747\n",
      "[125]\ttrain-feval:11099102.35785\tval-feval:718069.70145\n",
      "[126]\ttrain-feval:11158754.75186\tval-feval:721319.55146\n",
      "[127]\ttrain-feval:11220802.75592\tval-feval:724609.53746\n",
      "[128]\ttrain-feval:11288978.76424\tval-feval:727023.39147\n",
      "[129]\ttrain-feval:11342398.29410\tval-feval:729745.09347\n",
      "[130]\ttrain-feval:11396163.64425\tval-feval:731167.05345\n",
      "[131]\ttrain-feval:11450181.41825\tval-feval:736651.94542\n",
      "[132]\ttrain-feval:11519159.47620\tval-feval:738703.18542\n",
      "[133]\ttrain-feval:11573578.29413\tval-feval:741768.87742\n",
      "[134]\ttrain-feval:11623205.67210\tval-feval:747843.91947\n",
      "[135]\ttrain-feval:11677211.67610\tval-feval:749459.76744\n",
      "[136]\ttrain-feval:11732133.26216\tval-feval:754323.57134\n",
      "[137]\ttrain-feval:11791802.70032\tval-feval:757465.76132\n",
      "[138]\ttrain-feval:11848456.66841\tval-feval:759094.70133\n",
      "[139]\ttrain-feval:11901192.62246\tval-feval:761796.56133\n",
      "[140]\ttrain-feval:11957604.31474\tval-feval:766131.81727\n",
      "[141]\ttrain-feval:12006605.48068\tval-feval:768755.15727\n",
      "[142]\ttrain-feval:12072537.56065\tval-feval:774631.71324\n",
      "[143]\ttrain-feval:12113656.92483\tval-feval:778196.39524\n",
      "[144]\ttrain-feval:12166595.44493\tval-feval:779931.37722\n",
      "[145]\ttrain-feval:12223652.78496\tval-feval:780998.82920\n",
      "[146]\ttrain-feval:12268434.92302\tval-feval:782714.70119\n",
      "[147]\ttrain-feval:12312863.00495\tval-feval:784108.42318\n"
     ]
    },
    {
     "name": "stdout",
     "output_type": "stream",
     "text": [
      "[148]\ttrain-feval:12365391.92300\tval-feval:785991.61909\n",
      "[149]\ttrain-feval:12414466.02298\tval-feval:788691.28309\n",
      "[150]\ttrain-feval:12458134.41912\tval-feval:790843.87910\n",
      "[151]\ttrain-feval:12507559.37722\tval-feval:793647.45307\n",
      "[152]\ttrain-feval:12555323.13705\tval-feval:798799.20912\n",
      "[153]\ttrain-feval:12602682.77101\tval-feval:801630.26110\n",
      "[154]\ttrain-feval:12648438.98697\tval-feval:805042.56908\n",
      "[155]\ttrain-feval:12696391.66289\tval-feval:808189.08303\n",
      "[156]\ttrain-feval:12745897.42490\tval-feval:809848.85104\n",
      "[157]\ttrain-feval:12798896.14684\tval-feval:813864.95505\n",
      "[158]\ttrain-feval:12860582.48683\tval-feval:815120.44304\n",
      "[159]\ttrain-feval:12906386.75874\tval-feval:818331.40105\n",
      "[160]\ttrain-feval:12956332.19072\tval-feval:820564.08302\n",
      "[161]\ttrain-feval:13010398.02488\tval-feval:822646.04701\n",
      "[162]\ttrain-feval:13052298.74492\tval-feval:825383.62098\n",
      "[163]\ttrain-feval:13127716.18138\tval-feval:827838.31095\n",
      "[164]\ttrain-feval:13194829.44357\tval-feval:830680.24896\n",
      "[165]\ttrain-feval:13236980.95756\tval-feval:833066.80895\n",
      "[166]\ttrain-feval:13283386.59757\tval-feval:836127.09094\n",
      "[167]\ttrain-feval:13326745.14351\tval-feval:837939.29495\n",
      "[168]\ttrain-feval:13374490.26955\tval-feval:839361.94095\n",
      "[169]\ttrain-feval:13424418.66560\tval-feval:842060.68496\n",
      "[170]\ttrain-feval:13468291.77170\tval-feval:845479.76893\n",
      "[171]\ttrain-feval:13504431.72569\tval-feval:847980.67493\n",
      "[172]\ttrain-feval:13547773.09575\tval-feval:850997.10892\n",
      "[173]\ttrain-feval:13595404.24777\tval-feval:852554.13091\n",
      "[174]\ttrain-feval:13643189.66176\tval-feval:854901.27288\n",
      "[175]\ttrain-feval:13688874.03593\tval-feval:858384.54094\n",
      "[176]\ttrain-feval:13728413.04992\tval-feval:859659.45892\n",
      "[177]\ttrain-feval:13762534.10606\tval-feval:861776.73692\n",
      "[178]\ttrain-feval:13821874.47992\tval-feval:863070.91692\n",
      "[179]\ttrain-feval:13862668.11590\tval-feval:865373.08693\n",
      "[180]\ttrain-feval:13904788.79795\tval-feval:867686.53891\n",
      "[181]\ttrain-feval:13956918.16969\tval-feval:868484.66690\n",
      "[182]\ttrain-feval:13992023.45385\tval-feval:871374.85093\n",
      "[183]\ttrain-feval:14036689.20393\tval-feval:872702.88891\n",
      "[184]\ttrain-feval:14088137.98018\tval-feval:874973.29890\n",
      "[185]\ttrain-feval:14132797.14625\tval-feval:876906.26490\n",
      "[186]\ttrain-feval:14166843.51237\tval-feval:878982.98288\n",
      "[187]\ttrain-feval:14204071.46837\tval-feval:880918.55285\n",
      "[188]\ttrain-feval:14237569.56245\tval-feval:882401.32884\n",
      "[189]\ttrain-feval:14287603.83284\tval-feval:883698.50881\n",
      "[190]\ttrain-feval:14321058.80086\tval-feval:885851.12080\n",
      "[191]\ttrain-feval:14363201.64495\tval-feval:886813.42080\n",
      "[192]\ttrain-feval:14406073.30298\tval-feval:888122.23079\n",
      "[193]\ttrain-feval:14454097.10900\tval-feval:890707.47878\n",
      "[194]\ttrain-feval:14500631.39293\tval-feval:892272.16478\n",
      "[195]\ttrain-feval:14534444.05497\tval-feval:893576.42277\n",
      "[196]\ttrain-feval:14568409.97692\tval-feval:893425.85477\n",
      "[197]\ttrain-feval:14610565.84106\tval-feval:894877.85876\n",
      "[198]\ttrain-feval:14648732.65903\tval-feval:896840.91675\n",
      "[199]\ttrain-feval:14686051.16703\tval-feval:898047.58273\n",
      "[200]\ttrain-feval:14728381.75918\tval-feval:899462.94673\n",
      "[201]\ttrain-feval:14767459.65311\tval-feval:901145.24073\n",
      "[202]\ttrain-feval:14799642.39312\tval-feval:902152.08872\n",
      "[203]\ttrain-feval:14832487.59314\tval-feval:903342.67071\n",
      "[204]\ttrain-feval:14861660.18919\tval-feval:905337.97272\n",
      "[205]\ttrain-feval:14896037.83916\tval-feval:907459.40068\n",
      "[206]\ttrain-feval:14935795.13317\tval-feval:908580.31467\n",
      "[207]\ttrain-feval:14971093.94104\tval-feval:909551.29668\n",
      "[208]\ttrain-feval:15013024.69913\tval-feval:912079.02473\n",
      "[209]\ttrain-feval:15049396.48930\tval-feval:914055.41071\n",
      "[210]\ttrain-feval:15097943.04100\tval-feval:913750.66470\n",
      "[211]\ttrain-feval:15134381.48911\tval-feval:915228.69469\n",
      "[212]\ttrain-feval:15171614.81311\tval-feval:914596.08666\n",
      "[213]\ttrain-feval:15212719.46706\tval-feval:915826.46066\n",
      "[214]\ttrain-feval:15251190.10117\tval-feval:917262.81266\n",
      "[215]\ttrain-feval:15283782.37713\tval-feval:917827.39863\n",
      "[216]\ttrain-feval:15315096.56517\tval-feval:919178.94661\n",
      "[217]\ttrain-feval:15356206.16124\tval-feval:920338.63061\n",
      "[218]\ttrain-feval:15393183.89928\tval-feval:920985.63462\n",
      "[219]\ttrain-feval:15426250.84126\tval-feval:922098.32861\n",
      "[220]\ttrain-feval:15472958.53306\tval-feval:922937.13860\n",
      "[221]\ttrain-feval:15510285.39699\tval-feval:923125.58860\n",
      "[222]\ttrain-feval:15541461.58103\tval-feval:924844.93857\n",
      "[223]\ttrain-feval:15576253.86314\tval-feval:925577.25057\n",
      "[224]\ttrain-feval:15618227.49907\tval-feval:927050.94455\n",
      "[225]\ttrain-feval:15653819.83533\tval-feval:928653.03853\n",
      "[226]\ttrain-feval:15687291.79347\tval-feval:930331.82052\n",
      "[227]\ttrain-feval:15727844.63569\tval-feval:930526.50051\n",
      "[228]\ttrain-feval:15762235.05569\tval-feval:931598.46850\n",
      "[229]\ttrain-feval:15802573.45767\tval-feval:932380.90450\n",
      "[230]\ttrain-feval:15842249.49343\tval-feval:933371.99250\n",
      "[231]\ttrain-feval:15871465.76744\tval-feval:933642.66650\n",
      "[232]\ttrain-feval:15905266.52750\tval-feval:933624.79249\n",
      "[233]\ttrain-feval:15938127.68955\tval-feval:933976.00447\n",
      "[234]\ttrain-feval:15976329.78346\tval-feval:934881.00846\n",
      "[235]\ttrain-feval:16008635.53532\tval-feval:935861.75444\n",
      "[236]\ttrain-feval:16049495.95133\tval-feval:935901.45443\n",
      "[237]\ttrain-feval:16082947.46326\tval-feval:937121.07443\n",
      "[238]\ttrain-feval:16117649.97336\tval-feval:937727.72241\n",
      "[239]\ttrain-feval:16157642.75330\tval-feval:938456.51442\n",
      "[240]\ttrain-feval:16185465.32729\tval-feval:939381.76442\n",
      "[241]\ttrain-feval:16216802.71124\tval-feval:940365.08642\n",
      "[242]\ttrain-feval:16245397.77741\tval-feval:940444.73040\n",
      "[243]\ttrain-feval:16276970.75741\tval-feval:941479.87840\n",
      "[244]\ttrain-feval:16303766.41742\tval-feval:941967.25839\n",
      "[245]\ttrain-feval:16330621.14746\tval-feval:942142.62638\n",
      "[246]\ttrain-feval:16356580.05544\tval-feval:942754.06036\n",
      "[247]\ttrain-feval:16381464.46346\tval-feval:942786.52636\n",
      "[248]\ttrain-feval:16409571.77555\tval-feval:943476.66635\n",
      "[249]\ttrain-feval:16433922.98553\tval-feval:942842.68836\n",
      "[250]\ttrain-feval:16468328.86557\tval-feval:944103.44636\n",
      "[251]\ttrain-feval:16492580.96963\tval-feval:945183.99835\n",
      "[252]\ttrain-feval:16521262.46144\tval-feval:945674.61035\n",
      "[253]\ttrain-feval:16564164.06160\tval-feval:946396.11635\n",
      "[254]\ttrain-feval:16590058.98571\tval-feval:948350.74640\n",
      "[255]\ttrain-feval:16622628.24373\tval-feval:950197.18642\n",
      "[256]\ttrain-feval:16645413.77189\tval-feval:951482.67040\n",
      "[257]\ttrain-feval:16671062.30180\tval-feval:952107.26240\n",
      "[258]\ttrain-feval:16704463.07784\tval-feval:952596.71239\n",
      "[259]\ttrain-feval:16737764.70810\tval-feval:952578.82439\n",
      "[260]\ttrain-feval:16767924.61822\tval-feval:952946.72639\n",
      "[261]\ttrain-feval:16792716.92625\tval-feval:953181.47037\n",
      "[262]\ttrain-feval:16816798.74438\tval-feval:955882.21442\n",
      "[263]\ttrain-feval:16848713.78446\tval-feval:957317.47442\n",
      "[264]\ttrain-feval:16876516.81051\tval-feval:957847.35842\n",
      "[265]\ttrain-feval:16907541.05647\tval-feval:958155.28441\n",
      "[266]\ttrain-feval:16938746.11448\tval-feval:959315.53640\n",
      "[267]\ttrain-feval:16966415.34854\tval-feval:960603.41238\n",
      "[268]\ttrain-feval:17001972.30285\tval-feval:960669.06237\n",
      "[269]\ttrain-feval:17027611.91676\tval-feval:961672.62637\n",
      "[270]\ttrain-feval:17056095.66286\tval-feval:962854.76837\n",
      "[271]\ttrain-feval:17082850.06698\tval-feval:963272.52037\n",
      "[272]\ttrain-feval:17108272.72896\tval-feval:963174.87238\n",
      "[273]\ttrain-feval:17152662.71693\tval-feval:963905.63038\n",
      "[274]\ttrain-feval:17179122.58082\tval-feval:964604.68637\n",
      "[275]\ttrain-feval:17204689.92071\tval-feval:964326.42637\n",
      "[276]\ttrain-feval:17226618.00868\tval-feval:966515.44436\n",
      "[277]\ttrain-feval:17254137.62472\tval-feval:965669.58636\n",
      "[278]\ttrain-feval:17282385.74886\tval-feval:965690.05037\n",
      "[279]\ttrain-feval:17303144.10892\tval-feval:967040.14037\n",
      "[280]\ttrain-feval:17333386.22294\tval-feval:967218.43636\n",
      "[281]\ttrain-feval:17356021.02088\tval-feval:967028.28036\n",
      "[282]\ttrain-feval:17384318.99280\tval-feval:967069.23036\n",
      "[283]\ttrain-feval:17404835.94088\tval-feval:967872.44235\n",
      "[284]\ttrain-feval:17433301.15891\tval-feval:968495.95035\n",
      "[285]\ttrain-feval:17457269.16886\tval-feval:968733.63834\n",
      "[286]\ttrain-feval:17482842.49075\tval-feval:967732.91826\n",
      "[287]\ttrain-feval:17505804.05887\tval-feval:967669.46625\n",
      "[288]\ttrain-feval:17526665.41079\tval-feval:968170.13025\n",
      "[289]\ttrain-feval:17554343.91290\tval-feval:968599.59823\n",
      "[290]\ttrain-feval:17581737.79880\tval-feval:968953.13824\n",
      "[291]\ttrain-feval:17602463.99085\tval-feval:968473.00023\n",
      "[292]\ttrain-feval:17628084.02500\tval-feval:968504.40622\n",
      "[293]\ttrain-feval:17653444.65299\tval-feval:969019.51621\n",
      "[294]\ttrain-feval:17673628.76506\tval-feval:969599.36419\n"
     ]
    },
    {
     "name": "stdout",
     "output_type": "stream",
     "text": [
      "[295]\ttrain-feval:17699431.17106\tval-feval:972532.51825\n",
      "[296]\ttrain-feval:17718864.21501\tval-feval:972257.03025\n",
      "[297]\ttrain-feval:17741652.90496\tval-feval:972673.38825\n",
      "[298]\ttrain-feval:17768366.84507\tval-feval:972730.13625\n",
      "[299]\ttrain-feval:17791700.63727\tval-feval:972724.94824\n",
      "[300]\ttrain-feval:17829311.56161\tval-feval:972716.57225\n",
      "[301]\ttrain-feval:17852418.18151\tval-feval:972062.49624\n",
      "[302]\ttrain-feval:17873328.31553\tval-feval:973008.01628\n",
      "[303]\ttrain-feval:17899327.93954\tval-feval:973250.24827\n",
      "[304]\ttrain-feval:17931847.59746\tval-feval:973217.63826\n",
      "[305]\ttrain-feval:17961463.03757\tval-feval:972987.59025\n",
      "[306]\ttrain-feval:17991560.80763\tval-feval:973798.85820\n",
      "[307]\ttrain-feval:18013602.97768\tval-feval:973615.11022\n",
      "[308]\ttrain-feval:18033927.89977\tval-feval:974085.33220\n",
      "[309]\ttrain-feval:18054927.11373\tval-feval:975070.48020\n",
      "[310]\ttrain-feval:18074286.67369\tval-feval:975494.86418\n",
      "[311]\ttrain-feval:18094798.89968\tval-feval:975254.56218\n",
      "[312]\ttrain-feval:18118437.54574\tval-feval:975152.46816\n",
      "[313]\ttrain-feval:18145971.57778\tval-feval:974833.45616\n",
      "[314]\ttrain-feval:18164728.09177\tval-feval:975215.27416\n",
      "[315]\ttrain-feval:18191854.25370\tval-feval:977124.12616\n",
      "[316]\ttrain-feval:18210888.43366\tval-feval:977500.56016\n",
      "[317]\ttrain-feval:18238680.45373\tval-feval:976752.44813\n",
      "[318]\ttrain-feval:18263336.14360\tval-feval:976426.08811\n",
      "[319]\ttrain-feval:18280580.35962\tval-feval:976649.90811\n",
      "[320]\ttrain-feval:18302358.67163\tval-feval:976348.43211\n",
      "[321]\ttrain-feval:18322168.87170\tval-feval:976867.13413\n",
      "[322]\ttrain-feval:18344708.04550\tval-feval:976467.86212\n",
      "[323]\ttrain-feval:18369600.92350\tval-feval:977004.87013\n",
      "[324]\ttrain-feval:18389363.19751\tval-feval:976778.94613\n",
      "[325]\ttrain-feval:18410790.95944\tval-feval:977213.59011\n",
      "[326]\ttrain-feval:18434292.41935\tval-feval:977425.09011\n",
      "Stopping. Best iteration:\n",
      "[316]\ttrain-feval:18210888.43366\tval-feval:977500.56016\n",
      "\n"
     ]
    }
   ],
   "source": [
    "missing = 0\n",
    "dtrain = xgb.DMatrix(X_train, y_train, w_train, missing = missing)\n",
    "dfulltrain = xgb.DMatrix(X_full_train, y_full_train, w_full_train, missing = missing)\n",
    "dval = xgb.DMatrix(X_val, y_val, w_val, missing = missing)\n",
    "dsub = xgb.DMatrix(X_sub, y_sub, w_sub, missing = missing)\n",
    "# specify parameters via map\n",
    "param = {\n",
    "    'max_depth':10,\n",
    "    'eta':0.005,\n",
    "    'objective':'reg:squarederror',\n",
    "    'disable_default_eval_metric': 1,\n",
    "    \"min_child_weight\" : 3,\n",
    "    \n",
    "#     'tree_method' : 'gpu_hist',\n",
    "}\n",
    "num_round = 400\n",
    "bst = xgb.train(param, dtrain,\n",
    "                num_round,\n",
    "                early_stopping_rounds = 10,\n",
    "                evals = [(dtrain, 'train'), (dval, 'val')],\n",
    "#                 obj = objective,\n",
    "                feval = feval,\n",
    "                maximize = True,\n",
    "                )"
   ]
  },
  {
   "cell_type": "code",
   "execution_count": 145,
   "metadata": {},
   "outputs": [
    {
     "data": {
      "text/plain": [
       "1040720.6819999999"
      ]
     },
     "execution_count": 145,
     "metadata": {},
     "output_type": "execute_result"
    }
   ],
   "source": [
    "prediction = bst.predict(dsub, ntree_limit=bst.best_ntree_limit).astype(int)\n",
    "evaluate(prediction, y_sub, w_sub)"
   ]
  },
  {
   "cell_type": "code",
   "execution_count": 146,
   "metadata": {},
   "outputs": [],
   "source": [
    "# retrain!"
   ]
  },
  {
   "cell_type": "code",
   "execution_count": 147,
   "metadata": {},
   "outputs": [
    {
     "data": {
      "text/plain": [
       "317"
      ]
     },
     "execution_count": 147,
     "metadata": {},
     "output_type": "execute_result"
    }
   ],
   "source": [
    "bst_sub = xgb.train(param, dfulltrain,\n",
    "    num_boost_round = bst.best_ntree_limit,\n",
    "    #                 obj = objective,\n",
    "    feval = feval, maximize = True,\n",
    "    evals = [(dfulltrain, 'ftrain')],\n",
    "    verbose_eval = False,\n",
    ")\n",
    "bst_sub.best_ntree_limit"
   ]
  },
  {
   "cell_type": "code",
   "execution_count": 148,
   "metadata": {},
   "outputs": [
    {
     "data": {
      "text/plain": [
       "1001526.874"
      ]
     },
     "execution_count": 148,
     "metadata": {},
     "output_type": "execute_result"
    }
   ],
   "source": [
    "prediction = bst_sub.predict(dsub, ntree_limit=bst_sub.best_ntree_limit).astype(int)\n",
    "evaluate(prediction, y_sub, w_sub)"
   ]
  },
  {
   "cell_type": "code",
   "execution_count": 410,
   "metadata": {},
   "outputs": [],
   "source": [
    "# some other things below"
   ]
  },
  {
   "cell_type": "code",
   "execution_count": 411,
   "metadata": {},
   "outputs": [
    {
     "data": {
      "text/plain": [
       "7683293.24"
      ]
     },
     "execution_count": 411,
     "metadata": {},
     "output_type": "execute_result"
    }
   ],
   "source": [
    "# max possible score\n",
    "evaluate(y_sub, y_sub, w_sub)"
   ]
  },
  {
   "cell_type": "code",
   "execution_count": 412,
   "metadata": {},
   "outputs": [
    {
     "data": {
      "text/plain": [
       "-3425880.0980000007"
      ]
     },
     "execution_count": 412,
     "metadata": {},
     "output_type": "execute_result"
    }
   ],
   "source": [
    "# using previous weekpair\n",
    "evaluate(y_val, y_sub, w_sub)"
   ]
  },
  {
   "cell_type": "code",
   "execution_count": 413,
   "metadata": {},
   "outputs": [],
   "source": [
    "submission = items[['itemID']].copy()\n",
    "submission['demandPrediction'] = bst.predict(dsub, ntree_limit=bst.best_ntree_limit).astype(int)\n",
    "submission.to_csv('../../submissions/sub_inclass_03.csv', sep = '|', index=False)\n",
    "# submission.head()"
   ]
  },
  {
   "cell_type": "markdown",
   "metadata": {},
   "source": [
    "<hr>"
   ]
  },
  {
   "cell_type": "markdown",
   "metadata": {},
   "source": [
    "## - LGBM"
   ]
  },
  {
   "cell_type": "code",
   "execution_count": 643,
   "metadata": {},
   "outputs": [],
   "source": [
    "def feval_lgbm(prediction, dtrain):\n",
    "    prediction = prediction.astype(int)\n",
    "    target = dtrain.get_label()\n",
    "    simulationPrice = dtrain.get_weight()\n",
    "    return 'feval', np.sum((prediction - np.maximum(prediction - target, 0) * 1.6)  * simulationPrice), True"
   ]
  },
  {
   "cell_type": "code",
   "execution_count": 799,
   "metadata": {},
   "outputs": [
    {
     "data": {
      "text/plain": [
       "Index(['weekpair', 'itemID', 'order', 'brand', 'manufacturer',\n",
       "       'customerRating', 'category1', 'category2', 'category3',\n",
       "       'recommendedRetailPrice', 'item_1', 'item_2', 'item_4',\n",
       "       'dist2firstvalueLeak', 'leak_cat3', 'total_new'],\n",
       "      dtype='object')"
      ]
     },
     "execution_count": 799,
     "metadata": {},
     "output_type": "execute_result"
    }
   ],
   "source": [
    "data.columns"
   ]
  },
  {
   "cell_type": "code",
   "execution_count": 796,
   "metadata": {},
   "outputs": [
    {
     "data": {
      "text/plain": [
       "13"
      ]
     },
     "execution_count": 796,
     "metadata": {},
     "output_type": "execute_result"
    }
   ],
   "source": [
    "list(data.columns).index(\"dist2firstvalueLeak\")"
   ]
  },
  {
   "cell_type": "code",
   "execution_count": 802,
   "metadata": {},
   "outputs": [
    {
     "name": "stdout",
     "output_type": "stream",
     "text": [
      "Training until validation scores don't improve for 5 rounds\n",
      "[5]\ttrain's l2: 1464.75\ttrain's feval: -1.32057e+07\tval's l2: 1858.36\tval's feval: -1.01674e+06\n",
      "[10]\ttrain's l2: 1394.43\ttrain's feval: -8.75271e+06\tval's l2: 1778.31\tval's feval: -708249\n",
      "[15]\ttrain's l2: 1348.92\ttrain's feval: -6.43177e+06\tval's l2: 1730.32\tval's feval: -384746\n",
      "[20]\ttrain's l2: 1317.45\ttrain's feval: -2.51634e+06\tval's l2: 1699.24\tval's feval: -260048\n",
      "[25]\ttrain's l2: 1296.63\ttrain's feval: -1.63339e+06\tval's l2: 1680.72\tval's feval: -90904.3\n",
      "[30]\ttrain's l2: 1279.16\ttrain's feval: -317393\tval's l2: 1667.82\tval's feval: -52188.8\n",
      "[35]\ttrain's l2: 1265.51\ttrain's feval: 1.96098e+06\tval's l2: 1658.66\tval's feval: 54488.2\n",
      "[40]\ttrain's l2: 1256.37\ttrain's feval: 2.95818e+06\tval's l2: 1653.26\tval's feval: 155709\n",
      "[45]\ttrain's l2: 1248.77\ttrain's feval: 3.32183e+06\tval's l2: 1650.56\tval's feval: 201968\n",
      "[50]\ttrain's l2: 1242.02\ttrain's feval: 3.28291e+06\tval's l2: 1646.69\tval's feval: 169352\n",
      "Early stopping, best iteration is:\n",
      "[45]\ttrain's l2: 1248.77\ttrain's feval: 3.32183e+06\tval's l2: 1650.56\tval's feval: 201968\n"
     ]
    }
   ],
   "source": [
    "import lightgbm as lgb\n",
    "\n",
    "params = {\n",
    "          \"objective\" : 'regression_l1',\n",
    "#           \"metric\" :\"rmse\",\n",
    "          \"learning_rate\" : 0.05,\n",
    "          'verbosity': 2,\n",
    "#           'max_depth': 6,\n",
    "#           'num_leaves': 15,\n",
    "          \"min_data_in_leaf\":1500\n",
    "         }\n",
    "# https://lightgbm.readthedocs.io/en/latest/Parameters.html\n",
    "\n",
    "\n",
    "ds_params = {\n",
    "#     'categorical_feature' : [3, 4, 5, 7, list(data.columns).index(\"dist2firstvalueLeak\"),],\n",
    "}\n",
    "lgbtrain = lgb.Dataset(X_train, label = y_train, weight=w_train, **ds_params)\n",
    "lgbfulltrain = lgb.Dataset(X_full_train, label = y_full_train, weight=w_full_train, **ds_params)\n",
    "lgbvalid = lgb.Dataset(X_val, label = y_val, weight=w_val, **ds_params)\n",
    "lgbsubmis = lgb.Dataset(X_sub, label = y_sub, weight=w_sub, **ds_params)\n",
    "\n",
    "num_round = 1000\n",
    "lgb_model = lgb.train(params,\n",
    "                  lgbtrain,\n",
    "                  num_round,\n",
    "                  valid_sets = [lgbtrain, lgbvalid],\n",
    "                  valid_names = ['train', 'val'],\n",
    "                  verbose_eval=5,\n",
    "                  early_stopping_rounds=5,\n",
    "                  feval = feval_lgbm,\n",
    "#                   fobj = objective,\n",
    "                 )"
   ]
  },
  {
   "cell_type": "code",
   "execution_count": 803,
   "metadata": {},
   "outputs": [
    {
     "data": {
      "text/plain": [
       "324378.17599999957"
      ]
     },
     "execution_count": 803,
     "metadata": {},
     "output_type": "execute_result"
    }
   ],
   "source": [
    "prediction = lgb_model.predict(X_sub, num_iteration=lgb_model.best_iteration).astype(int)\n",
    "evaluate(prediction, y_sub, w_sub)"
   ]
  },
  {
   "cell_type": "code",
   "execution_count": 646,
   "metadata": {},
   "outputs": [],
   "source": [
    "# retrain!"
   ]
  },
  {
   "cell_type": "code",
   "execution_count": 647,
   "metadata": {},
   "outputs": [
    {
     "name": "stdout",
     "output_type": "stream",
     "text": [
      "[5]\ttrain's l1: 4.73405\ttrain's feval: 1.18954e+06\n",
      "[10]\ttrain's l1: 4.66981\ttrain's feval: 2.33127e+06\n",
      "[15]\ttrain's l1: 4.62713\ttrain's feval: 3.06989e+06\n",
      "[20]\ttrain's l1: 4.58673\ttrain's feval: 3.73909e+06\n",
      "[25]\ttrain's l1: 4.56596\ttrain's feval: 4.30633e+06\n",
      "[30]\ttrain's l1: 4.54644\ttrain's feval: 4.59851e+06\n"
     ]
    }
   ],
   "source": [
    "lgb_model_sub = lgb.train(params,\n",
    "                  lgbfulltrain,\n",
    "                  lgb_model.best_iteration,\n",
    "                  valid_sets = [lgbfulltrain],\n",
    "                  valid_names = ['train'],\n",
    "                  verbose_eval=5,\n",
    "                  early_stopping_rounds=None,\n",
    "                 feval = feval_lgbm,\n",
    "#                   fobj = objective,\n",
    "                 )"
   ]
  },
  {
   "cell_type": "code",
   "execution_count": 648,
   "metadata": {},
   "outputs": [
    {
     "data": {
      "text/plain": [
       "377472.03800000006"
      ]
     },
     "execution_count": 648,
     "metadata": {},
     "output_type": "execute_result"
    }
   ],
   "source": [
    "prediction = lgb_model_sub.predict(X_sub, num_iteration=80).astype(int)\n",
    "evaluate(prediction, y_sub, w_sub)"
   ]
  },
  {
   "cell_type": "markdown",
   "metadata": {},
   "source": [
    "<hr>"
   ]
  },
  {
   "cell_type": "markdown",
   "metadata": {},
   "source": [
    "## - CatBoost"
   ]
  },
  {
   "cell_type": "code",
   "execution_count": 117,
   "metadata": {},
   "outputs": [],
   "source": [
    "from catboost import CatBoost, CatBoostRegressor, Pool"
   ]
  },
  {
   "cell_type": "code",
   "execution_count": 118,
   "metadata": {},
   "outputs": [],
   "source": [
    "smthing =0"
   ]
  },
  {
   "cell_type": "code",
   "execution_count": 119,
   "metadata": {},
   "outputs": [],
   "source": [
    "class feval_cat(object):\n",
    "    def get_final_error(self, error, weight):\n",
    "        # return error / (weight + 1e-38)\n",
    "        return error\n",
    "\n",
    "    def is_max_optimal(self):\n",
    "        return True\n",
    "\n",
    "    def evaluate(self, approxes, target, simulationPrice):\n",
    "#         global smthing\n",
    "#         smthing = [approxes, target, simulationPrice]\n",
    "        prediction = np.array(approxes[0]).astype(int)\n",
    "        target = np.array(target).astype(int)\n",
    "        simulationPrice = np.array(simulationPrice)\n",
    "        score = np.sum((prediction - np.maximum(prediction - target, 0) * 1.6)  * simulationPrice)\n",
    "#         print('score', score)\n",
    "#         print(approxes, type(target), type(simulationPrice))\n",
    "        return score, 0"
   ]
  },
  {
   "cell_type": "code",
   "execution_count": 121,
   "metadata": {
    "scrolled": true
   },
   "outputs": [
    {
     "name": "stdout",
     "output_type": "stream",
     "text": [
      "0:\tlearn: 4448041.7662271\ttest: 4448041.7662271\ttest1: 305858.8646799\tbest: 305858.8646799 (0)\ttotal: 64.9ms\tremaining: 1m 4s\n",
      "1:\tlearn: 4797594.0345867\ttest: 4797594.0345867\ttest1: 391382.2791724\tbest: 391382.2791724 (1)\ttotal: 82.2ms\tremaining: 41s\n",
      "2:\tlearn: 5241880.2328963\ttest: 5241880.2328963\ttest1: 450040.9890731\tbest: 450040.9890731 (2)\ttotal: 97.9ms\tremaining: 32.5s\n",
      "3:\tlearn: 5656339.7249157\ttest: 5656339.7249157\ttest1: 478154.2090763\tbest: 478154.2090763 (3)\ttotal: 109ms\tremaining: 27.1s\n",
      "4:\tlearn: 5829988.9831609\ttest: 5829988.9831609\ttest1: 542399.8853838\tbest: 542399.8853838 (4)\ttotal: 120ms\tremaining: 23.8s\n",
      "5:\tlearn: 6130978.2677783\ttest: 6130978.2677783\ttest1: 590502.4434476\tbest: 590502.4434476 (5)\ttotal: 131ms\tremaining: 21.6s\n",
      "6:\tlearn: 6145374.0235386\ttest: 6145374.0235386\ttest1: 659497.9398484\tbest: 659497.9398484 (6)\ttotal: 142ms\tremaining: 20.1s\n",
      "7:\tlearn: 6347476.0411946\ttest: 6347476.0411946\ttest1: 675588.8138203\tbest: 675588.8138203 (7)\ttotal: 153ms\tremaining: 19s\n",
      "8:\tlearn: 6675294.0495489\ttest: 6675294.0495489\ttest1: 712206.3758863\tbest: 712206.3758863 (8)\ttotal: 166ms\tremaining: 18.3s\n",
      "9:\tlearn: 6822821.7842704\ttest: 6822821.7842704\ttest1: 731076.9459540\tbest: 731076.9459540 (9)\ttotal: 177ms\tremaining: 17.5s\n",
      "10:\tlearn: 6774245.3705067\ttest: 6774245.3705067\ttest1: 729362.3339437\tbest: 731076.9459540 (9)\ttotal: 188ms\tremaining: 16.9s\n",
      "11:\tlearn: 6762466.4845318\ttest: 6762466.4845318\ttest1: 751394.2240445\tbest: 751394.2240445 (11)\ttotal: 199ms\tremaining: 16.4s\n",
      "12:\tlearn: 6833703.5214836\ttest: 6833703.5214836\ttest1: 765988.6479926\tbest: 765988.6479926 (12)\ttotal: 211ms\tremaining: 16s\n",
      "13:\tlearn: 7038622.0409300\ttest: 7038622.0409300\ttest1: 785293.4819011\tbest: 785293.4819011 (13)\ttotal: 222ms\tremaining: 15.6s\n",
      "14:\tlearn: 6979718.6774888\ttest: 6979718.6774888\ttest1: 804604.8738784\tbest: 804604.8738784 (14)\ttotal: 233ms\tremaining: 15.3s\n",
      "15:\tlearn: 7158170.5318131\ttest: 7158170.5318131\ttest1: 810791.3519535\tbest: 810791.3519535 (15)\ttotal: 244ms\tremaining: 15s\n",
      "16:\tlearn: 7395518.4580841\ttest: 7395518.4580841\ttest1: 829109.6619081\tbest: 829109.6619081 (16)\ttotal: 255ms\tremaining: 14.8s\n",
      "17:\tlearn: 7775930.0825137\ttest: 7775930.0825137\ttest1: 840974.9959509\tbest: 840974.9959509 (17)\ttotal: 267ms\tremaining: 14.5s\n",
      "18:\tlearn: 7816845.2776353\ttest: 7816845.2776353\ttest1: 843475.2399118\tbest: 843475.2399118 (18)\ttotal: 283ms\tremaining: 14.6s\n",
      "19:\tlearn: 8028956.5515642\ttest: 8028956.5515642\ttest1: 853999.0579209\tbest: 853999.0579209 (19)\ttotal: 299ms\tremaining: 14.6s\n",
      "20:\tlearn: 8112056.1136543\ttest: 8112056.1136543\ttest1: 861774.2177806\tbest: 861774.2177806 (20)\ttotal: 317ms\tremaining: 14.8s\n",
      "21:\tlearn: 8169996.6827505\ttest: 8169996.6827505\ttest1: 867159.9078522\tbest: 867159.9078522 (21)\ttotal: 330ms\tremaining: 14.7s\n",
      "22:\tlearn: 8210766.8456517\ttest: 8210766.8456517\ttest1: 856631.1235473\tbest: 867159.9078522 (21)\ttotal: 341ms\tremaining: 14.5s\n",
      "23:\tlearn: 8392938.9120383\ttest: 8392938.9120383\ttest1: 861440.8596282\tbest: 867159.9078522 (21)\ttotal: 352ms\tremaining: 14.3s\n",
      "24:\tlearn: 8473385.7197330\ttest: 8473385.7197330\ttest1: 872436.7916223\tbest: 872436.7916223 (24)\ttotal: 363ms\tremaining: 14.2s\n",
      "25:\tlearn: 8485397.2778460\ttest: 8485397.2778460\ttest1: 877641.3955047\tbest: 877641.3955047 (25)\ttotal: 375ms\tremaining: 14s\n",
      "26:\tlearn: 8549436.0671304\ttest: 8549436.0671304\ttest1: 876697.3029822\tbest: 877641.3955047 (25)\ttotal: 386ms\tremaining: 13.9s\n",
      "27:\tlearn: 8483302.4823808\ttest: 8483302.4823808\ttest1: 881408.5369334\tbest: 881408.5369334 (27)\ttotal: 397ms\tremaining: 13.8s\n",
      "28:\tlearn: 8481799.4119326\ttest: 8481799.4119326\ttest1: 877742.4809612\tbest: 881408.5369334 (27)\ttotal: 407ms\tremaining: 13.6s\n",
      "29:\tlearn: 8526306.3741827\ttest: 8526306.3741827\ttest1: 880533.8050203\tbest: 881408.5369334 (27)\ttotal: 418ms\tremaining: 13.5s\n",
      "30:\tlearn: 8527185.9965695\ttest: 8527185.9965695\ttest1: 882453.3909467\tbest: 882453.3909467 (30)\ttotal: 429ms\tremaining: 13.4s\n",
      "31:\tlearn: 8603402.0840065\ttest: 8603402.0840065\ttest1: 886743.1309363\tbest: 886743.1309363 (31)\ttotal: 441ms\tremaining: 13.3s\n",
      "32:\tlearn: 8618312.2481127\ttest: 8618312.2481127\ttest1: 890576.2027726\tbest: 890576.2027726 (32)\ttotal: 452ms\tremaining: 13.2s\n",
      "33:\tlearn: 8703578.0379239\ttest: 8703578.0379239\ttest1: 893070.2547559\tbest: 893070.2547559 (33)\ttotal: 463ms\tremaining: 13.1s\n",
      "34:\tlearn: 8684617.2981175\ttest: 8684617.2981175\ttest1: 888236.4166168\tbest: 893070.2547559 (33)\ttotal: 474ms\tremaining: 13.1s\n",
      "35:\tlearn: 8742893.3771464\ttest: 8742893.3771464\ttest1: 893803.7286289\tbest: 893803.7286289 (35)\ttotal: 487ms\tremaining: 13s\n",
      "36:\tlearn: 8792245.2990738\ttest: 8792245.2990738\ttest1: 891378.6405480\tbest: 893803.7286289 (35)\ttotal: 503ms\tremaining: 13.1s\n",
      "37:\tlearn: 8887662.8953393\ttest: 8887662.8953393\ttest1: 900640.5024613\tbest: 900640.5024613 (37)\ttotal: 518ms\tremaining: 13.1s\n",
      "38:\tlearn: 8879520.2307191\ttest: 8879520.2307191\ttest1: 893197.5302891\tbest: 900640.5024613 (37)\ttotal: 529ms\tremaining: 13s\n",
      "39:\tlearn: 8813798.6591205\ttest: 8813798.6591205\ttest1: 894296.2722802\tbest: 900640.5024613 (37)\ttotal: 539ms\tremaining: 12.9s\n",
      "40:\tlearn: 8797943.2551832\ttest: 8797943.2551832\ttest1: 894810.1881993\tbest: 900640.5024613 (37)\ttotal: 550ms\tremaining: 12.9s\n",
      "41:\tlearn: 8865205.3850886\ttest: 8865205.3850886\ttest1: 895021.7961468\tbest: 900640.5024613 (37)\ttotal: 561ms\tremaining: 12.8s\n",
      "42:\tlearn: 8861295.9009389\ttest: 8861295.9009389\ttest1: 895894.6101542\tbest: 900640.5024613 (37)\ttotal: 572ms\tremaining: 12.7s\n",
      "Stopped by overfitting detector  (5 iterations wait)\n",
      "\n",
      "bestTest = 900640.5025\n",
      "bestIteration = 37\n",
      "\n",
      "Shrink model to first 38 iterations.\n"
     ]
    }
   ],
   "source": [
    "ds_params = {\n",
    "#     'cat_features' : [8, 9, 10],\n",
    "}\n",
    "train_pool = Pool(X_train, label = y_train, weight = w_train, **ds_params)\n",
    "trainfull_pool = Pool(X_full_train, label = y_full_train, weight = w_full_train, **ds_params)\n",
    "val_pool = Pool(X_val, label = y_val, weight = w_val, **ds_params)\n",
    "sub_pool = Pool(X_sub, label = y_sub, weight = w_sub, **ds_params)\n",
    "\n",
    "\n",
    "model = CatBoostRegressor(\n",
    "#     iterations = 2,\n",
    "    depth=7, \n",
    "    learning_rate=0.1, \n",
    "    loss_function='MAE',\n",
    "    early_stopping_rounds=5,\n",
    "    eval_metric = feval_cat(),\n",
    "    thread_count=-1,\n",
    ")\n",
    "\n",
    "model.fit(\n",
    "    train_pool,\n",
    "    eval_set=[train_pool, val_pool],\n",
    "#     logging_level='Verbose',  # you can uncomment this for text output\n",
    "\n",
    ");\n"
   ]
  },
  {
   "cell_type": "code",
   "execution_count": 122,
   "metadata": {},
   "outputs": [
    {
     "data": {
      "text/plain": [
       "849506.584"
      ]
     },
     "execution_count": 122,
     "metadata": {},
     "output_type": "execute_result"
    }
   ],
   "source": [
    "prediction = model.predict(X_sub, ntree_end = model.best_iteration_).astype(int)\n",
    "evaluate(prediction, y_sub, w_sub)"
   ]
  },
  {
   "cell_type": "code",
   "execution_count": 123,
   "metadata": {},
   "outputs": [],
   "source": [
    "# retrain!"
   ]
  },
  {
   "cell_type": "code",
   "execution_count": 124,
   "metadata": {},
   "outputs": [
    {
     "data": {
      "text/plain": [
       "37"
      ]
     },
     "execution_count": 124,
     "metadata": {},
     "output_type": "execute_result"
    }
   ],
   "source": [
    "model.best_iteration_"
   ]
  },
  {
   "cell_type": "code",
   "execution_count": 125,
   "metadata": {},
   "outputs": [
    {
     "data": {
      "text/plain": [
       "{'learning_rate': 0.1,\n",
       " 'depth': 7,\n",
       " 'loss_function': 'MAE',\n",
       " 'eval_metric': <__main__.feval_cat at 0x7f9be0177f90>,\n",
       " 'early_stopping_rounds': 5,\n",
       " 'iterations': 37}"
      ]
     },
     "execution_count": 125,
     "metadata": {},
     "output_type": "execute_result"
    }
   ],
   "source": [
    "{**model.get_params(), \"iterations\" : model.best_iteration_}"
   ]
  },
  {
   "cell_type": "code",
   "execution_count": 126,
   "metadata": {
    "scrolled": true
   },
   "outputs": [
    {
     "name": "stdout",
     "output_type": "stream",
     "text": [
      "0:\tlearn: 4721346.8613232\ttest: 4721346.8613232\tbest: 4721346.8613232 (0)\ttotal: 18.2ms\tremaining: 654ms\n",
      "1:\tlearn: 5151476.1550159\ttest: 5151476.1550159\tbest: 5151476.1550159 (1)\ttotal: 39.7ms\tremaining: 695ms\n",
      "2:\tlearn: 5676616.5286998\ttest: 5676616.5286998\tbest: 5676616.5286998 (2)\ttotal: 62.4ms\tremaining: 707ms\n",
      "3:\tlearn: 6182982.8467783\ttest: 6182982.8467783\tbest: 6182982.8467783 (3)\ttotal: 80.7ms\tremaining: 666ms\n",
      "4:\tlearn: 6283733.3521879\ttest: 6283733.3521879\tbest: 6283733.3521879 (4)\ttotal: 92.7ms\tremaining: 593ms\n",
      "5:\tlearn: 6710190.4723038\ttest: 6710190.4723038\tbest: 6710190.4723038 (5)\ttotal: 104ms\tremaining: 539ms\n",
      "6:\tlearn: 6794799.7482211\ttest: 6794799.7482211\tbest: 6794799.7482211 (6)\ttotal: 116ms\tremaining: 496ms\n",
      "7:\tlearn: 7010547.3314047\ttest: 7010547.3314047\tbest: 7010547.3314047 (7)\ttotal: 127ms\tremaining: 461ms\n",
      "8:\tlearn: 7363507.9560617\ttest: 7363507.9560617\tbest: 7363507.9560617 (8)\ttotal: 140ms\tremaining: 434ms\n",
      "9:\tlearn: 7548411.8307009\ttest: 7548411.8307009\tbest: 7548411.8307009 (9)\ttotal: 151ms\tremaining: 408ms\n",
      "10:\tlearn: 7457804.2290466\ttest: 7457804.2290466\tbest: 7548411.8307009 (9)\ttotal: 162ms\tremaining: 384ms\n",
      "11:\tlearn: 7503269.0374796\ttest: 7503269.0374796\tbest: 7548411.8307009 (9)\ttotal: 174ms\tremaining: 362ms\n",
      "12:\tlearn: 7564792.6419794\ttest: 7564792.6419794\tbest: 7564792.6419794 (12)\ttotal: 185ms\tremaining: 342ms\n",
      "13:\tlearn: 7695620.1154028\ttest: 7695620.1154028\tbest: 7695620.1154028 (13)\ttotal: 199ms\tremaining: 328ms\n",
      "14:\tlearn: 7762960.2541150\ttest: 7762960.2541150\tbest: 7762960.2541150 (14)\ttotal: 213ms\tremaining: 313ms\n",
      "15:\tlearn: 7927213.8828141\ttest: 7927213.8828141\tbest: 7927213.8828141 (15)\ttotal: 225ms\tremaining: 296ms\n",
      "16:\tlearn: 8139902.2344478\ttest: 8139902.2344478\tbest: 8139902.2344478 (16)\ttotal: 240ms\tremaining: 282ms\n",
      "17:\tlearn: 8546721.3288329\ttest: 8546721.3288329\tbest: 8546721.3288329 (17)\ttotal: 259ms\tremaining: 273ms\n",
      "18:\tlearn: 8578544.1301184\ttest: 8578544.1301184\tbest: 8578544.1301184 (18)\ttotal: 279ms\tremaining: 264ms\n",
      "19:\tlearn: 8817775.9722501\ttest: 8817775.9722501\tbest: 8817775.9722501 (19)\ttotal: 296ms\tremaining: 251ms\n",
      "20:\tlearn: 8896453.7541520\ttest: 8896453.7541520\tbest: 8896453.7541520 (20)\ttotal: 310ms\tremaining: 236ms\n",
      "21:\tlearn: 8905438.1723535\ttest: 8905438.1723535\tbest: 8905438.1723535 (21)\ttotal: 321ms\tremaining: 219ms\n",
      "22:\tlearn: 8897019.7338338\ttest: 8897019.7338338\tbest: 8905438.1723535 (21)\ttotal: 333ms\tremaining: 203ms\n",
      "23:\tlearn: 9129042.9484983\ttest: 9129042.9484983\tbest: 9129042.9484983 (23)\ttotal: 349ms\tremaining: 189ms\n",
      "24:\tlearn: 9185640.5902693\ttest: 9185640.5902693\tbest: 9185640.5902693 (24)\ttotal: 362ms\tremaining: 174ms\n",
      "25:\tlearn: 9222260.7661218\ttest: 9222260.7661218\tbest: 9222260.7661218 (25)\ttotal: 374ms\tremaining: 158ms\n",
      "26:\tlearn: 9284560.4296590\ttest: 9284560.4296590\tbest: 9284560.4296590 (26)\ttotal: 386ms\tremaining: 143ms\n",
      "27:\tlearn: 9201191.5601751\ttest: 9201191.5601751\tbest: 9284560.4296590 (26)\ttotal: 399ms\tremaining: 128ms\n",
      "28:\tlearn: 9196760.7500300\ttest: 9196760.7500300\tbest: 9284560.4296590 (26)\ttotal: 410ms\tremaining: 113ms\n",
      "29:\tlearn: 9242194.9924538\ttest: 9242194.9924538\tbest: 9284560.4296590 (26)\ttotal: 423ms\tremaining: 98.7ms\n",
      "30:\tlearn: 9346417.6239986\ttest: 9346417.6239986\tbest: 9346417.6239986 (30)\ttotal: 435ms\tremaining: 84.2ms\n",
      "31:\tlearn: 9378545.1298711\ttest: 9378545.1298711\tbest: 9378545.1298711 (31)\ttotal: 452ms\tremaining: 70.6ms\n",
      "32:\tlearn: 9414094.0695382\ttest: 9414094.0695382\tbest: 9414094.0695382 (32)\ttotal: 468ms\tremaining: 56.8ms\n",
      "33:\tlearn: 9452220.4398837\ttest: 9452220.4398837\tbest: 9452220.4398837 (33)\ttotal: 482ms\tremaining: 42.6ms\n",
      "34:\tlearn: 9424349.6737726\ttest: 9424349.6737726\tbest: 9452220.4398837 (33)\ttotal: 494ms\tremaining: 28.2ms\n",
      "35:\tlearn: 9502084.2513152\ttest: 9502084.2513152\tbest: 9502084.2513152 (35)\ttotal: 505ms\tremaining: 14ms\n",
      "36:\tlearn: 9550648.3413631\ttest: 9550648.3413631\tbest: 9550648.3413631 (36)\ttotal: 517ms\tremaining: 0us\n",
      "\n",
      "bestTest = 9550648.341\n",
      "bestIteration = 36\n",
      "\n"
     ]
    }
   ],
   "source": [
    "cat_sub = CatBoostRegressor(**{**model.get_params(), \"iterations\" : model.best_iteration_})\n",
    "cat_sub.fit(\n",
    "    trainfull_pool,\n",
    "    eval_set=[trainfull_pool],\n",
    "#     logging_level='Verbose',  # you can uncomment this for text output\n",
    "\n",
    ");"
   ]
  },
  {
   "cell_type": "code",
   "execution_count": 127,
   "metadata": {},
   "outputs": [
    {
     "data": {
      "text/plain": [
       "754340.7719999999"
      ]
     },
     "execution_count": 127,
     "metadata": {},
     "output_type": "execute_result"
    }
   ],
   "source": [
    "prediction = cat_sub.predict(X_sub, ntree_end = cat_sub.best_iteration_).astype(int)\n",
    "evaluate(prediction, y_sub, w_sub)"
   ]
  },
  {
   "cell_type": "markdown",
   "metadata": {},
   "source": [
    "<hr>"
   ]
  },
  {
   "cell_type": "markdown",
   "metadata": {},
   "source": [
    "## - Ensemble"
   ]
  },
  {
   "cell_type": "code",
   "execution_count": 775,
   "metadata": {},
   "outputs": [
    {
     "data": {
      "text/plain": [
       "681241.5599999999"
      ]
     },
     "execution_count": 775,
     "metadata": {},
     "output_type": "execute_result"
    }
   ],
   "source": [
    "cat_w = 1\n",
    "lgb_w = 1\n",
    "xgb_w = 1\n",
    "ensemble = model.predict(X_sub, ntree_end = model.best_iteration_) * cat_w\n",
    "ensemble += lgb_model.predict(X_sub, num_iteration=lgb_model.best_iteration) * lgb_w\n",
    "ensemble += bst.predict(dsub, ntree_limit=bst.best_ntree_limit) * xgb_w\n",
    "ensemble = ensemble / (cat_w + lgb_w + xgb_w)\n",
    "evaluate(ensemble.astype(int), y_sub, w_sub)"
   ]
  },
  {
   "cell_type": "markdown",
   "metadata": {},
   "source": [
    "<hr>"
   ]
  },
  {
   "cell_type": "markdown",
   "metadata": {},
   "source": [
    "## - Linear Regression"
   ]
  },
  {
   "cell_type": "code",
   "execution_count": 776,
   "metadata": {},
   "outputs": [],
   "source": [
    "from sklearn.linear_model import LinearRegression\n",
    "# from sklearn.metrics import "
   ]
  },
  {
   "cell_type": "code",
   "execution_count": 777,
   "metadata": {},
   "outputs": [],
   "source": [
    "lr = LinearRegression()"
   ]
  },
  {
   "cell_type": "code",
   "execution_count": 778,
   "metadata": {},
   "outputs": [
    {
     "data": {
      "text/plain": [
       "LinearRegression(copy_X=True, fit_intercept=True, n_jobs=None, normalize=False)"
      ]
     },
     "execution_count": 778,
     "metadata": {},
     "output_type": "execute_result"
    }
   ],
   "source": [
    "lr.fit(X_train, y_train, w_train)"
   ]
  },
  {
   "cell_type": "code",
   "execution_count": 780,
   "metadata": {},
   "outputs": [
    {
     "name": "stdout",
     "output_type": "stream",
     "text": [
      "train -25798195.590995364\n",
      "test -2082818.3608716822\n",
      "sub -2279245.550001612\n"
     ]
    }
   ],
   "source": [
    "print('train', evaluate(lr.predict(X_train), y_train, w_train))\n",
    "print('test', evaluate(lr.predict(X_val), y_val, w_val))\n",
    "print('sub', evaluate(lr.predict(X_sub), y_sub, w_sub))"
   ]
  },
  {
   "cell_type": "markdown",
   "metadata": {},
   "source": [
    "<hr>"
   ]
  },
  {
   "cell_type": "code",
   "execution_count": null,
   "metadata": {},
   "outputs": [],
   "source": [
    "# fazer feature que pega o percentil de quando o item deu de dinheiro dentro de uma categoria\n",
    "# fazer features que pega dist de atual até o pico mais alto\n",
    "# dist do maior pico pro segundo\n",
    "# min(dist(terceiro, primeiro), dist(terceiro, segundo))"
   ]
  }
 ],
 "metadata": {
  "kernelspec": {
   "display_name": "Python 3",
   "language": "python",
   "name": "python3"
  },
  "language_info": {
   "codemirror_mode": {
    "name": "ipython",
    "version": 3
   },
   "file_extension": ".py",
   "mimetype": "text/x-python",
   "name": "python",
   "nbconvert_exporter": "python",
   "pygments_lexer": "ipython3",
   "version": "3.7.7"
  }
 },
 "nbformat": 4,
 "nbformat_minor": 4
}
