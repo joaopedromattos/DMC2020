{
 "cells": [
  {
   "cell_type": "code",
   "execution_count": 1,
   "metadata": {},
   "outputs": [],
   "source": [
    "import matplotlib.pyplot as plt\n",
    "import numpy as np\n",
    "import pandas as pd"
   ]
  },
  {
   "cell_type": "code",
   "execution_count": 2,
   "metadata": {},
   "outputs": [],
   "source": [
    "infos = pd.read_csv('../../data/infos.csv', sep = '|')"
   ]
  },
  {
   "cell_type": "code",
   "execution_count": 3,
   "metadata": {},
   "outputs": [],
   "source": [
    "items = pd.read_csv('../../data/items.csv', sep = '|')"
   ]
  },
  {
   "cell_type": "code",
   "execution_count": 4,
   "metadata": {},
   "outputs": [],
   "source": [
    "orders = pd.read_csv('../../data/orders.csv', sep = '|', parse_dates=['time'])"
   ]
  },
  {
   "cell_type": "markdown",
   "metadata": {},
   "source": [
    "## - Creating the structure"
   ]
  },
  {
   "cell_type": "code",
   "execution_count": 5,
   "metadata": {},
   "outputs": [],
   "source": [
    "df = orders.copy()"
   ]
  },
  {
   "cell_type": "code",
   "execution_count": 6,
   "metadata": {},
   "outputs": [],
   "source": [
    "df['weekpair'] = (df.time.dt.dayofyear + 1) // 14 - 13"
   ]
  },
  {
   "cell_type": "code",
   "execution_count": 7,
   "metadata": {},
   "outputs": [],
   "source": [
    "npairs = df.weekpair.nunique()"
   ]
  },
  {
   "cell_type": "code",
   "execution_count": 8,
   "metadata": {},
   "outputs": [
    {
     "name": "stdout",
     "output_type": "stream",
     "text": [
      "total number of items: 10463\n",
      "expected number of instances: 136019\n"
     ]
    }
   ],
   "source": [
    "n_items = items['itemID'].nunique()\n",
    "print('total number of items:', n_items)\n",
    "print('expected number of instances:', n_items * npairs)"
   ]
  },
  {
   "cell_type": "code",
   "execution_count": 9,
   "metadata": {},
   "outputs": [],
   "source": [
    "mi = pd.MultiIndex.from_product([range(-npairs, 0 + 1), items['itemID']], names=['weekpair', 'itemID'])\n",
    "data_temp = pd.DataFrame(index = mi)"
   ]
  },
  {
   "cell_type": "code",
   "execution_count": 10,
   "metadata": {},
   "outputs": [],
   "source": [
    "data_temp = data_temp.join(df.groupby(['weekpair', 'itemID'])[['order']].sum(), how = 'left')"
   ]
  },
  {
   "cell_type": "code",
   "execution_count": 11,
   "metadata": {},
   "outputs": [],
   "source": [
    "data_temp.fillna(0, inplace = True)"
   ]
  },
  {
   "cell_type": "code",
   "execution_count": 12,
   "metadata": {},
   "outputs": [
    {
     "data": {
      "text/plain": [
       "order    14\n",
       "dtype: int64"
      ]
     },
     "execution_count": 12,
     "metadata": {},
     "output_type": "execute_result"
    }
   ],
   "source": [
    "data_temp.groupby('itemID').count().min()"
   ]
  },
  {
   "cell_type": "markdown",
   "metadata": {},
   "source": [
    "## - Creating features"
   ]
  },
  {
   "cell_type": "code",
   "execution_count": 13,
   "metadata": {},
   "outputs": [],
   "source": [
    "def gbagg(data, group_cols, targeted_cols, out_names, function, as_index = False):\n",
    "  \n",
    "    X = data.values\n",
    "    col = {c : i for i, c in enumerate(data.columns)}\n",
    "\n",
    "    # values that are going to calculated\n",
    "    new_feat = []\n",
    "    \n",
    "    # numbers of the columns\n",
    "    gcols = [col[c] for c in group_cols]\n",
    "    tcols = [col[c] for c in targeted_cols]\n",
    "    \n",
    "    interval = None\n",
    "    a = None\n",
    "    i = 0\n",
    "    while i < len(X):\n",
    "        a = X[i, gcols]\n",
    "\n",
    "        # find the whole interval of this group\n",
    "        j = i\n",
    "        while j < len(X):\n",
    "            if (X[j, gcols] != a).any():\n",
    "                break\n",
    "            j += 1\n",
    "        interval = X[i:j, tcols]\n",
    "\n",
    "        # apply function on interval, save in new feature\n",
    "        output = function(interval)\n",
    "        new_feat.append(output)\n",
    "\n",
    "        # go to next group\n",
    "        i = j\n",
    "    \n",
    "    idx = data.groupby(group_cols).size().index # this is actually fast...\n",
    "    out_df = pd.DataFrame(new_feat, columns = out_names, index = idx)\n",
    "        \n",
    "    if not as_index:\n",
    "        out_df.reset_index(inplace = True)\n",
    "        \n",
    "    return out_df"
   ]
  },
  {
   "cell_type": "code",
   "execution_count": 14,
   "metadata": {},
   "outputs": [],
   "source": [
    "def gbtransf(data, group_cols, targeted_cols, out_names, function, params = dict()):\n",
    "  \n",
    "    X = data.values\n",
    "    col = {c : i for i, c in enumerate(data.columns)}\n",
    "\n",
    "    # values that are going to calculated\n",
    "    new_feat = np.zeros((len(data), len(out_names)))\n",
    "    \n",
    "    # numbers of the columns\n",
    "    gcols = [col[c] for c in group_cols]\n",
    "    tcols = [col[c] for c in targeted_cols]\n",
    "    \n",
    "    interval = None\n",
    "    a = None\n",
    "    i = 0\n",
    "    while i < len(X):\n",
    "        a = X[i, gcols]\n",
    "\n",
    "        # find the whole interval of this group\n",
    "        j = i\n",
    "        while j < len(X):\n",
    "            if (X[j, gcols] != a).any():\n",
    "                break\n",
    "            j += 1\n",
    "        interval = X[i:j, tcols]\n",
    "\n",
    "        # apply function on interval, save in new feature\n",
    "        output = function(interval, **params)\n",
    "        new_feat[i:j] = output\n",
    "\n",
    "        # go to next group\n",
    "        i = j\n",
    "    \n",
    "    out_df = pd.DataFrame(new_feat, columns = out_names, index = data.index)\n",
    "        \n",
    "    return out_df"
   ]
  },
  {
   "cell_type": "code",
   "execution_count": 15,
   "metadata": {},
   "outputs": [],
   "source": [
    "def shift_and_2n_window(x, ws):\n",
    "#     out = pd.DataFrame(x)\n",
    "#     out = out.shift()\n",
    "#     out = out.rolling(2 ** n).mean()\n",
    "\n",
    "    shifted = np.zeros_like(x) # output\n",
    "    shifted[1:] = x[:-1] # shift\n",
    "    out = np.zeros_like(x, dtype = float)\n",
    "    \n",
    "    # rolling mean\n",
    "    total = shifted[:ws].sum()\n",
    "    out[ws - 1] = total / ws\n",
    "    for i in range(ws, len(out)):\n",
    "        total = total - shifted[i - ws] + shifted[i]\n",
    "        out[i] = total / ws\n",
    "    out[:ws] = np.NaN # maybe ws -1 should be NaN as well for receiving one NaN value when ws > 1\n",
    "    # out[0] = np.NaN # this is always NaN for a shift of 1\n",
    "    return out"
   ]
  },
  {
   "cell_type": "code",
   "execution_count": 16,
   "metadata": {},
   "outputs": [],
   "source": [
    "data = data_temp.reset_index()\n",
    "data = pd.merge(data, items, on = 'itemID')"
   ]
  },
  {
   "cell_type": "code",
   "execution_count": 17,
   "metadata": {},
   "outputs": [],
   "source": [
    "data.loc[data[\"weekpair\"] == 0, \"order\"] = 1 # facilita para fazer feature que detecta item novo"
   ]
  },
  {
   "cell_type": "code",
   "execution_count": 18,
   "metadata": {},
   "outputs": [],
   "source": [
    "data.sort_values(['itemID', 'weekpair'], inplace = True)"
   ]
  },
  {
   "cell_type": "code",
   "execution_count": 19,
   "metadata": {},
   "outputs": [],
   "source": [
    "# gbtransf(data, ['itemID', 'weekpair'], ['order'], ['out'], lambda x : np.ones_like(x))"
   ]
  },
  {
   "cell_type": "code",
   "execution_count": 20,
   "metadata": {},
   "outputs": [
    {
     "data": {
      "text/plain": [
       "array([nan, nan, 1.5, 2.5, 3.5, 4.5])"
      ]
     },
     "execution_count": 20,
     "metadata": {},
     "output_type": "execute_result"
    }
   ],
   "source": [
    "shift_and_2n_window(np.array([1 , 2, 3, 4, 5, 6]), 2 ** 1)"
   ]
  },
  {
   "cell_type": "code",
   "execution_count": 21,
   "metadata": {},
   "outputs": [],
   "source": [
    "features = [('itemID', 'item')]"
   ]
  },
  {
   "cell_type": "code",
   "execution_count": 22,
   "metadata": {
    "scrolled": true
   },
   "outputs": [
    {
     "name": "stdout",
     "output_type": "stream",
     "text": [
      "itemID\n"
     ]
    }
   ],
   "source": [
    "for f, name in features:\n",
    "    print(f)\n",
    "    new_feature_block = pd.DataFrame()\n",
    "    for n in range(3):\n",
    "        new_f = gbtransf(data, ['itemID'], ['order'], ['out'], shift_and_2n_window, {'ws' : 2 ** n})\n",
    "        new_feature_block['%s_%d' % (name, 2 ** n)] = new_f['out']\n",
    "#     data = pd.merge(data, new_feature_block.reset_index(), on = [f, 'weekpair'])\n",
    "    data = pd.concat([data, new_feature_block], axis =  1)"
   ]
  },
  {
   "cell_type": "code",
   "execution_count": 23,
   "metadata": {},
   "outputs": [],
   "source": [
    "data[\"diff\"] = data.groupby(\"order\")[\"order\"].shift()\n",
    "data[\"diff\"] = data.groupby(\"order\")[\"diff\"].diff()\n",
    "data[\"diff2\"] = data.groupby(\"order\")[\"diff\"].diff()"
   ]
  },
  {
   "cell_type": "code",
   "execution_count": 24,
   "metadata": {},
   "outputs": [
    {
     "data": {
      "text/plain": [
       "weekpair                  146482\n",
       "itemID                    146482\n",
       "order                     146482\n",
       "brand                     146482\n",
       "manufacturer              146482\n",
       "customerRating            146482\n",
       "category1                 146482\n",
       "category2                 146482\n",
       "category3                 146482\n",
       "recommendedRetailPrice    146482\n",
       "item_1                    136019\n",
       "item_2                    125556\n",
       "item_4                    104630\n",
       "diff                      144694\n",
       "diff2                     144113\n",
       "dtype: int64"
      ]
     },
     "execution_count": 24,
     "metadata": {},
     "output_type": "execute_result"
    }
   ],
   "source": [
    "data.count() # the larger the window, more NaN are expected"
   ]
  },
  {
   "cell_type": "code",
   "execution_count": 25,
   "metadata": {},
   "outputs": [],
   "source": [
    "def dist2firstvalueLeak(x):\n",
    "    out = np.zeros_like(x, dtype = float)\n",
    "    for i in range(len(x)):\n",
    "        if x[i] != 0:\n",
    "            out[i] = 1\n",
    "            break\n",
    "#         else:\n",
    "#             out[i] = -9999\n",
    "        \n",
    "    return out"
   ]
  },
  {
   "cell_type": "code",
   "execution_count": 26,
   "metadata": {},
   "outputs": [
    {
     "data": {
      "text/plain": [
       "array([0., 0., 1., 0., 0., 0.])"
      ]
     },
     "execution_count": 26,
     "metadata": {},
     "output_type": "execute_result"
    }
   ],
   "source": [
    "dist2firstvalueLeak(np.array([0 , 0, 3, 0, 5, 6]))"
   ]
  },
  {
   "cell_type": "code",
   "execution_count": 27,
   "metadata": {},
   "outputs": [],
   "source": [
    "data.sort_values(['itemID', 'weekpair'], inplace = True)"
   ]
  },
  {
   "cell_type": "code",
   "execution_count": 28,
   "metadata": {},
   "outputs": [],
   "source": [
    "data['dist2firstvalueLeak'] = gbtransf(data, ['itemID'], ['order'], ['out'], dist2firstvalueLeak)['out']\n",
    "# data['dist2lastpeak'] = gbtransf(data, ['itemID'], ['order'], ['out'], dist2lastpeak)['out']"
   ]
  },
  {
   "cell_type": "code",
   "execution_count": null,
   "metadata": {},
   "outputs": [],
   "source": []
  },
  {
   "cell_type": "code",
   "execution_count": null,
   "metadata": {},
   "outputs": [],
   "source": []
  },
  {
   "cell_type": "code",
   "execution_count": 29,
   "metadata": {},
   "outputs": [],
   "source": [
    "the_cat = \"manufacturer\""
   ]
  },
  {
   "cell_type": "code",
   "execution_count": 30,
   "metadata": {},
   "outputs": [],
   "source": [
    "sla = data.groupby([\"weekpair\", the_cat])[\"dist2firstvalueLeak\"].sum().reset_index()"
   ]
  },
  {
   "cell_type": "code",
   "execution_count": 31,
   "metadata": {},
   "outputs": [],
   "source": [
    "sla = sla.rename(columns={\"dist2firstvalueLeak\" : \"leak_cat3\"})"
   ]
  },
  {
   "cell_type": "code",
   "execution_count": 32,
   "metadata": {},
   "outputs": [],
   "source": [
    "# acho que mudou nada... opa, mudou sim\n",
    "data = pd.merge(data, sla, on = [\"weekpair\", the_cat])"
   ]
  },
  {
   "cell_type": "code",
   "execution_count": 33,
   "metadata": {},
   "outputs": [],
   "source": [
    "data[\"total_new\"] = data[\"weekpair\"].map(data.groupby(\"weekpair\")[\"dist2firstvalueLeak\"].sum().to_dict())"
   ]
  },
  {
   "cell_type": "code",
   "execution_count": null,
   "metadata": {},
   "outputs": [],
   "source": []
  },
  {
   "cell_type": "code",
   "execution_count": null,
   "metadata": {},
   "outputs": [],
   "source": []
  },
  {
   "cell_type": "code",
   "execution_count": 34,
   "metadata": {},
   "outputs": [],
   "source": [
    "total_trans = df.groupby([\"weekpair\", \"itemID\"]).size().reset_index().rename(columns = {0 : \"total_trans\"})"
   ]
  },
  {
   "cell_type": "code",
   "execution_count": 35,
   "metadata": {},
   "outputs": [],
   "source": [
    "new_week = infos[[\"itemID\"]].copy()\n",
    "new_week[\"weekpair\"] = 0\n",
    "new_week[\"total_trans\"] = 0\n",
    "total_trans = pd.concat([total_trans, new_week], ignore_index=True)"
   ]
  },
  {
   "cell_type": "code",
   "execution_count": 36,
   "metadata": {},
   "outputs": [],
   "source": [
    "total_trans.sort_values(\"weekpair\", inplace = True)"
   ]
  },
  {
   "cell_type": "code",
   "execution_count": 37,
   "metadata": {},
   "outputs": [],
   "source": [
    "total_trans[\"total_trans\"] = total_trans.groupby(\"itemID\")[\"total_trans\"].shift()"
   ]
  },
  {
   "cell_type": "code",
   "execution_count": 38,
   "metadata": {},
   "outputs": [],
   "source": [
    "data = pd.merge(data, total_trans, on = [\"weekpair\", \"itemID\"], how = \"left\")"
   ]
  },
  {
   "cell_type": "code",
   "execution_count": null,
   "metadata": {},
   "outputs": [],
   "source": []
  },
  {
   "cell_type": "code",
   "execution_count": 39,
   "metadata": {},
   "outputs": [],
   "source": [
    "data.fillna(0, inplace=True)"
   ]
  },
  {
   "cell_type": "markdown",
   "metadata": {},
   "source": [
    "## - Min Expected Error"
   ]
  },
  {
   "cell_type": "code",
   "execution_count": 40,
   "metadata": {},
   "outputs": [],
   "source": [
    "def evaluate(prediction, target, simulationPrice):\n",
    "    return np.sum((prediction - np.maximum(prediction - target, 0) * 1.6)  * simulationPrice)"
   ]
  },
  {
   "cell_type": "code",
   "execution_count": 41,
   "metadata": {},
   "outputs": [],
   "source": [
    "def evaluate_prop(prediction, target, simulationPrice):\n",
    "    max_profit = np.sum((target)  * simulationPrice)\n",
    "    return np.sum((prediction - np.maximum(prediction - target, 0) * 1.6)  * simulationPrice) / max_profit"
   ]
  },
  {
   "cell_type": "code",
   "execution_count": 42,
   "metadata": {},
   "outputs": [],
   "source": [
    "# max expected rmse\n",
    "from sklearn.metrics import mean_squared_error as mse\n",
    "# pred = data.loc[1:12].groupby('itemID')['order'].mean().sort_index()\n",
    "# target_week = data.loc[13:, 'order'].reset_index(level = 0, drop = True).sort_index()\n",
    "# mse(target_week, pred) ** .5"
   ]
  },
  {
   "cell_type": "markdown",
   "metadata": {},
   "source": [
    "<hr>"
   ]
  },
  {
   "cell_type": "markdown",
   "metadata": {},
   "source": [
    "##  - Split Data"
   ]
  },
  {
   "cell_type": "code",
   "execution_count": 43,
   "metadata": {},
   "outputs": [],
   "source": [
    "weights = infos.set_index('itemID')['simulationPrice'].to_dict()"
   ]
  },
  {
   "cell_type": "code",
   "execution_count": 44,
   "metadata": {},
   "outputs": [
    {
     "data": {
      "text/plain": [
       "Index(['weekpair', 'itemID', 'order', 'brand', 'manufacturer',\n",
       "       'customerRating', 'category1', 'category2', 'category3',\n",
       "       'recommendedRetailPrice', 'item_1', 'item_2', 'item_4', 'diff', 'diff2',\n",
       "       'dist2firstvalueLeak', 'leak_cat3', 'total_new', 'total_trans'],\n",
       "      dtype='object')"
      ]
     },
     "execution_count": 44,
     "metadata": {},
     "output_type": "execute_result"
    }
   ],
   "source": [
    "data.columns"
   ]
  },
  {
   "cell_type": "code",
   "execution_count": 45,
   "metadata": {},
   "outputs": [
    {
     "data": {
      "text/plain": [
       "{'brand', 'category3'}"
      ]
     },
     "execution_count": 45,
     "metadata": {},
     "output_type": "execute_result"
    }
   ],
   "source": [
    "remove = set([\n",
    "#     \"weekpair\",\n",
    "    \"brand\",\n",
    "#     \"manufacturer\",\n",
    "#     \"customerRating\",\n",
    "#     \"category1\",\n",
    "#     \"category2\",\n",
    "    \"category3\",\n",
    "#     \"recommendedRetailPrice\", # very important!\n",
    "#     \"total_new\",\n",
    "#     \"total_trans\", # the master!\n",
    "])\n",
    "remove"
   ]
  },
  {
   "cell_type": "code",
   "execution_count": 46,
   "metadata": {},
   "outputs": [],
   "source": [
    "sel_cols = set(list(data.columns)) - remove"
   ]
  },
  {
   "cell_type": "code",
   "execution_count": null,
   "metadata": {},
   "outputs": [],
   "source": []
  },
  {
   "cell_type": "code",
   "execution_count": null,
   "metadata": {},
   "outputs": [],
   "source": []
  },
  {
   "cell_type": "code",
   "execution_count": null,
   "metadata": {},
   "outputs": [],
   "source": []
  },
  {
   "cell_type": "code",
   "execution_count": 97,
   "metadata": {},
   "outputs": [],
   "source": [
    "# filtered_data = data\n",
    "filtered_data = data.query(\"dist2firstvalueLeak != 1\")[sel_cols]"
   ]
  },
  {
   "cell_type": "code",
   "execution_count": 98,
   "metadata": {},
   "outputs": [
    {
     "data": {
      "text/plain": [
       "(146482, 136019)"
      ]
     },
     "execution_count": 98,
     "metadata": {},
     "output_type": "execute_result"
    }
   ],
   "source": [
    "len(data), len(filtered_data)"
   ]
  },
  {
   "cell_type": "code",
   "execution_count": 99,
   "metadata": {},
   "outputs": [],
   "source": [
    "sub_week = -1\n",
    "train = filtered_data.query('-13 <= weekpair <= (@sub_week - 2)').reset_index(drop = True)\n",
    "full_train = filtered_data.query('-13 <= weekpair <= (@sub_week - 1)').reset_index(drop = True)\n",
    "val = filtered_data.query('weekpair == (@sub_week - 1)').reset_index(drop = True)\n",
    "sub = filtered_data.query('weekpair == (@sub_week)').reset_index(drop = True)"
   ]
  },
  {
   "cell_type": "code",
   "execution_count": 100,
   "metadata": {},
   "outputs": [],
   "source": [
    "sub[\"weekpair\"] += 1"
   ]
  },
  {
   "cell_type": "code",
   "execution_count": 101,
   "metadata": {},
   "outputs": [
    {
     "data": {
      "text/plain": [
       "(106708, 9736, 9735)"
      ]
     },
     "execution_count": 101,
     "metadata": {},
     "output_type": "execute_result"
    }
   ],
   "source": [
    "len(train), len(val), len(sub)"
   ]
  },
  {
   "cell_type": "code",
   "execution_count": 102,
   "metadata": {},
   "outputs": [],
   "source": [
    "y_train = train.pop('order').values\n",
    "y_full_train = full_train.pop('order').values\n",
    "y_val = val.pop('order').values\n",
    "y_sub = sub.pop('order').values\n",
    "\n",
    "w_train = train['itemID'].map(weights)\n",
    "w_full_train = full_train['itemID'].map(weights)\n",
    "w_val = val['itemID'].map(weights)\n",
    "w_sub = sub['itemID'].map(weights)\n",
    "\n",
    "i_train = train.pop(\"itemID\")\n",
    "i_full_train = full_train.pop(\"itemID\")\n",
    "i_val = val.pop(\"itemID\")\n",
    "i_sub = sub.pop(\"itemID\")\n",
    "\n",
    "X_train = train.values\n",
    "X_full_train = full_train.values\n",
    "X_val = val.values\n",
    "X_sub = sub.values"
   ]
  },
  {
   "cell_type": "markdown",
   "metadata": {},
   "source": [
    "<hr>"
   ]
  },
  {
   "cell_type": "markdown",
   "metadata": {},
   "source": [
    "## - XGBoost"
   ]
  },
  {
   "cell_type": "code",
   "execution_count": 103,
   "metadata": {},
   "outputs": [],
   "source": [
    "import xgboost as xgb"
   ]
  },
  {
   "cell_type": "code",
   "execution_count": 104,
   "metadata": {},
   "outputs": [],
   "source": [
    "# custom objective\n",
    "\n",
    "def gradient(prediction, dtrain):\n",
    "    y = dtrain.get_label()\n",
    "#     prediction.astype(int)\n",
    "#     prediction = np.minimum(prediction.astype(int), 1)\n",
    "    return -2 * (prediction - np.maximum(prediction - y, 0) * 1.6) * (1 - (prediction > y) * 1.6)\n",
    "\n",
    "def hessian(prediction, dtrain):\n",
    "    y = dtrain.get_label()\n",
    "#     prediction.prediction(int)\n",
    "#     prediction = np.minimum(prediction.astype(int), 1)\n",
    "    return -2 * (1 - (prediction > y) * 1.6) ** 2\n",
    "\n",
    "def objective(prediction, dtrain):\n",
    "    w = dtrain.get_weight()\n",
    "    grad = gradient(prediction, dtrain) * w\n",
    "    hess = hessian(prediction, dtrain) * w\n",
    "    return grad, hess"
   ]
  },
  {
   "cell_type": "code",
   "execution_count": 105,
   "metadata": {},
   "outputs": [],
   "source": [
    "# custom feval\n",
    "\n",
    "def feval(prediction, dtrain):\n",
    "    prediction = prediction.astype(int)\n",
    "#     predt = np.minimum(predt.astype(int), 1)\n",
    "    target = dtrain.get_label()\n",
    "    simulationPrice = dtrain.get_weight()\n",
    "    max_profit = np.sum((target) * simulationPrice)\n",
    "    return 'feval', np.sum((prediction - np.maximum(prediction - target, 0) * 1.6)  * simulationPrice) / max_profit"
   ]
  },
  {
   "cell_type": "code",
   "execution_count": 106,
   "metadata": {
    "scrolled": true
   },
   "outputs": [
    {
     "name": "stdout",
     "output_type": "stream",
     "text": [
      "[0]\ttrain-feval:0.00179\tval-feval:0.00150\n",
      "Multiple eval metrics have been passed: 'val-feval' will be used for early stopping.\n",
      "\n",
      "Will train until val-feval hasn't improved in 10 rounds.\n",
      "[1]\ttrain-feval:0.00546\tval-feval:0.00578\n",
      "[2]\ttrain-feval:0.00784\tval-feval:0.00785\n",
      "[3]\ttrain-feval:0.01136\tval-feval:0.01270\n",
      "[4]\ttrain-feval:0.01490\tval-feval:0.01660\n",
      "[5]\ttrain-feval:0.01742\tval-feval:0.01953\n",
      "[6]\ttrain-feval:0.02109\tval-feval:0.02222\n",
      "[7]\ttrain-feval:0.02524\tval-feval:0.02617\n",
      "[8]\ttrain-feval:0.02977\tval-feval:0.03182\n",
      "[9]\ttrain-feval:0.03363\tval-feval:0.03595\n",
      "[10]\ttrain-feval:0.03954\tval-feval:0.04280\n",
      "[11]\ttrain-feval:0.04141\tval-feval:0.04562\n",
      "[12]\ttrain-feval:0.04259\tval-feval:0.04688\n",
      "[13]\ttrain-feval:0.04471\tval-feval:0.04916\n",
      "[14]\ttrain-feval:0.04663\tval-feval:0.05039\n",
      "[15]\ttrain-feval:0.04802\tval-feval:0.05195\n",
      "[16]\ttrain-feval:0.05006\tval-feval:0.05378\n",
      "[17]\ttrain-feval:0.05101\tval-feval:0.05477\n",
      "[18]\ttrain-feval:0.05188\tval-feval:0.05544\n",
      "[19]\ttrain-feval:0.06033\tval-feval:0.05998\n",
      "[20]\ttrain-feval:0.06144\tval-feval:0.06155\n",
      "[21]\ttrain-feval:0.06203\tval-feval:0.06180\n",
      "[22]\ttrain-feval:0.06310\tval-feval:0.06295\n",
      "[23]\ttrain-feval:0.06386\tval-feval:0.06405\n",
      "[24]\ttrain-feval:0.06463\tval-feval:0.06448\n",
      "[25]\ttrain-feval:0.06611\tval-feval:0.06628\n",
      "[26]\ttrain-feval:0.06980\tval-feval:0.07223\n",
      "[27]\ttrain-feval:0.07080\tval-feval:0.07303\n",
      "[28]\ttrain-feval:0.07112\tval-feval:0.07341\n",
      "[29]\ttrain-feval:0.07243\tval-feval:0.07438\n",
      "[30]\ttrain-feval:0.07516\tval-feval:0.07581\n",
      "[31]\ttrain-feval:0.07589\tval-feval:0.07696\n",
      "[32]\ttrain-feval:0.07654\tval-feval:0.07806\n",
      "[33]\ttrain-feval:0.08035\tval-feval:0.08228\n",
      "[34]\ttrain-feval:0.08072\tval-feval:0.08262\n",
      "[35]\ttrain-feval:0.08113\tval-feval:0.08388\n",
      "[36]\ttrain-feval:0.08186\tval-feval:0.08402\n",
      "[37]\ttrain-feval:0.08227\tval-feval:0.08542\n",
      "[38]\ttrain-feval:0.08286\tval-feval:0.08623\n",
      "[39]\ttrain-feval:0.08587\tval-feval:0.09081\n",
      "[40]\ttrain-feval:0.08629\tval-feval:0.09117\n",
      "[41]\ttrain-feval:0.08692\tval-feval:0.09152\n",
      "[42]\ttrain-feval:0.08774\tval-feval:0.09168\n",
      "[43]\ttrain-feval:0.08835\tval-feval:0.09296\n",
      "[44]\ttrain-feval:0.08906\tval-feval:0.09271\n",
      "[45]\ttrain-feval:0.08960\tval-feval:0.09335\n",
      "[46]\ttrain-feval:0.09028\tval-feval:0.09477\n",
      "[47]\ttrain-feval:0.09089\tval-feval:0.09538\n",
      "[48]\ttrain-feval:0.09142\tval-feval:0.09567\n",
      "[49]\ttrain-feval:0.09166\tval-feval:0.09618\n",
      "[50]\ttrain-feval:0.09203\tval-feval:0.09643\n",
      "[51]\ttrain-feval:0.09225\tval-feval:0.09641\n",
      "[52]\ttrain-feval:0.09297\tval-feval:0.09656\n",
      "[53]\ttrain-feval:0.09327\tval-feval:0.09667\n",
      "[54]\ttrain-feval:0.09359\tval-feval:0.09695\n",
      "[55]\ttrain-feval:0.09416\tval-feval:0.09724\n",
      "[56]\ttrain-feval:0.09430\tval-feval:0.09780\n",
      "[57]\ttrain-feval:0.09451\tval-feval:0.09793\n",
      "[58]\ttrain-feval:0.09552\tval-feval:0.10133\n",
      "[59]\ttrain-feval:0.09596\tval-feval:0.10149\n",
      "[60]\ttrain-feval:0.09673\tval-feval:0.10254\n",
      "[61]\ttrain-feval:0.09756\tval-feval:0.10294\n",
      "[62]\ttrain-feval:0.09776\tval-feval:0.10418\n",
      "[63]\ttrain-feval:0.09891\tval-feval:0.10424\n",
      "[64]\ttrain-feval:0.10033\tval-feval:0.10577\n",
      "[65]\ttrain-feval:0.10199\tval-feval:0.10692\n",
      "[66]\ttrain-feval:0.10209\tval-feval:0.10699\n",
      "[67]\ttrain-feval:0.10227\tval-feval:0.10748\n",
      "[68]\ttrain-feval:0.10272\tval-feval:0.10791\n",
      "[69]\ttrain-feval:0.10292\tval-feval:0.10772\n",
      "[70]\ttrain-feval:0.10569\tval-feval:0.10870\n",
      "[71]\ttrain-feval:0.10556\tval-feval:0.10842\n",
      "[72]\ttrain-feval:0.10547\tval-feval:0.10778\n",
      "[73]\ttrain-feval:0.10612\tval-feval:0.11073\n",
      "[74]\ttrain-feval:0.10658\tval-feval:0.11091\n",
      "[75]\ttrain-feval:0.10676\tval-feval:0.11162\n",
      "[76]\ttrain-feval:0.10668\tval-feval:0.11188\n",
      "[77]\ttrain-feval:0.10714\tval-feval:0.11237\n",
      "[78]\ttrain-feval:0.10741\tval-feval:0.11245\n",
      "[79]\ttrain-feval:0.10758\tval-feval:0.11193\n",
      "[80]\ttrain-feval:0.10830\tval-feval:0.11235\n",
      "[81]\ttrain-feval:0.10836\tval-feval:0.11225\n",
      "[82]\ttrain-feval:0.10865\tval-feval:0.11223\n",
      "[83]\ttrain-feval:0.10875\tval-feval:0.11180\n",
      "[84]\ttrain-feval:0.10895\tval-feval:0.11234\n",
      "[85]\ttrain-feval:0.10913\tval-feval:0.11257\n",
      "[86]\ttrain-feval:0.10961\tval-feval:0.11309\n",
      "[87]\ttrain-feval:0.10981\tval-feval:0.11303\n",
      "[88]\ttrain-feval:0.11019\tval-feval:0.11336\n",
      "[89]\ttrain-feval:0.11011\tval-feval:0.11295\n",
      "[90]\ttrain-feval:0.11028\tval-feval:0.11263\n",
      "[91]\ttrain-feval:0.11032\tval-feval:0.11239\n",
      "[92]\ttrain-feval:0.11084\tval-feval:0.11227\n",
      "[93]\ttrain-feval:0.11097\tval-feval:0.11309\n",
      "[94]\ttrain-feval:0.11147\tval-feval:0.11331\n",
      "[95]\ttrain-feval:0.11173\tval-feval:0.11392\n",
      "[96]\ttrain-feval:0.11170\tval-feval:0.11409\n",
      "[97]\ttrain-feval:0.11213\tval-feval:0.11548\n",
      "[98]\ttrain-feval:0.11262\tval-feval:0.11551\n",
      "[99]\ttrain-feval:0.11294\tval-feval:0.11578\n",
      "[100]\ttrain-feval:0.11313\tval-feval:0.11672\n",
      "[101]\ttrain-feval:0.11328\tval-feval:0.11662\n",
      "[102]\ttrain-feval:0.11504\tval-feval:0.11678\n",
      "[103]\ttrain-feval:0.11550\tval-feval:0.11767\n",
      "[104]\ttrain-feval:0.11559\tval-feval:0.11803\n",
      "[105]\ttrain-feval:0.11584\tval-feval:0.11812\n",
      "[106]\ttrain-feval:0.11581\tval-feval:0.11801\n",
      "[107]\ttrain-feval:0.11631\tval-feval:0.11843\n",
      "[108]\ttrain-feval:0.11624\tval-feval:0.11865\n",
      "[109]\ttrain-feval:0.11617\tval-feval:0.11864\n",
      "[110]\ttrain-feval:0.11653\tval-feval:0.11833\n",
      "[111]\ttrain-feval:0.11696\tval-feval:0.11922\n",
      "[112]\ttrain-feval:0.11704\tval-feval:0.11963\n",
      "[113]\ttrain-feval:0.11741\tval-feval:0.11956\n",
      "[114]\ttrain-feval:0.11740\tval-feval:0.11935\n",
      "[115]\ttrain-feval:0.11741\tval-feval:0.12065\n",
      "[116]\ttrain-feval:0.11757\tval-feval:0.12049\n",
      "[117]\ttrain-feval:0.11760\tval-feval:0.12017\n",
      "[118]\ttrain-feval:0.11792\tval-feval:0.12001\n",
      "[119]\ttrain-feval:0.11857\tval-feval:0.11954\n",
      "[120]\ttrain-feval:0.11880\tval-feval:0.11908\n",
      "[121]\ttrain-feval:0.11923\tval-feval:0.11992\n",
      "[122]\ttrain-feval:0.11943\tval-feval:0.12034\n",
      "[123]\ttrain-feval:0.12002\tval-feval:0.12034\n",
      "[124]\ttrain-feval:0.11998\tval-feval:0.12044\n",
      "[125]\ttrain-feval:0.12112\tval-feval:0.12135\n",
      "[126]\ttrain-feval:0.12113\tval-feval:0.12204\n",
      "[127]\ttrain-feval:0.12126\tval-feval:0.12174\n",
      "[128]\ttrain-feval:0.12137\tval-feval:0.12176\n",
      "[129]\ttrain-feval:0.12151\tval-feval:0.12178\n",
      "[130]\ttrain-feval:0.12155\tval-feval:0.12202\n",
      "[131]\ttrain-feval:0.12175\tval-feval:0.12245\n",
      "[132]\ttrain-feval:0.12182\tval-feval:0.12264\n",
      "[133]\ttrain-feval:0.12267\tval-feval:0.12250\n",
      "[134]\ttrain-feval:0.12262\tval-feval:0.12286\n",
      "[135]\ttrain-feval:0.12273\tval-feval:0.12268\n",
      "[136]\ttrain-feval:0.12379\tval-feval:0.12248\n",
      "[137]\ttrain-feval:0.12390\tval-feval:0.12240\n",
      "[138]\ttrain-feval:0.12432\tval-feval:0.12231\n",
      "[139]\ttrain-feval:0.12432\tval-feval:0.12291\n",
      "[140]\ttrain-feval:0.12458\tval-feval:0.12326\n",
      "[141]\ttrain-feval:0.12467\tval-feval:0.12331\n",
      "[142]\ttrain-feval:0.12469\tval-feval:0.12336\n",
      "[143]\ttrain-feval:0.12488\tval-feval:0.12383\n",
      "[144]\ttrain-feval:0.12494\tval-feval:0.12360\n",
      "[145]\ttrain-feval:0.12522\tval-feval:0.12345\n",
      "[146]\ttrain-feval:0.12531\tval-feval:0.12433\n",
      "[147]\ttrain-feval:0.12526\tval-feval:0.12437\n",
      "[148]\ttrain-feval:0.12529\tval-feval:0.12433\n",
      "[149]\ttrain-feval:0.12539\tval-feval:0.12439\n",
      "[150]\ttrain-feval:0.12551\tval-feval:0.12405\n",
      "[151]\ttrain-feval:0.12582\tval-feval:0.12422\n",
      "[152]\ttrain-feval:0.12588\tval-feval:0.12410\n",
      "[153]\ttrain-feval:0.12613\tval-feval:0.12398\n",
      "[154]\ttrain-feval:0.12608\tval-feval:0.12438\n",
      "[155]\ttrain-feval:0.12594\tval-feval:0.12430\n",
      "[156]\ttrain-feval:0.12622\tval-feval:0.12475\n",
      "[157]\ttrain-feval:0.12636\tval-feval:0.12457\n",
      "[158]\ttrain-feval:0.12649\tval-feval:0.12475\n",
      "[159]\ttrain-feval:0.12626\tval-feval:0.12452\n",
      "[160]\ttrain-feval:0.12626\tval-feval:0.12456\n",
      "[161]\ttrain-feval:0.12625\tval-feval:0.12440\n",
      "[162]\ttrain-feval:0.12633\tval-feval:0.12430\n",
      "[163]\ttrain-feval:0.12631\tval-feval:0.12418\n",
      "[164]\ttrain-feval:0.12676\tval-feval:0.12403\n",
      "[165]\ttrain-feval:0.12686\tval-feval:0.12425\n",
      "[166]\ttrain-feval:0.12704\tval-feval:0.12427\n",
      "Stopping. Best iteration:\n",
      "[156]\ttrain-feval:0.12622\tval-feval:0.12475\n",
      "\n"
     ]
    }
   ],
   "source": [
    "missing = 0\n",
    "dtrain = xgb.DMatrix(X_train, y_train, w_train, missing = missing)\n",
    "dfulltrain = xgb.DMatrix(X_full_train, y_full_train, w_full_train, missing = missing)\n",
    "dval = xgb.DMatrix(X_val, y_val, w_val, missing = missing)\n",
    "dsub = xgb.DMatrix(X_sub, y_sub, w_sub, missing = missing)\n",
    "# specify parameters via map\n",
    "param = {\n",
    "    'max_depth':7,\n",
    "    'eta':0.005,\n",
    "    'objective':'reg:squarederror',\n",
    "    'disable_default_eval_metric': 1,\n",
    "    \"min_child_weight\" : 10000,\n",
    "    \n",
    "#     'tree_method' : 'gpu_hist',\n",
    "}\n",
    "num_round = 800\n",
    "bst = xgb.train(param, dtrain,\n",
    "                num_round,\n",
    "                early_stopping_rounds = 10,\n",
    "                evals = [(dtrain, 'train'), (dval, 'val')],\n",
    "#                 obj = objective,\n",
    "                feval = feval,\n",
    "                maximize = True,\n",
    "                )"
   ]
  },
  {
   "cell_type": "code",
   "execution_count": 107,
   "metadata": {},
   "outputs": [
    {
     "data": {
      "text/plain": [
       "(589962.3579999998, 0.12020379543372957)"
      ]
     },
     "execution_count": 107,
     "metadata": {},
     "output_type": "execute_result"
    }
   ],
   "source": [
    "prediction = bst.predict(dsub, ntree_limit=bst.best_ntree_limit).astype(int)\n",
    "evaluate(prediction, y_sub, w_sub), evaluate_prop(prediction, y_sub, w_sub)"
   ]
  },
  {
   "cell_type": "code",
   "execution_count": 108,
   "metadata": {},
   "outputs": [
    {
     "data": {
      "text/plain": [
       "(107874, 121)"
      ]
     },
     "execution_count": 108,
     "metadata": {},
     "output_type": "execute_result"
    }
   ],
   "source": [
    "prediction.sum(), len(np.unique(prediction))"
   ]
  },
  {
   "cell_type": "code",
   "execution_count": 109,
   "metadata": {},
   "outputs": [],
   "source": [
    "# retrain!"
   ]
  },
  {
   "cell_type": "code",
   "execution_count": 110,
   "metadata": {},
   "outputs": [
    {
     "data": {
      "text/plain": [
       "157"
      ]
     },
     "execution_count": 110,
     "metadata": {},
     "output_type": "execute_result"
    }
   ],
   "source": [
    "bst_sub = xgb.train(param, dfulltrain,\n",
    "    num_boost_round = bst.best_ntree_limit,\n",
    "    #                 obj = objective,\n",
    "    feval = feval, maximize = True,\n",
    "    evals = [(dfulltrain, 'ftrain')],\n",
    "    verbose_eval = False,\n",
    ")\n",
    "bst_sub.best_ntree_limit"
   ]
  },
  {
   "cell_type": "code",
   "execution_count": 111,
   "metadata": {},
   "outputs": [
    {
     "data": {
      "text/plain": [
       "(545898.2879999998, 0.11122581847565127)"
      ]
     },
     "execution_count": 111,
     "metadata": {},
     "output_type": "execute_result"
    }
   ],
   "source": [
    "prediction_old = bst_sub.predict(dsub, ntree_limit=bst_sub.best_ntree_limit).astype(int)\n",
    "evaluate(prediction_old, y_sub, w_sub), evaluate_prop(prediction_old, y_sub, w_sub)"
   ]
  },
  {
   "cell_type": "code",
   "execution_count": 112,
   "metadata": {},
   "outputs": [],
   "source": [
    "old_preds = {item : pred for item, pred in zip(i_sub, prediction_old)}"
   ]
  },
  {
   "cell_type": "code",
   "execution_count": null,
   "metadata": {},
   "outputs": [],
   "source": []
  },
  {
   "cell_type": "code",
   "execution_count": 66,
   "metadata": {},
   "outputs": [],
   "source": [
    "# some other things below"
   ]
  },
  {
   "cell_type": "code",
   "execution_count": 67,
   "metadata": {},
   "outputs": [
    {
     "data": {
      "text/plain": [
       "4908017.72"
      ]
     },
     "execution_count": 67,
     "metadata": {},
     "output_type": "execute_result"
    }
   ],
   "source": [
    "# max possible score\n",
    "evaluate(y_sub, y_sub, w_sub)"
   ]
  },
  {
   "cell_type": "code",
   "execution_count": 68,
   "metadata": {},
   "outputs": [],
   "source": [
    "# using previous weekpair\n",
    "# evaluate(y_val, y_sub, w_sub)"
   ]
  },
  {
   "cell_type": "code",
   "execution_count": null,
   "metadata": {},
   "outputs": [],
   "source": []
  },
  {
   "cell_type": "code",
   "execution_count": null,
   "metadata": {},
   "outputs": [],
   "source": []
  },
  {
   "cell_type": "markdown",
   "metadata": {},
   "source": [
    "<hr>"
   ]
  },
  {
   "cell_type": "code",
   "execution_count": 85,
   "metadata": {},
   "outputs": [],
   "source": [
    "# filtered_data = data\n",
    "filtered_data = data.query(\"dist2firstvalueLeak == 1\")[sel_cols]"
   ]
  },
  {
   "cell_type": "code",
   "execution_count": 86,
   "metadata": {},
   "outputs": [
    {
     "data": {
      "text/plain": [
       "(146482, 10463)"
      ]
     },
     "execution_count": 86,
     "metadata": {},
     "output_type": "execute_result"
    }
   ],
   "source": [
    "len(data), len(filtered_data)"
   ]
  },
  {
   "cell_type": "code",
   "execution_count": 87,
   "metadata": {},
   "outputs": [],
   "source": [
    "#sub_week = 0\n",
    "train = filtered_data.query('-13 <= weekpair <= (@sub_week - 2)').reset_index(drop = True)\n",
    "full_train = filtered_data.query('-13 <= weekpair <= (@sub_week - 1)').reset_index(drop = True)\n",
    "val = filtered_data.query('weekpair == (@sub_week - 1)').reset_index(drop = True)\n",
    "sub = filtered_data.query('weekpair == (@sub_week)').reset_index(drop = True)"
   ]
  },
  {
   "cell_type": "code",
   "execution_count": 88,
   "metadata": {},
   "outputs": [
    {
     "data": {
      "text/plain": [
       "(8385, 727, 728)"
      ]
     },
     "execution_count": 88,
     "metadata": {},
     "output_type": "execute_result"
    }
   ],
   "source": [
    "len(train), len(val), len(sub)"
   ]
  },
  {
   "cell_type": "code",
   "execution_count": 89,
   "metadata": {},
   "outputs": [],
   "source": [
    "y_train = train.pop('order').values\n",
    "y_full_train = full_train.pop('order').values\n",
    "y_val = val.pop('order').values\n",
    "y_sub = sub.pop('order').values\n",
    "\n",
    "w_train = train['itemID'].map(weights)\n",
    "w_full_train = full_train['itemID'].map(weights)\n",
    "w_val = val['itemID'].map(weights)\n",
    "w_sub = sub['itemID'].map(weights)\n",
    "\n",
    "i_train = train.pop(\"itemID\")\n",
    "i_full_train = full_train.pop(\"itemID\")\n",
    "i_val = val.pop(\"itemID\")\n",
    "i_sub = sub.pop(\"itemID\")\n",
    "\n",
    "X_train = train.values\n",
    "X_full_train = full_train.values\n",
    "X_val = val.values\n",
    "X_sub = sub.values"
   ]
  },
  {
   "cell_type": "markdown",
   "metadata": {},
   "source": [
    "## - XGBoost"
   ]
  },
  {
   "cell_type": "code",
   "execution_count": 90,
   "metadata": {
    "scrolled": true
   },
   "outputs": [
    {
     "name": "stdout",
     "output_type": "stream",
     "text": [
      "[0]\ttrain-feval:0.00275\tval-feval:0.00359\n",
      "Multiple eval metrics have been passed: 'val-feval' will be used for early stopping.\n",
      "\n",
      "Will train until val-feval hasn't improved in 10 rounds.\n",
      "[1]\ttrain-feval:0.00504\tval-feval:0.00617\n",
      "[2]\ttrain-feval:0.01171\tval-feval:0.01334\n",
      "[3]\ttrain-feval:0.01331\tval-feval:0.01557\n",
      "[4]\ttrain-feval:0.01549\tval-feval:0.01796\n",
      "[5]\ttrain-feval:0.01895\tval-feval:0.02028\n",
      "[6]\ttrain-feval:0.02065\tval-feval:0.02250\n",
      "[7]\ttrain-feval:0.03120\tval-feval:0.03087\n",
      "[8]\ttrain-feval:0.03248\tval-feval:0.03293\n",
      "[9]\ttrain-feval:0.03526\tval-feval:0.03658\n",
      "[10]\ttrain-feval:0.03624\tval-feval:0.03744\n",
      "[11]\ttrain-feval:0.03775\tval-feval:0.03968\n",
      "[12]\ttrain-feval:0.05137\tval-feval:0.04810\n",
      "[13]\ttrain-feval:0.05385\tval-feval:0.05111\n",
      "[14]\ttrain-feval:0.05455\tval-feval:0.05187\n",
      "[15]\ttrain-feval:0.05607\tval-feval:0.05420\n",
      "[16]\ttrain-feval:0.05713\tval-feval:0.05572\n",
      "[17]\ttrain-feval:0.05989\tval-feval:0.05775\n",
      "[18]\ttrain-feval:0.06301\tval-feval:0.06219\n",
      "[19]\ttrain-feval:0.06421\tval-feval:0.06406\n",
      "[20]\ttrain-feval:0.06861\tval-feval:0.06556\n",
      "[21]\ttrain-feval:0.07028\tval-feval:0.06692\n",
      "[22]\ttrain-feval:0.07165\tval-feval:0.06922\n",
      "[23]\ttrain-feval:0.07698\tval-feval:0.07638\n",
      "[24]\ttrain-feval:0.07810\tval-feval:0.07814\n",
      "[25]\ttrain-feval:0.08040\tval-feval:0.08022\n",
      "[26]\ttrain-feval:0.08108\tval-feval:0.08117\n",
      "[27]\ttrain-feval:0.08252\tval-feval:0.08343\n",
      "[28]\ttrain-feval:0.09085\tval-feval:0.08595\n",
      "[29]\ttrain-feval:0.09407\tval-feval:0.09012\n",
      "[30]\ttrain-feval:0.09619\tval-feval:0.09165\n",
      "[31]\ttrain-feval:0.09736\tval-feval:0.09347\n",
      "[32]\ttrain-feval:0.09836\tval-feval:0.09478\n",
      "[33]\ttrain-feval:0.09968\tval-feval:0.09696\n",
      "[34]\ttrain-feval:0.10195\tval-feval:0.09827\n",
      "[35]\ttrain-feval:0.10734\tval-feval:0.10221\n",
      "[36]\ttrain-feval:0.10818\tval-feval:0.10383\n",
      "[37]\ttrain-feval:0.10992\tval-feval:0.10610\n",
      "[38]\ttrain-feval:0.11088\tval-feval:0.10772\n",
      "[39]\ttrain-feval:0.11212\tval-feval:0.10886\n",
      "[40]\ttrain-feval:0.11646\tval-feval:0.11330\n",
      "[41]\ttrain-feval:0.12656\tval-feval:0.12080\n",
      "[42]\ttrain-feval:0.12787\tval-feval:0.12267\n",
      "[43]\ttrain-feval:0.12873\tval-feval:0.12440\n",
      "[44]\ttrain-feval:0.13018\tval-feval:0.12621\n",
      "[45]\ttrain-feval:0.13097\tval-feval:0.12756\n",
      "[46]\ttrain-feval:0.13356\tval-feval:0.12929\n",
      "[47]\ttrain-feval:0.13505\tval-feval:0.13263\n",
      "[48]\ttrain-feval:0.13633\tval-feval:0.13444\n",
      "[49]\ttrain-feval:0.13727\tval-feval:0.13536\n",
      "[50]\ttrain-feval:0.13838\tval-feval:0.13708\n",
      "[51]\ttrain-feval:0.13998\tval-feval:0.13931\n",
      "[52]\ttrain-feval:0.14158\tval-feval:0.14021\n",
      "[53]\ttrain-feval:0.14591\tval-feval:0.14184\n",
      "[54]\ttrain-feval:0.14757\tval-feval:0.14504\n",
      "[55]\ttrain-feval:0.14868\tval-feval:0.14661\n",
      "[56]\ttrain-feval:0.14969\tval-feval:0.14818\n",
      "[57]\ttrain-feval:0.15069\tval-feval:0.14967\n",
      "[58]\ttrain-feval:0.15386\tval-feval:0.15398\n",
      "[59]\ttrain-feval:0.15626\tval-feval:0.15558\n",
      "[60]\ttrain-feval:0.15709\tval-feval:0.15648\n",
      "[61]\ttrain-feval:0.15879\tval-feval:0.16024\n",
      "[62]\ttrain-feval:0.15949\tval-feval:0.16119\n",
      "[63]\ttrain-feval:0.16083\tval-feval:0.16319\n",
      "[64]\ttrain-feval:0.16175\tval-feval:0.16426\n",
      "[65]\ttrain-feval:0.16308\tval-feval:0.16606\n",
      "[66]\ttrain-feval:0.16431\tval-feval:0.16643\n",
      "[67]\ttrain-feval:0.16552\tval-feval:0.16835\n",
      "[68]\ttrain-feval:0.16675\tval-feval:0.17098\n",
      "[69]\ttrain-feval:0.16843\tval-feval:0.17323\n",
      "[70]\ttrain-feval:0.16876\tval-feval:0.17400\n",
      "[71]\ttrain-feval:0.17016\tval-feval:0.17574\n",
      "[72]\ttrain-feval:0.17393\tval-feval:0.17622\n",
      "[73]\ttrain-feval:0.17557\tval-feval:0.17912\n",
      "[74]\ttrain-feval:0.17637\tval-feval:0.18021\n",
      "[75]\ttrain-feval:0.18439\tval-feval:0.18485\n",
      "[76]\ttrain-feval:0.18509\tval-feval:0.18586\n",
      "[77]\ttrain-feval:0.18697\tval-feval:0.18903\n",
      "[78]\ttrain-feval:0.18942\tval-feval:0.19171\n",
      "[79]\ttrain-feval:0.19069\tval-feval:0.19382\n",
      "[80]\ttrain-feval:0.19158\tval-feval:0.19454\n",
      "[81]\ttrain-feval:0.19339\tval-feval:0.19590\n",
      "[82]\ttrain-feval:0.19416\tval-feval:0.19680\n",
      "[83]\ttrain-feval:0.19559\tval-feval:0.19841\n",
      "[84]\ttrain-feval:0.19698\tval-feval:0.19945\n",
      "[85]\ttrain-feval:0.19771\tval-feval:0.20042\n",
      "[86]\ttrain-feval:0.19908\tval-feval:0.20373\n",
      "[87]\ttrain-feval:0.19977\tval-feval:0.20475\n",
      "[88]\ttrain-feval:0.20083\tval-feval:0.20664\n",
      "[89]\ttrain-feval:0.20211\tval-feval:0.20697\n",
      "[90]\ttrain-feval:0.20346\tval-feval:0.20866\n",
      "[91]\ttrain-feval:0.20397\tval-feval:0.20922\n",
      "[92]\ttrain-feval:0.20509\tval-feval:0.21080\n",
      "[93]\ttrain-feval:0.20610\tval-feval:0.21222\n",
      "[94]\ttrain-feval:0.20735\tval-feval:0.21470\n",
      "[95]\ttrain-feval:0.21406\tval-feval:0.21699\n",
      "[96]\ttrain-feval:0.21667\tval-feval:0.21798\n",
      "[97]\ttrain-feval:0.21806\tval-feval:0.21862\n",
      "[98]\ttrain-feval:0.21931\tval-feval:0.22003\n",
      "[99]\ttrain-feval:0.22038\tval-feval:0.22141\n",
      "[100]\ttrain-feval:0.22099\tval-feval:0.22196\n",
      "[101]\ttrain-feval:0.22226\tval-feval:0.22532\n",
      "[102]\ttrain-feval:0.22318\tval-feval:0.22683\n",
      "[103]\ttrain-feval:0.22379\tval-feval:0.22752\n",
      "[104]\ttrain-feval:0.22645\tval-feval:0.23180\n",
      "[105]\ttrain-feval:0.22687\tval-feval:0.23236\n",
      "[106]\ttrain-feval:0.22788\tval-feval:0.23286\n",
      "[107]\ttrain-feval:0.22881\tval-feval:0.23433\n",
      "[108]\ttrain-feval:0.22939\tval-feval:0.23491\n",
      "[109]\ttrain-feval:0.23042\tval-feval:0.23614\n",
      "[110]\ttrain-feval:0.23120\tval-feval:0.23713\n",
      "[111]\ttrain-feval:0.23184\tval-feval:0.23779\n",
      "[112]\ttrain-feval:0.23314\tval-feval:0.23883\n",
      "[113]\ttrain-feval:0.23394\tval-feval:0.23993\n",
      "[114]\ttrain-feval:0.23514\tval-feval:0.24213\n",
      "[115]\ttrain-feval:0.23565\tval-feval:0.24309\n",
      "[116]\ttrain-feval:0.23635\tval-feval:0.24312\n",
      "[117]\ttrain-feval:0.23741\tval-feval:0.24546\n",
      "[118]\ttrain-feval:0.23802\tval-feval:0.24614\n",
      "[119]\ttrain-feval:0.24111\tval-feval:0.24973\n",
      "[120]\ttrain-feval:0.24202\tval-feval:0.25008\n",
      "[121]\ttrain-feval:0.24441\tval-feval:0.25076\n",
      "[122]\ttrain-feval:0.24518\tval-feval:0.25181\n",
      "[123]\ttrain-feval:0.24592\tval-feval:0.25291\n",
      "[124]\ttrain-feval:0.24659\tval-feval:0.25458\n",
      "[125]\ttrain-feval:0.24919\tval-feval:0.25574\n",
      "[126]\ttrain-feval:0.25017\tval-feval:0.25605\n",
      "[127]\ttrain-feval:0.25116\tval-feval:0.25727\n",
      "[128]\ttrain-feval:0.25194\tval-feval:0.25849\n",
      "[129]\ttrain-feval:0.25305\tval-feval:0.25919\n",
      "[130]\ttrain-feval:0.25354\tval-feval:0.26032\n",
      "[131]\ttrain-feval:0.25416\tval-feval:0.26106\n",
      "[132]\ttrain-feval:0.25463\tval-feval:0.26140\n",
      "[133]\ttrain-feval:0.25567\tval-feval:0.26304\n",
      "[134]\ttrain-feval:0.25723\tval-feval:0.26567\n",
      "[135]\ttrain-feval:0.25819\tval-feval:0.26690\n",
      "[136]\ttrain-feval:0.25888\tval-feval:0.26860\n",
      "[137]\ttrain-feval:0.25943\tval-feval:0.26924\n",
      "[138]\ttrain-feval:0.26026\tval-feval:0.26975\n",
      "[139]\ttrain-feval:0.26150\tval-feval:0.27069\n",
      "[140]\ttrain-feval:0.26177\tval-feval:0.27142\n",
      "[141]\ttrain-feval:0.26226\tval-feval:0.27200\n",
      "[142]\ttrain-feval:0.26288\tval-feval:0.27275\n",
      "[143]\ttrain-feval:0.26371\tval-feval:0.27407\n",
      "[144]\ttrain-feval:0.26409\tval-feval:0.27415\n",
      "[145]\ttrain-feval:0.26483\tval-feval:0.27548\n",
      "[146]\ttrain-feval:0.26591\tval-feval:0.27661\n",
      "[147]\ttrain-feval:0.26648\tval-feval:0.27814\n",
      "[148]\ttrain-feval:0.26742\tval-feval:0.27907\n",
      "[149]\ttrain-feval:0.26795\tval-feval:0.27964\n",
      "[150]\ttrain-feval:0.26856\tval-feval:0.28067\n",
      "[151]\ttrain-feval:0.26902\tval-feval:0.28163\n",
      "[152]\ttrain-feval:0.26958\tval-feval:0.28238\n",
      "[153]\ttrain-feval:0.27040\tval-feval:0.28282\n",
      "[154]\ttrain-feval:0.27100\tval-feval:0.28372\n",
      "[155]\ttrain-feval:0.27178\tval-feval:0.28486\n",
      "[156]\ttrain-feval:0.27214\tval-feval:0.28519\n",
      "[157]\ttrain-feval:0.27273\tval-feval:0.28636\n",
      "[158]\ttrain-feval:0.27315\tval-feval:0.28680\n",
      "[159]\ttrain-feval:0.27347\tval-feval:0.28730\n",
      "[160]\ttrain-feval:0.27526\tval-feval:0.28812\n",
      "[161]\ttrain-feval:0.27622\tval-feval:0.28828\n",
      "[162]\ttrain-feval:0.27886\tval-feval:0.29080\n",
      "[163]\ttrain-feval:0.27955\tval-feval:0.29177\n",
      "[164]\ttrain-feval:0.27982\tval-feval:0.29268\n",
      "[165]\ttrain-feval:0.28225\tval-feval:0.29553\n",
      "[166]\ttrain-feval:0.28274\tval-feval:0.29615\n",
      "[167]\ttrain-feval:0.28329\tval-feval:0.29702\n",
      "[168]\ttrain-feval:0.28371\tval-feval:0.29735\n",
      "[169]\ttrain-feval:0.28414\tval-feval:0.29796\n",
      "[170]\ttrain-feval:0.28471\tval-feval:0.29830\n",
      "[171]\ttrain-feval:0.28560\tval-feval:0.29986\n",
      "[172]\ttrain-feval:0.28665\tval-feval:0.30156\n",
      "[173]\ttrain-feval:0.28744\tval-feval:0.30236\n",
      "[174]\ttrain-feval:0.28766\tval-feval:0.30301\n",
      "[175]\ttrain-feval:0.28957\tval-feval:0.30362\n",
      "[176]\ttrain-feval:0.28985\tval-feval:0.30415\n",
      "[177]\ttrain-feval:0.29056\tval-feval:0.30535\n",
      "[178]\ttrain-feval:0.29100\tval-feval:0.30609\n",
      "[179]\ttrain-feval:0.29158\tval-feval:0.30639\n",
      "[180]\ttrain-feval:0.29206\tval-feval:0.30706\n",
      "[181]\ttrain-feval:0.29230\tval-feval:0.30760\n",
      "[182]\ttrain-feval:0.29304\tval-feval:0.30824\n",
      "[183]\ttrain-feval:0.29510\tval-feval:0.30961\n",
      "[184]\ttrain-feval:0.29558\tval-feval:0.31045\n",
      "[185]\ttrain-feval:0.29561\tval-feval:0.31055\n"
     ]
    },
    {
     "name": "stdout",
     "output_type": "stream",
     "text": [
      "[186]\ttrain-feval:0.29620\tval-feval:0.31116\n",
      "[187]\ttrain-feval:0.29679\tval-feval:0.31248\n",
      "[188]\ttrain-feval:0.29717\tval-feval:0.31211\n",
      "[189]\ttrain-feval:0.29756\tval-feval:0.31269\n",
      "[190]\ttrain-feval:0.29821\tval-feval:0.31375\n",
      "[191]\ttrain-feval:0.29886\tval-feval:0.31520\n",
      "[192]\ttrain-feval:0.29925\tval-feval:0.31545\n",
      "[193]\ttrain-feval:0.29963\tval-feval:0.31596\n",
      "[194]\ttrain-feval:0.30036\tval-feval:0.31728\n",
      "[195]\ttrain-feval:0.30074\tval-feval:0.31822\n",
      "[196]\ttrain-feval:0.30091\tval-feval:0.31851\n",
      "[197]\ttrain-feval:0.30139\tval-feval:0.31921\n",
      "[198]\ttrain-feval:0.30191\tval-feval:0.31989\n",
      "[199]\ttrain-feval:0.30236\tval-feval:0.32037\n",
      "[200]\ttrain-feval:0.30264\tval-feval:0.32075\n",
      "[201]\ttrain-feval:0.30319\tval-feval:0.32121\n",
      "[202]\ttrain-feval:0.30352\tval-feval:0.32135\n",
      "[203]\ttrain-feval:0.30392\tval-feval:0.32195\n",
      "[204]\ttrain-feval:0.30407\tval-feval:0.32284\n",
      "[205]\ttrain-feval:0.30444\tval-feval:0.32332\n",
      "[206]\ttrain-feval:0.30512\tval-feval:0.32402\n",
      "[207]\ttrain-feval:0.30532\tval-feval:0.32444\n",
      "[208]\ttrain-feval:0.30640\tval-feval:0.32635\n",
      "[209]\ttrain-feval:0.30684\tval-feval:0.32638\n",
      "[210]\ttrain-feval:0.30738\tval-feval:0.32821\n",
      "[211]\ttrain-feval:0.30782\tval-feval:0.32849\n",
      "[212]\ttrain-feval:0.30805\tval-feval:0.32882\n",
      "[213]\ttrain-feval:0.30866\tval-feval:0.32936\n",
      "[214]\ttrain-feval:0.30910\tval-feval:0.32999\n",
      "[215]\ttrain-feval:0.30955\tval-feval:0.33012\n",
      "[216]\ttrain-feval:0.31008\tval-feval:0.33073\n",
      "[217]\ttrain-feval:0.31029\tval-feval:0.33134\n",
      "[218]\ttrain-feval:0.31064\tval-feval:0.33188\n",
      "[219]\ttrain-feval:0.31115\tval-feval:0.33332\n",
      "[220]\ttrain-feval:0.31161\tval-feval:0.33366\n",
      "[221]\ttrain-feval:0.31188\tval-feval:0.33413\n",
      "[222]\ttrain-feval:0.31253\tval-feval:0.33419\n",
      "[223]\ttrain-feval:0.31319\tval-feval:0.33442\n",
      "[224]\ttrain-feval:0.31356\tval-feval:0.33488\n",
      "[225]\ttrain-feval:0.31400\tval-feval:0.33537\n",
      "[226]\ttrain-feval:0.31430\tval-feval:0.33547\n",
      "[227]\ttrain-feval:0.31471\tval-feval:0.33585\n",
      "[228]\ttrain-feval:0.31502\tval-feval:0.33621\n",
      "[229]\ttrain-feval:0.31553\tval-feval:0.33698\n",
      "[230]\ttrain-feval:0.31566\tval-feval:0.33713\n",
      "[231]\ttrain-feval:0.31612\tval-feval:0.33798\n",
      "[232]\ttrain-feval:0.31699\tval-feval:0.33836\n",
      "[233]\ttrain-feval:0.31730\tval-feval:0.33879\n",
      "[234]\ttrain-feval:0.31756\tval-feval:0.33920\n",
      "[235]\ttrain-feval:0.31803\tval-feval:0.33996\n",
      "[236]\ttrain-feval:0.31903\tval-feval:0.34180\n",
      "[237]\ttrain-feval:0.31960\tval-feval:0.34241\n",
      "[238]\ttrain-feval:0.31990\tval-feval:0.34263\n",
      "[239]\ttrain-feval:0.32010\tval-feval:0.34284\n",
      "[240]\ttrain-feval:0.32058\tval-feval:0.34340\n",
      "[241]\ttrain-feval:0.32085\tval-feval:0.34400\n",
      "[242]\ttrain-feval:0.32119\tval-feval:0.34453\n",
      "[243]\ttrain-feval:0.32171\tval-feval:0.34467\n",
      "[244]\ttrain-feval:0.32214\tval-feval:0.34519\n",
      "[245]\ttrain-feval:0.32222\tval-feval:0.34515\n",
      "[246]\ttrain-feval:0.32273\tval-feval:0.34611\n",
      "[247]\ttrain-feval:0.32302\tval-feval:0.34661\n",
      "[248]\ttrain-feval:0.32330\tval-feval:0.34670\n",
      "[249]\ttrain-feval:0.32358\tval-feval:0.34725\n",
      "[250]\ttrain-feval:0.32396\tval-feval:0.34773\n",
      "[251]\ttrain-feval:0.32415\tval-feval:0.34745\n",
      "[252]\ttrain-feval:0.32435\tval-feval:0.34815\n",
      "[253]\ttrain-feval:0.32450\tval-feval:0.34841\n",
      "[254]\ttrain-feval:0.32491\tval-feval:0.34917\n",
      "[255]\ttrain-feval:0.32518\tval-feval:0.34955\n",
      "[256]\ttrain-feval:0.32547\tval-feval:0.34966\n",
      "[257]\ttrain-feval:0.32592\tval-feval:0.35026\n",
      "[258]\ttrain-feval:0.32625\tval-feval:0.35059\n",
      "[259]\ttrain-feval:0.32652\tval-feval:0.35090\n",
      "[260]\ttrain-feval:0.32720\tval-feval:0.35116\n",
      "[261]\ttrain-feval:0.32777\tval-feval:0.35120\n",
      "[262]\ttrain-feval:0.32825\tval-feval:0.35184\n",
      "[263]\ttrain-feval:0.32885\tval-feval:0.35338\n",
      "[264]\ttrain-feval:0.32913\tval-feval:0.35373\n",
      "[265]\ttrain-feval:0.32923\tval-feval:0.35406\n",
      "[266]\ttrain-feval:0.33011\tval-feval:0.35463\n",
      "[267]\ttrain-feval:0.33025\tval-feval:0.35482\n",
      "[268]\ttrain-feval:0.33066\tval-feval:0.35600\n",
      "[269]\ttrain-feval:0.33087\tval-feval:0.35624\n",
      "[270]\ttrain-feval:0.33101\tval-feval:0.35627\n",
      "[271]\ttrain-feval:0.33137\tval-feval:0.35662\n",
      "[272]\ttrain-feval:0.33147\tval-feval:0.35692\n",
      "[273]\ttrain-feval:0.33191\tval-feval:0.35740\n",
      "[274]\ttrain-feval:0.33221\tval-feval:0.35776\n",
      "[275]\ttrain-feval:0.33314\tval-feval:0.35914\n",
      "[276]\ttrain-feval:0.33348\tval-feval:0.35949\n",
      "[277]\ttrain-feval:0.33373\tval-feval:0.35971\n",
      "[278]\ttrain-feval:0.33408\tval-feval:0.35998\n",
      "[279]\ttrain-feval:0.33401\tval-feval:0.36031\n",
      "[280]\ttrain-feval:0.33435\tval-feval:0.35983\n",
      "[281]\ttrain-feval:0.33450\tval-feval:0.36009\n",
      "[282]\ttrain-feval:0.33471\tval-feval:0.36051\n",
      "[283]\ttrain-feval:0.33509\tval-feval:0.36040\n",
      "[284]\ttrain-feval:0.33547\tval-feval:0.36101\n",
      "[285]\ttrain-feval:0.33571\tval-feval:0.36116\n",
      "[286]\ttrain-feval:0.33588\tval-feval:0.36150\n",
      "[287]\ttrain-feval:0.33605\tval-feval:0.36219\n",
      "[288]\ttrain-feval:0.33640\tval-feval:0.36230\n",
      "[289]\ttrain-feval:0.33658\tval-feval:0.36255\n",
      "[290]\ttrain-feval:0.33679\tval-feval:0.36292\n",
      "[291]\ttrain-feval:0.33691\tval-feval:0.36328\n",
      "[292]\ttrain-feval:0.33720\tval-feval:0.36349\n",
      "[293]\ttrain-feval:0.33730\tval-feval:0.36368\n",
      "[294]\ttrain-feval:0.33750\tval-feval:0.36410\n",
      "[295]\ttrain-feval:0.33761\tval-feval:0.36421\n",
      "[296]\ttrain-feval:0.33784\tval-feval:0.36451\n",
      "[297]\ttrain-feval:0.33801\tval-feval:0.36515\n",
      "[298]\ttrain-feval:0.33819\tval-feval:0.36579\n",
      "[299]\ttrain-feval:0.33835\tval-feval:0.36590\n",
      "[300]\ttrain-feval:0.33879\tval-feval:0.36585\n",
      "[301]\ttrain-feval:0.33900\tval-feval:0.36606\n",
      "[302]\ttrain-feval:0.33908\tval-feval:0.36692\n",
      "[303]\ttrain-feval:0.33912\tval-feval:0.36695\n",
      "[304]\ttrain-feval:0.33965\tval-feval:0.36702\n",
      "[305]\ttrain-feval:0.33970\tval-feval:0.36729\n",
      "[306]\ttrain-feval:0.33988\tval-feval:0.36771\n",
      "[307]\ttrain-feval:0.34011\tval-feval:0.36814\n",
      "[308]\ttrain-feval:0.34017\tval-feval:0.36835\n",
      "[309]\ttrain-feval:0.34026\tval-feval:0.36844\n",
      "[310]\ttrain-feval:0.34035\tval-feval:0.36866\n",
      "[311]\ttrain-feval:0.34038\tval-feval:0.36880\n",
      "[312]\ttrain-feval:0.34062\tval-feval:0.36931\n",
      "[313]\ttrain-feval:0.34086\tval-feval:0.36966\n",
      "[314]\ttrain-feval:0.34103\tval-feval:0.36977\n",
      "[315]\ttrain-feval:0.34114\tval-feval:0.36984\n",
      "[316]\ttrain-feval:0.34251\tval-feval:0.36950\n",
      "[317]\ttrain-feval:0.34267\tval-feval:0.36980\n",
      "[318]\ttrain-feval:0.34276\tval-feval:0.37003\n",
      "[319]\ttrain-feval:0.34299\tval-feval:0.37015\n",
      "[320]\ttrain-feval:0.34339\tval-feval:0.37034\n",
      "[321]\ttrain-feval:0.34373\tval-feval:0.37049\n",
      "[322]\ttrain-feval:0.34392\tval-feval:0.37072\n",
      "[323]\ttrain-feval:0.34407\tval-feval:0.37073\n",
      "[324]\ttrain-feval:0.34425\tval-feval:0.37036\n",
      "[325]\ttrain-feval:0.34462\tval-feval:0.37060\n",
      "[326]\ttrain-feval:0.34475\tval-feval:0.37055\n",
      "[327]\ttrain-feval:0.34491\tval-feval:0.37070\n",
      "[328]\ttrain-feval:0.34503\tval-feval:0.37093\n",
      "[329]\ttrain-feval:0.34525\tval-feval:0.37108\n",
      "[330]\ttrain-feval:0.34542\tval-feval:0.37126\n",
      "[331]\ttrain-feval:0.34561\tval-feval:0.37141\n",
      "[332]\ttrain-feval:0.34569\tval-feval:0.37197\n",
      "[333]\ttrain-feval:0.34590\tval-feval:0.37179\n",
      "[334]\ttrain-feval:0.34597\tval-feval:0.37190\n",
      "[335]\ttrain-feval:0.34608\tval-feval:0.37205\n",
      "[336]\ttrain-feval:0.34622\tval-feval:0.37231\n",
      "[337]\ttrain-feval:0.34635\tval-feval:0.37240\n",
      "[338]\ttrain-feval:0.34657\tval-feval:0.37291\n",
      "[339]\ttrain-feval:0.34667\tval-feval:0.37294\n",
      "[340]\ttrain-feval:0.34680\tval-feval:0.37307\n",
      "[341]\ttrain-feval:0.34703\tval-feval:0.37384\n",
      "[342]\ttrain-feval:0.34712\tval-feval:0.37391\n",
      "[343]\ttrain-feval:0.34723\tval-feval:0.37406\n",
      "[344]\ttrain-feval:0.34742\tval-feval:0.37430\n",
      "[345]\ttrain-feval:0.34762\tval-feval:0.37408\n",
      "[346]\ttrain-feval:0.34779\tval-feval:0.37412\n",
      "[347]\ttrain-feval:0.34782\tval-feval:0.37429\n",
      "[348]\ttrain-feval:0.34805\tval-feval:0.37448\n",
      "[349]\ttrain-feval:0.34808\tval-feval:0.37475\n",
      "[350]\ttrain-feval:0.34783\tval-feval:0.37522\n",
      "[351]\ttrain-feval:0.34802\tval-feval:0.37541\n",
      "[352]\ttrain-feval:0.34821\tval-feval:0.37646\n",
      "[353]\ttrain-feval:0.34829\tval-feval:0.37660\n",
      "[354]\ttrain-feval:0.34835\tval-feval:0.37728\n",
      "[355]\ttrain-feval:0.34847\tval-feval:0.37745\n",
      "[356]\ttrain-feval:0.34858\tval-feval:0.37758\n",
      "[357]\ttrain-feval:0.34861\tval-feval:0.37759\n",
      "[358]\ttrain-feval:0.34876\tval-feval:0.37778\n",
      "[359]\ttrain-feval:0.34894\tval-feval:0.37803\n",
      "[360]\ttrain-feval:0.34894\tval-feval:0.37954\n",
      "[361]\ttrain-feval:0.34904\tval-feval:0.37926\n",
      "[362]\ttrain-feval:0.34898\tval-feval:0.37931\n",
      "[363]\ttrain-feval:0.34905\tval-feval:0.37930\n",
      "[364]\ttrain-feval:0.34920\tval-feval:0.37934\n",
      "[365]\ttrain-feval:0.34942\tval-feval:0.37940\n",
      "[366]\ttrain-feval:0.34958\tval-feval:0.37947\n",
      "[367]\ttrain-feval:0.34971\tval-feval:0.37955\n",
      "[368]\ttrain-feval:0.34975\tval-feval:0.37961\n",
      "[369]\ttrain-feval:0.34987\tval-feval:0.37967\n",
      "[370]\ttrain-feval:0.35003\tval-feval:0.37996\n",
      "[371]\ttrain-feval:0.35016\tval-feval:0.37997\n",
      "[372]\ttrain-feval:0.35016\tval-feval:0.38010\n"
     ]
    },
    {
     "name": "stdout",
     "output_type": "stream",
     "text": [
      "[373]\ttrain-feval:0.34998\tval-feval:0.38026\n",
      "[374]\ttrain-feval:0.35016\tval-feval:0.38090\n",
      "[375]\ttrain-feval:0.35017\tval-feval:0.38105\n",
      "[376]\ttrain-feval:0.35022\tval-feval:0.38147\n",
      "[377]\ttrain-feval:0.35036\tval-feval:0.38169\n",
      "[378]\ttrain-feval:0.35047\tval-feval:0.38179\n",
      "[379]\ttrain-feval:0.35050\tval-feval:0.38178\n",
      "[380]\ttrain-feval:0.35057\tval-feval:0.38190\n",
      "[381]\ttrain-feval:0.35067\tval-feval:0.38224\n",
      "[382]\ttrain-feval:0.35070\tval-feval:0.38246\n",
      "[383]\ttrain-feval:0.35090\tval-feval:0.38243\n",
      "[384]\ttrain-feval:0.35096\tval-feval:0.38250\n",
      "[385]\ttrain-feval:0.35112\tval-feval:0.38296\n",
      "[386]\ttrain-feval:0.35110\tval-feval:0.38287\n",
      "[387]\ttrain-feval:0.35123\tval-feval:0.38287\n",
      "[388]\ttrain-feval:0.35131\tval-feval:0.38294\n",
      "[389]\ttrain-feval:0.35130\tval-feval:0.38295\n",
      "[390]\ttrain-feval:0.35139\tval-feval:0.38308\n",
      "[391]\ttrain-feval:0.35145\tval-feval:0.38320\n",
      "[392]\ttrain-feval:0.35148\tval-feval:0.38328\n",
      "[393]\ttrain-feval:0.35145\tval-feval:0.38388\n",
      "[394]\ttrain-feval:0.35160\tval-feval:0.38395\n",
      "[395]\ttrain-feval:0.35158\tval-feval:0.38410\n",
      "[396]\ttrain-feval:0.35153\tval-feval:0.38432\n",
      "[397]\ttrain-feval:0.35171\tval-feval:0.38421\n",
      "[398]\ttrain-feval:0.35173\tval-feval:0.38421\n",
      "[399]\ttrain-feval:0.35191\tval-feval:0.38424\n",
      "[400]\ttrain-feval:0.35190\tval-feval:0.38437\n",
      "[401]\ttrain-feval:0.35219\tval-feval:0.38448\n",
      "[402]\ttrain-feval:0.35239\tval-feval:0.38456\n",
      "[403]\ttrain-feval:0.35243\tval-feval:0.38444\n",
      "[404]\ttrain-feval:0.35247\tval-feval:0.38439\n",
      "[405]\ttrain-feval:0.35266\tval-feval:0.38465\n",
      "[406]\ttrain-feval:0.35282\tval-feval:0.38480\n",
      "[407]\ttrain-feval:0.35291\tval-feval:0.38472\n",
      "[408]\ttrain-feval:0.35315\tval-feval:0.38457\n",
      "[409]\ttrain-feval:0.35322\tval-feval:0.38462\n",
      "[410]\ttrain-feval:0.35351\tval-feval:0.38460\n",
      "[411]\ttrain-feval:0.35359\tval-feval:0.38472\n",
      "[412]\ttrain-feval:0.35360\tval-feval:0.38466\n",
      "[413]\ttrain-feval:0.35364\tval-feval:0.38474\n",
      "[414]\ttrain-feval:0.35372\tval-feval:0.38469\n",
      "[415]\ttrain-feval:0.35430\tval-feval:0.38478\n",
      "[416]\ttrain-feval:0.35443\tval-feval:0.38519\n",
      "[417]\ttrain-feval:0.35456\tval-feval:0.38529\n",
      "[418]\ttrain-feval:0.35452\tval-feval:0.38527\n",
      "[419]\ttrain-feval:0.35452\tval-feval:0.38564\n",
      "[420]\ttrain-feval:0.35460\tval-feval:0.38569\n",
      "[421]\ttrain-feval:0.35452\tval-feval:0.38626\n",
      "[422]\ttrain-feval:0.35473\tval-feval:0.38623\n",
      "[423]\ttrain-feval:0.35475\tval-feval:0.38635\n",
      "[424]\ttrain-feval:0.35480\tval-feval:0.38656\n",
      "[425]\ttrain-feval:0.35482\tval-feval:0.38645\n",
      "[426]\ttrain-feval:0.35518\tval-feval:0.38647\n",
      "[427]\ttrain-feval:0.35526\tval-feval:0.38646\n",
      "[428]\ttrain-feval:0.35537\tval-feval:0.38640\n",
      "[429]\ttrain-feval:0.35545\tval-feval:0.38655\n",
      "[430]\ttrain-feval:0.35571\tval-feval:0.38661\n",
      "[431]\ttrain-feval:0.35578\tval-feval:0.38658\n",
      "[432]\ttrain-feval:0.35583\tval-feval:0.38683\n",
      "[433]\ttrain-feval:0.35597\tval-feval:0.38680\n",
      "[434]\ttrain-feval:0.35622\tval-feval:0.38693\n",
      "[435]\ttrain-feval:0.35625\tval-feval:0.38727\n",
      "[436]\ttrain-feval:0.35641\tval-feval:0.38738\n",
      "[437]\ttrain-feval:0.35655\tval-feval:0.38780\n",
      "[438]\ttrain-feval:0.35661\tval-feval:0.38770\n",
      "[439]\ttrain-feval:0.35671\tval-feval:0.38790\n",
      "[440]\ttrain-feval:0.35683\tval-feval:0.38863\n",
      "[441]\ttrain-feval:0.35685\tval-feval:0.38859\n",
      "[442]\ttrain-feval:0.35689\tval-feval:0.38900\n",
      "[443]\ttrain-feval:0.35688\tval-feval:0.38902\n",
      "[444]\ttrain-feval:0.35683\tval-feval:0.38899\n",
      "[445]\ttrain-feval:0.35697\tval-feval:0.38896\n",
      "[446]\ttrain-feval:0.35701\tval-feval:0.38907\n",
      "[447]\ttrain-feval:0.35717\tval-feval:0.38921\n",
      "[448]\ttrain-feval:0.35725\tval-feval:0.38921\n",
      "[449]\ttrain-feval:0.35732\tval-feval:0.38941\n",
      "[450]\ttrain-feval:0.35757\tval-feval:0.38940\n",
      "[451]\ttrain-feval:0.35746\tval-feval:0.38949\n",
      "[452]\ttrain-feval:0.35754\tval-feval:0.38949\n",
      "[453]\ttrain-feval:0.35762\tval-feval:0.38958\n",
      "[454]\ttrain-feval:0.35764\tval-feval:0.38966\n",
      "[455]\ttrain-feval:0.35770\tval-feval:0.38962\n",
      "[456]\ttrain-feval:0.35787\tval-feval:0.38973\n",
      "[457]\ttrain-feval:0.35790\tval-feval:0.38976\n",
      "[458]\ttrain-feval:0.35795\tval-feval:0.38985\n",
      "[459]\ttrain-feval:0.35800\tval-feval:0.39001\n",
      "[460]\ttrain-feval:0.35802\tval-feval:0.38999\n",
      "[461]\ttrain-feval:0.35764\tval-feval:0.39119\n",
      "[462]\ttrain-feval:0.35815\tval-feval:0.39000\n",
      "[463]\ttrain-feval:0.35773\tval-feval:0.39124\n",
      "[464]\ttrain-feval:0.35783\tval-feval:0.39134\n",
      "[465]\ttrain-feval:0.35789\tval-feval:0.39126\n",
      "[466]\ttrain-feval:0.35799\tval-feval:0.39138\n",
      "[467]\ttrain-feval:0.35815\tval-feval:0.39148\n",
      "[468]\ttrain-feval:0.35833\tval-feval:0.39220\n",
      "[469]\ttrain-feval:0.35823\tval-feval:0.39221\n",
      "[470]\ttrain-feval:0.35826\tval-feval:0.39237\n",
      "[471]\ttrain-feval:0.35837\tval-feval:0.39236\n",
      "[472]\ttrain-feval:0.35844\tval-feval:0.39196\n",
      "[473]\ttrain-feval:0.35844\tval-feval:0.39192\n",
      "[474]\ttrain-feval:0.35851\tval-feval:0.39180\n",
      "[475]\ttrain-feval:0.35863\tval-feval:0.39188\n",
      "[476]\ttrain-feval:0.35868\tval-feval:0.39185\n",
      "[477]\ttrain-feval:0.35888\tval-feval:0.39269\n",
      "[478]\ttrain-feval:0.35893\tval-feval:0.39262\n",
      "[479]\ttrain-feval:0.35883\tval-feval:0.39308\n",
      "[480]\ttrain-feval:0.35899\tval-feval:0.39305\n",
      "[481]\ttrain-feval:0.35897\tval-feval:0.39317\n",
      "[482]\ttrain-feval:0.35908\tval-feval:0.39310\n",
      "[483]\ttrain-feval:0.35913\tval-feval:0.39312\n",
      "[484]\ttrain-feval:0.35914\tval-feval:0.39307\n",
      "[485]\ttrain-feval:0.35926\tval-feval:0.39313\n",
      "[486]\ttrain-feval:0.35930\tval-feval:0.39322\n",
      "[487]\ttrain-feval:0.35925\tval-feval:0.39328\n",
      "[488]\ttrain-feval:0.35955\tval-feval:0.39323\n",
      "[489]\ttrain-feval:0.35963\tval-feval:0.39325\n",
      "[490]\ttrain-feval:0.35968\tval-feval:0.39322\n",
      "[491]\ttrain-feval:0.35966\tval-feval:0.39320\n",
      "[492]\ttrain-feval:0.35965\tval-feval:0.39337\n",
      "[493]\ttrain-feval:0.35980\tval-feval:0.39339\n",
      "[494]\ttrain-feval:0.35985\tval-feval:0.39339\n",
      "[495]\ttrain-feval:0.35981\tval-feval:0.39332\n",
      "[496]\ttrain-feval:0.35992\tval-feval:0.39308\n",
      "[497]\ttrain-feval:0.35991\tval-feval:0.39304\n",
      "[498]\ttrain-feval:0.35998\tval-feval:0.39318\n",
      "[499]\ttrain-feval:0.35985\tval-feval:0.39313\n",
      "[500]\ttrain-feval:0.35998\tval-feval:0.39321\n",
      "[501]\ttrain-feval:0.35998\tval-feval:0.39320\n",
      "[502]\ttrain-feval:0.36007\tval-feval:0.39335\n",
      "[503]\ttrain-feval:0.36013\tval-feval:0.39336\n",
      "[504]\ttrain-feval:0.35983\tval-feval:0.39340\n",
      "[505]\ttrain-feval:0.36008\tval-feval:0.39365\n",
      "[506]\ttrain-feval:0.36017\tval-feval:0.39363\n",
      "[507]\ttrain-feval:0.36017\tval-feval:0.39368\n",
      "[508]\ttrain-feval:0.36021\tval-feval:0.39381\n",
      "[509]\ttrain-feval:0.36026\tval-feval:0.39377\n",
      "[510]\ttrain-feval:0.36037\tval-feval:0.39418\n",
      "[511]\ttrain-feval:0.36032\tval-feval:0.39419\n",
      "[512]\ttrain-feval:0.36045\tval-feval:0.39429\n",
      "[513]\ttrain-feval:0.36051\tval-feval:0.39430\n",
      "[514]\ttrain-feval:0.36048\tval-feval:0.39430\n",
      "[515]\ttrain-feval:0.36049\tval-feval:0.39481\n",
      "[516]\ttrain-feval:0.36049\tval-feval:0.39484\n",
      "[517]\ttrain-feval:0.36044\tval-feval:0.39484\n",
      "[518]\ttrain-feval:0.36050\tval-feval:0.39485\n",
      "[519]\ttrain-feval:0.36050\tval-feval:0.39482\n",
      "[520]\ttrain-feval:0.36053\tval-feval:0.39505\n",
      "[521]\ttrain-feval:0.36052\tval-feval:0.39499\n",
      "[522]\ttrain-feval:0.36068\tval-feval:0.39514\n",
      "[523]\ttrain-feval:0.36066\tval-feval:0.39510\n",
      "[524]\ttrain-feval:0.36070\tval-feval:0.39508\n",
      "[525]\ttrain-feval:0.36056\tval-feval:0.39499\n",
      "[526]\ttrain-feval:0.36061\tval-feval:0.39506\n",
      "[527]\ttrain-feval:0.36065\tval-feval:0.39512\n",
      "[528]\ttrain-feval:0.36066\tval-feval:0.39508\n",
      "[529]\ttrain-feval:0.36073\tval-feval:0.39510\n",
      "[530]\ttrain-feval:0.36079\tval-feval:0.39520\n",
      "[531]\ttrain-feval:0.36083\tval-feval:0.39523\n",
      "[532]\ttrain-feval:0.36083\tval-feval:0.39544\n",
      "[533]\ttrain-feval:0.36080\tval-feval:0.39541\n",
      "[534]\ttrain-feval:0.36086\tval-feval:0.39541\n",
      "[535]\ttrain-feval:0.36085\tval-feval:0.39536\n",
      "[536]\ttrain-feval:0.36090\tval-feval:0.39533\n",
      "[537]\ttrain-feval:0.36094\tval-feval:0.39535\n",
      "[538]\ttrain-feval:0.36101\tval-feval:0.39484\n",
      "[539]\ttrain-feval:0.36101\tval-feval:0.39482\n",
      "[540]\ttrain-feval:0.36102\tval-feval:0.39482\n",
      "[541]\ttrain-feval:0.36102\tval-feval:0.39483\n",
      "[542]\ttrain-feval:0.36105\tval-feval:0.39567\n",
      "[543]\ttrain-feval:0.36114\tval-feval:0.39594\n",
      "[544]\ttrain-feval:0.36109\tval-feval:0.39607\n",
      "[545]\ttrain-feval:0.36125\tval-feval:0.39640\n",
      "[546]\ttrain-feval:0.36123\tval-feval:0.39640\n",
      "[547]\ttrain-feval:0.36117\tval-feval:0.39646\n",
      "[548]\ttrain-feval:0.36106\tval-feval:0.39641\n",
      "[549]\ttrain-feval:0.36109\tval-feval:0.39649\n",
      "[550]\ttrain-feval:0.36102\tval-feval:0.39652\n",
      "[551]\ttrain-feval:0.36106\tval-feval:0.39650\n",
      "[552]\ttrain-feval:0.36108\tval-feval:0.39682\n",
      "[553]\ttrain-feval:0.36113\tval-feval:0.39686\n",
      "[554]\ttrain-feval:0.36128\tval-feval:0.39683\n",
      "[555]\ttrain-feval:0.36124\tval-feval:0.39682\n",
      "[556]\ttrain-feval:0.36124\tval-feval:0.39685\n",
      "[557]\ttrain-feval:0.36131\tval-feval:0.39694\n",
      "[558]\ttrain-feval:0.36137\tval-feval:0.39699\n",
      "[559]\ttrain-feval:0.36142\tval-feval:0.39662\n"
     ]
    },
    {
     "name": "stdout",
     "output_type": "stream",
     "text": [
      "[560]\ttrain-feval:0.36154\tval-feval:0.39658\n",
      "[561]\ttrain-feval:0.36154\tval-feval:0.39658\n",
      "[562]\ttrain-feval:0.36164\tval-feval:0.39672\n",
      "[563]\ttrain-feval:0.36155\tval-feval:0.39688\n",
      "[564]\ttrain-feval:0.36163\tval-feval:0.39696\n",
      "[565]\ttrain-feval:0.36166\tval-feval:0.39745\n",
      "[566]\ttrain-feval:0.36163\tval-feval:0.39748\n",
      "[567]\ttrain-feval:0.36156\tval-feval:0.39744\n",
      "[568]\ttrain-feval:0.36158\tval-feval:0.39743\n",
      "[569]\ttrain-feval:0.36160\tval-feval:0.39748\n",
      "[570]\ttrain-feval:0.36162\tval-feval:0.39748\n",
      "[571]\ttrain-feval:0.36166\tval-feval:0.39753\n",
      "[572]\ttrain-feval:0.36152\tval-feval:0.39756\n",
      "[573]\ttrain-feval:0.36153\tval-feval:0.39760\n",
      "[574]\ttrain-feval:0.36162\tval-feval:0.39760\n",
      "[575]\ttrain-feval:0.36164\tval-feval:0.39756\n",
      "[576]\ttrain-feval:0.36146\tval-feval:0.39763\n",
      "[577]\ttrain-feval:0.36150\tval-feval:0.39756\n",
      "[578]\ttrain-feval:0.36156\tval-feval:0.39765\n",
      "[579]\ttrain-feval:0.36177\tval-feval:0.39759\n",
      "[580]\ttrain-feval:0.36189\tval-feval:0.39763\n",
      "[581]\ttrain-feval:0.36173\tval-feval:0.39763\n",
      "[582]\ttrain-feval:0.36176\tval-feval:0.39773\n",
      "[583]\ttrain-feval:0.36178\tval-feval:0.39778\n",
      "[584]\ttrain-feval:0.36205\tval-feval:0.39795\n",
      "[585]\ttrain-feval:0.36194\tval-feval:0.39799\n",
      "[586]\ttrain-feval:0.36215\tval-feval:0.39798\n",
      "[587]\ttrain-feval:0.36227\tval-feval:0.39799\n",
      "[588]\ttrain-feval:0.36229\tval-feval:0.39801\n",
      "[589]\ttrain-feval:0.36243\tval-feval:0.39803\n",
      "[590]\ttrain-feval:0.36247\tval-feval:0.39809\n",
      "[591]\ttrain-feval:0.36268\tval-feval:0.39804\n",
      "[592]\ttrain-feval:0.36259\tval-feval:0.39804\n",
      "[593]\ttrain-feval:0.36264\tval-feval:0.39799\n",
      "[594]\ttrain-feval:0.36292\tval-feval:0.39796\n",
      "[595]\ttrain-feval:0.36278\tval-feval:0.39799\n",
      "[596]\ttrain-feval:0.36299\tval-feval:0.39793\n",
      "[597]\ttrain-feval:0.36298\tval-feval:0.39800\n",
      "[598]\ttrain-feval:0.36300\tval-feval:0.39793\n",
      "[599]\ttrain-feval:0.36286\tval-feval:0.39940\n",
      "[600]\ttrain-feval:0.36309\tval-feval:0.39946\n",
      "[601]\ttrain-feval:0.36312\tval-feval:0.39946\n",
      "[602]\ttrain-feval:0.36312\tval-feval:0.39943\n",
      "[603]\ttrain-feval:0.36319\tval-feval:0.39881\n",
      "[604]\ttrain-feval:0.36336\tval-feval:0.39918\n",
      "[605]\ttrain-feval:0.36341\tval-feval:0.39921\n",
      "[606]\ttrain-feval:0.36346\tval-feval:0.39924\n",
      "[607]\ttrain-feval:0.36355\tval-feval:0.39913\n",
      "[608]\ttrain-feval:0.36358\tval-feval:0.39913\n",
      "[609]\ttrain-feval:0.36360\tval-feval:0.39926\n",
      "[610]\ttrain-feval:0.36362\tval-feval:0.39920\n",
      "[611]\ttrain-feval:0.36359\tval-feval:0.39909\n",
      "Stopping. Best iteration:\n",
      "[601]\ttrain-feval:0.36312\tval-feval:0.39946\n",
      "\n"
     ]
    }
   ],
   "source": [
    "missing = 0\n",
    "dtrain = xgb.DMatrix(X_train, y_train, w_train, missing = missing)\n",
    "dfulltrain = xgb.DMatrix(X_full_train, y_full_train, w_full_train, missing = missing)\n",
    "dval = xgb.DMatrix(X_val, y_val, w_val, missing = missing)\n",
    "dsub = xgb.DMatrix(X_sub, y_sub, w_sub, missing = missing)\n",
    "# specify parameters via map\n",
    "param = {\n",
    "    'max_depth':4,\n",
    "    'eta':0.005,\n",
    "    'objective':'reg:squarederror',\n",
    "    'disable_default_eval_metric': 1,\n",
    "    \"min_child_weight\" : 10000,\n",
    "    \n",
    "#     'tree_method' : 'gpu_hist',\n",
    "}\n",
    "num_round = 800\n",
    "bst = xgb.train(param, dtrain,\n",
    "                num_round,\n",
    "                early_stopping_rounds = 10,\n",
    "                evals = [(dtrain, 'train'), (dval, 'val')],\n",
    "#                 obj = objective,\n",
    "                feval = feval,\n",
    "                maximize = True,\n",
    "                )"
   ]
  },
  {
   "cell_type": "code",
   "execution_count": 91,
   "metadata": {},
   "outputs": [
    {
     "data": {
      "text/plain": [
       "(1184780.54, 0.42690555638958694)"
      ]
     },
     "execution_count": 91,
     "metadata": {},
     "output_type": "execute_result"
    }
   ],
   "source": [
    "prediction = bst.predict(dsub, ntree_limit=bst.best_ntree_limit).astype(int)\n",
    "evaluate(prediction, y_sub, w_sub), evaluate_prop(prediction, y_sub, w_sub)"
   ]
  },
  {
   "cell_type": "code",
   "execution_count": 92,
   "metadata": {},
   "outputs": [
    {
     "data": {
      "text/plain": [
       "107806"
      ]
     },
     "execution_count": 92,
     "metadata": {},
     "output_type": "execute_result"
    }
   ],
   "source": [
    "prediction.sum() "
   ]
  },
  {
   "cell_type": "code",
   "execution_count": 93,
   "metadata": {},
   "outputs": [],
   "source": [
    "# retrain!"
   ]
  },
  {
   "cell_type": "code",
   "execution_count": 94,
   "metadata": {},
   "outputs": [
    {
     "data": {
      "text/plain": [
       "602"
      ]
     },
     "execution_count": 94,
     "metadata": {},
     "output_type": "execute_result"
    }
   ],
   "source": [
    "bst_sub = xgb.train(param, dfulltrain,\n",
    "    num_boost_round = bst.best_ntree_limit,\n",
    "    #                 obj = objective,\n",
    "    feval = feval, maximize = True,\n",
    "    evals = [(dfulltrain, 'ftrain')],\n",
    "    verbose_eval = False,\n",
    ")\n",
    "bst_sub.best_ntree_limit"
   ]
  },
  {
   "cell_type": "code",
   "execution_count": 95,
   "metadata": {},
   "outputs": [
    {
     "data": {
      "text/plain": [
       "(1172361.756, 0.4224307631986032)"
      ]
     },
     "execution_count": 95,
     "metadata": {},
     "output_type": "execute_result"
    }
   ],
   "source": [
    "prediction_new = bst_sub.predict(dsub, ntree_limit=bst_sub.best_ntree_limit).astype(int)\n",
    "evaluate(prediction_new, y_sub, w_sub), evaluate_prop(prediction_new, y_sub, w_sub)"
   ]
  },
  {
   "cell_type": "code",
   "execution_count": 96,
   "metadata": {},
   "outputs": [],
   "source": [
    "new_preds = {item : pred for item, pred in zip(i_sub, prediction_new)}"
   ]
  },
  {
   "cell_type": "code",
   "execution_count": null,
   "metadata": {},
   "outputs": [],
   "source": []
  },
  {
   "cell_type": "code",
   "execution_count": 102,
   "metadata": {},
   "outputs": [],
   "source": [
    "# some other things below"
   ]
  },
  {
   "cell_type": "code",
   "execution_count": 103,
   "metadata": {},
   "outputs": [
    {
     "data": {
      "text/plain": [
       "61272.24000000001"
      ]
     },
     "execution_count": 103,
     "metadata": {},
     "output_type": "execute_result"
    }
   ],
   "source": [
    "# max possible score\n",
    "evaluate(y_sub, y_sub, w_sub)"
   ]
  },
  {
   "cell_type": "code",
   "execution_count": 104,
   "metadata": {},
   "outputs": [],
   "source": [
    "# using previous weekpair\n",
    "# evaluate(y_val, y_sub, w_sub)"
   ]
  },
  {
   "cell_type": "code",
   "execution_count": null,
   "metadata": {},
   "outputs": [],
   "source": []
  },
  {
   "cell_type": "code",
   "execution_count": null,
   "metadata": {},
   "outputs": [],
   "source": []
  },
  {
   "cell_type": "code",
   "execution_count": 115,
   "metadata": {},
   "outputs": [],
   "source": [
    "preds = {**old_preds, **new_preds}"
   ]
  },
  {
   "cell_type": "code",
   "execution_count": 116,
   "metadata": {},
   "outputs": [
    {
     "data": {
      "text/plain": [
       "(10463, 10463, 9735, 728)"
      ]
     },
     "execution_count": 116,
     "metadata": {},
     "output_type": "execute_result"
    }
   ],
   "source": [
    "len(preds), len(infos), len(old_preds), len(new_preds)"
   ]
  },
  {
   "cell_type": "code",
   "execution_count": 110,
   "metadata": {},
   "outputs": [
    {
     "data": {
      "text/html": [
       "<div>\n",
       "<style scoped>\n",
       "    .dataframe tbody tr th:only-of-type {\n",
       "        vertical-align: middle;\n",
       "    }\n",
       "\n",
       "    .dataframe tbody tr th {\n",
       "        vertical-align: top;\n",
       "    }\n",
       "\n",
       "    .dataframe thead th {\n",
       "        text-align: right;\n",
       "    }\n",
       "</style>\n",
       "<table border=\"1\" class=\"dataframe\">\n",
       "  <thead>\n",
       "    <tr style=\"text-align: right;\">\n",
       "      <th></th>\n",
       "      <th>itemID</th>\n",
       "      <th>demandPrediction</th>\n",
       "    </tr>\n",
       "  </thead>\n",
       "  <tbody>\n",
       "    <tr>\n",
       "      <th>0</th>\n",
       "      <td>1</td>\n",
       "      <td>17</td>\n",
       "    </tr>\n",
       "    <tr>\n",
       "      <th>1</th>\n",
       "      <td>2</td>\n",
       "      <td>31</td>\n",
       "    </tr>\n",
       "    <tr>\n",
       "      <th>2</th>\n",
       "      <td>3</td>\n",
       "      <td>7</td>\n",
       "    </tr>\n",
       "    <tr>\n",
       "      <th>3</th>\n",
       "      <td>4</td>\n",
       "      <td>15</td>\n",
       "    </tr>\n",
       "    <tr>\n",
       "      <th>4</th>\n",
       "      <td>5</td>\n",
       "      <td>20</td>\n",
       "    </tr>\n",
       "  </tbody>\n",
       "</table>\n",
       "</div>"
      ],
      "text/plain": [
       "   itemID  demandPrediction\n",
       "0       1                17\n",
       "1       2                31\n",
       "2       3                 7\n",
       "3       4                15\n",
       "4       5                20"
      ]
     },
     "execution_count": 110,
     "metadata": {},
     "output_type": "execute_result"
    }
   ],
   "source": [
    "# submission = items[['itemID']].copy()\n",
    "# submission['demandPrediction'] = items[\"itemID\"].map(preds)\n",
    "# submission.to_csv('../../submissions/final_submission.csv', sep = '|', index=False)\n",
    "# submission.head()"
   ]
  },
  {
   "cell_type": "code",
   "execution_count": 114,
   "metadata": {},
   "outputs": [
    {
     "data": {
      "text/plain": [
       "0"
      ]
     },
     "execution_count": 114,
     "metadata": {},
     "output_type": "execute_result"
    }
   ],
   "source": [
    "(submission[\"demandPrediction\"] == 0).sum()"
   ]
  }
 ],
 "metadata": {
  "kernelspec": {
   "display_name": "Python 3",
   "language": "python",
   "name": "python3"
  },
  "language_info": {
   "codemirror_mode": {
    "name": "ipython",
    "version": 3
   },
   "file_extension": ".py",
   "mimetype": "text/x-python",
   "name": "python",
   "nbconvert_exporter": "python",
   "pygments_lexer": "ipython3",
   "version": "3.7.7"
  }
 },
 "nbformat": 4,
 "nbformat_minor": 4
}
