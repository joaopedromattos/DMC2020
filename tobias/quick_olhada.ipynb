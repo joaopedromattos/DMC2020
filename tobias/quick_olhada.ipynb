{
 "cells": [
  {
   "cell_type": "code",
   "execution_count": 1,
   "metadata": {},
   "outputs": [],
   "source": [
    "import matplotlib.pyplot as plt\n",
    "import numpy as np\n",
    "import pandas as pd"
   ]
  },
  {
   "cell_type": "code",
   "execution_count": null,
   "metadata": {},
   "outputs": [],
   "source": []
  },
  {
   "cell_type": "markdown",
   "metadata": {},
   "source": [
    "# EDA\n",
    "<hr>"
   ]
  },
  {
   "cell_type": "markdown",
   "metadata": {},
   "source": [
    "## Table infos"
   ]
  },
  {
   "cell_type": "code",
   "execution_count": 2,
   "metadata": {},
   "outputs": [],
   "source": [
    "infos = pd.read_csv('infos.csv', sep = '|')"
   ]
  },
  {
   "cell_type": "code",
   "execution_count": 3,
   "metadata": {},
   "outputs": [
    {
     "data": {
      "text/html": [
       "<div>\n",
       "<style scoped>\n",
       "    .dataframe tbody tr th:only-of-type {\n",
       "        vertical-align: middle;\n",
       "    }\n",
       "\n",
       "    .dataframe tbody tr th {\n",
       "        vertical-align: top;\n",
       "    }\n",
       "\n",
       "    .dataframe thead th {\n",
       "        text-align: right;\n",
       "    }\n",
       "</style>\n",
       "<table border=\"1\" class=\"dataframe\">\n",
       "  <thead>\n",
       "    <tr style=\"text-align: right;\">\n",
       "      <th></th>\n",
       "      <th>itemID</th>\n",
       "      <th>simulationPrice</th>\n",
       "      <th>promotion</th>\n",
       "    </tr>\n",
       "  </thead>\n",
       "  <tbody>\n",
       "    <tr>\n",
       "      <th>0</th>\n",
       "      <td>1</td>\n",
       "      <td>3.43</td>\n",
       "      <td>NaN</td>\n",
       "    </tr>\n",
       "    <tr>\n",
       "      <th>1</th>\n",
       "      <td>2</td>\n",
       "      <td>9.15</td>\n",
       "      <td>NaN</td>\n",
       "    </tr>\n",
       "    <tr>\n",
       "      <th>2</th>\n",
       "      <td>3</td>\n",
       "      <td>14.04</td>\n",
       "      <td>NaN</td>\n",
       "    </tr>\n",
       "    <tr>\n",
       "      <th>3</th>\n",
       "      <td>4</td>\n",
       "      <td>14.10</td>\n",
       "      <td>NaN</td>\n",
       "    </tr>\n",
       "    <tr>\n",
       "      <th>4</th>\n",
       "      <td>5</td>\n",
       "      <td>7.48</td>\n",
       "      <td>NaN</td>\n",
       "    </tr>\n",
       "  </tbody>\n",
       "</table>\n",
       "</div>"
      ],
      "text/plain": [
       "   itemID  simulationPrice promotion\n",
       "0       1             3.43       NaN\n",
       "1       2             9.15       NaN\n",
       "2       3            14.04       NaN\n",
       "3       4            14.10       NaN\n",
       "4       5             7.48       NaN"
      ]
     },
     "execution_count": 3,
     "metadata": {},
     "output_type": "execute_result"
    }
   ],
   "source": [
    "infos.head()"
   ]
  },
  {
   "cell_type": "code",
   "execution_count": 4,
   "metadata": {},
   "outputs": [
    {
     "data": {
      "text/plain": [
       "(10463, 3)"
      ]
     },
     "execution_count": 4,
     "metadata": {},
     "output_type": "execute_result"
    }
   ],
   "source": [
    "infos.shape"
   ]
  },
  {
   "cell_type": "code",
   "execution_count": 5,
   "metadata": {},
   "outputs": [
    {
     "data": {
      "text/plain": [
       "itemID                0\n",
       "simulationPrice       0\n",
       "promotion          8620\n",
       "dtype: int64"
      ]
     },
     "execution_count": 5,
     "metadata": {},
     "output_type": "execute_result"
    }
   ],
   "source": [
    "len(infos) - infos.count()"
   ]
  },
  {
   "cell_type": "code",
   "execution_count": null,
   "metadata": {},
   "outputs": [],
   "source": []
  },
  {
   "cell_type": "markdown",
   "metadata": {},
   "source": [
    "## Table items"
   ]
  },
  {
   "cell_type": "code",
   "execution_count": 6,
   "metadata": {},
   "outputs": [],
   "source": [
    "items = pd.read_csv('items.csv', sep = '|')"
   ]
  },
  {
   "cell_type": "code",
   "execution_count": 7,
   "metadata": {},
   "outputs": [
    {
     "data": {
      "text/html": [
       "<div>\n",
       "<style scoped>\n",
       "    .dataframe tbody tr th:only-of-type {\n",
       "        vertical-align: middle;\n",
       "    }\n",
       "\n",
       "    .dataframe tbody tr th {\n",
       "        vertical-align: top;\n",
       "    }\n",
       "\n",
       "    .dataframe thead th {\n",
       "        text-align: right;\n",
       "    }\n",
       "</style>\n",
       "<table border=\"1\" class=\"dataframe\">\n",
       "  <thead>\n",
       "    <tr style=\"text-align: right;\">\n",
       "      <th></th>\n",
       "      <th>itemID</th>\n",
       "      <th>brand</th>\n",
       "      <th>manufacturer</th>\n",
       "      <th>customerRating</th>\n",
       "      <th>category1</th>\n",
       "      <th>category2</th>\n",
       "      <th>category3</th>\n",
       "      <th>recommendedRetailPrice</th>\n",
       "    </tr>\n",
       "  </thead>\n",
       "  <tbody>\n",
       "    <tr>\n",
       "      <th>0</th>\n",
       "      <td>1</td>\n",
       "      <td>0</td>\n",
       "      <td>1</td>\n",
       "      <td>4.38</td>\n",
       "      <td>1</td>\n",
       "      <td>1</td>\n",
       "      <td>1</td>\n",
       "      <td>8.84</td>\n",
       "    </tr>\n",
       "    <tr>\n",
       "      <th>1</th>\n",
       "      <td>2</td>\n",
       "      <td>0</td>\n",
       "      <td>2</td>\n",
       "      <td>3.00</td>\n",
       "      <td>1</td>\n",
       "      <td>2</td>\n",
       "      <td>1</td>\n",
       "      <td>16.92</td>\n",
       "    </tr>\n",
       "    <tr>\n",
       "      <th>2</th>\n",
       "      <td>3</td>\n",
       "      <td>0</td>\n",
       "      <td>3</td>\n",
       "      <td>5.00</td>\n",
       "      <td>1</td>\n",
       "      <td>3</td>\n",
       "      <td>1</td>\n",
       "      <td>15.89</td>\n",
       "    </tr>\n",
       "    <tr>\n",
       "      <th>3</th>\n",
       "      <td>4</td>\n",
       "      <td>0</td>\n",
       "      <td>2</td>\n",
       "      <td>4.44</td>\n",
       "      <td>1</td>\n",
       "      <td>2</td>\n",
       "      <td>1</td>\n",
       "      <td>40.17</td>\n",
       "    </tr>\n",
       "    <tr>\n",
       "      <th>4</th>\n",
       "      <td>5</td>\n",
       "      <td>0</td>\n",
       "      <td>2</td>\n",
       "      <td>2.33</td>\n",
       "      <td>1</td>\n",
       "      <td>1</td>\n",
       "      <td>1</td>\n",
       "      <td>17.04</td>\n",
       "    </tr>\n",
       "  </tbody>\n",
       "</table>\n",
       "</div>"
      ],
      "text/plain": [
       "   itemID  brand  manufacturer  customerRating  category1  category2  \\\n",
       "0       1      0             1            4.38          1          1   \n",
       "1       2      0             2            3.00          1          2   \n",
       "2       3      0             3            5.00          1          3   \n",
       "3       4      0             2            4.44          1          2   \n",
       "4       5      0             2            2.33          1          1   \n",
       "\n",
       "   category3  recommendedRetailPrice  \n",
       "0          1                    8.84  \n",
       "1          1                   16.92  \n",
       "2          1                   15.89  \n",
       "3          1                   40.17  \n",
       "4          1                   17.04  "
      ]
     },
     "execution_count": 7,
     "metadata": {},
     "output_type": "execute_result"
    }
   ],
   "source": [
    "items.head()"
   ]
  },
  {
   "cell_type": "code",
   "execution_count": 8,
   "metadata": {},
   "outputs": [
    {
     "data": {
      "text/plain": [
       "(10463, 8)"
      ]
     },
     "execution_count": 8,
     "metadata": {},
     "output_type": "execute_result"
    }
   ],
   "source": [
    "items.shape"
   ]
  },
  {
   "cell_type": "code",
   "execution_count": 9,
   "metadata": {},
   "outputs": [
    {
     "data": {
      "text/plain": [
       "itemID                    10463\n",
       "brand                     10463\n",
       "manufacturer              10463\n",
       "customerRating            10463\n",
       "category1                 10463\n",
       "category2                 10463\n",
       "category3                 10463\n",
       "recommendedRetailPrice    10463\n",
       "dtype: int64"
      ]
     },
     "execution_count": 9,
     "metadata": {},
     "output_type": "execute_result"
    }
   ],
   "source": [
    "items.count()"
   ]
  },
  {
   "cell_type": "code",
   "execution_count": 10,
   "metadata": {},
   "outputs": [
    {
     "data": {
      "text/plain": [
       "itemID                    10463\n",
       "brand                       275\n",
       "manufacturer                253\n",
       "customerRating               99\n",
       "category1                     8\n",
       "category2                    52\n",
       "category3                     8\n",
       "recommendedRetailPrice     5106\n",
       "dtype: int64"
      ]
     },
     "execution_count": 10,
     "metadata": {},
     "output_type": "execute_result"
    }
   ],
   "source": [
    "items.nunique()"
   ]
  },
  {
   "cell_type": "code",
   "execution_count": null,
   "metadata": {},
   "outputs": [],
   "source": []
  },
  {
   "cell_type": "markdown",
   "metadata": {},
   "source": [
    "## Table orders"
   ]
  },
  {
   "cell_type": "code",
   "execution_count": 11,
   "metadata": {},
   "outputs": [],
   "source": [
    "orders = pd.read_csv('orders.csv', sep = '|', parse_dates=['time'])"
   ]
  },
  {
   "cell_type": "code",
   "execution_count": 12,
   "metadata": {},
   "outputs": [
    {
     "data": {
      "text/html": [
       "<div>\n",
       "<style scoped>\n",
       "    .dataframe tbody tr th:only-of-type {\n",
       "        vertical-align: middle;\n",
       "    }\n",
       "\n",
       "    .dataframe tbody tr th {\n",
       "        vertical-align: top;\n",
       "    }\n",
       "\n",
       "    .dataframe thead th {\n",
       "        text-align: right;\n",
       "    }\n",
       "</style>\n",
       "<table border=\"1\" class=\"dataframe\">\n",
       "  <thead>\n",
       "    <tr style=\"text-align: right;\">\n",
       "      <th></th>\n",
       "      <th>time</th>\n",
       "      <th>transactID</th>\n",
       "      <th>itemID</th>\n",
       "      <th>order</th>\n",
       "      <th>salesPrice</th>\n",
       "    </tr>\n",
       "  </thead>\n",
       "  <tbody>\n",
       "    <tr>\n",
       "      <th>0</th>\n",
       "      <td>2018-01-01 00:01:56</td>\n",
       "      <td>2278968</td>\n",
       "      <td>450</td>\n",
       "      <td>1</td>\n",
       "      <td>17.42</td>\n",
       "    </tr>\n",
       "    <tr>\n",
       "      <th>1</th>\n",
       "      <td>2018-01-01 00:01:56</td>\n",
       "      <td>2278968</td>\n",
       "      <td>83</td>\n",
       "      <td>1</td>\n",
       "      <td>5.19</td>\n",
       "    </tr>\n",
       "    <tr>\n",
       "      <th>2</th>\n",
       "      <td>2018-01-01 00:07:11</td>\n",
       "      <td>2255797</td>\n",
       "      <td>7851</td>\n",
       "      <td>2</td>\n",
       "      <td>20.47</td>\n",
       "    </tr>\n",
       "    <tr>\n",
       "      <th>3</th>\n",
       "      <td>2018-01-01 00:09:24</td>\n",
       "      <td>2278968</td>\n",
       "      <td>450</td>\n",
       "      <td>1</td>\n",
       "      <td>17.42</td>\n",
       "    </tr>\n",
       "    <tr>\n",
       "      <th>4</th>\n",
       "      <td>2018-01-01 00:09:24</td>\n",
       "      <td>2278968</td>\n",
       "      <td>83</td>\n",
       "      <td>1</td>\n",
       "      <td>5.19</td>\n",
       "    </tr>\n",
       "  </tbody>\n",
       "</table>\n",
       "</div>"
      ],
      "text/plain": [
       "                 time  transactID  itemID  order  salesPrice\n",
       "0 2018-01-01 00:01:56     2278968     450      1       17.42\n",
       "1 2018-01-01 00:01:56     2278968      83      1        5.19\n",
       "2 2018-01-01 00:07:11     2255797    7851      2       20.47\n",
       "3 2018-01-01 00:09:24     2278968     450      1       17.42\n",
       "4 2018-01-01 00:09:24     2278968      83      1        5.19"
      ]
     },
     "execution_count": 12,
     "metadata": {},
     "output_type": "execute_result"
    }
   ],
   "source": [
    "orders.head()"
   ]
  },
  {
   "cell_type": "code",
   "execution_count": 13,
   "metadata": {},
   "outputs": [
    {
     "data": {
      "text/plain": [
       "(2181955, 5)"
      ]
     },
     "execution_count": 13,
     "metadata": {},
     "output_type": "execute_result"
    }
   ],
   "source": [
    "orders.shape"
   ]
  },
  {
   "cell_type": "code",
   "execution_count": 14,
   "metadata": {},
   "outputs": [
    {
     "data": {
      "text/plain": [
       "time          2181955\n",
       "transactID    2181955\n",
       "itemID        2181955\n",
       "order         2181955\n",
       "salesPrice    2181955\n",
       "dtype: int64"
      ]
     },
     "execution_count": 14,
     "metadata": {},
     "output_type": "execute_result"
    }
   ],
   "source": [
    "orders.count()"
   ]
  },
  {
   "cell_type": "code",
   "execution_count": 15,
   "metadata": {},
   "outputs": [
    {
     "data": {
      "text/plain": [
       "time          datetime64[ns]\n",
       "transactID             int64\n",
       "itemID                 int64\n",
       "order                  int64\n",
       "salesPrice           float64\n",
       "dtype: object"
      ]
     },
     "execution_count": 15,
     "metadata": {},
     "output_type": "execute_result"
    }
   ],
   "source": [
    "orders.dtypes"
   ]
  },
  {
   "cell_type": "code",
   "execution_count": 16,
   "metadata": {},
   "outputs": [
    {
     "data": {
      "text/plain": [
       "0         2018-01-01 00:01:56\n",
       "1         2018-01-01 00:01:56\n",
       "2         2018-01-01 00:07:11\n",
       "3         2018-01-01 00:09:24\n",
       "4         2018-01-01 00:09:24\n",
       "                  ...        \n",
       "2181950   2018-06-29 23:54:22\n",
       "2181951   2018-06-29 23:55:09\n",
       "2181952   2018-06-29 23:55:09\n",
       "2181953   2018-06-29 23:55:09\n",
       "2181954   2018-06-29 23:57:01\n",
       "Name: time, Length: 2181955, dtype: datetime64[ns]"
      ]
     },
     "execution_count": 16,
     "metadata": {},
     "output_type": "execute_result"
    }
   ],
   "source": [
    "orders.time"
   ]
  },
  {
   "cell_type": "code",
   "execution_count": 17,
   "metadata": {},
   "outputs": [
    {
     "data": {
      "text/plain": [
       "0           1\n",
       "1           1\n",
       "2           1\n",
       "3           1\n",
       "4           1\n",
       "           ..\n",
       "2181950    26\n",
       "2181951    26\n",
       "2181952    26\n",
       "2181953    26\n",
       "2181954    26\n",
       "Name: time, Length: 2181955, dtype: int64"
      ]
     },
     "execution_count": 17,
     "metadata": {},
     "output_type": "execute_result"
    }
   ],
   "source": [
    "orders.time.dt.week"
   ]
  },
  {
   "cell_type": "code",
   "execution_count": 18,
   "metadata": {},
   "outputs": [
    {
     "data": {
      "text/plain": [
       "22"
      ]
     },
     "execution_count": 18,
     "metadata": {},
     "output_type": "execute_result"
    }
   ],
   "source": [
    "orders.groupby('itemID')['salesPrice'].nunique().max()"
   ]
  },
  {
   "cell_type": "code",
   "execution_count": null,
   "metadata": {},
   "outputs": [],
   "source": []
  },
  {
   "cell_type": "markdown",
   "metadata": {},
   "source": [
    "# Other things\n",
    "<hr>"
   ]
  },
  {
   "cell_type": "markdown",
   "metadata": {},
   "source": [
    "## Evalutation function"
   ]
  },
  {
   "cell_type": "code",
   "execution_count": 19,
   "metadata": {},
   "outputs": [],
   "source": [
    "# custo \n",
    "# np.sum((prediction - np.maximum(prediction - target, 0) * 1.6) * simulatedPrice)"
   ]
  },
  {
   "cell_type": "code",
   "execution_count": null,
   "metadata": {},
   "outputs": [],
   "source": []
  },
  {
   "cell_type": "markdown",
   "metadata": {},
   "source": [
    "## Submission structure"
   ]
  },
  {
   "cell_type": "code",
   "execution_count": 20,
   "metadata": {},
   "outputs": [],
   "source": [
    "# submission = items[['itemID']]\n",
    "# submission['demandPrediction'] = 0 # prediction here\n",
    "# submission.to_csv('submission.csv', sep = '|', index=False)"
   ]
  },
  {
   "cell_type": "code",
   "execution_count": null,
   "metadata": {},
   "outputs": [],
   "source": []
  },
  {
   "cell_type": "code",
   "execution_count": null,
   "metadata": {},
   "outputs": [],
   "source": []
  },
  {
   "cell_type": "markdown",
   "metadata": {},
   "source": [
    "# First Model (aggregating by every two weeks before target)"
   ]
  },
  {
   "cell_type": "markdown",
   "metadata": {},
   "source": [
    "## - Creating the structure"
   ]
  },
  {
   "cell_type": "code",
   "execution_count": 173,
   "metadata": {},
   "outputs": [],
   "source": [
    "df = orders.copy()"
   ]
  },
  {
   "cell_type": "code",
   "execution_count": 174,
   "metadata": {},
   "outputs": [
    {
     "data": {
      "text/html": [
       "<div>\n",
       "<style scoped>\n",
       "    .dataframe tbody tr th:only-of-type {\n",
       "        vertical-align: middle;\n",
       "    }\n",
       "\n",
       "    .dataframe tbody tr th {\n",
       "        vertical-align: top;\n",
       "    }\n",
       "\n",
       "    .dataframe thead th {\n",
       "        text-align: right;\n",
       "    }\n",
       "</style>\n",
       "<table border=\"1\" class=\"dataframe\">\n",
       "  <thead>\n",
       "    <tr style=\"text-align: right;\">\n",
       "      <th></th>\n",
       "      <th>time</th>\n",
       "      <th>transactID</th>\n",
       "      <th>itemID</th>\n",
       "      <th>order</th>\n",
       "      <th>salesPrice</th>\n",
       "    </tr>\n",
       "  </thead>\n",
       "  <tbody>\n",
       "    <tr>\n",
       "      <th>2181950</th>\n",
       "      <td>2018-06-29 23:54:22</td>\n",
       "      <td>2040347</td>\n",
       "      <td>9217</td>\n",
       "      <td>1</td>\n",
       "      <td>23.50</td>\n",
       "    </tr>\n",
       "    <tr>\n",
       "      <th>2181951</th>\n",
       "      <td>2018-06-29 23:55:09</td>\n",
       "      <td>2260943</td>\n",
       "      <td>2175</td>\n",
       "      <td>1</td>\n",
       "      <td>11.60</td>\n",
       "    </tr>\n",
       "    <tr>\n",
       "      <th>2181952</th>\n",
       "      <td>2018-06-29 23:55:09</td>\n",
       "      <td>2260943</td>\n",
       "      <td>2061</td>\n",
       "      <td>1</td>\n",
       "      <td>1.03</td>\n",
       "    </tr>\n",
       "    <tr>\n",
       "      <th>2181953</th>\n",
       "      <td>2018-06-29 23:55:09</td>\n",
       "      <td>2260943</td>\n",
       "      <td>2195</td>\n",
       "      <td>1</td>\n",
       "      <td>18.73</td>\n",
       "    </tr>\n",
       "    <tr>\n",
       "      <th>2181954</th>\n",
       "      <td>2018-06-29 23:57:01</td>\n",
       "      <td>2525</td>\n",
       "      <td>8462</td>\n",
       "      <td>1</td>\n",
       "      <td>18.93</td>\n",
       "    </tr>\n",
       "  </tbody>\n",
       "</table>\n",
       "</div>"
      ],
      "text/plain": [
       "                       time  transactID  itemID  order  salesPrice\n",
       "2181950 2018-06-29 23:54:22     2040347    9217      1       23.50\n",
       "2181951 2018-06-29 23:55:09     2260943    2175      1       11.60\n",
       "2181952 2018-06-29 23:55:09     2260943    2061      1        1.03\n",
       "2181953 2018-06-29 23:55:09     2260943    2195      1       18.73\n",
       "2181954 2018-06-29 23:57:01        2525    8462      1       18.93"
      ]
     },
     "execution_count": 174,
     "metadata": {},
     "output_type": "execute_result"
    }
   ],
   "source": [
    "df.tail()"
   ]
  },
  {
   "cell_type": "code",
   "execution_count": 175,
   "metadata": {},
   "outputs": [
    {
     "data": {
      "text/plain": [
       "2181950    4\n",
       "2181951    4\n",
       "2181952    4\n",
       "2181953    4\n",
       "2181954    4\n",
       "Name: time, dtype: int64"
      ]
     },
     "execution_count": 175,
     "metadata": {},
     "output_type": "execute_result"
    }
   ],
   "source": [
    "df.tail().time.dt.dayofweek"
   ]
  },
  {
   "cell_type": "code",
   "execution_count": 176,
   "metadata": {},
   "outputs": [],
   "source": [
    "# We want the last dayofweek from training to be 6"
   ]
  },
  {
   "cell_type": "code",
   "execution_count": 177,
   "metadata": {},
   "outputs": [
    {
     "data": {
      "text/plain": [
       "2181950    26\n",
       "2181951    26\n",
       "2181952    26\n",
       "2181953    26\n",
       "2181954    26\n",
       "Name: time, dtype: int64"
      ]
     },
     "execution_count": 177,
     "metadata": {},
     "output_type": "execute_result"
    }
   ],
   "source": [
    "(df.tail().time.dt.dayofyear + 2) // 7"
   ]
  },
  {
   "cell_type": "code",
   "execution_count": 178,
   "metadata": {},
   "outputs": [
    {
     "data": {
      "text/plain": [
       "0    0\n",
       "1    0\n",
       "2    0\n",
       "3    0\n",
       "4    0\n",
       "Name: time, dtype: int64"
      ]
     },
     "execution_count": 178,
     "metadata": {},
     "output_type": "execute_result"
    }
   ],
   "source": [
    "(df.head().time.dt.dayofyear + 2) // 7"
   ]
  },
  {
   "cell_type": "code",
   "execution_count": 179,
   "metadata": {},
   "outputs": [],
   "source": [
    "df['week'] = (df.time.dt.dayofyear + 2 + 7) // 14\n",
    "# + 7 because we want weeks 25 and 26 to be together, week 0 will be discarded"
   ]
  },
  {
   "cell_type": "code",
   "execution_count": 180,
   "metadata": {},
   "outputs": [
    {
     "data": {
      "text/plain": [
       "(0, 13)"
      ]
     },
     "execution_count": 180,
     "metadata": {},
     "output_type": "execute_result"
    }
   ],
   "source": [
    "maxx = df.week.max()\n",
    "minn = df.week.min()\n",
    "minn, maxx"
   ]
  },
  {
   "cell_type": "code",
   "execution_count": 181,
   "metadata": {},
   "outputs": [
    {
     "name": "stdout",
     "output_type": "stream",
     "text": [
      "total number of items: 10463\n",
      "expected number of instances: 146482\n"
     ]
    }
   ],
   "source": [
    "n_items = items['itemID'].nunique()\n",
    "print('total number of items:', n_items)\n",
    "print('expected number of instances:', n_items * (maxx + 1))"
   ]
  },
  {
   "cell_type": "code",
   "execution_count": 217,
   "metadata": {},
   "outputs": [],
   "source": [
    "mi = pd.MultiIndex.from_product([range(0, maxx + 1), items['itemID']], names=['week', 'itemID'])\n",
    "data = pd.DataFrame(index = mi)"
   ]
  },
  {
   "cell_type": "code",
   "execution_count": 218,
   "metadata": {},
   "outputs": [],
   "source": [
    "data = data.join(df.groupby(['week', 'itemID'])[['order']].sum(), how = 'left')"
   ]
  },
  {
   "cell_type": "code",
   "execution_count": 219,
   "metadata": {},
   "outputs": [],
   "source": [
    "data.fillna(0, inplace = True)"
   ]
  },
  {
   "cell_type": "code",
   "execution_count": 221,
   "metadata": {},
   "outputs": [
    {
     "data": {
      "text/plain": [
       "order    14\n",
       "dtype: int64"
      ]
     },
     "execution_count": 221,
     "metadata": {},
     "output_type": "execute_result"
    }
   ],
   "source": [
    "data.groupby('itemID').count().min()"
   ]
  },
  {
   "cell_type": "code",
   "execution_count": null,
   "metadata": {},
   "outputs": [],
   "source": []
  },
  {
   "cell_type": "code",
   "execution_count": null,
   "metadata": {},
   "outputs": [],
   "source": []
  },
  {
   "cell_type": "markdown",
   "metadata": {},
   "source": [
    "## - Creating features"
   ]
  },
  {
   "cell_type": "code",
   "execution_count": 243,
   "metadata": {},
   "outputs": [
    {
     "data": {
      "text/html": [
       "<div>\n",
       "<style scoped>\n",
       "    .dataframe tbody tr th:only-of-type {\n",
       "        vertical-align: middle;\n",
       "    }\n",
       "\n",
       "    .dataframe tbody tr th {\n",
       "        vertical-align: top;\n",
       "    }\n",
       "\n",
       "    .dataframe thead th {\n",
       "        text-align: right;\n",
       "    }\n",
       "</style>\n",
       "<table border=\"1\" class=\"dataframe\">\n",
       "  <thead>\n",
       "    <tr style=\"text-align: right;\">\n",
       "      <th></th>\n",
       "      <th>B</th>\n",
       "    </tr>\n",
       "  </thead>\n",
       "  <tbody>\n",
       "    <tr>\n",
       "      <th>0</th>\n",
       "      <td>NaN</td>\n",
       "    </tr>\n",
       "    <tr>\n",
       "      <th>1</th>\n",
       "      <td>NaN</td>\n",
       "    </tr>\n",
       "    <tr>\n",
       "      <th>2</th>\n",
       "      <td>1.0</td>\n",
       "    </tr>\n",
       "    <tr>\n",
       "      <th>3</th>\n",
       "      <td>3.0</td>\n",
       "    </tr>\n",
       "    <tr>\n",
       "      <th>4</th>\n",
       "      <td>5.0</td>\n",
       "    </tr>\n",
       "  </tbody>\n",
       "</table>\n",
       "</div>"
      ],
      "text/plain": [
       "     B\n",
       "0  NaN\n",
       "1  NaN\n",
       "2  1.0\n",
       "3  3.0\n",
       "4  5.0"
      ]
     },
     "execution_count": 243,
     "metadata": {},
     "output_type": "execute_result"
    }
   ],
   "source": [
    "# rolling window example with shift\n",
    "random_df = pd.DataFrame({'B': [0, 1, 2, 3, 4]})\n",
    "random_df.shift(1).rolling(2).sum()"
   ]
  },
  {
   "cell_type": "code",
   "execution_count": null,
   "metadata": {},
   "outputs": [],
   "source": []
  },
  {
   "cell_type": "code",
   "execution_count": null,
   "metadata": {},
   "outputs": [],
   "source": [
    "# I am going to create three features: the mean of the orders of the last [1, 2, 4] weeks for each item "
   ]
  },
  {
   "cell_type": "code",
   "execution_count": 222,
   "metadata": {},
   "outputs": [],
   "source": [
    "data.sort_values('week', inplace = True)"
   ]
  },
  {
   "cell_type": "code",
   "execution_count": 223,
   "metadata": {},
   "outputs": [],
   "source": [
    "shifted = data.groupby('itemID')[['order']].shift(1)\n",
    "for n in range(3):\n",
    "    rolled = shifted.groupby('itemID', as_index = False)['order'].rolling(2 ** n).mean()\n",
    "    data['order_%d' % (2 ** n)] = rolled.reset_index(0, drop = True) # rolling has a weird index behavior..."
   ]
  },
  {
   "cell_type": "code",
   "execution_count": 224,
   "metadata": {},
   "outputs": [
    {
     "data": {
      "text/plain": [
       "order      146482\n",
       "order_1    136019\n",
       "order_2    125556\n",
       "order_4    104630\n",
       "dtype: int64"
      ]
     },
     "execution_count": 224,
     "metadata": {},
     "output_type": "execute_result"
    }
   ],
   "source": [
    "data.count() # the larger the window, more NaN are expected"
   ]
  },
  {
   "cell_type": "code",
   "execution_count": 225,
   "metadata": {},
   "outputs": [],
   "source": [
    "data.fillna(-1, inplace=True)"
   ]
  },
  {
   "cell_type": "code",
   "execution_count": 241,
   "metadata": {},
   "outputs": [
    {
     "data": {
      "text/html": [
       "<div>\n",
       "<style scoped>\n",
       "    .dataframe tbody tr th:only-of-type {\n",
       "        vertical-align: middle;\n",
       "    }\n",
       "\n",
       "    .dataframe tbody tr th {\n",
       "        vertical-align: top;\n",
       "    }\n",
       "\n",
       "    .dataframe thead th {\n",
       "        text-align: right;\n",
       "    }\n",
       "</style>\n",
       "<table border=\"1\" class=\"dataframe\">\n",
       "  <thead>\n",
       "    <tr style=\"text-align: right;\">\n",
       "      <th></th>\n",
       "      <th></th>\n",
       "      <th>order</th>\n",
       "      <th>order_1</th>\n",
       "      <th>order_2</th>\n",
       "      <th>order_4</th>\n",
       "    </tr>\n",
       "    <tr>\n",
       "      <th>week</th>\n",
       "      <th>itemID</th>\n",
       "      <th></th>\n",
       "      <th></th>\n",
       "      <th></th>\n",
       "      <th></th>\n",
       "    </tr>\n",
       "  </thead>\n",
       "  <tbody>\n",
       "    <tr>\n",
       "      <th>0</th>\n",
       "      <th>1</th>\n",
       "      <td>0.0</td>\n",
       "      <td>-1.0</td>\n",
       "      <td>-1.0</td>\n",
       "      <td>-1.00</td>\n",
       "    </tr>\n",
       "    <tr>\n",
       "      <th>1</th>\n",
       "      <th>1</th>\n",
       "      <td>0.0</td>\n",
       "      <td>0.0</td>\n",
       "      <td>-1.0</td>\n",
       "      <td>-1.00</td>\n",
       "    </tr>\n",
       "    <tr>\n",
       "      <th>2</th>\n",
       "      <th>1</th>\n",
       "      <td>313.0</td>\n",
       "      <td>0.0</td>\n",
       "      <td>0.0</td>\n",
       "      <td>-1.00</td>\n",
       "    </tr>\n",
       "    <tr>\n",
       "      <th>3</th>\n",
       "      <th>1</th>\n",
       "      <td>4.0</td>\n",
       "      <td>313.0</td>\n",
       "      <td>156.5</td>\n",
       "      <td>-1.00</td>\n",
       "    </tr>\n",
       "    <tr>\n",
       "      <th>4</th>\n",
       "      <th>1</th>\n",
       "      <td>35.0</td>\n",
       "      <td>4.0</td>\n",
       "      <td>158.5</td>\n",
       "      <td>79.25</td>\n",
       "    </tr>\n",
       "    <tr>\n",
       "      <th>5</th>\n",
       "      <th>1</th>\n",
       "      <td>2.0</td>\n",
       "      <td>35.0</td>\n",
       "      <td>19.5</td>\n",
       "      <td>88.00</td>\n",
       "    </tr>\n",
       "    <tr>\n",
       "      <th>6</th>\n",
       "      <th>1</th>\n",
       "      <td>0.0</td>\n",
       "      <td>2.0</td>\n",
       "      <td>18.5</td>\n",
       "      <td>88.50</td>\n",
       "    </tr>\n",
       "    <tr>\n",
       "      <th>7</th>\n",
       "      <th>1</th>\n",
       "      <td>1.0</td>\n",
       "      <td>0.0</td>\n",
       "      <td>1.0</td>\n",
       "      <td>10.25</td>\n",
       "    </tr>\n",
       "    <tr>\n",
       "      <th>8</th>\n",
       "      <th>1</th>\n",
       "      <td>300.0</td>\n",
       "      <td>1.0</td>\n",
       "      <td>0.5</td>\n",
       "      <td>9.50</td>\n",
       "    </tr>\n",
       "    <tr>\n",
       "      <th>9</th>\n",
       "      <th>1</th>\n",
       "      <td>2.0</td>\n",
       "      <td>300.0</td>\n",
       "      <td>150.5</td>\n",
       "      <td>75.75</td>\n",
       "    </tr>\n",
       "    <tr>\n",
       "      <th>10</th>\n",
       "      <th>1</th>\n",
       "      <td>33.0</td>\n",
       "      <td>2.0</td>\n",
       "      <td>151.0</td>\n",
       "      <td>75.75</td>\n",
       "    </tr>\n",
       "    <tr>\n",
       "      <th>11</th>\n",
       "      <th>1</th>\n",
       "      <td>0.0</td>\n",
       "      <td>33.0</td>\n",
       "      <td>17.5</td>\n",
       "      <td>84.00</td>\n",
       "    </tr>\n",
       "    <tr>\n",
       "      <th>12</th>\n",
       "      <th>1</th>\n",
       "      <td>1.0</td>\n",
       "      <td>0.0</td>\n",
       "      <td>16.5</td>\n",
       "      <td>83.75</td>\n",
       "    </tr>\n",
       "    <tr>\n",
       "      <th>13</th>\n",
       "      <th>1</th>\n",
       "      <td>2.0</td>\n",
       "      <td>1.0</td>\n",
       "      <td>0.5</td>\n",
       "      <td>9.00</td>\n",
       "    </tr>\n",
       "  </tbody>\n",
       "</table>\n",
       "</div>"
      ],
      "text/plain": [
       "             order  order_1  order_2  order_4\n",
       "week itemID                                  \n",
       "0    1         0.0     -1.0     -1.0    -1.00\n",
       "1    1         0.0      0.0     -1.0    -1.00\n",
       "2    1       313.0      0.0      0.0    -1.00\n",
       "3    1         4.0    313.0    156.5    -1.00\n",
       "4    1        35.0      4.0    158.5    79.25\n",
       "5    1         2.0     35.0     19.5    88.00\n",
       "6    1         0.0      2.0     18.5    88.50\n",
       "7    1         1.0      0.0      1.0    10.25\n",
       "8    1       300.0      1.0      0.5     9.50\n",
       "9    1         2.0    300.0    150.5    75.75\n",
       "10   1        33.0      2.0    151.0    75.75\n",
       "11   1         0.0     33.0     17.5    84.00\n",
       "12   1         1.0      0.0     16.5    83.75\n",
       "13   1         2.0      1.0      0.5     9.00"
      ]
     },
     "execution_count": 241,
     "metadata": {},
     "output_type": "execute_result"
    }
   ],
   "source": [
    "# checking if we got what we wanted\n",
    "data.xs(1, level = 1, drop_level=False)"
   ]
  },
  {
   "cell_type": "code",
   "execution_count": null,
   "metadata": {},
   "outputs": [],
   "source": []
  },
  {
   "cell_type": "code",
   "execution_count": null,
   "metadata": {},
   "outputs": [],
   "source": []
  },
  {
   "cell_type": "code",
   "execution_count": null,
   "metadata": {},
   "outputs": [],
   "source": []
  },
  {
   "cell_type": "markdown",
   "metadata": {},
   "source": [
    "##  - fit, predict"
   ]
  },
  {
   "cell_type": "code",
   "execution_count": 282,
   "metadata": {},
   "outputs": [
    {
     "data": {
      "text/plain": [
       "87.19741453702186"
      ]
     },
     "execution_count": 282,
     "metadata": {},
     "output_type": "execute_result"
    }
   ],
   "source": [
    "# max expected rmse\n",
    "from sklearn.metrics import mean_squared_error as mse\n",
    "pred = data.loc[1:12].groupby('itemID')['order'].mean().sort_index()\n",
    "target_week = data.loc[13:, 'order'].reset_index(level = 0, drop = True).sort_index()\n",
    "mse(target_week, pred) ** .5"
   ]
  },
  {
   "cell_type": "code",
   "execution_count": null,
   "metadata": {},
   "outputs": [],
   "source": []
  },
  {
   "cell_type": "code",
   "execution_count": 227,
   "metadata": {},
   "outputs": [],
   "source": [
    "train = data.loc[1:12].reset_index()\n",
    "test = data.loc[13:].reset_index()"
   ]
  },
  {
   "cell_type": "code",
   "execution_count": 228,
   "metadata": {},
   "outputs": [],
   "source": [
    "y_train = train.pop('order').values\n",
    "y_test = test.pop('order').values\n",
    "\n",
    "X_train = train.values\n",
    "X_test = test.values"
   ]
  },
  {
   "cell_type": "code",
   "execution_count": 233,
   "metadata": {},
   "outputs": [],
   "source": [
    "import xgboost as xgb"
   ]
  },
  {
   "cell_type": "code",
   "execution_count": 285,
   "metadata": {
    "scrolled": true
   },
   "outputs": [
    {
     "name": "stdout",
     "output_type": "stream",
     "text": [
      "[0]\ttrain-rmse:105.74801\ttest-rmse:86.55006\n",
      "Multiple eval metrics have been passed: 'test-rmse' will be used for early stopping.\n",
      "\n",
      "Will train until test-rmse hasn't improved in 5 rounds.\n",
      "[1]\ttrain-rmse:105.63801\ttest-rmse:86.44087\n",
      "[2]\ttrain-rmse:105.53018\ttest-rmse:86.33538\n",
      "[3]\ttrain-rmse:105.42452\ttest-rmse:86.23684\n",
      "[4]\ttrain-rmse:105.31979\ttest-rmse:86.14248\n",
      "[5]\ttrain-rmse:105.21917\ttest-rmse:86.04932\n",
      "[6]\ttrain-rmse:105.11799\ttest-rmse:85.96081\n",
      "[7]\ttrain-rmse:105.01976\ttest-rmse:85.87427\n",
      "[8]\ttrain-rmse:104.92540\ttest-rmse:85.79022\n",
      "[9]\ttrain-rmse:104.82925\ttest-rmse:85.70736\n",
      "[10]\ttrain-rmse:104.73519\ttest-rmse:85.62856\n",
      "[11]\ttrain-rmse:104.64571\ttest-rmse:85.54427\n",
      "[12]\ttrain-rmse:104.55712\ttest-rmse:85.47169\n",
      "[13]\ttrain-rmse:104.46720\ttest-rmse:85.39318\n",
      "[14]\ttrain-rmse:104.37711\ttest-rmse:85.31720\n",
      "[15]\ttrain-rmse:104.29012\ttest-rmse:85.24924\n",
      "[16]\ttrain-rmse:104.20571\ttest-rmse:85.17835\n",
      "[17]\ttrain-rmse:104.12382\ttest-rmse:85.10540\n",
      "[18]\ttrain-rmse:104.04105\ttest-rmse:85.03643\n",
      "[19]\ttrain-rmse:103.96104\ttest-rmse:84.96420\n",
      "[20]\ttrain-rmse:103.88149\ttest-rmse:84.89658\n",
      "[21]\ttrain-rmse:103.80469\ttest-rmse:84.83554\n",
      "[22]\ttrain-rmse:103.72643\ttest-rmse:84.77044\n",
      "[23]\ttrain-rmse:103.65134\ttest-rmse:84.71221\n",
      "[24]\ttrain-rmse:103.57467\ttest-rmse:84.64866\n",
      "[25]\ttrain-rmse:103.50096\ttest-rmse:84.59248\n",
      "[26]\ttrain-rmse:103.42787\ttest-rmse:84.53709\n",
      "[27]\ttrain-rmse:103.35662\ttest-rmse:84.47832\n",
      "[28]\ttrain-rmse:103.28684\ttest-rmse:84.42395\n",
      "[29]\ttrain-rmse:103.21594\ttest-rmse:84.37719\n",
      "[30]\ttrain-rmse:103.14876\ttest-rmse:84.32303\n",
      "[31]\ttrain-rmse:103.07933\ttest-rmse:84.27471\n",
      "[32]\ttrain-rmse:103.01261\ttest-rmse:84.22941\n",
      "[33]\ttrain-rmse:102.94460\ttest-rmse:84.18479\n",
      "[34]\ttrain-rmse:102.87800\ttest-rmse:84.14166\n",
      "[35]\ttrain-rmse:102.81342\ttest-rmse:84.09768\n",
      "[36]\ttrain-rmse:102.75017\ttest-rmse:84.05817\n",
      "[37]\ttrain-rmse:102.68596\ttest-rmse:84.01851\n",
      "[38]\ttrain-rmse:102.62354\ttest-rmse:83.97295\n",
      "[39]\ttrain-rmse:102.56405\ttest-rmse:83.93160\n",
      "[40]\ttrain-rmse:102.50262\ttest-rmse:83.89957\n",
      "[41]\ttrain-rmse:102.44614\ttest-rmse:83.86552\n",
      "[42]\ttrain-rmse:102.38600\ttest-rmse:83.82839\n",
      "[43]\ttrain-rmse:102.33064\ttest-rmse:83.79639\n",
      "[44]\ttrain-rmse:102.27444\ttest-rmse:83.76517\n",
      "[45]\ttrain-rmse:102.21792\ttest-rmse:83.73412\n",
      "[46]\ttrain-rmse:102.15894\ttest-rmse:83.70459\n",
      "[47]\ttrain-rmse:102.10317\ttest-rmse:83.67456\n",
      "[48]\ttrain-rmse:102.05070\ttest-rmse:83.64211\n",
      "[49]\ttrain-rmse:101.99477\ttest-rmse:83.61808\n",
      "[50]\ttrain-rmse:101.94115\ttest-rmse:83.57818\n",
      "[51]\ttrain-rmse:101.88519\ttest-rmse:83.55048\n",
      "[52]\ttrain-rmse:101.83363\ttest-rmse:83.52419\n",
      "[53]\ttrain-rmse:101.77898\ttest-rmse:83.49635\n",
      "[54]\ttrain-rmse:101.72097\ttest-rmse:83.46989\n",
      "[55]\ttrain-rmse:101.67119\ttest-rmse:83.43758\n",
      "[56]\ttrain-rmse:101.62105\ttest-rmse:83.39944\n",
      "[57]\ttrain-rmse:101.57237\ttest-rmse:83.37529\n",
      "[58]\ttrain-rmse:101.52492\ttest-rmse:83.35071\n",
      "[59]\ttrain-rmse:101.47722\ttest-rmse:83.32056\n",
      "[60]\ttrain-rmse:101.42599\ttest-rmse:83.30363\n",
      "[61]\ttrain-rmse:101.37819\ttest-rmse:83.28173\n",
      "[62]\ttrain-rmse:101.32873\ttest-rmse:83.25291\n",
      "[63]\ttrain-rmse:101.27799\ttest-rmse:83.22555\n",
      "[64]\ttrain-rmse:101.22944\ttest-rmse:83.20476\n",
      "[65]\ttrain-rmse:101.18504\ttest-rmse:83.17610\n",
      "[66]\ttrain-rmse:101.14229\ttest-rmse:83.14629\n",
      "[67]\ttrain-rmse:101.09405\ttest-rmse:83.11539\n",
      "[68]\ttrain-rmse:101.05173\ttest-rmse:83.08800\n",
      "[69]\ttrain-rmse:101.00398\ttest-rmse:83.05902\n",
      "[70]\ttrain-rmse:100.95927\ttest-rmse:83.03106\n",
      "[71]\ttrain-rmse:100.91789\ttest-rmse:83.00415\n",
      "[72]\ttrain-rmse:100.87466\ttest-rmse:82.98191\n",
      "[73]\ttrain-rmse:100.83267\ttest-rmse:82.95742\n",
      "[74]\ttrain-rmse:100.79478\ttest-rmse:82.93303\n",
      "[75]\ttrain-rmse:100.75254\ttest-rmse:82.91042\n",
      "[76]\ttrain-rmse:100.71690\ttest-rmse:82.88782\n",
      "[77]\ttrain-rmse:100.67800\ttest-rmse:82.86589\n",
      "[78]\ttrain-rmse:100.63914\ttest-rmse:82.84035\n",
      "[79]\ttrain-rmse:100.60325\ttest-rmse:82.82498\n",
      "[80]\ttrain-rmse:100.56451\ttest-rmse:82.80138\n",
      "[81]\ttrain-rmse:100.52900\ttest-rmse:82.79086\n",
      "[82]\ttrain-rmse:100.49670\ttest-rmse:82.78217\n",
      "[83]\ttrain-rmse:100.46399\ttest-rmse:82.76659\n",
      "[84]\ttrain-rmse:100.42999\ttest-rmse:82.75632\n",
      "[85]\ttrain-rmse:100.39851\ttest-rmse:82.75421\n",
      "[86]\ttrain-rmse:100.36566\ttest-rmse:82.74202\n",
      "[87]\ttrain-rmse:100.33409\ttest-rmse:82.73115\n",
      "[88]\ttrain-rmse:100.30360\ttest-rmse:82.72440\n",
      "[89]\ttrain-rmse:100.27469\ttest-rmse:82.71201\n",
      "[90]\ttrain-rmse:100.24374\ttest-rmse:82.70570\n",
      "[91]\ttrain-rmse:100.20985\ttest-rmse:82.69714\n",
      "[92]\ttrain-rmse:100.16987\ttest-rmse:82.68957\n",
      "[93]\ttrain-rmse:100.12893\ttest-rmse:82.67725\n",
      "[94]\ttrain-rmse:100.10052\ttest-rmse:82.66902\n",
      "[95]\ttrain-rmse:100.06836\ttest-rmse:82.66293\n",
      "[96]\ttrain-rmse:100.03914\ttest-rmse:82.66015\n",
      "[97]\ttrain-rmse:100.01279\ttest-rmse:82.65617\n",
      "[98]\ttrain-rmse:99.97921\ttest-rmse:82.64472\n",
      "[99]\ttrain-rmse:99.95155\ttest-rmse:82.63576\n",
      "[100]\ttrain-rmse:99.92353\ttest-rmse:82.62023\n",
      "[101]\ttrain-rmse:99.89265\ttest-rmse:82.61700\n",
      "[102]\ttrain-rmse:99.85178\ttest-rmse:82.60992\n",
      "[103]\ttrain-rmse:99.82732\ttest-rmse:82.60581\n",
      "[104]\ttrain-rmse:99.79886\ttest-rmse:82.59843\n",
      "[105]\ttrain-rmse:99.76807\ttest-rmse:82.59099\n",
      "[106]\ttrain-rmse:99.74448\ttest-rmse:82.58943\n",
      "[107]\ttrain-rmse:99.71972\ttest-rmse:82.58305\n",
      "[108]\ttrain-rmse:99.69152\ttest-rmse:82.58019\n",
      "[109]\ttrain-rmse:99.66619\ttest-rmse:82.57391\n",
      "[110]\ttrain-rmse:99.64336\ttest-rmse:82.57170\n",
      "[111]\ttrain-rmse:99.61887\ttest-rmse:82.56563\n",
      "[112]\ttrain-rmse:99.58707\ttest-rmse:82.56911\n",
      "[113]\ttrain-rmse:99.55979\ttest-rmse:82.55803\n",
      "[114]\ttrain-rmse:99.52372\ttest-rmse:82.55762\n",
      "[115]\ttrain-rmse:99.49449\ttest-rmse:82.55173\n",
      "[116]\ttrain-rmse:99.46755\ttest-rmse:82.54193\n",
      "[117]\ttrain-rmse:99.43310\ttest-rmse:82.53640\n",
      "[118]\ttrain-rmse:99.40661\ttest-rmse:82.52820\n",
      "[119]\ttrain-rmse:99.37757\ttest-rmse:82.52938\n",
      "[120]\ttrain-rmse:99.34916\ttest-rmse:82.52688\n",
      "[121]\ttrain-rmse:99.32346\ttest-rmse:82.51993\n",
      "[122]\ttrain-rmse:99.29163\ttest-rmse:82.51763\n",
      "[123]\ttrain-rmse:99.26676\ttest-rmse:82.51701\n",
      "[124]\ttrain-rmse:99.24229\ttest-rmse:82.51072\n",
      "[125]\ttrain-rmse:99.21703\ttest-rmse:82.50997\n",
      "[126]\ttrain-rmse:99.19222\ttest-rmse:82.51057\n",
      "[127]\ttrain-rmse:99.16834\ttest-rmse:82.50536\n",
      "[128]\ttrain-rmse:99.14866\ttest-rmse:82.50143\n",
      "[129]\ttrain-rmse:99.12412\ttest-rmse:82.49631\n",
      "[130]\ttrain-rmse:99.10141\ttest-rmse:82.48704\n",
      "[131]\ttrain-rmse:99.07755\ttest-rmse:82.47951\n",
      "[132]\ttrain-rmse:99.05352\ttest-rmse:82.48229\n",
      "[133]\ttrain-rmse:99.03042\ttest-rmse:82.47550\n",
      "[134]\ttrain-rmse:99.00362\ttest-rmse:82.48202\n",
      "[135]\ttrain-rmse:98.98168\ttest-rmse:82.48174\n",
      "[136]\ttrain-rmse:98.96134\ttest-rmse:82.48251\n",
      "[137]\ttrain-rmse:98.94061\ttest-rmse:82.48305\n",
      "[138]\ttrain-rmse:98.91447\ttest-rmse:82.47710\n",
      "Stopping. Best iteration:\n",
      "[133]\ttrain-rmse:99.03042\ttest-rmse:82.47550\n",
      "\n"
     ]
    }
   ],
   "source": [
    "dtrain = xgb.DMatrix(X_train, y_train, missing = -1)\n",
    "dtest = xgb.DMatrix(X_test, y_test, missing = -1)\n",
    "# specify parameters via map\n",
    "param = {'max_depth':6, 'eta':0.01, 'objective':'reg:squarederror' }\n",
    "num_round = 200\n",
    "bst = xgb.train(param, dtrain,\n",
    "                num_round, early_stopping_rounds = 5,\n",
    "                evals = [(dtrain, 'train'), (dtest, 'test')])"
   ]
  },
  {
   "cell_type": "code",
   "execution_count": null,
   "metadata": {},
   "outputs": [],
   "source": []
  }
 ],
 "metadata": {
  "kernelspec": {
   "display_name": "Python 3",
   "language": "python",
   "name": "python3"
  },
  "language_info": {
   "codemirror_mode": {
    "name": "ipython",
    "version": 3
   },
   "file_extension": ".py",
   "mimetype": "text/x-python",
   "name": "python",
   "nbconvert_exporter": "python",
   "pygments_lexer": "ipython3",
   "version": "3.7.7"
  }
 },
 "nbformat": 4,
 "nbformat_minor": 4
}
