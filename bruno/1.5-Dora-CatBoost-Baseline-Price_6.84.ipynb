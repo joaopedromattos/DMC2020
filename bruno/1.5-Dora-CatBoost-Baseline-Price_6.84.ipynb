{
 "cells": [
  {
   "cell_type": "markdown",
   "metadata": {
    "toc": true
   },
   "source": [
    "<h1>Table of Contents<span class=\"tocSkip\"></span></h1>\n",
    "<div class=\"toc\"><ul class=\"toc-item\"><li><span><a href=\"#CatBoost-Baseline-with-price\" data-toc-modified-id=\"CatBoost-Baseline-with-price-1\">CatBoost Baseline with price</a></span><ul class=\"toc-item\"><li><span><a href=\"#Preparing-our-dataset\" data-toc-modified-id=\"Preparing-our-dataset-1.1\">Preparing our dataset</a></span></li><li><span><a href=\"#Maximum-error\" data-toc-modified-id=\"Maximum-error-1.2\">Maximum error</a></span></li><li><span><a href=\"#Dataset-Splitting\" data-toc-modified-id=\"Dataset-Splitting-1.3\">Dataset Splitting</a></span></li></ul></li><li><span><a href=\"#BRUNO'S-CHANGES\" data-toc-modified-id=\"BRUNO'S-CHANGES-2\">BRUNO'S CHANGES</a></span></li><li><span><a href=\"#retrain-with-best-results\" data-toc-modified-id=\"retrain-with-best-results-3\">retrain with best results</a></span><ul class=\"toc-item\"><li><ul class=\"toc-item\"><li><span><a href=\"#Utilities\" data-toc-modified-id=\"Utilities-3.0.1\">Utilities</a></span></li></ul></li></ul></li></ul></div>"
   ]
  },
  {
   "cell_type": "markdown",
   "metadata": {},
   "source": [
    "# CatBoost Baseline with price\n",
    "\n",
    "Original notebook by Dora - I (Bruno) added the price/weight\n"
   ]
  },
  {
   "cell_type": "code",
   "execution_count": 1,
   "metadata": {},
   "outputs": [],
   "source": [
    "import sys\n",
    "sys.path.append(\"../dora/models\")  # For using Dora's utils files"
   ]
  },
  {
   "cell_type": "code",
   "execution_count": 2,
   "metadata": {},
   "outputs": [
    {
     "name": "stdout",
     "output_type": "stream",
     "text": [
      "1.0v  1.0v.zip\r\n"
     ]
    }
   ],
   "source": [
    "import numpy as np\n",
    "import pandas as pd\n",
    "from utils import read_data, process_time, merge_data, promo_detector, promotionAggregation\n",
    "import seaborn as sns\n",
    "import matplotlib.pyplot as plt\n",
    "from sklearn.model_selection import train_test_split\n",
    "from sklearn.metrics import mean_squared_error as mse\n",
    "import sys\n",
    "import xgboost as xgb\n",
    "import lightgbm as lgb\n",
    "from datetime import datetime\n",
    "from catboost import CatBoostRegressor, Pool, cv\n",
    "\n",
    "NUMBER_OF_LAGS = 4\n",
    "\n",
    "# sys.path.append(\"../../main/datasets/\")\n",
    "!ls  ../main/datasets/"
   ]
  },
  {
   "cell_type": "markdown",
   "metadata": {},
   "source": [
    "## Preparing our dataset\n",
    "These steps were already seen on ```../pre-processing-features``` notebooks."
   ]
  },
  {
   "cell_type": "code",
   "execution_count": 3,
   "metadata": {},
   "outputs": [
    {
     "name": "stdout",
     "output_type": "stream",
     "text": [
      "Sanity checks... (10463, 3) (10463, 8) (2181955, 5)\n"
     ]
    }
   ],
   "source": [
    "infos, items, orders = read_data(\"../main/datasets/\")\n",
    "print(\"Sanity checks...\", infos.shape, items.shape, orders.shape)"
   ]
  },
  {
   "cell_type": "code",
   "execution_count": 4,
   "metadata": {},
   "outputs": [],
   "source": [
    "# Changing our time signatures, \n",
    "# adding our promotion feature \n",
    "# and aggregating our data by weeks...\n",
    "process_time(orders)\n",
    "orders = promo_detector(orders)\n",
    "df = promotionAggregation(orders, items)"
   ]
  },
  {
   "cell_type": "code",
   "execution_count": 5,
   "metadata": {},
   "outputs": [],
   "source": [
    "def prepareOrders(orders, items):\n",
    "    \"\"\"This function is responsible for adding in our 'orders' dataframe\n",
    "    the items that were not sold. THIS IS NOT MODULARIZED, THUS YOU\n",
    "    SHOULD CHANGE THE CODE TO BETTER SUIT YOUR DATASET FEATURES\n",
    "    \"\"\"\n",
    "    \n",
    "    df = orders.copy()\n",
    "    \n",
    "    # Getting the IDs that were never sold\n",
    "    not_sold_items = items[np.logical_not(\n",
    "        items.itemID.isin(sorted(orders['itemID'].unique())))]\n",
    "\n",
    "    new_rows = []\n",
    "    weeks_database = orders['group_backwards'].unique()\n",
    "\n",
    "    for idd in df['itemID'].unique():\n",
    "        orders_id = df[df.itemID == idd]\n",
    "        example = orders_id.iloc[0]\n",
    "\n",
    "        # finding weeks without itemID sales\n",
    "        weeks_id = orders_id['group_backwards'].unique()\n",
    "        weeks_without_id = np.setdiff1d(weeks_database, weeks_id)\n",
    "\n",
    "        # creating new row\n",
    "        for w in weeks_without_id:\n",
    "            new_rows.append({'itemID': idd,\n",
    "                             'group_backwards': w,\n",
    "                             'salesPrice_mean': 0,\n",
    "                             'customerRating': example['customerRating'],\n",
    "                             'category1': example['category1'],\n",
    "                             'category2': example['category2'],\n",
    "                             'category3': example['category3'],\n",
    "                             'recommendedRetailPrice': example['recommendedRetailPrice'],\n",
    "                             'orderSum': 0,\n",
    "                             'manufacturer': example['manufacturer'],\n",
    "                             'brand': example['brand'],\n",
    "                             'promotion_mean': 0\n",
    "                             })\n",
    "    #  Adding rows in every week with the IDs of the\n",
    "    # items that were never sold.\n",
    "    df = df.append(new_rows)\n",
    "    not_sold_orders = pd.DataFrame()\n",
    "    for i in range(1, 14):\n",
    "        aux = not_sold_items.copy()\n",
    "        aux['group_backwards'] = i\n",
    "        aux['salesPrice_mean'] = 0\n",
    "        aux['promotion_mean'] = 0\n",
    "        aux['orderSum'] = 0\n",
    "        not_sold_orders = pd.concat([not_sold_orders, aux], axis=0)\n",
    "    df = pd.concat([df, not_sold_orders], axis=0).sort_values(\n",
    "        ['group_backwards', 'itemID'], ascending=[False, True], ignore_index=True)\n",
    "    return df"
   ]
  },
  {
   "cell_type": "code",
   "execution_count": 6,
   "metadata": {},
   "outputs": [],
   "source": [
    "df = prepareOrders(df, items)"
   ]
  },
  {
   "cell_type": "code",
   "execution_count": 7,
   "metadata": {},
   "outputs": [],
   "source": [
    "# This cell lags and diffs our features 'orderSum' and \"promotion\"\n",
    "\n",
    "shifting = df.copy()\n",
    "\n",
    "for i in range(1, NUMBER_OF_LAGS + 1):\n",
    "    # Carrying the data of weeks t-1\n",
    "    shifting[f'orderSum_{i}'] = shifting.groupby('itemID')['orderSum'].shift(i)\n",
    "    shifting[f'promotion_mean_{i}'] = shifting.groupby('itemID')['promotion_mean'].shift(i)\n",
    "    \n",
    "    # Getting the difference of the orders and promotions between weeks t-1 and t-2...\n",
    "    shifting[f'orderSum_diff_{i}'] = shifting.groupby('itemID')[f'orderSum_{i}'].diff()\n",
    "    shifting[f'promotion_mean_diff_{i}'] = shifting.groupby('itemID')[f'promotion_mean_{i}'].diff()\n",
    "shifting.fillna(0, inplace=True)"
   ]
  },
  {
   "cell_type": "markdown",
   "metadata": {},
   "source": [
    "## Maximum error\n",
    "The maximum error we could get in this dataset would be just guessing the mean of our sales from weeks 1 to 12, and that's what the cell below is computing."
   ]
  },
  {
   "cell_type": "code",
   "execution_count": 8,
   "metadata": {},
   "outputs": [
    {
     "name": "stdout",
     "output_type": "stream",
     "text": [
      "Guessing the mean of 'orderSum' for all items in target 90.29706562119341\n"
     ]
    }
   ],
   "source": [
    "worst_possible_prediction = shifting.loc[shifting.group_backwards < 13]['orderSum'].mean()\n",
    "prediction = np.full(shifting.loc[shifting.group_backwards == 13]['orderSum'].shape, worst_possible_prediction) # Array filled with the mean...\n",
    "target = shifting.loc[shifting.group_backwards == 13]['orderSum']\n",
    "print(\"Guessing the mean of 'orderSum' for all items in target\", mse(target, prediction) ** 0.5)"
   ]
  },
  {
   "cell_type": "markdown",
   "metadata": {},
   "source": [
    "## Dataset Splitting\n",
    "All my experiments will use weeks 13 to 3 as a train set, week 2 as our validation set and week 1 as a test set."
   ]
  },
  {
   "cell_type": "code",
   "execution_count": 9,
   "metadata": {},
   "outputs": [],
   "source": [
    "# CatBoost requires that all columns should\n",
    "stringColumns = shifting.columns[3:]\n",
    "shifting[stringColumns] = shifting[stringColumns].astype(str)"
   ]
  },
  {
   "cell_type": "code",
   "execution_count": 10,
   "metadata": {},
   "outputs": [],
   "source": [
    "# Datatype conversion required by Catboost\n",
    "train = shifting.loc[shifting.group_backwards >= 3]\n",
    "val = shifting.loc[shifting.group_backwards == 2]\n",
    "test = shifting.loc[shifting.group_backwards == 1]"
   ]
  },
  {
   "cell_type": "markdown",
   "metadata": {},
   "source": [
    "---\n",
    "<br>\n",
    "<br>\n",
    "\n",
    "# BRUNO'S CHANGES\n",
    "\n",
    "Below is my added code:\n",
    "- Change y_train to be price\\*orderSum\n",
    "- Pass that to the traning itself\n",
    "- For saving the prediction, divide by orderSum and round"
   ]
  },
  {
   "cell_type": "code",
   "execution_count": 11,
   "metadata": {},
   "outputs": [],
   "source": [
    "# Since I want to keep Dora's original code, I add it\n",
    "#   by re-merging into the dataset\n",
    "def add_weights(data):\n",
    "     return pd.merge(data, infos[[\"itemID\", \"simulationPrice\"]], \n",
    "                     on=\"itemID\", validate=\"m:1\")"
   ]
  },
  {
   "cell_type": "code",
   "execution_count": 12,
   "metadata": {},
   "outputs": [],
   "source": [
    "# I recommend to the other members of the team keeping the\n",
    "# datatypes of our datasets as Pandas DataFrames instead of Numpy,\n",
    "# since It will easier to use Boosting Analysis frameworks\n",
    "\n",
    "train = add_weights(train)\n",
    "val = add_weights(val)\n",
    "test = add_weights(test)\n",
    "\n",
    "y_train = train['orderSum']*train[\"simulationPrice\"]\n",
    "y_val = val['orderSum']*val[\"simulationPrice\"]\n",
    "\n",
    "X_train = train.drop(columns=[\"orderSum\", \"simulationPrice\"])\n",
    "X_val = val.drop(columns=[\"orderSum\", \"simulationPrice\"])"
   ]
  },
  {
   "cell_type": "markdown",
   "metadata": {},
   "source": [
    "// Bruno's changes"
   ]
  },
  {
   "cell_type": "code",
   "execution_count": 13,
   "metadata": {},
   "outputs": [],
   "source": [
    "# initialize Pool\n",
    "train_pool = Pool(X_train, \n",
    "                  y_train, \n",
    "                  cat_features=[8,9,10],\n",
    ")\n",
    "\n",
    "val_pool = Pool(X_val, \n",
    "                  y_val, \n",
    "                  cat_features=[8,9,10],\n",
    ")\n",
    "# test_pool = Pool(test_data.astype(str), \n",
    "#                  cat_features=[8,9,10]) "
   ]
  },
  {
   "cell_type": "code",
   "execution_count": 14,
   "metadata": {
    "scrolled": true
   },
   "outputs": [
    {
     "name": "stdout",
     "output_type": "stream",
     "text": [
      "0:\tlearn: 3662.2517954\ttest: 3924.7121580\tbest: 3924.7121580 (0)\ttotal: 89.4ms\tremaining: 1m 29s\n",
      "1:\tlearn: 3589.3676088\ttest: 3849.0611952\tbest: 3849.0611952 (1)\ttotal: 133ms\tremaining: 1m 6s\n",
      "2:\tlearn: 3535.8020572\ttest: 3785.0352140\tbest: 3785.0352140 (2)\ttotal: 166ms\tremaining: 55.2s\n",
      "3:\tlearn: 3491.2920082\ttest: 3747.3182486\tbest: 3747.3182486 (3)\ttotal: 217ms\tremaining: 53.9s\n",
      "4:\tlearn: 3448.7563551\ttest: 3705.7734967\tbest: 3705.7734967 (4)\ttotal: 251ms\tremaining: 50s\n",
      "5:\tlearn: 3414.4457897\ttest: 3676.3036774\tbest: 3676.3036774 (5)\ttotal: 293ms\tremaining: 48.5s\n",
      "6:\tlearn: 3378.2463252\ttest: 3639.5573027\tbest: 3639.5573027 (6)\ttotal: 351ms\tremaining: 49.8s\n",
      "7:\tlearn: 3352.6531462\ttest: 3621.3546012\tbest: 3621.3546012 (7)\ttotal: 394ms\tremaining: 48.8s\n",
      "8:\tlearn: 3329.5756935\ttest: 3601.5816215\tbest: 3601.5816215 (8)\ttotal: 431ms\tremaining: 47.4s\n",
      "9:\tlearn: 3310.0946176\ttest: 3591.0962627\tbest: 3591.0962627 (9)\ttotal: 475ms\tremaining: 47s\n",
      "10:\tlearn: 3293.6683661\ttest: 3579.9222047\tbest: 3579.9222047 (10)\ttotal: 524ms\tremaining: 47.1s\n",
      "11:\tlearn: 3262.9110481\ttest: 3556.7540643\tbest: 3556.7540643 (11)\ttotal: 564ms\tremaining: 46.4s\n",
      "12:\tlearn: 3246.7352096\ttest: 3549.4482461\tbest: 3549.4482461 (12)\ttotal: 610ms\tremaining: 46.3s\n",
      "13:\tlearn: 3231.6961140\ttest: 3546.0281836\tbest: 3546.0281836 (13)\ttotal: 648ms\tremaining: 45.7s\n",
      "14:\tlearn: 3216.9812992\ttest: 3538.6730929\tbest: 3538.6730929 (14)\ttotal: 684ms\tremaining: 44.9s\n",
      "15:\tlearn: 3204.2814439\ttest: 3539.8362566\tbest: 3538.6730929 (14)\ttotal: 717ms\tremaining: 44.1s\n",
      "16:\tlearn: 3189.8356148\ttest: 3530.2104795\tbest: 3530.2104795 (16)\ttotal: 760ms\tremaining: 43.9s\n",
      "17:\tlearn: 3180.0338441\ttest: 3526.9623351\tbest: 3526.9623351 (17)\ttotal: 798ms\tremaining: 43.6s\n",
      "18:\tlearn: 3158.8621428\ttest: 3517.1307598\tbest: 3517.1307598 (18)\ttotal: 853ms\tremaining: 44s\n",
      "19:\tlearn: 3150.0890494\ttest: 3514.4736207\tbest: 3514.4736207 (19)\ttotal: 900ms\tremaining: 44.1s\n",
      "20:\tlearn: 3141.6488615\ttest: 3508.1529452\tbest: 3508.1529452 (20)\ttotal: 954ms\tremaining: 44.5s\n",
      "21:\tlearn: 3133.1575586\ttest: 3509.1768297\tbest: 3508.1529452 (20)\ttotal: 998ms\tremaining: 44.4s\n",
      "22:\tlearn: 3126.8044902\ttest: 3509.2409052\tbest: 3508.1529452 (20)\ttotal: 1.04s\tremaining: 44.1s\n",
      "23:\tlearn: 3116.3332355\ttest: 3504.4632599\tbest: 3504.4632599 (23)\ttotal: 1.08s\tremaining: 44s\n",
      "24:\tlearn: 3109.1341122\ttest: 3504.9338316\tbest: 3504.4632599 (23)\ttotal: 1.11s\tremaining: 43.2s\n",
      "25:\tlearn: 3102.0523664\ttest: 3507.0454057\tbest: 3504.4632599 (23)\ttotal: 1.15s\tremaining: 42.9s\n",
      "26:\tlearn: 3097.0767401\ttest: 3503.4378520\tbest: 3503.4378520 (26)\ttotal: 1.19s\tremaining: 42.8s\n",
      "27:\tlearn: 3085.5593407\ttest: 3493.5133200\tbest: 3493.5133200 (27)\ttotal: 1.23s\tremaining: 42.8s\n",
      "28:\tlearn: 3076.8565791\ttest: 3495.5460220\tbest: 3493.5133200 (27)\ttotal: 1.28s\tremaining: 42.8s\n",
      "29:\tlearn: 3072.9010131\ttest: 3492.8257043\tbest: 3492.8257043 (29)\ttotal: 1.31s\tremaining: 42.5s\n",
      "30:\tlearn: 3064.6900260\ttest: 3491.3074898\tbest: 3491.3074898 (30)\ttotal: 1.35s\tremaining: 42.3s\n",
      "31:\tlearn: 3061.2684820\ttest: 3489.5296185\tbest: 3489.5296185 (31)\ttotal: 1.39s\tremaining: 41.9s\n",
      "32:\tlearn: 3046.7466499\ttest: 3481.8374789\tbest: 3481.8374789 (32)\ttotal: 1.42s\tremaining: 41.6s\n",
      "33:\tlearn: 3044.4686489\ttest: 3483.1207619\tbest: 3481.8374789 (32)\ttotal: 1.46s\tremaining: 41.5s\n",
      "34:\tlearn: 3040.5929321\ttest: 3482.1342616\tbest: 3481.8374789 (32)\ttotal: 1.5s\tremaining: 41.4s\n",
      "35:\tlearn: 3033.9907580\ttest: 3475.1815226\tbest: 3475.1815226 (35)\ttotal: 1.53s\tremaining: 41.1s\n",
      "36:\tlearn: 3027.9222846\ttest: 3476.8425827\tbest: 3475.1815226 (35)\ttotal: 1.57s\tremaining: 40.9s\n",
      "37:\tlearn: 3026.7711411\ttest: 3477.0617671\tbest: 3475.1815226 (35)\ttotal: 1.6s\tremaining: 40.6s\n",
      "38:\tlearn: 3017.7910461\ttest: 3466.9283135\tbest: 3466.9283135 (38)\ttotal: 1.64s\tremaining: 40.4s\n",
      "39:\tlearn: 3013.7032902\ttest: 3463.3215738\tbest: 3463.3215738 (39)\ttotal: 1.68s\tremaining: 40.3s\n",
      "40:\tlearn: 3002.5243471\ttest: 3459.7508410\tbest: 3459.7508410 (40)\ttotal: 1.71s\tremaining: 40s\n",
      "41:\tlearn: 2999.8047699\ttest: 3457.5493702\tbest: 3457.5493702 (41)\ttotal: 1.75s\tremaining: 39.8s\n",
      "42:\tlearn: 2996.4032805\ttest: 3450.9456523\tbest: 3450.9456523 (42)\ttotal: 1.78s\tremaining: 39.7s\n",
      "43:\tlearn: 2986.0180744\ttest: 3447.1688390\tbest: 3447.1688390 (43)\ttotal: 1.82s\tremaining: 39.7s\n",
      "44:\tlearn: 2984.8210011\ttest: 3447.2709141\tbest: 3447.1688390 (43)\ttotal: 1.87s\tremaining: 39.6s\n",
      "45:\tlearn: 2979.5401203\ttest: 3451.3462959\tbest: 3447.1688390 (43)\ttotal: 1.91s\tremaining: 39.6s\n",
      "46:\tlearn: 2976.1858168\ttest: 3447.9246641\tbest: 3447.1688390 (43)\ttotal: 1.94s\tremaining: 39.4s\n",
      "47:\tlearn: 2975.0524959\ttest: 3448.1276703\tbest: 3447.1688390 (43)\ttotal: 1.98s\tremaining: 39.2s\n",
      "48:\tlearn: 2970.8736909\ttest: 3444.7970163\tbest: 3444.7970163 (48)\ttotal: 2.01s\tremaining: 39s\n",
      "49:\tlearn: 2964.8912027\ttest: 3447.5930624\tbest: 3444.7970163 (48)\ttotal: 2.04s\tremaining: 38.9s\n",
      "50:\tlearn: 2962.5884955\ttest: 3447.2773505\tbest: 3444.7970163 (48)\ttotal: 2.09s\tremaining: 38.9s\n",
      "51:\tlearn: 2959.7917883\ttest: 3447.6633483\tbest: 3444.7970163 (48)\ttotal: 2.12s\tremaining: 38.7s\n",
      "52:\tlearn: 2957.1042150\ttest: 3447.6219670\tbest: 3444.7970163 (48)\ttotal: 2.15s\tremaining: 38.4s\n",
      "53:\tlearn: 2951.0059320\ttest: 3440.0804105\tbest: 3440.0804105 (53)\ttotal: 2.19s\tremaining: 38.4s\n",
      "54:\tlearn: 2950.2111914\ttest: 3440.2215865\tbest: 3440.0804105 (53)\ttotal: 2.22s\tremaining: 38.2s\n",
      "55:\tlearn: 2947.5542564\ttest: 3440.3922838\tbest: 3440.0804105 (53)\ttotal: 2.25s\tremaining: 37.9s\n",
      "56:\tlearn: 2944.0422381\ttest: 3443.0711645\tbest: 3440.0804105 (53)\ttotal: 2.28s\tremaining: 37.7s\n",
      "57:\tlearn: 2940.0852593\ttest: 3441.0602422\tbest: 3440.0804105 (53)\ttotal: 2.32s\tremaining: 37.7s\n",
      "58:\tlearn: 2937.1417854\ttest: 3439.5221529\tbest: 3439.5221529 (58)\ttotal: 2.38s\tremaining: 37.9s\n",
      "59:\tlearn: 2936.4588519\ttest: 3439.6898693\tbest: 3439.5221529 (58)\ttotal: 2.43s\tremaining: 38s\n",
      "60:\tlearn: 2935.4700984\ttest: 3439.8548476\tbest: 3439.5221529 (58)\ttotal: 2.46s\tremaining: 37.9s\n",
      "61:\tlearn: 2930.6613655\ttest: 3442.1666734\tbest: 3439.5221529 (58)\ttotal: 2.5s\tremaining: 37.8s\n",
      "62:\tlearn: 2925.8372369\ttest: 3446.1369859\tbest: 3439.5221529 (58)\ttotal: 2.52s\tremaining: 37.5s\n",
      "63:\tlearn: 2924.2611333\ttest: 3446.2834188\tbest: 3439.5221529 (58)\ttotal: 2.56s\tremaining: 37.5s\n",
      "64:\tlearn: 2915.0761344\ttest: 3443.5758298\tbest: 3439.5221529 (58)\ttotal: 2.6s\tremaining: 37.4s\n",
      "65:\tlearn: 2911.5455872\ttest: 3445.6800089\tbest: 3439.5221529 (58)\ttotal: 2.63s\tremaining: 37.2s\n",
      "66:\tlearn: 2907.8810552\ttest: 3445.7190006\tbest: 3439.5221529 (58)\ttotal: 2.65s\tremaining: 37s\n",
      "67:\tlearn: 2898.8849674\ttest: 3440.5968628\tbest: 3439.5221529 (58)\ttotal: 2.69s\tremaining: 36.9s\n",
      "68:\tlearn: 2896.3543308\ttest: 3440.3923467\tbest: 3439.5221529 (58)\ttotal: 2.71s\tremaining: 36.6s\n",
      "Stopped by overfitting detector  (10 iterations wait)\n",
      "\n",
      "bestTest = 3439.522153\n",
      "bestIteration = 58\n",
      "\n",
      "Shrink model to first 59 iterations.\n"
     ]
    }
   ],
   "source": [
    "# specify the training parameters \n",
    "model = CatBoostRegressor(depth=6, \n",
    "                          learning_rate=0.1, \n",
    "                          loss_function='RMSE',\n",
    "                          early_stopping_rounds=10)\n",
    "\n",
    "model.fit(\n",
    "    train_pool,\n",
    "    eval_set=val_pool,\n",
    "    logging_level='Verbose',  # you can uncomment this for text output\n",
    ");"
   ]
  },
  {
   "cell_type": "markdown",
   "metadata": {},
   "source": [
    "# retrain with best results\n",
    "(more Bruno changes)"
   ]
  },
  {
   "cell_type": "code",
   "execution_count": 15,
   "metadata": {},
   "outputs": [],
   "source": [
    "full_train = shifting.loc[shifting.group_backwards >= 2]\n",
    "\n",
    "full_train = add_weights(full_train)\n",
    "full_y_train = full_train['orderSum']*full_train[\"simulationPrice\"]\n",
    "full_X_train = full_train.drop(columns=[\"orderSum\", \"simulationPrice\"])\n",
    "\n",
    "# initialize Pool\n",
    "full_train_pool = Pool(full_X_train, \n",
    "                      full_y_train, \n",
    "                      cat_features=[8,9,10],\n",
    ")"
   ]
  },
  {
   "cell_type": "code",
   "execution_count": 16,
   "metadata": {},
   "outputs": [
    {
     "name": "stdout",
     "output_type": "stream",
     "text": [
      "0:\tlearn: 3694.8035353\ttotal: 28.5ms\tremaining: 1.63s\n",
      "1:\tlearn: 3625.9617382\ttotal: 48.7ms\tremaining: 1.36s\n",
      "2:\tlearn: 3573.2949381\ttotal: 71.5ms\tremaining: 1.31s\n",
      "3:\tlearn: 3519.1360698\ttotal: 92.3ms\tremaining: 1.25s\n",
      "4:\tlearn: 3478.3399695\ttotal: 114ms\tremaining: 1.21s\n",
      "5:\tlearn: 3435.7782636\ttotal: 135ms\tremaining: 1.17s\n",
      "6:\tlearn: 3400.4612965\ttotal: 154ms\tremaining: 1.12s\n",
      "7:\tlearn: 3374.2350480\ttotal: 177ms\tremaining: 1.1s\n",
      "8:\tlearn: 3349.3459353\ttotal: 197ms\tremaining: 1.07s\n",
      "9:\tlearn: 3333.0950520\ttotal: 217ms\tremaining: 1.04s\n",
      "10:\tlearn: 3317.1712520\ttotal: 238ms\tremaining: 1.02s\n",
      "11:\tlearn: 3299.2707795\ttotal: 258ms\tremaining: 991ms\n",
      "12:\tlearn: 3291.6941872\ttotal: 278ms\tremaining: 962ms\n",
      "13:\tlearn: 3276.1928162\ttotal: 299ms\tremaining: 940ms\n",
      "14:\tlearn: 3267.4148188\ttotal: 320ms\tremaining: 918ms\n",
      "15:\tlearn: 3258.0038131\ttotal: 338ms\tremaining: 887ms\n",
      "16:\tlearn: 3240.2667213\ttotal: 355ms\tremaining: 856ms\n",
      "17:\tlearn: 3230.0688984\ttotal: 373ms\tremaining: 828ms\n",
      "18:\tlearn: 3214.6914945\ttotal: 389ms\tremaining: 798ms\n",
      "19:\tlearn: 3209.0013124\ttotal: 406ms\tremaining: 771ms\n",
      "20:\tlearn: 3200.8474583\ttotal: 424ms\tremaining: 746ms\n",
      "21:\tlearn: 3197.0543458\ttotal: 441ms\tremaining: 722ms\n",
      "22:\tlearn: 3191.3244412\ttotal: 459ms\tremaining: 699ms\n",
      "23:\tlearn: 3187.9028655\ttotal: 478ms\tremaining: 677ms\n",
      "24:\tlearn: 3182.8810800\ttotal: 497ms\tremaining: 656ms\n",
      "25:\tlearn: 3179.8066499\ttotal: 520ms\tremaining: 640ms\n",
      "26:\tlearn: 3173.2089953\ttotal: 539ms\tremaining: 619ms\n",
      "27:\tlearn: 3163.5703560\ttotal: 556ms\tremaining: 596ms\n",
      "28:\tlearn: 3160.2202765\ttotal: 572ms\tremaining: 572ms\n",
      "29:\tlearn: 3151.6638702\ttotal: 589ms\tremaining: 550ms\n",
      "30:\tlearn: 3146.9853722\ttotal: 606ms\tremaining: 527ms\n",
      "31:\tlearn: 3140.5474774\ttotal: 622ms\tremaining: 506ms\n",
      "32:\tlearn: 3137.4047144\ttotal: 639ms\tremaining: 484ms\n",
      "33:\tlearn: 3134.0910854\ttotal: 656ms\tremaining: 463ms\n",
      "34:\tlearn: 3130.8247396\ttotal: 672ms\tremaining: 442ms\n",
      "35:\tlearn: 3129.4044707\ttotal: 688ms\tremaining: 421ms\n",
      "36:\tlearn: 3123.3800079\ttotal: 708ms\tremaining: 402ms\n",
      "37:\tlearn: 3119.7602976\ttotal: 725ms\tremaining: 382ms\n",
      "38:\tlearn: 3115.3347949\ttotal: 742ms\tremaining: 361ms\n",
      "39:\tlearn: 3112.9914435\ttotal: 758ms\tremaining: 341ms\n",
      "40:\tlearn: 3105.1136046\ttotal: 775ms\tremaining: 321ms\n",
      "41:\tlearn: 3103.1490903\ttotal: 791ms\tremaining: 301ms\n",
      "42:\tlearn: 3099.6096730\ttotal: 809ms\tremaining: 282ms\n",
      "43:\tlearn: 3098.4159830\ttotal: 824ms\tremaining: 262ms\n",
      "44:\tlearn: 3095.4314658\ttotal: 841ms\tremaining: 243ms\n",
      "45:\tlearn: 3094.5359247\ttotal: 860ms\tremaining: 224ms\n",
      "46:\tlearn: 3086.2318530\ttotal: 880ms\tremaining: 206ms\n",
      "47:\tlearn: 3080.9646824\ttotal: 902ms\tremaining: 188ms\n",
      "48:\tlearn: 3077.6142856\ttotal: 921ms\tremaining: 169ms\n",
      "49:\tlearn: 3074.1704541\ttotal: 940ms\tremaining: 150ms\n",
      "50:\tlearn: 3069.8438400\ttotal: 957ms\tremaining: 131ms\n",
      "51:\tlearn: 3066.7189739\ttotal: 974ms\tremaining: 112ms\n",
      "52:\tlearn: 3063.0250355\ttotal: 995ms\tremaining: 93.9ms\n",
      "53:\tlearn: 3056.0609399\ttotal: 1.01s\tremaining: 74.9ms\n",
      "54:\tlearn: 3055.0765264\ttotal: 1.03s\tremaining: 56.4ms\n",
      "55:\tlearn: 3048.4144808\ttotal: 1.05s\tremaining: 37.7ms\n",
      "56:\tlearn: 3045.7035266\ttotal: 1.07s\tremaining: 18.8ms\n",
      "57:\tlearn: 3041.8051154\ttotal: 1.09s\tremaining: 0us\n"
     ]
    }
   ],
   "source": [
    "# specify the training parameters \n",
    "bst = CatBoostRegressor(\n",
    "    depth=6, \n",
    "    learning_rate=0.1, \n",
    "    loss_function='RMSE',\n",
    "    iterations=model.best_iteration_,\n",
    ")\n",
    "\n",
    "bst.fit(\n",
    "    full_train_pool,\n",
    "    #  logging_level='Verbose',  # you can uncomment this for text output\n",
    ");"
   ]
  },
  {
   "cell_type": "markdown",
   "metadata": {},
   "source": [
    "### Utilities"
   ]
  },
  {
   "cell_type": "markdown",
   "metadata": {},
   "source": [
    "**Predicting at test time**"
   ]
  },
  {
   "cell_type": "code",
   "execution_count": 17,
   "metadata": {},
   "outputs": [],
   "source": [
    "# y_test = test['orderSum']\n",
    "X_test = test.drop(columns=[\"orderSum\", \"simulationPrice\"])\n",
    "final_predictions = np.ceil(bst.predict(X_test) / test[\"simulationPrice\"])"
   ]
  },
  {
   "cell_type": "code",
   "execution_count": 18,
   "metadata": {},
   "outputs": [
    {
     "data": {
      "text/plain": [
       "(2859,)"
      ]
     },
     "execution_count": 18,
     "metadata": {},
     "output_type": "execute_result"
    }
   ],
   "source": [
    "final_predictions[final_predictions <= 0].shape"
   ]
  },
  {
   "cell_type": "code",
   "execution_count": 19,
   "metadata": {},
   "outputs": [],
   "source": [
    "# To fix a bug where we have \"-0\" due to rounding errors\n",
    "final_predictions.loc[final_predictions <= 0] = 0"
   ]
  },
  {
   "cell_type": "markdown",
   "metadata": {},
   "source": [
    "**Creating our Kaggle CSV**"
   ]
  },
  {
   "cell_type": "code",
   "execution_count": 20,
   "metadata": {},
   "outputs": [],
   "source": [
    "final = pd.Series(0, index=np.arange(1, len(items)+1))\n",
    "final[items.itemID] = final_predictions.astype(int)\n",
    "\n",
    "final.to_csv(\"cat_with_price_kaggle_df.csv\", header=[\"demandPrediction\"],\n",
    "            index_label=\"itemID\", sep=\"|\")"
   ]
  },
  {
   "cell_type": "code",
   "execution_count": null,
   "metadata": {},
   "outputs": [],
   "source": []
  }
 ],
 "metadata": {
  "kernelspec": {
   "display_name": "Python 3",
   "language": "python",
   "name": "python3"
  },
  "language_info": {
   "codemirror_mode": {
    "name": "ipython",
    "version": 3
   },
   "file_extension": ".py",
   "mimetype": "text/x-python",
   "name": "python",
   "nbconvert_exporter": "python",
   "pygments_lexer": "ipython3",
   "version": "3.6.5rc1"
  },
  "toc": {
   "base_numbering": 1,
   "nav_menu": {},
   "number_sections": false,
   "sideBar": false,
   "skip_h1_title": false,
   "title_cell": "Table of Contents",
   "title_sidebar": "Contents",
   "toc_cell": true,
   "toc_position": {},
   "toc_section_display": true,
   "toc_window_display": false
  }
 },
 "nbformat": 4,
 "nbformat_minor": 4
}
