{
 "cells": [
  {
   "cell_type": "markdown",
   "metadata": {
    "toc": true
   },
   "source": [
    "<h1>Table of Contents<span class=\"tocSkip\"></span></h1>\n",
    "<div class=\"toc\"><ul class=\"toc-item\"><li><span><a href=\"#--Different-prices\" data-toc-modified-id=\"--Different-prices-1\">- Different prices</a></span></li><li><span><a href=\"#--Models\" data-toc-modified-id=\"--Models-2\">- Models</a></span></li><li><span><a href=\"#--Features\" data-toc-modified-id=\"--Features-3\">- Features</a></span></li></ul></div>"
   ]
  },
  {
   "cell_type": "markdown",
   "metadata": {},
   "source": [
    "## - Different prices\n",
    "Products with a higher price have a higher impact on the total monetary value; Weight this during learning?"
   ]
  },
  {
   "cell_type": "markdown",
   "metadata": {},
   "source": [
    "## - Models\n",
    "- Test out RNN for time series?\n",
    "    - Maybe daily rnn and then sum?\n",
    "- Does PU learning make sense in this context?\n",
    "- XGboost custom loss function?\n",
    "- XGboost does tweedie or gamma make sense?"
   ]
  },
  {
   "cell_type": "markdown",
   "metadata": {},
   "source": [
    "## - Features\n",
    "- Cyclic time features!\n",
    "- Holiday info\n",
    "- IMDB like aggregation*****"
   ]
  },
  {
   "cell_type": "code",
   "execution_count": null,
   "metadata": {},
   "outputs": [],
   "source": []
  }
 ],
 "metadata": {
  "kernelspec": {
   "display_name": "Python 3",
   "language": "python",
   "name": "python3"
  },
  "language_info": {
   "codemirror_mode": {
    "name": "ipython",
    "version": 3
   },
   "file_extension": ".py",
   "mimetype": "text/x-python",
   "name": "python",
   "nbconvert_exporter": "python",
   "pygments_lexer": "ipython3",
   "version": "3.6.5rc1"
  },
  "toc": {
   "base_numbering": 1,
   "nav_menu": {},
   "number_sections": false,
   "sideBar": true,
   "skip_h1_title": false,
   "title_cell": "Table of Contents",
   "title_sidebar": "Contents",
   "toc_cell": true,
   "toc_position": {},
   "toc_section_display": true,
   "toc_window_display": false
  }
 },
 "nbformat": 4,
 "nbformat_minor": 2
}
