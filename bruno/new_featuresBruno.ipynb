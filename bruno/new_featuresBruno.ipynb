{
 "cells": [
  {
   "cell_type": "markdown",
   "metadata": {
    "toc": true
   },
   "source": [
    "<h1>Table of Contents<span class=\"tocSkip\"></span></h1>\n",
    "<div class=\"toc\"><ul class=\"toc-item\"><li><span><a href=\"#My-ideia:\" data-toc-modified-id=\"My-ideia:-1\">My ideia:</a></span><ul class=\"toc-item\"><li><span><a href=\"#1\" data-toc-modified-id=\"1-1.1\">1</a></span></li><li><span><a href=\"#2\" data-toc-modified-id=\"2-1.2\">2</a></span></li><li><span><a href=\"#1\" data-toc-modified-id=\"1-1.3\">1</a></span></li></ul></li><li><span><a href=\"#Train-model\" data-toc-modified-id=\"Train-model-2\">Train model</a></span><ul class=\"toc-item\"><li><span><a href=\"#--First-normal-xgb\" data-toc-modified-id=\"--First-normal-xgb-2.1\">- First normal xgb</a></span></li></ul></li></ul></div>"
   ]
  },
  {
   "cell_type": "code",
   "execution_count": 1,
   "metadata": {
    "collapsed": true
   },
   "outputs": [],
   "source": [
    "import matplotlib.pyplot as plt\n",
    "import seaborn as sns\n",
    "sns.set()\n",
    "import numpy as np\n",
    "import pandas as pd\n",
    "pd.set_option('display.max_columns', 50)\n",
    "\n",
    "import sys                                                                      \n",
    "sys.path.append(\"../main\")                                                      \n",
    "from utils import read_data, process_time, merge_data                           "
   ]
  },
  {
   "cell_type": "code",
   "execution_count": 2,
   "metadata": {},
   "outputs": [
    {
     "data": {
      "text/html": [
       "<div>\n",
       "<style scoped>\n",
       "    .dataframe tbody tr th:only-of-type {\n",
       "        vertical-align: middle;\n",
       "    }\n",
       "\n",
       "    .dataframe tbody tr th {\n",
       "        vertical-align: top;\n",
       "    }\n",
       "\n",
       "    .dataframe thead th {\n",
       "        text-align: right;\n",
       "    }\n",
       "</style>\n",
       "<table border=\"1\" class=\"dataframe\">\n",
       "  <thead>\n",
       "    <tr style=\"text-align: right;\">\n",
       "      <th></th>\n",
       "      <th>time</th>\n",
       "      <th>transactID</th>\n",
       "      <th>itemID</th>\n",
       "      <th>order</th>\n",
       "      <th>salesPrice</th>\n",
       "      <th>brand</th>\n",
       "      <th>manufacturer</th>\n",
       "      <th>customerRating</th>\n",
       "      <th>category1</th>\n",
       "      <th>category2</th>\n",
       "      <th>category3</th>\n",
       "      <th>recommendedRetailPrice</th>\n",
       "      <th>simulationPrice</th>\n",
       "      <th>promotion</th>\n",
       "      <th>days</th>\n",
       "      <th>days_backwards</th>\n",
       "      <th>week_backwards</th>\n",
       "      <th>group_backwards</th>\n",
       "    </tr>\n",
       "  </thead>\n",
       "  <tbody>\n",
       "    <tr>\n",
       "      <th>0</th>\n",
       "      <td>2018-01-01 00:01:56</td>\n",
       "      <td>2278968</td>\n",
       "      <td>450</td>\n",
       "      <td>1</td>\n",
       "      <td>17.42</td>\n",
       "      <td>0</td>\n",
       "      <td>7</td>\n",
       "      <td>0.0</td>\n",
       "      <td>1</td>\n",
       "      <td>2</td>\n",
       "      <td>1</td>\n",
       "      <td>27.0</td>\n",
       "      <td>17.42</td>\n",
       "      <td>NaN</td>\n",
       "      <td>1</td>\n",
       "      <td>180</td>\n",
       "      <td>26</td>\n",
       "      <td>13</td>\n",
       "    </tr>\n",
       "    <tr>\n",
       "      <th>1</th>\n",
       "      <td>2018-01-01 00:09:24</td>\n",
       "      <td>2278968</td>\n",
       "      <td>450</td>\n",
       "      <td>1</td>\n",
       "      <td>17.42</td>\n",
       "      <td>0</td>\n",
       "      <td>7</td>\n",
       "      <td>0.0</td>\n",
       "      <td>1</td>\n",
       "      <td>2</td>\n",
       "      <td>1</td>\n",
       "      <td>27.0</td>\n",
       "      <td>17.42</td>\n",
       "      <td>NaN</td>\n",
       "      <td>1</td>\n",
       "      <td>180</td>\n",
       "      <td>26</td>\n",
       "      <td>13</td>\n",
       "    </tr>\n",
       "    <tr>\n",
       "      <th>2</th>\n",
       "      <td>2018-01-01 00:51:59</td>\n",
       "      <td>2278968</td>\n",
       "      <td>450</td>\n",
       "      <td>1</td>\n",
       "      <td>17.42</td>\n",
       "      <td>0</td>\n",
       "      <td>7</td>\n",
       "      <td>0.0</td>\n",
       "      <td>1</td>\n",
       "      <td>2</td>\n",
       "      <td>1</td>\n",
       "      <td>27.0</td>\n",
       "      <td>17.42</td>\n",
       "      <td>NaN</td>\n",
       "      <td>1</td>\n",
       "      <td>180</td>\n",
       "      <td>26</td>\n",
       "      <td>13</td>\n",
       "    </tr>\n",
       "    <tr>\n",
       "      <th>3</th>\n",
       "      <td>2018-01-01 00:56:54</td>\n",
       "      <td>2278968</td>\n",
       "      <td>450</td>\n",
       "      <td>1</td>\n",
       "      <td>17.42</td>\n",
       "      <td>0</td>\n",
       "      <td>7</td>\n",
       "      <td>0.0</td>\n",
       "      <td>1</td>\n",
       "      <td>2</td>\n",
       "      <td>1</td>\n",
       "      <td>27.0</td>\n",
       "      <td>17.42</td>\n",
       "      <td>NaN</td>\n",
       "      <td>1</td>\n",
       "      <td>180</td>\n",
       "      <td>26</td>\n",
       "      <td>13</td>\n",
       "    </tr>\n",
       "    <tr>\n",
       "      <th>4</th>\n",
       "      <td>2018-01-15 17:48:57</td>\n",
       "      <td>78321</td>\n",
       "      <td>450</td>\n",
       "      <td>1</td>\n",
       "      <td>17.42</td>\n",
       "      <td>0</td>\n",
       "      <td>7</td>\n",
       "      <td>0.0</td>\n",
       "      <td>1</td>\n",
       "      <td>2</td>\n",
       "      <td>1</td>\n",
       "      <td>27.0</td>\n",
       "      <td>17.42</td>\n",
       "      <td>NaN</td>\n",
       "      <td>15</td>\n",
       "      <td>166</td>\n",
       "      <td>24</td>\n",
       "      <td>12</td>\n",
       "    </tr>\n",
       "  </tbody>\n",
       "</table>\n",
       "</div>"
      ],
      "text/plain": [
       "                 time  transactID  itemID  order  salesPrice  brand  \\\n",
       "0 2018-01-01 00:01:56     2278968     450      1       17.42      0   \n",
       "1 2018-01-01 00:09:24     2278968     450      1       17.42      0   \n",
       "2 2018-01-01 00:51:59     2278968     450      1       17.42      0   \n",
       "3 2018-01-01 00:56:54     2278968     450      1       17.42      0   \n",
       "4 2018-01-15 17:48:57       78321     450      1       17.42      0   \n",
       "\n",
       "   manufacturer  customerRating  category1  category2  category3  \\\n",
       "0             7             0.0          1          2          1   \n",
       "1             7             0.0          1          2          1   \n",
       "2             7             0.0          1          2          1   \n",
       "3             7             0.0          1          2          1   \n",
       "4             7             0.0          1          2          1   \n",
       "\n",
       "   recommendedRetailPrice  simulationPrice promotion  days  days_backwards  \\\n",
       "0                    27.0            17.42       NaN     1             180   \n",
       "1                    27.0            17.42       NaN     1             180   \n",
       "2                    27.0            17.42       NaN     1             180   \n",
       "3                    27.0            17.42       NaN     1             180   \n",
       "4                    27.0            17.42       NaN    15             166   \n",
       "\n",
       "   week_backwards  group_backwards  \n",
       "0              26               13  \n",
       "1              26               13  \n",
       "2              26               13  \n",
       "3              26               13  \n",
       "4              24               12  "
      ]
     },
     "execution_count": 2,
     "metadata": {},
     "output_type": "execute_result"
    }
   ],
   "source": [
    "infos, items, orders = read_data()\n",
    "df = merge_data(orders, items, infos)\n",
    "process_time(df)  # Modifies in place\n",
    "\n",
    "df.head()                                                                          "
   ]
  },
  {
   "cell_type": "code",
   "execution_count": 3,
   "metadata": {
    "collapsed": true
   },
   "outputs": [
    {
     "data": {
      "text/plain": [
       "itemID\n",
       "1    12\n",
       "2     9\n",
       "3    13\n",
       "4    12\n",
       "5    13\n",
       "Name: group_backwards, dtype: int64"
      ]
     },
     "execution_count": 3,
     "metadata": {},
     "output_type": "execute_result"
    }
   ],
   "source": [
    "# Since data is ordered by time, this works:\n",
    "first_fortnight_item = df.groupby([\"itemID\"])[\"group_backwards\"].first()\n",
    "first_fortnight_item.head()"
   ]
  },
  {
   "cell_type": "code",
   "execution_count": 4,
   "metadata": {
    "collapsed": true
   },
   "outputs": [
    {
     "name": "stdout",
     "output_type": "stream",
     "text": [
      "week backwards: 13 \tamount of new items 1431 \t% of sales new items: 100.00 % \t% of revenue new items: 100.00, %\n",
      "week backwards: 12 \tamount of new items 729 \t% of sales new items: 42.80 % \t% of revenue new items: 56.79, %\n",
      "week backwards: 11 \tamount of new items 371 \t% of sales new items: 28.23 % \t% of revenue new items: 36.18, %\n",
      "week backwards: 10 \tamount of new items 533 \t% of sales new items: 36.82 % \t% of revenue new items: 41.80, %\n",
      "week backwards: 9 \tamount of new items 785 \t% of sales new items: 47.24 % \t% of revenue new items: 52.29, %\n",
      "week backwards: 8 \tamount of new items 909 \t% of sales new items: 52.43 % \t% of revenue new items: 48.72, %\n",
      "week backwards: 7 \tamount of new items 716 \t% of sales new items: 42.38 % \t% of revenue new items: 45.98, %\n",
      "week backwards: 6 \tamount of new items 661 \t% of sales new items: 37.07 % \t% of revenue new items: 40.05, %\n",
      "week backwards: 5 \tamount of new items 785 \t% of sales new items: 46.28 % \t% of revenue new items: 45.09, %\n",
      "week backwards: 4 \tamount of new items 671 \t% of sales new items: 39.19 % \t% of revenue new items: 39.51, %\n",
      "week backwards: 3 \tamount of new items 794 \t% of sales new items: 42.00 % \t% of revenue new items: 38.68, %\n",
      "week backwards: 2 \tamount of new items 727 \t% of sales new items: 35.75 % \t% of revenue new items: 32.34, %\n",
      "week backwards: 1 \tamount of new items 728 \t% of sales new items: 34.39 % \t% of revenue new items: 36.46, %\n",
      "New items in DMC test 623\n"
     ]
    }
   ],
   "source": [
    "for fortnight in range(13, 0, -1):\n",
    "    group = df.query(\"group_backwards == @fortnight\")\n",
    "    total = group[\"order\"].sum()\n",
    "    total_revenue = (group[\"salesPrice\"]*group[\"order\"]).sum()\n",
    "\n",
    "    new_items = first_fortnight_item[first_fortnight_item == fortnight].index\n",
    "    new_items_total = group.loc[group[\"itemID\"].isin(new_items), \"order\"].sum()\n",
    "    new_items_revenue = group.loc[group[\"itemID\"].isin(new_items), [\"order\", \"salesPrice\"]]\n",
    "    new_items_revenue  = (new_items_revenue[\"order\"]*new_items_revenue[\"salesPrice\"]).sum()\n",
    "\n",
    "    print(\"week backwards:\", fortnight, \n",
    "          \"\\tamount of new items\", len(new_items), \n",
    "         # \"\\n\",\n",
    "          \"\\t% of sales new items:\", f\"{100*new_items_total/total:.2f} %\",\n",
    "         \"\\t% of revenue new items:\", f\"{100*new_items_revenue/total_revenue:.2f}, %\",\n",
    "         #\"\\n\\n\"\n",
    "         )\n",
    "print(\"New items in DMC test\", len(items)-df[\"itemID\"].nunique())"
   ]
  },
  {
   "cell_type": "code",
   "execution_count": null,
   "metadata": {
    "collapsed": true
   },
   "outputs": [],
   "source": []
  },
  {
   "cell_type": "code",
   "execution_count": 9,
   "metadata": {
    "code_folding": [
     0
    ]
   },
   "outputs": [
    {
     "data": {
      "image/png": "[encoded data removed]",
      "text/plain": [
       "<Figure size 720x576 with 1 Axes>"
      ]
     },
     "metadata": {},
     "output_type": "display_data"
    },
    {
     "data": {
      "image/png": "[encoded data removed]",
      "text/plain": [
       "<Figure size 720x576 with 1 Axes>"
      ]
     },
     "metadata": {},
     "output_type": "display_data"
    },
    {
     "data": {
      "image/png": "[encoded data removed]",
      "text/plain": [
       "<Figure size 720x576 with 1 Axes>"
      ]
     },
     "metadata": {},
     "output_type": "display_data"
    },
    {
     "data": {
      "image/png": "[encoded data removed]",
      "text/plain": [
       "<Figure size 720x576 with 1 Axes>"
      ]
     },
     "metadata": {},
     "output_type": "display_data"
    },
    {
     "data": {
      "image/png": "[encoded data removed]",
      "text/plain": [
       "<Figure size 720x576 with 1 Axes>"
      ]
     },
     "metadata": {},
     "output_type": "display_data"
    },
    {
     "data": {
      "image/png": "[encoded data removed]",
      "text/plain": [
       "<Figure size 720x576 with 1 Axes>"
      ]
     },
     "metadata": {},
     "output_type": "display_data"
    },
    {
     "data": {
      "image/png": "[encoded data removed]",
      "text/plain": [
       "<Figure size 720x576 with 1 Axes>"
      ]
     },
     "metadata": {},
     "output_type": "display_data"
    },
    {
     "data": {
      "image/png": "[encoded data removed]",
      "text/plain": [
       "<Figure size 720x576 with 1 Axes>"
      ]
     },
     "metadata": {},
     "output_type": "display_data"
    },
    {
     "data": {
      "image/png": "[encoded data removed]",
      "text/plain": [
       "<Figure size 720x576 with 1 Axes>"
      ]
     },
     "metadata": {},
     "output_type": "display_data"
    },
    {
     "data": {
      "image/png": "[encoded data removed]",
      "text/plain": [
       "<Figure size 720x576 with 1 Axes>"
      ]
     },
     "metadata": {},
     "output_type": "display_data"
    },
    {
     "data": {
      "image/png": "[encoded data removed]",
      "text/plain": [
       "<Figure size 720x576 with 1 Axes>"
      ]
     },
     "metadata": {},
     "output_type": "display_data"
    },
    {
     "data": {
      "image/png": "[encoded data removed]",
      "text/plain": [
       "<Figure size 720x576 with 1 Axes>"
      ]
     },
     "metadata": {},
     "output_type": "display_data"
    },
    {
     "data": {
      "image/png": "[encoded data removed]",
      "text/plain": [
       "<Figure size 720x576 with 1 Axes>"
      ]
     },
     "metadata": {},
     "output_type": "display_data"
    },
    {
     "name": "stdout",
     "output_type": "stream",
     "text": [
      "New items in DMC test 623\n"
     ]
    }
   ],
   "source": [
    "for fortnight in range(13, 0, -1):\n",
    "    group = df.query(\"group_backwards == @fortnight\")\n",
    "    total = group[\"order\"].sum()\n",
    "\n",
    "    new_items = first_fortnight_item[first_fortnight_item == fortnight].index\n",
    "    new_items_counts = group.loc[group[\"itemID\"].isin(new_items)]\n",
    "    new_items_counts = new_items_counts.groupby(\"itemID\")[\"order\"].sum().values\n",
    "    sns.violinplot(new_items_counts)\n",
    "    plt.title(f\"Fortnight {fortnight}\")\n",
    "    plt.show()"
   ]
  },
  {
   "cell_type": "code",
   "execution_count": 11,
   "metadata": {
    "collapsed": true
   },
   "outputs": [],
   "source": [
    "from tabulate import tabulate"
   ]
  },
  {
   "cell_type": "code",
   "execution_count": 14,
   "metadata": {
    "scrolled": true
   },
   "outputs": [
    {
     "name": "stdout",
     "output_type": "stream",
     "text": [
      "Fortnight 13\n",
      "-----  ---------\n",
      "count  1431\n",
      "mean     60.4913\n",
      "std     235.209\n",
      "min       1\n",
      "25%       1\n",
      "50%       3\n",
      "75%      13\n",
      "max    3022\n",
      "-----  ---------\n",
      "\n",
      "\n",
      "\n",
      "Fortnight 12\n",
      "-----  ---------\n",
      "count   729\n",
      "mean     63.4678\n",
      "std     148.621\n",
      "min       1\n",
      "25%       1\n",
      "50%       4\n",
      "75%      64\n",
      "max    2523\n",
      "-----  ---------\n",
      "\n",
      "\n",
      "\n",
      "Fortnight 11\n",
      "-----  ---------\n",
      "count   371\n",
      "mean     80.5067\n",
      "std     192.055\n",
      "min       1\n",
      "25%       1\n",
      "50%       4\n",
      "75%      58\n",
      "max    2049\n",
      "-----  ---------\n",
      "\n",
      "\n",
      "\n",
      "Fortnight 10\n",
      "-----  ---------\n",
      "count   533\n",
      "mean     94.1351\n",
      "std     153.654\n",
      "min       1\n",
      "25%       1\n",
      "50%      20\n",
      "75%     149\n",
      "max    1575\n",
      "-----  ---------\n",
      "\n",
      "\n",
      "\n",
      "Fortnight 9\n",
      "-----  --------\n",
      "count   785\n",
      "mean    141.001\n",
      "std     225.788\n",
      "min       1\n",
      "25%       8\n",
      "50%      52\n",
      "75%     203\n",
      "max    3290\n",
      "-----  --------\n",
      "\n",
      "\n",
      "\n",
      "Fortnight 8\n",
      "-----  --------\n",
      "count   909\n",
      "mean    155.911\n",
      "std     288.306\n",
      "min       1\n",
      "25%       2\n",
      "50%      56\n",
      "75%     189\n",
      "max    2269\n",
      "-----  --------\n",
      "\n",
      "\n",
      "\n",
      "Fortnight 7\n",
      "-----  --------\n",
      "count   716\n",
      "mean    125.041\n",
      "std     215.195\n",
      "min       1\n",
      "25%       7\n",
      "50%      75.5\n",
      "75%     155\n",
      "max    2550\n",
      "-----  --------\n",
      "\n",
      "\n",
      "\n",
      "Fortnight 6\n",
      "-----  --------\n",
      "count   661\n",
      "mean    132.702\n",
      "std     192.326\n",
      "min       1\n",
      "25%       6\n",
      "50%      81\n",
      "75%     175\n",
      "max    1874\n",
      "-----  --------\n",
      "\n",
      "\n",
      "\n",
      "Fortnight 5\n",
      "-----  --------\n",
      "count   785\n",
      "mean    147.122\n",
      "std     230.814\n",
      "min       1\n",
      "25%       7\n",
      "50%      81\n",
      "75%     203\n",
      "max    3020\n",
      "-----  --------\n",
      "\n",
      "\n",
      "\n",
      "Fortnight 4\n",
      "-----  --------\n",
      "count   671\n",
      "mean    136.903\n",
      "std     179.701\n",
      "min       1\n",
      "25%       4\n",
      "50%      69\n",
      "75%     207\n",
      "max    1528\n",
      "-----  --------\n",
      "\n",
      "\n",
      "\n",
      "Fortnight 3\n",
      "-----  --------\n",
      "count   794\n",
      "mean    142.03\n",
      "std     229.347\n",
      "min       1\n",
      "25%       6\n",
      "50%      72.5\n",
      "75%     203\n",
      "max    3728\n",
      "-----  --------\n",
      "\n",
      "\n",
      "\n",
      "Fortnight 2\n",
      "-----  --------\n",
      "count   727\n",
      "mean    135.398\n",
      "std     183.151\n",
      "min       1\n",
      "25%       5.5\n",
      "50%      86\n",
      "75%     202\n",
      "max    1650\n",
      "-----  --------\n",
      "\n",
      "\n",
      "\n",
      "Fortnight 1\n",
      "-----  --------\n",
      "count   728\n",
      "mean    141.021\n",
      "std     221.834\n",
      "min       1\n",
      "25%       6\n",
      "50%      70\n",
      "75%     183\n",
      "max    2401\n",
      "-----  --------\n",
      "\n",
      "\n",
      "\n"
     ]
    }
   ],
   "source": [
    "for fortnight in range(13, 0, -1):\n",
    "    group = df.query(\"group_backwards == @fortnight\")\n",
    "    total = group[\"order\"].sum()\n",
    "\n",
    "    new_items = first_fortnight_item[first_fortnight_item == fortnight].index\n",
    "    new_items_counts = group.loc[group[\"itemID\"].isin(new_items)]\n",
    "    new_items_counts = new_items_counts.groupby(\"itemID\")[\"order\"].sum()\n",
    "    print(f\"Fortnight {fortnight}\")\n",
    "    print(tabulate(pd.DataFrame(new_items_counts.describe())))\n",
    "    print(\"\\n\\n\")"
   ]
  },
  {
   "cell_type": "code",
   "execution_count": null,
   "metadata": {
    "collapsed": true
   },
   "outputs": [],
   "source": []
  },
  {
   "cell_type": "code",
   "execution_count": 6,
   "metadata": {
    "collapsed": true
   },
   "outputs": [
    {
     "name": "stdout",
     "output_type": "stream",
     "text": [
      "New items in DMC test 623\n"
     ]
    }
   ],
   "source": []
  },
  {
   "cell_type": "markdown",
   "metadata": {},
   "source": [
    "Therefore, around 35% of a fortnight sales is NEW ITEMS.\n",
    "\n",
    "That is, items that never appeared in the dataset until now. Aproximately the same thing should happen for DMC (maybe a bit less)\n",
    "\n",
    "---\n",
    "\n",
    "<br>\n",
    "<br>\n",
    "<br>\n",
    "<br>\n",
    "<br>\n",
    "<br>"
   ]
  },
  {
   "cell_type": "markdown",
   "metadata": {},
   "source": [
    "# My ideia:\n",
    "\n",
    "- Divide into TWO seperate problems:\n",
    "    - 1) Predict the amount of items already seen with tradional approach\n",
    "    - 2) Predict new items with a model dedicated to new items ONLY for our test fortnight.\n",
    "- This is further broken down into:\n",
    "\n",
    "## 1\n",
    "- Use a binary classifier to first find out if a item sold or not (given that it's not completely new)\n",
    "- If it sold, use normal model with good features (Tobias, Sasaki, Dora)\n",
    "- Otherwise, predict 0.\n",
    "\n",
    "We will start from group backwards 11 (first data will be 10, since for 11 all null)\n",
    "\n",
    "## 2\n",
    "- Make it work somehow: start off with easy stats.\n",
    "\n",
    "Let's go!"
   ]
  },
  {
   "cell_type": "markdown",
   "metadata": {},
   "source": [
    "---\n",
    "\n",
    "<br>"
   ]
  },
  {
   "cell_type": "markdown",
   "metadata": {},
   "source": [
    "## 1"
   ]
  },
  {
   "cell_type": "code",
   "execution_count": 6,
   "metadata": {
    "collapsed": true
   },
   "outputs": [],
   "source": [
    "def create_dataset(target_week, final_test=False):\n",
    "    if final_test:\n",
    "        train_items = df.query('(@target_week + 1) <= group_backwards <= 13')[\"itemID\"].unique()\n",
    "        full = df.query('group_backwards >= (@target_week)').reset_index(drop = True)\n",
    "    else:\n",
    "        train_items = df.query('(@target_week + 2) <= group_backwards <= 13')[\"itemID\"].unique()\n",
    "        full = df.query('group_backwards >= (@target_week)').reset_index(drop = True)\n",
    "    # only return instances where that item has already appeared.\n",
    "    full = full.query(\"itemID in @train_items\")\n",
    "\n",
    "    return full\n",
    "\n",
    "#full_val = create_dataset(2)\n",
    "full_sub  = create_dataset(1, final_test=True)\n",
    "\n",
    "# ok, so the proper is the way above, but this is SHIT, but turns out the other version\n",
    "# is good *m\n",
    "full_sub  = create_dataset(0, final_test=True)"
   ]
  },
  {
   "cell_type": "code",
   "execution_count": 7,
   "metadata": {
    "collapsed": true
   },
   "outputs": [],
   "source": [
    "X_full_val = pd.DataFrame(\n",
    "    index=pd.MultiIndex.from_product([\n",
    "        full_sub[\"itemID\"].unique(), \n",
    "        range(13, 0, -1)\n",
    "    ], names=[\"itemID\", \"group_backwards\"]\n",
    ")).reset_index()"
   ]
  },
  {
   "cell_type": "code",
   "execution_count": 8,
   "metadata": {
    "collapsed": true
   },
   "outputs": [
    {
     "data": {
      "text/html": [
       "<div>\n",
       "<style scoped>\n",
       "    .dataframe tbody tr th:only-of-type {\n",
       "        vertical-align: middle;\n",
       "    }\n",
       "\n",
       "    .dataframe tbody tr th {\n",
       "        vertical-align: top;\n",
       "    }\n",
       "\n",
       "    .dataframe thead th {\n",
       "        text-align: right;\n",
       "    }\n",
       "</style>\n",
       "<table border=\"1\" class=\"dataframe\">\n",
       "  <thead>\n",
       "    <tr style=\"text-align: right;\">\n",
       "      <th></th>\n",
       "      <th>itemID</th>\n",
       "      <th>group_backwards</th>\n",
       "      <th>brand</th>\n",
       "      <th>manufacturer</th>\n",
       "      <th>customerRating</th>\n",
       "      <th>category1</th>\n",
       "      <th>category2</th>\n",
       "      <th>category3</th>\n",
       "      <th>recommendedRetailPrice</th>\n",
       "    </tr>\n",
       "  </thead>\n",
       "  <tbody>\n",
       "    <tr>\n",
       "      <th>0</th>\n",
       "      <td>450</td>\n",
       "      <td>13</td>\n",
       "      <td>0</td>\n",
       "      <td>7</td>\n",
       "      <td>0.0</td>\n",
       "      <td>1</td>\n",
       "      <td>2</td>\n",
       "      <td>1</td>\n",
       "      <td>27.0</td>\n",
       "    </tr>\n",
       "    <tr>\n",
       "      <th>1</th>\n",
       "      <td>450</td>\n",
       "      <td>12</td>\n",
       "      <td>0</td>\n",
       "      <td>7</td>\n",
       "      <td>0.0</td>\n",
       "      <td>1</td>\n",
       "      <td>2</td>\n",
       "      <td>1</td>\n",
       "      <td>27.0</td>\n",
       "    </tr>\n",
       "    <tr>\n",
       "      <th>2</th>\n",
       "      <td>450</td>\n",
       "      <td>11</td>\n",
       "      <td>0</td>\n",
       "      <td>7</td>\n",
       "      <td>0.0</td>\n",
       "      <td>1</td>\n",
       "      <td>2</td>\n",
       "      <td>1</td>\n",
       "      <td>27.0</td>\n",
       "    </tr>\n",
       "    <tr>\n",
       "      <th>3</th>\n",
       "      <td>450</td>\n",
       "      <td>10</td>\n",
       "      <td>0</td>\n",
       "      <td>7</td>\n",
       "      <td>0.0</td>\n",
       "      <td>1</td>\n",
       "      <td>2</td>\n",
       "      <td>1</td>\n",
       "      <td>27.0</td>\n",
       "    </tr>\n",
       "    <tr>\n",
       "      <th>4</th>\n",
       "      <td>450</td>\n",
       "      <td>9</td>\n",
       "      <td>0</td>\n",
       "      <td>7</td>\n",
       "      <td>0.0</td>\n",
       "      <td>1</td>\n",
       "      <td>2</td>\n",
       "      <td>1</td>\n",
       "      <td>27.0</td>\n",
       "    </tr>\n",
       "  </tbody>\n",
       "</table>\n",
       "</div>"
      ],
      "text/plain": [
       "   itemID  group_backwards  brand  manufacturer  customerRating  category1  \\\n",
       "0     450               13      0             7             0.0          1   \n",
       "1     450               12      0             7             0.0          1   \n",
       "2     450               11      0             7             0.0          1   \n",
       "3     450               10      0             7             0.0          1   \n",
       "4     450                9      0             7             0.0          1   \n",
       "\n",
       "   category2  category3  recommendedRetailPrice  \n",
       "0          2          1                    27.0  \n",
       "1          2          1                    27.0  \n",
       "2          2          1                    27.0  \n",
       "3          2          1                    27.0  \n",
       "4          2          1                    27.0  "
      ]
     },
     "execution_count": 8,
     "metadata": {},
     "output_type": "execute_result"
    }
   ],
   "source": [
    "X_full_val = pd.merge(X_full_val, items, left_on=\"itemID\", right_on=\"itemID\", validate=\"m:1\")\n",
    "X_full_val .head()"
   ]
  },
  {
   "cell_type": "markdown",
   "metadata": {},
   "source": [
    "**OBS**: From now on, salesPrice and order in X_train means the SUM\n",
    "\n",
    "**OBS**: We remove it when defining x/y later on."
   ]
  },
  {
   "cell_type": "code",
   "execution_count": 9,
   "metadata": {
    "collapsed": true
   },
   "outputs": [
    {
     "data": {
      "text/html": [
       "<div>\n",
       "<style scoped>\n",
       "    .dataframe tbody tr th:only-of-type {\n",
       "        vertical-align: middle;\n",
       "    }\n",
       "\n",
       "    .dataframe tbody tr th {\n",
       "        vertical-align: top;\n",
       "    }\n",
       "\n",
       "    .dataframe thead th {\n",
       "        text-align: right;\n",
       "    }\n",
       "</style>\n",
       "<table border=\"1\" class=\"dataframe\">\n",
       "  <thead>\n",
       "    <tr style=\"text-align: right;\">\n",
       "      <th></th>\n",
       "      <th>itemID</th>\n",
       "      <th>group_backwards</th>\n",
       "      <th>brand</th>\n",
       "      <th>manufacturer</th>\n",
       "      <th>customerRating</th>\n",
       "      <th>category1</th>\n",
       "      <th>category2</th>\n",
       "      <th>category3</th>\n",
       "      <th>recommendedRetailPrice</th>\n",
       "      <th>order</th>\n",
       "      <th>salesPrice</th>\n",
       "    </tr>\n",
       "  </thead>\n",
       "  <tbody>\n",
       "    <tr>\n",
       "      <th>127915</th>\n",
       "      <td>9796</td>\n",
       "      <td>5</td>\n",
       "      <td>243</td>\n",
       "      <td>252</td>\n",
       "      <td>0.0</td>\n",
       "      <td>8</td>\n",
       "      <td>44</td>\n",
       "      <td>8</td>\n",
       "      <td>80.54</td>\n",
       "      <td>0.0</td>\n",
       "      <td>0.00</td>\n",
       "    </tr>\n",
       "    <tr>\n",
       "      <th>127916</th>\n",
       "      <td>9796</td>\n",
       "      <td>4</td>\n",
       "      <td>243</td>\n",
       "      <td>252</td>\n",
       "      <td>0.0</td>\n",
       "      <td>8</td>\n",
       "      <td>44</td>\n",
       "      <td>8</td>\n",
       "      <td>80.54</td>\n",
       "      <td>0.0</td>\n",
       "      <td>0.00</td>\n",
       "    </tr>\n",
       "    <tr>\n",
       "      <th>127917</th>\n",
       "      <td>9796</td>\n",
       "      <td>3</td>\n",
       "      <td>243</td>\n",
       "      <td>252</td>\n",
       "      <td>0.0</td>\n",
       "      <td>8</td>\n",
       "      <td>44</td>\n",
       "      <td>8</td>\n",
       "      <td>80.54</td>\n",
       "      <td>0.0</td>\n",
       "      <td>0.00</td>\n",
       "    </tr>\n",
       "    <tr>\n",
       "      <th>127918</th>\n",
       "      <td>9796</td>\n",
       "      <td>2</td>\n",
       "      <td>243</td>\n",
       "      <td>252</td>\n",
       "      <td>0.0</td>\n",
       "      <td>8</td>\n",
       "      <td>44</td>\n",
       "      <td>8</td>\n",
       "      <td>80.54</td>\n",
       "      <td>0.0</td>\n",
       "      <td>0.00</td>\n",
       "    </tr>\n",
       "    <tr>\n",
       "      <th>127919</th>\n",
       "      <td>9796</td>\n",
       "      <td>1</td>\n",
       "      <td>243</td>\n",
       "      <td>252</td>\n",
       "      <td>0.0</td>\n",
       "      <td>8</td>\n",
       "      <td>44</td>\n",
       "      <td>8</td>\n",
       "      <td>80.54</td>\n",
       "      <td>1.0</td>\n",
       "      <td>159.82</td>\n",
       "    </tr>\n",
       "  </tbody>\n",
       "</table>\n",
       "</div>"
      ],
      "text/plain": [
       "        itemID  group_backwards  brand  manufacturer  customerRating  \\\n",
       "127915    9796                5    243           252             0.0   \n",
       "127916    9796                4    243           252             0.0   \n",
       "127917    9796                3    243           252             0.0   \n",
       "127918    9796                2    243           252             0.0   \n",
       "127919    9796                1    243           252             0.0   \n",
       "\n",
       "        category1  category2  category3  recommendedRetailPrice  order  \\\n",
       "127915          8         44          8                   80.54    0.0   \n",
       "127916          8         44          8                   80.54    0.0   \n",
       "127917          8         44          8                   80.54    0.0   \n",
       "127918          8         44          8                   80.54    0.0   \n",
       "127919          8         44          8                   80.54    1.0   \n",
       "\n",
       "        salesPrice  \n",
       "127915        0.00  \n",
       "127916        0.00  \n",
       "127917        0.00  \n",
       "127918        0.00  \n",
       "127919      159.82  "
      ]
     },
     "execution_count": 9,
     "metadata": {},
     "output_type": "execute_result"
    }
   ],
   "source": [
    "cols = [\"order\", \"salesPrice\"]\n",
    "extra = full_sub.groupby([\"group_backwards\", \"itemID\"], \n",
    "                     as_index=False)[cols].sum()\n",
    "\n",
    "\n",
    "X_full_val = pd.merge(X_full_val, extra, on=[\"group_backwards\", \"itemID\"], how=\"left\",\n",
    "                  validate=\"1:1\")\n",
    "\n",
    "# 0 so the features generated will make sense\n",
    "X_full_val.fillna(0, inplace=True)\n",
    "X_full_val.tail()"
   ]
  },
  {
   "cell_type": "code",
   "execution_count": 10,
   "metadata": {
    "collapsed": true
   },
   "outputs": [],
   "source": [
    "# X_full_val.loc[X_full_val[\"group_backwards\"] == 1, \"order\"].sum()"
   ]
  },
  {
   "cell_type": "markdown",
   "metadata": {},
   "source": [
    "---\n",
    "\n",
    "<br>\n",
    "\n",
    "Brute force some features"
   ]
  },
  {
   "cell_type": "code",
   "execution_count": 11,
   "metadata": {
    "collapsed": true
   },
   "outputs": [],
   "source": [
    "def feat_amount_sold(groupby):\n",
    "    return groupby[\"order\"].sum()\n",
    "\n",
    "def feat_value(groupby):\n",
    "    return groupby[\"salesPrice\"].sum()\n",
    "\n",
    "def amount_of_transactions():\n",
    "    return groupby.size()\n",
    "\n",
    "func_feats_past_time = {\n",
    "     \"quantidade_vend_sum_{}\": feat_amount_sold,\n",
    "     \"valor_vend_sum_{}\": feat_value,\n",
    "}\n",
    "\n",
    "# These are features generated only from the last 14 days. Currently it's the same,\n",
    "# but who knows.\n",
    "func_feats_past_fortnight = {\n",
    "     \"quantidade_vend_sum_{}\": feat_amount_sold,\n",
    "     \"valor_vend_sum_{}\": feat_value,\n",
    "}\n",
    "\n",
    "# TODO\n",
    "#func_feats_other = {\n",
    "#     \"quantidade_trans_sum\": amount_of_transactions,\n",
    "#}"
   ]
  },
  {
   "cell_type": "code",
   "execution_count": 12,
   "metadata": {
    "collapsed": true
   },
   "outputs": [],
   "source": [
    "def apply_all_item_feats(X, past_time, func_feats):\n",
    "    \"\"\"Only works for data that hasnt been grouped! ie, \"Orders\" like.\n",
    "    \n",
    "    Calculates features that depend on the item ID and it's derivatives\n",
    "    \"\"\"\n",
    "    cols = [\"itemID\", \"brand\", \"manufacturer\", \"category1\", \"category2\", \"category3\"]\n",
    "    # All theses columns above depend only on the item, so we can just get the first\n",
    "    feats = X.groupby([\"itemID\"]).first()\n",
    "\n",
    "    for col in cols:\n",
    "        groupby = X.loc[past_time].groupby(col)\n",
    "        for name, func in func_feats.items():\n",
    "            feat = func(groupby)\n",
    "            feats = pd.merge(feats, feat.rename(name.format(col)),\n",
    "                               left_on=col, right_index=True)\n",
    "\n",
    "    return feats.drop(columns=X.loc[past_time].columns.drop(\"itemID\"),\n",
    "                         errors=\"ignore\")\n",
    "        "
   ]
  },
  {
   "cell_type": "code",
   "execution_count": 13,
   "metadata": {
    "collapsed": true
   },
   "outputs": [
    {
     "data": {
      "text/html": [
       "<div>\n",
       "<style scoped>\n",
       "    .dataframe tbody tr th:only-of-type {\n",
       "        vertical-align: middle;\n",
       "    }\n",
       "\n",
       "    .dataframe tbody tr th {\n",
       "        vertical-align: top;\n",
       "    }\n",
       "\n",
       "    .dataframe thead th {\n",
       "        text-align: right;\n",
       "    }\n",
       "</style>\n",
       "<table border=\"1\" class=\"dataframe\">\n",
       "  <thead>\n",
       "    <tr style=\"text-align: right;\">\n",
       "      <th></th>\n",
       "      <th>quantidade_vend_sum_itemID</th>\n",
       "      <th>valor_vend_sum_itemID</th>\n",
       "      <th>quantidade_vend_sum_brand</th>\n",
       "      <th>valor_vend_sum_brand</th>\n",
       "      <th>quantidade_vend_sum_manufacturer</th>\n",
       "      <th>valor_vend_sum_manufacturer</th>\n",
       "      <th>quantidade_vend_sum_category1</th>\n",
       "      <th>valor_vend_sum_category1</th>\n",
       "      <th>quantidade_vend_sum_category2</th>\n",
       "      <th>valor_vend_sum_category2</th>\n",
       "      <th>quantidade_vend_sum_category3</th>\n",
       "      <th>valor_vend_sum_category3</th>\n",
       "    </tr>\n",
       "    <tr>\n",
       "      <th>itemID</th>\n",
       "      <th></th>\n",
       "      <th></th>\n",
       "      <th></th>\n",
       "      <th></th>\n",
       "      <th></th>\n",
       "      <th></th>\n",
       "      <th></th>\n",
       "      <th></th>\n",
       "      <th></th>\n",
       "      <th></th>\n",
       "      <th></th>\n",
       "      <th></th>\n",
       "    </tr>\n",
       "  </thead>\n",
       "  <tbody>\n",
       "    <tr>\n",
       "      <th>450</th>\n",
       "      <td>5.0</td>\n",
       "      <td>87.1</td>\n",
       "      <td>110886.0</td>\n",
       "      <td>3239111.22</td>\n",
       "      <td>1894.0</td>\n",
       "      <td>26734.23</td>\n",
       "      <td>29725.0</td>\n",
       "      <td>1909256.02</td>\n",
       "      <td>860.0</td>\n",
       "      <td>14218.21</td>\n",
       "      <td>29725.0</td>\n",
       "      <td>1909256.02</td>\n",
       "    </tr>\n",
       "    <tr>\n",
       "      <th>108</th>\n",
       "      <td>0.0</td>\n",
       "      <td>0.0</td>\n",
       "      <td>110886.0</td>\n",
       "      <td>3239111.22</td>\n",
       "      <td>68.0</td>\n",
       "      <td>8744.88</td>\n",
       "      <td>29725.0</td>\n",
       "      <td>1909256.02</td>\n",
       "      <td>10528.0</td>\n",
       "      <td>723823.40</td>\n",
       "      <td>29725.0</td>\n",
       "      <td>1909256.02</td>\n",
       "    </tr>\n",
       "    <tr>\n",
       "      <th>10224</th>\n",
       "      <td>0.0</td>\n",
       "      <td>0.0</td>\n",
       "      <td>320.0</td>\n",
       "      <td>509777.40</td>\n",
       "      <td>362.0</td>\n",
       "      <td>514509.01</td>\n",
       "      <td>7095.0</td>\n",
       "      <td>1597644.89</td>\n",
       "      <td>4885.0</td>\n",
       "      <td>1476672.36</td>\n",
       "      <td>7096.0</td>\n",
       "      <td>1597830.09</td>\n",
       "    </tr>\n",
       "  </tbody>\n",
       "</table>\n",
       "</div>"
      ],
      "text/plain": [
       "        quantidade_vend_sum_itemID  valor_vend_sum_itemID  \\\n",
       "itemID                                                      \n",
       "450                            5.0                   87.1   \n",
       "108                            0.0                    0.0   \n",
       "10224                          0.0                    0.0   \n",
       "\n",
       "        quantidade_vend_sum_brand  valor_vend_sum_brand  \\\n",
       "itemID                                                    \n",
       "450                      110886.0            3239111.22   \n",
       "108                      110886.0            3239111.22   \n",
       "10224                       320.0             509777.40   \n",
       "\n",
       "        quantidade_vend_sum_manufacturer  valor_vend_sum_manufacturer  \\\n",
       "itemID                                                                  \n",
       "450                               1894.0                     26734.23   \n",
       "108                                 68.0                      8744.88   \n",
       "10224                              362.0                    514509.01   \n",
       "\n",
       "        quantidade_vend_sum_category1  valor_vend_sum_category1  \\\n",
       "itemID                                                            \n",
       "450                           29725.0                1909256.02   \n",
       "108                           29725.0                1909256.02   \n",
       "10224                          7095.0                1597644.89   \n",
       "\n",
       "        quantidade_vend_sum_category2  valor_vend_sum_category2  \\\n",
       "itemID                                                            \n",
       "450                             860.0                  14218.21   \n",
       "108                           10528.0                 723823.40   \n",
       "10224                          4885.0                1476672.36   \n",
       "\n",
       "        quantidade_vend_sum_category3  valor_vend_sum_category3  \n",
       "itemID                                                           \n",
       "450                           29725.0                1909256.02  \n",
       "108                           29725.0                1909256.02  \n",
       "10224                          7096.0                1597830.09  "
      ]
     },
     "execution_count": 13,
     "metadata": {},
     "output_type": "execute_result"
    }
   ],
   "source": [
    "# Test the features:\n",
    "temp = X_full_val.query(\"group_backwards >= 12\").index\n",
    "temp_results = apply_all_item_feats(X_full_val, temp, func_feats_past_time)\n",
    "\n",
    "# temp_results.head()\n",
    "temp_results.loc[[450, 108, 10224]]"
   ]
  },
  {
   "cell_type": "code",
   "execution_count": 14,
   "metadata": {
    "collapsed": true
   },
   "outputs": [],
   "source": [
    "def generate_all(X, stop_week, start_fortnight):\n",
    "    new_X = X.copy()\n",
    "    new_past_cols = None\n",
    "\n",
    "    # Start off with 12 because we don't generate data for the first fortnight due to time lag.\n",
    "    for fortnight in range(start_fortnight, stop_week-1, -1):\n",
    "        # here is the line that COULD BE LEAK if we >=\n",
    "        past_time = X[\"group_backwards\"] > fortnight\n",
    "        \n",
    "        this_fortnight = X[\"group_backwards\"] == fortnight\n",
    "    \n",
    "        feats = apply_all_item_feats(X, past_time, func_feats_past_time)\n",
    "        # if fortnight == stop_week: return feats\n",
    "        if new_past_cols is None:\n",
    "            new_past_cols = feats.columns\n",
    "            for col in new_past_cols:\n",
    "                new_X[col] = np.nan\n",
    "        # Kind of bad, I know. There is a way a better way, but I want to sleep.\n",
    "        merged = pd.merge(X.loc[this_fortnight], feats, on=\"itemID\", validate=\"m:1\",\n",
    "                         how=\"left\")\n",
    "        new_X.loc[this_fortnight, new_past_cols] = merged[new_past_cols].values\n",
    "\n",
    "    return new_X"
   ]
  },
  {
   "cell_type": "code",
   "execution_count": 15,
   "metadata": {
    "collapsed": true
   },
   "outputs": [],
   "source": [
    "stop_week = 1\n",
    "start_fortnight = 8\n",
    "#start_fortnight = 5\n",
    "X_full_val_feats = generate_all(X_full_val, stop_week, start_fortnight)\n",
    "X_full_val_feats = X_full_val_feats.query(\"group_backwards <= @start_fortnight\")"
   ]
  },
  {
   "cell_type": "code",
   "execution_count": 16,
   "metadata": {
    "collapsed": true
   },
   "outputs": [
    {
     "data": {
      "text/html": [
       "<div>\n",
       "<style scoped>\n",
       "    .dataframe tbody tr th:only-of-type {\n",
       "        vertical-align: middle;\n",
       "    }\n",
       "\n",
       "    .dataframe tbody tr th {\n",
       "        vertical-align: top;\n",
       "    }\n",
       "\n",
       "    .dataframe thead th {\n",
       "        text-align: right;\n",
       "    }\n",
       "</style>\n",
       "<table border=\"1\" class=\"dataframe\">\n",
       "  <thead>\n",
       "    <tr style=\"text-align: right;\">\n",
       "      <th></th>\n",
       "      <th>itemID</th>\n",
       "      <th>group_backwards</th>\n",
       "      <th>brand</th>\n",
       "      <th>manufacturer</th>\n",
       "      <th>customerRating</th>\n",
       "      <th>category1</th>\n",
       "      <th>category2</th>\n",
       "      <th>category3</th>\n",
       "      <th>recommendedRetailPrice</th>\n",
       "      <th>order</th>\n",
       "      <th>salesPrice</th>\n",
       "      <th>quantidade_vend_sum_itemID</th>\n",
       "      <th>valor_vend_sum_itemID</th>\n",
       "      <th>quantidade_vend_sum_brand</th>\n",
       "      <th>valor_vend_sum_brand</th>\n",
       "      <th>quantidade_vend_sum_manufacturer</th>\n",
       "      <th>valor_vend_sum_manufacturer</th>\n",
       "      <th>quantidade_vend_sum_category1</th>\n",
       "      <th>valor_vend_sum_category1</th>\n",
       "      <th>quantidade_vend_sum_category2</th>\n",
       "      <th>valor_vend_sum_category2</th>\n",
       "      <th>quantidade_vend_sum_category3</th>\n",
       "      <th>valor_vend_sum_category3</th>\n",
       "    </tr>\n",
       "  </thead>\n",
       "  <tbody>\n",
       "    <tr>\n",
       "      <th>5</th>\n",
       "      <td>450</td>\n",
       "      <td>8</td>\n",
       "      <td>0</td>\n",
       "      <td>7</td>\n",
       "      <td>0.0</td>\n",
       "      <td>1</td>\n",
       "      <td>2</td>\n",
       "      <td>1</td>\n",
       "      <td>27.0</td>\n",
       "      <td>0.0</td>\n",
       "      <td>0.00</td>\n",
       "      <td>6.0</td>\n",
       "      <td>104.52</td>\n",
       "      <td>358269.0</td>\n",
       "      <td>10068432.06</td>\n",
       "      <td>4896.0</td>\n",
       "      <td>84675.62</td>\n",
       "      <td>74977.0</td>\n",
       "      <td>4849177.40</td>\n",
       "      <td>1570.0</td>\n",
       "      <td>33287.11</td>\n",
       "      <td>74977.0</td>\n",
       "      <td>4849177.40</td>\n",
       "    </tr>\n",
       "    <tr>\n",
       "      <th>6</th>\n",
       "      <td>450</td>\n",
       "      <td>7</td>\n",
       "      <td>0</td>\n",
       "      <td>7</td>\n",
       "      <td>0.0</td>\n",
       "      <td>1</td>\n",
       "      <td>2</td>\n",
       "      <td>1</td>\n",
       "      <td>27.0</td>\n",
       "      <td>0.0</td>\n",
       "      <td>0.00</td>\n",
       "      <td>6.0</td>\n",
       "      <td>104.52</td>\n",
       "      <td>525059.0</td>\n",
       "      <td>13463192.50</td>\n",
       "      <td>6819.0</td>\n",
       "      <td>160438.47</td>\n",
       "      <td>92277.0</td>\n",
       "      <td>6039132.82</td>\n",
       "      <td>2580.0</td>\n",
       "      <td>59668.85</td>\n",
       "      <td>92277.0</td>\n",
       "      <td>6039132.82</td>\n",
       "    </tr>\n",
       "    <tr>\n",
       "      <th>7</th>\n",
       "      <td>450</td>\n",
       "      <td>6</td>\n",
       "      <td>0</td>\n",
       "      <td>7</td>\n",
       "      <td>0.0</td>\n",
       "      <td>1</td>\n",
       "      <td>2</td>\n",
       "      <td>1</td>\n",
       "      <td>27.0</td>\n",
       "      <td>1.0</td>\n",
       "      <td>17.42</td>\n",
       "      <td>6.0</td>\n",
       "      <td>104.52</td>\n",
       "      <td>630286.0</td>\n",
       "      <td>15994492.97</td>\n",
       "      <td>7459.0</td>\n",
       "      <td>173819.59</td>\n",
       "      <td>108776.0</td>\n",
       "      <td>7042144.20</td>\n",
       "      <td>2808.0</td>\n",
       "      <td>64899.92</td>\n",
       "      <td>108776.0</td>\n",
       "      <td>7042144.20</td>\n",
       "    </tr>\n",
       "    <tr>\n",
       "      <th>8</th>\n",
       "      <td>450</td>\n",
       "      <td>5</td>\n",
       "      <td>0</td>\n",
       "      <td>7</td>\n",
       "      <td>0.0</td>\n",
       "      <td>1</td>\n",
       "      <td>2</td>\n",
       "      <td>1</td>\n",
       "      <td>27.0</td>\n",
       "      <td>1.0</td>\n",
       "      <td>17.42</td>\n",
       "      <td>7.0</td>\n",
       "      <td>121.94</td>\n",
       "      <td>748541.0</td>\n",
       "      <td>19189924.48</td>\n",
       "      <td>9471.0</td>\n",
       "      <td>205504.01</td>\n",
       "      <td>123512.0</td>\n",
       "      <td>8116196.20</td>\n",
       "      <td>3373.0</td>\n",
       "      <td>71024.57</td>\n",
       "      <td>123512.0</td>\n",
       "      <td>8116196.20</td>\n",
       "    </tr>\n",
       "    <tr>\n",
       "      <th>9</th>\n",
       "      <td>450</td>\n",
       "      <td>4</td>\n",
       "      <td>0</td>\n",
       "      <td>7</td>\n",
       "      <td>0.0</td>\n",
       "      <td>1</td>\n",
       "      <td>2</td>\n",
       "      <td>1</td>\n",
       "      <td>27.0</td>\n",
       "      <td>153.0</td>\n",
       "      <td>2438.80</td>\n",
       "      <td>8.0</td>\n",
       "      <td>139.36</td>\n",
       "      <td>902119.0</td>\n",
       "      <td>23178106.05</td>\n",
       "      <td>10393.0</td>\n",
       "      <td>228790.02</td>\n",
       "      <td>154825.0</td>\n",
       "      <td>9889308.26</td>\n",
       "      <td>5125.0</td>\n",
       "      <td>122941.99</td>\n",
       "      <td>154825.0</td>\n",
       "      <td>9889308.26</td>\n",
       "    </tr>\n",
       "    <tr>\n",
       "      <th>10</th>\n",
       "      <td>450</td>\n",
       "      <td>3</td>\n",
       "      <td>0</td>\n",
       "      <td>7</td>\n",
       "      <td>0.0</td>\n",
       "      <td>1</td>\n",
       "      <td>2</td>\n",
       "      <td>1</td>\n",
       "      <td>27.0</td>\n",
       "      <td>1.0</td>\n",
       "      <td>17.42</td>\n",
       "      <td>161.0</td>\n",
       "      <td>2578.16</td>\n",
       "      <td>1033035.0</td>\n",
       "      <td>26091320.92</td>\n",
       "      <td>12317.0</td>\n",
       "      <td>287582.70</td>\n",
       "      <td>172529.0</td>\n",
       "      <td>11124570.37</td>\n",
       "      <td>6550.0</td>\n",
       "      <td>162397.72</td>\n",
       "      <td>172529.0</td>\n",
       "      <td>11124570.37</td>\n",
       "    </tr>\n",
       "  </tbody>\n",
       "</table>\n",
       "</div>"
      ],
      "text/plain": [
       "    itemID  group_backwards  brand  manufacturer  customerRating  category1  \\\n",
       "5      450                8      0             7             0.0          1   \n",
       "6      450                7      0             7             0.0          1   \n",
       "7      450                6      0             7             0.0          1   \n",
       "8      450                5      0             7             0.0          1   \n",
       "9      450                4      0             7             0.0          1   \n",
       "10     450                3      0             7             0.0          1   \n",
       "\n",
       "    category2  category3  recommendedRetailPrice  order  salesPrice  \\\n",
       "5           2          1                    27.0    0.0        0.00   \n",
       "6           2          1                    27.0    0.0        0.00   \n",
       "7           2          1                    27.0    1.0       17.42   \n",
       "8           2          1                    27.0    1.0       17.42   \n",
       "9           2          1                    27.0  153.0     2438.80   \n",
       "10          2          1                    27.0    1.0       17.42   \n",
       "\n",
       "    quantidade_vend_sum_itemID  valor_vend_sum_itemID  \\\n",
       "5                          6.0                 104.52   \n",
       "6                          6.0                 104.52   \n",
       "7                          6.0                 104.52   \n",
       "8                          7.0                 121.94   \n",
       "9                          8.0                 139.36   \n",
       "10                       161.0                2578.16   \n",
       "\n",
       "    quantidade_vend_sum_brand  valor_vend_sum_brand  \\\n",
       "5                    358269.0           10068432.06   \n",
       "6                    525059.0           13463192.50   \n",
       "7                    630286.0           15994492.97   \n",
       "8                    748541.0           19189924.48   \n",
       "9                    902119.0           23178106.05   \n",
       "10                  1033035.0           26091320.92   \n",
       "\n",
       "    quantidade_vend_sum_manufacturer  valor_vend_sum_manufacturer  \\\n",
       "5                             4896.0                     84675.62   \n",
       "6                             6819.0                    160438.47   \n",
       "7                             7459.0                    173819.59   \n",
       "8                             9471.0                    205504.01   \n",
       "9                            10393.0                    228790.02   \n",
       "10                           12317.0                    287582.70   \n",
       "\n",
       "    quantidade_vend_sum_category1  valor_vend_sum_category1  \\\n",
       "5                         74977.0                4849177.40   \n",
       "6                         92277.0                6039132.82   \n",
       "7                        108776.0                7042144.20   \n",
       "8                        123512.0                8116196.20   \n",
       "9                        154825.0                9889308.26   \n",
       "10                       172529.0               11124570.37   \n",
       "\n",
       "    quantidade_vend_sum_category2  valor_vend_sum_category2  \\\n",
       "5                          1570.0                  33287.11   \n",
       "6                          2580.0                  59668.85   \n",
       "7                          2808.0                  64899.92   \n",
       "8                          3373.0                  71024.57   \n",
       "9                          5125.0                 122941.99   \n",
       "10                         6550.0                 162397.72   \n",
       "\n",
       "    quantidade_vend_sum_category3  valor_vend_sum_category3  \n",
       "5                         74977.0                4849177.40  \n",
       "6                         92277.0                6039132.82  \n",
       "7                        108776.0                7042144.20  \n",
       "8                        123512.0                8116196.20  \n",
       "9                        154825.0                9889308.26  \n",
       "10                       172529.0               11124570.37  "
      ]
     },
     "execution_count": 16,
     "metadata": {},
     "output_type": "execute_result"
    }
   ],
   "source": [
    "X_full_val_feats.head(6)"
   ]
  },
  {
   "cell_type": "code",
   "execution_count": 17,
   "metadata": {
    "collapsed": true
   },
   "outputs": [
    {
     "data": {
      "text/html": [
       "<div>\n",
       "<style scoped>\n",
       "    .dataframe tbody tr th:only-of-type {\n",
       "        vertical-align: middle;\n",
       "    }\n",
       "\n",
       "    .dataframe tbody tr th {\n",
       "        vertical-align: top;\n",
       "    }\n",
       "\n",
       "    .dataframe thead th {\n",
       "        text-align: right;\n",
       "    }\n",
       "</style>\n",
       "<table border=\"1\" class=\"dataframe\">\n",
       "  <thead>\n",
       "    <tr style=\"text-align: right;\">\n",
       "      <th></th>\n",
       "      <th>itemID</th>\n",
       "      <th>group_backwards</th>\n",
       "      <th>brand</th>\n",
       "      <th>manufacturer</th>\n",
       "      <th>customerRating</th>\n",
       "      <th>category1</th>\n",
       "      <th>category2</th>\n",
       "      <th>category3</th>\n",
       "      <th>recommendedRetailPrice</th>\n",
       "      <th>order</th>\n",
       "      <th>salesPrice</th>\n",
       "      <th>quantidade_vend_sum_itemID</th>\n",
       "      <th>valor_vend_sum_itemID</th>\n",
       "      <th>quantidade_vend_sum_brand</th>\n",
       "      <th>valor_vend_sum_brand</th>\n",
       "      <th>quantidade_vend_sum_manufacturer</th>\n",
       "      <th>valor_vend_sum_manufacturer</th>\n",
       "      <th>quantidade_vend_sum_category1</th>\n",
       "      <th>valor_vend_sum_category1</th>\n",
       "      <th>quantidade_vend_sum_category2</th>\n",
       "      <th>valor_vend_sum_category2</th>\n",
       "      <th>quantidade_vend_sum_category3</th>\n",
       "      <th>valor_vend_sum_category3</th>\n",
       "    </tr>\n",
       "  </thead>\n",
       "  <tbody>\n",
       "    <tr>\n",
       "      <th>127915</th>\n",
       "      <td>9796</td>\n",
       "      <td>5</td>\n",
       "      <td>243</td>\n",
       "      <td>252</td>\n",
       "      <td>0.0</td>\n",
       "      <td>8</td>\n",
       "      <td>44</td>\n",
       "      <td>8</td>\n",
       "      <td>80.54</td>\n",
       "      <td>0.0</td>\n",
       "      <td>0.00</td>\n",
       "      <td>0.0</td>\n",
       "      <td>0.0</td>\n",
       "      <td>0.0</td>\n",
       "      <td>0.00</td>\n",
       "      <td>0.0</td>\n",
       "      <td>0.00</td>\n",
       "      <td>46808.0</td>\n",
       "      <td>8864751.84</td>\n",
       "      <td>32883.0</td>\n",
       "      <td>7933760.77</td>\n",
       "      <td>46820.0</td>\n",
       "      <td>8866974.24</td>\n",
       "    </tr>\n",
       "    <tr>\n",
       "      <th>127916</th>\n",
       "      <td>9796</td>\n",
       "      <td>4</td>\n",
       "      <td>243</td>\n",
       "      <td>252</td>\n",
       "      <td>0.0</td>\n",
       "      <td>8</td>\n",
       "      <td>44</td>\n",
       "      <td>8</td>\n",
       "      <td>80.54</td>\n",
       "      <td>0.0</td>\n",
       "      <td>0.00</td>\n",
       "      <td>0.0</td>\n",
       "      <td>0.0</td>\n",
       "      <td>0.0</td>\n",
       "      <td>0.00</td>\n",
       "      <td>0.0</td>\n",
       "      <td>0.00</td>\n",
       "      <td>53951.0</td>\n",
       "      <td>9953030.27</td>\n",
       "      <td>37524.0</td>\n",
       "      <td>8859999.21</td>\n",
       "      <td>53963.0</td>\n",
       "      <td>9955252.67</td>\n",
       "    </tr>\n",
       "    <tr>\n",
       "      <th>127917</th>\n",
       "      <td>9796</td>\n",
       "      <td>3</td>\n",
       "      <td>243</td>\n",
       "      <td>252</td>\n",
       "      <td>0.0</td>\n",
       "      <td>8</td>\n",
       "      <td>44</td>\n",
       "      <td>8</td>\n",
       "      <td>80.54</td>\n",
       "      <td>0.0</td>\n",
       "      <td>0.00</td>\n",
       "      <td>0.0</td>\n",
       "      <td>0.0</td>\n",
       "      <td>0.0</td>\n",
       "      <td>0.00</td>\n",
       "      <td>0.0</td>\n",
       "      <td>0.00</td>\n",
       "      <td>65288.0</td>\n",
       "      <td>11710754.55</td>\n",
       "      <td>44628.0</td>\n",
       "      <td>10256521.30</td>\n",
       "      <td>65300.0</td>\n",
       "      <td>11712976.95</td>\n",
       "    </tr>\n",
       "    <tr>\n",
       "      <th>127918</th>\n",
       "      <td>9796</td>\n",
       "      <td>2</td>\n",
       "      <td>243</td>\n",
       "      <td>252</td>\n",
       "      <td>0.0</td>\n",
       "      <td>8</td>\n",
       "      <td>44</td>\n",
       "      <td>8</td>\n",
       "      <td>80.54</td>\n",
       "      <td>0.0</td>\n",
       "      <td>0.00</td>\n",
       "      <td>0.0</td>\n",
       "      <td>0.0</td>\n",
       "      <td>552.0</td>\n",
       "      <td>68581.27</td>\n",
       "      <td>552.0</td>\n",
       "      <td>68581.27</td>\n",
       "      <td>76764.0</td>\n",
       "      <td>13675791.56</td>\n",
       "      <td>50788.0</td>\n",
       "      <td>11886677.67</td>\n",
       "      <td>76776.0</td>\n",
       "      <td>13678013.96</td>\n",
       "    </tr>\n",
       "    <tr>\n",
       "      <th>127919</th>\n",
       "      <td>9796</td>\n",
       "      <td>1</td>\n",
       "      <td>243</td>\n",
       "      <td>252</td>\n",
       "      <td>0.0</td>\n",
       "      <td>8</td>\n",
       "      <td>44</td>\n",
       "      <td>8</td>\n",
       "      <td>80.54</td>\n",
       "      <td>1.0</td>\n",
       "      <td>159.82</td>\n",
       "      <td>0.0</td>\n",
       "      <td>0.0</td>\n",
       "      <td>663.0</td>\n",
       "      <td>73267.41</td>\n",
       "      <td>663.0</td>\n",
       "      <td>73267.41</td>\n",
       "      <td>93055.0</td>\n",
       "      <td>15474011.89</td>\n",
       "      <td>62092.0</td>\n",
       "      <td>13433419.96</td>\n",
       "      <td>93067.0</td>\n",
       "      <td>15476234.29</td>\n",
       "    </tr>\n",
       "  </tbody>\n",
       "</table>\n",
       "</div>"
      ],
      "text/plain": [
       "        itemID  group_backwards  brand  manufacturer  customerRating  \\\n",
       "127915    9796                5    243           252             0.0   \n",
       "127916    9796                4    243           252             0.0   \n",
       "127917    9796                3    243           252             0.0   \n",
       "127918    9796                2    243           252             0.0   \n",
       "127919    9796                1    243           252             0.0   \n",
       "\n",
       "        category1  category2  category3  recommendedRetailPrice  order  \\\n",
       "127915          8         44          8                   80.54    0.0   \n",
       "127916          8         44          8                   80.54    0.0   \n",
       "127917          8         44          8                   80.54    0.0   \n",
       "127918          8         44          8                   80.54    0.0   \n",
       "127919          8         44          8                   80.54    1.0   \n",
       "\n",
       "        salesPrice  quantidade_vend_sum_itemID  valor_vend_sum_itemID  \\\n",
       "127915        0.00                         0.0                    0.0   \n",
       "127916        0.00                         0.0                    0.0   \n",
       "127917        0.00                         0.0                    0.0   \n",
       "127918        0.00                         0.0                    0.0   \n",
       "127919      159.82                         0.0                    0.0   \n",
       "\n",
       "        quantidade_vend_sum_brand  valor_vend_sum_brand  \\\n",
       "127915                        0.0                  0.00   \n",
       "127916                        0.0                  0.00   \n",
       "127917                        0.0                  0.00   \n",
       "127918                      552.0              68581.27   \n",
       "127919                      663.0              73267.41   \n",
       "\n",
       "        quantidade_vend_sum_manufacturer  valor_vend_sum_manufacturer  \\\n",
       "127915                               0.0                         0.00   \n",
       "127916                               0.0                         0.00   \n",
       "127917                               0.0                         0.00   \n",
       "127918                             552.0                     68581.27   \n",
       "127919                             663.0                     73267.41   \n",
       "\n",
       "        quantidade_vend_sum_category1  valor_vend_sum_category1  \\\n",
       "127915                        46808.0                8864751.84   \n",
       "127916                        53951.0                9953030.27   \n",
       "127917                        65288.0               11710754.55   \n",
       "127918                        76764.0               13675791.56   \n",
       "127919                        93055.0               15474011.89   \n",
       "\n",
       "        quantidade_vend_sum_category2  valor_vend_sum_category2  \\\n",
       "127915                        32883.0                7933760.77   \n",
       "127916                        37524.0                8859999.21   \n",
       "127917                        44628.0               10256521.30   \n",
       "127918                        50788.0               11886677.67   \n",
       "127919                        62092.0               13433419.96   \n",
       "\n",
       "        quantidade_vend_sum_category3  valor_vend_sum_category3  \n",
       "127915                        46820.0                8866974.24  \n",
       "127916                        53963.0                9955252.67  \n",
       "127917                        65300.0               11712976.95  \n",
       "127918                        76776.0               13678013.96  \n",
       "127919                        93067.0               15476234.29  "
      ]
     },
     "execution_count": 17,
     "metadata": {},
     "output_type": "execute_result"
    }
   ],
   "source": [
    "X_full_val_feats.tail()"
   ]
  },
  {
   "cell_type": "code",
   "execution_count": 18,
   "metadata": {
    "collapsed": true
   },
   "outputs": [
    {
     "data": {
      "text/plain": [
       "0"
      ]
     },
     "execution_count": 18,
     "metadata": {},
     "output_type": "execute_result"
    }
   ],
   "source": [
    "# Since we filled missing orders/sales price with 0, impossible to have NaN\n",
    "X_full_val_feats.isna().sum().sum()"
   ]
  },
  {
   "cell_type": "markdown",
   "metadata": {},
   "source": [
    "# Train model"
   ]
  },
  {
   "cell_type": "code",
   "execution_count": 19,
   "metadata": {
    "collapsed": true
   },
   "outputs": [],
   "source": [
    "full_train = X_full_val_feats.query(\"group_backwards > 1\")\n",
    "train = X_full_val_feats.query(\"group_backwards > 2\")\n",
    "val = X_full_val_feats.query(\"group_backwards == 2\")\n",
    "sub = X_full_val_feats.query(\"group_backwards == 1\")\n",
    "\n",
    "drop_cols = [\"order\", \"salesPrice\"]\n",
    "x_full_train = full_train.drop(columns=drop_cols)\n",
    "x_train = train.drop(columns=drop_cols)\n",
    "x_val = val.drop(columns=drop_cols)\n",
    "x_sub = sub.drop(columns=drop_cols)\n",
    "\n",
    "y_full_train = full_train[\"order\"]\n",
    "y_train = train[\"order\"]\n",
    "y_val = val[\"order\"]\n",
    "y_sub = sub[\"order\"]"
   ]
  },
  {
   "cell_type": "code",
   "execution_count": 20,
   "metadata": {
    "collapsed": true
   },
   "outputs": [],
   "source": [
    "weights = infos.set_index('itemID')['simulationPrice'].to_dict()\n",
    "w_full_train = full_train['itemID'].map(weights)\n",
    "w_train = train['itemID'].map(weights)\n",
    "w_val = val['itemID'].map(weights)\n",
    "w_sub = sub['itemID'].map(weights)\n",
    "\n",
    "# Create binary targets\n",
    "y_full_train_bin = (y_full_train > 0).astype(int)\n",
    "y_train_bin = (y_train > 0).astype(int)\n",
    "y_val_bin = (y_val > 0).astype(int)\n",
    "y_sub_bin = (y_sub > 0).astype(int)"
   ]
  },
  {
   "cell_type": "code",
   "execution_count": 21,
   "metadata": {
    "collapsed": true
   },
   "outputs": [],
   "source": [
    "# Not that good, but doable... maybe\n",
    "# for idx, (y_temp, name) in enumerate(zip([y_train_bin, y_val_bin, y_sub_bin], \n",
    "#                                          [\"train\", \"val\", \"sub\"]), 1):\n",
    "#     plt.subplot(1, 3, idx)\n",
    "#     sns.countplot(y_temp)\n",
    "#     plt.title(name)"
   ]
  },
  {
   "cell_type": "markdown",
   "metadata": {},
   "source": [
    "<hr>"
   ]
  },
  {
   "cell_type": "code",
   "execution_count": 22,
   "metadata": {
    "collapsed": true
   },
   "outputs": [],
   "source": [
    "from sklearn.metrics import mean_squared_error as mse\n",
    "def evaluate(prediction, target, simulationPrice):\n",
    "    return np.sum((prediction - np.maximum(prediction - target, 0) * 1.6)  * simulationPrice)"
   ]
  },
  {
   "cell_type": "markdown",
   "metadata": {},
   "source": [
    "## - First normal xgb"
   ]
  },
  {
   "cell_type": "code",
   "execution_count": 23,
   "metadata": {
    "collapsed": true
   },
   "outputs": [],
   "source": [
    "import xgboost as xgb"
   ]
  },
  {
   "cell_type": "code",
   "execution_count": 24,
   "metadata": {
    "collapsed": true
   },
   "outputs": [
    {
     "data": {
      "text/plain": [
       "'1.1.1'"
      ]
     },
     "execution_count": 24,
     "metadata": {},
     "output_type": "execute_result"
    }
   ],
   "source": [
    "xgb.__version__"
   ]
  },
  {
   "cell_type": "code",
   "execution_count": 25,
   "metadata": {
    "collapsed": true
   },
   "outputs": [],
   "source": [
    "# custom objective\n",
    "\n",
    "def gradient(prediction, dtrain):\n",
    "    y = dtrain.get_label()\n",
    "#     prediction.astype(int)\n",
    "#     prediction = np.minimum(prediction.astype(int), 1)\n",
    "    return -2 * (prediction - np.maximum(prediction - y, 0) * 1.6) * (1 - (prediction > y) * 1.6)\n",
    "\n",
    "def hessian(prediction, dtrain):\n",
    "    y = dtrain.get_label()\n",
    "#     prediction.prediction(int)\n",
    "#     prediction = np.minimum(prediction.astype(int), 1)\n",
    "    return -2 * (1 - (prediction > y) * 1.6) ** 2\n",
    "\n",
    "def objective(prediction, dtrain):\n",
    "    w = dtrain.get_weight()\n",
    "    grad = gradient(prediction, dtrain) * w\n",
    "    hess = hessian(prediction, dtrain) * w\n",
    "    return grad, hess"
   ]
  },
  {
   "cell_type": "code",
   "execution_count": 26,
   "metadata": {
    "collapsed": true
   },
   "outputs": [],
   "source": [
    "# custom feval\n",
    "\n",
    "def feval(prediction, dtrain):\n",
    "    prediction = prediction.astype(int)\n",
    "#     predt = np.minimum(predt.astype(int), 1)\n",
    "    target = dtrain.get_label()\n",
    "    simulationPrice = dtrain.get_weight()\n",
    "    return 'feval', np.sum((prediction - np.maximum(prediction - target, 0) * 1.6)  * simulationPrice)"
   ]
  },
  {
   "cell_type": "code",
   "execution_count": 27,
   "metadata": {
    "collapsed": true
   },
   "outputs": [
    {
     "name": "stdout",
     "output_type": "stream",
     "text": [
      "[0]\ttrain-feval:41196.60592\tval-feval:17798.47414\n",
      "Multiple eval metrics have been passed: 'val-feval' will be used for early stopping.\n",
      "\n",
      "Will train until val-feval hasn't improved in 30 rounds.\n",
      "[1]\ttrain-feval:76490.61584\tval-feval:30892.35220\n",
      "[2]\ttrain-feval:131405.35395\tval-feval:37293.46835\n",
      "[3]\ttrain-feval:165190.53191\tval-feval:39223.36447\n",
      "[4]\ttrain-feval:211579.45192\tval-feval:37819.95467\n",
      "[5]\ttrain-feval:260066.94994\tval-feval:39504.84674\n",
      "[6]\ttrain-feval:297732.96194\tval-feval:38223.08883\n",
      "[7]\ttrain-feval:342570.99996\tval-feval:40789.21102\n",
      "[8]\ttrain-feval:360246.80390\tval-feval:38218.00712\n",
      "[9]\ttrain-feval:429016.86391\tval-feval:35501.49918\n",
      "[10]\ttrain-feval:467007.33182\tval-feval:30013.78126\n",
      "[11]\ttrain-feval:484204.76377\tval-feval:16466.11534\n",
      "[12]\ttrain-feval:514440.28976\tval-feval:10790.47947\n",
      "[13]\ttrain-feval:545542.63171\tval-feval:-2455.80648\n",
      "[14]\ttrain-feval:583755.55781\tval-feval:-15449.03049\n",
      "[15]\ttrain-feval:610857.95994\tval-feval:-29550.76052\n",
      "[16]\ttrain-feval:636506.88981\tval-feval:-44272.18248\n",
      "[17]\ttrain-feval:648067.55178\tval-feval:-52678.16647\n",
      "[18]\ttrain-feval:614651.21394\tval-feval:-63959.36043\n",
      "[19]\ttrain-feval:650072.69997\tval-feval:-73079.91639\n",
      "[20]\ttrain-feval:701803.60788\tval-feval:-89468.00649\n",
      "[21]\ttrain-feval:722431.61193\tval-feval:-112596.92229\n",
      "[22]\ttrain-feval:723142.62581\tval-feval:-127362.48428\n",
      "[23]\ttrain-feval:721722.40182\tval-feval:-147142.50233\n",
      "[24]\ttrain-feval:754296.45974\tval-feval:-155152.17231\n",
      "[25]\ttrain-feval:750751.21177\tval-feval:-176137.06435\n",
      "[26]\ttrain-feval:762233.98963\tval-feval:-193162.65034\n",
      "[27]\ttrain-feval:791989.55577\tval-feval:-205252.16242\n",
      "[28]\ttrain-feval:802080.10165\tval-feval:-222952.85044\n",
      "[29]\ttrain-feval:793041.31767\tval-feval:-234594.66642\n",
      "[30]\ttrain-feval:773994.12162\tval-feval:-250377.16441\n",
      "[31]\ttrain-feval:784796.94964\tval-feval:-274882.59831\n",
      "[32]\ttrain-feval:808617.06368\tval-feval:-288224.24024\n",
      "[33]\ttrain-feval:821664.81772\tval-feval:-301494.39422\n",
      "[34]\ttrain-feval:842528.24770\tval-feval:-310580.69019\n",
      "[35]\ttrain-feval:867963.70758\tval-feval:-313751.51021\n",
      "[36]\ttrain-feval:872915.22350\tval-feval:-321968.94217\n",
      "[37]\ttrain-feval:890807.07364\tval-feval:-329444.70615\n",
      "Stopping. Best iteration:\n",
      "[7]\ttrain-feval:342570.99996\tval-feval:40789.21102\n",
      "\n"
     ]
    }
   ],
   "source": [
    "dtrain = xgb.DMatrix(x_train, y_train, w_train, missing = 0)\n",
    "dval = xgb.DMatrix(x_val, y_val, w_val, missing = 0)\n",
    "dsub = xgb.DMatrix(x_sub, y_sub, w_sub, missing = 0)\n",
    "dfulltrain = xgb.DMatrix(x_full_train, y_full_train, w_full_train, missing = 0)\n",
    "# specify parameters via map\n",
    "param = {\n",
    "    'max_depth':10,\n",
    "    'eta':0.005,\n",
    "    'objective':'reg:squarederror',\n",
    "    'disable_default_eval_metric': 1,\n",
    "#     'tree_method' : 'gpu_hist',\n",
    "}\n",
    "num_round = 100\n",
    "bst = xgb.train(param, dtrain,\n",
    "                num_round,\n",
    "                early_stopping_rounds = 30,\n",
    "                evals = [(dtrain, 'train'), (dval, 'val')],\n",
    "#                obj = objective,\n",
    "                feval = feval,\n",
    "                maximize = True,\n",
    "                )"
   ]
  },
  {
   "cell_type": "code",
   "execution_count": 28,
   "metadata": {
    "collapsed": true
   },
   "outputs": [
    {
     "data": {
      "text/plain": [
       "63645.58999999994"
      ]
     },
     "execution_count": 28,
     "metadata": {},
     "output_type": "execute_result"
    }
   ],
   "source": [
    "prediction = bst.predict(dsub, ntree_limit=bst.best_ntree_limit).astype(int)\n",
    "evaluate(prediction, y_sub, w_sub)"
   ]
  },
  {
   "cell_type": "code",
   "execution_count": 29,
   "metadata": {
    "collapsed": true
   },
   "outputs": [],
   "source": [
    "# retrain!"
   ]
  },
  {
   "cell_type": "code",
   "execution_count": 30,
   "metadata": {
    "collapsed": true
   },
   "outputs": [],
   "source": [
    "bst_sub = xgb.train(param, dfulltrain,\n",
    "    num_boost_round = bst.best_ntree_limit, early_stopping_rounds=30,\n",
    "    #                 obj = objective,\n",
    "    feval = feval, maximize = True,\n",
    "    evals = [(dfulltrain, 'ftrain')],\n",
    "    verbose_eval = False,\n",
    ")"
   ]
  },
  {
   "cell_type": "code",
   "execution_count": 31,
   "metadata": {
    "collapsed": true
   },
   "outputs": [
    {
     "data": {
      "text/plain": [
       "108488.32800000001"
      ]
     },
     "execution_count": 31,
     "metadata": {},
     "output_type": "execute_result"
    }
   ],
   "source": [
    "prediction = bst_sub.predict(dsub, ntree_limit=bst_sub.best_ntree_limit).astype(int)\n",
    "evaluate(prediction, y_sub, w_sub)"
   ]
  },
  {
   "cell_type": "code",
   "execution_count": null,
   "metadata": {
    "collapsed": true
   },
   "outputs": [],
   "source": []
  },
  {
   "cell_type": "code",
   "execution_count": null,
   "metadata": {
    "collapsed": true
   },
   "outputs": [],
   "source": []
  },
  {
   "cell_type": "code",
   "execution_count": null,
   "metadata": {
    "collapsed": true
   },
   "outputs": [],
   "source": []
  }
 ],
 "metadata": {
  "kernelspec": {
   "display_name": "Python 3",
   "language": "python",
   "name": "python3"
  },
  "language_info": {
   "codemirror_mode": {
    "name": "ipython",
    "version": 3
   },
   "file_extension": ".py",
   "mimetype": "text/x-python",
   "name": "python",
   "nbconvert_exporter": "python",
   "pygments_lexer": "ipython3",
   "version": "3.6.5rc1"
  },
  "toc": {
   "base_numbering": 1,
   "nav_menu": {},
   "number_sections": false,
   "sideBar": false,
   "skip_h1_title": false,
   "title_cell": "Table of Contents",
   "title_sidebar": "Contents",
   "toc_cell": true,
   "toc_position": {},
   "toc_section_display": true,
   "toc_window_display": false
  }
 },
 "nbformat": 4,
 "nbformat_minor": 4
}
