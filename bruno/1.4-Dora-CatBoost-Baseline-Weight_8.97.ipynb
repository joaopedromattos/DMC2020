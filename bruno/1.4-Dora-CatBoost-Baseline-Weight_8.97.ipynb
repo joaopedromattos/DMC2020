{
 "cells": [
  {
   "cell_type": "markdown",
   "metadata": {
    "toc": true
   },
   "source": [
    "<h1>Table of Contents<span class=\"tocSkip\"></span></h1>\n",
    "<div class=\"toc\"><ul class=\"toc-item\"><li><span><a href=\"#CatBoost-Baseline-with-price\" data-toc-modified-id=\"CatBoost-Baseline-with-price-1\">CatBoost Baseline with price</a></span><ul class=\"toc-item\"><li><span><a href=\"#Preparing-our-dataset\" data-toc-modified-id=\"Preparing-our-dataset-1.1\">Preparing our dataset</a></span></li><li><span><a href=\"#Maximum-error\" data-toc-modified-id=\"Maximum-error-1.2\">Maximum error</a></span></li><li><span><a href=\"#Dataset-Splitting\" data-toc-modified-id=\"Dataset-Splitting-1.3\">Dataset Splitting</a></span></li></ul></li><li><span><a href=\"#BRUNO'S-CHANGES\" data-toc-modified-id=\"BRUNO'S-CHANGES-2\">BRUNO'S CHANGES</a></span></li><li><span><a href=\"#retrain-with-best-results\" data-toc-modified-id=\"retrain-with-best-results-3\">retrain with best results</a></span><ul class=\"toc-item\"><li><ul class=\"toc-item\"><li><span><a href=\"#Utilities\" data-toc-modified-id=\"Utilities-3.0.1\">Utilities</a></span></li></ul></li></ul></li></ul></div>"
   ]
  },
  {
   "cell_type": "markdown",
   "metadata": {},
   "source": [
    "# CatBoost Baseline with price\n",
    "\n",
    "Original notebook by Dora - I (Bruno) added the price/weight\n"
   ]
  },
  {
   "cell_type": "code",
   "execution_count": 1,
   "metadata": {},
   "outputs": [],
   "source": [
    "import sys\n",
    "sys.path.append(\"../dora/models\")  # For using Dora's utils files"
   ]
  },
  {
   "cell_type": "code",
   "execution_count": 2,
   "metadata": {},
   "outputs": [
    {
     "name": "stdout",
     "output_type": "stream",
     "text": [
      "1.0v  1.0v.zip\r\n"
     ]
    }
   ],
   "source": [
    "import numpy as np\n",
    "import pandas as pd\n",
    "from utils import read_data, process_time, merge_data, promo_detector, promotionAggregation\n",
    "import seaborn as sns\n",
    "import matplotlib.pyplot as plt\n",
    "from sklearn.model_selection import train_test_split\n",
    "from sklearn.metrics import mean_squared_error as mse\n",
    "import sys\n",
    "import xgboost as xgb\n",
    "import lightgbm as lgb\n",
    "from datetime import datetime\n",
    "from catboost import CatBoostRegressor, Pool, cv\n",
    "\n",
    "NUMBER_OF_LAGS = 4\n",
    "\n",
    "# sys.path.append(\"../../main/datasets/\")\n",
    "!ls  ../main/datasets/"
   ]
  },
  {
   "cell_type": "markdown",
   "metadata": {},
   "source": [
    "## Preparing our dataset\n",
    "These steps were already seen on ```../pre-processing-features``` notebooks."
   ]
  },
  {
   "cell_type": "code",
   "execution_count": 3,
   "metadata": {},
   "outputs": [
    {
     "name": "stdout",
     "output_type": "stream",
     "text": [
      "Sanity checks... (10463, 3) (10463, 8) (2181955, 5)\n"
     ]
    }
   ],
   "source": [
    "infos, items, orders = read_data(\"../main/datasets/\")\n",
    "print(\"Sanity checks...\", infos.shape, items.shape, orders.shape)"
   ]
  },
  {
   "cell_type": "code",
   "execution_count": 4,
   "metadata": {},
   "outputs": [],
   "source": [
    "# Changing our time signatures, \n",
    "# adding our promotion feature \n",
    "# and aggregating our data by weeks...\n",
    "process_time(orders)\n",
    "orders = promo_detector(orders)\n",
    "df = promotionAggregation(orders, items)"
   ]
  },
  {
   "cell_type": "code",
   "execution_count": 5,
   "metadata": {},
   "outputs": [],
   "source": [
    "def prepareOrders(orders, items):\n",
    "    \"\"\"This function is responsible for adding in our 'orders' dataframe\n",
    "    the items that were not sold. THIS IS NOT MODULARIZED, THUS YOU\n",
    "    SHOULD CHANGE THE CODE TO BETTER SUIT YOUR DATASET FEATURES\n",
    "    \"\"\"\n",
    "    \n",
    "    df = orders.copy()\n",
    "    \n",
    "    # Getting the IDs that were never sold\n",
    "    not_sold_items = items[np.logical_not(\n",
    "        items.itemID.isin(sorted(orders['itemID'].unique())))]\n",
    "\n",
    "    new_rows = []\n",
    "    weeks_database = orders['group_backwards'].unique()\n",
    "\n",
    "    for idd in df['itemID'].unique():\n",
    "        orders_id = df[df.itemID == idd]\n",
    "        example = orders_id.iloc[0]\n",
    "\n",
    "        # finding weeks without itemID sales\n",
    "        weeks_id = orders_id['group_backwards'].unique()\n",
    "        weeks_without_id = np.setdiff1d(weeks_database, weeks_id)\n",
    "\n",
    "        # creating new row\n",
    "        for w in weeks_without_id:\n",
    "            new_rows.append({'itemID': idd,\n",
    "                             'group_backwards': w,\n",
    "                             'salesPrice_mean': 0,\n",
    "                             'customerRating': example['customerRating'],\n",
    "                             'category1': example['category1'],\n",
    "                             'category2': example['category2'],\n",
    "                             'category3': example['category3'],\n",
    "                             'recommendedRetailPrice': example['recommendedRetailPrice'],\n",
    "                             'orderSum': 0,\n",
    "                             'manufacturer': example['manufacturer'],\n",
    "                             'brand': example['brand'],\n",
    "                             'promotion_mean': 0\n",
    "                             })\n",
    "    #  Adding rows in every week with the IDs of the\n",
    "    # items that were never sold.\n",
    "    df = df.append(new_rows)\n",
    "    not_sold_orders = pd.DataFrame()\n",
    "    for i in range(1, 14):\n",
    "        aux = not_sold_items.copy()\n",
    "        aux['group_backwards'] = i\n",
    "        aux['salesPrice_mean'] = 0\n",
    "        aux['promotion_mean'] = 0\n",
    "        aux['orderSum'] = 0\n",
    "        not_sold_orders = pd.concat([not_sold_orders, aux], axis=0)\n",
    "    df = pd.concat([df, not_sold_orders], axis=0).sort_values(\n",
    "        ['group_backwards', 'itemID'], ascending=[False, True], ignore_index=True)\n",
    "    return df"
   ]
  },
  {
   "cell_type": "code",
   "execution_count": 6,
   "metadata": {},
   "outputs": [],
   "source": [
    "df = prepareOrders(df, items)"
   ]
  },
  {
   "cell_type": "code",
   "execution_count": 7,
   "metadata": {},
   "outputs": [],
   "source": [
    "# This cell lags and diffs our features 'orderSum' and \"promotion\"\n",
    "\n",
    "shifting = df.copy()\n",
    "\n",
    "for i in range(1, NUMBER_OF_LAGS + 1):\n",
    "    # Carrying the data of weeks t-1\n",
    "    shifting[f'orderSum_{i}'] = shifting.groupby('itemID')['orderSum'].shift(i)\n",
    "    shifting[f'promotion_mean_{i}'] = shifting.groupby('itemID')['promotion_mean'].shift(i)\n",
    "    \n",
    "    # Getting the difference of the orders and promotions between weeks t-1 and t-2...\n",
    "    shifting[f'orderSum_diff_{i}'] = shifting.groupby('itemID')[f'orderSum_{i}'].diff()\n",
    "    shifting[f'promotion_mean_diff_{i}'] = shifting.groupby('itemID')[f'promotion_mean_{i}'].diff()\n",
    "shifting.fillna(0, inplace=True)"
   ]
  },
  {
   "cell_type": "markdown",
   "metadata": {},
   "source": [
    "## Maximum error\n",
    "The maximum error we could get in this dataset would be just guessing the mean of our sales from weeks 1 to 12, and that's what the cell below is computing."
   ]
  },
  {
   "cell_type": "code",
   "execution_count": 8,
   "metadata": {},
   "outputs": [
    {
     "name": "stdout",
     "output_type": "stream",
     "text": [
      "Guessing the mean of 'orderSum' for all items in target 90.29706562119341\n"
     ]
    }
   ],
   "source": [
    "worst_possible_prediction = shifting.loc[shifting.group_backwards < 13]['orderSum'].mean()\n",
    "prediction = np.full(shifting.loc[shifting.group_backwards == 13]['orderSum'].shape, worst_possible_prediction) # Array filled with the mean...\n",
    "target = shifting.loc[shifting.group_backwards == 13]['orderSum']\n",
    "print(\"Guessing the mean of 'orderSum' for all items in target\", mse(target, prediction) ** 0.5)"
   ]
  },
  {
   "cell_type": "markdown",
   "metadata": {},
   "source": [
    "## Dataset Splitting\n",
    "All my experiments will use weeks 13 to 3 as a train set, week 2 as our validation set and week 1 as a test set."
   ]
  },
  {
   "cell_type": "code",
   "execution_count": 9,
   "metadata": {},
   "outputs": [],
   "source": [
    "# CatBoost requires that all columns should\n",
    "stringColumns = shifting.columns[3:]\n",
    "shifting[stringColumns] = shifting[stringColumns].astype(str)"
   ]
  },
  {
   "cell_type": "code",
   "execution_count": 10,
   "metadata": {},
   "outputs": [],
   "source": [
    "# Datatype conversion required by Catboost\n",
    "train = shifting.loc[shifting.group_backwards >= 3]\n",
    "val = shifting.loc[shifting.group_backwards == 2]\n",
    "test = shifting.loc[shifting.group_backwards == 1]"
   ]
  },
  {
   "cell_type": "code",
   "execution_count": 11,
   "metadata": {},
   "outputs": [],
   "source": [
    "# I recommend to the other members of the team keeping the\n",
    "# datatypes of our datasets as Pandas DataFrames instead of Numpy,\n",
    "# since It will easier to use Boosting Analysis frameworks\n",
    "y_train = train['orderSum']\n",
    "y_val = val['orderSum']\n",
    "X_train = train.drop(columns=[\"orderSum\"])\n",
    "X_val = val.drop(columns=[\"orderSum\"])"
   ]
  },
  {
   "cell_type": "markdown",
   "metadata": {},
   "source": [
    "---\n",
    "<br>\n",
    "<br>\n",
    "\n",
    "# BRUNO'S CHANGES\n",
    "\n",
    "Below is my added code:\n",
    "- Create a \"weight\" vector for catboost so it weights each instance according to it's price\n",
    "- Pass that to the traning itself"
   ]
  },
  {
   "cell_type": "code",
   "execution_count": 12,
   "metadata": {},
   "outputs": [],
   "source": [
    "# Since I want to keep Dora's original code, I add it\n",
    "#   by re-merging into the dataset\n",
    "def recreate_weights(data):\n",
    "    weights = pd.merge(data[\"itemID\"], infos[[\"itemID\", \"simulationPrice\"]], \n",
    "                       on=\"itemID\", validate=\"m:1\")\n",
    "    return weights[\"simulationPrice\"]\n",
    "train_weights = recreate_weights(train)\n",
    "val_weights = recreate_weights(val)"
   ]
  },
  {
   "cell_type": "markdown",
   "metadata": {},
   "source": [
    "// Bruno's changes"
   ]
  },
  {
   "cell_type": "code",
   "execution_count": 13,
   "metadata": {},
   "outputs": [],
   "source": [
    "# initialize Pool\n",
    "train_pool = Pool(X_train, \n",
    "                  y_train, \n",
    "                  cat_features=[8,9,10],\n",
    "                  weight=train_weights)\n",
    "\n",
    "val_pool = Pool(X_val, \n",
    "                  y_val, \n",
    "                  cat_features=[8,9,10],\n",
    "                  weight=val_weights)\n",
    "# test_pool = Pool(test_data.astype(str), \n",
    "#                  cat_features=[8,9,10]) "
   ]
  },
  {
   "cell_type": "code",
   "execution_count": 14,
   "metadata": {
    "scrolled": true
   },
   "outputs": [
    {
     "name": "stdout",
     "output_type": "stream",
     "text": [
      "0:\tlearn: 88.4535170\ttest: 46.2494859\tbest: 46.2494859 (0)\ttotal: 95.3ms\tremaining: 1m 35s\n",
      "1:\tlearn: 87.5974460\ttest: 45.7490051\tbest: 45.7490051 (1)\ttotal: 150ms\tremaining: 1m 15s\n",
      "2:\tlearn: 86.5484200\ttest: 45.1574819\tbest: 45.1574819 (2)\ttotal: 195ms\tremaining: 1m 4s\n",
      "3:\tlearn: 85.7688129\ttest: 44.9588048\tbest: 44.9588048 (3)\ttotal: 248ms\tremaining: 1m 1s\n",
      "4:\tlearn: 85.3971066\ttest: 44.8754718\tbest: 44.8754718 (4)\ttotal: 299ms\tremaining: 59.6s\n",
      "5:\tlearn: 84.5121910\ttest: 44.7072428\tbest: 44.7072428 (5)\ttotal: 355ms\tremaining: 58.9s\n",
      "6:\tlearn: 84.1558061\ttest: 44.7293003\tbest: 44.7072428 (5)\ttotal: 400ms\tremaining: 56.7s\n",
      "7:\tlearn: 83.8177497\ttest: 44.8495779\tbest: 44.7072428 (5)\ttotal: 452ms\tremaining: 56.1s\n",
      "8:\tlearn: 83.2108046\ttest: 44.5491347\tbest: 44.5491347 (8)\ttotal: 497ms\tremaining: 54.7s\n",
      "9:\tlearn: 82.5838846\ttest: 44.5633689\tbest: 44.5491347 (8)\ttotal: 540ms\tremaining: 53.4s\n",
      "10:\tlearn: 82.4951823\ttest: 44.3769895\tbest: 44.3769895 (10)\ttotal: 575ms\tremaining: 51.7s\n",
      "11:\tlearn: 82.4325665\ttest: 44.3128282\tbest: 44.3128282 (11)\ttotal: 623ms\tremaining: 51.3s\n",
      "12:\tlearn: 82.3893323\ttest: 44.2905786\tbest: 44.2905786 (12)\ttotal: 663ms\tremaining: 50.3s\n",
      "13:\tlearn: 81.6592412\ttest: 43.7073748\tbest: 43.7073748 (13)\ttotal: 699ms\tremaining: 49.2s\n",
      "14:\tlearn: 81.5552088\ttest: 43.5245217\tbest: 43.5245217 (14)\ttotal: 748ms\tremaining: 49.1s\n",
      "15:\tlearn: 81.2889467\ttest: 43.4166565\tbest: 43.4166565 (15)\ttotal: 794ms\tremaining: 48.9s\n",
      "16:\tlearn: 80.9218641\ttest: 43.5575343\tbest: 43.4166565 (15)\ttotal: 830ms\tremaining: 48s\n",
      "17:\tlearn: 80.2287769\ttest: 43.3502498\tbest: 43.3502498 (17)\ttotal: 875ms\tremaining: 47.7s\n",
      "18:\tlearn: 79.7560160\ttest: 43.1292548\tbest: 43.1292548 (18)\ttotal: 906ms\tremaining: 46.8s\n",
      "19:\tlearn: 79.5660288\ttest: 43.0679275\tbest: 43.0679275 (19)\ttotal: 943ms\tremaining: 46.2s\n",
      "20:\tlearn: 79.2779925\ttest: 43.2493443\tbest: 43.0679275 (19)\ttotal: 985ms\tremaining: 45.9s\n",
      "21:\tlearn: 79.2408622\ttest: 43.2696745\tbest: 43.0679275 (19)\ttotal: 1.04s\tremaining: 46.1s\n",
      "22:\tlearn: 78.6930274\ttest: 43.2411773\tbest: 43.0679275 (19)\ttotal: 1.11s\tremaining: 47s\n",
      "23:\tlearn: 78.5928776\ttest: 43.1958991\tbest: 43.0679275 (19)\ttotal: 1.15s\tremaining: 46.8s\n",
      "24:\tlearn: 78.3959980\ttest: 42.9554467\tbest: 42.9554467 (24)\ttotal: 1.19s\tremaining: 46.4s\n",
      "25:\tlearn: 78.2170087\ttest: 42.9220714\tbest: 42.9220714 (25)\ttotal: 1.25s\tremaining: 46.7s\n",
      "26:\tlearn: 78.2170085\ttest: 42.9223734\tbest: 42.9220714 (25)\ttotal: 1.26s\tremaining: 45.4s\n",
      "27:\tlearn: 78.1991274\ttest: 42.9088386\tbest: 42.9088386 (27)\ttotal: 1.32s\tremaining: 45.8s\n",
      "28:\tlearn: 78.1337520\ttest: 42.8498788\tbest: 42.8498788 (28)\ttotal: 1.38s\tremaining: 46.2s\n",
      "29:\tlearn: 78.0724044\ttest: 42.7756711\tbest: 42.7756711 (29)\ttotal: 1.45s\tremaining: 46.8s\n",
      "30:\tlearn: 77.9123742\ttest: 42.5173384\tbest: 42.5173384 (30)\ttotal: 1.5s\tremaining: 47.1s\n",
      "31:\tlearn: 77.8579181\ttest: 42.4804294\tbest: 42.4804294 (31)\ttotal: 1.57s\tremaining: 47.5s\n",
      "32:\tlearn: 77.7752273\ttest: 42.5798079\tbest: 42.4804294 (31)\ttotal: 1.62s\tremaining: 47.4s\n",
      "33:\tlearn: 77.4370100\ttest: 42.3099674\tbest: 42.3099674 (33)\ttotal: 1.66s\tremaining: 47.1s\n",
      "34:\tlearn: 77.3340258\ttest: 42.2638365\tbest: 42.2638365 (34)\ttotal: 1.7s\tremaining: 47s\n",
      "35:\tlearn: 77.3211754\ttest: 42.2603237\tbest: 42.2603237 (35)\ttotal: 1.72s\tremaining: 46.1s\n",
      "36:\tlearn: 77.2910080\ttest: 42.2808890\tbest: 42.2603237 (35)\ttotal: 1.77s\tremaining: 46.1s\n",
      "37:\tlearn: 77.2427667\ttest: 42.2105555\tbest: 42.2105555 (37)\ttotal: 1.8s\tremaining: 45.5s\n",
      "38:\tlearn: 76.9702977\ttest: 42.0953693\tbest: 42.0953693 (38)\ttotal: 1.83s\tremaining: 45.1s\n",
      "39:\tlearn: 76.8025157\ttest: 42.2361923\tbest: 42.0953693 (38)\ttotal: 1.87s\tremaining: 44.8s\n",
      "40:\tlearn: 76.5289369\ttest: 42.0544070\tbest: 42.0544070 (40)\ttotal: 1.92s\tremaining: 44.8s\n",
      "41:\tlearn: 76.4922973\ttest: 42.1450722\tbest: 42.0544070 (40)\ttotal: 1.95s\tremaining: 44.4s\n",
      "42:\tlearn: 76.2594521\ttest: 41.9522711\tbest: 41.9522711 (42)\ttotal: 1.98s\tremaining: 44.1s\n",
      "43:\tlearn: 76.1972761\ttest: 41.9402526\tbest: 41.9402526 (43)\ttotal: 2.02s\tremaining: 44s\n",
      "44:\tlearn: 75.8422947\ttest: 41.7116846\tbest: 41.7116846 (44)\ttotal: 2.06s\tremaining: 43.6s\n",
      "45:\tlearn: 75.8174336\ttest: 41.6619660\tbest: 41.6619660 (45)\ttotal: 2.09s\tremaining: 43.4s\n",
      "46:\tlearn: 75.6641334\ttest: 41.6359041\tbest: 41.6359041 (46)\ttotal: 2.13s\tremaining: 43.2s\n",
      "47:\tlearn: 75.6157239\ttest: 41.6080805\tbest: 41.6080805 (47)\ttotal: 2.16s\tremaining: 42.9s\n",
      "48:\tlearn: 75.5106373\ttest: 41.3989301\tbest: 41.3989301 (48)\ttotal: 2.2s\tremaining: 42.7s\n",
      "49:\tlearn: 75.3702686\ttest: 41.3682979\tbest: 41.3682979 (49)\ttotal: 2.25s\tremaining: 42.7s\n",
      "50:\tlearn: 75.2854091\ttest: 41.1174195\tbest: 41.1174195 (50)\ttotal: 2.29s\tremaining: 42.6s\n",
      "51:\tlearn: 75.2772418\ttest: 41.1227508\tbest: 41.1174195 (50)\ttotal: 2.33s\tremaining: 42.5s\n",
      "52:\tlearn: 75.1323761\ttest: 40.9636007\tbest: 40.9636007 (52)\ttotal: 2.37s\tremaining: 42.3s\n",
      "53:\tlearn: 75.0757103\ttest: 40.9331375\tbest: 40.9331375 (53)\ttotal: 2.42s\tremaining: 42.3s\n",
      "54:\tlearn: 74.9334002\ttest: 41.0202421\tbest: 40.9331375 (53)\ttotal: 2.46s\tremaining: 42.2s\n",
      "55:\tlearn: 74.5956459\ttest: 41.0086918\tbest: 40.9331375 (53)\ttotal: 2.5s\tremaining: 42.2s\n",
      "56:\tlearn: 74.5838553\ttest: 41.0022404\tbest: 40.9331375 (53)\ttotal: 2.54s\tremaining: 42s\n",
      "57:\tlearn: 74.3621362\ttest: 40.9929094\tbest: 40.9331375 (53)\ttotal: 2.58s\tremaining: 42s\n",
      "58:\tlearn: 74.3308611\ttest: 40.7701029\tbest: 40.7701029 (58)\ttotal: 2.62s\tremaining: 41.8s\n",
      "59:\tlearn: 74.2875371\ttest: 40.6419094\tbest: 40.6419094 (59)\ttotal: 2.65s\tremaining: 41.6s\n",
      "60:\tlearn: 73.8150697\ttest: 40.7785426\tbest: 40.6419094 (59)\ttotal: 2.69s\tremaining: 41.5s\n",
      "61:\tlearn: 73.7809482\ttest: 40.6914132\tbest: 40.6419094 (59)\ttotal: 2.75s\tremaining: 41.6s\n",
      "62:\tlearn: 73.6341520\ttest: 40.6906848\tbest: 40.6419094 (59)\ttotal: 2.79s\tremaining: 41.6s\n",
      "63:\tlearn: 73.6340325\ttest: 40.6924337\tbest: 40.6419094 (59)\ttotal: 2.81s\tremaining: 41.1s\n",
      "64:\tlearn: 73.5596900\ttest: 40.6926393\tbest: 40.6419094 (59)\ttotal: 2.85s\tremaining: 41s\n",
      "Stopped by overfitting detector  (5 iterations wait)\n",
      "\n",
      "bestTest = 40.64190945\n",
      "bestIteration = 59\n",
      "\n",
      "Shrink model to first 60 iterations.\n"
     ]
    }
   ],
   "source": [
    "# specify the training parameters \n",
    "model = CatBoostRegressor(depth=6, \n",
    "                          learning_rate=0.1, \n",
    "                          loss_function='RMSE',\n",
    "                          early_stopping_rounds=5)\n",
    "\n",
    "model.fit(\n",
    "    train_pool,\n",
    "    eval_set=val_pool,\n",
    "    logging_level='Verbose',  # you can uncomment this for text output\n",
    ");"
   ]
  },
  {
   "cell_type": "markdown",
   "metadata": {},
   "source": [
    "# retrain with best results\n",
    "(more Bruno changes)"
   ]
  },
  {
   "cell_type": "code",
   "execution_count": 15,
   "metadata": {},
   "outputs": [],
   "source": [
    "full_train = shifting.loc[shifting.group_backwards >= 2]\n",
    "full_train_weights = recreate_weights(full_train)\n",
    "\n",
    "full_y_train = full_train['orderSum']\n",
    "full_X_train = full_train.drop(columns=[\"orderSum\"])\n",
    "\n",
    "# initialize Pool\n",
    "full_train_pool = Pool(full_X_train, \n",
    "                      full_y_train, \n",
    "                      cat_features=[8,9,10],\n",
    "                      weight=full_train_weights)"
   ]
  },
  {
   "cell_type": "code",
   "execution_count": 16,
   "metadata": {
    "scrolled": true
   },
   "outputs": [
    {
     "name": "stdout",
     "output_type": "stream",
     "text": [
      "0:\tlearn: 118.9781037\ttotal: 30.5ms\tremaining: 1.77s\n",
      "1:\tlearn: 118.2637877\ttotal: 60.4ms\tremaining: 1.72s\n",
      "2:\tlearn: 116.8795915\ttotal: 89.7ms\tremaining: 1.67s\n",
      "3:\tlearn: 116.2336209\ttotal: 113ms\tremaining: 1.55s\n",
      "4:\tlearn: 115.7210617\ttotal: 146ms\tremaining: 1.57s\n",
      "5:\tlearn: 115.5718148\ttotal: 181ms\tremaining: 1.59s\n",
      "6:\tlearn: 114.8061068\ttotal: 214ms\tremaining: 1.59s\n",
      "7:\tlearn: 114.7202624\ttotal: 250ms\tremaining: 1.59s\n",
      "8:\tlearn: 114.4158380\ttotal: 271ms\tremaining: 1.51s\n",
      "9:\tlearn: 114.2614520\ttotal: 293ms\tremaining: 1.43s\n",
      "10:\tlearn: 113.7582839\ttotal: 320ms\tremaining: 1.4s\n",
      "11:\tlearn: 113.7582836\ttotal: 329ms\tremaining: 1.29s\n",
      "12:\tlearn: 113.4377759\ttotal: 352ms\tremaining: 1.24s\n",
      "13:\tlearn: 113.3189882\ttotal: 374ms\tremaining: 1.2s\n",
      "14:\tlearn: 112.9825687\ttotal: 401ms\tremaining: 1.18s\n",
      "15:\tlearn: 112.5769610\ttotal: 431ms\tremaining: 1.16s\n",
      "16:\tlearn: 112.5013714\ttotal: 455ms\tremaining: 1.12s\n",
      "17:\tlearn: 110.8347226\ttotal: 481ms\tremaining: 1.09s\n",
      "18:\tlearn: 110.7557037\ttotal: 504ms\tremaining: 1.06s\n",
      "19:\tlearn: 110.6977974\ttotal: 526ms\tremaining: 1.02s\n",
      "20:\tlearn: 110.6421274\ttotal: 549ms\tremaining: 993ms\n",
      "21:\tlearn: 110.6100911\ttotal: 573ms\tremaining: 964ms\n",
      "22:\tlearn: 110.5542304\ttotal: 596ms\tremaining: 933ms\n",
      "23:\tlearn: 110.4338184\ttotal: 631ms\tremaining: 920ms\n",
      "24:\tlearn: 110.4331732\ttotal: 650ms\tremaining: 885ms\n",
      "25:\tlearn: 110.4182349\ttotal: 675ms\tremaining: 857ms\n",
      "26:\tlearn: 109.7542793\ttotal: 709ms\tremaining: 841ms\n",
      "27:\tlearn: 109.7209812\ttotal: 732ms\tremaining: 810ms\n",
      "28:\tlearn: 109.4959318\ttotal: 755ms\tremaining: 782ms\n",
      "29:\tlearn: 109.4954764\ttotal: 771ms\tremaining: 745ms\n",
      "30:\tlearn: 109.4029024\ttotal: 800ms\tremaining: 722ms\n",
      "31:\tlearn: 109.2220084\ttotal: 827ms\tremaining: 698ms\n",
      "32:\tlearn: 109.1740675\ttotal: 856ms\tremaining: 674ms\n",
      "33:\tlearn: 108.9631541\ttotal: 882ms\tremaining: 649ms\n",
      "34:\tlearn: 108.9021532\ttotal: 910ms\tremaining: 624ms\n",
      "35:\tlearn: 108.8943066\ttotal: 938ms\tremaining: 599ms\n",
      "36:\tlearn: 108.6003650\ttotal: 958ms\tremaining: 570ms\n",
      "37:\tlearn: 107.5086658\ttotal: 983ms\tremaining: 543ms\n",
      "38:\tlearn: 106.5660982\ttotal: 1.01s\tremaining: 520ms\n",
      "39:\tlearn: 106.5029343\ttotal: 1.04s\tremaining: 494ms\n",
      "40:\tlearn: 106.5005445\ttotal: 1.06s\tremaining: 467ms\n",
      "41:\tlearn: 105.8691671\ttotal: 1.09s\tremaining: 441ms\n",
      "42:\tlearn: 105.6545367\ttotal: 1.11s\tremaining: 413ms\n",
      "43:\tlearn: 105.5620576\ttotal: 1.13s\tremaining: 386ms\n",
      "44:\tlearn: 105.4838258\ttotal: 1.16s\tremaining: 361ms\n",
      "45:\tlearn: 105.4517365\ttotal: 1.19s\tremaining: 337ms\n",
      "46:\tlearn: 105.3849327\ttotal: 1.22s\tremaining: 312ms\n",
      "47:\tlearn: 105.3088106\ttotal: 1.25s\tremaining: 285ms\n",
      "48:\tlearn: 105.2612687\ttotal: 1.28s\tremaining: 261ms\n",
      "49:\tlearn: 105.2122073\ttotal: 1.31s\tremaining: 236ms\n",
      "50:\tlearn: 104.6740308\ttotal: 1.33s\tremaining: 209ms\n",
      "51:\tlearn: 104.6578213\ttotal: 1.34s\tremaining: 181ms\n",
      "52:\tlearn: 104.0318913\ttotal: 1.37s\tremaining: 155ms\n",
      "53:\tlearn: 104.0069519\ttotal: 1.4s\tremaining: 130ms\n",
      "54:\tlearn: 104.0008452\ttotal: 1.42s\tremaining: 103ms\n",
      "55:\tlearn: 103.8490999\ttotal: 1.45s\tremaining: 77.5ms\n",
      "56:\tlearn: 103.8280764\ttotal: 1.47s\tremaining: 51.7ms\n",
      "57:\tlearn: 103.8086009\ttotal: 1.5s\tremaining: 25.8ms\n",
      "58:\tlearn: 103.6659658\ttotal: 1.52s\tremaining: 0us\n"
     ]
    }
   ],
   "source": [
    "# specify the training parameters \n",
    "bst = CatBoostRegressor(\n",
    "    depth=6, \n",
    "    learning_rate=0.1, \n",
    "    loss_function='RMSE',\n",
    "    iterations=model.best_iteration_,\n",
    ")\n",
    "\n",
    "bst.fit(\n",
    "    full_train_pool,\n",
    "    #  logging_level='Verbose',  # you can uncomment this for text output\n",
    ");"
   ]
  },
  {
   "cell_type": "markdown",
   "metadata": {},
   "source": [
    "### Utilities"
   ]
  },
  {
   "cell_type": "markdown",
   "metadata": {},
   "source": [
    "**Predicting at test time**"
   ]
  },
  {
   "cell_type": "code",
   "execution_count": 17,
   "metadata": {},
   "outputs": [],
   "source": [
    "y_test = test['orderSum']\n",
    "X_test = test.drop(columns=[\"orderSum\"])\n",
    "final_predictions = bst.predict(X_test)"
   ]
  },
  {
   "cell_type": "code",
   "execution_count": 18,
   "metadata": {},
   "outputs": [
    {
     "data": {
      "text/plain": [
       "(1761,)"
      ]
     },
     "execution_count": 18,
     "metadata": {},
     "output_type": "execute_result"
    }
   ],
   "source": [
    "final_predictions[final_predictions < 0].shape"
   ]
  },
  {
   "cell_type": "markdown",
   "metadata": {},
   "source": [
    "**Creating our Kaggle CSV**"
   ]
  },
  {
   "cell_type": "code",
   "execution_count": 19,
   "metadata": {},
   "outputs": [],
   "source": [
    "final = pd.Series(0, index=np.arange(1, len(items)+1))\n",
    "final[items.itemID] = final_predictions.astype(int)\n",
    "\n",
    "final.to_csv(\"cat_with_weights_kaggle_df.csv\", header=[\"demandPrediction\"],\n",
    "            index_label=\"itemID\", sep=\"|\")"
   ]
  },
  {
   "cell_type": "code",
   "execution_count": null,
   "metadata": {},
   "outputs": [],
   "source": []
  }
 ],
 "metadata": {
  "kernelspec": {
   "display_name": "Python 3",
   "language": "python",
   "name": "python3"
  },
  "language_info": {
   "codemirror_mode": {
    "name": "ipython",
    "version": 3
   },
   "file_extension": ".py",
   "mimetype": "text/x-python",
   "name": "python",
   "nbconvert_exporter": "python",
   "pygments_lexer": "ipython3",
   "version": "3.6.5rc1"
  },
  "toc": {
   "base_numbering": 1,
   "nav_menu": {},
   "number_sections": false,
   "sideBar": false,
   "skip_h1_title": false,
   "title_cell": "Table of Contents",
   "title_sidebar": "Contents",
   "toc_cell": true,
   "toc_position": {},
   "toc_section_display": true,
   "toc_window_display": false
  }
 },
 "nbformat": 4,
 "nbformat_minor": 4
}
