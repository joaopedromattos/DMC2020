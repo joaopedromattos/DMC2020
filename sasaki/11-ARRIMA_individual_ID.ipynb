{
 "cells": [
  {
   "cell_type": "code",
   "execution_count": 1,
   "metadata": {},
   "outputs": [],
   "source": [
    "import numpy as np\n",
    "import pandas as pd\n",
    "\n",
    "import matplotlib.pyplot as plt\n",
    "from sklearn.model_selection import train_test_split\n",
    "from sklearn.metrics import mean_squared_error as mse\n",
    "import sys\n",
    "import xgboost as xgb\n",
    "import lightgbm as lgb\n",
    "from datetime import datetime\n",
    "import seaborn as sns\n",
    "import itertools\n",
    "\n",
    "sys.path.append(\"../dora/models\")\n",
    "from utils import read_data, process_time, merge_data, dataset_builder, cumulative_sale_by_category\n",
    "\n",
    "NUMBER_OF_LAGS = 4\n",
    "\n",
    "from statsmodels.tsa.arima_model import ARIMA\n",
    "from tqdm import tqdm"
   ]
  },
  {
   "cell_type": "code",
   "execution_count": 3,
   "metadata": {},
   "outputs": [],
   "source": [
    "infos, items, orders = read_data(\"../main/datasets/\")\n",
    "process_time(orders)\n",
    "df = dataset_builder(orders, items)\n",
    "\n",
    "df.sort_values(by=['itemID','group_backwards'], ascending=[True,False], inplace=True)"
   ]
  },
  {
   "cell_type": "code",
   "execution_count": 4,
   "metadata": {},
   "outputs": [],
   "source": [
    "#removing IDs with less than 11 aperance\n",
    "not_zero = df.query('orderSum != 0')\n",
    "\n",
    "id_count = not_zero.groupby('itemID')['group_backwards'].count()\n",
    "valid_id = id_count[id_count > 11].index\n",
    "\n",
    "df2 = df[df.itemID.isin(valid_id)"
   ]
  },
  {
   "cell_type": "markdown",
   "metadata": {},
   "source": [
    "## training ARRIMA for each itemID"
   ]
  },
  {
   "cell_type": "code",
   "execution_count": 7,
   "metadata": {},
   "outputs": [],
   "source": [
    "from sklearn.metrics import mean_squared_error\n",
    "\n",
    "\n",
    "def get_arrima_best_param(id):\n",
    "    aux = df2.query(f'itemID == {id}')\n",
    "    ts=aux.query('group_backwards > 2')[\"orderSum\"]\n",
    "    ts2=aux.query('group_backwards > 1')[\"orderSum\"]\n",
    "\n",
    "    result1 = int(aux.query('group_backwards == 2')[\"orderSum\"])\n",
    "    result2 = int(aux.query('group_backwards == 1')[\"orderSum\"])\n",
    "\n",
    "    # Generate all different combinations of p, q and q triplets\n",
    "    p = range(3)\n",
    "    d = range(3)\n",
    "    q = range(3)\n",
    "    pdq = list(itertools.product(p, d, q))\n",
    "    \n",
    "    \n",
    "    #grid search best parameters\n",
    "    bestParam = None\n",
    "    bestpredict = (0,0,0)\n",
    "    bestMRSE = np.inf\n",
    "    erro1 = 0\n",
    "    erro2 = 0\n",
    "    \n",
    "    for param in pdq:\n",
    "        try:\n",
    "            currentScore = 0\n",
    "            \n",
    "            #arrima trained until week 3\n",
    "            model = ARIMA(ts, order=param)\n",
    "            model_fit = model.fit(disp=0)\n",
    "            \n",
    "            #mrse of week 2\n",
    "            predict = model_fit.forecast(steps=2)[0]\n",
    "            predict_error = mean_squared_error([predict[0]],[result1])\n",
    "            currentScore += predict_error\n",
    "            \n",
    "            if(currentScore > bestMRSE):\n",
    "                continue\n",
    "            \n",
    "            \n",
    "            #arrima trained until week 2\n",
    "            model = ARIMA(ts2, order=param)\n",
    "            model_fit = model.fit(disp=0)\n",
    "            \n",
    "\n",
    "            #mrse of week 1\n",
    "            predict2 = model_fit.forecast(1)[0]\n",
    "            predict_error2 = mean_squared_error(predict2,[result2])\n",
    "            currentScore += predict_error2\n",
    "            \n",
    "            if(currentScore < bestMRSE):\n",
    "                bestMRSE = currentScore\n",
    "                erro1 = predict_error\n",
    "                erro2 = predict_error2\n",
    "                bestParam = param\n",
    "                bestpredict = (predict[0],predict[1],predict2[0])\n",
    "        except:\n",
    "            continue\n",
    "    \n",
    "    #return: prediction week 2 trained until 3 and its mrse error\n",
    "    #prediction week 1 trained until 3\n",
    "    #prediction week 1 trained until 2 and its mrse error\n",
    "    #best parameterss\n",
    "    return bestpredict[0] , bestpredict[1], bestpredict[2],erro1, erro2, bestParam"
   ]
  },
  {
   "cell_type": "code",
   "execution_count": 8,
   "metadata": {},
   "outputs": [
    {
     "name": "stderr",
     "output_type": "stream",
     "text": [
      "100%|██████████| 232/232 [03:07<00:00,  1.24it/s]\n"
     ]
    }
   ],
   "source": [
    "import warnings\n",
    "warnings.filterwarnings(\"ignore\")\n",
    "\n",
    "predict1_week2 = []\n",
    "predict1_week1 = []\n",
    "predict2_week1 = []\n",
    "mrse1 = []\n",
    "mrse2 = []\n",
    "best_params = []\n",
    "\n",
    "for id in tqdm(df2.itemID.unique()):\n",
    "    p1, p2,p3, er1, er2, param = get_arrima_best_param(id)\n",
    "    \n",
    "    predict1_week2.append(p1)\n",
    "    predict1_week1.append(p2)\n",
    "    predict2_week1.append(p3)\n",
    "    mrse1.append(er1)\n",
    "    mrse2.append(er2)\n",
    "    best_params.append(param)"
   ]
  },
  {
   "cell_type": "code",
   "execution_count": 10,
   "metadata": {},
   "outputs": [
    {
     "name": "stdout",
     "output_type": "stream",
     "text": [
      "107\n",
      "124\n"
     ]
    }
   ],
   "source": [
    "print(sum([a>b  for a, b in zip(mrse1, mrse2)]))\n",
    "print(sum([a<b  for a, b in zip(mrse1, mrse2)]))"
   ]
  },
  {
   "cell_type": "markdown",
   "metadata": {},
   "source": [
    "## Results:"
   ]
  },
  {
   "cell_type": "code",
   "execution_count": 11,
   "metadata": {},
   "outputs": [],
   "source": [
    "#adding zero sales rows\n",
    "predict1_week2 = pd.Series(predict1_week2)\n",
    "final1 = pd.Series(0, index=np.arange(1, len(items)+1))\n",
    "#removing negative values\n",
    "final1[final1 < 0] = 0\n",
    "\n",
    "\n",
    "predict1_week1 = pd.Series(predict1_week1)\n",
    "final2 = pd.Series(0, index=np.arange(1, len(items)+1))\n",
    "final2[final2 < 0] = 0\n",
    "\n",
    "\n",
    "predict2_week1 = pd.Series(predict2_week1)\n",
    "final3 = pd.Series(0, index=np.arange(1, len(items)+1))\n",
    "final3[final3 < 0] = 0"
   ]
  },
  {
   "cell_type": "code",
   "execution_count": 12,
   "metadata": {},
   "outputs": [],
   "source": [
    "def baseline_score(prediction, target, simulatedPrice):\n",
    "    prediction = prediction.astype(int)\n",
    "\n",
    "    return np.sum((prediction - np.maximum(prediction - target, 0) * 1.6)  * simulatedPrice)"
   ]
  },
  {
   "cell_type": "code",
   "execution_count": 13,
   "metadata": {},
   "outputs": [
    {
     "name": "stdout",
     "output_type": "stream",
     "text": [
      "train1: -20042.972000000045\n",
      "eval: -88474.76200000006\n",
      "train2 : 145713.642\n"
     ]
    }
   ],
   "source": [
    "result1 = df.query('group_backwards == 2')['orderSum'].values\n",
    "result2 = df.query('group_backwards == 1')['orderSum'].values\n",
    "\n",
    "print(f\"train1: {baseline_score(final1, result1, infos['simulationPrice'])}\")\n",
    "\n",
    "print(f\"eval: {baseline_score(final2, result1, infos['simulationPrice'])}\")\n",
    "\n",
    "print(f\"train2 : {baseline_score(final3, result2, infos['simulationPrice'])}\")"
   ]
  },
  {
   "cell_type": "code",
   "execution_count": 15,
   "metadata": {},
   "outputs": [],
   "source": [
    "# parece bem instaveis os resultados"
   ]
  },
  {
   "cell_type": "markdown",
   "metadata": {},
   "source": [
    "### to csv"
   ]
  },
  {
   "cell_type": "code",
   "execution_count": 14,
   "metadata": {},
   "outputs": [],
   "source": [
    "final3.to_csv(\"pred/arrima.csv\", header=[\"demandPrediction\"],\n",
    "            index_label=\"itemID\", sep=\"|\")"
   ]
  }
 ],
 "metadata": {
  "kernelspec": {
   "display_name": "Python 3",
   "language": "python",
   "name": "python3"
  },
  "language_info": {
   "codemirror_mode": {
    "name": "ipython",
    "version": 3
   },
   "file_extension": ".py",
   "mimetype": "text/x-python",
   "name": "python",
   "nbconvert_exporter": "python",
   "pygments_lexer": "ipython3",
   "version": "3.6.9"
  }
 },
 "nbformat": 4,
 "nbformat_minor": 4
}
