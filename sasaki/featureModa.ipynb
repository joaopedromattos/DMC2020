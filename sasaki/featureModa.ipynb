{
 "cells": [
  {
   "cell_type": "code",
   "execution_count": 2,
   "metadata": {
    "colab": {},
    "colab_type": "code",
    "id": "nGJaw2n4I-Dh"
   },
   "outputs": [],
   "source": [
    "import os\n",
    "import pandas as pd\n",
    "import numpy as np"
   ]
  },
  {
   "cell_type": "code",
   "execution_count": 3,
   "metadata": {
    "colab": {},
    "colab_type": "code",
    "id": "ZBEgOyVlJ6Ll"
   },
   "outputs": [],
   "source": [
    "item= pd.read_csv('../main/datasets/1.0v/items.csv', sep = '|')\n",
    "info = pd.read_csv('../main/datasets/1.0v/infos.csv', sep = '|')\n",
    "order= pd.read_csv('../main/datasets/1.0v/orders.csv', sep = '|')"
   ]
  },
  {
   "cell_type": "code",
   "execution_count": 4,
   "metadata": {
    "colab": {
     "base_uri": "https://localhost:8080/",
     "height": 52
    },
    "colab_type": "code",
    "id": "GpwTFdeSJPYr",
    "outputId": "07263b4f-2bdc-433f-bd23-bc8e2e997696"
   },
   "outputs": [
    {
     "name": "stdout",
     "output_type": "stream",
     "text": [
      "2018-06-30\n",
      "2018-07-13\n"
     ]
    }
   ],
   "source": [
    "#deixando apenas com promocoes\n",
    "info_promotion = info[info.promotion.notna()]\n",
    "print(info_promotion.min().promotion)\n",
    "print(info_promotion.max().promotion)"
   ]
  },
  {
   "cell_type": "markdown",
   "metadata": {
    "colab_type": "text",
    "id": "BeNoIqdRjcMp"
   },
   "source": [
    "todas as promoçoes acontecem depois de 6/30, ou seja temos APENAS informaçoes de promoçoes que vao acontecer no periodo que temos q prever as vendas"
   ]
  },
  {
   "cell_type": "code",
   "execution_count": 5,
   "metadata": {
    "colab": {
     "base_uri": "https://localhost:8080/",
     "height": 52
    },
    "colab_type": "code",
    "id": "v82oJUl2lNfF",
    "outputId": "90e8855b-1099-407a-ee79-27de88e40c82"
   },
   "outputs": [
    {
     "name": "stdout",
     "output_type": "stream",
     "text": [
      "8321\n",
      "2173634\n"
     ]
    }
   ],
   "source": [
    "#adicionando coluna recommendedRetailPrice a order\n",
    "\n",
    "RetailPrice = item[['itemID','recommendedRetailPrice']]\n",
    "order = pd.merge(order, RetailPrice, on='itemID')\n",
    "\n",
    "print(len(order[order.salesPrice == order.recommendedRetailPrice]))\n",
    "print(len(order[order.salesPrice != order.recommendedRetailPrice]))"
   ]
  },
  {
   "cell_type": "markdown",
   "metadata": {
    "colab_type": "text",
    "id": "eshHJ0PKlQY7"
   },
   "source": [
    "grande parte das vendas n~ao utiliza preço recomendado pelo retail"
   ]
  },
  {
   "cell_type": "markdown",
   "metadata": {
    "colab_type": "text",
    "id": "fqt8JefwT_B9"
   },
   "source": [
    "### **adicionando a feature: moda de cada produto(itemID)**"
   ]
  },
  {
   "cell_type": "code",
   "execution_count": 6,
   "metadata": {
    "colab": {},
    "colab_type": "code",
    "id": "gD3Y4FF2o9wH"
   },
   "outputs": [],
   "source": [
    "def get_mode_sales_price(id):\n",
    "  sales_id_certo = order[order['itemID'] == id]\n",
    "  mode = sales_id_certo['salesPrice'].mode()\n",
    "\n",
    "  #a moda pode ter mais de um valor, \n",
    "  #para torna-la um unico foi escolhido arbitrariamente a mediana\n",
    "  return mode.median()"
   ]
  },
  {
   "cell_type": "code",
   "execution_count": 7,
   "metadata": {
    "colab": {},
    "colab_type": "code",
    "id": "QgGoC59-K2zG"
   },
   "outputs": [],
   "source": [
    "#adicionando a moda de cada produto no item\n",
    "item['modeSalesPrice'] =item['itemID'].map(get_mode_sales_price )\n"
   ]
  },
  {
   "cell_type": "code",
   "execution_count": 8,
   "metadata": {
    "colab": {
     "base_uri": "https://localhost:8080/",
     "height": 173
    },
    "colab_type": "code",
    "id": "aM-wcYlCppCg",
    "outputId": "5787d4ef-77e6-407f-bed9-1aad93503fae"
   },
   "outputs": [
    {
     "name": "stdout",
     "output_type": "stream",
     "text": [
      "count    2181955.0\n",
      "mean          36.9\n",
      "std          126.3\n",
      "min            0.0\n",
      "25%            7.2\n",
      "50%           16.7\n",
      "75%           34.6\n",
      "max         9055.1\n",
      "Name: modeSalesPrice, dtype: float64\n"
     ]
    }
   ],
   "source": [
    "#colocando valor da moda no order\n",
    "modeSalesPrice = item[['itemID','modeSalesPrice']]\n",
    "order = pd.merge(order, modeSalesPrice, on='itemID')\n",
    "\n",
    "print(order['modeSalesPrice'].describe().round(1))"
   ]
  },
  {
   "cell_type": "code",
   "execution_count": 9,
   "metadata": {
    "colab": {
     "base_uri": "https://localhost:8080/",
     "height": 191
    },
    "colab_type": "code",
    "id": "bEzj_Fq1ZRIv",
    "outputId": "62d39644-b980-47b7-bcf8-3f16da1661f5"
   },
   "outputs": [
    {
     "name": "stdout",
     "output_type": "stream",
     "text": [
      "count    2181955.0\n",
      "mean          36.9\n",
      "std          126.3\n",
      "min            0.0\n",
      "25%            7.2\n",
      "50%           16.7\n",
      "75%           34.6\n",
      "max         9055.1\n",
      "Name: modeSalesPrice, dtype: float64\n",
      "0\n"
     ]
    }
   ],
   "source": [
    "print(order['modeSalesPrice'].describe().round(1))\n",
    "print(order['modeSalesPrice'].isna().sum() )"
   ]
  },
  {
   "cell_type": "code",
   "execution_count": 10,
   "metadata": {
    "colab": {
     "base_uri": "https://localhost:8080/",
     "height": 52
    },
    "colab_type": "code",
    "id": "CVGh_uBul1hj",
    "outputId": "1d9b3527-4a76-4883-b93b-fe94bb3b070e"
   },
   "outputs": [
    {
     "name": "stdout",
     "output_type": "stream",
     "text": [
      "1737973\n",
      "443982\n"
     ]
    }
   ],
   "source": [
    "print(len(order[order['salesPrice'] == order['modeSalesPrice']]))\n",
    "print(len(order[order['salesPrice'] != order['modeSalesPrice']]))"
   ]
  },
  {
   "cell_type": "markdown",
   "metadata": {
    "colab_type": "text",
    "id": "3l_sz-mo6YlT"
   },
   "source": [
    "80% das vendas seguem o valor da moda"
   ]
  },
  {
   "cell_type": "code",
   "execution_count": 11,
   "metadata": {
    "colab": {
     "base_uri": "https://localhost:8080/",
     "height": 34
    },
    "colab_type": "code",
    "id": "nFN6t-uq6hFS",
    "outputId": "bcb195fd-d08d-4561-dd7a-199a6417b0a4"
   },
   "outputs": [
    {
     "name": "stdout",
     "output_type": "stream",
     "text": [
      "255515\n"
     ]
    }
   ],
   "source": [
    "print(len(order[order['salesPrice'] < order['modeSalesPrice']]))"
   ]
  },
  {
   "cell_type": "markdown",
   "metadata": {
    "colab_type": "text",
    "id": "HQkrOGvQ6w2w"
   },
   "source": [
    "11% das vendas tem valor abaixo da moda, poderiam ser considerados promoçoes (?);"
   ]
  },
  {
   "cell_type": "code",
   "execution_count": 12,
   "metadata": {
    "colab": {
     "base_uri": "https://localhost:8080/",
     "height": 34
    },
    "colab_type": "code",
    "id": "6VrNxP0A6-9p",
    "outputId": "375259ee-c694-4722-c807-1de80e8a3446"
   },
   "outputs": [
    {
     "name": "stdout",
     "output_type": "stream",
     "text": [
      "188467\n"
     ]
    }
   ],
   "source": [
    "print(len(order[order['salesPrice'] > order['modeSalesPrice']]))"
   ]
  },
  {
   "cell_type": "markdown",
   "metadata": {
    "colab_type": "text",
    "id": "_VzplPtE7Ch5"
   },
   "source": [
    "8% restantes que tem valor acima da moda, o que acho bizarro"
   ]
  },
  {
   "cell_type": "markdown",
   "metadata": {
    "colab_type": "text",
    "id": "EvdGOZpYW_o4"
   },
   "source": [
    "### **adicionando a feature: diferença da moda com salesPrice**"
   ]
  },
  {
   "cell_type": "code",
   "execution_count": 13,
   "metadata": {
    "colab": {},
    "colab_type": "code",
    "id": "z61PfIVFEvjk"
   },
   "outputs": [],
   "source": [
    "order['difModa'] = order['salesPrice'] - order['modeSalesPrice']\n"
   ]
  },
  {
   "cell_type": "code",
   "execution_count": 14,
   "metadata": {
    "colab": {
     "base_uri": "https://localhost:8080/",
     "height": 191
    },
    "colab_type": "code",
    "id": "KkUL5Az7ZMHZ",
    "outputId": "d452ea38-7995-4a3d-cbd1-5cd072999f43"
   },
   "outputs": [
    {
     "name": "stdout",
     "output_type": "stream",
     "text": [
      "count    2181955.0\n",
      "mean          -0.2\n",
      "std            9.3\n",
      "min        -5141.5\n",
      "25%            0.0\n",
      "50%            0.0\n",
      "75%            0.0\n",
      "max          972.5\n",
      "Name: difModa, dtype: float64\n",
      "0\n"
     ]
    }
   ],
   "source": [
    "print(order['difModa'].describe().round(1))\n",
    "print(order['difModa'].isna().sum() )"
   ]
  },
  {
   "cell_type": "markdown",
   "metadata": {
    "colab_type": "text",
    "id": "XpqDQSPuNLB9"
   },
   "source": [
    "estou pressuponto que todo produto vendido abaixo da moda estava em promoç~ao, esta feature captura isso"
   ]
  },
  {
   "cell_type": "markdown",
   "metadata": {
    "colab_type": "text",
    "id": "HtB-Rix4YCoc"
   },
   "source": [
    "tamb'em existe o contr'ario, seria algo como um super faturamento"
   ]
  },
  {
   "cell_type": "code",
   "execution_count": null,
   "metadata": {},
   "outputs": [],
   "source": []
  }
 ],
 "metadata": {
  "colab": {
   "collapsed_sections": [],
   "name": "DMC20.ipynb",
   "provenance": []
  },
  "kernelspec": {
   "display_name": "Python 3",
   "language": "python",
   "name": "python3"
  },
  "language_info": {
   "codemirror_mode": {
    "name": "ipython",
    "version": 3
   },
   "file_extension": ".py",
   "mimetype": "text/x-python",
   "name": "python",
   "nbconvert_exporter": "python",
   "pygments_lexer": "ipython3",
   "version": "3.6.8"
  }
 },
 "nbformat": 4,
 "nbformat_minor": 1
}
