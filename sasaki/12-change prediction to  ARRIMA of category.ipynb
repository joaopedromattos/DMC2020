{
 "cells": [
  {
   "cell_type": "code",
   "execution_count": 1,
   "metadata": {},
   "outputs": [],
   "source": [
    "import numpy as np\n",
    "import pandas as pd\n",
    "import sys\n",
    "\n",
    "\n",
    "sys.path.append(\"../dora/models\")\n",
    "from utils import read_data, process_time, merge_data, dataset_builder, cumulative_sale_by_category\n",
    "\n",
    "NUMBER_OF_LAGS = 4\n",
    "\n",
    "from statsmodels.tsa.arima_model import ARIMA\n",
    "from tqdm import tqdm"
   ]
  },
  {
   "cell_type": "code",
   "execution_count": 2,
   "metadata": {},
   "outputs": [],
   "source": [
    "infos, items, orders = read_data(\"../main/datasets/\")\n",
    "process_time(orders)\n",
    "df = dataset_builder(orders, items)"
   ]
  },
  {
   "cell_type": "markdown",
   "metadata": {},
   "source": [
    "### put here the parameters"
   ]
  },
  {
   "cell_type": "code",
   "execution_count": 3,
   "metadata": {},
   "outputs": [],
   "source": [
    "path_to_pred = \"pred/lgbm_kaggle_df.csv\"\n",
    "path_to_arrima_cat3 = \"pred/arrima_category2.csv\"\n",
    "CATEGORY = \"category2\""
   ]
  },
  {
   "cell_type": "code",
   "execution_count": 4,
   "metadata": {},
   "outputs": [],
   "source": [
    "orderSum_cat_arrima = pd.read_csv(path_to_arrima_cat3,sep=\"|\")\n",
    "pred = pd.read_csv(path_to_pred,sep=\"|\")"
   ]
  },
  {
   "cell_type": "code",
   "execution_count": 5,
   "metadata": {},
   "outputs": [],
   "source": [
    "#adding CATEGORY back\n",
    "pred2 = pd.merge(pred,items[['itemID',CATEGORY]],how='left',on='itemID',validate=\"m:1\")\n",
    "\n",
    "#getting current total sales of CATEGORY\n",
    "orderSum_cat_cur = pred2.groupby(CATEGORY).demandPrediction.sum()\n",
    "orderSum_cat_cur.name= 'orderSum_cat_cur'\n",
    "pred2 = pd.merge(pred2, orderSum_cat_cur, how='left',on=CATEGORY,validate=\"m:1\")\n",
    "\n",
    "#getting arrima prediction of total sales of CATEGORY\n",
    "pred2 = pd.merge(pred2, orderSum_cat_arrima, how='left',on=CATEGORY,validate=\"m:1\")\n",
    "\n",
    "#percent of sales of the itemID in the CATEGORY\n",
    "pred2['percent'] = (pred2.demandPrediction / pred2.orderSum_cat_cur)\n",
    "\n",
    "\n",
    "#scaling to the arrima predction\n",
    "pred2['demandPrediction'] = pred2.percent * pred2.orderSum_cat_arrima\n",
    "pred2['demandPrediction'].fillna(0,inplace=True)\n",
    "pred2 = pred2[['itemID','demandPrediction']]"
   ]
  },
  {
   "cell_type": "code",
   "execution_count": 6,
   "metadata": {},
   "outputs": [],
   "source": [
    "def baseline_score(prediction, target, simulatedPrice):\n",
    "    prediction = prediction.astype(int)\n",
    "\n",
    "    return np.sum((prediction - np.maximum(prediction - target, 0) * 1.6)  * simulatedPrice)"
   ]
  },
  {
   "cell_type": "code",
   "execution_count": 7,
   "metadata": {},
   "outputs": [
    {
     "name": "stdout",
     "output_type": "stream",
     "text": [
      "83109.12599999999\n",
      "-2609856.2140000006\n"
     ]
    },
    {
     "name": "stderr",
     "output_type": "stream",
     "text": [
      "/home/g/.local/lib/python3.6/site-packages/ipykernel_launcher.py:2: SettingWithCopyWarning: \n",
      "A value is trying to be set on a copy of a slice from a DataFrame\n",
      "\n",
      "See the caveats in the documentation: https://pandas.pydata.org/pandas-docs/stable/user_guide/indexing.html#returning-a-view-versus-a-copy\n",
      "  \n"
     ]
    }
   ],
   "source": [
    "result = df.query('group_backwards == 1')\n",
    "result.sort_values('itemID', inplace=True)\n",
    "\n",
    "print(baseline_score(pred['demandPrediction'], result['orderSum'].values, infos['simulationPrice']))\n",
    "print(baseline_score(pred2['demandPrediction'], result['orderSum'].values, infos['simulationPrice']))"
   ]
  },
  {
   "cell_type": "code",
   "execution_count": null,
   "metadata": {},
   "outputs": [],
   "source": [
    "# tentei para category2 e brand, todos deram resultados muito piores que antes"
   ]
  }
 ],
 "metadata": {
  "kernelspec": {
   "display_name": "Python 3",
   "language": "python",
   "name": "python3"
  },
  "language_info": {
   "codemirror_mode": {
    "name": "ipython",
    "version": 3
   },
   "file_extension": ".py",
   "mimetype": "text/x-python",
   "name": "python",
   "nbconvert_exporter": "python",
   "pygments_lexer": "ipython3",
   "version": "3.6.9"
  }
 },
 "nbformat": 4,
 "nbformat_minor": 4
}
