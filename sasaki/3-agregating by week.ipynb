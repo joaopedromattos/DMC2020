{
 "cells": [
  {
   "cell_type": "code",
   "execution_count": 1,
   "metadata": {},
   "outputs": [],
   "source": [
    "import numpy as np\n",
    "import pandas as pd\n",
    "from utils_local import read_data, process_time, merge_data, promo_detector\n",
    "import seaborn as sns\n",
    "import matplotlib.pyplot as plt\n",
    "import sys\n",
    "import xgboost as xgb\n",
    "from sasaki_features import add_feature_promotion"
   ]
  },
  {
   "cell_type": "code",
   "execution_count": 2,
   "metadata": {},
   "outputs": [],
   "source": [
    "infos, items, orders = read_data(\"../main/datasets/\")\n",
    "\n",
    "process_time(orders)\n",
    "items, orders = add_feature_promotion(items, orders)"
   ]
  },
  {
   "cell_type": "code",
   "execution_count": 3,
   "metadata": {},
   "outputs": [
    {
     "name": "stdout",
     "output_type": "stream",
     "text": [
      "   itemID  brand  manufacturer  customerRating  category1  category2  \\\n",
      "0       1      0             1            4.38          1          1   \n",
      "1       2      0             2            3.00          1          2   \n",
      "2       3      0             3            5.00          1          3   \n",
      "3       4      0             2            4.44          1          2   \n",
      "4       5      0             2            2.33          1          1   \n",
      "\n",
      "   category3  recommendedRetailPrice  modeSalesPrice  \n",
      "0          1                    8.84            3.11  \n",
      "1          1                   16.92            9.15  \n",
      "2          1                   15.89           14.04  \n",
      "3          1                   40.17           14.10  \n",
      "4          1                   17.04            7.84  \n",
      "                 time  transactID  itemID  order  salesPrice  days  \\\n",
      "0 2018-01-01 00:01:56     2278968     450      1       17.42     1   \n",
      "1 2018-01-01 00:09:24     2278968     450      1       17.42     1   \n",
      "2 2018-01-01 00:51:59     2278968     450      1       17.42     1   \n",
      "3 2018-01-01 00:56:54     2278968     450      1       17.42     1   \n",
      "4 2018-01-15 17:48:57       78321     450      1       17.42    15   \n",
      "\n",
      "   days_backwards  group_backwards  modeSalesPrice  difModa  \n",
      "0             180               13           17.42      0.0  \n",
      "1             180               13           17.42      0.0  \n",
      "2             180               13           17.42      0.0  \n",
      "3             180               13           17.42      0.0  \n",
      "4             166               12           17.42      0.0  \n"
     ]
    }
   ],
   "source": [
    "print(items.head())\n",
    "print(orders.head())"
   ]
  },
  {
   "cell_type": "markdown",
   "metadata": {},
   "source": [
    "## Finding items without sales##"
   ]
  },
  {
   "cell_type": "code",
   "execution_count": 4,
   "metadata": {},
   "outputs": [
    {
     "name": "stdout",
     "output_type": "stream",
     "text": [
      "total: 10463\n",
      "with_sales: 9840\n",
      "no_sales: 623\n"
     ]
    }
   ],
   "source": [
    "a = items.itemID.unique()\n",
    "b = orders.itemID.unique()\n",
    "\n",
    "with_sales = np.intersect1d(a,b)\n",
    "no_sales = np.setdiff1d(a,b)\n",
    "\n",
    "print(f'total: {len(a)}')\n",
    "print(f'with_sales: {len(with_sales)}')\n",
    "print(f'no_sales: {len(no_sales)}')"
   ]
  },
  {
   "cell_type": "code",
   "execution_count": 5,
   "metadata": {},
   "outputs": [
    {
     "name": "stdout",
     "output_type": "stream",
     "text": [
      "        sum  count\n",
      "itemID            \n",
      "1       693    578\n",
      "2         5      5\n",
      "3       331    289\n",
      "4       198    181\n",
      "5       180    162\n",
      "...     ...    ...\n",
      "10450   156    145\n",
      "10459     1      1\n",
      "10460     1      1\n",
      "10462     1      1\n",
      "10463     1      1\n",
      "\n",
      "[9840 rows x 2 columns]\n"
     ]
    },
    {
     "data": {
      "image/png": "[encoded data removed]",
      "text/plain": [
       "<Figure size 720x576 with 2 Axes>"
      ]
     },
     "metadata": {
      "needs_background": "light"
     },
     "output_type": "display_data"
    }
   ],
   "source": [
    "#printing histogram and quantiles of item sales\n",
    "\n",
    "aux= orders.groupby(['itemID']).order.agg(['sum','count'])\n",
    "print(aux)\n",
    "aux = aux.reset_index()\n",
    "aux = aux.rename(columns={'sum' : 'total sales','count' : 'number of rows'})\n",
    "\n",
    "hist = aux[['total sales','number of rows']].hist(bins=20)"
   ]
  },
  {
   "cell_type": "code",
   "execution_count": 6,
   "metadata": {},
   "outputs": [
    {
     "data": {
      "text/html": [
       "<div>\n",
       "<style scoped>\n",
       "    .dataframe tbody tr th:only-of-type {\n",
       "        vertical-align: middle;\n",
       "    }\n",
       "\n",
       "    .dataframe tbody tr th {\n",
       "        vertical-align: top;\n",
       "    }\n",
       "\n",
       "    .dataframe thead th {\n",
       "        text-align: right;\n",
       "    }\n",
       "</style>\n",
       "<table border=\"1\" class=\"dataframe\">\n",
       "  <thead>\n",
       "    <tr style=\"text-align: right;\">\n",
       "      <th></th>\n",
       "      <th>total sales</th>\n",
       "      <th>number of rows</th>\n",
       "    </tr>\n",
       "  </thead>\n",
       "  <tbody>\n",
       "    <tr>\n",
       "      <th>0.50</th>\n",
       "      <td>135.0</td>\n",
       "      <td>123.00</td>\n",
       "    </tr>\n",
       "    <tr>\n",
       "      <th>0.75</th>\n",
       "      <td>306.0</td>\n",
       "      <td>262.25</td>\n",
       "    </tr>\n",
       "    <tr>\n",
       "      <th>0.90</th>\n",
       "      <td>578.0</td>\n",
       "      <td>475.00</td>\n",
       "    </tr>\n",
       "    <tr>\n",
       "      <th>0.95</th>\n",
       "      <td>1000.0</td>\n",
       "      <td>730.05</td>\n",
       "    </tr>\n",
       "  </tbody>\n",
       "</table>\n",
       "</div>"
      ],
      "text/plain": [
       "      total sales  number of rows\n",
       "0.50        135.0          123.00\n",
       "0.75        306.0          262.25\n",
       "0.90        578.0          475.00\n",
       "0.95       1000.0          730.05"
      ]
     },
     "execution_count": 6,
     "metadata": {},
     "output_type": "execute_result"
    }
   ],
   "source": [
    "aux[['total sales','number of rows']].quantile([0.5,0.75 ,0.9, 0.95])"
   ]
  },
  {
   "cell_type": "code",
   "execution_count": 7,
   "metadata": {},
   "outputs": [],
   "source": [
    "#removing rows with itemID without sales from\n",
    "boolean = [np.isin(idd,with_sales) for idd in items.itemID]\n",
    "items= items[boolean] "
   ]
  },
  {
   "cell_type": "markdown",
   "metadata": {},
   "source": [
    "## Agregating by week##  "
   ]
  },
  {
   "cell_type": "code",
   "execution_count": 8,
   "metadata": {},
   "outputs": [
    {
     "name": "stdout",
     "output_type": "stream",
     "text": [
      "total weeks:25\n"
     ]
    }
   ],
   "source": [
    "orders[\"week_backward\"] = np.ceil(orders[\"days_backwards\"] / 7).astype(int)\n",
    "\n",
    "#removing the first week, it has 5 days only\n",
    "orders = orders[orders[\"week_backward\"]!=26]\n",
    "\n",
    "weeks_database = orders['week_backward'].unique()\n",
    "print(f'total weeks:{len(weeks_database) }')"
   ]
  },
  {
   "cell_type": "code",
   "execution_count": 9,
   "metadata": {},
   "outputs": [
    {
     "name": "stdout",
     "output_type": "stream",
     "text": [
      "       itemID  salesPrice  week_backward  order  group_backwards  \\\n",
      "0           1        3.11              6     31                3   \n",
      "1           1        3.11              7      2                4   \n",
      "2           1        3.11              8      1                4   \n",
      "3           1        3.11              9      1                5   \n",
      "4           1        3.11             10    298                5   \n",
      "...       ...         ...            ...    ...              ...   \n",
      "62445   10450       55.65              3    122                2   \n",
      "62446   10459       14.71              8      1                4   \n",
      "62447   10460      325.67             11      1                6   \n",
      "62448   10462      304.30             10      1                5   \n",
      "62449   10463      282.16              6      1                3   \n",
      "\n",
      "       modeSalesPrice  difModa  \n",
      "0                3.11      0.0  \n",
      "1                3.11      0.0  \n",
      "2                3.11      0.0  \n",
      "3                3.11      0.0  \n",
      "4                3.11      0.0  \n",
      "...               ...      ...  \n",
      "62445           55.65      0.0  \n",
      "62446           14.71      0.0  \n",
      "62447          325.67      0.0  \n",
      "62448          304.30      0.0  \n",
      "62449          282.16      0.0  \n",
      "\n",
      "[62450 rows x 7 columns]\n"
     ]
    }
   ],
   "source": [
    "orders_w = orders.groupby(['itemID','salesPrice','week_backward']).agg({'order' : ['sum'], \n",
    "                                                               'group_backwards' : ['mean'],\n",
    "                                                               'modeSalesPrice' : ['mean'], \n",
    "                                                               'difModa' : ['mean']})\n",
    "orders_w = orders_w.reset_index()\n",
    "orders_w.columns = ['itemID','salesPrice','week_backward','order','group_backwards','modeSalesPrice','difModa']\n",
    "print(orders_w)"
   ]
  },
  {
   "cell_type": "markdown",
   "metadata": {},
   "source": [
    "## Adding itemID with zero salues by week##"
   ]
  },
  {
   "cell_type": "code",
   "execution_count": 10,
   "metadata": {},
   "outputs": [],
   "source": [
    "new_rows = []\n",
    "for idd in orders_w['itemID'].unique():\n",
    "    orders_id = orders_w[orders_w.itemID == idd]\n",
    "    example = orders_id.iloc[0]\n",
    "    \n",
    "    #finding weeks without itemID sales\n",
    "    weeks_id = orders_id['week_backward'].unique()\n",
    "    weeks_without_id = np.setdiff1d(weeks_database , weeks_id)\n",
    "    \n",
    "    #creating new row\n",
    "    for w in weeks_without_id:\n",
    "        new_rows.append({'itemID':idd, \n",
    "                         'salesPrice':example['modeSalesPrice'], \n",
    "                         'week_backward':w, \n",
    "                         'order':0,\n",
    "                         'group_backwards':example['group_backwards'], \n",
    "                         'modeSalesPrice':example['modeSalesPrice'], \n",
    "                         'difModa':example['difModa']\n",
    "                        })\n",
    "\n",
    "orders_w = orders_w.append(new_rows) "
   ]
  },
  {
   "cell_type": "markdown",
   "metadata": {},
   "source": [
    "OBS: the weeks will have diferent number of rows, because some item are sell with more than one price"
   ]
  },
  {
   "cell_type": "code",
   "execution_count": 11,
   "metadata": {
    "scrolled": true
   },
   "outputs": [
    {
     "name": "stdout",
     "output_type": "stream",
     "text": [
      "10405\n",
      "10343\n"
     ]
    }
   ],
   "source": [
    "print(len(orders_w[orders_w.week_backward == 5]))\n",
    "print(len(orders_w[orders_w.week_backward == 3]))"
   ]
  },
  {
   "cell_type": "code",
   "execution_count": 12,
   "metadata": {},
   "outputs": [
    {
     "name": "stdout",
     "output_type": "stream",
     "text": [
      "9808\n",
      "9808\n"
     ]
    }
   ],
   "source": [
    "print(orders_w[orders_w.week_backward == 5].itemID.nunique())\n",
    "print(orders_w[orders_w.week_backward == 3].itemID.nunique())"
   ]
  },
  {
   "cell_type": "code",
   "execution_count": null,
   "metadata": {},
   "outputs": [],
   "source": []
  },
  {
   "cell_type": "code",
   "execution_count": null,
   "metadata": {},
   "outputs": [],
   "source": []
  }
 ],
 "metadata": {
  "kernelspec": {
   "display_name": "Python 3",
   "language": "python",
   "name": "python3"
  },
  "language_info": {
   "codemirror_mode": {
    "name": "ipython",
    "version": 3
   },
   "file_extension": ".py",
   "mimetype": "text/x-python",
   "name": "python",
   "nbconvert_exporter": "python",
   "pygments_lexer": "ipython3",
   "version": "3.6.9"
  }
 },
 "nbformat": 4,
 "nbformat_minor": 4
}
