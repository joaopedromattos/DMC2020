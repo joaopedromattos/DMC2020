{
 "cells": [
  {
   "cell_type": "code",
   "execution_count": 3,
   "metadata": {},
   "outputs": [],
   "source": [
    "import numpy as np\n",
    "import pandas as pd\n",
    "import sys"
   ]
  },
  {
   "cell_type": "code",
   "execution_count": 4,
   "metadata": {},
   "outputs": [],
   "source": [
    "sys.path.append(\"../main\")\n",
    "\n",
    "from utils import read_data, process_time, merge_data"
   ]
  },
  {
   "cell_type": "code",
   "execution_count": 5,
   "metadata": {},
   "outputs": [],
   "source": [
    "infos, items, orders = read_data(\"../main/datasets/\")\n",
    "process_time(orders)"
   ]
  },
  {
   "cell_type": "code",
   "execution_count": 6,
   "metadata": {},
   "outputs": [
    {
     "name": "stdout",
     "output_type": "stream",
     "text": [
      "group 13 has:12 days\n",
      "group 12 has:14 days\n",
      "group 11 has:14 days\n",
      "group 10 has:14 days\n",
      "group 9 has:14 days\n",
      "group 8 has:14 days\n",
      "group 7 has:14 days\n",
      "group 6 has:14 days\n",
      "group 5 has:14 days\n",
      "group 4 has:14 days\n",
      "group 3 has:14 days\n",
      "group 2 has:14 days\n",
      "group 1 has:14 days\n"
     ]
    }
   ],
   "source": [
    "\n",
    "for j in orders.group_backwards.unique():\n",
    "    \n",
    "    num_of_days= orders[orders.group_backwards ==j].days.nunique()\n",
    "    print(f\"group {j} has:{num_of_days} days\")"
   ]
  },
  {
   "cell_type": "markdown",
   "metadata": {},
   "source": [
    "a primeira semana tem menos dias, isso se deve que o primeiro dia do ano e o primeiro dia do periodo do desafio são diferentes dias da semana"
   ]
  },
  {
   "cell_type": "markdown",
   "metadata": {},
   "source": [
    "Como eh apenas 2 dias de diferença talvez nao afete modelos que soh utilizam grupos de 14 dias.\n",
    "Mas caso o modelo seja por semana, essa diferença pode ser grande o suficiente para invalidar os dados da primeira semana."
   ]
  },
  {
   "cell_type": "code",
   "execution_count": 7,
   "metadata": {},
   "outputs": [
    {
     "name": "stdout",
     "output_type": "stream",
     "text": [
      "Index(['time', 'transactID', 'itemID', 'order', 'salesPrice', 'days',\n",
      "       'days_backwards', 'week_backwards', 'group_backwards'],\n",
      "      dtype='object')\n"
     ]
    }
   ],
   "source": [
    "print(orders.columns)"
   ]
  }
 ],
 "metadata": {
  "kernelspec": {
   "display_name": "Python 3",
   "language": "python",
   "name": "python3"
  },
  "language_info": {
   "codemirror_mode": {
    "name": "ipython",
    "version": 3
   },
   "file_extension": ".py",
   "mimetype": "text/x-python",
   "name": "python",
   "nbconvert_exporter": "python",
   "pygments_lexer": "ipython3",
   "version": "3.6.8"
  }
 },
 "nbformat": 4,
 "nbformat_minor": 4
}
