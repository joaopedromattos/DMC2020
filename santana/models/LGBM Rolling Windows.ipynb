{
 "cells": [
  {
   "cell_type": "markdown",
   "metadata": {},
   "source": [
    "# LGBM - Rolling Windows"
   ]
  },
  {
   "cell_type": "code",
   "execution_count": 1,
   "metadata": {},
   "outputs": [
    {
     "name": "stdout",
     "output_type": "stream",
     "text": [
      "1.0v.zip\r\n"
     ]
    }
   ],
   "source": [
    "import numpy as np\n",
    "import pandas as pd\n",
    "from utils import *\n",
    "import seaborn as sns\n",
    "import matplotlib.pyplot as plt\n",
    "from sklearn.model_selection import train_test_split\n",
    "from sklearn.metrics import mean_squared_error as mse\n",
    "import sys\n",
    "import xgboost as xgb\n",
    "import lightgbm as lgb\n",
    "from datetime import datetime\n",
    "\n",
    "NUMBER_OF_LAGS = 4\n",
    "\n",
    "sys.path.append(\"../../main/datasets/\")\n",
    "!ls  ../../main/datasets/"
   ]
  },
  {
   "cell_type": "markdown",
   "metadata": {},
   "source": [
    "<hr>"
   ]
  },
  {
   "cell_type": "markdown",
   "metadata": {},
   "source": [
    "## Defining metrics"
   ]
  },
  {
   "cell_type": "markdown",
   "metadata": {},
   "source": [
    "Baseline_score function"
   ]
  },
  {
   "cell_type": "code",
   "execution_count": 2,
   "metadata": {},
   "outputs": [],
   "source": [
    "def baseline_score(prediction, target, simulatedPrice):\n",
    "    prediction = prediction.astype(int)\n",
    "\n",
    "    return np.sum((prediction - np.maximum(prediction - target, 0) * 1.6)  * simulatedPrice)"
   ]
  },
  {
   "cell_type": "markdown",
   "metadata": {},
   "source": [
    "Evaluation Metric"
   ]
  },
  {
   "cell_type": "code",
   "execution_count": 3,
   "metadata": {},
   "outputs": [],
   "source": [
    "def feval(prediction, dtrain):\n",
    "    \n",
    "    prediction = prediction.astype(int)\n",
    "    target = dtrain.get_label()\n",
    "\n",
    "    simulatedPrice = dtrain.get_weight()\n",
    "    \n",
    "    return 'feval', np.sum((prediction - np.maximum(prediction - target, 0) * 1.6)  * simulatedPrice), True"
   ]
  },
  {
   "cell_type": "markdown",
   "metadata": {},
   "source": [
    "Objective Metric"
   ]
  },
  {
   "cell_type": "code",
   "execution_count": 4,
   "metadata": {},
   "outputs": [],
   "source": [
    "def gradient(predt, dtrain):\n",
    "    y = dtrain.get_label()\n",
    "    sp = dtrain.get_weight()\n",
    "    return -2 * (predt - np.maximum(predt - y, 0) * 1.6) * (1 - (predt > y) * 1.6) * sp\n",
    "\n",
    "def hessian(predt, dtrain):\n",
    "    y = dtrain.get_label()\n",
    "    sp = dtrain.get_weight() \n",
    "    return -2 * ((1 - (predt > y) * 1.6) ** 2) * sp\n",
    "\n",
    "def objective(predt, dtrain):\n",
    "    grad = gradient(predt, dtrain)\n",
    "    hess = hessian(predt, dtrain)\n",
    "    return grad, hess"
   ]
  },
  {
   "cell_type": "markdown",
   "metadata": {},
   "source": [
    "<hr>"
   ]
  },
  {
   "cell_type": "markdown",
   "metadata": {},
   "source": [
    "## Building our dataset\n",
    "This notebook makes this step cleaner than the previous versions. So It'll be tidier and shorter than before!"
   ]
  },
  {
   "cell_type": "code",
   "execution_count": 5,
   "metadata": {},
   "outputs": [
    {
     "name": "stdout",
     "output_type": "stream",
     "text": [
      "Sanity checks... (10463, 3) (10463, 8) (2181955, 5)\n"
     ]
    }
   ],
   "source": [
    "infos, items, orders = read_data(\"../../main/datasets/\")\n",
    "print(\"Sanity checks...\", infos.shape, items.shape, orders.shape)"
   ]
  },
  {
   "cell_type": "code",
   "execution_count": 6,
   "metadata": {},
   "outputs": [
    {
     "data": {
      "text/html": [
       "<div>\n",
       "<style scoped>\n",
       "    .dataframe tbody tr th:only-of-type {\n",
       "        vertical-align: middle;\n",
       "    }\n",
       "\n",
       "    .dataframe tbody tr th {\n",
       "        vertical-align: top;\n",
       "    }\n",
       "\n",
       "    .dataframe thead th {\n",
       "        text-align: right;\n",
       "    }\n",
       "</style>\n",
       "<table border=\"1\" class=\"dataframe\">\n",
       "  <thead>\n",
       "    <tr style=\"text-align: right;\">\n",
       "      <th></th>\n",
       "      <th>time</th>\n",
       "      <th>transactID</th>\n",
       "      <th>itemID</th>\n",
       "      <th>order</th>\n",
       "      <th>salesPrice</th>\n",
       "    </tr>\n",
       "  </thead>\n",
       "  <tbody>\n",
       "    <tr>\n",
       "      <th>0</th>\n",
       "      <td>2018-01-01 00:01:56</td>\n",
       "      <td>2278968</td>\n",
       "      <td>450</td>\n",
       "      <td>1</td>\n",
       "      <td>17.42</td>\n",
       "    </tr>\n",
       "    <tr>\n",
       "      <th>1</th>\n",
       "      <td>2018-01-01 00:01:56</td>\n",
       "      <td>2278968</td>\n",
       "      <td>83</td>\n",
       "      <td>1</td>\n",
       "      <td>5.19</td>\n",
       "    </tr>\n",
       "    <tr>\n",
       "      <th>2</th>\n",
       "      <td>2018-01-01 00:07:11</td>\n",
       "      <td>2255797</td>\n",
       "      <td>7851</td>\n",
       "      <td>2</td>\n",
       "      <td>20.47</td>\n",
       "    </tr>\n",
       "    <tr>\n",
       "      <th>3</th>\n",
       "      <td>2018-01-01 00:09:24</td>\n",
       "      <td>2278968</td>\n",
       "      <td>450</td>\n",
       "      <td>1</td>\n",
       "      <td>17.42</td>\n",
       "    </tr>\n",
       "    <tr>\n",
       "      <th>4</th>\n",
       "      <td>2018-01-01 00:09:24</td>\n",
       "      <td>2278968</td>\n",
       "      <td>83</td>\n",
       "      <td>1</td>\n",
       "      <td>5.19</td>\n",
       "    </tr>\n",
       "  </tbody>\n",
       "</table>\n",
       "</div>"
      ],
      "text/plain": [
       "                  time  transactID  itemID  order  salesPrice\n",
       "0  2018-01-01 00:01:56     2278968     450      1       17.42\n",
       "1  2018-01-01 00:01:56     2278968      83      1        5.19\n",
       "2  2018-01-01 00:07:11     2255797    7851      2       20.47\n",
       "3  2018-01-01 00:09:24     2278968     450      1       17.42\n",
       "4  2018-01-01 00:09:24     2278968      83      1        5.19"
      ]
     },
     "execution_count": 6,
     "metadata": {},
     "output_type": "execute_result"
    }
   ],
   "source": [
    "orders.head()"
   ]
  },
  {
   "cell_type": "code",
   "execution_count": 7,
   "metadata": {},
   "outputs": [],
   "source": [
    "# Changing our time signatures\n",
    "process_time(orders)"
   ]
  },
  {
   "cell_type": "code",
   "execution_count": 8,
   "metadata": {},
   "outputs": [
    {
     "data": {
      "text/html": [
       "<div>\n",
       "<style scoped>\n",
       "    .dataframe tbody tr th:only-of-type {\n",
       "        vertical-align: middle;\n",
       "    }\n",
       "\n",
       "    .dataframe tbody tr th {\n",
       "        vertical-align: top;\n",
       "    }\n",
       "\n",
       "    .dataframe thead th {\n",
       "        text-align: right;\n",
       "    }\n",
       "</style>\n",
       "<table border=\"1\" class=\"dataframe\">\n",
       "  <thead>\n",
       "    <tr style=\"text-align: right;\">\n",
       "      <th></th>\n",
       "      <th>time</th>\n",
       "      <th>transactID</th>\n",
       "      <th>itemID</th>\n",
       "      <th>order</th>\n",
       "      <th>salesPrice</th>\n",
       "      <th>days</th>\n",
       "      <th>days_backwards</th>\n",
       "      <th>group_backwards</th>\n",
       "    </tr>\n",
       "  </thead>\n",
       "  <tbody>\n",
       "    <tr>\n",
       "      <th>0</th>\n",
       "      <td>2018-01-01 00:01:56</td>\n",
       "      <td>2278968</td>\n",
       "      <td>450</td>\n",
       "      <td>1</td>\n",
       "      <td>17.42</td>\n",
       "      <td>1</td>\n",
       "      <td>180</td>\n",
       "      <td>13</td>\n",
       "    </tr>\n",
       "    <tr>\n",
       "      <th>1</th>\n",
       "      <td>2018-01-01 00:01:56</td>\n",
       "      <td>2278968</td>\n",
       "      <td>83</td>\n",
       "      <td>1</td>\n",
       "      <td>5.19</td>\n",
       "      <td>1</td>\n",
       "      <td>180</td>\n",
       "      <td>13</td>\n",
       "    </tr>\n",
       "    <tr>\n",
       "      <th>2</th>\n",
       "      <td>2018-01-01 00:07:11</td>\n",
       "      <td>2255797</td>\n",
       "      <td>7851</td>\n",
       "      <td>2</td>\n",
       "      <td>20.47</td>\n",
       "      <td>1</td>\n",
       "      <td>180</td>\n",
       "      <td>13</td>\n",
       "    </tr>\n",
       "    <tr>\n",
       "      <th>3</th>\n",
       "      <td>2018-01-01 00:09:24</td>\n",
       "      <td>2278968</td>\n",
       "      <td>450</td>\n",
       "      <td>1</td>\n",
       "      <td>17.42</td>\n",
       "      <td>1</td>\n",
       "      <td>180</td>\n",
       "      <td>13</td>\n",
       "    </tr>\n",
       "    <tr>\n",
       "      <th>4</th>\n",
       "      <td>2018-01-01 00:09:24</td>\n",
       "      <td>2278968</td>\n",
       "      <td>83</td>\n",
       "      <td>1</td>\n",
       "      <td>5.19</td>\n",
       "      <td>1</td>\n",
       "      <td>180</td>\n",
       "      <td>13</td>\n",
       "    </tr>\n",
       "  </tbody>\n",
       "</table>\n",
       "</div>"
      ],
      "text/plain": [
       "                 time  transactID  itemID  order  salesPrice  days  \\\n",
       "0 2018-01-01 00:01:56     2278968     450      1       17.42     1   \n",
       "1 2018-01-01 00:01:56     2278968      83      1        5.19     1   \n",
       "2 2018-01-01 00:07:11     2255797    7851      2       20.47     1   \n",
       "3 2018-01-01 00:09:24     2278968     450      1       17.42     1   \n",
       "4 2018-01-01 00:09:24     2278968      83      1        5.19     1   \n",
       "\n",
       "   days_backwards  group_backwards  \n",
       "0             180               13  \n",
       "1             180               13  \n",
       "2             180               13  \n",
       "3             180               13  \n",
       "4             180               13  "
      ]
     },
     "execution_count": 8,
     "metadata": {},
     "output_type": "execute_result"
    }
   ],
   "source": [
    "orders.head()"
   ]
  },
  {
   "cell_type": "code",
   "execution_count": 9,
   "metadata": {},
   "outputs": [],
   "source": [
    "df = dataset_builder(orders, items)"
   ]
  },
  {
   "cell_type": "code",
   "execution_count": 10,
   "metadata": {},
   "outputs": [
    {
     "name": "stdout",
     "output_type": "stream",
     "text": [
      "(136019, 10)\n"
     ]
    },
    {
     "data": {
      "text/html": [
       "<div>\n",
       "<style scoped>\n",
       "    .dataframe tbody tr th:only-of-type {\n",
       "        vertical-align: middle;\n",
       "    }\n",
       "\n",
       "    .dataframe tbody tr th {\n",
       "        vertical-align: top;\n",
       "    }\n",
       "\n",
       "    .dataframe thead th {\n",
       "        text-align: right;\n",
       "    }\n",
       "</style>\n",
       "<table border=\"1\" class=\"dataframe\">\n",
       "  <thead>\n",
       "    <tr style=\"text-align: right;\">\n",
       "      <th></th>\n",
       "      <th>group_backwards</th>\n",
       "      <th>itemID</th>\n",
       "      <th>orderSum</th>\n",
       "      <th>brand</th>\n",
       "      <th>manufacturer</th>\n",
       "      <th>customerRating</th>\n",
       "      <th>category1</th>\n",
       "      <th>category2</th>\n",
       "      <th>category3</th>\n",
       "      <th>recommendedRetailPrice</th>\n",
       "    </tr>\n",
       "  </thead>\n",
       "  <tbody>\n",
       "    <tr>\n",
       "      <th>0</th>\n",
       "      <td>13</td>\n",
       "      <td>1</td>\n",
       "      <td>0.0</td>\n",
       "      <td>0</td>\n",
       "      <td>1</td>\n",
       "      <td>4.38</td>\n",
       "      <td>1</td>\n",
       "      <td>1</td>\n",
       "      <td>1</td>\n",
       "      <td>8.84</td>\n",
       "    </tr>\n",
       "    <tr>\n",
       "      <th>1</th>\n",
       "      <td>13</td>\n",
       "      <td>2</td>\n",
       "      <td>0.0</td>\n",
       "      <td>0</td>\n",
       "      <td>2</td>\n",
       "      <td>3.00</td>\n",
       "      <td>1</td>\n",
       "      <td>2</td>\n",
       "      <td>1</td>\n",
       "      <td>16.92</td>\n",
       "    </tr>\n",
       "    <tr>\n",
       "      <th>2</th>\n",
       "      <td>13</td>\n",
       "      <td>3</td>\n",
       "      <td>1.0</td>\n",
       "      <td>0</td>\n",
       "      <td>3</td>\n",
       "      <td>5.00</td>\n",
       "      <td>1</td>\n",
       "      <td>3</td>\n",
       "      <td>1</td>\n",
       "      <td>15.89</td>\n",
       "    </tr>\n",
       "    <tr>\n",
       "      <th>3</th>\n",
       "      <td>13</td>\n",
       "      <td>4</td>\n",
       "      <td>0.0</td>\n",
       "      <td>0</td>\n",
       "      <td>2</td>\n",
       "      <td>4.44</td>\n",
       "      <td>1</td>\n",
       "      <td>2</td>\n",
       "      <td>1</td>\n",
       "      <td>40.17</td>\n",
       "    </tr>\n",
       "    <tr>\n",
       "      <th>4</th>\n",
       "      <td>13</td>\n",
       "      <td>5</td>\n",
       "      <td>2.0</td>\n",
       "      <td>0</td>\n",
       "      <td>2</td>\n",
       "      <td>2.33</td>\n",
       "      <td>1</td>\n",
       "      <td>1</td>\n",
       "      <td>1</td>\n",
       "      <td>17.04</td>\n",
       "    </tr>\n",
       "  </tbody>\n",
       "</table>\n",
       "</div>"
      ],
      "text/plain": [
       "   group_backwards  itemID  orderSum  brand  manufacturer  customerRating  \\\n",
       "0               13       1       0.0      0             1            4.38   \n",
       "1               13       2       0.0      0             2            3.00   \n",
       "2               13       3       1.0      0             3            5.00   \n",
       "3               13       4       0.0      0             2            4.44   \n",
       "4               13       5       2.0      0             2            2.33   \n",
       "\n",
       "   category1  category2  category3  recommendedRetailPrice  \n",
       "0          1          1          1                    8.84  \n",
       "1          1          2          1                   16.92  \n",
       "2          1          3          1                   15.89  \n",
       "3          1          2          1                   40.17  \n",
       "4          1          1          1                   17.04  "
      ]
     },
     "execution_count": 10,
     "metadata": {},
     "output_type": "execute_result"
    }
   ],
   "source": [
    "print(df.shape)\n",
    "df.head()"
   ]
  },
  {
   "cell_type": "markdown",
   "metadata": {},
   "source": [
    "<hr>"
   ]
  },
  {
   "cell_type": "markdown",
   "metadata": {},
   "source": [
    "## Feature building"
   ]
  },
  {
   "cell_type": "code",
   "execution_count": 11,
   "metadata": {},
   "outputs": [],
   "source": [
    "# Is in utils.py\n",
    "def cumulative_sale_by_category(df):\n",
    "    \"\"\"\n",
    "    This function add the percentage_acum_cat_3 in our dataset, which tries to describe how \n",
    "    important a certain item is inside Its group on category 3.\n",
    "\n",
    "    Parameters: orders -> Orders DataFrame after \"process_time\" and \"dataset_builder\"\n",
    "\n",
    "    Returns: our orders Dataframe with a new column (percentage_acum_cat_3)\n",
    "    \"\"\"\n",
    "    acum = pd.DataFrame()\n",
    "    for i in range(12, 0, -1):\n",
    "\n",
    "        orders_per_item = df.loc[df.group_backwards > i].groupby(\n",
    "            ['itemID', 'category3'], as_index=False).agg({'orderSum': 'sum'})\n",
    "        orders_per_cat = df.loc[df.group_backwards > i].groupby(\n",
    "            ['category3'], as_index=False).agg({'orderSum': 'sum'})\n",
    "\n",
    "        # Mergin' the amount of sales by category\n",
    "        # with the accumulated sales\n",
    "        # of an item grouped by category\n",
    "        # of the previous weeks\n",
    "        cum_sum_mean = pd.merge(orders_per_item, orders_per_cat,\n",
    "                                left_on='category3', right_on='category3', validate=\"m:1\")\n",
    "\n",
    "        # Calculating the mean of the accumulated sales...\n",
    "        cum_sum_mean['percentage_accum_cat_3'] = cum_sum_mean['orderSum_x'] / \\\n",
    "            cum_sum_mean['orderSum_y'] * 100\n",
    "\n",
    "        # These columns won't be useful anymore,\n",
    "        # since they were used just to calculate our mean\n",
    "        cum_sum_mean.drop(columns=['orderSum_x', 'orderSum_y'], inplace=True)\n",
    "\n",
    "        feature_merge = pd.merge(df.loc[df.group_backwards == i], cum_sum_mean.drop(\n",
    "            columns=['category3']), left_on='itemID', right_on='itemID')\n",
    "        acum = pd.concat([acum, feature_merge])\n",
    "\n",
    "    week_13 = df.loc[df.group_backwards == 13].copy()\n",
    "    week_13['percentage_accum_cat_3'] = 0\n",
    "    acum = pd.concat([week_13, acum])\n",
    "\n",
    "    assert (acum.loc[acum.group_backwards == 13]['percentage_accum_cat_3'].sum(\n",
    "    ) == 0), (\"The values on week 13 should all be zero. Verify your inputs\")\n",
    "    \n",
    "    acum.reset_index(drop=True, inplace=True)\n",
    "\n",
    "    return acum"
   ]
  },
  {
   "cell_type": "code",
   "execution_count": 12,
   "metadata": {},
   "outputs": [],
   "source": [
    "# percentage_accum_cat_3 feature...\n",
    "df = cumulative_sale_by_category(df)"
   ]
  },
  {
   "cell_type": "code",
   "execution_count": 13,
   "metadata": {},
   "outputs": [
    {
     "data": {
      "text/html": [
       "<div>\n",
       "<style scoped>\n",
       "    .dataframe tbody tr th:only-of-type {\n",
       "        vertical-align: middle;\n",
       "    }\n",
       "\n",
       "    .dataframe tbody tr th {\n",
       "        vertical-align: top;\n",
       "    }\n",
       "\n",
       "    .dataframe thead th {\n",
       "        text-align: right;\n",
       "    }\n",
       "</style>\n",
       "<table border=\"1\" class=\"dataframe\">\n",
       "  <thead>\n",
       "    <tr style=\"text-align: right;\">\n",
       "      <th></th>\n",
       "      <th>group_backwards</th>\n",
       "      <th>itemID</th>\n",
       "      <th>orderSum</th>\n",
       "      <th>brand</th>\n",
       "      <th>manufacturer</th>\n",
       "      <th>customerRating</th>\n",
       "      <th>category1</th>\n",
       "      <th>category2</th>\n",
       "      <th>category3</th>\n",
       "      <th>recommendedRetailPrice</th>\n",
       "      <th>percentage_accum_cat_3</th>\n",
       "    </tr>\n",
       "  </thead>\n",
       "  <tbody>\n",
       "    <tr>\n",
       "      <th>136014</th>\n",
       "      <td>1</td>\n",
       "      <td>10459</td>\n",
       "      <td>0.0</td>\n",
       "      <td>180</td>\n",
       "      <td>253</td>\n",
       "      <td>0.0</td>\n",
       "      <td>8</td>\n",
       "      <td>44</td>\n",
       "      <td>8</td>\n",
       "      <td>56.57</td>\n",
       "      <td>0.001074</td>\n",
       "    </tr>\n",
       "    <tr>\n",
       "      <th>136015</th>\n",
       "      <td>1</td>\n",
       "      <td>10460</td>\n",
       "      <td>0.0</td>\n",
       "      <td>0</td>\n",
       "      <td>253</td>\n",
       "      <td>0.0</td>\n",
       "      <td>8</td>\n",
       "      <td>44</td>\n",
       "      <td>8</td>\n",
       "      <td>163.81</td>\n",
       "      <td>0.001074</td>\n",
       "    </tr>\n",
       "    <tr>\n",
       "      <th>136016</th>\n",
       "      <td>1</td>\n",
       "      <td>10461</td>\n",
       "      <td>0.0</td>\n",
       "      <td>0</td>\n",
       "      <td>253</td>\n",
       "      <td>0.0</td>\n",
       "      <td>8</td>\n",
       "      <td>44</td>\n",
       "      <td>8</td>\n",
       "      <td>128.01</td>\n",
       "      <td>0.000000</td>\n",
       "    </tr>\n",
       "    <tr>\n",
       "      <th>136017</th>\n",
       "      <td>1</td>\n",
       "      <td>10462</td>\n",
       "      <td>0.0</td>\n",
       "      <td>180</td>\n",
       "      <td>253</td>\n",
       "      <td>0.0</td>\n",
       "      <td>8</td>\n",
       "      <td>44</td>\n",
       "      <td>8</td>\n",
       "      <td>166.97</td>\n",
       "      <td>0.001074</td>\n",
       "    </tr>\n",
       "    <tr>\n",
       "      <th>136018</th>\n",
       "      <td>1</td>\n",
       "      <td>10463</td>\n",
       "      <td>0.0</td>\n",
       "      <td>0</td>\n",
       "      <td>253</td>\n",
       "      <td>0.0</td>\n",
       "      <td>8</td>\n",
       "      <td>44</td>\n",
       "      <td>8</td>\n",
       "      <td>154.82</td>\n",
       "      <td>0.001074</td>\n",
       "    </tr>\n",
       "  </tbody>\n",
       "</table>\n",
       "</div>"
      ],
      "text/plain": [
       "        group_backwards  itemID  orderSum  brand  manufacturer  \\\n",
       "136014                1   10459       0.0    180           253   \n",
       "136015                1   10460       0.0      0           253   \n",
       "136016                1   10461       0.0      0           253   \n",
       "136017                1   10462       0.0    180           253   \n",
       "136018                1   10463       0.0      0           253   \n",
       "\n",
       "        customerRating  category1  category2  category3  \\\n",
       "136014             0.0          8         44          8   \n",
       "136015             0.0          8         44          8   \n",
       "136016             0.0          8         44          8   \n",
       "136017             0.0          8         44          8   \n",
       "136018             0.0          8         44          8   \n",
       "\n",
       "        recommendedRetailPrice  percentage_accum_cat_3  \n",
       "136014                   56.57                0.001074  \n",
       "136015                  163.81                0.001074  \n",
       "136016                  128.01                0.000000  \n",
       "136017                  166.97                0.001074  \n",
       "136018                  154.82                0.001074  "
      ]
     },
     "execution_count": 13,
     "metadata": {},
     "output_type": "execute_result"
    }
   ],
   "source": [
    "df.tail()"
   ]
  },
  {
   "cell_type": "code",
   "execution_count": 14,
   "metadata": {},
   "outputs": [],
   "source": [
    "# Is in utils.py\n",
    "def time_encoder(data, col, max_val):\n",
    "    \"\"\"This function aims to encode a time series in function sines and cosines.\n",
    "    \n",
    "    Parameters\n",
    "    -------------\n",
    "    data : A pandas DataFrame with all the dataset\n",
    "    col : A string corresponding to the name of the column that will be encoded\n",
    "    max_val : Size of the time-window of encoding\n",
    "                    \n",
    "    Return\n",
    "    -------------\n",
    "    A new pandas DataFrame with two new columns, one encoded as sin and other as cosine.\n",
    "    \"\"\"\n",
    "    data[col + '_sin'] = np.sin(2 * np.pi * data[col]/max_val)\n",
    "    data[col + '_cos'] = np.cos(2 * np.pi * data[col]/max_val)\n",
    "    return data"
   ]
  },
  {
   "cell_type": "code",
   "execution_count": 15,
   "metadata": {},
   "outputs": [],
   "source": [
    "# Encoding our weeks as a series of sines and cosines...\n",
    "# This function will consider our period as a semester in a year,\n",
    "# so we can try other types of time encoding later!\n",
    "df = time_encoder(df, 'group_backwards', 26)"
   ]
  },
  {
   "cell_type": "code",
   "execution_count": 16,
   "metadata": {},
   "outputs": [
    {
     "data": {
      "text/html": [
       "<div>\n",
       "<style scoped>\n",
       "    .dataframe tbody tr th:only-of-type {\n",
       "        vertical-align: middle;\n",
       "    }\n",
       "\n",
       "    .dataframe tbody tr th {\n",
       "        vertical-align: top;\n",
       "    }\n",
       "\n",
       "    .dataframe thead th {\n",
       "        text-align: right;\n",
       "    }\n",
       "</style>\n",
       "<table border=\"1\" class=\"dataframe\">\n",
       "  <thead>\n",
       "    <tr style=\"text-align: right;\">\n",
       "      <th></th>\n",
       "      <th>group_backwards</th>\n",
       "      <th>itemID</th>\n",
       "      <th>orderSum</th>\n",
       "      <th>brand</th>\n",
       "      <th>manufacturer</th>\n",
       "      <th>customerRating</th>\n",
       "      <th>category1</th>\n",
       "      <th>category2</th>\n",
       "      <th>category3</th>\n",
       "      <th>recommendedRetailPrice</th>\n",
       "      <th>percentage_accum_cat_3</th>\n",
       "      <th>group_backwards_sin</th>\n",
       "      <th>group_backwards_cos</th>\n",
       "    </tr>\n",
       "  </thead>\n",
       "  <tbody>\n",
       "    <tr>\n",
       "      <th>10463</th>\n",
       "      <td>12</td>\n",
       "      <td>1</td>\n",
       "      <td>2.0</td>\n",
       "      <td>0</td>\n",
       "      <td>1</td>\n",
       "      <td>4.38</td>\n",
       "      <td>1</td>\n",
       "      <td>1</td>\n",
       "      <td>1</td>\n",
       "      <td>8.84</td>\n",
       "      <td>0.000000</td>\n",
       "      <td>0.239316</td>\n",
       "      <td>-0.970942</td>\n",
       "    </tr>\n",
       "    <tr>\n",
       "      <th>10464</th>\n",
       "      <td>12</td>\n",
       "      <td>2</td>\n",
       "      <td>0.0</td>\n",
       "      <td>0</td>\n",
       "      <td>2</td>\n",
       "      <td>3.00</td>\n",
       "      <td>1</td>\n",
       "      <td>2</td>\n",
       "      <td>1</td>\n",
       "      <td>16.92</td>\n",
       "      <td>0.000000</td>\n",
       "      <td>0.239316</td>\n",
       "      <td>-0.970942</td>\n",
       "    </tr>\n",
       "    <tr>\n",
       "      <th>10465</th>\n",
       "      <td>12</td>\n",
       "      <td>3</td>\n",
       "      <td>95.0</td>\n",
       "      <td>0</td>\n",
       "      <td>3</td>\n",
       "      <td>5.00</td>\n",
       "      <td>1</td>\n",
       "      <td>3</td>\n",
       "      <td>1</td>\n",
       "      <td>15.89</td>\n",
       "      <td>0.008972</td>\n",
       "      <td>0.239316</td>\n",
       "      <td>-0.970942</td>\n",
       "    </tr>\n",
       "    <tr>\n",
       "      <th>10466</th>\n",
       "      <td>12</td>\n",
       "      <td>4</td>\n",
       "      <td>1.0</td>\n",
       "      <td>0</td>\n",
       "      <td>2</td>\n",
       "      <td>4.44</td>\n",
       "      <td>1</td>\n",
       "      <td>2</td>\n",
       "      <td>1</td>\n",
       "      <td>40.17</td>\n",
       "      <td>0.000000</td>\n",
       "      <td>0.239316</td>\n",
       "      <td>-0.970942</td>\n",
       "    </tr>\n",
       "    <tr>\n",
       "      <th>10467</th>\n",
       "      <td>12</td>\n",
       "      <td>5</td>\n",
       "      <td>1.0</td>\n",
       "      <td>0</td>\n",
       "      <td>2</td>\n",
       "      <td>2.33</td>\n",
       "      <td>1</td>\n",
       "      <td>1</td>\n",
       "      <td>1</td>\n",
       "      <td>17.04</td>\n",
       "      <td>0.017944</td>\n",
       "      <td>0.239316</td>\n",
       "      <td>-0.970942</td>\n",
       "    </tr>\n",
       "    <tr>\n",
       "      <th>...</th>\n",
       "      <td>...</td>\n",
       "      <td>...</td>\n",
       "      <td>...</td>\n",
       "      <td>...</td>\n",
       "      <td>...</td>\n",
       "      <td>...</td>\n",
       "      <td>...</td>\n",
       "      <td>...</td>\n",
       "      <td>...</td>\n",
       "      <td>...</td>\n",
       "      <td>...</td>\n",
       "      <td>...</td>\n",
       "      <td>...</td>\n",
       "    </tr>\n",
       "    <tr>\n",
       "      <th>20921</th>\n",
       "      <td>12</td>\n",
       "      <td>10459</td>\n",
       "      <td>0.0</td>\n",
       "      <td>180</td>\n",
       "      <td>253</td>\n",
       "      <td>0.00</td>\n",
       "      <td>8</td>\n",
       "      <td>44</td>\n",
       "      <td>8</td>\n",
       "      <td>56.57</td>\n",
       "      <td>0.000000</td>\n",
       "      <td>0.239316</td>\n",
       "      <td>-0.970942</td>\n",
       "    </tr>\n",
       "    <tr>\n",
       "      <th>20922</th>\n",
       "      <td>12</td>\n",
       "      <td>10460</td>\n",
       "      <td>0.0</td>\n",
       "      <td>0</td>\n",
       "      <td>253</td>\n",
       "      <td>0.00</td>\n",
       "      <td>8</td>\n",
       "      <td>44</td>\n",
       "      <td>8</td>\n",
       "      <td>163.81</td>\n",
       "      <td>0.000000</td>\n",
       "      <td>0.239316</td>\n",
       "      <td>-0.970942</td>\n",
       "    </tr>\n",
       "    <tr>\n",
       "      <th>20923</th>\n",
       "      <td>12</td>\n",
       "      <td>10461</td>\n",
       "      <td>0.0</td>\n",
       "      <td>0</td>\n",
       "      <td>253</td>\n",
       "      <td>0.00</td>\n",
       "      <td>8</td>\n",
       "      <td>44</td>\n",
       "      <td>8</td>\n",
       "      <td>128.01</td>\n",
       "      <td>0.000000</td>\n",
       "      <td>0.239316</td>\n",
       "      <td>-0.970942</td>\n",
       "    </tr>\n",
       "    <tr>\n",
       "      <th>20924</th>\n",
       "      <td>12</td>\n",
       "      <td>10462</td>\n",
       "      <td>0.0</td>\n",
       "      <td>180</td>\n",
       "      <td>253</td>\n",
       "      <td>0.00</td>\n",
       "      <td>8</td>\n",
       "      <td>44</td>\n",
       "      <td>8</td>\n",
       "      <td>166.97</td>\n",
       "      <td>0.000000</td>\n",
       "      <td>0.239316</td>\n",
       "      <td>-0.970942</td>\n",
       "    </tr>\n",
       "    <tr>\n",
       "      <th>20925</th>\n",
       "      <td>12</td>\n",
       "      <td>10463</td>\n",
       "      <td>0.0</td>\n",
       "      <td>0</td>\n",
       "      <td>253</td>\n",
       "      <td>0.00</td>\n",
       "      <td>8</td>\n",
       "      <td>44</td>\n",
       "      <td>8</td>\n",
       "      <td>154.82</td>\n",
       "      <td>0.000000</td>\n",
       "      <td>0.239316</td>\n",
       "      <td>-0.970942</td>\n",
       "    </tr>\n",
       "  </tbody>\n",
       "</table>\n",
       "<p>10463 rows × 13 columns</p>\n",
       "</div>"
      ],
      "text/plain": [
       "       group_backwards  itemID  orderSum  brand  manufacturer  customerRating  \\\n",
       "10463               12       1       2.0      0             1            4.38   \n",
       "10464               12       2       0.0      0             2            3.00   \n",
       "10465               12       3      95.0      0             3            5.00   \n",
       "10466               12       4       1.0      0             2            4.44   \n",
       "10467               12       5       1.0      0             2            2.33   \n",
       "...                ...     ...       ...    ...           ...             ...   \n",
       "20921               12   10459       0.0    180           253            0.00   \n",
       "20922               12   10460       0.0      0           253            0.00   \n",
       "20923               12   10461       0.0      0           253            0.00   \n",
       "20924               12   10462       0.0    180           253            0.00   \n",
       "20925               12   10463       0.0      0           253            0.00   \n",
       "\n",
       "       category1  category2  category3  recommendedRetailPrice  \\\n",
       "10463          1          1          1                    8.84   \n",
       "10464          1          2          1                   16.92   \n",
       "10465          1          3          1                   15.89   \n",
       "10466          1          2          1                   40.17   \n",
       "10467          1          1          1                   17.04   \n",
       "...          ...        ...        ...                     ...   \n",
       "20921          8         44          8                   56.57   \n",
       "20922          8         44          8                  163.81   \n",
       "20923          8         44          8                  128.01   \n",
       "20924          8         44          8                  166.97   \n",
       "20925          8         44          8                  154.82   \n",
       "\n",
       "       percentage_accum_cat_3  group_backwards_sin  group_backwards_cos  \n",
       "10463                0.000000             0.239316            -0.970942  \n",
       "10464                0.000000             0.239316            -0.970942  \n",
       "10465                0.008972             0.239316            -0.970942  \n",
       "10466                0.000000             0.239316            -0.970942  \n",
       "10467                0.017944             0.239316            -0.970942  \n",
       "...                       ...                  ...                  ...  \n",
       "20921                0.000000             0.239316            -0.970942  \n",
       "20922                0.000000             0.239316            -0.970942  \n",
       "20923                0.000000             0.239316            -0.970942  \n",
       "20924                0.000000             0.239316            -0.970942  \n",
       "20925                0.000000             0.239316            -0.970942  \n",
       "\n",
       "[10463 rows x 13 columns]"
      ]
     },
     "execution_count": 16,
     "metadata": {},
     "output_type": "execute_result"
    }
   ],
   "source": [
    "df.loc[df['group_backwards'] == 12]"
   ]
  },
  {
   "cell_type": "code",
   "execution_count": 17,
   "metadata": {},
   "outputs": [],
   "source": [
    "# This cell lags and diffs our feature 'orderSum'\n",
    "shifting = df.copy()\n",
    "\n",
    "for i in range(1, NUMBER_OF_LAGS + 1):\n",
    "    # Carrying the data of weeks t-1\n",
    "    shifting[f'orderSum_{i}'] = shifting.groupby('itemID')['orderSum'].shift(i)\n",
    "\n",
    "    \n",
    "    # Getting the difference of the orders and promotions between weeks t-1 and t-2...\n",
    "    shifting[f'orderSum_diff_{i}'] = shifting.groupby('itemID')[f'orderSum_{i}'].diff()\n",
    "    "
   ]
  },
  {
   "cell_type": "code",
   "execution_count": 18,
   "metadata": {},
   "outputs": [],
   "source": [
    "# This cell creates rolling-window features based on 'orderSum' in our dataset!\n",
    "\n",
    "item_group = shifting.groupby([\"itemID\", \"group_backwards\"]).agg({'orderSum':'sum'})\n",
    "\n",
    "# We'll .shift(-1) because it sorts our \"group_backwards\", \n",
    "# so doing .shift(1) would cause a HUGE dataleak.\n",
    "aux_shifting = item_group.groupby('itemID')[['orderSum']].shift(-1)\n",
    "\n",
    "aux_shifting.sort_values(['itemID', 'group_backwards'], ascending=[True, False], inplace=True)\n",
    "\n",
    "for i in range(3):\n",
    "    rolled_window = aux_shifting.groupby(['itemID'], as_index=False)[['orderSum']].rolling(2 ** i).mean()\n",
    "    rolled_window.rename(columns={'orderSum':f\"orderSum_mean_rolled_{i}\"}, inplace=True)\n",
    "    shifting = pd.merge(shifting, rolled_window, left_on=['itemID', 'group_backwards'], right_on=['itemID', 'group_backwards'])"
   ]
  },
  {
   "cell_type": "code",
   "execution_count": 19,
   "metadata": {},
   "outputs": [],
   "source": [
    "# LGBM Says on docs that it automatically handles zero values as NaN,\n",
    "# so we'll keep this standard...\n",
    "shifting.fillna(0, inplace=True)"
   ]
  },
  {
   "cell_type": "markdown",
   "metadata": {},
   "source": [
    "<hr>"
   ]
  },
  {
   "cell_type": "markdown",
   "metadata": {},
   "source": [
    "## Maximum error\n",
    "The maximum error we could get in this dataset would be just guessing the mean of our sales from pair-weeks -13 to -2, and that's what the cell below is computing."
   ]
  },
  {
   "cell_type": "code",
   "execution_count": 20,
   "metadata": {},
   "outputs": [
    {
     "name": "stdout",
     "output_type": "stream",
     "text": [
      "Guessing the mean of 'orderSum' for all items in target 118.20105838913783\n"
     ]
    }
   ],
   "source": [
    "worst_possible_prediction = shifting.loc[shifting.group_backwards > 1]['orderSum'].mean()\n",
    "prediction = np.full(shifting.loc[shifting.group_backwards == 1]['orderSum'].shape, worst_possible_prediction) # Array filled with the mean...\n",
    "target = shifting.loc[shifting.group_backwards == 1]['orderSum']\n",
    "print(\"Guessing the mean of 'orderSum' for all items in target\", mse(target, prediction) ** 0.5)"
   ]
  },
  {
   "cell_type": "markdown",
   "metadata": {},
   "source": [
    "<hr>"
   ]
  },
  {
   "cell_type": "markdown",
   "metadata": {},
   "source": [
    "## Dataset Splitting (Train until week 3 / Val. week 2/ Test week 1)\n",
    "All my experiments will use weeks 13 to 3 as a train set, week 2 as our validation set and week 1 as a test set."
   ]
  },
  {
   "cell_type": "code",
   "execution_count": 21,
   "metadata": {},
   "outputs": [],
   "source": [
    "train = shifting.loc[shifting.group_backwards >= 3]\n",
    "val = shifting.loc[shifting.group_backwards == 2]\n",
    "test = shifting.loc[shifting.group_backwards == 1]\n",
    "\n",
    "weights = infos.set_index('itemID')['simulationPrice'].to_dict()\n",
    "\n",
    "w_train = train['itemID'].map(weights)\n",
    "w_val = val['itemID'].map(weights)"
   ]
  },
  {
   "cell_type": "code",
   "execution_count": 22,
   "metadata": {},
   "outputs": [
    {
     "data": {
      "text/plain": [
       "0     3.43\n",
       "1     9.15\n",
       "2    14.04\n",
       "3    14.10\n",
       "4     7.48\n",
       "Name: itemID, dtype: float64"
      ]
     },
     "execution_count": 22,
     "metadata": {},
     "output_type": "execute_result"
    }
   ],
   "source": [
    "w_train.head()"
   ]
  },
  {
   "cell_type": "code",
   "execution_count": 23,
   "metadata": {},
   "outputs": [],
   "source": [
    "# I recommend to the other members of the team keeping the\n",
    "# datatypes of our datasets as Pandas DataFrames instead of Numpy,\n",
    "# since It will easier to use Boosting Analysis frameworks\n",
    "y_train = train['orderSum']\n",
    "y_val = val['orderSum']\n",
    "X_train = train.drop(columns=[\"orderSum\"])\n",
    "X_val = val.drop(columns=[\"orderSum\"])"
   ]
  },
  {
   "cell_type": "code",
   "execution_count": 24,
   "metadata": {},
   "outputs": [
    {
     "data": {
      "text/plain": [
       "115093    0.0\n",
       "115094    0.0\n",
       "115095    1.0\n",
       "115096    0.0\n",
       "115097    2.0\n",
       "Name: orderSum, dtype: float64"
      ]
     },
     "execution_count": 24,
     "metadata": {},
     "output_type": "execute_result"
    }
   ],
   "source": [
    "y_val.head()"
   ]
  },
  {
   "cell_type": "code",
   "execution_count": 25,
   "metadata": {},
   "outputs": [
    {
     "data": {
      "text/html": [
       "<div>\n",
       "<style scoped>\n",
       "    .dataframe tbody tr th:only-of-type {\n",
       "        vertical-align: middle;\n",
       "    }\n",
       "\n",
       "    .dataframe tbody tr th {\n",
       "        vertical-align: top;\n",
       "    }\n",
       "\n",
       "    .dataframe thead th {\n",
       "        text-align: right;\n",
       "    }\n",
       "</style>\n",
       "<table border=\"1\" class=\"dataframe\">\n",
       "  <thead>\n",
       "    <tr style=\"text-align: right;\">\n",
       "      <th></th>\n",
       "      <th>group_backwards</th>\n",
       "      <th>itemID</th>\n",
       "      <th>brand</th>\n",
       "      <th>manufacturer</th>\n",
       "      <th>customerRating</th>\n",
       "      <th>category1</th>\n",
       "      <th>category2</th>\n",
       "      <th>category3</th>\n",
       "      <th>recommendedRetailPrice</th>\n",
       "      <th>percentage_accum_cat_3</th>\n",
       "      <th>...</th>\n",
       "      <th>orderSum_diff_1</th>\n",
       "      <th>orderSum_2</th>\n",
       "      <th>orderSum_diff_2</th>\n",
       "      <th>orderSum_3</th>\n",
       "      <th>orderSum_diff_3</th>\n",
       "      <th>orderSum_4</th>\n",
       "      <th>orderSum_diff_4</th>\n",
       "      <th>orderSum_mean_rolled_0</th>\n",
       "      <th>orderSum_mean_rolled_1</th>\n",
       "      <th>orderSum_mean_rolled_2</th>\n",
       "    </tr>\n",
       "  </thead>\n",
       "  <tbody>\n",
       "    <tr>\n",
       "      <th>115093</th>\n",
       "      <td>2</td>\n",
       "      <td>1</td>\n",
       "      <td>0</td>\n",
       "      <td>1</td>\n",
       "      <td>4.38</td>\n",
       "      <td>1</td>\n",
       "      <td>1</td>\n",
       "      <td>1</td>\n",
       "      <td>8.84</td>\n",
       "      <td>0.369181</td>\n",
       "      <td>...</td>\n",
       "      <td>28.0</td>\n",
       "      <td>3.0</td>\n",
       "      <td>-296.0</td>\n",
       "      <td>299.0</td>\n",
       "      <td>297.0</td>\n",
       "      <td>2.0</td>\n",
       "      <td>1.0</td>\n",
       "      <td>31.0</td>\n",
       "      <td>17.0</td>\n",
       "      <td>83.75</td>\n",
       "    </tr>\n",
       "    <tr>\n",
       "      <th>115094</th>\n",
       "      <td>2</td>\n",
       "      <td>2</td>\n",
       "      <td>0</td>\n",
       "      <td>2</td>\n",
       "      <td>3.00</td>\n",
       "      <td>1</td>\n",
       "      <td>2</td>\n",
       "      <td>1</td>\n",
       "      <td>16.92</td>\n",
       "      <td>0.002675</td>\n",
       "      <td>...</td>\n",
       "      <td>3.0</td>\n",
       "      <td>0.0</td>\n",
       "      <td>0.0</td>\n",
       "      <td>0.0</td>\n",
       "      <td>0.0</td>\n",
       "      <td>0.0</td>\n",
       "      <td>0.0</td>\n",
       "      <td>3.0</td>\n",
       "      <td>1.5</td>\n",
       "      <td>0.75</td>\n",
       "    </tr>\n",
       "    <tr>\n",
       "      <th>115095</th>\n",
       "      <td>2</td>\n",
       "      <td>3</td>\n",
       "      <td>0</td>\n",
       "      <td>3</td>\n",
       "      <td>5.00</td>\n",
       "      <td>1</td>\n",
       "      <td>3</td>\n",
       "      <td>1</td>\n",
       "      <td>15.89</td>\n",
       "      <td>0.101659</td>\n",
       "      <td>...</td>\n",
       "      <td>-3.0</td>\n",
       "      <td>3.0</td>\n",
       "      <td>3.0</td>\n",
       "      <td>0.0</td>\n",
       "      <td>0.0</td>\n",
       "      <td>0.0</td>\n",
       "      <td>0.0</td>\n",
       "      <td>0.0</td>\n",
       "      <td>1.5</td>\n",
       "      <td>0.75</td>\n",
       "    </tr>\n",
       "    <tr>\n",
       "      <th>115096</th>\n",
       "      <td>2</td>\n",
       "      <td>4</td>\n",
       "      <td>0</td>\n",
       "      <td>2</td>\n",
       "      <td>4.44</td>\n",
       "      <td>1</td>\n",
       "      <td>2</td>\n",
       "      <td>1</td>\n",
       "      <td>40.17</td>\n",
       "      <td>0.028357</td>\n",
       "      <td>...</td>\n",
       "      <td>4.0</td>\n",
       "      <td>1.0</td>\n",
       "      <td>-42.0</td>\n",
       "      <td>43.0</td>\n",
       "      <td>41.0</td>\n",
       "      <td>2.0</td>\n",
       "      <td>2.0</td>\n",
       "      <td>5.0</td>\n",
       "      <td>3.0</td>\n",
       "      <td>12.75</td>\n",
       "    </tr>\n",
       "    <tr>\n",
       "      <th>115097</th>\n",
       "      <td>2</td>\n",
       "      <td>5</td>\n",
       "      <td>0</td>\n",
       "      <td>2</td>\n",
       "      <td>2.33</td>\n",
       "      <td>1</td>\n",
       "      <td>1</td>\n",
       "      <td>1</td>\n",
       "      <td>17.04</td>\n",
       "      <td>0.094703</td>\n",
       "      <td>...</td>\n",
       "      <td>-36.0</td>\n",
       "      <td>39.0</td>\n",
       "      <td>35.0</td>\n",
       "      <td>4.0</td>\n",
       "      <td>-123.0</td>\n",
       "      <td>127.0</td>\n",
       "      <td>127.0</td>\n",
       "      <td>3.0</td>\n",
       "      <td>21.0</td>\n",
       "      <td>43.25</td>\n",
       "    </tr>\n",
       "  </tbody>\n",
       "</table>\n",
       "<p>5 rows × 23 columns</p>\n",
       "</div>"
      ],
      "text/plain": [
       "        group_backwards  itemID  brand  manufacturer  customerRating  \\\n",
       "115093                2       1      0             1            4.38   \n",
       "115094                2       2      0             2            3.00   \n",
       "115095                2       3      0             3            5.00   \n",
       "115096                2       4      0             2            4.44   \n",
       "115097                2       5      0             2            2.33   \n",
       "\n",
       "        category1  category2  category3  recommendedRetailPrice  \\\n",
       "115093          1          1          1                    8.84   \n",
       "115094          1          2          1                   16.92   \n",
       "115095          1          3          1                   15.89   \n",
       "115096          1          2          1                   40.17   \n",
       "115097          1          1          1                   17.04   \n",
       "\n",
       "        percentage_accum_cat_3  ...  orderSum_diff_1  orderSum_2  \\\n",
       "115093                0.369181  ...             28.0         3.0   \n",
       "115094                0.002675  ...              3.0         0.0   \n",
       "115095                0.101659  ...             -3.0         3.0   \n",
       "115096                0.028357  ...              4.0         1.0   \n",
       "115097                0.094703  ...            -36.0        39.0   \n",
       "\n",
       "        orderSum_diff_2  orderSum_3  orderSum_diff_3  orderSum_4  \\\n",
       "115093           -296.0       299.0            297.0         2.0   \n",
       "115094              0.0         0.0              0.0         0.0   \n",
       "115095              3.0         0.0              0.0         0.0   \n",
       "115096            -42.0        43.0             41.0         2.0   \n",
       "115097             35.0         4.0           -123.0       127.0   \n",
       "\n",
       "        orderSum_diff_4  orderSum_mean_rolled_0  orderSum_mean_rolled_1  \\\n",
       "115093              1.0                    31.0                    17.0   \n",
       "115094              0.0                     3.0                     1.5   \n",
       "115095              0.0                     0.0                     1.5   \n",
       "115096              2.0                     5.0                     3.0   \n",
       "115097            127.0                     3.0                    21.0   \n",
       "\n",
       "        orderSum_mean_rolled_2  \n",
       "115093                   83.75  \n",
       "115094                    0.75  \n",
       "115095                    0.75  \n",
       "115096                   12.75  \n",
       "115097                   43.25  \n",
       "\n",
       "[5 rows x 23 columns]"
      ]
     },
     "execution_count": 25,
     "metadata": {},
     "output_type": "execute_result"
    }
   ],
   "source": [
    "X_val.head()"
   ]
  },
  {
   "cell_type": "code",
   "execution_count": 26,
   "metadata": {},
   "outputs": [
    {
     "name": "stdout",
     "output_type": "stream",
     "text": [
      "Training until validation scores don't improve for 5 rounds\n",
      "[5]\ttraining's rmse: 39.9271\ttraining's feval: 73304.1\tvalid_1's rmse: 44.9012\tvalid_1's feval: 14943.3\n",
      "[10]\ttraining's rmse: 39.9159\ttraining's feval: 147112\tvalid_1's rmse: 44.884\tvalid_1's feval: 25599.5\n",
      "[15]\ttraining's rmse: 39.8983\ttraining's feval: 254284\tvalid_1's rmse: 44.8611\tvalid_1's feval: 45427.1\n",
      "[20]\ttraining's rmse: 39.8859\ttraining's feval: 350212\tvalid_1's rmse: 44.8481\tvalid_1's feval: 58560.5\n",
      "[25]\ttraining's rmse: 39.8759\ttraining's feval: 408437\tvalid_1's rmse: 44.836\tvalid_1's feval: 69395.5\n",
      "[30]\ttraining's rmse: 39.8711\ttraining's feval: 429720\tvalid_1's rmse: 44.8281\tvalid_1's feval: 72359.6\n",
      "[35]\ttraining's rmse: 39.8663\ttraining's feval: 454300\tvalid_1's rmse: 44.8238\tvalid_1's feval: 77421.1\n",
      "[40]\ttraining's rmse: 39.8629\ttraining's feval: 480205\tvalid_1's rmse: 44.8202\tvalid_1's feval: 79878.7\n",
      "[45]\ttraining's rmse: 39.8611\ttraining's feval: 493234\tvalid_1's rmse: 44.8178\tvalid_1's feval: 82474.9\n",
      "[50]\ttraining's rmse: 39.8586\ttraining's feval: 503164\tvalid_1's rmse: 44.8148\tvalid_1's feval: 81887\n",
      "Early stopping, best iteration is:\n",
      "[48]\ttraining's rmse: 39.8595\ttraining's feval: 500044\tvalid_1's rmse: 44.8158\tvalid_1's feval: 83974.2\n"
     ]
    }
   ],
   "source": [
    "params = {\n",
    "              \"objective\" : \"l1\",\n",
    "              \"metric\" :\"rmse\",\n",
    "              \"learning_rate\" : 0.1,\n",
    "              'verbosity': 1,\n",
    "              'max_depth': 6,\n",
    "              'num_leaves': 15,\n",
    "              \"min_data_in_leaf\": 2000,\n",
    "         }\n",
    "\n",
    "lgbtrain = lgb.Dataset(X_train, label = y_train, weight=w_train)\n",
    "lgbvalid = lgb.Dataset(X_val, label = y_val, weight=w_val)\n",
    "\n",
    "num_round = 1000\n",
    "\n",
    "model = lgb.train(\n",
    "                    params,\n",
    "                    lgbtrain,\n",
    "                    num_round,\n",
    "                    valid_sets = [lgbtrain, lgbvalid], \n",
    "                    verbose_eval=5,\n",
    "                    early_stopping_rounds=5,\n",
    "                    feval=feval,   \n",
    "                 )"
   ]
  },
  {
   "cell_type": "markdown",
   "metadata": {},
   "source": [
    "<hr>"
   ]
  },
  {
   "cell_type": "markdown",
   "metadata": {},
   "source": [
    "<hr>"
   ]
  },
  {
   "cell_type": "markdown",
   "metadata": {},
   "source": [
    "### Utilities"
   ]
  },
  {
   "cell_type": "markdown",
   "metadata": {},
   "source": [
    "**Predicting at test time**"
   ]
  },
  {
   "cell_type": "code",
   "execution_count": 27,
   "metadata": {},
   "outputs": [],
   "source": [
    "y_test = test['orderSum']\n",
    "X_test = test.drop(columns=[\"orderSum\"])\n",
    "final_predictions = model.predict(X_test)"
   ]
  },
  {
   "cell_type": "code",
   "execution_count": 28,
   "metadata": {},
   "outputs": [
    {
     "data": {
      "text/plain": [
       "array([1.81794004, 0.        , 0.        , ..., 0.        , 0.        ,\n",
       "       0.        ])"
      ]
     },
     "execution_count": 28,
     "metadata": {},
     "output_type": "execute_result"
    }
   ],
   "source": [
    "final_predictions"
   ]
  },
  {
   "cell_type": "code",
   "execution_count": 29,
   "metadata": {},
   "outputs": [],
   "source": [
    "final_predictions[final_predictions < 0] = 0"
   ]
  },
  {
   "cell_type": "markdown",
   "metadata": {},
   "source": [
    "**Baseline calculation**"
   ]
  },
  {
   "cell_type": "code",
   "execution_count": 30,
   "metadata": {},
   "outputs": [
    {
     "data": {
      "text/plain": [
       "81616.33600000001"
      ]
     },
     "execution_count": 30,
     "metadata": {},
     "output_type": "execute_result"
    }
   ],
   "source": [
    "baseline_score(final_predictions, y_test.values, infos['simulationPrice'])"
   ]
  },
  {
   "cell_type": "markdown",
   "metadata": {},
   "source": [
    "**Creating our Kaggle CSV**"
   ]
  },
  {
   "cell_type": "code",
   "execution_count": 31,
   "metadata": {},
   "outputs": [],
   "source": [
    "final = pd.Series(0, index=np.arange(1, len(items)+1))\n",
    "final[items.itemID] = final_predictions.astype(int)\n",
    "\n",
    "final.to_csv(\"lgbm_kaggle_df.csv\", header=[\"demandPrediction\"],\n",
    "            index_label=\"itemID\", sep=\"|\")"
   ]
  },
  {
   "cell_type": "markdown",
   "metadata": {},
   "source": [
    "**Saving our model in disk**"
   ]
  },
  {
   "cell_type": "code",
   "execution_count": 32,
   "metadata": {},
   "outputs": [
    {
     "name": "stdout",
     "output_type": "stream",
     "text": [
      "['Booster', 'DMatrix', 'VERSION_FILE', 'XGBClassifier', 'XGBModel', 'XGBRFClassifier', 'XGBRFRegressor', 'XGBRanker', 'XGBRegressor', '__all__', '__builtins__', '__cached__', '__doc__', '__file__', '__loader__', '__name__', '__package__', '__path__', '__spec__', '__version__', 'absolute_import', 'callback', 'compat', 'core', 'cv', 'f', 'libpath', 'os', 'plot_importance', 'plot_tree', 'plotting', 'rabit', 'sklearn', 'to_graphviz', 'train', 'training']\n"
     ]
    }
   ],
   "source": [
    "print(dir(xgb))"
   ]
  },
  {
   "cell_type": "code",
   "execution_count": 33,
   "metadata": {},
   "outputs": [
    {
     "ename": "AttributeError",
     "evalue": "module 'xgboost' has no attribute 'save_model'",
     "output_type": "error",
     "traceback": [
      "\u001b[0;31m---------------------------------------------------------------------------\u001b[0m",
      "\u001b[0;31mAttributeError\u001b[0m                            Traceback (most recent call last)",
      "\u001b[0;32m<ipython-input-33-b1057f0d47a8>\u001b[0m in \u001b[0;36m<module>\u001b[0;34m\u001b[0m\n\u001b[1;32m      1\u001b[0m \u001b[0mnow\u001b[0m \u001b[0;34m=\u001b[0m \u001b[0mdatetime\u001b[0m\u001b[0;34m.\u001b[0m\u001b[0mnow\u001b[0m\u001b[0;34m(\u001b[0m\u001b[0;34m)\u001b[0m\u001b[0;34m.\u001b[0m\u001b[0mstrftime\u001b[0m\u001b[0;34m(\u001b[0m\u001b[0;34m\"%d-%m-%Y-%Hh%Mm%Ss\"\u001b[0m\u001b[0;34m)\u001b[0m\u001b[0;34m\u001b[0m\u001b[0;34m\u001b[0m\u001b[0m\n\u001b[1;32m      2\u001b[0m \u001b[0mmodelName\u001b[0m \u001b[0;34m=\u001b[0m \u001b[0;34m'lgbm-'\u001b[0m \u001b[0;34m+\u001b[0m \u001b[0mnow\u001b[0m\u001b[0;34m\u001b[0m\u001b[0;34m\u001b[0m\u001b[0m\n\u001b[0;32m----> 3\u001b[0;31m \u001b[0mxgb\u001b[0m\u001b[0;34m.\u001b[0m\u001b[0msave_model\u001b[0m\u001b[0;34m(\u001b[0m\u001b[0mmodelName\u001b[0m\u001b[0;34m)\u001b[0m\u001b[0;34m\u001b[0m\u001b[0;34m\u001b[0m\u001b[0m\n\u001b[0m",
      "\u001b[0;31mAttributeError\u001b[0m: module 'xgboost' has no attribute 'save_model'"
     ]
    }
   ],
   "source": [
    "now = datetime.now().strftime(\"%d-%m-%Y-%Hh%Mm%Ss\")\n",
    "modelName = 'lgbm-' + now\n",
    "xgb.save_model(modelName)"
   ]
  },
  {
   "cell_type": "code",
   "execution_count": null,
   "metadata": {},
   "outputs": [],
   "source": []
  }
 ],
 "metadata": {
  "kernelspec": {
   "display_name": "Python 3.7.7 64-bit ('data': conda)",
   "language": "python",
   "name": "python37764bitdatacondabf585c018b5249eab9a45340f1041dee"
  },
  "language_info": {
   "codemirror_mode": {
    "name": "ipython",
    "version": 3
   },
   "file_extension": ".py",
   "mimetype": "text/x-python",
   "name": "python",
   "nbconvert_exporter": "python",
   "pygments_lexer": "ipython3",
   "version": "3.7.7"
  }
 },
 "nbformat": 4,
 "nbformat_minor": 4
}
