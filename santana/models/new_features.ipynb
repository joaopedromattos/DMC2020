{
 "cells": [
  {
   "cell_type": "code",
   "execution_count": 12,
   "metadata": {},
   "outputs": [],
   "source": [
    "import matplotlib.pyplot as plt\n",
    "import numpy as np\n",
    "import pandas as pd"
   ]
  },
  {
   "cell_type": "code",
   "execution_count": 13,
   "metadata": {},
   "outputs": [],
   "source": [
    "infos = pd.read_csv('./data/infos.csv', sep = '|')"
   ]
  },
  {
   "cell_type": "code",
   "execution_count": 14,
   "metadata": {},
   "outputs": [],
   "source": [
    "items = pd.read_csv('./data/items.csv', sep = '|')"
   ]
  },
  {
   "cell_type": "code",
   "execution_count": 15,
   "metadata": {},
   "outputs": [],
   "source": [
    "orders = pd.read_csv('./data/orders.csv', sep = '|', parse_dates=['time'])"
   ]
  },
  {
   "cell_type": "markdown",
   "metadata": {},
   "source": [
    "## - Creating the structure"
   ]
  },
  {
   "cell_type": "code",
   "execution_count": 16,
   "metadata": {},
   "outputs": [],
   "source": [
    "df = orders.copy()"
   ]
  },
  {
   "cell_type": "code",
   "execution_count": 17,
   "metadata": {},
   "outputs": [],
   "source": [
    "df['weekpair'] = (df.time.dt.dayofyear + 1) // 14 - 13"
   ]
  },
  {
   "cell_type": "code",
   "execution_count": 18,
   "metadata": {},
   "outputs": [
    {
     "data": {
      "text/html": [
       "<div>\n",
       "<style scoped>\n",
       "    .dataframe tbody tr th:only-of-type {\n",
       "        vertical-align: middle;\n",
       "    }\n",
       "\n",
       "    .dataframe tbody tr th {\n",
       "        vertical-align: top;\n",
       "    }\n",
       "\n",
       "    .dataframe thead th {\n",
       "        text-align: right;\n",
       "    }\n",
       "</style>\n",
       "<table border=\"1\" class=\"dataframe\">\n",
       "  <thead>\n",
       "    <tr style=\"text-align: right;\">\n",
       "      <th></th>\n",
       "      <th>time</th>\n",
       "      <th>transactID</th>\n",
       "      <th>itemID</th>\n",
       "      <th>order</th>\n",
       "      <th>salesPrice</th>\n",
       "      <th>weekpair</th>\n",
       "    </tr>\n",
       "  </thead>\n",
       "  <tbody>\n",
       "    <tr>\n",
       "      <th>0</th>\n",
       "      <td>2018-01-01 00:01:56</td>\n",
       "      <td>2278968</td>\n",
       "      <td>450</td>\n",
       "      <td>1</td>\n",
       "      <td>17.42</td>\n",
       "      <td>-13</td>\n",
       "    </tr>\n",
       "    <tr>\n",
       "      <th>1</th>\n",
       "      <td>2018-01-01 00:01:56</td>\n",
       "      <td>2278968</td>\n",
       "      <td>83</td>\n",
       "      <td>1</td>\n",
       "      <td>5.19</td>\n",
       "      <td>-13</td>\n",
       "    </tr>\n",
       "    <tr>\n",
       "      <th>2</th>\n",
       "      <td>2018-01-01 00:07:11</td>\n",
       "      <td>2255797</td>\n",
       "      <td>7851</td>\n",
       "      <td>2</td>\n",
       "      <td>20.47</td>\n",
       "      <td>-13</td>\n",
       "    </tr>\n",
       "    <tr>\n",
       "      <th>3</th>\n",
       "      <td>2018-01-01 00:09:24</td>\n",
       "      <td>2278968</td>\n",
       "      <td>450</td>\n",
       "      <td>1</td>\n",
       "      <td>17.42</td>\n",
       "      <td>-13</td>\n",
       "    </tr>\n",
       "    <tr>\n",
       "      <th>4</th>\n",
       "      <td>2018-01-01 00:09:24</td>\n",
       "      <td>2278968</td>\n",
       "      <td>83</td>\n",
       "      <td>1</td>\n",
       "      <td>5.19</td>\n",
       "      <td>-13</td>\n",
       "    </tr>\n",
       "  </tbody>\n",
       "</table>\n",
       "</div>"
      ],
      "text/plain": [
       "                 time  transactID  itemID  order  salesPrice  weekpair\n",
       "0 2018-01-01 00:01:56     2278968     450      1       17.42       -13\n",
       "1 2018-01-01 00:01:56     2278968      83      1        5.19       -13\n",
       "2 2018-01-01 00:07:11     2255797    7851      2       20.47       -13\n",
       "3 2018-01-01 00:09:24     2278968     450      1       17.42       -13\n",
       "4 2018-01-01 00:09:24     2278968      83      1        5.19       -13"
      ]
     },
     "execution_count": 18,
     "metadata": {},
     "output_type": "execute_result"
    }
   ],
   "source": [
    "df.head()"
   ]
  },
  {
   "cell_type": "code",
   "execution_count": 19,
   "metadata": {},
   "outputs": [],
   "source": [
    "npairs = df.weekpair.nunique()"
   ]
  },
  {
   "cell_type": "code",
   "execution_count": 21,
   "metadata": {},
   "outputs": [
    {
     "name": "stdout",
     "output_type": "stream",
     "text": [
      "total number of items: 10463\n",
      "expected number of instances: 136019\n"
     ]
    }
   ],
   "source": [
    "n_items = items['itemID'].nunique()\n",
    "print('total number of items:', n_items)\n",
    "print('expected number of instances:', n_items * npairs)"
   ]
  },
  {
   "cell_type": "code",
   "execution_count": 10,
   "metadata": {},
   "outputs": [],
   "source": [
    "mi = pd.MultiIndex.from_product([range(-npairs, 0), items['itemID']], names=['weekpair', 'itemID'])\n",
    "data_temp = pd.DataFrame(index = mi)"
   ]
  },
  {
   "cell_type": "code",
   "execution_count": 11,
   "metadata": {},
   "outputs": [],
   "source": [
    "data_temp = data_temp.join(df.groupby(['weekpair', 'itemID'])[['order']].sum(), how = 'left')"
   ]
  },
  {
   "cell_type": "code",
   "execution_count": 12,
   "metadata": {},
   "outputs": [],
   "source": [
    "data_temp.fillna(0, inplace = True)"
   ]
  },
  {
   "cell_type": "code",
   "execution_count": 13,
   "metadata": {},
   "outputs": [
    {
     "data": {
      "text/plain": [
       "order    13\n",
       "dtype: int64"
      ]
     },
     "execution_count": 13,
     "metadata": {},
     "output_type": "execute_result"
    }
   ],
   "source": [
    "data_temp.groupby('itemID').count().min()"
   ]
  },
  {
   "cell_type": "code",
   "execution_count": 14,
   "metadata": {},
   "outputs": [],
   "source": [
    "# data_temp"
   ]
  },
  {
   "cell_type": "markdown",
   "metadata": {},
   "source": [
    "## - Creating features"
   ]
  },
  {
   "cell_type": "code",
   "execution_count": 544,
   "metadata": {},
   "outputs": [],
   "source": [
    "data = data_temp.reset_index()"
   ]
  },
  {
   "cell_type": "code",
   "execution_count": 545,
   "metadata": {},
   "outputs": [
    {
     "data": {
      "text/html": [
       "<div>\n",
       "<style scoped>\n",
       "    .dataframe tbody tr th:only-of-type {\n",
       "        vertical-align: middle;\n",
       "    }\n",
       "\n",
       "    .dataframe tbody tr th {\n",
       "        vertical-align: top;\n",
       "    }\n",
       "\n",
       "    .dataframe thead th {\n",
       "        text-align: right;\n",
       "    }\n",
       "</style>\n",
       "<table border=\"1\" class=\"dataframe\">\n",
       "  <thead>\n",
       "    <tr style=\"text-align: right;\">\n",
       "      <th></th>\n",
       "      <th>itemID</th>\n",
       "      <th>brand</th>\n",
       "      <th>manufacturer</th>\n",
       "      <th>customerRating</th>\n",
       "      <th>category1</th>\n",
       "      <th>category2</th>\n",
       "      <th>category3</th>\n",
       "      <th>recommendedRetailPrice</th>\n",
       "    </tr>\n",
       "  </thead>\n",
       "  <tbody>\n",
       "    <tr>\n",
       "      <th>0</th>\n",
       "      <td>1</td>\n",
       "      <td>0</td>\n",
       "      <td>1</td>\n",
       "      <td>4.38</td>\n",
       "      <td>1</td>\n",
       "      <td>1</td>\n",
       "      <td>1</td>\n",
       "      <td>8.84</td>\n",
       "    </tr>\n",
       "    <tr>\n",
       "      <th>1</th>\n",
       "      <td>2</td>\n",
       "      <td>0</td>\n",
       "      <td>2</td>\n",
       "      <td>3.00</td>\n",
       "      <td>1</td>\n",
       "      <td>2</td>\n",
       "      <td>1</td>\n",
       "      <td>16.92</td>\n",
       "    </tr>\n",
       "  </tbody>\n",
       "</table>\n",
       "</div>"
      ],
      "text/plain": [
       "   itemID  brand  manufacturer  customerRating  category1  category2  \\\n",
       "0       1      0             1            4.38          1          1   \n",
       "1       2      0             2            3.00          1          2   \n",
       "\n",
       "   category3  recommendedRetailPrice  \n",
       "0          1                    8.84  \n",
       "1          1                   16.92  "
      ]
     },
     "execution_count": 545,
     "metadata": {},
     "output_type": "execute_result"
    }
   ],
   "source": [
    "items.head(2)"
   ]
  },
  {
   "cell_type": "code",
   "execution_count": 546,
   "metadata": {},
   "outputs": [],
   "source": [
    "# data = pd.merge(data, items[['itemID', 'manufacturer', 'category1', 'category2', 'category3']], on = 'itemID')\n",
    "data = pd.merge(data, items, on = 'itemID')"
   ]
  },
  {
   "cell_type": "code",
   "execution_count": null,
   "metadata": {},
   "outputs": [],
   "source": []
  },
  {
   "cell_type": "code",
   "execution_count": 547,
   "metadata": {},
   "outputs": [],
   "source": [
    "# features = [\n",
    "#     ('itemID', 'item'),\n",
    "#     ('manufacturer', 'manuf'),\n",
    "#     ('category1', 'cat1'),\n",
    "#     ('category2', 'cat2'),\n",
    "#     ('category3', 'cat3')\n",
    "# ]\n",
    "# for f, n in features:\n",
    "#     if f not in data.columns:\n",
    "#         print('ops', f)"
   ]
  },
  {
   "cell_type": "code",
   "execution_count": 548,
   "metadata": {},
   "outputs": [],
   "source": [
    "# features = [('itemID', 'item')]"
   ]
  },
  {
   "cell_type": "code",
   "execution_count": 549,
   "metadata": {},
   "outputs": [],
   "source": [
    "# # f, name = ('manufacturer', 'manuf')\n",
    "# for f, name in features:\n",
    "#     print(f)\n",
    "#     temp = data.groupby([f, 'weekpair'])[['order']].sum()\n",
    "#     shifted = temp.groupby(f)[['order']].shift(1)\n",
    "#     new_feature_block = pd.DataFrame()\n",
    "#     for n in range(3):\n",
    "#         rolled = shifted.groupby(f, as_index = False)['order'].rolling(2 ** n).mean()\n",
    "#         new_feature_block['%s_%d' % (name, 2 ** n)] = rolled.reset_index(0, drop = True) # rolling has a weird index behavior...\n",
    "#     data = pd.merge(data, new_feature_block.reset_index(), on = [f, 'weekpair'])"
   ]
  },
  {
   "cell_type": "code",
   "execution_count": 550,
   "metadata": {},
   "outputs": [],
   "source": [
    "def gbagg(data, group_cols, targeted_cols, out_names, function, as_index = False):\n",
    "  \n",
    "    X = data.values\n",
    "    col = {c : i for i, c in enumerate(data.columns)}\n",
    "\n",
    "    # values that are going to calculated\n",
    "    new_feat = []\n",
    "    \n",
    "    # numbers of the columns\n",
    "    gcols = [col[c] for c in group_cols]\n",
    "    tcols = [col[c] for c in targeted_cols]\n",
    "    \n",
    "    interval = None\n",
    "    a = None\n",
    "    i = 0\n",
    "    while i < len(X):\n",
    "        a = X[i, gcols]\n",
    "\n",
    "        # find the whole interval of this group\n",
    "        j = i\n",
    "        while j < len(X):\n",
    "            if (X[j, gcols] != a).any():\n",
    "                break\n",
    "            j += 1\n",
    "        interval = X[i:j, tcols]\n",
    "\n",
    "        # apply function on interval, save in new feature\n",
    "        output = function(interval)\n",
    "        new_feat.append(output)\n",
    "\n",
    "        # go to next group\n",
    "        i = j\n",
    "    \n",
    "    idx = data.groupby(group_cols).size().index # this is actually fast...\n",
    "    out_df = pd.DataFrame(new_feat, columns = out_names, index = idx)\n",
    "        \n",
    "    if not as_index:\n",
    "        out_df.reset_index(inplace = True)\n",
    "        \n",
    "    return out_df"
   ]
  },
  {
   "cell_type": "code",
   "execution_count": 551,
   "metadata": {},
   "outputs": [],
   "source": [
    "def gbtransf(data, group_cols, targeted_cols, out_names, function, params = dict()):\n",
    "  \n",
    "    X = data.values\n",
    "    col = {c : i for i, c in enumerate(data.columns)}\n",
    "\n",
    "    # values that are going to calculated\n",
    "    new_feat = np.zeros((len(data), len(out_names)))\n",
    "    \n",
    "    # numbers of the columns\n",
    "    gcols = [col[c] for c in group_cols]\n",
    "    tcols = [col[c] for c in targeted_cols]\n",
    "    \n",
    "    interval = None\n",
    "    a = None\n",
    "    i = 0\n",
    "    while i < len(X):\n",
    "        a = X[i, gcols]\n",
    "\n",
    "        # find the whole interval of this group\n",
    "        j = i\n",
    "        while j < len(X):\n",
    "            if (X[j, gcols] != a).any():\n",
    "                break\n",
    "            j += 1\n",
    "        interval = X[i:j, tcols]\n",
    "\n",
    "        # apply function on interval, save in new feature\n",
    "        output = function(interval, **params)\n",
    "        new_feat[i:j] = output\n",
    "\n",
    "        # go to next group\n",
    "        i = j\n",
    "    \n",
    "    out_df = pd.DataFrame(new_feat, columns = out_names, index = data.index)\n",
    "        \n",
    "    return out_df"
   ]
  },
  {
   "cell_type": "code",
   "execution_count": 552,
   "metadata": {},
   "outputs": [],
   "source": [
    "def shift_and_2n_window(x, ws):\n",
    "#     out = pd.DataFrame(x)\n",
    "#     out = out.shift()\n",
    "#     out = out.rolling(2 ** n).mean()\n",
    "\n",
    "    shifted = np.zeros_like(x) # output\n",
    "    shifted[1:] = x[:-1] # shift\n",
    "    out = np.zeros_like(x, dtype = float)\n",
    "    \n",
    "    # rolling mean\n",
    "    total = shifted[:ws].sum()\n",
    "    out[ws - 1] = total / ws\n",
    "    for i in range(ws, len(out)):\n",
    "        total = total - shifted[i - ws] + shifted[i]\n",
    "        out[i] = total / ws\n",
    "    out[:ws] = np.NaN # maybe ws -1 should be NaN as well for receiving one NaN value when ws > 1\n",
    "    # out[0] = np.NaN # this is always NaN for a shift of 1\n",
    "    return out"
   ]
  },
  {
   "cell_type": "code",
   "execution_count": 553,
   "metadata": {},
   "outputs": [],
   "source": [
    "data.sort_values(['itemID', 'weekpair'], inplace = True)"
   ]
  },
  {
   "cell_type": "code",
   "execution_count": 554,
   "metadata": {},
   "outputs": [],
   "source": [
    "# gbtransf(data, ['itemID', 'weekpair'], ['order'], ['out'], lambda x : np.ones_like(x))"
   ]
  },
  {
   "cell_type": "code",
   "execution_count": 555,
   "metadata": {},
   "outputs": [
    {
     "data": {
      "text/plain": [
       "array([nan, nan, 1.5, 2.5, 3.5, 4.5])"
      ]
     },
     "execution_count": 555,
     "metadata": {},
     "output_type": "execute_result"
    }
   ],
   "source": [
    "shift_and_2n_window(np.array([1 , 2, 3, 4, 5, 6]), 2 ** 1)"
   ]
  },
  {
   "cell_type": "code",
   "execution_count": 556,
   "metadata": {},
   "outputs": [],
   "source": [
    "features = [('itemID', 'item')]"
   ]
  },
  {
   "cell_type": "code",
   "execution_count": 557,
   "metadata": {
    "scrolled": true
   },
   "outputs": [
    {
     "name": "stdout",
     "output_type": "stream",
     "text": [
      "itemID\n"
     ]
    }
   ],
   "source": [
    "for f, name in features:\n",
    "    print(f)\n",
    "    new_feature_block = pd.DataFrame()\n",
    "    for n in range(3):\n",
    "        new_f = gbtransf(data, ['itemID'], ['order'], ['out'], shift_and_2n_window, {'ws' : 2 ** n})\n",
    "        new_feature_block['%s_%d' % (name, 2 ** n)] = new_f['out']\n",
    "#     data = pd.merge(data, new_feature_block.reset_index(), on = [f, 'weekpair'])\n",
    "    data = pd.concat([data, new_feature_block], axis =  1)"
   ]
  },
  {
   "cell_type": "code",
   "execution_count": 558,
   "metadata": {},
   "outputs": [
    {
     "data": {
      "text/plain": [
       "weekpair                  136019\n",
       "itemID                    136019\n",
       "order                     136019\n",
       "brand                     136019\n",
       "manufacturer              136019\n",
       "customerRating            136019\n",
       "category1                 136019\n",
       "category2                 136019\n",
       "category3                 136019\n",
       "recommendedRetailPrice    136019\n",
       "item_1                    125556\n",
       "item_2                    115093\n",
       "item_4                     94167\n",
       "dtype: int64"
      ]
     },
     "execution_count": 558,
     "metadata": {},
     "output_type": "execute_result"
    }
   ],
   "source": [
    "data.count() # the larger the window, more NaN are expected"
   ]
  },
  {
   "cell_type": "code",
   "execution_count": 559,
   "metadata": {},
   "outputs": [],
   "source": [
    "def dist2firstvalue(x):\n",
    "    out = np.zeros_like(x, dtype = float)\n",
    "    first = np.NaN\n",
    "    for i in range(len(x)):\n",
    "        out[i] = first\n",
    "        if x[i] != 0:\n",
    "            first = i\n",
    "            break\n",
    "    if i == len(x) - 1:\n",
    "        return out\n",
    "    for j in range(int(first), len(x)):\n",
    "        out[j] = j - first\n",
    "        \n",
    "    return out"
   ]
  },
  {
   "cell_type": "code",
   "execution_count": 560,
   "metadata": {},
   "outputs": [
    {
     "data": {
      "text/plain": [
       "(array([nan, nan, nan, nan]), array([nan, nan,  0.,  1.,  2.,  3.]))"
      ]
     },
     "execution_count": 560,
     "metadata": {},
     "output_type": "execute_result"
    }
   ],
   "source": [
    "dist2firstvalue(np.array([0 , 0, 0, 0])), dist2firstvalue(np.array([0 , 0, 3, 0, 5, 6]))"
   ]
  },
  {
   "cell_type": "code",
   "execution_count": 561,
   "metadata": {},
   "outputs": [],
   "source": [
    "def dist2firstvalueLeak(x):\n",
    "    out = np.zeros_like(x, dtype = float)\n",
    "    for i in range(len(x)):\n",
    "        if x[i] != 0:\n",
    "            out[i] = 1\n",
    "            break\n",
    "#         else:\n",
    "#             out[i] = -9999\n",
    "        \n",
    "    return out"
   ]
  },
  {
   "cell_type": "code",
   "execution_count": 562,
   "metadata": {},
   "outputs": [
    {
     "data": {
      "text/plain": [
       "array([0., 0., 1., 0., 0., 0.])"
      ]
     },
     "execution_count": 562,
     "metadata": {},
     "output_type": "execute_result"
    }
   ],
   "source": [
    "dist2firstvalueLeak(np.array([0 , 0, 3, 0, 5, 6]))\n",
    "# dist2firstvalue(np.array([0 , 0, 0, 0]))"
   ]
  },
  {
   "cell_type": "code",
   "execution_count": 563,
   "metadata": {},
   "outputs": [],
   "source": [
    "# def dist2lastpeak(x):\n",
    "#     out = np.zeros_like(x, dtype = float)\n",
    "#     peak = np.NaN\n",
    "#     peak_val = 0\n",
    "#     for i in range(0, len(x)):\n",
    "#         out[i] = i - peak\n",
    "#         if x[i] > peak_val:\n",
    "#             peak = i\n",
    "#             peak_val = x[i]\n",
    "        \n",
    "#     return out"
   ]
  },
  {
   "cell_type": "code",
   "execution_count": 564,
   "metadata": {},
   "outputs": [],
   "source": [
    "# dist2lastpeak(np.array([0 , 0, 3, 0, 5, 6]))"
   ]
  },
  {
   "cell_type": "code",
   "execution_count": 565,
   "metadata": {},
   "outputs": [],
   "source": [
    "data.sort_values(['itemID', 'weekpair'], inplace = True)"
   ]
  },
  {
   "cell_type": "code",
   "execution_count": 566,
   "metadata": {},
   "outputs": [],
   "source": [
    "data['dist2firstvalueLeak'] = gbtransf(data, ['itemID'], ['order'], ['out'], dist2firstvalueLeak)['out']\n",
    "# data['dist2lastpeak'] = gbtransf(data, ['itemID'], ['order'], ['out'], dist2lastpeak)['out']"
   ]
  },
  {
   "cell_type": "code",
   "execution_count": 567,
   "metadata": {},
   "outputs": [
    {
     "data": {
      "text/plain": [
       "{-13: 1431.0,\n",
       " -12: 729.0,\n",
       " -11: 371.0,\n",
       " -10: 533.0,\n",
       " -9: 785.0,\n",
       " -8: 909.0,\n",
       " -7: 716.0,\n",
       " -6: 661.0,\n",
       " -5: 785.0,\n",
       " -4: 671.0,\n",
       " -3: 794.0,\n",
       " -2: 727.0,\n",
       " -1: 728.0}"
      ]
     },
     "execution_count": 567,
     "metadata": {},
     "output_type": "execute_result"
    }
   ],
   "source": [
    "data.groupby(\"weekpair\")[\"dist2firstvalueLeak\"].sum().to_dict()"
   ]
  },
  {
   "cell_type": "code",
   "execution_count": 614,
   "metadata": {
    "scrolled": true
   },
   "outputs": [],
   "source": [
    "# del data[\"leak_cat3\"]"
   ]
  },
  {
   "cell_type": "code",
   "execution_count": 569,
   "metadata": {},
   "outputs": [],
   "source": [
    "the_cat = \"manufacturer\""
   ]
  },
  {
   "cell_type": "code",
   "execution_count": 570,
   "metadata": {},
   "outputs": [],
   "source": [
    "sla = data.groupby([\"weekpair\", the_cat])[\"dist2firstvalueLeak\"].sum().reset_index()"
   ]
  },
  {
   "cell_type": "code",
   "execution_count": 571,
   "metadata": {},
   "outputs": [],
   "source": [
    "sla = sla.rename(columns={\"dist2firstvalueLeak\" : \"leak_cat3\"})"
   ]
  },
  {
   "cell_type": "code",
   "execution_count": 572,
   "metadata": {},
   "outputs": [],
   "source": [
    "# acho que mudou nada... opa, mudou sim\n",
    "data = pd.merge(data, sla, on = [\"weekpair\", the_cat])"
   ]
  },
  {
   "cell_type": "code",
   "execution_count": 573,
   "metadata": {},
   "outputs": [],
   "source": [
    "data[\"total_new\"] = data[\"weekpair\"].map(data.groupby(\"weekpair\")[\"dist2firstvalueLeak\"].sum().to_dict())"
   ]
  },
  {
   "cell_type": "code",
   "execution_count": 574,
   "metadata": {},
   "outputs": [],
   "source": [
    "data.fillna(0, inplace=True)"
   ]
  },
  {
   "cell_type": "code",
   "execution_count": 575,
   "metadata": {},
   "outputs": [
    {
     "data": {
      "text/html": [
       "<div>\n",
       "<style scoped>\n",
       "    .dataframe tbody tr th:only-of-type {\n",
       "        vertical-align: middle;\n",
       "    }\n",
       "\n",
       "    .dataframe tbody tr th {\n",
       "        vertical-align: top;\n",
       "    }\n",
       "\n",
       "    .dataframe thead th {\n",
       "        text-align: right;\n",
       "    }\n",
       "</style>\n",
       "<table border=\"1\" class=\"dataframe\">\n",
       "  <thead>\n",
       "    <tr style=\"text-align: right;\">\n",
       "      <th></th>\n",
       "      <th>weekpair</th>\n",
       "      <th>itemID</th>\n",
       "      <th>order</th>\n",
       "      <th>brand</th>\n",
       "      <th>manufacturer</th>\n",
       "      <th>customerRating</th>\n",
       "      <th>category1</th>\n",
       "      <th>category2</th>\n",
       "      <th>category3</th>\n",
       "      <th>recommendedRetailPrice</th>\n",
       "      <th>item_1</th>\n",
       "      <th>item_2</th>\n",
       "      <th>item_4</th>\n",
       "      <th>dist2firstvalueLeak</th>\n",
       "      <th>leak_cat3</th>\n",
       "      <th>total_new</th>\n",
       "    </tr>\n",
       "  </thead>\n",
       "  <tbody>\n",
       "    <tr>\n",
       "      <th>0</th>\n",
       "      <td>-13</td>\n",
       "      <td>1</td>\n",
       "      <td>0.0</td>\n",
       "      <td>0</td>\n",
       "      <td>1</td>\n",
       "      <td>4.38</td>\n",
       "      <td>1</td>\n",
       "      <td>1</td>\n",
       "      <td>1</td>\n",
       "      <td>8.84</td>\n",
       "      <td>0.0</td>\n",
       "      <td>0.0</td>\n",
       "      <td>0.00</td>\n",
       "      <td>0.0</td>\n",
       "      <td>5.0</td>\n",
       "      <td>1431.0</td>\n",
       "    </tr>\n",
       "    <tr>\n",
       "      <th>40</th>\n",
       "      <td>-12</td>\n",
       "      <td>1</td>\n",
       "      <td>2.0</td>\n",
       "      <td>0</td>\n",
       "      <td>1</td>\n",
       "      <td>4.38</td>\n",
       "      <td>1</td>\n",
       "      <td>1</td>\n",
       "      <td>1</td>\n",
       "      <td>8.84</td>\n",
       "      <td>0.0</td>\n",
       "      <td>0.0</td>\n",
       "      <td>0.00</td>\n",
       "      <td>1.0</td>\n",
       "      <td>4.0</td>\n",
       "      <td>729.0</td>\n",
       "    </tr>\n",
       "    <tr>\n",
       "      <th>80</th>\n",
       "      <td>-11</td>\n",
       "      <td>1</td>\n",
       "      <td>313.0</td>\n",
       "      <td>0</td>\n",
       "      <td>1</td>\n",
       "      <td>4.38</td>\n",
       "      <td>1</td>\n",
       "      <td>1</td>\n",
       "      <td>1</td>\n",
       "      <td>8.84</td>\n",
       "      <td>2.0</td>\n",
       "      <td>1.0</td>\n",
       "      <td>0.00</td>\n",
       "      <td>0.0</td>\n",
       "      <td>6.0</td>\n",
       "      <td>371.0</td>\n",
       "    </tr>\n",
       "    <tr>\n",
       "      <th>120</th>\n",
       "      <td>-10</td>\n",
       "      <td>1</td>\n",
       "      <td>35.0</td>\n",
       "      <td>0</td>\n",
       "      <td>1</td>\n",
       "      <td>4.38</td>\n",
       "      <td>1</td>\n",
       "      <td>1</td>\n",
       "      <td>1</td>\n",
       "      <td>8.84</td>\n",
       "      <td>313.0</td>\n",
       "      <td>157.5</td>\n",
       "      <td>0.00</td>\n",
       "      <td>0.0</td>\n",
       "      <td>3.0</td>\n",
       "      <td>533.0</td>\n",
       "    </tr>\n",
       "    <tr>\n",
       "      <th>160</th>\n",
       "      <td>-9</td>\n",
       "      <td>1</td>\n",
       "      <td>3.0</td>\n",
       "      <td>0</td>\n",
       "      <td>1</td>\n",
       "      <td>4.38</td>\n",
       "      <td>1</td>\n",
       "      <td>1</td>\n",
       "      <td>1</td>\n",
       "      <td>8.84</td>\n",
       "      <td>35.0</td>\n",
       "      <td>174.0</td>\n",
       "      <td>87.50</td>\n",
       "      <td>0.0</td>\n",
       "      <td>0.0</td>\n",
       "      <td>785.0</td>\n",
       "    </tr>\n",
       "    <tr>\n",
       "      <th>200</th>\n",
       "      <td>-8</td>\n",
       "      <td>1</td>\n",
       "      <td>1.0</td>\n",
       "      <td>0</td>\n",
       "      <td>1</td>\n",
       "      <td>4.38</td>\n",
       "      <td>1</td>\n",
       "      <td>1</td>\n",
       "      <td>1</td>\n",
       "      <td>8.84</td>\n",
       "      <td>3.0</td>\n",
       "      <td>19.0</td>\n",
       "      <td>88.25</td>\n",
       "      <td>0.0</td>\n",
       "      <td>1.0</td>\n",
       "      <td>909.0</td>\n",
       "    </tr>\n",
       "    <tr>\n",
       "      <th>240</th>\n",
       "      <td>-7</td>\n",
       "      <td>1</td>\n",
       "      <td>1.0</td>\n",
       "      <td>0</td>\n",
       "      <td>1</td>\n",
       "      <td>4.38</td>\n",
       "      <td>1</td>\n",
       "      <td>1</td>\n",
       "      <td>1</td>\n",
       "      <td>8.84</td>\n",
       "      <td>1.0</td>\n",
       "      <td>2.0</td>\n",
       "      <td>88.00</td>\n",
       "      <td>0.0</td>\n",
       "      <td>0.0</td>\n",
       "      <td>716.0</td>\n",
       "    </tr>\n",
       "    <tr>\n",
       "      <th>280</th>\n",
       "      <td>-6</td>\n",
       "      <td>1</td>\n",
       "      <td>2.0</td>\n",
       "      <td>0</td>\n",
       "      <td>1</td>\n",
       "      <td>4.38</td>\n",
       "      <td>1</td>\n",
       "      <td>1</td>\n",
       "      <td>1</td>\n",
       "      <td>8.84</td>\n",
       "      <td>1.0</td>\n",
       "      <td>1.0</td>\n",
       "      <td>10.00</td>\n",
       "      <td>0.0</td>\n",
       "      <td>1.0</td>\n",
       "      <td>661.0</td>\n",
       "    </tr>\n",
       "    <tr>\n",
       "      <th>320</th>\n",
       "      <td>-5</td>\n",
       "      <td>1</td>\n",
       "      <td>299.0</td>\n",
       "      <td>0</td>\n",
       "      <td>1</td>\n",
       "      <td>4.38</td>\n",
       "      <td>1</td>\n",
       "      <td>1</td>\n",
       "      <td>1</td>\n",
       "      <td>8.84</td>\n",
       "      <td>2.0</td>\n",
       "      <td>1.5</td>\n",
       "      <td>1.75</td>\n",
       "      <td>0.0</td>\n",
       "      <td>12.0</td>\n",
       "      <td>785.0</td>\n",
       "    </tr>\n",
       "    <tr>\n",
       "      <th>360</th>\n",
       "      <td>-4</td>\n",
       "      <td>1</td>\n",
       "      <td>3.0</td>\n",
       "      <td>0</td>\n",
       "      <td>1</td>\n",
       "      <td>4.38</td>\n",
       "      <td>1</td>\n",
       "      <td>1</td>\n",
       "      <td>1</td>\n",
       "      <td>8.84</td>\n",
       "      <td>299.0</td>\n",
       "      <td>150.5</td>\n",
       "      <td>75.75</td>\n",
       "      <td>0.0</td>\n",
       "      <td>1.0</td>\n",
       "      <td>671.0</td>\n",
       "    </tr>\n",
       "    <tr>\n",
       "      <th>400</th>\n",
       "      <td>-3</td>\n",
       "      <td>1</td>\n",
       "      <td>31.0</td>\n",
       "      <td>0</td>\n",
       "      <td>1</td>\n",
       "      <td>4.38</td>\n",
       "      <td>1</td>\n",
       "      <td>1</td>\n",
       "      <td>1</td>\n",
       "      <td>8.84</td>\n",
       "      <td>3.0</td>\n",
       "      <td>151.0</td>\n",
       "      <td>76.25</td>\n",
       "      <td>0.0</td>\n",
       "      <td>0.0</td>\n",
       "      <td>794.0</td>\n",
       "    </tr>\n",
       "    <tr>\n",
       "      <th>440</th>\n",
       "      <td>-2</td>\n",
       "      <td>1</td>\n",
       "      <td>0.0</td>\n",
       "      <td>0</td>\n",
       "      <td>1</td>\n",
       "      <td>4.38</td>\n",
       "      <td>1</td>\n",
       "      <td>1</td>\n",
       "      <td>1</td>\n",
       "      <td>8.84</td>\n",
       "      <td>31.0</td>\n",
       "      <td>17.0</td>\n",
       "      <td>83.75</td>\n",
       "      <td>0.0</td>\n",
       "      <td>6.0</td>\n",
       "      <td>727.0</td>\n",
       "    </tr>\n",
       "    <tr>\n",
       "      <th>480</th>\n",
       "      <td>-1</td>\n",
       "      <td>1</td>\n",
       "      <td>3.0</td>\n",
       "      <td>0</td>\n",
       "      <td>1</td>\n",
       "      <td>4.38</td>\n",
       "      <td>1</td>\n",
       "      <td>1</td>\n",
       "      <td>1</td>\n",
       "      <td>8.84</td>\n",
       "      <td>0.0</td>\n",
       "      <td>15.5</td>\n",
       "      <td>83.25</td>\n",
       "      <td>0.0</td>\n",
       "      <td>1.0</td>\n",
       "      <td>728.0</td>\n",
       "    </tr>\n",
       "  </tbody>\n",
       "</table>\n",
       "</div>"
      ],
      "text/plain": [
       "     weekpair  itemID  order  brand  manufacturer  customerRating  category1  \\\n",
       "0         -13       1    0.0      0             1            4.38          1   \n",
       "40        -12       1    2.0      0             1            4.38          1   \n",
       "80        -11       1  313.0      0             1            4.38          1   \n",
       "120       -10       1   35.0      0             1            4.38          1   \n",
       "160        -9       1    3.0      0             1            4.38          1   \n",
       "200        -8       1    1.0      0             1            4.38          1   \n",
       "240        -7       1    1.0      0             1            4.38          1   \n",
       "280        -6       1    2.0      0             1            4.38          1   \n",
       "320        -5       1  299.0      0             1            4.38          1   \n",
       "360        -4       1    3.0      0             1            4.38          1   \n",
       "400        -3       1   31.0      0             1            4.38          1   \n",
       "440        -2       1    0.0      0             1            4.38          1   \n",
       "480        -1       1    3.0      0             1            4.38          1   \n",
       "\n",
       "     category2  category3  recommendedRetailPrice  item_1  item_2  item_4  \\\n",
       "0            1          1                    8.84     0.0     0.0    0.00   \n",
       "40           1          1                    8.84     0.0     0.0    0.00   \n",
       "80           1          1                    8.84     2.0     1.0    0.00   \n",
       "120          1          1                    8.84   313.0   157.5    0.00   \n",
       "160          1          1                    8.84    35.0   174.0   87.50   \n",
       "200          1          1                    8.84     3.0    19.0   88.25   \n",
       "240          1          1                    8.84     1.0     2.0   88.00   \n",
       "280          1          1                    8.84     1.0     1.0   10.00   \n",
       "320          1          1                    8.84     2.0     1.5    1.75   \n",
       "360          1          1                    8.84   299.0   150.5   75.75   \n",
       "400          1          1                    8.84     3.0   151.0   76.25   \n",
       "440          1          1                    8.84    31.0    17.0   83.75   \n",
       "480          1          1                    8.84     0.0    15.5   83.25   \n",
       "\n",
       "     dist2firstvalueLeak  leak_cat3  total_new  \n",
       "0                    0.0        5.0     1431.0  \n",
       "40                   1.0        4.0      729.0  \n",
       "80                   0.0        6.0      371.0  \n",
       "120                  0.0        3.0      533.0  \n",
       "160                  0.0        0.0      785.0  \n",
       "200                  0.0        1.0      909.0  \n",
       "240                  0.0        0.0      716.0  \n",
       "280                  0.0        1.0      661.0  \n",
       "320                  0.0       12.0      785.0  \n",
       "360                  0.0        1.0      671.0  \n",
       "400                  0.0        0.0      794.0  \n",
       "440                  0.0        6.0      727.0  \n",
       "480                  0.0        1.0      728.0  "
      ]
     },
     "execution_count": 575,
     "metadata": {},
     "output_type": "execute_result"
    }
   ],
   "source": [
    "# checking if we got what we wanted\n",
    "data.query('itemID == 1')"
   ]
  },
  {
   "cell_type": "code",
   "execution_count": null,
   "metadata": {},
   "outputs": [],
   "source": []
  },
  {
   "cell_type": "code",
   "execution_count": 355,
   "metadata": {},
   "outputs": [],
   "source": [
    "# data['weekswithtrans'] = data.groupby('itemID')['order'].apply(lambda x : (x > 0).cumsum()) / (data['weekpair'] + 14)"
   ]
  },
  {
   "cell_type": "code",
   "execution_count": 356,
   "metadata": {},
   "outputs": [],
   "source": [
    "counts = data.groupby('itemID')['order'].apply(lambda x : (x > 0).sum())"
   ]
  },
  {
   "cell_type": "code",
   "execution_count": 357,
   "metadata": {},
   "outputs": [
    {
     "data": {
      "image/png": "[encoded data removed]",
      "text/plain": [
       "<Figure size 432x288 with 1 Axes>"
      ]
     },
     "metadata": {
      "needs_background": "light"
     },
     "output_type": "display_data"
    }
   ],
   "source": [
    "plt.hist(counts, bins = range(17))\n",
    "plt.ylabel('quantidade de itens')\n",
    "plt.xlabel('semanas com transação')\n",
    "plt.show()"
   ]
  },
  {
   "cell_type": "code",
   "execution_count": 358,
   "metadata": {},
   "outputs": [],
   "source": [
    "# f = 'itemID'\n",
    "# temp = data.groupby([f, 'week'])[['order']].sum()\n",
    "# shifted = temp.groupby(f)[['order']].shift(1)\n",
    "# data['feature'] = (shifted.fillna(0) > 0).groupby(f)[['order']].cumsum().values"
   ]
  },
  {
   "cell_type": "code",
   "execution_count": 359,
   "metadata": {},
   "outputs": [
    {
     "data": {
      "text/html": [
       "<div>\n",
       "<style scoped>\n",
       "    .dataframe tbody tr th:only-of-type {\n",
       "        vertical-align: middle;\n",
       "    }\n",
       "\n",
       "    .dataframe tbody tr th {\n",
       "        vertical-align: top;\n",
       "    }\n",
       "\n",
       "    .dataframe thead th {\n",
       "        text-align: right;\n",
       "    }\n",
       "</style>\n",
       "<table border=\"1\" class=\"dataframe\">\n",
       "  <thead>\n",
       "    <tr style=\"text-align: right;\">\n",
       "      <th></th>\n",
       "      <th>weekpair</th>\n",
       "      <th>itemID</th>\n",
       "      <th>order</th>\n",
       "      <th>brand</th>\n",
       "      <th>manufacturer</th>\n",
       "      <th>customerRating</th>\n",
       "      <th>category1</th>\n",
       "      <th>category2</th>\n",
       "      <th>category3</th>\n",
       "      <th>recommendedRetailPrice</th>\n",
       "      <th>item_1</th>\n",
       "      <th>item_2</th>\n",
       "      <th>item_4</th>\n",
       "      <th>dist2firstvalueLeak</th>\n",
       "      <th>total_new</th>\n",
       "    </tr>\n",
       "  </thead>\n",
       "  <tbody>\n",
       "    <tr>\n",
       "      <th>0</th>\n",
       "      <td>-13</td>\n",
       "      <td>1</td>\n",
       "      <td>0.0</td>\n",
       "      <td>0</td>\n",
       "      <td>1</td>\n",
       "      <td>4.38</td>\n",
       "      <td>1</td>\n",
       "      <td>1</td>\n",
       "      <td>1</td>\n",
       "      <td>8.84</td>\n",
       "      <td>0.0</td>\n",
       "      <td>0.0</td>\n",
       "      <td>0.0</td>\n",
       "      <td>0.0</td>\n",
       "      <td>1431.0</td>\n",
       "    </tr>\n",
       "    <tr>\n",
       "      <th>1</th>\n",
       "      <td>-12</td>\n",
       "      <td>1</td>\n",
       "      <td>2.0</td>\n",
       "      <td>0</td>\n",
       "      <td>1</td>\n",
       "      <td>4.38</td>\n",
       "      <td>1</td>\n",
       "      <td>1</td>\n",
       "      <td>1</td>\n",
       "      <td>8.84</td>\n",
       "      <td>0.0</td>\n",
       "      <td>0.0</td>\n",
       "      <td>0.0</td>\n",
       "      <td>1.0</td>\n",
       "      <td>729.0</td>\n",
       "    </tr>\n",
       "    <tr>\n",
       "      <th>2</th>\n",
       "      <td>-11</td>\n",
       "      <td>1</td>\n",
       "      <td>313.0</td>\n",
       "      <td>0</td>\n",
       "      <td>1</td>\n",
       "      <td>4.38</td>\n",
       "      <td>1</td>\n",
       "      <td>1</td>\n",
       "      <td>1</td>\n",
       "      <td>8.84</td>\n",
       "      <td>2.0</td>\n",
       "      <td>1.0</td>\n",
       "      <td>0.0</td>\n",
       "      <td>0.0</td>\n",
       "      <td>371.0</td>\n",
       "    </tr>\n",
       "    <tr>\n",
       "      <th>3</th>\n",
       "      <td>-10</td>\n",
       "      <td>1</td>\n",
       "      <td>35.0</td>\n",
       "      <td>0</td>\n",
       "      <td>1</td>\n",
       "      <td>4.38</td>\n",
       "      <td>1</td>\n",
       "      <td>1</td>\n",
       "      <td>1</td>\n",
       "      <td>8.84</td>\n",
       "      <td>313.0</td>\n",
       "      <td>157.5</td>\n",
       "      <td>0.0</td>\n",
       "      <td>0.0</td>\n",
       "      <td>533.0</td>\n",
       "    </tr>\n",
       "    <tr>\n",
       "      <th>4</th>\n",
       "      <td>-9</td>\n",
       "      <td>1</td>\n",
       "      <td>3.0</td>\n",
       "      <td>0</td>\n",
       "      <td>1</td>\n",
       "      <td>4.38</td>\n",
       "      <td>1</td>\n",
       "      <td>1</td>\n",
       "      <td>1</td>\n",
       "      <td>8.84</td>\n",
       "      <td>35.0</td>\n",
       "      <td>174.0</td>\n",
       "      <td>87.5</td>\n",
       "      <td>0.0</td>\n",
       "      <td>785.0</td>\n",
       "    </tr>\n",
       "  </tbody>\n",
       "</table>\n",
       "</div>"
      ],
      "text/plain": [
       "   weekpair  itemID  order  brand  manufacturer  customerRating  category1  \\\n",
       "0       -13       1    0.0      0             1            4.38          1   \n",
       "1       -12       1    2.0      0             1            4.38          1   \n",
       "2       -11       1  313.0      0             1            4.38          1   \n",
       "3       -10       1   35.0      0             1            4.38          1   \n",
       "4        -9       1    3.0      0             1            4.38          1   \n",
       "\n",
       "   category2  category3  recommendedRetailPrice  item_1  item_2  item_4  \\\n",
       "0          1          1                    8.84     0.0     0.0     0.0   \n",
       "1          1          1                    8.84     0.0     0.0     0.0   \n",
       "2          1          1                    8.84     2.0     1.0     0.0   \n",
       "3          1          1                    8.84   313.0   157.5     0.0   \n",
       "4          1          1                    8.84    35.0   174.0    87.5   \n",
       "\n",
       "   dist2firstvalueLeak  total_new  \n",
       "0                  0.0     1431.0  \n",
       "1                  1.0      729.0  \n",
       "2                  0.0      371.0  \n",
       "3                  0.0      533.0  \n",
       "4                  0.0      785.0  "
      ]
     },
     "execution_count": 359,
     "metadata": {},
     "output_type": "execute_result"
    }
   ],
   "source": [
    "data.head()"
   ]
  },
  {
   "cell_type": "markdown",
   "metadata": {},
   "source": [
    "##  - Split Data"
   ]
  },
  {
   "cell_type": "code",
   "execution_count": 576,
   "metadata": {},
   "outputs": [],
   "source": [
    "filtered_data = data\n",
    "# filtered_data = data.query(\"dist2firstvalueLeak != -9999\")"
   ]
  },
  {
   "cell_type": "code",
   "execution_count": 577,
   "metadata": {},
   "outputs": [
    {
     "data": {
      "text/plain": [
       "(136019, 136019)"
      ]
     },
     "execution_count": 577,
     "metadata": {},
     "output_type": "execute_result"
    }
   ],
   "source": [
    "len(data), len(filtered_data)"
   ]
  },
  {
   "cell_type": "code",
   "execution_count": 578,
   "metadata": {},
   "outputs": [],
   "source": [
    "sub_week = -1\n",
    "train = filtered_data.query('-13 <= weekpair <= (@sub_week - 2)').reset_index(drop = True)\n",
    "full_train = filtered_data.query('-13 <= weekpair <= (@sub_week - 1)').reset_index(drop = True)\n",
    "val = filtered_data.query('weekpair == (@sub_week - 1)').reset_index(drop = True)\n",
    "sub = filtered_data.query('weekpair == (@sub_week)').reset_index(drop = True)"
   ]
  },
  {
   "cell_type": "code",
   "execution_count": 579,
   "metadata": {},
   "outputs": [
    {
     "data": {
      "text/plain": [
       "(115093, 10463, 10463)"
      ]
     },
     "execution_count": 579,
     "metadata": {},
     "output_type": "execute_result"
    }
   ],
   "source": [
    "len(train), len(val), len(sub)"
   ]
  },
  {
   "cell_type": "code",
   "execution_count": 580,
   "metadata": {},
   "outputs": [],
   "source": [
    "weights = infos.set_index('itemID')['simulationPrice'].to_dict()"
   ]
  },
  {
   "cell_type": "code",
   "execution_count": 581,
   "metadata": {},
   "outputs": [
    {
     "data": {
      "text/plain": [
       "Index(['weekpair', 'itemID', 'order', 'brand', 'manufacturer',\n",
       "       'customerRating', 'category1', 'category2', 'category3',\n",
       "       'recommendedRetailPrice', 'item_1', 'item_2', 'item_4',\n",
       "       'dist2firstvalueLeak', 'leak_cat3', 'total_new'],\n",
       "      dtype='object')"
      ]
     },
     "execution_count": 581,
     "metadata": {},
     "output_type": "execute_result"
    }
   ],
   "source": [
    "train.columns"
   ]
  },
  {
   "cell_type": "code",
   "execution_count": 582,
   "metadata": {},
   "outputs": [],
   "source": [
    "y_train = train.pop('order').values\n",
    "y_full_train = full_train.pop('order').values\n",
    "y_val = val.pop('order').values\n",
    "y_sub = sub.pop('order').values\n",
    "\n",
    "X_train = train.values\n",
    "X_full_train = full_train.values\n",
    "X_val = val.values\n",
    "X_sub = sub.values\n",
    "\n",
    "w_train = train['itemID'].map(weights)\n",
    "w_full_train = full_train['itemID'].map(weights)\n",
    "w_val = val['itemID'].map(weights)\n",
    "w_sub = sub['itemID'].map(weights)"
   ]
  },
  {
   "cell_type": "markdown",
   "metadata": {},
   "source": [
    "<hr>"
   ]
  },
  {
   "cell_type": "markdown",
   "metadata": {},
   "source": [
    "## - Min Expected Error"
   ]
  },
  {
   "cell_type": "code",
   "execution_count": 583,
   "metadata": {},
   "outputs": [],
   "source": [
    "def evaluate(prediction, target, simulationPrice):\n",
    "    return np.sum((prediction - np.maximum(prediction - target, 0) * 1.6)  * simulationPrice)"
   ]
  },
  {
   "cell_type": "code",
   "execution_count": 584,
   "metadata": {},
   "outputs": [],
   "source": [
    "# max expected rmse\n",
    "from sklearn.metrics import mean_squared_error as mse\n",
    "# pred = data.loc[1:12].groupby('itemID')['order'].mean().sort_index()\n",
    "# target_week = data.loc[13:, 'order'].reset_index(level = 0, drop = True).sort_index()\n",
    "# mse(target_week, pred) ** .5"
   ]
  },
  {
   "cell_type": "markdown",
   "metadata": {},
   "source": [
    "<hr>"
   ]
  },
  {
   "cell_type": "markdown",
   "metadata": {},
   "source": [
    "## - XGBoost"
   ]
  },
  {
   "cell_type": "code",
   "execution_count": 585,
   "metadata": {},
   "outputs": [],
   "source": [
    "import xgboost as xgb"
   ]
  },
  {
   "cell_type": "code",
   "execution_count": 586,
   "metadata": {},
   "outputs": [
    {
     "data": {
      "text/plain": [
       "'1.1.0'"
      ]
     },
     "execution_count": 586,
     "metadata": {},
     "output_type": "execute_result"
    }
   ],
   "source": [
    "xgb.__version__"
   ]
  },
  {
   "cell_type": "code",
   "execution_count": 587,
   "metadata": {},
   "outputs": [],
   "source": [
    "# custom objective\n",
    "\n",
    "def gradient(prediction, dtrain):\n",
    "    y = dtrain.get_label()\n",
    "#     prediction.astype(int)\n",
    "#     prediction = np.minimum(prediction.astype(int), 1)\n",
    "    return -2 * (prediction - np.maximum(prediction - y, 0) * 1.6) * (1 - (prediction > y) * 1.6)\n",
    "\n",
    "def hessian(prediction, dtrain):\n",
    "    y = dtrain.get_label()\n",
    "#     prediction.prediction(int)\n",
    "#     prediction = np.minimum(prediction.astype(int), 1)\n",
    "    return -2 * (1 - (prediction > y) * 1.6) ** 2\n",
    "\n",
    "def objective(prediction, dtrain):\n",
    "    w = dtrain.get_weight()\n",
    "    grad = gradient(prediction, dtrain) * w\n",
    "    hess = hessian(prediction, dtrain) * w\n",
    "    return grad, hess"
   ]
  },
  {
   "cell_type": "code",
   "execution_count": 588,
   "metadata": {},
   "outputs": [],
   "source": [
    "# custom feval\n",
    "\n",
    "def feval(prediction, dtrain):\n",
    "    prediction = prediction.astype(int)\n",
    "#     predt = np.minimum(predt.astype(int), 1)\n",
    "    target = dtrain.get_label()\n",
    "    simulationPrice = dtrain.get_weight()\n",
    "    return 'feval', np.sum((prediction - np.maximum(prediction - target, 0) * 1.6)  * simulationPrice)"
   ]
  },
  {
   "cell_type": "code",
   "execution_count": 589,
   "metadata": {
    "scrolled": true
   },
   "outputs": [
    {
     "name": "stdout",
     "output_type": "stream",
     "text": [
      "[0]\ttrain-feval:125861.06203\tval-feval:21754.10589\n",
      "Multiple eval metrics have been passed: 'val-feval' will be used for early stopping.\n",
      "\n",
      "Will train until val-feval hasn't improved in 30 rounds.\n",
      "[1]\ttrain-feval:279248.29806\tval-feval:41483.56178\n",
      "[2]\ttrain-feval:523197.93404\tval-feval:74109.94770\n",
      "[3]\ttrain-feval:693477.51015\tval-feval:95483.40561\n",
      "[4]\ttrain-feval:866804.67039\tval-feval:119316.09549\n",
      "[5]\ttrain-feval:996174.95445\tval-feval:127413.14135\n",
      "[6]\ttrain-feval:1179804.99077\tval-feval:139634.72934\n",
      "[7]\ttrain-feval:1334339.16865\tval-feval:162573.77332\n",
      "[8]\ttrain-feval:1516366.60054\tval-feval:168712.34120\n",
      "[9]\ttrain-feval:1680492.01873\tval-feval:182938.65123\n",
      "[10]\ttrain-feval:1890807.51280\tval-feval:191920.67921\n",
      "[11]\ttrain-feval:2044186.30708\tval-feval:201588.19727\n",
      "[12]\ttrain-feval:2288319.93505\tval-feval:210081.09531\n",
      "[13]\ttrain-feval:2417899.41511\tval-feval:216049.32131\n",
      "[14]\ttrain-feval:2554708.09730\tval-feval:225910.04131\n",
      "[15]\ttrain-feval:2686210.61945\tval-feval:242045.00739\n",
      "[16]\ttrain-feval:2831886.55741\tval-feval:260358.86941\n",
      "[17]\ttrain-feval:2952709.79959\tval-feval:267997.98737\n",
      "[18]\ttrain-feval:3229163.60084\tval-feval:280207.15945\n",
      "[19]\ttrain-feval:3362969.02496\tval-feval:287401.32148\n",
      "[20]\ttrain-feval:3486758.61322\tval-feval:298765.83950\n",
      "[21]\ttrain-feval:3598191.24928\tval-feval:308086.53350\n",
      "[22]\ttrain-feval:3814900.89340\tval-feval:313776.55942\n",
      "[23]\ttrain-feval:3912138.21142\tval-feval:321041.39344\n",
      "[24]\ttrain-feval:4032216.09720\tval-feval:330143.49942\n",
      "[25]\ttrain-feval:4175968.60725\tval-feval:339145.76548\n",
      "[26]\ttrain-feval:4294204.40919\tval-feval:346728.11951\n",
      "[27]\ttrain-feval:4403598.81099\tval-feval:354718.47950\n",
      "[28]\ttrain-feval:4500383.10508\tval-feval:358668.78148\n",
      "[29]\ttrain-feval:4599558.81714\tval-feval:364572.21145\n",
      "[30]\ttrain-feval:4728008.90696\tval-feval:375219.53154\n",
      "[31]\ttrain-feval:4830062.87097\tval-feval:383406.74754\n",
      "[32]\ttrain-feval:4943592.95711\tval-feval:389967.79148\n",
      "[33]\ttrain-feval:5075908.54720\tval-feval:394787.07745\n",
      "[34]\ttrain-feval:5179837.86705\tval-feval:394994.62746\n",
      "[35]\ttrain-feval:5289833.57724\tval-feval:405920.66551\n",
      "[36]\ttrain-feval:5391667.10340\tval-feval:410498.65147\n",
      "[37]\ttrain-feval:5490513.91541\tval-feval:411071.61944\n",
      "[38]\ttrain-feval:5580575.25142\tval-feval:418163.51752\n",
      "[39]\ttrain-feval:5685520.47350\tval-feval:424074.62750\n",
      "[40]\ttrain-feval:5782550.38157\tval-feval:431273.04356\n",
      "[41]\ttrain-feval:5885581.19746\tval-feval:437503.07758\n",
      "[42]\ttrain-feval:6003067.64978\tval-feval:444531.75357\n",
      "[43]\ttrain-feval:6094975.52182\tval-feval:450510.39960\n",
      "[44]\ttrain-feval:6187418.72571\tval-feval:452976.54164\n",
      "[45]\ttrain-feval:6337115.53187\tval-feval:460155.59176\n",
      "[46]\ttrain-feval:6426871.57791\tval-feval:465103.21974\n",
      "[47]\ttrain-feval:6504225.87215\tval-feval:470980.22369\n",
      "[48]\ttrain-feval:6610374.32787\tval-feval:478081.14966\n",
      "[49]\ttrain-feval:6735394.36582\tval-feval:482740.17568\n",
      "[50]\ttrain-feval:6820173.11787\tval-feval:487391.02169\n",
      "[51]\ttrain-feval:6902179.40396\tval-feval:490096.61773\n",
      "[52]\ttrain-feval:6994268.37405\tval-feval:499338.14973\n",
      "[53]\ttrain-feval:7085538.63020\tval-feval:507559.23770\n",
      "[54]\ttrain-feval:7162225.62407\tval-feval:511996.79563\n",
      "[55]\ttrain-feval:7242962.59421\tval-feval:514477.18970\n",
      "[56]\ttrain-feval:7329456.92804\tval-feval:519794.95579\n",
      "[57]\ttrain-feval:7485675.48349\tval-feval:524691.56581\n",
      "[58]\ttrain-feval:7599743.61142\tval-feval:527877.31982\n",
      "[59]\ttrain-feval:7696235.60733\tval-feval:532640.36582\n",
      "[60]\ttrain-feval:7773890.94151\tval-feval:535904.84979\n",
      "[61]\ttrain-feval:7853598.50352\tval-feval:537395.20376\n",
      "[62]\ttrain-feval:7971367.90561\tval-feval:542712.54980\n",
      "[63]\ttrain-feval:8054707.53353\tval-feval:546450.99179\n",
      "[64]\ttrain-feval:8140318.55737\tval-feval:547127.47974\n",
      "[65]\ttrain-feval:8211609.01345\tval-feval:552280.24973\n",
      "[66]\ttrain-feval:8285640.30749\tval-feval:553448.04774\n",
      "[67]\ttrain-feval:8370717.85338\tval-feval:555238.02175\n",
      "[68]\ttrain-feval:8469208.60314\tval-feval:555701.85188\n",
      "[69]\ttrain-feval:8546516.59306\tval-feval:561412.82590\n",
      "[70]\ttrain-feval:8617368.22122\tval-feval:564968.68391\n",
      "[71]\ttrain-feval:8690415.70738\tval-feval:568133.02791\n",
      "[72]\ttrain-feval:8769523.33917\tval-feval:569585.03194\n",
      "[73]\ttrain-feval:8850801.10533\tval-feval:571400.75195\n",
      "[74]\ttrain-feval:8931611.56317\tval-feval:578647.04007\n",
      "[75]\ttrain-feval:9039699.25145\tval-feval:576360.84206\n",
      "[76]\ttrain-feval:9111996.66565\tval-feval:577235.91210\n",
      "[77]\ttrain-feval:9204680.96386\tval-feval:575751.60198\n",
      "[78]\ttrain-feval:9272975.55175\tval-feval:578998.08403\n",
      "[79]\ttrain-feval:9345988.98360\tval-feval:579680.65403\n",
      "[80]\ttrain-feval:9457874.15030\tval-feval:586229.37216\n",
      "[81]\ttrain-feval:9574476.61619\tval-feval:589616.86421\n",
      "[82]\ttrain-feval:9642095.34824\tval-feval:590475.47615\n",
      "[83]\ttrain-feval:9728322.59423\tval-feval:592501.06619\n",
      "[84]\ttrain-feval:9800048.24420\tval-feval:592428.70220\n",
      "[85]\ttrain-feval:9895526.19391\tval-feval:597666.38606\n",
      "[86]\ttrain-feval:9965742.87589\tval-feval:598304.72008\n",
      "[87]\ttrain-feval:10059103.51000\tval-feval:600856.03216\n",
      "[88]\ttrain-feval:10147981.38221\tval-feval:601371.91016\n",
      "[89]\ttrain-feval:10215977.93439\tval-feval:605743.69017\n",
      "[90]\ttrain-feval:10282128.18448\tval-feval:605109.34020\n",
      "[91]\ttrain-feval:10377174.37857\tval-feval:607705.41616\n",
      "[92]\ttrain-feval:10464052.40246\tval-feval:605306.74818\n",
      "[93]\ttrain-feval:10519760.65437\tval-feval:607398.67822\n",
      "[94]\ttrain-feval:10592999.61063\tval-feval:611365.19630\n",
      "[95]\ttrain-feval:10660507.53865\tval-feval:612622.34028\n",
      "[96]\ttrain-feval:10725296.08045\tval-feval:611848.44227\n",
      "[97]\ttrain-feval:10786243.23853\tval-feval:612360.21628\n",
      "[98]\ttrain-feval:10855123.15678\tval-feval:612319.58831\n",
      "[99]\ttrain-feval:10952094.39001\tval-feval:613016.64436\n",
      "[100]\ttrain-feval:11010801.45173\tval-feval:611897.35633\n",
      "[101]\ttrain-feval:11125431.33761\tval-feval:613518.38438\n",
      "[102]\ttrain-feval:11176744.02191\tval-feval:616122.06840\n",
      "[103]\ttrain-feval:11234383.35589\tval-feval:616876.01241\n",
      "[104]\ttrain-feval:11302468.32975\tval-feval:616043.51037\n",
      "[105]\ttrain-feval:11375410.76148\tval-feval:618322.21847\n",
      "[106]\ttrain-feval:11432550.54958\tval-feval:620032.13248\n",
      "[107]\ttrain-feval:11493952.82971\tval-feval:619735.92446\n",
      "[108]\ttrain-feval:11494937.65089\tval-feval:596108.60068\n",
      "[109]\ttrain-feval:11552773.07275\tval-feval:595891.93465\n",
      "[110]\ttrain-feval:11616171.28686\tval-feval:595336.53463\n",
      "[111]\ttrain-feval:11685502.96095\tval-feval:599168.60062\n",
      "[112]\ttrain-feval:11735588.65686\tval-feval:599089.60059\n",
      "[113]\ttrain-feval:11794963.88090\tval-feval:602661.70468\n",
      "[114]\ttrain-feval:11866984.64098\tval-feval:604223.66066\n",
      "[115]\ttrain-feval:11956707.49115\tval-feval:606771.25269\n",
      "[116]\ttrain-feval:12029014.89703\tval-feval:604740.43678\n",
      "[117]\ttrain-feval:12104942.06284\tval-feval:607131.46476\n",
      "[118]\ttrain-feval:12155694.08709\tval-feval:604556.69672\n",
      "[119]\ttrain-feval:12228638.28703\tval-feval:605138.85071\n",
      "[120]\ttrain-feval:12311187.21087\tval-feval:604924.07473\n",
      "[121]\ttrain-feval:12368939.32474\tval-feval:608386.86075\n",
      "[122]\ttrain-feval:12430148.75287\tval-feval:611512.45475\n",
      "[123]\ttrain-feval:12499168.79438\tval-feval:611976.49278\n",
      "[124]\ttrain-feval:12553567.80626\tval-feval:613524.04277\n",
      "[125]\ttrain-feval:12609518.64019\tval-feval:614365.07877\n",
      "[126]\ttrain-feval:12651510.82825\tval-feval:612811.61288\n",
      "[127]\ttrain-feval:12734867.48800\tval-feval:614544.38681\n",
      "[128]\ttrain-feval:12786666.29590\tval-feval:614167.26683\n",
      "[129]\ttrain-feval:12845163.82579\tval-feval:619727.76289\n",
      "[130]\ttrain-feval:12908419.69994\tval-feval:620882.98891\n",
      "[131]\ttrain-feval:12960301.47606\tval-feval:622400.17495\n",
      "[132]\ttrain-feval:13008908.16820\tval-feval:625179.67682\n",
      "[133]\ttrain-feval:13067041.25818\tval-feval:624981.54484\n",
      "[134]\ttrain-feval:13113345.62223\tval-feval:625766.34081\n",
      "[135]\ttrain-feval:13185376.18990\tval-feval:627967.68884\n",
      "[136]\ttrain-feval:13234062.69799\tval-feval:626473.21085\n",
      "[137]\ttrain-feval:13287167.19217\tval-feval:628715.50892\n",
      "[138]\ttrain-feval:13340853.89616\tval-feval:632539.09492\n",
      "[139]\ttrain-feval:13389373.48230\tval-feval:630787.06290\n",
      "[140]\ttrain-feval:13433408.48229\tval-feval:629988.17295\n",
      "[141]\ttrain-feval:13496232.83241\tval-feval:629271.51889\n",
      "[142]\ttrain-feval:13553311.65268\tval-feval:628937.56687\n",
      "[143]\ttrain-feval:13625956.48094\tval-feval:631879.25682\n",
      "[144]\ttrain-feval:13673536.05087\tval-feval:630565.30082\n",
      "[145]\ttrain-feval:13724047.65105\tval-feval:634894.57686\n",
      "[146]\ttrain-feval:13790799.21537\tval-feval:633150.74892\n",
      "[147]\ttrain-feval:13837999.17544\tval-feval:632241.70491\n"
     ]
    },
    {
     "name": "stdout",
     "output_type": "stream",
     "text": [
      "[148]\ttrain-feval:13890233.53751\tval-feval:633732.09290\n",
      "[149]\ttrain-feval:13957541.79935\tval-feval:635018.79289\n",
      "[150]\ttrain-feval:14015198.57330\tval-feval:635863.61490\n",
      "[151]\ttrain-feval:14062296.27935\tval-feval:636963.63686\n",
      "[152]\ttrain-feval:14109943.61136\tval-feval:637159.77885\n",
      "[153]\ttrain-feval:14182326.91779\tval-feval:637535.14879\n",
      "[154]\ttrain-feval:14235747.59393\tval-feval:639280.90486\n",
      "[155]\ttrain-feval:14289026.18584\tval-feval:639354.73681\n",
      "[156]\ttrain-feval:14340796.70977\tval-feval:642932.76683\n",
      "[157]\ttrain-feval:14425443.86785\tval-feval:643460.62282\n",
      "[158]\ttrain-feval:14457768.98209\tval-feval:645323.72877\n",
      "[159]\ttrain-feval:14509001.03016\tval-feval:643435.44077\n",
      "[160]\ttrain-feval:14555727.54837\tval-feval:641538.82673\n",
      "[161]\ttrain-feval:14604640.61413\tval-feval:640013.52677\n",
      "[162]\ttrain-feval:14652821.86825\tval-feval:639703.72481\n",
      "[163]\ttrain-feval:14709316.04024\tval-feval:639479.11083\n",
      "[164]\ttrain-feval:14770062.37431\tval-feval:642408.80481\n",
      "[165]\ttrain-feval:14816347.21228\tval-feval:643240.81885\n",
      "[166]\ttrain-feval:14855616.48423\tval-feval:642042.34883\n",
      "[167]\ttrain-feval:14895422.42634\tval-feval:640534.33481\n",
      "[168]\ttrain-feval:14932521.32621\tval-feval:640197.26082\n",
      "[169]\ttrain-feval:14976563.05623\tval-feval:641346.59285\n",
      "[170]\ttrain-feval:15017188.70013\tval-feval:638930.09685\n",
      "[171]\ttrain-feval:15056294.72214\tval-feval:638616.16684\n",
      "[172]\ttrain-feval:15105385.94617\tval-feval:637977.89683\n",
      "[173]\ttrain-feval:15168119.22385\tval-feval:638903.56487\n",
      "[174]\ttrain-feval:15210805.03795\tval-feval:641227.68093\n",
      "[175]\ttrain-feval:15255711.90967\tval-feval:645676.89284\n",
      "[176]\ttrain-feval:15294163.57374\tval-feval:642078.54280\n",
      "[177]\ttrain-feval:15360331.35419\tval-feval:641240.43881\n",
      "[178]\ttrain-feval:15401617.97634\tval-feval:642532.71284\n",
      "[179]\ttrain-feval:15452403.51831\tval-feval:635392.33288\n",
      "[180]\ttrain-feval:15517221.12616\tval-feval:633349.97286\n",
      "[181]\ttrain-feval:15542695.78246\tval-feval:635687.38085\n",
      "[182]\ttrain-feval:15595533.21199\tval-feval:635225.49687\n",
      "[183]\ttrain-feval:15658427.32163\tval-feval:635668.08285\n",
      "[184]\ttrain-feval:15699230.08164\tval-feval:635224.38887\n",
      "[185]\ttrain-feval:15744901.35379\tval-feval:635237.03485\n",
      "[186]\ttrain-feval:15791410.35575\tval-feval:636592.10091\n",
      "[187]\ttrain-feval:15835987.54779\tval-feval:635272.28490\n",
      "[188]\ttrain-feval:15871410.57975\tval-feval:640005.85888\n",
      "[189]\ttrain-feval:15927953.87778\tval-feval:637926.88690\n",
      "[190]\ttrain-feval:15973941.93984\tval-feval:630209.06095\n",
      "[191]\ttrain-feval:16021958.49610\tval-feval:632618.75091\n",
      "[192]\ttrain-feval:16061778.11399\tval-feval:632228.45891\n",
      "[193]\ttrain-feval:16098286.09000\tval-feval:629070.16290\n",
      "[194]\ttrain-feval:16146621.74206\tval-feval:629593.47295\n",
      "[195]\ttrain-feval:16192587.49188\tval-feval:630640.49893\n",
      "[196]\ttrain-feval:16218788.27790\tval-feval:629187.12492\n",
      "[197]\ttrain-feval:16264225.04380\tval-feval:627333.54498\n",
      "[198]\ttrain-feval:16304024.24797\tval-feval:627325.45500\n",
      "[199]\ttrain-feval:16340982.11597\tval-feval:630547.13109\n",
      "[200]\ttrain-feval:16387939.00184\tval-feval:630112.92104\n",
      "[201]\ttrain-feval:16429552.82390\tval-feval:627051.75501\n",
      "[202]\ttrain-feval:16454779.89794\tval-feval:626537.62100\n",
      "[203]\ttrain-feval:16498303.45621\tval-feval:625802.50101\n",
      "[204]\ttrain-feval:16537903.66413\tval-feval:623011.88102\n",
      "[205]\ttrain-feval:16581825.83610\tval-feval:619822.17897\n",
      "Stopping. Best iteration:\n",
      "[175]\ttrain-feval:15255711.90967\tval-feval:645676.89284\n",
      "\n"
     ]
    }
   ],
   "source": [
    "missing = 0\n",
    "dtrain = xgb.DMatrix(X_train, y_train, w_train, missing = missing)\n",
    "dfulltrain = xgb.DMatrix(X_full_train, y_full_train, w_full_train, missing = missing)\n",
    "dval = xgb.DMatrix(X_val, y_val, w_val, missing = missing)\n",
    "dsub = xgb.DMatrix(X_sub, y_sub, w_sub, missing = missing)\n",
    "# specify parameters via map\n",
    "param = {\n",
    "    'max_depth':10,\n",
    "    'eta':0.005,\n",
    "    'objective':'reg:squarederror',\n",
    "    'disable_default_eval_metric': 1,\n",
    "#     'tree_method' : 'gpu_hist',\n",
    "}\n",
    "num_round = 400\n",
    "bst = xgb.train(param, dtrain,\n",
    "                num_round,\n",
    "                early_stopping_rounds = 30,\n",
    "                evals = [(dtrain, 'train'), (dval, 'val')],\n",
    "#                 obj = objective,\n",
    "                feval = feval,\n",
    "                maximize = True,\n",
    "                )"
   ]
  },
  {
   "cell_type": "code",
   "execution_count": 590,
   "metadata": {},
   "outputs": [
    {
     "data": {
      "text/plain": [
       "663092.9739999998"
      ]
     },
     "execution_count": 590,
     "metadata": {},
     "output_type": "execute_result"
    }
   ],
   "source": [
    "prediction = bst.predict(dsub, ntree_limit=bst.best_ntree_limit).astype(int)\n",
    "evaluate(prediction, y_sub, w_sub)"
   ]
  },
  {
   "cell_type": "code",
   "execution_count": 591,
   "metadata": {},
   "outputs": [],
   "source": [
    "# retrain!"
   ]
  },
  {
   "cell_type": "code",
   "execution_count": 592,
   "metadata": {},
   "outputs": [
    {
     "data": {
      "text/plain": [
       "176"
      ]
     },
     "execution_count": 592,
     "metadata": {},
     "output_type": "execute_result"
    }
   ],
   "source": [
    "bst_sub = xgb.train(param, dfulltrain,\n",
    "    num_boost_round = bst.best_ntree_limit, early_stopping_rounds = 5,\n",
    "    #                 obj = objective,\n",
    "    feval = feval, maximize = True,\n",
    "    evals = [(dfulltrain, 'ftrain')],\n",
    "    verbose_eval = False,\n",
    ")\n",
    "bst_sub.best_ntree_limit"
   ]
  },
  {
   "cell_type": "code",
   "execution_count": 593,
   "metadata": {},
   "outputs": [
    {
     "data": {
      "text/plain": [
       "665149.4799999997"
      ]
     },
     "execution_count": 593,
     "metadata": {},
     "output_type": "execute_result"
    }
   ],
   "source": [
    "prediction = bst_sub.predict(dsub, ntree_limit=bst_sub.best_ntree_limit).astype(int)\n",
    "evaluate(prediction, y_sub, w_sub)"
   ]
  },
  {
   "cell_type": "code",
   "execution_count": 410,
   "metadata": {},
   "outputs": [],
   "source": [
    "# some other things below"
   ]
  },
  {
   "cell_type": "code",
   "execution_count": 411,
   "metadata": {},
   "outputs": [
    {
     "data": {
      "text/plain": [
       "7683293.24"
      ]
     },
     "execution_count": 411,
     "metadata": {},
     "output_type": "execute_result"
    }
   ],
   "source": [
    "# max possible score\n",
    "evaluate(y_sub, y_sub, w_sub)"
   ]
  },
  {
   "cell_type": "code",
   "execution_count": 412,
   "metadata": {},
   "outputs": [
    {
     "data": {
      "text/plain": [
       "-3425880.0980000007"
      ]
     },
     "execution_count": 412,
     "metadata": {},
     "output_type": "execute_result"
    }
   ],
   "source": [
    "# using previous weekpair\n",
    "evaluate(y_val, y_sub, w_sub)"
   ]
  },
  {
   "cell_type": "code",
   "execution_count": 413,
   "metadata": {},
   "outputs": [],
   "source": [
    "submission = items[['itemID']].copy()\n",
    "submission['demandPrediction'] = bst.predict(dsub, ntree_limit=bst.best_ntree_limit).astype(int)\n",
    "submission.to_csv('../../submissions/sub_inclass_03.csv', sep = '|', index=False)\n",
    "# submission.head()"
   ]
  },
  {
   "cell_type": "markdown",
   "metadata": {},
   "source": [
    "<hr>"
   ]
  },
  {
   "cell_type": "markdown",
   "metadata": {},
   "source": [
    "## - LGBM"
   ]
  },
  {
   "cell_type": "code",
   "execution_count": 594,
   "metadata": {},
   "outputs": [],
   "source": [
    "def feval_lgbm(prediction, dtrain):\n",
    "    prediction = prediction.astype(int)\n",
    "    target = dtrain.get_label()\n",
    "    simulationPrice = dtrain.get_weight()\n",
    "    return 'feval', np.sum((prediction - np.maximum(prediction - target, 0) * 1.6)  * simulationPrice), True"
   ]
  },
  {
   "cell_type": "code",
   "execution_count": 595,
   "metadata": {},
   "outputs": [
    {
     "name": "stdout",
     "output_type": "stream",
     "text": [
      "Training until validation scores don't improve for 5 rounds\n",
      "[5]\ttrain's l1: 4.61339\ttrain's feval: 1.13142e+06\tval's l1: 6.12033\tval's feval: 53702.7\n",
      "[10]\ttrain's l1: 4.5573\ttrain's feval: 1.87569e+06\tval's l1: 6.07436\tval's feval: 122599\n",
      "[15]\ttrain's l1: 4.52552\ttrain's feval: 2.4058e+06\tval's l1: 6.0413\tval's feval: 172389\n",
      "[20]\ttrain's l1: 4.50417\ttrain's feval: 2.88487e+06\tval's l1: 6.02036\tval's feval: 211370\n",
      "[25]\ttrain's l1: 4.49094\ttrain's feval: 3.08637e+06\tval's l1: 6.00612\tval's feval: 223549\n",
      "[30]\ttrain's l1: 4.47411\ttrain's feval: 3.46612e+06\tval's l1: 5.99235\tval's feval: 256274\n",
      "[35]\ttrain's l1: 4.45977\ttrain's feval: 3.75052e+06\tval's l1: 5.98163\tval's feval: 282638\n",
      "[40]\ttrain's l1: 4.42868\ttrain's feval: 4.31824e+06\tval's l1: 5.92656\tval's feval: 369945\n",
      "[45]\ttrain's l1: 4.405\ttrain's feval: 4.78549e+06\tval's l1: 5.88201\tval's feval: 444284\n",
      "[50]\ttrain's l1: 4.39551\ttrain's feval: 4.97025e+06\tval's l1: 5.86383\tval's feval: 476551\n",
      "[55]\ttrain's l1: 4.3793\ttrain's feval: 5.17739e+06\tval's l1: 5.84624\tval's feval: 507809\n",
      "[60]\ttrain's l1: 4.34346\ttrain's feval: 5.83943e+06\tval's l1: 5.78048\tval's feval: 610397\n",
      "[65]\ttrain's l1: 4.32754\ttrain's feval: 6.14136e+06\tval's l1: 5.75413\tval's feval: 654420\n",
      "[70]\ttrain's l1: 4.32244\ttrain's feval: 6.26745e+06\tval's l1: 5.75204\tval's feval: 663873\n",
      "[75]\ttrain's l1: 4.32053\ttrain's feval: 6.31299e+06\tval's l1: 5.75073\tval's feval: 664180\n",
      "[80]\ttrain's l1: 4.31354\ttrain's feval: 6.46398e+06\tval's l1: 5.74383\tval's feval: 681406\n",
      "[85]\ttrain's l1: 4.30931\ttrain's feval: 6.54389e+06\tval's l1: 5.73923\tval's feval: 692352\n",
      "Early stopping, best iteration is:\n",
      "[84]\ttrain's l1: 4.31036\ttrain's feval: 6.53162e+06\tval's l1: 5.73804\tval's feval: 691333\n"
     ]
    }
   ],
   "source": [
    "import lightgbm as lgb\n",
    "\n",
    "params = {\n",
    "          \"objective\" : 'regression_l1',\n",
    "#           \"metric\" :\"rmse\",\n",
    "          \"learning_rate\" : 0.05,\n",
    "          'verbosity': 2,\n",
    "#           'max_depth': 6,\n",
    "#           'num_leaves': 15,\n",
    "          \"min_data_in_leaf\":1500\n",
    "         }\n",
    "# https://lightgbm.readthedocs.io/en/latest/Parameters.html\n",
    "\n",
    "\n",
    "ds_params = {\n",
    "#     'categorical_feature' : [8, 9, 10],\n",
    "}\n",
    "lgbtrain = lgb.Dataset(X_train, label = y_train, weight=w_train, **ds_params)\n",
    "lgbfulltrain = lgb.Dataset(X_full_train, label = y_full_train, weight=w_full_train, **ds_params)\n",
    "lgbvalid = lgb.Dataset(X_val, label = y_val, weight=w_val, **ds_params)\n",
    "lgbsubmis = lgb.Dataset(X_sub, label = y_sub, weight=w_sub, **ds_params)\n",
    "\n",
    "num_round = 1000\n",
    "lgb_model = lgb.train(params,\n",
    "                  lgbtrain,\n",
    "                  num_round,\n",
    "                  valid_sets = [lgbtrain, lgbvalid],\n",
    "                  valid_names = ['train', 'val'],\n",
    "                  verbose_eval=5,\n",
    "                  early_stopping_rounds=5,\n",
    "                  feval = feval_lgbm,\n",
    "#                   fobj = objective,\n",
    "                 )"
   ]
  },
  {
   "cell_type": "code",
   "execution_count": 596,
   "metadata": {},
   "outputs": [
    {
     "data": {
      "text/plain": [
       "693498.4819999998"
      ]
     },
     "execution_count": 596,
     "metadata": {},
     "output_type": "execute_result"
    }
   ],
   "source": [
    "prediction = lgb_model.predict(X_sub, num_iteration=lgb_model.best_iteration).astype(int)\n",
    "evaluate(prediction, y_sub, w_sub)"
   ]
  },
  {
   "cell_type": "code",
   "execution_count": 597,
   "metadata": {},
   "outputs": [],
   "source": [
    "# retrain!"
   ]
  },
  {
   "cell_type": "code",
   "execution_count": 603,
   "metadata": {},
   "outputs": [
    {
     "name": "stdout",
     "output_type": "stream",
     "text": [
      "[5]\ttrain's l1: 4.73435\ttrain's feval: 1.17692e+06\n",
      "[10]\ttrain's l1: 4.66793\ttrain's feval: 2.37728e+06\n",
      "[15]\ttrain's l1: 4.7061\ttrain's feval: 1.91538e+06\n",
      "[20]\ttrain's l1: 4.85149\ttrain's feval: -140361\n",
      "[25]\ttrain's l1: 4.96692\ttrain's feval: -1.69e+06\n",
      "[30]\ttrain's l1: 4.97859\ttrain's feval: -1.78855e+06\n",
      "[35]\ttrain's l1: 5.13073\ttrain's feval: -4.03373e+06\n",
      "[40]\ttrain's l1: 5.06147\ttrain's feval: -2.69399e+06\n",
      "[45]\ttrain's l1: 5.01476\ttrain's feval: -1.85899e+06\n",
      "[50]\ttrain's l1: 4.97989\ttrain's feval: -1.19221e+06\n",
      "[55]\ttrain's l1: 4.95004\ttrain's feval: -658685\n",
      "[60]\ttrain's l1: 4.91199\ttrain's feval: -18065.6\n",
      "[65]\ttrain's l1: 4.83688\ttrain's feval: 1.26148e+06\n",
      "[70]\ttrain's l1: 4.75336\ttrain's feval: 2.62032e+06\n",
      "[75]\ttrain's l1: 4.692\ttrain's feval: 3.62534e+06\n",
      "[80]\ttrain's l1: 4.67131\ttrain's feval: 3.97318e+06\n"
     ]
    }
   ],
   "source": [
    "lgb_model_sub = lgb.train(params,\n",
    "                  lgbfulltrain,\n",
    "                  lgb_model.best_iteration,\n",
    "                  valid_sets = [lgbfulltrain],\n",
    "                  valid_names = ['train'],\n",
    "                  verbose_eval=5,\n",
    "                  early_stopping_rounds=None,\n",
    "                 feval = feval_lgbm,\n",
    "#                   fobj = objective,\n",
    "                 )"
   ]
  },
  {
   "cell_type": "code",
   "execution_count": 613,
   "metadata": {},
   "outputs": [
    {
     "data": {
      "text/plain": [
       "431955.224"
      ]
     },
     "execution_count": 613,
     "metadata": {},
     "output_type": "execute_result"
    }
   ],
   "source": [
    "prediction = lgb_model_sub.predict(X_sub, num_iteration=80).astype(int)\n",
    "evaluate(prediction, y_sub, w_sub)"
   ]
  },
  {
   "cell_type": "markdown",
   "metadata": {},
   "source": [
    "<hr>"
   ]
  },
  {
   "cell_type": "markdown",
   "metadata": {},
   "source": [
    "## - CatBoost"
   ]
  },
  {
   "cell_type": "code",
   "execution_count": 177,
   "metadata": {},
   "outputs": [],
   "source": [
    "from catboost import CatBoost, CatBoostRegressor, Pool"
   ]
  },
  {
   "cell_type": "code",
   "execution_count": 178,
   "metadata": {},
   "outputs": [],
   "source": [
    "class feval_cat(object):\n",
    "    def get_final_error(self, error, weight):\n",
    "        # return error / (weight + 1e-38)\n",
    "        return error\n",
    "\n",
    "    def is_max_optimal(self):\n",
    "        return True\n",
    "\n",
    "    def evaluate(self, approxes, target, simulationPrice):\n",
    "        prediction = np.array(approxes[0]).astype(int)\n",
    "        target = np.array(target[0]).astype(int)\n",
    "        simulationPrice = np.array(simulationPrice[0])\n",
    "        score = np.sum((prediction - np.maximum(prediction - target, 0) * 1.6)  * simulationPrice)\n",
    "#         print('score', score)\n",
    "#         print(type(prediction), type(target), type(simulationPrice))\n",
    "        return np.sum((prediction - np.maximum(prediction - target, 0) * 1.6)  * simulationPrice), 0"
   ]
  },
  {
   "cell_type": "code",
   "execution_count": 182,
   "metadata": {},
   "outputs": [
    {
     "name": "stdout",
     "output_type": "stream",
     "text": [
      "0:\tlearn: -87609.0617051\ttest: -87609.0617051\ttest1: -11810.8622299\tbest: -11810.8622299 (0)\ttotal: 72.2ms\tremaining: 1m 12s\n",
      "1:\tlearn: -132434.3605775\ttest: -132434.3605775\ttest1: -15214.7942961\tbest: -11810.8622299 (0)\ttotal: 136ms\tremaining: 1m 7s\n",
      "2:\tlearn: -132434.3605775\ttest: -132434.3605775\ttest1: -15214.7942961\tbest: -11810.8622299 (0)\ttotal: 200ms\tremaining: 1m 6s\n",
      "3:\tlearn: -132434.3605775\ttest: -132434.3605775\ttest1: -15214.7942961\tbest: -11810.8622299 (0)\ttotal: 263ms\tremaining: 1m 5s\n",
      "4:\tlearn: -132434.3605775\ttest: -132434.3605775\ttest1: -15214.7942961\tbest: -11810.8622299 (0)\ttotal: 330ms\tremaining: 1m 5s\n",
      "5:\tlearn: -201362.9559191\ttest: -201362.9559191\ttest1: -22718.2624422\tbest: -11810.8622299 (0)\ttotal: 394ms\tremaining: 1m 5s\n",
      "Stopped by overfitting detector  (5 iterations wait)\n",
      "\n",
      "bestTest = -11810.86223\n",
      "bestIteration = 0\n",
      "\n",
      "Shrink model to first 1 iterations.\n"
     ]
    }
   ],
   "source": [
    "ds_params = {\n",
    "#     'cat_features' : [8, 9, 10],\n",
    "}\n",
    "train_pool = Pool(X_train, label = y_train, weight = w_train, **ds_params)\n",
    "trainfull_pool = Pool(X_full_train, label = y_full_train, weight = w_full_train, **ds_params)\n",
    "val_pool = Pool(X_val, label = y_val, weight = w_sub, **ds_params)\n",
    "sub_pool = Pool(X_sub, label = y_sub, weight = w_sub, **ds_params)\n",
    "\n",
    "\n",
    "model = CatBoostRegressor(\n",
    "#     iterations = 2,\n",
    "#     depth=6, \n",
    "    learning_rate=0.1, \n",
    "    loss_function='MAE',\n",
    "    early_stopping_rounds=5,\n",
    "    eval_metric = feval_cat(),\n",
    "    thread_count=-1,\n",
    ")\n",
    "\n",
    "model.fit(\n",
    "    train_pool,\n",
    "    eval_set=[train_pool, val_pool],\n",
    "#     logging_level='Verbose',  # you can uncomment this for text output\n",
    "\n",
    ");\n"
   ]
  },
  {
   "cell_type": "code",
   "execution_count": 183,
   "metadata": {},
   "outputs": [
    {
     "data": {
      "text/plain": [
       "279277.73799999995"
      ]
     },
     "execution_count": 183,
     "metadata": {},
     "output_type": "execute_result"
    }
   ],
   "source": [
    "prediction = model.predict(X_sub, ntree_end = model.best_iteration_).astype(int)\n",
    "evaluate(prediction, y_sub, w_sub)"
   ]
  },
  {
   "cell_type": "code",
   "execution_count": 489,
   "metadata": {},
   "outputs": [],
   "source": [
    "# retrain!"
   ]
  },
  {
   "cell_type": "code",
   "execution_count": 490,
   "metadata": {},
   "outputs": [
    {
     "name": "stdout",
     "output_type": "stream",
     "text": [
      "0:\tlearn: 0.0000000\ttest: 0.0000000\tbest: 0.0000000 (0)\ttotal: 79.2ms\tremaining: 1m 19s\n",
      "1:\tlearn: 0.0000000\ttest: 0.0000000\tbest: 0.0000000 (0)\ttotal: 148ms\tremaining: 1m 13s\n",
      "2:\tlearn: 0.0000000\ttest: 0.0000000\tbest: 0.0000000 (0)\ttotal: 215ms\tremaining: 1m 11s\n",
      "3:\tlearn: 0.0000000\ttest: 0.0000000\tbest: 0.0000000 (0)\ttotal: 281ms\tremaining: 1m 10s\n",
      "4:\tlearn: 0.0000000\ttest: 0.0000000\tbest: 0.0000000 (0)\ttotal: 352ms\tremaining: 1m 10s\n",
      "5:\tlearn: -298.4100058\ttest: -298.4100058\tbest: 0.0000000 (0)\ttotal: 422ms\tremaining: 1m 9s\n",
      "Stopped by overfitting detector  (5 iterations wait)\n",
      "\n",
      "bestTest = 0\n",
      "bestIteration = 0\n",
      "\n",
      "Shrink model to first 1 iterations.\n"
     ]
    }
   ],
   "source": [
    "cat_sub = CatBoostRegressor(\n",
    "#     iterations = 2,\n",
    "#     depth=6, \n",
    "#     learning_rate=0.1, \n",
    "    loss_function='MAE',\n",
    "    early_stopping_rounds=5,\n",
    "    eval_metric = feval_cat(),\n",
    "    thread_count=-1,\n",
    ")\n",
    "cat_sub.fit(\n",
    "    trainfull_pool,\n",
    "    eval_set=[trainfull_pool],\n",
    "#     logging_level='Verbose',  # you can uncomment this for text output\n",
    "\n",
    ");"
   ]
  },
  {
   "cell_type": "code",
   "execution_count": 491,
   "metadata": {},
   "outputs": [
    {
     "data": {
      "text/plain": [
       "0.0"
      ]
     },
     "execution_count": 491,
     "metadata": {},
     "output_type": "execute_result"
    }
   ],
   "source": [
    "prediction = cat_sub.predict(X_sub, ntree_end = cat_sub.best_iteration_).astype(int)\n",
    "evaluate(prediction, y_sub, w_sub)"
   ]
  },
  {
   "cell_type": "markdown",
   "metadata": {},
   "source": [
    "<hr>"
   ]
  },
  {
   "cell_type": "markdown",
   "metadata": {},
   "source": [
    "## - Ensemble"
   ]
  },
  {
   "cell_type": "code",
   "execution_count": 184,
   "metadata": {},
   "outputs": [
    {
     "data": {
      "text/plain": [
       "905239.624"
      ]
     },
     "execution_count": 184,
     "metadata": {},
     "output_type": "execute_result"
    }
   ],
   "source": [
    "cat_w = 0\n",
    "lgb_w = 1\n",
    "xgb_w = 1\n",
    "ensemble = model.predict(X_sub, ntree_end = model.best_iteration_) * cat_w\n",
    "ensemble += lgb_model.predict(X_sub, num_iteration=lgb_model.best_iteration) * lgb_w\n",
    "ensemble += bst.predict(dsub, ntree_limit=bst.best_ntree_limit) * xgb_w\n",
    "ensemble = ensemble / (cat_w + lgb_w + xgb_w)\n",
    "evaluate(ensemble.astype(int), y_sub, w_sub)"
   ]
  },
  {
   "cell_type": "markdown",
   "metadata": {},
   "source": [
    "<hr>"
   ]
  },
  {
   "cell_type": "markdown",
   "metadata": {},
   "source": [
    "## - Linear Regression"
   ]
  },
  {
   "cell_type": "code",
   "execution_count": 270,
   "metadata": {},
   "outputs": [],
   "source": [
    "from sklearn.linear_model import LinearRegression\n",
    "# from sklearn.metrics import "
   ]
  },
  {
   "cell_type": "code",
   "execution_count": 271,
   "metadata": {},
   "outputs": [],
   "source": [
    "lr = LinearRegression()"
   ]
  },
  {
   "cell_type": "code",
   "execution_count": 272,
   "metadata": {},
   "outputs": [
    {
     "data": {
      "text/plain": [
       "LinearRegression(copy_X=True, fit_intercept=True, n_jobs=None, normalize=False)"
      ]
     },
     "execution_count": 272,
     "metadata": {},
     "output_type": "execute_result"
    }
   ],
   "source": [
    "lr.fit(X_train, y_train, w_train)"
   ]
  },
  {
   "cell_type": "code",
   "execution_count": 273,
   "metadata": {},
   "outputs": [
    {
     "name": "stdout",
     "output_type": "stream",
     "text": [
      "train -21058674.042366117\n",
      "test -2602271.639547858\n",
      "sub -2761693.8996196142\n"
     ]
    }
   ],
   "source": [
    "print('train', evaluate(lr.predict(X_train), y_train, w_train))\n",
    "print('test', evaluate(lr.predict(X_test), y_test, w_test))\n",
    "print('sub', evaluate(lr.predict(X_sub), y_sub, w_sub))"
   ]
  },
  {
   "cell_type": "markdown",
   "metadata": {},
   "source": [
    "<hr>"
   ]
  },
  {
   "cell_type": "code",
   "execution_count": null,
   "metadata": {},
   "outputs": [],
   "source": [
    "# fazer feature que pega o percentil de quando o item deu de dinheiro dentro de uma categoria\n",
    "# fazer features que pega dist de atual até o pico mais alto\n",
    "# dist do maior pico pro segundo\n",
    "# min(dist(terceiro, primeiro), dist(terceiro, segundo))"
   ]
  }
 ],
 "metadata": {
  "kernelspec": {
   "display_name": "Python 3",
   "language": "python",
   "name": "python3"
  },
  "language_info": {
   "codemirror_mode": {
    "name": "ipython",
    "version": 3
   },
   "file_extension": ".py",
   "mimetype": "text/x-python",
   "name": "python",
   "nbconvert_exporter": "python",
   "pygments_lexer": "ipython3",
   "version": "3.6.9"
  }
 },
 "nbformat": 4,
 "nbformat_minor": 4
}
