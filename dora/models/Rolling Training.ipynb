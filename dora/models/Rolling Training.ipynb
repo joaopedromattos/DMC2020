{
 "cells": [
  {
   "cell_type": "markdown",
   "metadata": {},
   "source": [
    "# LGBM - Training on a rolling dataset"
   ]
  },
  {
   "cell_type": "code",
   "execution_count": 1,
   "metadata": {},
   "outputs": [
    {
     "name": "stdout",
     "output_type": "stream",
     "text": [
      "1.0v.zip\r\n"
     ]
    }
   ],
   "source": [
    "import numpy as np\n",
    "import pandas as pd\n",
    "import seaborn as sns\n",
    "import matplotlib.pyplot as plt\n",
    "from sklearn.model_selection import train_test_split\n",
    "from sklearn.metrics import mean_squared_error as mse\n",
    "from utils import *\n",
    "import sys\n",
    "import xgboost as xgb\n",
    "import lightgbm as lgb\n",
    "from datetime import datetime\n",
    "\n",
    "NUMBER_OF_LAGS = 4\n",
    "\n",
    "sys.path.append(\"../../main/datasets/\")\n",
    "!ls  ../../main/datasets/"
   ]
  },
  {
   "cell_type": "markdown",
   "metadata": {},
   "source": [
    "<hr>"
   ]
  },
  {
   "cell_type": "markdown",
   "metadata": {},
   "source": [
    "## Defining metrics"
   ]
  },
  {
   "cell_type": "markdown",
   "metadata": {},
   "source": [
    "Baseline_score function"
   ]
  },
  {
   "cell_type": "code",
   "execution_count": 2,
   "metadata": {},
   "outputs": [],
   "source": [
    "def baseline_score(prediction, target, simulatedPrice):\n",
    "    prediction = prediction.astype(int)\n",
    "\n",
    "    return np.sum((prediction - np.maximum(prediction - target, 0) * 1.6)  * simulatedPrice)"
   ]
  },
  {
   "cell_type": "markdown",
   "metadata": {},
   "source": [
    "Evaluation Metric"
   ]
  },
  {
   "cell_type": "code",
   "execution_count": 3,
   "metadata": {},
   "outputs": [],
   "source": [
    "def feval(prediction, dtrain):\n",
    "    \n",
    "    prediction = prediction.astype(int)\n",
    "    target = dtrain.get_label()\n",
    "\n",
    "    simulatedPrice = dtrain.get_weight()\n",
    "    \n",
    "    return 'feval', np.sum((prediction - np.maximum(prediction - target, 0) * 1.6)  * simulatedPrice), True"
   ]
  },
  {
   "cell_type": "markdown",
   "metadata": {},
   "source": [
    "<hr>"
   ]
  },
  {
   "cell_type": "markdown",
   "metadata": {},
   "source": [
    "## Building our dataset\n",
    "This notebook makes this step cleaner than the previous versions. So It'll be tidier and shorter than before!"
   ]
  },
  {
   "cell_type": "code",
   "execution_count": 4,
   "metadata": {},
   "outputs": [
    {
     "name": "stdout",
     "output_type": "stream",
     "text": [
      "Sanity checks... (10463, 3) (10463, 8) (2181955, 5)\n"
     ]
    }
   ],
   "source": [
    "infos, items, orders = read_data(\"../../main/datasets/\")\n",
    "print(\"Sanity checks...\", infos.shape, items.shape, orders.shape)"
   ]
  },
  {
   "cell_type": "code",
   "execution_count": 5,
   "metadata": {},
   "outputs": [],
   "source": [
    "# Changing our time signatures\n",
    "process_time(orders)"
   ]
  },
  {
   "cell_type": "code",
   "execution_count": 6,
   "metadata": {},
   "outputs": [],
   "source": [
    "df = dataset_builder(orders, items)"
   ]
  },
  {
   "cell_type": "markdown",
   "metadata": {},
   "source": [
    "<hr>"
   ]
  },
  {
   "cell_type": "markdown",
   "metadata": {},
   "source": [
    "## Feature building"
   ]
  },
  {
   "cell_type": "markdown",
   "metadata": {},
   "source": [
    "**Adding 'is_new'**"
   ]
  },
  {
   "cell_type": "code",
   "execution_count": 7,
   "metadata": {},
   "outputs": [],
   "source": [
    "# This cell adds a feature responsible for indicating if in the current week\n",
    "# a given item has its first appearance.\n",
    "orders_sorted_by_week = orders.sort_values('group_backwards', ascending=False)\n",
    "weeks_grouped_by_items = orders_sorted_by_week.groupby('itemID', as_index=False)\n",
    "items_first_appearance = weeks_grouped_by_items.first()[['itemID', 'group_backwards']]\n",
    "\n",
    "items_first_appearance.rename(columns={'group_backwards':'first_appearance'}, inplace=True)\n",
    "\n",
    "df['is_new'] = 0\n",
    "\n",
    "df = pd.merge(df, items_first_appearance, left_on=['itemID'], right_on=['itemID'], how='left', validate='m:1')\n",
    "\n",
    "df.loc[df['first_appearance'] == df['group_backwards'], 'is_new'] = 1\n",
    "df.drop(columns=['first_appearance'], inplace=True)"
   ]
  },
  {
   "cell_type": "markdown",
   "metadata": {},
   "source": [
    "**Cumulative sale by category**"
   ]
  },
  {
   "cell_type": "code",
   "execution_count": 8,
   "metadata": {},
   "outputs": [],
   "source": [
    "# percentage_accum_cat_3 feature...\n",
    "df = cumulative_sale_by_category(df, category='category3')"
   ]
  },
  {
   "cell_type": "markdown",
   "metadata": {},
   "source": [
    "**Time Encoding**"
   ]
  },
  {
   "cell_type": "code",
   "execution_count": 9,
   "metadata": {},
   "outputs": [],
   "source": [
    "# Encoding our weeks as a series of sines and cosines...\n",
    "# This function will consider our period as a semester in a year,\n",
    "# so we can try other types of time encoding later!\n",
    "df = time_encoder(df, 'group_backwards', 26)"
   ]
  },
  {
   "cell_type": "markdown",
   "metadata": {},
   "source": [
    "**Lags and diffs**"
   ]
  },
  {
   "cell_type": "code",
   "execution_count": 10,
   "metadata": {},
   "outputs": [],
   "source": [
    "# This cell lags and diffs our feature 'orderSum'\n",
    "shifting = df.copy()\n",
    "\n",
    "for i in range(1, NUMBER_OF_LAGS + 1):\n",
    "    # Carrying the data of weeks t-1\n",
    "    shifting[f'orderSum_{i}'] = shifting.groupby('itemID')['orderSum'].shift(i)\n",
    "\n",
    "    \n",
    "    # Getting the difference of the orders and promotions between weeks t-1 and t-2...\n",
    "    shifting[f'orderSum_diff_{i}'] = shifting.groupby('itemID')[f'orderSum_{i}'].diff()\n",
    "    "
   ]
  },
  {
   "cell_type": "markdown",
   "metadata": {},
   "source": [
    "**Rolling window \"orderSum\"**"
   ]
  },
  {
   "cell_type": "code",
   "execution_count": 11,
   "metadata": {},
   "outputs": [
    {
     "name": "stdout",
     "output_type": "stream",
     "text": [
      "CPU times: user 38.9 s, sys: 273 ms, total: 39.2 s\n",
      "Wall time: 39.5 s\n"
     ]
    }
   ],
   "source": [
    "%%time\n",
    "# This cell creates rolling-window features based on 'orderSum' in our dataset!\n",
    "item_group = shifting.groupby([\"itemID\", \"group_backwards\"]).agg({'orderSum':'sum'})\n",
    "\n",
    "# We'll .shift(-1) because it sorts our \"group_backwards\", \n",
    "# so doing .shift(1) would cause a HUGE dataleak.\n",
    "aux_shifting = item_group.groupby('itemID')[['orderSum']].shift(-1)\n",
    "\n",
    "aux_shifting.sort_values(['itemID', 'group_backwards'], ascending=[True, False], inplace=True)\n",
    "\n",
    "for i in range(3):\n",
    "    rolled_window = aux_shifting.groupby(['itemID'], as_index=False)[['orderSum']].rolling(2 ** i).mean()\n",
    "    rolled_window.rename(columns={'orderSum':f\"orderSum_mean_rolled_{i}\"}, inplace=True)\n",
    "    shifting = pd.merge(shifting, rolled_window, left_on=['itemID', 'group_backwards'], right_on=['itemID', 'group_backwards'])"
   ]
  },
  {
   "cell_type": "code",
   "execution_count": 12,
   "metadata": {},
   "outputs": [],
   "source": [
    "# LGBM Says on docs that it automatically handles zero values as NaN,\n",
    "# so we'll keep this standard...\n",
    "shifting.fillna(0, inplace=True)"
   ]
  },
  {
   "cell_type": "markdown",
   "metadata": {},
   "source": [
    "<hr>"
   ]
  },
  {
   "cell_type": "markdown",
   "metadata": {},
   "source": [
    "## Maximum error\n",
    "The maximum error we could get in this dataset would be just guessing the mean of our sales from weeks 1 to 12, and that's what the cell below is computing."
   ]
  },
  {
   "cell_type": "code",
   "execution_count": 13,
   "metadata": {},
   "outputs": [
    {
     "name": "stdout",
     "output_type": "stream",
     "text": [
      "Guessing the mean of 'orderSum' for all items in target 118.20105838913783\n"
     ]
    }
   ],
   "source": [
    "worst_possible_prediction = shifting.loc[shifting.group_backwards > 1]['orderSum'].mean()\n",
    "prediction = np.full(shifting.loc[shifting.group_backwards == 1]['orderSum'].shape, worst_possible_prediction) # Array filled with the mean...\n",
    "target = shifting.loc[shifting.group_backwards == 1]['orderSum']\n",
    "print(\"Guessing the mean of 'orderSum' for all items in target\", mse(target, prediction) ** 0.5)"
   ]
  },
  {
   "cell_type": "markdown",
   "metadata": {},
   "source": [
    "<hr>"
   ]
  },
  {
   "cell_type": "markdown",
   "metadata": {},
   "source": [
    "## Dataset Splitting (Train until week 3 / Val. week 2/ Test week 1)\n",
    "All my experiments will use weeks 13 to 3 as a train set, week 2 as our validation set and week 1 as a test set."
   ]
  },
  {
   "cell_type": "code",
   "execution_count": 22,
   "metadata": {},
   "outputs": [
    {
     "name": "stdout",
     "output_type": "stream",
     "text": [
      "TRAIN UNTIL : 5 VAL : 4\n",
      "Training until validation scores don't improve for 5 rounds\n",
      "[5]\ttraining's rmse: 38.9961\ttraining's feval: 4.07323e+06\tvalid_1's rmse: 38.6086\tvalid_1's feval: 451570\n",
      "[10]\ttraining's rmse: 38.7975\ttraining's feval: 4.69353e+06\tvalid_1's rmse: 38.3307\tvalid_1's feval: 500216\n",
      "[15]\ttraining's rmse: 38.6513\ttraining's feval: 5.09483e+06\tvalid_1's rmse: 38.1377\tvalid_1's feval: 543930\n",
      "[20]\ttraining's rmse: 40.5647\ttraining's feval: -4.81485e+06\tvalid_1's rmse: 40.3249\tvalid_1's feval: -529841\n",
      "Early stopping, best iteration is:\n",
      "[15]\ttraining's rmse: 38.6513\ttraining's feval: 5.09483e+06\tvalid_1's rmse: 38.1377\tvalid_1's feval: 543930\n",
      "TRAIN UNTIL : 4 VAL : 3\n",
      "Training until validation scores don't improve for 5 rounds\n",
      "[5]\ttraining's rmse: 38.9036\ttraining's feval: 4.6946e+06\tvalid_1's rmse: 44.2737\tvalid_1's feval: 469385\n",
      "[10]\ttraining's rmse: 38.6865\ttraining's feval: 5.50949e+06\tvalid_1's rmse: 43.9844\tvalid_1's feval: 604171\n",
      "[15]\ttraining's rmse: 38.6857\ttraining's feval: 5.51336e+06\tvalid_1's rmse: 43.9838\tvalid_1's feval: 605657\n",
      "Early stopping, best iteration is:\n",
      "[12]\ttraining's rmse: 38.6859\ttraining's feval: 5.51336e+06\tvalid_1's rmse: 43.9839\tvalid_1's feval: 605657\n",
      "TRAIN UNTIL : 3 VAL : 2\n",
      "Training until validation scores don't improve for 5 rounds\n",
      "[5]\ttraining's rmse: 39.4147\ttraining's feval: 5.28139e+06\tvalid_1's rmse: 44.5538\tvalid_1's feval: 303195\n",
      "[10]\ttraining's rmse: 38.5596\ttraining's feval: 8.13172e+06\tvalid_1's rmse: 43.6461\tvalid_1's feval: 607847\n",
      "[15]\ttraining's rmse: 38.2531\ttraining's feval: 8.88644e+06\tvalid_1's rmse: 43.3013\tvalid_1's feval: 719913\n",
      "Early stopping, best iteration is:\n",
      "[11]\ttraining's rmse: 38.2505\ttraining's feval: 8.92272e+06\tvalid_1's rmse: 43.2983\tvalid_1's feval: 721535\n",
      "TRAIN UNTIL : 2 VAL : 1\n",
      "Training until validation scores don't improve for 5 rounds\n",
      "[5]\ttraining's rmse: 39.6403\ttraining's feval: 6.24097e+06\tvalid_1's rmse: 43.0819\tvalid_1's feval: 442379\n",
      "[10]\ttraining's rmse: 38.2287\ttraining's feval: 1.01909e+07\tvalid_1's rmse: 41.7861\tvalid_1's feval: 795407\n",
      "[15]\ttraining's rmse: 38.2346\ttraining's feval: 1.01778e+07\tvalid_1's rmse: 41.7937\tvalid_1's feval: 795713\n",
      "Early stopping, best iteration is:\n",
      "[10]\ttraining's rmse: 38.2287\ttraining's feval: 1.01909e+07\tvalid_1's rmse: 41.7861\tvalid_1's feval: 795407\n"
     ]
    }
   ],
   "source": [
    "results = []\n",
    "for i in range(5, 1, -1):\n",
    "    print(f\"TRAIN UNTIL : {i} VAL : {i - 1}\")\n",
    "    train = shifting.loc[shifting.group_backwards >= i]\n",
    "    val = shifting.loc[shifting.group_backwards == i - 1]\n",
    "    # test = shifting.loc[shifting.group_backwards == 1]\n",
    "\n",
    "    weights = infos.set_index('itemID')['simulationPrice'].to_dict()\n",
    "\n",
    "    w_train = train['itemID'].map(weights)\n",
    "    w_val = val['itemID'].map(weights)\n",
    "\n",
    "    # I recommend to the other members of the team keeping the\n",
    "    # datatypes of our datasets as Pandas DataFrames instead of Numpy,\n",
    "    # since It will easier to use Boosting Analysis frameworks\n",
    "    y_train = train['orderSum']\n",
    "    y_val = val['orderSum']\n",
    "    X_train = train.drop(columns=[\"orderSum\"])\n",
    "    X_val = val.drop(columns=[\"orderSum\"])\n",
    "\n",
    "    params = {\n",
    "    #           \"objective\" : \"poisson\",\n",
    "              \"objective\" : \"l1\",\n",
    "              \"metric\" :\"rmse\",\n",
    "              \"learning_rate\" : 0.5,\n",
    "              'verbosity': 1,\n",
    "              'max_depth': 6,\n",
    "              'num_leaves': 32,\n",
    "              \"min_data_in_leaf\":3000,\n",
    "             }\n",
    "\n",
    "    lgbtrain = lgb.Dataset(X_train, label = y_train, weight=w_train, categorical_feature=[2, 3, 5, 6, 7, 9])\n",
    "    lgbvalid = lgb.Dataset(X_val, label = y_val, weight=w_val, categorical_feature=[2, 3, 5, 6, 7, 9])\n",
    "\n",
    "    num_round = 1000\n",
    "    model = lgb.train(params,\n",
    "                      lgbtrain,\n",
    "                      num_round,\n",
    "                      valid_sets = [lgbtrain, lgbvalid], \n",
    "                      verbose_eval=5,\n",
    "                      early_stopping_rounds=5,\n",
    "    #                   fobj=objective,\n",
    "                      feval=feval,\n",
    "                     )\n",
    "    results.append(model.best_score)\n"
   ]
  },
  {
   "cell_type": "code",
   "execution_count": 26,
   "metadata": {},
   "outputs": [
    {
     "name": "stdout",
     "output_type": "stream",
     "text": [
      "543930.0925419688\n",
      "605657.2512285709\n",
      "721535.2644547463\n",
      "795406.8992988109\n"
     ]
    },
    {
     "data": {
      "text/plain": [
       "[defaultdict(collections.OrderedDict,\n",
       "             {'training': OrderedDict([('rmse', 38.651270397474605),\n",
       "                           ('feval', 5094827.402472442)]),\n",
       "              'valid_1': OrderedDict([('rmse', 38.13770059683484),\n",
       "                           ('feval', 543930.0925419688)])}),\n",
       " defaultdict(collections.OrderedDict,\n",
       "             {'training': OrderedDict([('rmse', 38.68589233336388),\n",
       "                           ('feval', 5513356.705791914)]),\n",
       "              'valid_1': OrderedDict([('rmse', 43.98391130780742),\n",
       "                           ('feval', 605657.2512285709)])}),\n",
       " defaultdict(collections.OrderedDict,\n",
       "             {'training': OrderedDict([('rmse', 38.25045585284291),\n",
       "                           ('feval', 8922722.037940454)]),\n",
       "              'valid_1': OrderedDict([('rmse', 43.298291976505006),\n",
       "                           ('feval', 721535.2644547463)])}),\n",
       " defaultdict(collections.OrderedDict,\n",
       "             {'training': OrderedDict([('rmse', 38.22869376206565),\n",
       "                           ('feval', 10190880.621427393)]),\n",
       "              'valid_1': OrderedDict([('rmse', 41.78609209673416),\n",
       "                           ('feval', 795406.8992988109)])})]"
      ]
     },
     "execution_count": 26,
     "metadata": {},
     "output_type": "execute_result"
    }
   ],
   "source": [
    "for i in results:\n",
    "    print(i['valid_1']['feval'])\n",
    "results"
   ]
  },
  {
   "cell_type": "markdown",
   "metadata": {},
   "source": [
    "<hr>"
   ]
  },
  {
   "cell_type": "markdown",
   "metadata": {},
   "source": [
    "## Dataset Splitting (Retraining until week 2 and test with week 1)\n",
    "All my experiments will use weeks 13 to 2 as a train set and week 1 as test"
   ]
  },
  {
   "cell_type": "code",
   "execution_count": 24,
   "metadata": {},
   "outputs": [],
   "source": [
    "train = shifting.loc[shifting.group_backwards >= 2]\n",
    "test = shifting.loc[shifting.group_backwards == 1]\n",
    "\n",
    "weights = infos.set_index('itemID')['simulationPrice'].to_dict()\n",
    "\n",
    "w_train = train['itemID'].map(weights)"
   ]
  },
  {
   "cell_type": "code",
   "execution_count": 25,
   "metadata": {},
   "outputs": [],
   "source": [
    "# I recommend to the other members of the team keeping the\n",
    "# datatypes of our datasets as Pandas DataFrames instead of Numpy,\n",
    "# since It will easier to use Boosting Analysis frameworks\n",
    "y_train = train['orderSum']\n",
    "X_train = train.drop(columns=[\"orderSum\"])"
   ]
  },
  {
   "cell_type": "code",
   "execution_count": 27,
   "metadata": {},
   "outputs": [
    {
     "name": "stdout",
     "output_type": "stream",
     "text": [
      "Training until validation scores don't improve for 5 rounds\n",
      "[5]\ttrain's rmse: 39.566\ttrain's feval: 6.51117e+06\n",
      "[10]\ttrain's rmse: 39.1716\ttrain's feval: 7.95597e+06\n",
      "Did not meet early stopping. Best iteration is:\n",
      "[10]\ttrain's rmse: 39.1716\ttrain's feval: 7.95597e+06\n"
     ]
    }
   ],
   "source": [
    "\n",
    "params = {\n",
    "#           \"objective\" : \"poisson\",\n",
    "          \"objective\" : \"l1\",\n",
    "          \"metric\" :\"rmse\",\n",
    "          \"learning_rate\" : 0.5,\n",
    "          'verbosity': 1,\n",
    "          'max_depth': 7,\n",
    "          'num_leaves': 15,\n",
    "          \"min_data_in_leaf\":3500,\n",
    "         }\n",
    "\n",
    "lgbtrain = lgb.Dataset(X_train, label = y_train, weight=w_train, categorical_feature=[2, 3, 5, 6, 7, 9])\n",
    "\n",
    "model = lgb.train(params,\n",
    "                  lgbtrain,\n",
    "                  model.best_iteration,\n",
    "                  valid_sets = [lgbtrain], \n",
    "                  valid_names = ['train'],\n",
    "                  verbose_eval=5,\n",
    "                  early_stopping_rounds=5,\n",
    "#                   fobj=objective,\n",
    "                  feval=feval,\n",
    "                  \n",
    "                 )"
   ]
  },
  {
   "cell_type": "markdown",
   "metadata": {},
   "source": [
    "<hr>"
   ]
  },
  {
   "cell_type": "markdown",
   "metadata": {},
   "source": [
    "### Utilities"
   ]
  },
  {
   "cell_type": "markdown",
   "metadata": {},
   "source": [
    "**Predicting at test time**"
   ]
  },
  {
   "cell_type": "code",
   "execution_count": 53,
   "metadata": {},
   "outputs": [],
   "source": [
    "y_test = test['orderSum']\n",
    "X_test = test.drop(columns=[\"orderSum\"])\n",
    "final_predictions = model.predict(X_test)"
   ]
  },
  {
   "cell_type": "code",
   "execution_count": 54,
   "metadata": {},
   "outputs": [
    {
     "data": {
      "text/plain": [
       "array([0.78125, 0.5    , 0.5    , ..., 0.     , 0.     , 0.     ])"
      ]
     },
     "execution_count": 54,
     "metadata": {},
     "output_type": "execute_result"
    }
   ],
   "source": [
    "final_predictions"
   ]
  },
  {
   "cell_type": "code",
   "execution_count": 55,
   "metadata": {},
   "outputs": [],
   "source": [
    "final_predictions[final_predictions < 0] = 0"
   ]
  },
  {
   "cell_type": "code",
   "execution_count": 56,
   "metadata": {},
   "outputs": [
    {
     "data": {
      "text/plain": [
       "array([0.78125, 0.5    , 0.5    , ..., 0.     , 0.     , 0.     ])"
      ]
     },
     "execution_count": 56,
     "metadata": {},
     "output_type": "execute_result"
    }
   ],
   "source": [
    "final_predictions"
   ]
  },
  {
   "cell_type": "code",
   "execution_count": 57,
   "metadata": {},
   "outputs": [
    {
     "data": {
      "text/plain": [
       "632989.424"
      ]
     },
     "execution_count": 57,
     "metadata": {},
     "output_type": "execute_result"
    }
   ],
   "source": [
    "baseline_score(final_predictions, y_test.values, infos['simulationPrice'])"
   ]
  },
  {
   "cell_type": "markdown",
   "metadata": {},
   "source": [
    "# Post Processing (based on Bruno's 1.8 Notebook)"
   ]
  },
  {
   "cell_type": "code",
   "execution_count": 45,
   "metadata": {},
   "outputs": [],
   "source": [
    "# Weekpair is negative, so this works:\n",
    "first_fortnight_item = orders.sort_values(\"group_backwards\",\n",
    "                                     ascending=False)\\\n",
    "                          .groupby([\"itemID\"])[\"group_backwards\"].first()"
   ]
  },
  {
   "cell_type": "code",
   "execution_count": 46,
   "metadata": {},
   "outputs": [],
   "source": [
    "new_items_value = 10  # The mode seems too high, so go with 10...\n",
    "idx = X_test[\"itemID\"].isin(first_fortnight_item[first_fortnight_item == 1].index)\n",
    "final_predictions[idx] = new_items_value"
   ]
  },
  {
   "cell_type": "markdown",
   "metadata": {},
   "source": [
    "**Baseline calculation**"
   ]
  },
  {
   "cell_type": "code",
   "execution_count": 47,
   "metadata": {},
   "outputs": [
    {
     "data": {
      "text/plain": [
       "472166.99399999995"
      ]
     },
     "execution_count": 47,
     "metadata": {},
     "output_type": "execute_result"
    }
   ],
   "source": [
    "baseline_score(final_predictions, y_test.values, infos['simulationPrice'])"
   ]
  }
 ],
 "metadata": {
  "kernelspec": {
   "display_name": "Python 3",
   "language": "python",
   "name": "python3"
  },
  "language_info": {
   "codemirror_mode": {
    "name": "ipython",
    "version": 3
   },
   "file_extension": ".py",
   "mimetype": "text/x-python",
   "name": "python",
   "nbconvert_exporter": "python",
   "pygments_lexer": "ipython3",
   "version": "3.8.3"
  },
  "toc": {
   "base_numbering": 1,
   "nav_menu": {},
   "number_sections": false,
   "sideBar": false,
   "skip_h1_title": false,
   "title_cell": "Table of Contents",
   "title_sidebar": "Contents",
   "toc_cell": true,
   "toc_position": {},
   "toc_section_display": true,
   "toc_window_display": false
  }
 },
 "nbformat": 4,
 "nbformat_minor": 4
}
