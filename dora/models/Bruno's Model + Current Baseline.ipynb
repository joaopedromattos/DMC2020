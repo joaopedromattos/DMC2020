{
 "cells": [
  {
   "cell_type": "markdown",
   "metadata": {},
   "source": [
    "# LGBM - New Feature + Baseline Rolling Window"
   ]
  },
  {
   "cell_type": "code",
   "execution_count": 1,
   "metadata": {},
   "outputs": [
    {
     "name": "stdout",
     "output_type": "stream",
     "text": [
      "1.0v.zip\r\n"
     ]
    }
   ],
   "source": [
    "import numpy as np\n",
    "import pandas as pd\n",
    "import seaborn as sns\n",
    "import matplotlib.pyplot as plt\n",
    "from sklearn.model_selection import train_test_split\n",
    "from sklearn.metrics import mean_squared_error as mse\n",
    "from utils import *\n",
    "import sys\n",
    "import xgboost as xgb\n",
    "import lightgbm as lgb\n",
    "from datetime import datetime\n",
    "\n",
    "NUMBER_OF_LAGS = 4\n",
    "\n",
    "sys.path.append(\"../../main/datasets/\")\n",
    "!ls  ../../main/datasets/"
   ]
  },
  {
   "cell_type": "markdown",
   "metadata": {},
   "source": [
    "<hr>"
   ]
  },
  {
   "cell_type": "markdown",
   "metadata": {},
   "source": [
    "## Defining metrics"
   ]
  },
  {
   "cell_type": "markdown",
   "metadata": {},
   "source": [
    "Baseline_score function"
   ]
  },
  {
   "cell_type": "code",
   "execution_count": 2,
   "metadata": {},
   "outputs": [],
   "source": [
    "def baseline_score(prediction, target, simulatedPrice):\n",
    "    prediction = prediction.astype(int)\n",
    "\n",
    "    return np.sum((prediction - np.maximum(prediction - target, 0) * 1.6)  * simulatedPrice)"
   ]
  },
  {
   "cell_type": "markdown",
   "metadata": {},
   "source": [
    "Evaluation Metric"
   ]
  },
  {
   "cell_type": "code",
   "execution_count": 3,
   "metadata": {},
   "outputs": [],
   "source": [
    "def feval(prediction, dtrain):\n",
    "    \n",
    "    prediction = prediction.astype(int)\n",
    "    target = dtrain.get_label()\n",
    "\n",
    "    simulatedPrice = dtrain.get_weight()\n",
    "    \n",
    "    return 'feval', np.sum((prediction - np.maximum(prediction - target, 0) * 1.6)  * simulatedPrice), True"
   ]
  },
  {
   "cell_type": "markdown",
   "metadata": {},
   "source": [
    "<hr>"
   ]
  },
  {
   "cell_type": "markdown",
   "metadata": {},
   "source": [
    "## Building our dataset\n",
    "This notebook makes this step cleaner than the previous versions. So It'll be tidier and shorter than before!"
   ]
  },
  {
   "cell_type": "code",
   "execution_count": 4,
   "metadata": {},
   "outputs": [
    {
     "name": "stdout",
     "output_type": "stream",
     "text": [
      "Sanity checks... (10463, 3) (10463, 8) (2181955, 5)\n"
     ]
    }
   ],
   "source": [
    "infos, items, orders = read_data(\"../../main/datasets/\")\n",
    "print(\"Sanity checks...\", infos.shape, items.shape, orders.shape)"
   ]
  },
  {
   "cell_type": "code",
   "execution_count": 5,
   "metadata": {},
   "outputs": [],
   "source": [
    "# Changing our time signatures\n",
    "process_time(orders)"
   ]
  },
  {
   "cell_type": "code",
   "execution_count": 6,
   "metadata": {},
   "outputs": [],
   "source": [
    "df = dataset_builder(orders, items)"
   ]
  },
  {
   "cell_type": "markdown",
   "metadata": {},
   "source": [
    "<hr>"
   ]
  },
  {
   "cell_type": "markdown",
   "metadata": {},
   "source": [
    "## Feature building"
   ]
  },
  {
   "cell_type": "markdown",
   "metadata": {},
   "source": [
    "**Adding 'is_new'**"
   ]
  },
  {
   "cell_type": "code",
   "execution_count": 7,
   "metadata": {},
   "outputs": [],
   "source": [
    "# This cell adds a feature responsible for indicating if in the current week\n",
    "# a given item has its first appearance.\n",
    "orders_sorted_by_week = orders.sort_values('group_backwards', ascending=False)\n",
    "weeks_grouped_by_items = orders_sorted_by_week.groupby('itemID', as_index=False)\n",
    "items_first_appearance = weeks_grouped_by_items.first()[['itemID', 'group_backwards']]\n",
    "\n",
    "items_first_appearance.rename(columns={'group_backwards':'first_appearance'}, inplace=True)\n",
    "\n",
    "df['is_new'] = 0\n",
    "\n",
    "df = pd.merge(df, items_first_appearance, left_on=['itemID'], right_on=['itemID'], how='left', validate='m:1')\n",
    "\n",
    "df.loc[df['first_appearance'] == df['group_backwards'], 'is_new'] = 1\n",
    "df.drop(columns=['first_appearance'], inplace=True)"
   ]
  },
  {
   "cell_type": "markdown",
   "metadata": {},
   "source": [
    "**How many new items by category and manufacturer (Tobias's contribuition)**"
   ]
  },
  {
   "cell_type": "code",
   "execution_count": 8,
   "metadata": {},
   "outputs": [],
   "source": [
    "new_manufacturers = df.groupby(['group_backwards', 'manufacturer']).is_new.sum().reset_index().rename(columns={'is_new':'new_manufacturers'})\n",
    "df = pd.merge(df, new_manufacturers, left_on=['group_backwards', 'manufacturer'], right_on=['group_backwards', 'manufacturer'], how='left', validate='m:1')"
   ]
  },
  {
   "cell_type": "code",
   "execution_count": 9,
   "metadata": {},
   "outputs": [],
   "source": [
    "new_cat3 = df.groupby(['group_backwards', 'category3']).is_new.sum().reset_index().rename(columns={'is_new':'new_cat3'})\n",
    "df = pd.merge(df, new_cat3, left_on=['group_backwards', 'category3'], right_on=['group_backwards', 'category3'], how='left', validate='m:1')"
   ]
  },
  {
   "cell_type": "code",
   "execution_count": 10,
   "metadata": {},
   "outputs": [],
   "source": [
    "new_cat2 = df.groupby(['group_backwards', 'category2']).is_new.sum().reset_index().rename(columns={'is_new':'new_cat2'})\n",
    "df = pd.merge(df, new_cat2, left_on=['group_backwards', 'category2'], right_on=['group_backwards', 'category2'], how='left', validate='m:1')"
   ]
  },
  {
   "cell_type": "code",
   "execution_count": 11,
   "metadata": {},
   "outputs": [],
   "source": [
    "new_cat1 = df.groupby(['group_backwards', 'category1']).is_new.sum().reset_index().rename(columns={'is_new':'new_cat1'})\n",
    "df = pd.merge(df, new_cat1, left_on=['group_backwards', 'category1'], right_on=['group_backwards', 'category1'], how='left', validate='m:1')"
   ]
  },
  {
   "cell_type": "markdown",
   "metadata": {},
   "source": [
    "**Cumulative sale by category**"
   ]
  },
  {
   "cell_type": "code",
   "execution_count": 12,
   "metadata": {},
   "outputs": [],
   "source": [
    "# percentage_accum_cat_3 feature...\n",
    "df = cumulative_sale_by_category(df, category='category3')"
   ]
  },
  {
   "cell_type": "markdown",
   "metadata": {},
   "source": [
    "**Time Encoding**"
   ]
  },
  {
   "cell_type": "code",
   "execution_count": 13,
   "metadata": {},
   "outputs": [],
   "source": [
    "# Encoding our weeks as a series of sines and cosines...\n",
    "# This function will consider our period as a semester in a year,\n",
    "# so we can try other types of time encoding later!\n",
    "df = time_encoder(df, 'group_backwards', 26)"
   ]
  },
  {
   "cell_type": "markdown",
   "metadata": {},
   "source": [
    "**Lags and diffs**"
   ]
  },
  {
   "cell_type": "code",
   "execution_count": 14,
   "metadata": {},
   "outputs": [],
   "source": [
    "# This cell lags and diffs our feature 'orderSum'\n",
    "shifting = df.copy()\n",
    "\n",
    "for i in range(1, NUMBER_OF_LAGS + 1):\n",
    "    # Carrying the data of weeks t-1\n",
    "    shifting[f'orderSum_{i}'] = shifting.groupby('itemID')['orderSum'].shift(i)\n",
    "\n",
    "    \n",
    "    # Getting the difference of the orders and promotions between weeks t-1 and t-2...\n",
    "    shifting[f'orderSum_diff_{i}'] = shifting.groupby('itemID')[f'orderSum_{i}'].diff()\n",
    "    "
   ]
  },
  {
   "cell_type": "markdown",
   "metadata": {},
   "source": [
    "**Rolling window \"orderSum\"**"
   ]
  },
  {
   "cell_type": "code",
   "execution_count": null,
   "metadata": {},
   "outputs": [],
   "source": [
    "%%time\n",
    "# This cell creates rolling-window features based on 'orderSum' in our dataset!\n",
    "item_group = shifting.groupby([\"itemID\", \"group_backwards\"]).agg({'orderSum':'sum'})\n",
    "\n",
    "# We'll .shift(-1) because it sorts our \"group_backwards\", \n",
    "# so doing .shift(1) would cause a HUGE dataleak.\n",
    "aux_shifting = item_group.groupby('itemID')[['orderSum']].shift(-1)\n",
    "\n",
    "aux_shifting.sort_values(['itemID', 'group_backwards'], ascending=[True, False], inplace=True)\n",
    "\n",
    "for i in range(3):\n",
    "    rolled_window = aux_shifting.groupby(['itemID'], as_index=False)[['orderSum']].rolling(2 ** i).mean()\n",
    "    rolled_window.rename(columns={'orderSum':f\"orderSum_mean_rolled_{i}\"}, inplace=True)\n",
    "    shifting = pd.merge(shifting, rolled_window, left_on=['itemID', 'group_backwards'], right_on=['itemID', 'group_backwards'])"
   ]
  },
  {
   "cell_type": "code",
   "execution_count": null,
   "metadata": {},
   "outputs": [],
   "source": [
    "# LGBM Says on docs that it automatically handles zero values as NaN,\n",
    "# so we'll keep this standard...\n",
    "shifting.fillna(0, inplace=True)"
   ]
  },
  {
   "cell_type": "markdown",
   "metadata": {},
   "source": [
    "<hr>"
   ]
  },
  {
   "cell_type": "markdown",
   "metadata": {},
   "source": [
    "## Maximum error\n",
    "The maximum error we could get in this dataset would be just guessing the mean of our sales from weeks 1 to 12, and that's what the cell below is computing."
   ]
  },
  {
   "cell_type": "code",
   "execution_count": null,
   "metadata": {},
   "outputs": [],
   "source": [
    "worst_possible_prediction = shifting.loc[shifting.group_backwards > 1]['orderSum'].mean()\n",
    "prediction = np.full(shifting.loc[shifting.group_backwards == 1]['orderSum'].shape, worst_possible_prediction) # Array filled with the mean...\n",
    "target = shifting.loc[shifting.group_backwards == 1]['orderSum']\n",
    "print(\"Guessing the mean of 'orderSum' for all items in target\", mse(target, prediction) ** 0.5)"
   ]
  },
  {
   "cell_type": "markdown",
   "metadata": {},
   "source": [
    "<hr>"
   ]
  },
  {
   "cell_type": "markdown",
   "metadata": {},
   "source": [
    "## Dataset Splitting (Train until week 3 / Val. week 2/ Test week 1)\n",
    "All my experiments will use weeks 13 to 3 as a train set, week 2 as our validation set and week 1 as a test set."
   ]
  },
  {
   "cell_type": "code",
   "execution_count": null,
   "metadata": {},
   "outputs": [],
   "source": [
    "train = shifting.loc[shifting.group_backwards >= 3]\n",
    "val = shifting.loc[shifting.group_backwards == 2]\n",
    "test = shifting.loc[shifting.group_backwards == 1]\n",
    "\n",
    "weights = infos.set_index('itemID')['simulationPrice'].to_dict()\n",
    "\n",
    "w_train = train['itemID'].map(weights)\n",
    "w_val = val['itemID'].map(weights)"
   ]
  },
  {
   "cell_type": "code",
   "execution_count": null,
   "metadata": {},
   "outputs": [],
   "source": [
    "# I recommend to the other members of the team keeping the\n",
    "# datatypes of our datasets as Pandas DataFrames instead of Numpy,\n",
    "# since It will easier to use Boosting Analysis frameworks\n",
    "y_train = train['orderSum']\n",
    "y_val = val['orderSum']\n",
    "X_train = train.drop(columns=[\"orderSum\"])\n",
    "X_val = val.drop(columns=[\"orderSum\"])"
   ]
  },
  {
   "cell_type": "code",
   "execution_count": null,
   "metadata": {
    "scrolled": true
   },
   "outputs": [],
   "source": [
    "params = {\n",
    "#           \"objective\" : \"poisson\",\n",
    "          \"objective\" : \"l1\",\n",
    "          \"metric\" :\"rmse\",\n",
    "          \"learning_rate\" : 0.6,\n",
    "          'verbosity': 1,\n",
    "          'max_depth': 6,\n",
    "          'num_leaves': 32,\n",
    "          \"min_data_in_leaf\":2000,\n",
    "         }\n",
    "\n",
    "lgbtrain = lgb.Dataset(X_train, label = y_train, weight=w_train, categorical_feature=[2, 3, 5, 6, 7, 9])\n",
    "lgbvalid = lgb.Dataset(X_val, label = y_val, weight=w_val, categorical_feature=[2, 3, 5, 6, 7, 9])\n",
    "\n",
    "num_round = 1000\n",
    "model = lgb.train(params,\n",
    "                  lgbtrain,\n",
    "                  num_round,\n",
    "                  valid_sets = [lgbtrain, lgbvalid], \n",
    "                  verbose_eval=5,\n",
    "                  early_stopping_rounds=5,\n",
    "#                   fobj=objective,\n",
    "                  feval=feval,\n",
    "                 )"
   ]
  },
  {
   "cell_type": "markdown",
   "metadata": {},
   "source": [
    "**New items model with validation**"
   ]
  },
  {
   "cell_type": "code",
   "execution_count": null,
   "metadata": {
    "scrolled": true
   },
   "outputs": [],
   "source": [
    "# Taking the first appearance of each item...\n",
    "first_fortnight_item = orders.sort_values(\"group_backwards\",\n",
    "                                     ascending=False)\\\n",
    "                          .groupby([\"itemID\"])[\"group_backwards\"].first()\n",
    "first_fortnight_item = first_fortnight_item.reset_index()"
   ]
  },
  {
   "cell_type": "code",
   "execution_count": null,
   "metadata": {},
   "outputs": [],
   "source": [
    "new_items_train = pd.merge(first_fortnight_item, train, on=[\"itemID\", \"group_backwards\"],\n",
    "                  how=\"inner\", validate=\"1:1\")\n",
    "new_items_val = pd.merge(first_fortnight_item, val, on=[\"itemID\", \"group_backwards\"],\n",
    "                  how=\"inner\", validate=\"1:1\")\n",
    "new_items_test = pd.merge(first_fortnight_item, test, on=[\"itemID\", \"group_backwards\"],\n",
    "                  how=\"inner\", validate=\"1:1\")\n",
    "\n",
    "# Check we didn't make mistakes...\n",
    "assert len(new_items_train) + len(new_items_val) + len(new_items_test) == len(first_fortnight_item)\n",
    "assert len(first_fortnight_item.query(\"group_backwards >= 3\")) == len(new_items_train)\n",
    "assert len(first_fortnight_item.query(\"group_backwards == 2\")) == len(new_items_val)\n",
    "assert len(first_fortnight_item.query(\"group_backwards == 1\")) == len(new_items_test)\n",
    "\n",
    "len(new_items_train), len(new_items_val), len(new_items_test)"
   ]
  },
  {
   "cell_type": "code",
   "execution_count": null,
   "metadata": {},
   "outputs": [],
   "source": [
    "w_new_items_train = new_items_train['itemID'].map(weights)\n",
    "w_new_items_val = new_items_val['itemID'].map(weights)"
   ]
  },
  {
   "cell_type": "code",
   "execution_count": null,
   "metadata": {},
   "outputs": [],
   "source": [
    "y_new_items_train = new_items_train['orderSum']\n",
    "y_new_items_val = new_items_val['orderSum']\n",
    "y_new_items_test = new_items_test['orderSum']\n",
    "# Maybe other features don't make sense\n",
    "X_new_items_train = new_items_train.drop(columns=[\"orderSum\", \"itemID\", \"is_new\"])\n",
    "X_new_items_val = new_items_val.drop(columns=[\"orderSum\", \"itemID\", \"is_new\"])\n",
    "X_new_items_test = new_items_test.drop(columns=[\"orderSum\", \"itemID\", \"is_new\"])\n",
    "# Make sure to change the categorical features if you drop more cols\n",
    "cat_feats = [1, 2, 4, 5, 6]"
   ]
  },
  {
   "cell_type": "code",
   "execution_count": null,
   "metadata": {
    "scrolled": true
   },
   "outputs": [],
   "source": [
    "params2 = {\n",
    "#           \"objective\" : \"poisson\",\n",
    "          #\"objective\" : \"l1\",\n",
    "          \"objective\" : \"l2\", # L2 works MUCH BETTER than L1\n",
    "          \"metric\" :\"rmse\",\n",
    "          #\"learning_rate\" : 0.5,\n",
    "          'verbosity': 1,\n",
    "          'max_depth': 5,\n",
    "          #'num_leaves': 32,\n",
    "#           \"min_data_in_leaf\":2500,\n",
    "         }\n",
    "lgbtrain2 = lgb.Dataset(X_new_items_train, label=y_new_items_train, weight=w_new_items_train, \n",
    "                        categorical_feature=cat_feats)\n",
    "lgbvalid2 = lgb.Dataset(X_new_items_val, label=y_new_items_val, weight=w_new_items_val, \n",
    "                        categorical_feature=cat_feats)\n",
    "\n",
    "num_round = 1000\n",
    "model_new_items = lgb.train(params2,\n",
    "                  lgbtrain2,\n",
    "                  num_round,\n",
    "                  valid_sets = [lgbtrain2, lgbvalid2], \n",
    "                  verbose_eval=5,\n",
    "                  early_stopping_rounds=5,\n",
    "#                   fobj=objective,\n",
    "                  feval=feval,\n",
    "                 )"
   ]
  },
  {
   "cell_type": "markdown",
   "metadata": {},
   "source": [
    "<hr>"
   ]
  },
  {
   "cell_type": "markdown",
   "metadata": {},
   "source": [
    "## Dataset Splitting (Retraining until week 2 and test with week 1)\n",
    "All my experiments will use weeks 13 to 2 as a train set and week 1 as test"
   ]
  },
  {
   "cell_type": "code",
   "execution_count": 26,
   "metadata": {},
   "outputs": [],
   "source": [
    "train = shifting.loc[shifting.group_backwards >= 2]\n",
    "test = shifting.loc[shifting.group_backwards == 1]\n",
    "\n",
    "weights = infos.set_index('itemID')['simulationPrice'].to_dict()\n",
    "\n",
    "w_train = train['itemID'].map(weights)"
   ]
  },
  {
   "cell_type": "code",
   "execution_count": 27,
   "metadata": {},
   "outputs": [],
   "source": [
    "# I recommend to the other members of the team keeping the\n",
    "# datatypes of our datasets as Pandas DataFrames instead of Numpy,\n",
    "# since It will easier to use Boosting Analysis frameworks\n",
    "y_train = train['orderSum']\n",
    "X_train = train.drop(columns=[\"orderSum\"])"
   ]
  },
  {
   "cell_type": "code",
   "execution_count": 52,
   "metadata": {},
   "outputs": [
    {
     "name": "stdout",
     "output_type": "stream",
     "text": [
      "Training until validation scores don't improve for 5 rounds\n",
      "[5]\ttrain's rmse: 39.6095\ttrain's feval: 6.82054e+06\n",
      "Did not meet early stopping. Best iteration is:\n",
      "[9]\ttrain's rmse: 38.7413\ttrain's feval: 9.16524e+06\n"
     ]
    }
   ],
   "source": [
    "params = {\n",
    "#           \"objective\" : \"poisson\",\n",
    "          \"objective\" : \"l1\",\n",
    "          \"metric\" :\"rmse\",\n",
    "          \"learning_rate\" : 0.6,\n",
    "          'verbosity': 1,\n",
    "          'max_depth': 6,\n",
    "          'num_leaves': 32,\n",
    "          \"min_data_in_leaf\":2000,\n",
    "         }\n",
    "\n",
    "lgbtrain = lgb.Dataset(X_train, label = y_train, weight=w_train, categorical_feature=[2, 3, 5, 6, 7, 9])\n",
    "\n",
    "model = lgb.train(params,\n",
    "                  lgbtrain,\n",
    "                  model.best_iteration,\n",
    "                  valid_sets = [lgbtrain], \n",
    "                  valid_names = ['train'],\n",
    "                  verbose_eval=5,\n",
    "                  early_stopping_rounds=5,\n",
    "#                   fobj=objective,\n",
    "                  feval=feval,\n",
    "                  \n",
    "                 )"
   ]
  },
  {
   "cell_type": "markdown",
   "metadata": {},
   "source": [
    "**New items model without validation**"
   ]
  },
  {
   "cell_type": "code",
   "execution_count": 29,
   "metadata": {
    "scrolled": true
   },
   "outputs": [],
   "source": [
    "# Taking the first appearance of each item...\n",
    "first_fortnight_item = orders.sort_values(\"group_backwards\",\n",
    "                                     ascending=False)\\\n",
    "                          .groupby([\"itemID\"])[\"group_backwards\"].first()\n",
    "first_fortnight_item = first_fortnight_item.reset_index()"
   ]
  },
  {
   "cell_type": "code",
   "execution_count": 30,
   "metadata": {},
   "outputs": [
    {
     "data": {
      "text/plain": [
       "(9112, 728, 728)"
      ]
     },
     "execution_count": 30,
     "metadata": {},
     "output_type": "execute_result"
    }
   ],
   "source": [
    "new_items_train = pd.merge(first_fortnight_item, train, on=[\"itemID\", \"group_backwards\"],\n",
    "                  how=\"inner\", validate=\"1:1\")\n",
    "\n",
    "new_items_test = pd.merge(first_fortnight_item, test, on=[\"itemID\", \"group_backwards\"],\n",
    "                  how=\"inner\", validate=\"1:1\")\n",
    "\n",
    "# Check we didn't make mistakes...\n",
    "assert len(new_items_train) + len(new_items_test) == len(first_fortnight_item)\n",
    "assert len(first_fortnight_item.query(\"group_backwards >= 2\")) == len(new_items_train)\n",
    "assert len(first_fortnight_item.query(\"group_backwards == 1\")) == len(new_items_test)\n",
    "\n",
    "len(new_items_train), len(new_items_test), len(new_items_test)"
   ]
  },
  {
   "cell_type": "code",
   "execution_count": 31,
   "metadata": {},
   "outputs": [],
   "source": [
    "w_new_items_train = new_items_train['itemID'].map(weights)"
   ]
  },
  {
   "cell_type": "code",
   "execution_count": 32,
   "metadata": {},
   "outputs": [],
   "source": [
    "y_new_items_train = new_items_train['orderSum']\n",
    "y_new_items_test = new_items_test['orderSum']\n",
    "# Maybe other features don't make sense\n",
    "X_new_items_train = new_items_train.drop(columns=[\"orderSum\", \"itemID\", \"is_new\"])\n",
    "X_new_items_test = new_items_test.drop(columns=[\"orderSum\", \"itemID\", \"is_new\"])\n",
    "\n",
    "# Make sure to change the categorical features if you drop more cols\n",
    "cat_feats = [1, 2, 4, 5, 6]"
   ]
  },
  {
   "cell_type": "code",
   "execution_count": 47,
   "metadata": {
    "scrolled": true
   },
   "outputs": [
    {
     "name": "stdout",
     "output_type": "stream",
     "text": [
      "Training until validation scores don't improve for 5 rounds\n",
      "[5]\ttraining's rmse: 76.6951\ttraining's feval: 7.37507e+06\n",
      "[10]\ttraining's rmse: 70.5453\ttraining's feval: 1.11078e+07\n",
      "[15]\ttraining's rmse: 66.7497\ttraining's feval: 1.32026e+07\n",
      "[20]\ttraining's rmse: 64.1356\ttraining's feval: 1.44814e+07\n",
      "[25]\ttraining's rmse: 62.5799\ttraining's feval: 1.5102e+07\n",
      "[30]\ttraining's rmse: 61.4346\ttraining's feval: 1.55421e+07\n",
      "[35]\ttraining's rmse: 60.5986\ttraining's feval: 1.58956e+07\n",
      "Did not meet early stopping. Best iteration is:\n",
      "[38]\ttraining's rmse: 60.1677\ttraining's feval: 1.60387e+07\n"
     ]
    }
   ],
   "source": [
    "params2 = {\n",
    "#           \"objective\" : \"poisson\",\n",
    "          #\"objective\" : \"l1\",\n",
    "          \"objective\" : \"l2\", # L2 works MUCH BETTER than L1\n",
    "          \"metric\" :\"rmse\",\n",
    "          #\"learning_rate\" : 0.5,\n",
    "          'verbosity': 1,\n",
    "          'max_depth': 5,\n",
    "          #'num_leaves': 32,\n",
    "#           \"min_data_in_leaf\":2500,\n",
    "         }\n",
    "lgbtrain2 = lgb.Dataset(X_new_items_train, label=y_new_items_train, weight=w_new_items_train, \n",
    "                        categorical_feature=cat_feats)\n",
    "\n",
    "model_new_items = lgb.train(params2,\n",
    "                  lgbtrain2,\n",
    "                  model_new_items.best_iteration,\n",
    "                  valid_sets = [lgbtrain2], \n",
    "                  verbose_eval=5,\n",
    "                  early_stopping_rounds=5,\n",
    "#                   fobj=objective,\n",
    "                  feval=feval,\n",
    "                 )"
   ]
  },
  {
   "cell_type": "markdown",
   "metadata": {},
   "source": [
    "<hr>"
   ]
  },
  {
   "cell_type": "markdown",
   "metadata": {},
   "source": [
    "### Utilities"
   ]
  },
  {
   "cell_type": "markdown",
   "metadata": {},
   "source": [
    "**Predicting \"common\" items at test time**"
   ]
  },
  {
   "cell_type": "code",
   "execution_count": 53,
   "metadata": {},
   "outputs": [],
   "source": [
    "y_test = test['orderSum']\n",
    "X_test = test.drop(columns=[\"orderSum\"])\n",
    "final_predictions = model.predict(X_test)"
   ]
  },
  {
   "cell_type": "markdown",
   "metadata": {},
   "source": [
    "**Predicting new items at test time**"
   ]
  },
  {
   "cell_type": "code",
   "execution_count": 54,
   "metadata": {},
   "outputs": [],
   "source": [
    "final_new_items_predictions = model_new_items.predict(X_new_items_test)"
   ]
  },
  {
   "cell_type": "markdown",
   "metadata": {},
   "source": [
    "**Mergin' predictions**"
   ]
  },
  {
   "cell_type": "code",
   "execution_count": 55,
   "metadata": {},
   "outputs": [],
   "source": [
    "assert test[\"itemID\"].is_monotonic_increasing\n",
    "new_items_idx = X_test[\"itemID\"].isin(first_fortnight_item.query('group_backwards == 1')['itemID'])\n",
    "final_predictions[new_items_idx] = final_new_items_predictions\n",
    "final_predictions[final_predictions < 0] = 0"
   ]
  },
  {
   "cell_type": "code",
   "execution_count": 56,
   "metadata": {},
   "outputs": [
    {
     "data": {
      "text/plain": [
       "1.14730442"
      ]
     },
     "execution_count": 56,
     "metadata": {},
     "output_type": "execute_result"
    }
   ],
   "source": [
    "baseline_score(final_predictions, y_test.values, infos['simulationPrice']) / 10 ** 6"
   ]
  }
 ],
 "metadata": {
  "kernelspec": {
   "display_name": "Python 3",
   "language": "python",
   "name": "python3"
  },
  "language_info": {
   "codemirror_mode": {
    "name": "ipython",
    "version": 3
   },
   "file_extension": ".py",
   "mimetype": "text/x-python",
   "name": "python",
   "nbconvert_exporter": "python",
   "pygments_lexer": "ipython3",
   "version": "3.8.3"
  },
  "toc": {
   "base_numbering": 1,
   "nav_menu": {},
   "number_sections": false,
   "sideBar": false,
   "skip_h1_title": false,
   "title_cell": "Table of Contents",
   "title_sidebar": "Contents",
   "toc_cell": true,
   "toc_position": {},
   "toc_section_display": true,
   "toc_window_display": false
  }
 },
 "nbformat": 4,
 "nbformat_minor": 4
}
