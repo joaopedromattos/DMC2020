{
 "cells": [
  {
   "cell_type": "markdown",
   "metadata": {},
   "source": [
    "# XGBoost Enhanced Features\n",
    "This notebook is being created after the addition of Promotion feature to the dataset and the main goal is to submit the predictions of this notebook in our private Kaggle Leaderboard"
   ]
  },
  {
   "cell_type": "code",
   "execution_count": 36,
   "metadata": {},
   "outputs": [
    {
     "name": "stdout",
     "output_type": "stream",
     "text": [
      "1.0v.zip\r\n"
     ]
    }
   ],
   "source": [
    "import numpy as np\n",
    "import pandas as pd\n",
    "from utils import read_data, process_time, merge_data, promo_detector, promotionAggregation\n",
    "import seaborn as sns\n",
    "import matplotlib.pyplot as plt\n",
    "from sklearn.model_selection import train_test_split\n",
    "from sklearn.metrics import mean_squared_error as mse\n",
    "import sys\n",
    "import xgboost as xgb\n",
    "import lightgbm as lgb\n",
    "from datetime import datetime\n",
    "\n",
    "NUMBER_OF_LAGS = 4\n",
    "\n",
    "sys.path.append(\"../../main/datasets/\")\n",
    "!ls  ../../main/datasets/"
   ]
  },
  {
   "cell_type": "markdown",
   "metadata": {},
   "source": [
    "## Preparing our dataset\n",
    "These steps were already seen on ```../pre-processing-features``` notebooks."
   ]
  },
  {
   "cell_type": "code",
   "execution_count": 37,
   "metadata": {},
   "outputs": [
    {
     "name": "stdout",
     "output_type": "stream",
     "text": [
      "Sanity checks... (10463, 3) (10463, 8) (2181955, 5)\n"
     ]
    }
   ],
   "source": [
    "infos, items, orders = read_data(\"../../main/datasets/\")\n",
    "print(\"Sanity checks...\", infos.shape, items.shape, orders.shape)"
   ]
  },
  {
   "cell_type": "code",
   "execution_count": 38,
   "metadata": {},
   "outputs": [],
   "source": [
    "# Changing our time signatures, \n",
    "# adding our promotion feature \n",
    "# and aggregating our data by weeks...\n",
    "process_time(orders)\n",
    "orders = promo_detector(orders)\n",
    "df = promotionAggregation(orders, items)"
   ]
  },
  {
   "cell_type": "code",
   "execution_count": 39,
   "metadata": {},
   "outputs": [],
   "source": [
    "def prepareOrders(orders, items):\n",
    "    \"\"\"This function is responsible for adding in our 'orders' dataframe\n",
    "    the items that were not sold. THIS IS NOT MODULARIZED, THUS YOU\n",
    "    SHOULD CHANGE THE CODE TO BETTER SUIT YOUR DATASET FEATURES\n",
    "    \"\"\"\n",
    "    \n",
    "    df = orders.copy()\n",
    "    \n",
    "    # Getting the IDs that were never sold\n",
    "    not_sold_items = items[np.logical_not(\n",
    "        items.itemID.isin(sorted(orders['itemID'].unique())))]\n",
    "\n",
    "    new_rows = []\n",
    "    weeks_database = orders['group_backwards'].unique()\n",
    "\n",
    "    for idd in df['itemID'].unique():\n",
    "        orders_id = df[df.itemID == idd]\n",
    "        example = orders_id.iloc[0]\n",
    "\n",
    "        # finding weeks without itemID sales\n",
    "        weeks_id = orders_id['group_backwards'].unique()\n",
    "        weeks_without_id = np.setdiff1d(weeks_database, weeks_id)\n",
    "\n",
    "        # creating new row\n",
    "        for w in weeks_without_id:\n",
    "            new_rows.append({'itemID': idd,\n",
    "                             'group_backwards': w,\n",
    "                             'salesPrice_mean': 0,\n",
    "                             'customerRating': example['customerRating'],\n",
    "                             'category1': example['category1'],\n",
    "                             'category2': example['category2'],\n",
    "                             'category3': example['category3'],\n",
    "                             'recommendedRetailPrice': example['recommendedRetailPrice'],\n",
    "                             'orderSum': 0,\n",
    "                             'manufacturer': example['manufacturer'],\n",
    "                             'brand': example['brand'],\n",
    "                             'promotion_mean': 0\n",
    "                             })\n",
    "    #  Adding rows in every week with the IDs of the\n",
    "    # items that were never sold.\n",
    "    df = df.append(new_rows)\n",
    "    not_sold_orders = pd.DataFrame()\n",
    "    for i in range(1, 14):\n",
    "        aux = not_sold_items.copy()\n",
    "        aux['group_backwards'] = i\n",
    "        aux['salesPrice_mean'] = 0\n",
    "        aux['promotion_mean'] = 0\n",
    "        aux['orderSum'] = 0\n",
    "        not_sold_orders = pd.concat([not_sold_orders, aux], axis=0)\n",
    "    df = pd.concat([df, not_sold_orders], axis=0).sort_values(\n",
    "        ['group_backwards', 'itemID'], ascending=[False, True], ignore_index=True)\n",
    "    return df"
   ]
  },
  {
   "cell_type": "code",
   "execution_count": 40,
   "metadata": {},
   "outputs": [],
   "source": [
    "df = prepareOrders(df, items)"
   ]
  },
  {
   "cell_type": "code",
   "execution_count": 41,
   "metadata": {},
   "outputs": [],
   "source": [
    "# This cell lags and diffs our features 'orderSum' and \"promotion\"\n",
    "\n",
    "shifting = df.copy()\n",
    "\n",
    "for i in range(1, NUMBER_OF_LAGS + 1):\n",
    "    # Carrying the data of weeks t-1\n",
    "    shifting[f'orderSum_{i}'] = shifting.groupby('itemID')['orderSum'].shift(i)\n",
    "    shifting[f'promotion_mean_{i}'] = shifting.groupby('itemID')['promotion_mean'].shift(i)\n",
    "    \n",
    "    # Getting the difference of the orders and promotions between weeks t-1 and t-2...\n",
    "    shifting[f'orderSum_diff_{i}'] = shifting.groupby('itemID')[f'orderSum_{i}'].diff()\n",
    "    shifting[f'promotion_mean_diff_{i}'] = shifting.groupby('itemID')[f'promotion_mean_{i}'].diff()\n",
    "shifting.fillna(0, inplace=True)"
   ]
  },
  {
   "cell_type": "code",
   "execution_count": 42,
   "metadata": {},
   "outputs": [],
   "source": [
    "# cat_1_one_hot = pd.get_dummies(shifting['category1']).rename(columns={i : f'category1_{i}' for i in shifting['category1'].unique()})\n",
    "# cat_2_one_hot = pd.get_dummies(shifting['category2']).rename(columns={i : f'category2_{i}' for i in shifting['category2'].unique()})\n",
    "# cat_3_one_hot = pd.get_dummies(shifting['category3']).rename(columns={i : f'category3_{i}' for i in shifting['category3'].unique()})\n",
    "# shifting = pd.concat([shifting, cat_1_one_hot, cat_2_one_hot, cat_3_one_hot], axis=1).drop(columns=['category1', 'category2', 'category3'])\n",
    "shifting.drop(columns=['category1', 'category2', 'category3'], inplace=True)"
   ]
  },
  {
   "cell_type": "markdown",
   "metadata": {},
   "source": [
    "## Maximum error\n",
    "The maximum error we could get in this dataset would be just guessing the mean of our sales from weeks 1 to 12, and that's what the cell below is computing."
   ]
  },
  {
   "cell_type": "code",
   "execution_count": 43,
   "metadata": {},
   "outputs": [
    {
     "name": "stdout",
     "output_type": "stream",
     "text": [
      "Guessing the mean of 'orderSum' for all items in target 90.29706562119341\n"
     ]
    }
   ],
   "source": [
    "worst_possible_prediction = shifting.loc[shifting.group_backwards < 13]['orderSum'].mean()\n",
    "prediction = np.full(shifting.loc[shifting.group_backwards == 13]['orderSum'].shape, worst_possible_prediction) # Array filled with the mean...\n",
    "target = shifting.loc[shifting.group_backwards == 13]['orderSum']\n",
    "print(\"Guessing the mean of 'orderSum' for all items in target\", mse(target, prediction) ** 0.5)"
   ]
  },
  {
   "cell_type": "markdown",
   "metadata": {},
   "source": [
    "## Dataset Splitting\n",
    "All my experiments will use weeks 13 to 3 as a train set, week 2 as our validation set and week 1 as a test set."
   ]
  },
  {
   "cell_type": "code",
   "execution_count": 44,
   "metadata": {},
   "outputs": [],
   "source": [
    "train = shifting.loc[shifting.group_backwards >= 3]\n",
    "val = shifting.loc[shifting.group_backwards == 2]\n",
    "test = shifting.loc[shifting.group_backwards == 1]"
   ]
  },
  {
   "cell_type": "code",
   "execution_count": 45,
   "metadata": {},
   "outputs": [],
   "source": [
    "# I recommend to the other members of the team keeping the\n",
    "# datatypes of our datasets as Pandas DataFrames instead of Numpy,\n",
    "# since It will easier to use Boosting Analysis frameworks\n",
    "y_train = train['orderSum']\n",
    "y_val = val['orderSum']\n",
    "X_train = train.drop(columns=[\"orderSum\"])\n",
    "X_val = val.drop(columns=[\"orderSum\"])"
   ]
  },
  {
   "cell_type": "code",
   "execution_count": 46,
   "metadata": {
    "scrolled": true
   },
   "outputs": [
    {
     "name": "stdout",
     "output_type": "stream",
     "text": [
      "[0]\ttrain-rmse:104.39217\tval-rmse:110.94049\n",
      "Multiple eval metrics have been passed: 'val-rmse' will be used for early stopping.\n",
      "\n",
      "Will train until val-rmse hasn't improved in 5 rounds.\n",
      "[1]\ttrain-rmse:104.14262\tval-rmse:110.59388\n",
      "[2]\ttrain-rmse:103.89733\tval-rmse:110.25309\n",
      "[3]\ttrain-rmse:103.65630\tval-rmse:109.91911\n",
      "[4]\ttrain-rmse:103.41954\tval-rmse:109.59083\n",
      "[5]\ttrain-rmse:103.18694\tval-rmse:109.26918\n",
      "[6]\ttrain-rmse:102.95802\tval-rmse:108.95335\n",
      "[7]\ttrain-rmse:102.72651\tval-rmse:108.63429\n",
      "[8]\ttrain-rmse:102.50555\tval-rmse:108.33076\n",
      "[9]\ttrain-rmse:102.28893\tval-rmse:108.03239\n",
      "[10]\ttrain-rmse:102.06860\tval-rmse:107.73109\n",
      "[11]\ttrain-rmse:101.85931\tval-rmse:107.44031\n",
      "[12]\ttrain-rmse:101.65256\tval-rmse:107.15924\n",
      "[13]\ttrain-rmse:101.45213\tval-rmse:106.91387\n",
      "[14]\ttrain-rmse:101.25304\tval-rmse:106.64259\n",
      "[15]\ttrain-rmse:101.03923\tval-rmse:106.36432\n",
      "[16]\ttrain-rmse:100.84583\tval-rmse:106.10020\n",
      "[17]\ttrain-rmse:100.62122\tval-rmse:105.80709\n",
      "[18]\ttrain-rmse:100.44150\tval-rmse:105.59830\n",
      "[19]\ttrain-rmse:100.23011\tval-rmse:105.32317\n",
      "[20]\ttrain-rmse:100.01576\tval-rmse:105.04546\n",
      "[21]\ttrain-rmse:99.81077\tval-rmse:104.78178\n",
      "[22]\ttrain-rmse:99.60385\tval-rmse:104.51540\n",
      "[23]\ttrain-rmse:99.43764\tval-rmse:104.32396\n",
      "[24]\ttrain-rmse:99.23610\tval-rmse:104.06546\n",
      "[25]\ttrain-rmse:99.04321\tval-rmse:103.82140\n",
      "[26]\ttrain-rmse:98.88181\tval-rmse:103.63375\n",
      "[27]\ttrain-rmse:98.71819\tval-rmse:103.44753\n",
      "[28]\ttrain-rmse:98.52528\tval-rmse:103.15542\n",
      "[29]\ttrain-rmse:98.37258\tval-rmse:102.97829\n",
      "[30]\ttrain-rmse:98.18662\tval-rmse:102.70840\n",
      "[31]\ttrain-rmse:98.00322\tval-rmse:102.43048\n",
      "[32]\ttrain-rmse:97.85586\tval-rmse:102.26683\n",
      "[33]\ttrain-rmse:97.67261\tval-rmse:102.00196\n",
      "[34]\ttrain-rmse:97.52957\tval-rmse:101.84792\n",
      "[35]\ttrain-rmse:97.35067\tval-rmse:101.59216\n",
      "[36]\ttrain-rmse:97.17779\tval-rmse:101.34508\n",
      "[37]\ttrain-rmse:97.03803\tval-rmse:101.18715\n",
      "[38]\ttrain-rmse:96.87087\tval-rmse:100.94068\n",
      "[39]\ttrain-rmse:96.73859\tval-rmse:100.79886\n",
      "[40]\ttrain-rmse:96.57186\tval-rmse:100.56998\n",
      "[41]\ttrain-rmse:96.40091\tval-rmse:100.33179\n",
      "[42]\ttrain-rmse:96.27409\tval-rmse:100.19687\n",
      "[43]\ttrain-rmse:96.11443\tval-rmse:99.97195\n",
      "[44]\ttrain-rmse:95.96659\tval-rmse:99.78299\n",
      "[45]\ttrain-rmse:95.82172\tval-rmse:99.59781\n",
      "[46]\ttrain-rmse:95.70290\tval-rmse:99.47258\n",
      "[47]\ttrain-rmse:95.54542\tval-rmse:99.28094\n",
      "[48]\ttrain-rmse:95.42724\tval-rmse:99.15538\n",
      "[49]\ttrain-rmse:95.29245\tval-rmse:98.99116\n",
      "[50]\ttrain-rmse:95.14265\tval-rmse:98.80461\n",
      "[51]\ttrain-rmse:95.01168\tval-rmse:98.64619\n",
      "[52]\ttrain-rmse:94.90045\tval-rmse:98.53206\n",
      "[53]\ttrain-rmse:94.75633\tval-rmse:98.35493\n",
      "[54]\ttrain-rmse:94.63857\tval-rmse:98.21796\n",
      "[55]\ttrain-rmse:94.49682\tval-rmse:98.05003\n",
      "[56]\ttrain-rmse:94.38068\tval-rmse:97.91705\n",
      "[57]\ttrain-rmse:94.24875\tval-rmse:97.75183\n",
      "[58]\ttrain-rmse:94.13390\tval-rmse:97.64152\n",
      "[59]\ttrain-rmse:94.01753\tval-rmse:97.52696\n",
      "[60]\ttrain-rmse:93.88914\tval-rmse:97.38165\n",
      "[61]\ttrain-rmse:93.77786\tval-rmse:97.27668\n",
      "[62]\ttrain-rmse:93.67729\tval-rmse:97.17484\n",
      "[63]\ttrain-rmse:93.55800\tval-rmse:97.03740\n",
      "[64]\ttrain-rmse:93.45288\tval-rmse:96.93924\n",
      "[65]\ttrain-rmse:93.32961\tval-rmse:96.79501\n",
      "[66]\ttrain-rmse:93.23071\tval-rmse:96.67935\n",
      "[67]\ttrain-rmse:93.13706\tval-rmse:96.57368\n",
      "[68]\ttrain-rmse:93.04404\tval-rmse:96.47791\n",
      "[69]\ttrain-rmse:92.94999\tval-rmse:96.36996\n",
      "[70]\ttrain-rmse:92.83582\tval-rmse:96.23860\n",
      "[71]\ttrain-rmse:92.74608\tval-rmse:96.13918\n",
      "[72]\ttrain-rmse:92.63442\tval-rmse:96.01109\n",
      "[73]\ttrain-rmse:92.54578\tval-rmse:95.91064\n",
      "[74]\ttrain-rmse:92.43589\tval-rmse:95.79743\n",
      "[75]\ttrain-rmse:92.34951\tval-rmse:95.69958\n",
      "[76]\ttrain-rmse:92.26344\tval-rmse:95.58394\n",
      "[77]\ttrain-rmse:92.17884\tval-rmse:95.47304\n",
      "[78]\ttrain-rmse:92.09827\tval-rmse:95.38862\n",
      "[79]\ttrain-rmse:92.01756\tval-rmse:95.31166\n",
      "[80]\ttrain-rmse:91.91440\tval-rmse:95.20461\n",
      "[81]\ttrain-rmse:91.83662\tval-rmse:95.12527\n",
      "[82]\ttrain-rmse:91.76170\tval-rmse:95.04665\n",
      "[83]\ttrain-rmse:91.65743\tval-rmse:94.94803\n",
      "[84]\ttrain-rmse:91.58335\tval-rmse:94.86974\n",
      "[85]\ttrain-rmse:91.49141\tval-rmse:94.76764\n",
      "[86]\ttrain-rmse:91.39687\tval-rmse:94.65648\n",
      "[87]\ttrain-rmse:91.32450\tval-rmse:94.57667\n",
      "[88]\ttrain-rmse:91.23669\tval-rmse:94.48093\n",
      "[89]\ttrain-rmse:91.14629\tval-rmse:94.37649\n",
      "[90]\ttrain-rmse:91.05300\tval-rmse:94.25382\n",
      "[91]\ttrain-rmse:90.96399\tval-rmse:94.15663\n",
      "[92]\ttrain-rmse:90.87399\tval-rmse:94.03906\n",
      "[93]\ttrain-rmse:90.78569\tval-rmse:93.92409\n",
      "[94]\ttrain-rmse:90.69910\tval-rmse:93.81202\n",
      "[95]\ttrain-rmse:90.61409\tval-rmse:93.70225\n",
      "[96]\ttrain-rmse:90.53071\tval-rmse:93.59531\n",
      "[97]\ttrain-rmse:90.44134\tval-rmse:93.47381\n",
      "[98]\ttrain-rmse:90.36051\tval-rmse:93.37045\n",
      "[99]\ttrain-rmse:90.28947\tval-rmse:93.28272\n",
      "[100]\ttrain-rmse:90.22340\tval-rmse:93.21626\n",
      "[101]\ttrain-rmse:90.15501\tval-rmse:93.13210\n",
      "[102]\ttrain-rmse:90.08785\tval-rmse:93.05229\n",
      "[103]\ttrain-rmse:90.01702\tval-rmse:92.98129\n",
      "[104]\ttrain-rmse:89.95512\tval-rmse:92.91739\n",
      "[105]\ttrain-rmse:89.89408\tval-rmse:92.85696\n",
      "[106]\ttrain-rmse:89.82241\tval-rmse:92.76002\n",
      "[107]\ttrain-rmse:89.76344\tval-rmse:92.70287\n",
      "[108]\ttrain-rmse:89.68230\tval-rmse:92.59412\n",
      "[109]\ttrain-rmse:89.61718\tval-rmse:92.51755\n",
      "[110]\ttrain-rmse:89.55753\tval-rmse:92.45128\n",
      "[111]\ttrain-rmse:89.49416\tval-rmse:92.37758\n",
      "[112]\ttrain-rmse:89.43666\tval-rmse:92.31385\n",
      "[113]\ttrain-rmse:89.34335\tval-rmse:92.21430\n",
      "[114]\ttrain-rmse:89.28845\tval-rmse:92.17356\n",
      "[115]\ttrain-rmse:89.19724\tval-rmse:92.08023\n",
      "[116]\ttrain-rmse:89.13451\tval-rmse:92.00315\n",
      "[117]\ttrain-rmse:89.04536\tval-rmse:91.91165\n",
      "[118]\ttrain-rmse:88.99247\tval-rmse:91.86645\n",
      "[119]\ttrain-rmse:88.94280\tval-rmse:91.81863\n",
      "[120]\ttrain-rmse:88.85592\tval-rmse:91.73134\n",
      "[121]\ttrain-rmse:88.80481\tval-rmse:91.68814\n",
      "[122]\ttrain-rmse:88.71975\tval-rmse:91.60735\n",
      "[123]\ttrain-rmse:88.66701\tval-rmse:91.55902\n",
      "[124]\ttrain-rmse:88.58347\tval-rmse:91.47630\n",
      "[125]\ttrain-rmse:88.53720\tval-rmse:91.42920\n",
      "[126]\ttrain-rmse:88.45556\tval-rmse:91.35268\n",
      "[127]\ttrain-rmse:88.40853\tval-rmse:91.32146\n",
      "[128]\ttrain-rmse:88.32840\tval-rmse:91.24799\n",
      "[129]\ttrain-rmse:88.28149\tval-rmse:91.20973\n",
      "[130]\ttrain-rmse:88.20329\tval-rmse:91.13943\n",
      "[131]\ttrain-rmse:88.15951\tval-rmse:91.10001\n",
      "[132]\ttrain-rmse:88.07909\tval-rmse:91.01996\n",
      "[133]\ttrain-rmse:88.03415\tval-rmse:90.98492\n",
      "[134]\ttrain-rmse:87.95863\tval-rmse:90.90628\n",
      "[135]\ttrain-rmse:87.91583\tval-rmse:90.87140\n",
      "[136]\ttrain-rmse:87.84847\tval-rmse:90.81935\n",
      "[137]\ttrain-rmse:87.77245\tval-rmse:90.74531\n",
      "[138]\ttrain-rmse:87.72809\tval-rmse:90.71828\n",
      "[139]\ttrain-rmse:87.65881\tval-rmse:90.62981\n",
      "[140]\ttrain-rmse:87.61536\tval-rmse:90.60123\n",
      "[141]\ttrain-rmse:87.57458\tval-rmse:90.56976\n",
      "[142]\ttrain-rmse:87.50646\tval-rmse:90.48285\n",
      "[143]\ttrain-rmse:87.46362\tval-rmse:90.45833\n",
      "[144]\ttrain-rmse:87.39822\tval-rmse:90.37508\n",
      "[145]\ttrain-rmse:87.35653\tval-rmse:90.34639\n",
      "[146]\ttrain-rmse:87.29124\tval-rmse:90.26410\n",
      "[147]\ttrain-rmse:87.25264\tval-rmse:90.23592\n",
      "[148]\ttrain-rmse:87.21270\tval-rmse:90.21104\n",
      "[149]\ttrain-rmse:87.16676\tval-rmse:90.16431\n",
      "[150]\ttrain-rmse:87.12165\tval-rmse:90.11918\n",
      "[151]\ttrain-rmse:87.08115\tval-rmse:90.09672\n",
      "[152]\ttrain-rmse:87.03801\tval-rmse:90.06649\n",
      "[153]\ttrain-rmse:86.99977\tval-rmse:90.04034\n",
      "[154]\ttrain-rmse:86.95639\tval-rmse:89.99777\n",
      "[155]\ttrain-rmse:86.91315\tval-rmse:89.97030\n",
      "[156]\ttrain-rmse:86.87707\tval-rmse:89.94476\n",
      "[157]\ttrain-rmse:86.83511\tval-rmse:89.90283\n",
      "[158]\ttrain-rmse:86.79758\tval-rmse:89.88220\n",
      "[159]\ttrain-rmse:86.76222\tval-rmse:89.86083\n",
      "[160]\ttrain-rmse:86.72145\tval-rmse:89.82079\n",
      "[161]\ttrain-rmse:86.68622\tval-rmse:89.80038\n",
      "[162]\ttrain-rmse:86.64648\tval-rmse:89.76381\n",
      "[163]\ttrain-rmse:86.61253\tval-rmse:89.74045\n",
      "[164]\ttrain-rmse:86.57375\tval-rmse:89.70381\n",
      "[165]\ttrain-rmse:86.53959\tval-rmse:89.68362\n",
      "[166]\ttrain-rmse:86.50609\tval-rmse:89.66579\n",
      "[167]\ttrain-rmse:86.47144\tval-rmse:89.61546\n",
      "[168]\ttrain-rmse:86.43973\tval-rmse:89.59300\n",
      "[169]\ttrain-rmse:86.40686\tval-rmse:89.57312\n",
      "[170]\ttrain-rmse:86.36976\tval-rmse:89.54446\n",
      "[171]\ttrain-rmse:86.33324\tval-rmse:89.50204\n",
      "[172]\ttrain-rmse:86.30064\tval-rmse:89.48648\n",
      "[173]\ttrain-rmse:86.26794\tval-rmse:89.46995\n",
      "[174]\ttrain-rmse:86.17621\tval-rmse:89.39533\n",
      "[175]\ttrain-rmse:86.08540\tval-rmse:89.31927\n",
      "[176]\ttrain-rmse:85.99590\tval-rmse:89.24390\n",
      "[177]\ttrain-rmse:85.90720\tval-rmse:89.17311\n",
      "[178]\ttrain-rmse:85.81506\tval-rmse:89.10857\n",
      "[179]\ttrain-rmse:85.72580\tval-rmse:89.04482\n",
      "[180]\ttrain-rmse:85.63910\tval-rmse:88.98421\n",
      "[181]\ttrain-rmse:85.55369\tval-rmse:88.92395\n",
      "[182]\ttrain-rmse:85.47063\tval-rmse:88.86744\n",
      "[183]\ttrain-rmse:85.38754\tval-rmse:88.80556\n",
      "[184]\ttrain-rmse:85.30266\tval-rmse:88.75683\n"
     ]
    },
    {
     "name": "stdout",
     "output_type": "stream",
     "text": [
      "[185]\ttrain-rmse:85.22122\tval-rmse:88.71352\n",
      "[186]\ttrain-rmse:85.13678\tval-rmse:88.66602\n",
      "[187]\ttrain-rmse:85.05695\tval-rmse:88.61488\n",
      "[188]\ttrain-rmse:84.97874\tval-rmse:88.56102\n",
      "[189]\ttrain-rmse:84.90112\tval-rmse:88.51645\n",
      "[190]\ttrain-rmse:84.82471\tval-rmse:88.47242\n",
      "[191]\ttrain-rmse:84.74535\tval-rmse:88.43655\n",
      "[192]\ttrain-rmse:84.66621\tval-rmse:88.39513\n",
      "[193]\ttrain-rmse:84.59262\tval-rmse:88.36338\n",
      "[194]\ttrain-rmse:84.51842\tval-rmse:88.33091\n",
      "[195]\ttrain-rmse:84.44527\tval-rmse:88.30372\n",
      "[196]\ttrain-rmse:84.37719\tval-rmse:88.25838\n",
      "[197]\ttrain-rmse:84.30309\tval-rmse:88.22696\n",
      "[198]\ttrain-rmse:84.23191\tval-rmse:88.19476\n",
      "[199]\ttrain-rmse:84.15820\tval-rmse:88.17103\n",
      "[200]\ttrain-rmse:84.12161\tval-rmse:88.17120\n",
      "[201]\ttrain-rmse:84.05265\tval-rmse:88.13444\n",
      "[202]\ttrain-rmse:83.97991\tval-rmse:88.10317\n",
      "[203]\ttrain-rmse:83.90916\tval-rmse:88.08021\n",
      "[204]\ttrain-rmse:83.84542\tval-rmse:88.04211\n",
      "[205]\ttrain-rmse:83.77728\tval-rmse:88.02424\n",
      "[206]\ttrain-rmse:83.70693\tval-rmse:87.96723\n",
      "[207]\ttrain-rmse:83.63897\tval-rmse:87.94741\n",
      "[208]\ttrain-rmse:83.57552\tval-rmse:87.93100\n",
      "[209]\ttrain-rmse:83.51088\tval-rmse:87.90858\n",
      "[210]\ttrain-rmse:83.44091\tval-rmse:87.86804\n",
      "[211]\ttrain-rmse:83.37605\tval-rmse:87.84872\n",
      "[212]\ttrain-rmse:83.30943\tval-rmse:87.79574\n",
      "[213]\ttrain-rmse:83.24499\tval-rmse:87.74661\n",
      "[214]\ttrain-rmse:83.18268\tval-rmse:87.73196\n",
      "[215]\ttrain-rmse:83.11384\tval-rmse:87.69647\n",
      "[216]\ttrain-rmse:83.05204\tval-rmse:87.68089\n",
      "[217]\ttrain-rmse:82.98487\tval-rmse:87.64204\n",
      "[218]\ttrain-rmse:82.91861\tval-rmse:87.61297\n",
      "[219]\ttrain-rmse:82.88677\tval-rmse:87.61139\n",
      "[220]\ttrain-rmse:82.82547\tval-rmse:87.59955\n",
      "[221]\ttrain-rmse:82.76285\tval-rmse:87.56075\n",
      "[222]\ttrain-rmse:82.72938\tval-rmse:87.56753\n",
      "[223]\ttrain-rmse:82.66829\tval-rmse:87.52087\n",
      "[224]\ttrain-rmse:82.63325\tval-rmse:87.52610\n",
      "[225]\ttrain-rmse:82.57460\tval-rmse:87.52005\n",
      "[226]\ttrain-rmse:82.54549\tval-rmse:87.52939\n",
      "[227]\ttrain-rmse:82.48267\tval-rmse:87.49630\n",
      "[228]\ttrain-rmse:82.42427\tval-rmse:87.45390\n",
      "[229]\ttrain-rmse:82.39032\tval-rmse:87.46175\n",
      "[230]\ttrain-rmse:82.33401\tval-rmse:87.44760\n",
      "[231]\ttrain-rmse:82.30065\tval-rmse:87.45692\n",
      "[232]\ttrain-rmse:82.24190\tval-rmse:87.42632\n",
      "[233]\ttrain-rmse:82.18868\tval-rmse:87.41021\n",
      "[234]\ttrain-rmse:82.13091\tval-rmse:87.39254\n",
      "[235]\ttrain-rmse:82.09846\tval-rmse:87.40356\n",
      "[236]\ttrain-rmse:82.04280\tval-rmse:87.36777\n",
      "[237]\ttrain-rmse:82.01876\tval-rmse:87.37801\n",
      "[238]\ttrain-rmse:81.96698\tval-rmse:87.36749\n",
      "[239]\ttrain-rmse:81.91193\tval-rmse:87.34287\n",
      "[240]\ttrain-rmse:81.86113\tval-rmse:87.33325\n",
      "[241]\ttrain-rmse:81.80953\tval-rmse:87.30297\n",
      "[242]\ttrain-rmse:81.78964\tval-rmse:87.31602\n",
      "[243]\ttrain-rmse:81.74238\tval-rmse:87.30615\n",
      "[244]\ttrain-rmse:81.68881\tval-rmse:87.27259\n",
      "[245]\ttrain-rmse:81.66252\tval-rmse:87.28952\n",
      "[246]\ttrain-rmse:81.61769\tval-rmse:87.26417\n",
      "[247]\ttrain-rmse:81.57101\tval-rmse:87.25575\n",
      "[248]\ttrain-rmse:81.52314\tval-rmse:87.24905\n",
      "[249]\ttrain-rmse:81.50405\tval-rmse:87.26511\n",
      "[250]\ttrain-rmse:81.45876\tval-rmse:87.24479\n",
      "[251]\ttrain-rmse:81.43425\tval-rmse:87.26191\n",
      "[252]\ttrain-rmse:81.39237\tval-rmse:87.24211\n",
      "[253]\ttrain-rmse:81.35281\tval-rmse:87.22842\n",
      "[254]\ttrain-rmse:81.33316\tval-rmse:87.24693\n",
      "[255]\ttrain-rmse:81.28747\tval-rmse:87.23329\n",
      "[256]\ttrain-rmse:81.24694\tval-rmse:87.21568\n",
      "[257]\ttrain-rmse:81.22779\tval-rmse:87.23531\n",
      "[258]\ttrain-rmse:81.18750\tval-rmse:87.22475\n",
      "[259]\ttrain-rmse:81.14874\tval-rmse:87.20718\n",
      "[260]\ttrain-rmse:81.10380\tval-rmse:87.19186\n",
      "[261]\ttrain-rmse:81.08070\tval-rmse:87.21313\n",
      "[262]\ttrain-rmse:81.04524\tval-rmse:87.18678\n",
      "[263]\ttrain-rmse:81.00414\tval-rmse:87.18523\n",
      "[264]\ttrain-rmse:80.98380\tval-rmse:87.20328\n",
      "[265]\ttrain-rmse:80.93912\tval-rmse:87.20139\n",
      "[266]\ttrain-rmse:80.91644\tval-rmse:87.22566\n",
      "[267]\ttrain-rmse:80.87333\tval-rmse:87.21815\n",
      "[268]\ttrain-rmse:80.85046\tval-rmse:87.23788\n",
      "Stopping. Best iteration:\n",
      "[263]\ttrain-rmse:81.00414\tval-rmse:87.18523\n",
      "\n"
     ]
    }
   ],
   "source": [
    "dtrain = xgb.DMatrix(X_train, y_train, missing=np.inf)\n",
    "dval = xgb.DMatrix(X_val, y_val, missing=np.inf)\n",
    "\n",
    "param = {'max_depth':6, 'eta':0.01, 'objective':'reg:squarederror' }\n",
    "num_round = 1000\n",
    "bst = xgb.train(param, dtrain,\n",
    "                num_round, early_stopping_rounds = 5,\n",
    "                evals = [(dtrain, 'train'), (dval, 'val')])"
   ]
  },
  {
   "cell_type": "markdown",
   "metadata": {},
   "source": [
    "### Utilities"
   ]
  },
  {
   "cell_type": "markdown",
   "metadata": {},
   "source": [
    "**Predicting at test time**"
   ]
  },
  {
   "cell_type": "code",
   "execution_count": 12,
   "metadata": {},
   "outputs": [],
   "source": [
    "y_test = test['orderSum']\n",
    "X_test = xgb.DMatrix(test.drop(columns=[\"orderSum\"]))\n",
    "final_predictions = bst.predict(X_test)"
   ]
  },
  {
   "cell_type": "code",
   "execution_count": 15,
   "metadata": {},
   "outputs": [
    {
     "data": {
      "text/plain": [
       "(2025,)"
      ]
     },
     "execution_count": 15,
     "metadata": {},
     "output_type": "execute_result"
    }
   ],
   "source": [
    "final_predictions[final_predictions < 0].shape"
   ]
  },
  {
   "cell_type": "markdown",
   "metadata": {},
   "source": [
    "**Creating our Kaggle CSV**"
   ]
  },
  {
   "cell_type": "code",
   "execution_count": 47,
   "metadata": {},
   "outputs": [],
   "source": [
    "final = pd.Series(0, index=np.arange(1, len(items)+1))\n",
    "final[items.itemID] = final_predictions.astype(int)\n",
    "\n",
    "final.to_csv(\"xgb_kaggle_df.csv\", header=[\"demandPrediction\"],\n",
    "            index_label=\"itemID\", sep=\"|\")"
   ]
  },
  {
   "cell_type": "markdown",
   "metadata": {},
   "source": [
    "**Saving our model in disk**"
   ]
  },
  {
   "cell_type": "code",
   "execution_count": 50,
   "metadata": {},
   "outputs": [],
   "source": [
    "now = datetime.now().strftime(\"%d-%m-%Y-%Hh%Mm%Ss\")\n",
    "modelName = 'xgb-' + now\n",
    "bst.save_model(modelName)"
   ]
  }
 ],
 "metadata": {
  "kernelspec": {
   "display_name": "Python 3",
   "language": "python",
   "name": "python3"
  },
  "language_info": {
   "codemirror_mode": {
    "name": "ipython",
    "version": 3
   },
   "file_extension": ".py",
   "mimetype": "text/x-python",
   "name": "python",
   "nbconvert_exporter": "python",
   "pygments_lexer": "ipython3",
   "version": "3.8.2"
  }
 },
 "nbformat": 4,
 "nbformat_minor": 4
}
