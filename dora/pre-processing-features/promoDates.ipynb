{
 "cells": [
  {
   "cell_type": "markdown",
   "metadata": {},
   "source": [
    "# PromoDates Notebook\n",
    "The objective of this notebook is to explore the dates related to the promotion features. Thus, we'll try to deanonimate our dataset by establishing (or trying to establish) a correlation between our promotion dates and the amount of sales."
   ]
  },
  {
   "cell_type": "markdown",
   "metadata": {},
   "source": [
    "## Loading our data and libraries..."
   ]
  },
  {
   "cell_type": "code",
   "execution_count": 1,
   "metadata": {},
   "outputs": [],
   "source": [
    "import numpy as np\n",
    "import pandas as pd\n",
    "from utils import read_data, process_time, merge_data, promo_detector\n",
    "import seaborn as sns\n",
    "import matplotlib.pyplot as plt\n",
    "import sys\n",
    "plt.rcParams['figure.figsize'] = (30, 8.0) # set default size of plots\n",
    "sys.path.append(\"../../main/datasets/\")"
   ]
  },
  {
   "cell_type": "code",
   "execution_count": 2,
   "metadata": {},
   "outputs": [
    {
     "name": "stdout",
     "output_type": "stream",
     "text": [
      "1.0v.zip\r\n"
     ]
    }
   ],
   "source": [
    "!ls  ../../main/datasets/"
   ]
  },
  {
   "cell_type": "code",
   "execution_count": 3,
   "metadata": {},
   "outputs": [
    {
     "name": "stdout",
     "output_type": "stream",
     "text": [
      "Sanity checks... (10463, 3) (10463, 8) (2181955, 5)\n"
     ]
    }
   ],
   "source": [
    "infos, items, orders = read_data(\"../../main/datasets/\")\n",
    "print(\"Sanity checks...\", infos.shape, items.shape, orders.shape)"
   ]
  },
  {
   "cell_type": "code",
   "execution_count": 4,
   "metadata": {},
   "outputs": [
    {
     "data": {
      "text/html": [
       "<div>\n",
       "<style scoped>\n",
       "    .dataframe tbody tr th:only-of-type {\n",
       "        vertical-align: middle;\n",
       "    }\n",
       "\n",
       "    .dataframe tbody tr th {\n",
       "        vertical-align: top;\n",
       "    }\n",
       "\n",
       "    .dataframe thead th {\n",
       "        text-align: right;\n",
       "    }\n",
       "</style>\n",
       "<table border=\"1\" class=\"dataframe\">\n",
       "  <thead>\n",
       "    <tr style=\"text-align: right;\">\n",
       "      <th></th>\n",
       "      <th>time</th>\n",
       "      <th>transactID</th>\n",
       "      <th>itemID</th>\n",
       "      <th>order</th>\n",
       "      <th>salesPrice</th>\n",
       "    </tr>\n",
       "  </thead>\n",
       "  <tbody>\n",
       "    <tr>\n",
       "      <th>0</th>\n",
       "      <td>2018-01-01 00:01:56</td>\n",
       "      <td>2278968</td>\n",
       "      <td>450</td>\n",
       "      <td>1</td>\n",
       "      <td>17.42</td>\n",
       "    </tr>\n",
       "    <tr>\n",
       "      <th>1</th>\n",
       "      <td>2018-01-01 00:01:56</td>\n",
       "      <td>2278968</td>\n",
       "      <td>83</td>\n",
       "      <td>1</td>\n",
       "      <td>5.19</td>\n",
       "    </tr>\n",
       "    <tr>\n",
       "      <th>2</th>\n",
       "      <td>2018-01-01 00:07:11</td>\n",
       "      <td>2255797</td>\n",
       "      <td>7851</td>\n",
       "      <td>2</td>\n",
       "      <td>20.47</td>\n",
       "    </tr>\n",
       "    <tr>\n",
       "      <th>3</th>\n",
       "      <td>2018-01-01 00:09:24</td>\n",
       "      <td>2278968</td>\n",
       "      <td>450</td>\n",
       "      <td>1</td>\n",
       "      <td>17.42</td>\n",
       "    </tr>\n",
       "    <tr>\n",
       "      <th>4</th>\n",
       "      <td>2018-01-01 00:09:24</td>\n",
       "      <td>2278968</td>\n",
       "      <td>83</td>\n",
       "      <td>1</td>\n",
       "      <td>5.19</td>\n",
       "    </tr>\n",
       "  </tbody>\n",
       "</table>\n",
       "</div>"
      ],
      "text/plain": [
       "                  time  transactID  itemID  order  salesPrice\n",
       "0  2018-01-01 00:01:56     2278968     450      1       17.42\n",
       "1  2018-01-01 00:01:56     2278968      83      1        5.19\n",
       "2  2018-01-01 00:07:11     2255797    7851      2       20.47\n",
       "3  2018-01-01 00:09:24     2278968     450      1       17.42\n",
       "4  2018-01-01 00:09:24     2278968      83      1        5.19"
      ]
     },
     "execution_count": 4,
     "metadata": {},
     "output_type": "execute_result"
    }
   ],
   "source": [
    "orders.head()"
   ]
  },
  {
   "cell_type": "markdown",
   "metadata": {},
   "source": [
    "## Preprocessing our orders"
   ]
  },
  {
   "cell_type": "markdown",
   "metadata": {},
   "source": [
    "These cells were taken from Bruno's \"1.1-First Model\" Notebook, that can be found in this repository."
   ]
  },
  {
   "cell_type": "code",
   "execution_count": 5,
   "metadata": {},
   "outputs": [],
   "source": [
    "process_time(orders)"
   ]
  },
  {
   "cell_type": "code",
   "execution_count": 6,
   "metadata": {},
   "outputs": [],
   "source": [
    "orders = promo_detector(orders)"
   ]
  },
  {
   "cell_type": "code",
   "execution_count": 7,
   "metadata": {},
   "outputs": [
    {
     "data": {
      "text/html": [
       "<div>\n",
       "<style scoped>\n",
       "    .dataframe tbody tr th:only-of-type {\n",
       "        vertical-align: middle;\n",
       "    }\n",
       "\n",
       "    .dataframe tbody tr th {\n",
       "        vertical-align: top;\n",
       "    }\n",
       "\n",
       "    .dataframe thead th {\n",
       "        text-align: right;\n",
       "    }\n",
       "</style>\n",
       "<table border=\"1\" class=\"dataframe\">\n",
       "  <thead>\n",
       "    <tr style=\"text-align: right;\">\n",
       "      <th></th>\n",
       "      <th>time</th>\n",
       "      <th>transactID</th>\n",
       "      <th>itemID</th>\n",
       "      <th>order</th>\n",
       "      <th>salesPrice</th>\n",
       "      <th>days</th>\n",
       "      <th>days_backwards</th>\n",
       "      <th>group_backwards</th>\n",
       "      <th>salesPriceMode</th>\n",
       "      <th>promotion</th>\n",
       "    </tr>\n",
       "  </thead>\n",
       "  <tbody>\n",
       "    <tr>\n",
       "      <th>0</th>\n",
       "      <td>2018-01-01 00:01:56</td>\n",
       "      <td>2278968</td>\n",
       "      <td>450</td>\n",
       "      <td>1</td>\n",
       "      <td>17.42</td>\n",
       "      <td>1</td>\n",
       "      <td>180</td>\n",
       "      <td>13</td>\n",
       "      <td>17.42</td>\n",
       "      <td>0</td>\n",
       "    </tr>\n",
       "    <tr>\n",
       "      <th>1</th>\n",
       "      <td>2018-01-01 00:09:24</td>\n",
       "      <td>2278968</td>\n",
       "      <td>450</td>\n",
       "      <td>1</td>\n",
       "      <td>17.42</td>\n",
       "      <td>1</td>\n",
       "      <td>180</td>\n",
       "      <td>13</td>\n",
       "      <td>17.42</td>\n",
       "      <td>0</td>\n",
       "    </tr>\n",
       "    <tr>\n",
       "      <th>2</th>\n",
       "      <td>2018-01-01 00:51:59</td>\n",
       "      <td>2278968</td>\n",
       "      <td>450</td>\n",
       "      <td>1</td>\n",
       "      <td>17.42</td>\n",
       "      <td>1</td>\n",
       "      <td>180</td>\n",
       "      <td>13</td>\n",
       "      <td>17.42</td>\n",
       "      <td>0</td>\n",
       "    </tr>\n",
       "    <tr>\n",
       "      <th>3</th>\n",
       "      <td>2018-01-01 00:56:54</td>\n",
       "      <td>2278968</td>\n",
       "      <td>450</td>\n",
       "      <td>1</td>\n",
       "      <td>17.42</td>\n",
       "      <td>1</td>\n",
       "      <td>180</td>\n",
       "      <td>13</td>\n",
       "      <td>17.42</td>\n",
       "      <td>0</td>\n",
       "    </tr>\n",
       "    <tr>\n",
       "      <th>4</th>\n",
       "      <td>2018-01-15 17:48:57</td>\n",
       "      <td>78321</td>\n",
       "      <td>450</td>\n",
       "      <td>1</td>\n",
       "      <td>17.42</td>\n",
       "      <td>15</td>\n",
       "      <td>166</td>\n",
       "      <td>12</td>\n",
       "      <td>17.42</td>\n",
       "      <td>0</td>\n",
       "    </tr>\n",
       "    <tr>\n",
       "      <th>...</th>\n",
       "      <td>...</td>\n",
       "      <td>...</td>\n",
       "      <td>...</td>\n",
       "      <td>...</td>\n",
       "      <td>...</td>\n",
       "      <td>...</td>\n",
       "      <td>...</td>\n",
       "      <td>...</td>\n",
       "      <td>...</td>\n",
       "      <td>...</td>\n",
       "    </tr>\n",
       "    <tr>\n",
       "      <th>2181950</th>\n",
       "      <td>2018-06-29 17:39:11</td>\n",
       "      <td>2030864</td>\n",
       "      <td>4088</td>\n",
       "      <td>1</td>\n",
       "      <td>58.81</td>\n",
       "      <td>180</td>\n",
       "      <td>1</td>\n",
       "      <td>1</td>\n",
       "      <td>58.81</td>\n",
       "      <td>0</td>\n",
       "    </tr>\n",
       "    <tr>\n",
       "      <th>2181951</th>\n",
       "      <td>2018-06-29 17:45:06</td>\n",
       "      <td>2289715</td>\n",
       "      <td>7176</td>\n",
       "      <td>1</td>\n",
       "      <td>2.26</td>\n",
       "      <td>180</td>\n",
       "      <td>1</td>\n",
       "      <td>1</td>\n",
       "      <td>2.26</td>\n",
       "      <td>0</td>\n",
       "    </tr>\n",
       "    <tr>\n",
       "      <th>2181952</th>\n",
       "      <td>2018-06-29 21:34:18</td>\n",
       "      <td>2039889</td>\n",
       "      <td>6427</td>\n",
       "      <td>1</td>\n",
       "      <td>2.07</td>\n",
       "      <td>180</td>\n",
       "      <td>1</td>\n",
       "      <td>1</td>\n",
       "      <td>2.07</td>\n",
       "      <td>0</td>\n",
       "    </tr>\n",
       "    <tr>\n",
       "      <th>2181953</th>\n",
       "      <td>2018-06-29 22:15:58</td>\n",
       "      <td>2260216</td>\n",
       "      <td>8604</td>\n",
       "      <td>2</td>\n",
       "      <td>22.36</td>\n",
       "      <td>180</td>\n",
       "      <td>1</td>\n",
       "      <td>1</td>\n",
       "      <td>22.36</td>\n",
       "      <td>0</td>\n",
       "    </tr>\n",
       "    <tr>\n",
       "      <th>2181954</th>\n",
       "      <td>2018-06-29 23:01:54</td>\n",
       "      <td>2267027</td>\n",
       "      <td>9796</td>\n",
       "      <td>1</td>\n",
       "      <td>159.82</td>\n",
       "      <td>180</td>\n",
       "      <td>1</td>\n",
       "      <td>1</td>\n",
       "      <td>159.82</td>\n",
       "      <td>0</td>\n",
       "    </tr>\n",
       "  </tbody>\n",
       "</table>\n",
       "<p>2181955 rows × 10 columns</p>\n",
       "</div>"
      ],
      "text/plain": [
       "                       time  transactID  itemID  order  salesPrice  days  \\\n",
       "0       2018-01-01 00:01:56     2278968     450      1       17.42     1   \n",
       "1       2018-01-01 00:09:24     2278968     450      1       17.42     1   \n",
       "2       2018-01-01 00:51:59     2278968     450      1       17.42     1   \n",
       "3       2018-01-01 00:56:54     2278968     450      1       17.42     1   \n",
       "4       2018-01-15 17:48:57       78321     450      1       17.42    15   \n",
       "...                     ...         ...     ...    ...         ...   ...   \n",
       "2181950 2018-06-29 17:39:11     2030864    4088      1       58.81   180   \n",
       "2181951 2018-06-29 17:45:06     2289715    7176      1        2.26   180   \n",
       "2181952 2018-06-29 21:34:18     2039889    6427      1        2.07   180   \n",
       "2181953 2018-06-29 22:15:58     2260216    8604      2       22.36   180   \n",
       "2181954 2018-06-29 23:01:54     2267027    9796      1      159.82   180   \n",
       "\n",
       "         days_backwards  group_backwards  salesPriceMode  promotion  \n",
       "0                   180               13           17.42          0  \n",
       "1                   180               13           17.42          0  \n",
       "2                   180               13           17.42          0  \n",
       "3                   180               13           17.42          0  \n",
       "4                   166               12           17.42          0  \n",
       "...                 ...              ...             ...        ...  \n",
       "2181950               1                1           58.81          0  \n",
       "2181951               1                1            2.26          0  \n",
       "2181952               1                1            2.07          0  \n",
       "2181953               1                1           22.36          0  \n",
       "2181954               1                1          159.82          0  \n",
       "\n",
       "[2181955 rows x 10 columns]"
      ]
     },
     "execution_count": 7,
     "metadata": {},
     "output_type": "execute_result"
    }
   ],
   "source": [
    "orders"
   ]
  },
  {
   "cell_type": "markdown",
   "metadata": {},
   "source": [
    "## Working with time!"
   ]
  },
  {
   "cell_type": "code",
   "execution_count": 8,
   "metadata": {},
   "outputs": [],
   "source": [
    "# Converting our time column to datetime data type...\n",
    "orders['time'] = pd.to_datetime(orders['time'])"
   ]
  },
  {
   "cell_type": "markdown",
   "metadata": {},
   "source": [
    "### Promotion orders' dates"
   ]
  },
  {
   "cell_type": "code",
   "execution_count": 9,
   "metadata": {},
   "outputs": [],
   "source": [
    "orders_on_sale = orders.loc[orders['promotion'] == 1]\n",
    "sale_dates = orders_on_sale['time'].dt.date.value_counts().sort_index()"
   ]
  },
  {
   "cell_type": "markdown",
   "metadata": {},
   "source": [
    "### Not promotion orders' dates"
   ]
  },
  {
   "cell_type": "code",
   "execution_count": 10,
   "metadata": {},
   "outputs": [],
   "source": [
    "orders_not_on_sale = orders.loc[orders['promotion'] == 0]\n",
    "not_sale_dates = orders_not_on_sale['time'].dt.date.value_counts().sort_index()"
   ]
  },
  {
   "cell_type": "markdown",
   "metadata": {},
   "source": [
    "### All orders' dates"
   ]
  },
  {
   "cell_type": "code",
   "execution_count": 11,
   "metadata": {},
   "outputs": [],
   "source": [
    "all_orders = orders\n",
    "all_sales = all_orders['time'].dt.date.value_counts().sort_index()"
   ]
  },
  {
   "cell_type": "code",
   "execution_count": 12,
   "metadata": {},
   "outputs": [],
   "source": [
    "x_promo = sale_dates.index.values\n",
    "y_promo= sale_dates.values\n",
    "x_not_promo = not_sale_dates.index.values\n",
    "y_not_promo = not_sale_dates.values\n",
    "x_all = all_sales.index.values\n",
    "y_all = all_sales.values"
   ]
  },
  {
   "cell_type": "markdown",
   "metadata": {},
   "source": [
    "## Plot time!"
   ]
  },
  {
   "cell_type": "markdown",
   "metadata": {},
   "source": [
    "### Amount of orders of on sale items by date"
   ]
  },
  {
   "cell_type": "code",
   "execution_count": 13,
   "metadata": {
    "scrolled": false
   },
   "outputs": [
    {
     "data": {
      "text/plain": [
       "<matplotlib.legend.Legend at 0x7fc30d2b4790>"
      ]
     },
     "execution_count": 13,
     "metadata": {},
     "output_type": "execute_result"
    },
    {
     "data": {
      "image/png": "[encoded data removed]",
      "text/plain": [
       "<Figure size 2160x576 with 1 Axes>"
      ]
     },
     "metadata": {},
     "output_type": "display_data"
    }
   ],
   "source": [
    "plt.bar(x_promo, y_promo, label=\"On Sale Orders\")\n",
    "plt.title('Amount of orders of discounted items by date')\n",
    "plt.legend()"
   ]
  },
  {
   "cell_type": "markdown",
   "metadata": {},
   "source": [
    "### Amount of orders of items not on sale by date"
   ]
  },
  {
   "cell_type": "code",
   "execution_count": 14,
   "metadata": {},
   "outputs": [
    {
     "data": {
      "text/plain": [
       "<matplotlib.legend.Legend at 0x7fc30ca36a60>"
      ]
     },
     "execution_count": 14,
     "metadata": {},
     "output_type": "execute_result"
    },
    {
     "data": {
      "image/png": "[encoded data removed]",
      "text/plain": [
       "<Figure size 2160x576 with 1 Axes>"
      ]
     },
     "metadata": {},
     "output_type": "display_data"
    }
   ],
   "source": [
    "plt.bar(x_not_promo, y_not_promo, color='r', label=\"Usual Price Orders\")\n",
    "plt.title('Amount of orders of not discounted items by date')\n",
    "plt.legend()"
   ]
  },
  {
   "cell_type": "markdown",
   "metadata": {},
   "source": [
    "### Comparisson between the volume of orders of discounted and not discounted items"
   ]
  },
  {
   "cell_type": "code",
   "execution_count": 15,
   "metadata": {},
   "outputs": [
    {
     "data": {
      "image/png": "[encoded data removed]",
      "text/plain": [
       "<Figure size 2160x576 with 1 Axes>"
      ]
     },
     "metadata": {},
     "output_type": "display_data"
    }
   ],
   "source": [
    "\n",
    "plt.bar(x_not_promo, y_not_promo, color='r', label='Usual Price Orders')\n",
    "plt.bar(x_promo, y_promo, color='b', label='On Sale Orders')\n",
    "plt.legend()\n",
    "plt.title(\"Comparisson between the volume of orders of discounted and not discounted items\")\n",
    "plt.show()"
   ]
  },
  {
   "cell_type": "markdown",
   "metadata": {},
   "source": [
    "### How much of the total volume of orders are represented by discounted items?"
   ]
  },
  {
   "cell_type": "code",
   "execution_count": 16,
   "metadata": {
    "scrolled": false
   },
   "outputs": [
    {
     "data": {
      "image/png": "[encoded data removed]",
      "text/plain": [
       "<Figure size 2160x576 with 1 Axes>"
      ]
     },
     "metadata": {},
     "output_type": "display_data"
    }
   ],
   "source": [
    "plt.bar(x_all, y_all, color='g', label=\"All Orders\")\n",
    "plt.bar(x_promo, y_promo, color='b', label=\"On Sale Orders\")\n",
    "plt.title(\"How much of the total volume of orders are represented by discounted items?\")\n",
    "plt.legend()\n",
    "plt.show()"
   ]
  },
  {
   "cell_type": "markdown",
   "metadata": {},
   "source": [
    "## Days with the biggest order volume"
   ]
  },
  {
   "cell_type": "code",
   "execution_count": 17,
   "metadata": {},
   "outputs": [],
   "source": [
    "TOP_SIZE = 10"
   ]
  },
  {
   "cell_type": "code",
   "execution_count": 18,
   "metadata": {},
   "outputs": [
    {
     "name": "stdout",
     "output_type": "stream",
     "text": [
      "2018-02-25    29925\n",
      "2018-03-07    31112\n",
      "2018-03-10    30376\n",
      "2018-03-11    23060\n",
      "2018-04-29    24269\n",
      "2018-05-23    24256\n",
      "2018-06-10    24551\n",
      "2018-06-20    24535\n",
      "2018-06-23    25736\n",
      "2018-06-29    27245\n",
      "Name: time, dtype: int64 2018-04-11    3704\n",
      "2018-04-29    3731\n",
      "2018-05-13    4665\n",
      "2018-05-19    3802\n",
      "2018-05-21    4136\n",
      "2018-06-10    3579\n",
      "2018-06-21    3727\n",
      "2018-06-23    4405\n",
      "2018-06-27    4544\n",
      "2018-06-29    4293\n",
      "Name: time, dtype: int64 2018-02-25    27207\n",
      "2018-03-07    29717\n",
      "2018-03-10    29577\n",
      "2018-04-29    20538\n",
      "2018-05-01    20890\n",
      "2018-05-23    21785\n",
      "2018-06-10    20972\n",
      "2018-06-20    21908\n",
      "2018-06-23    21331\n",
      "2018-06-29    22952\n",
      "Name: time, dtype: int64\n"
     ]
    }
   ],
   "source": [
    "# Days with the biggest order volume\n",
    "highest_volume = all_orders['time'].dt.date.value_counts()[:TOP_SIZE].sort_index()\n",
    "\n",
    "# Days with the highest order volume of ITEMS ON SALE\n",
    "discounts_highest_volume = orders_on_sale['time'].dt.date.value_counts()[:TOP_SIZE].sort_index()\n",
    "\n",
    "# Days with the hightest order volume of ITEMS NOT ON SALE\n",
    "not_discounts_highest_volume = orders_not_on_sale['time'].dt.date.value_counts()[:TOP_SIZE].sort_index()\n",
    "print(highest_volume, discounts_highest_volume, not_discounts_highest_volume)"
   ]
  }
 ],
 "metadata": {
  "kernelspec": {
   "display_name": "Python 3.8.1 64-bit",
   "language": "python",
   "name": "python38164bitb3ebfd1fa0594a1c9d5c617333c2c1a4"
  },
  "language_info": {
   "codemirror_mode": {
    "name": "ipython",
    "version": 3
   },
   "file_extension": ".py",
   "mimetype": "text/x-python",
   "name": "python",
   "nbconvert_exporter": "python",
   "pygments_lexer": "ipython3",
   "version": "3.8.2"
  }
 },
 "nbformat": 4,
 "nbformat_minor": 4
}
