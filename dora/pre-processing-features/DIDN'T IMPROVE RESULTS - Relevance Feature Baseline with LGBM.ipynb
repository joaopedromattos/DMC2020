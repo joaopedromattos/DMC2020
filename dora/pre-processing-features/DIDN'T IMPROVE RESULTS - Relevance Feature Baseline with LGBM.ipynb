{
 "cells": [
  {
   "cell_type": "markdown",
   "metadata": {},
   "source": [
    "# Item importance evaluation\n",
    "This notebook aims to find out the importance of each item in our dataset, so based on the infos we (might) find out, we may direct our efforts to an especific model..."
   ]
  },
  {
   "cell_type": "code",
   "execution_count": 49,
   "metadata": {},
   "outputs": [
    {
     "name": "stdout",
     "output_type": "stream",
     "text": [
      "1.0v.zip\r\n"
     ]
    }
   ],
   "source": [
    "import numpy as np\n",
    "import pandas as pd\n",
    "from utils import *\n",
    "import seaborn as sns\n",
    "import matplotlib.pyplot as plt\n",
    "from sklearn.model_selection import train_test_split\n",
    "from sklearn.metrics import mean_squared_error as mse\n",
    "import sys\n",
    "import xgboost as xgb\n",
    "import lightgbm as lgb\n",
    "from datetime import datetime\n",
    "from catboost import CatBoost, CatBoostRegressor, Pool, cv\n",
    "plt.rcParams['figure.figsize'] = (45, 10.0) # set default size of plots\n",
    "\n",
    "NUMBER_OF_LAGS = 4\n",
    "\n",
    "sys.path.append(\"../../main/datasets/\")\n",
    "!ls  ../../main/datasets/"
   ]
  },
  {
   "cell_type": "code",
   "execution_count": 50,
   "metadata": {},
   "outputs": [
    {
     "name": "stdout",
     "output_type": "stream",
     "text": [
      "Sanity checks... (10463, 3) (10463, 8) (2181955, 5)\n"
     ]
    }
   ],
   "source": [
    "infos, items, orders = read_data(\"../../main/datasets/\")\n",
    "print(\"Sanity checks...\", infos.shape, items.shape, orders.shape)"
   ]
  },
  {
   "cell_type": "markdown",
   "metadata": {},
   "source": [
    "## Preparing our dataset"
   ]
  },
  {
   "cell_type": "code",
   "execution_count": 51,
   "metadata": {},
   "outputs": [],
   "source": [
    "# Changing our time signatures, \n",
    "# adding our promotion feature \n",
    "# and aggregating our data by weeks...\n",
    "process_time(orders)"
   ]
  },
  {
   "cell_type": "code",
   "execution_count": 52,
   "metadata": {},
   "outputs": [],
   "source": [
    "df = dataset_builder(orders, items)"
   ]
  },
  {
   "cell_type": "markdown",
   "metadata": {},
   "source": [
    "## Calculating the relevance: Enhanced approach\n",
    "We might also try to guesstimate the relevance of items based in **how many weeks a given item is sold**. The main idea behind this approach is to try to eliminate the items that are sold just a few times, but due to its' price, have a high effect on the relevance. So, products that happen to be sold fewer times, will be linearly penalized."
   ]
  },
  {
   "cell_type": "code",
   "execution_count": 53,
   "metadata": {},
   "outputs": [],
   "source": [
    "shifting = df.copy()\n",
    "\n",
    "shifting['soldUntilThisWeek'] = 0\n",
    "shifting.loc[df.orderSum > 0, 'soldUntilThisWeek'] = 1\n",
    "\n",
    "group_item_sold = shifting.groupby(['group_backwards', 'itemID']).agg({'soldUntilThisWeek':'sum'})\n",
    "\n",
    "# Taking infos from the past to the present date with shifting...\n",
    "# We'll .shift(-1) because it sorts our \"group_backwards\", \n",
    "# so doing .shift(1) would cause a HUGE dataleak.\n",
    "test = group_item_sold.groupby('itemID')[['soldUntilThisWeek']].shift(-1)\n",
    "test.sort_values(['itemID', 'group_backwards'], ascending=[True, False], inplace=True)\n",
    "test.reset_index(inplace=True)\n",
    "aux = pd.DataFrame()\n",
    "for i in range(13, 0, -1):\n",
    "    accum = test.loc[test.group_backwards >= i].groupby(['itemID'], as_index=False).agg({'soldUntilThisWeek':'sum'})\n",
    "    accum['group_backwards'] = i\n",
    "    accum['soldUntilThisWeek'] = accum['soldUntilThisWeek'] / (13 - i)\n",
    "    aux = pd.concat([aux, accum])\n",
    "    \n",
    "aux.reset_index(0, drop=True, inplace=True)\n",
    "\n",
    "new_feature = pd.merge(df, aux, left_on=['group_backwards', 'itemID'], right_on=['group_backwards', 'itemID'])\n",
    "new_feature['itemRelevance'] = new_feature['recommendedRetailPrice'] * new_feature['soldUntilThisWeek']"
   ]
  },
  {
   "cell_type": "code",
   "execution_count": 47,
   "metadata": {},
   "outputs": [],
   "source": [
    "plotting = new_feature.loc[new_feature.group_backwards == 1][['itemID', 'recommendedRetailPrice',\n",
    "                                                   'soldUntilThisWeek', 'itemRelevance']].sort_values(by=['itemRelevance'], ascending=False)"
   ]
  },
  {
   "cell_type": "code",
   "execution_count": 48,
   "metadata": {},
   "outputs": [
    {
     "data": {
      "text/html": [
       "<div>\n",
       "<style scoped>\n",
       "    .dataframe tbody tr th:only-of-type {\n",
       "        vertical-align: middle;\n",
       "    }\n",
       "\n",
       "    .dataframe tbody tr th {\n",
       "        vertical-align: top;\n",
       "    }\n",
       "\n",
       "    .dataframe thead th {\n",
       "        text-align: right;\n",
       "    }\n",
       "</style>\n",
       "<table border=\"1\" class=\"dataframe\">\n",
       "  <thead>\n",
       "    <tr style=\"text-align: right;\">\n",
       "      <th></th>\n",
       "      <th>itemID</th>\n",
       "      <th>recommendedRetailPrice</th>\n",
       "      <th>soldUntilThisWeek</th>\n",
       "      <th>itemRelevance</th>\n",
       "    </tr>\n",
       "  </thead>\n",
       "  <tbody>\n",
       "    <tr>\n",
       "      <th>126335</th>\n",
       "      <td>780</td>\n",
       "      <td>5306.70</td>\n",
       "      <td>0.333333</td>\n",
       "      <td>1768.900</td>\n",
       "    </tr>\n",
       "    <tr>\n",
       "      <th>134309</th>\n",
       "      <td>8754</td>\n",
       "      <td>2902.50</td>\n",
       "      <td>0.583333</td>\n",
       "      <td>1693.125</td>\n",
       "    </tr>\n",
       "    <tr>\n",
       "      <th>126428</th>\n",
       "      <td>873</td>\n",
       "      <td>3088.97</td>\n",
       "      <td>0.500000</td>\n",
       "      <td>1544.485</td>\n",
       "    </tr>\n",
       "    <tr>\n",
       "      <th>134339</th>\n",
       "      <td>8784</td>\n",
       "      <td>2849.00</td>\n",
       "      <td>0.500000</td>\n",
       "      <td>1424.500</td>\n",
       "    </tr>\n",
       "    <tr>\n",
       "      <th>135615</th>\n",
       "      <td>10060</td>\n",
       "      <td>4189.50</td>\n",
       "      <td>0.333333</td>\n",
       "      <td>1396.500</td>\n",
       "    </tr>\n",
       "    <tr>\n",
       "      <th>...</th>\n",
       "      <td>...</td>\n",
       "      <td>...</td>\n",
       "      <td>...</td>\n",
       "      <td>...</td>\n",
       "    </tr>\n",
       "    <tr>\n",
       "      <th>129728</th>\n",
       "      <td>4173</td>\n",
       "      <td>8.75</td>\n",
       "      <td>0.000000</td>\n",
       "      <td>0.000</td>\n",
       "    </tr>\n",
       "    <tr>\n",
       "      <th>134806</th>\n",
       "      <td>9251</td>\n",
       "      <td>214.27</td>\n",
       "      <td>0.000000</td>\n",
       "      <td>0.000</td>\n",
       "    </tr>\n",
       "    <tr>\n",
       "      <th>134805</th>\n",
       "      <td>9250</td>\n",
       "      <td>133.31</td>\n",
       "      <td>0.000000</td>\n",
       "      <td>0.000</td>\n",
       "    </tr>\n",
       "    <tr>\n",
       "      <th>134804</th>\n",
       "      <td>9249</td>\n",
       "      <td>106.14</td>\n",
       "      <td>0.000000</td>\n",
       "      <td>0.000</td>\n",
       "    </tr>\n",
       "    <tr>\n",
       "      <th>131998</th>\n",
       "      <td>6443</td>\n",
       "      <td>9.16</td>\n",
       "      <td>0.000000</td>\n",
       "      <td>0.000</td>\n",
       "    </tr>\n",
       "  </tbody>\n",
       "</table>\n",
       "<p>10463 rows × 4 columns</p>\n",
       "</div>"
      ],
      "text/plain": [
       "        itemID  recommendedRetailPrice  soldUntilThisWeek  itemRelevance\n",
       "126335     780                 5306.70           0.333333       1768.900\n",
       "134309    8754                 2902.50           0.583333       1693.125\n",
       "126428     873                 3088.97           0.500000       1544.485\n",
       "134339    8784                 2849.00           0.500000       1424.500\n",
       "135615   10060                 4189.50           0.333333       1396.500\n",
       "...        ...                     ...                ...            ...\n",
       "129728    4173                    8.75           0.000000          0.000\n",
       "134806    9251                  214.27           0.000000          0.000\n",
       "134805    9250                  133.31           0.000000          0.000\n",
       "134804    9249                  106.14           0.000000          0.000\n",
       "131998    6443                    9.16           0.000000          0.000\n",
       "\n",
       "[10463 rows x 4 columns]"
      ]
     },
     "execution_count": 48,
     "metadata": {},
     "output_type": "execute_result"
    }
   ],
   "source": [
    "plotting"
   ]
  },
  {
   "cell_type": "code",
   "execution_count": 34,
   "metadata": {},
   "outputs": [
    {
     "data": {
      "text/plain": [
       "[<matplotlib.lines.Line2D at 0x7f4ab9b67910>]"
      ]
     },
     "execution_count": 34,
     "metadata": {},
     "output_type": "execute_result"
    },
    {
     "data": {
      "image/png": "[encoded data removed]",
      "text/plain": [
       "<Figure size 3240x720 with 1 Axes>"
      ]
     },
     "metadata": {},
     "output_type": "display_data"
    }
   ],
   "source": [
    "relevance_values = (plotting['itemRelevance'] / plotting['itemRelevance'].sum(\n",
    ")).sort_values(ascending=False, ignore_index=True).cumsum()\n",
    "plt.plot(relevance_values)"
   ]
  }
 ],
 "metadata": {
  "kernelspec": {
   "display_name": "Python 3.8.1 64-bit",
   "language": "python",
   "name": "python38164bitb3ebfd1fa0594a1c9d5c617333c2c1a4"
  },
  "language_info": {
   "codemirror_mode": {
    "name": "ipython",
    "version": 3
   },
   "file_extension": ".py",
   "mimetype": "text/x-python",
   "name": "python",
   "nbconvert_exporter": "python",
   "pygments_lexer": "ipython3",
   "version": "3.8.3"
  }
 },
 "nbformat": 4,
 "nbformat_minor": 4
}
